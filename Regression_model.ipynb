{
  "nbformat": 4,
  "nbformat_minor": 0,
  "metadata": {
    "colab": {
      "name": "Regression_model.ipynb",
      "provenance": [],
      "collapsed_sections": [
        "b7o-q2VoVDo3",
        "MwldlJxa_Wa2",
        "H5HUsrWJ_-QZ",
        "RqdQKgvCAeIt",
        "cNXrc5fhFMY4"
      ]
    },
    "kernelspec": {
      "display_name": "Python 3",
      "language": "python",
      "name": "python3"
    },
    "language_info": {
      "codemirror_mode": {
        "name": "ipython",
        "version": 3
      },
      "file_extension": ".py",
      "mimetype": "text/x-python",
      "name": "python",
      "nbconvert_exporter": "python",
      "pygments_lexer": "ipython3",
      "version": "3.7.6-final"
    }
  },
  "cells": [
    {
      "cell_type": "markdown",
      "metadata": {
        "id": "QSEuFqdhVDmr"
      },
      "source": [
        "\n",
        "# <center>Sendy Logistics</center>\n",
        "\n",
        "Sendy is a business-to-business platform established in 2014, to enable businesses of all types and sizes to transport goods more efficiently across East Africa.\n",
        "\n",
        "The company is headquartered in Kenya with a team of more than 100 staff, focused on building practical solutions for Africa’s dynamic transportation needs, from developing apps and web solutions, to providing dedicated support for goods on the move.\n",
        "\n",
        "Currently operating in Kenya and Uganda, Sendy is expanding to Nigeria and Tanzania, to enable thousands more businesses to move volumes of goods easily, anywhere, at any time. Sendy aggregates a pool of delivery options from 28 ton, 14 ton, 5 ton trucks to pick up trucks, vans and motorcycles.\n",
        "\n",
        "<p><img src=\"./image/Sendy-delivery-1200x500.jpg\" alt=\"Sendy Logistics Logo\"></p>\n",
        "\n",
        "\n",
        "Sendy Logistics has realised that data is a critical component that can aid in building more efficient, affordable and accessible solutions as such they are interested in using data to predict the estimated time of delivery of orders, from the point of driver pickup to the point of arrival at final destination. \n",
        "\n",
        "The solution will help Sendy enhance customer communication and the reliability of its service; which will ultimately improve customer experience. In addition, the solution will enable Sendy to realise cost savings, and ultimately reduce the cost of doing business through improved resource management and planning for order scheduling.\n",
        "\n",
        "To help Sendy achieve this goal we will build a predictive model that will predict estimated time of delivery of orders by looking at all factors that could influence the time from pick up to arrival of an order such as distance, date, the rider delivering the order etc."
      ]
    },
    {
      "cell_type": "markdown",
      "metadata": {
        "id": "xeYOiO5zVDmt"
      },
      "source": [
        "## Importing the libraries ##\n",
        "- We going to use the numpy libraries to use numpy arrays \n",
        "- We going to use pandas to load, merge  and modify our dataset\n",
        "- matplotlib and seaborn libraries are going to be used to plot the model "
      ]
    },
    {
      "cell_type": "code",
      "metadata": {
        "id": "ofojqnkBVDmu"
      },
      "source": [
        "%matplotlib notebook\n",
        "import numpy as np\n",
        "import pandas as pd\n",
        "import matplotlib.pyplot as plt\n",
        "import seaborn as sns\n",
        "from mpl_toolkits.mplot3d import Axes3D\n",
        "from scipy.stats import pearsonr\n",
        "from sklearn.metrics import mean_squared_error\n",
        "from sklearn.model_selection import train_test_split\n",
        "from sklearn.linear_model import LinearRegression\n",
        "#from catboost import CatBoostRegressor\n",
        "from sklearn.ensemble import RandomForestRegressor\n",
        "from sklearn.tree import DecisionTreeRegressor\n",
        "from sklearn.preprocessing import StandardScaler\n",
        "from sklearn.svm import SVR\n",
        "from sklearn.preprocessing import PolynomialFeatures\n",
        "from sklearn.ensemble import GradientBoostingRegressor"
      ],
      "execution_count": 1,
      "outputs": []
    },
    {
      "cell_type": "markdown",
      "metadata": {
        "id": "8nF9J-OWVDmz"
      },
      "source": [
        "## Loading the dataset ##\n",
        "\n",
        "- **Pandas** is used to load the datafiles into our workspace\n",
        "- four datafiles were loaded named Riders, Test,Train as well as VariableDefinitions\n",
        "\n",
        "- Train.csv contains  Sendy historic data of orders with 28 features, this is the data we will use to train our model\n",
        "- Test.csv contains  Sendy historic data of orders with 24 features, this is the data we will use to test our model\n",
        "- Riders.csv contains information of riders that make the deliveries\n"
      ]
    },
    {
      "cell_type": "code",
      "metadata": {
        "id": "gsWHYIHPVDm0",
        "tags": []
      },
      "source": [
        "riders = pd.read_csv(\"./regression data/Riders.csv\")\n",
        "train = pd.read_csv(\"./regression data/Train.csv\")\n",
        "test = pd.read_csv(\"./regression data/Test.csv\")"
      ],
      "execution_count": 2,
      "outputs": []
    },
    {
      "cell_type": "code",
      "metadata": {
        "id": "IGL-U2fpYVyV",
        "outputId": "0b67d6c5-ffd2-4c1e-dd75-0ee674ad2806",
        "colab": {
          "base_uri": "https://localhost:8080/",
          "height": 34
        }
      },
      "source": [
        "train.shape"
      ],
      "execution_count": 3,
      "outputs": [
        {
          "output_type": "execute_result",
          "data": {
            "text/plain": [
              "(21201, 29)"
            ]
          },
          "metadata": {},
          "execution_count": 3
        }
      ]
    },
    {
      "cell_type": "code",
      "metadata": {
        "id": "BR02IfTcYVuS"
      },
      "source": [
        ""
      ],
      "execution_count": null,
      "outputs": []
    },
    {
      "cell_type": "code",
      "metadata": {
        "id": "TpvNnMDNYTGR",
        "outputId": "1704d939-4d63-4280-9123-e8cdacab88ef",
        "colab": {
          "base_uri": "https://localhost:8080/",
          "height": 34
        }
      },
      "source": [
        "test.shape"
      ],
      "execution_count": 4,
      "outputs": [
        {
          "output_type": "execute_result",
          "data": {
            "text/plain": [
              "(7068, 25)"
            ]
          },
          "metadata": {},
          "execution_count": 4
        }
      ]
    },
    {
      "cell_type": "markdown",
      "metadata": {
        "id": "UWsD8MKrprDz"
      },
      "source": [
        "# Explore the data\n",
        "\n",
        "Go over the datasets to get an understanding of the features involved and how they related to each other at an exploratory level. "
      ]
    },
    {
      "cell_type": "code",
      "metadata": {
        "scrolled": true,
        "id": "VcKfuW8UprD0",
        "outputId": "4ccb8979-95ef-4c3b-d751-777ef2cba37f",
        "colab": {
          "base_uri": "https://localhost:8080/",
          "height": 195
        }
      },
      "source": [
        "# Have a view of the first 5 columns of riders datatset.\n",
        "riders.head()"
      ],
      "execution_count": 5,
      "outputs": [
        {
          "output_type": "execute_result",
          "data": {
            "text/plain": [
              "       Rider Id  No_Of_Orders   Age  Average_Rating  No_of_Ratings\n",
              "0  Rider_Id_396          2946  2298            14.0           1159\n",
              "1  Rider_Id_479           360   951            13.5            176\n",
              "2  Rider_Id_648          1746   821            14.3            466\n",
              "3  Rider_Id_753           314   980            12.5             75\n",
              "4  Rider_Id_335           536  1113            13.7            156"
            ],
            "text/html": "<div>\n<style scoped>\n    .dataframe tbody tr th:only-of-type {\n        vertical-align: middle;\n    }\n\n    .dataframe tbody tr th {\n        vertical-align: top;\n    }\n\n    .dataframe thead th {\n        text-align: right;\n    }\n</style>\n<table border=\"1\" class=\"dataframe\">\n  <thead>\n    <tr style=\"text-align: right;\">\n      <th></th>\n      <th>Rider Id</th>\n      <th>No_Of_Orders</th>\n      <th>Age</th>\n      <th>Average_Rating</th>\n      <th>No_of_Ratings</th>\n    </tr>\n  </thead>\n  <tbody>\n    <tr>\n      <th>0</th>\n      <td>Rider_Id_396</td>\n      <td>2946</td>\n      <td>2298</td>\n      <td>14.0</td>\n      <td>1159</td>\n    </tr>\n    <tr>\n      <th>1</th>\n      <td>Rider_Id_479</td>\n      <td>360</td>\n      <td>951</td>\n      <td>13.5</td>\n      <td>176</td>\n    </tr>\n    <tr>\n      <th>2</th>\n      <td>Rider_Id_648</td>\n      <td>1746</td>\n      <td>821</td>\n      <td>14.3</td>\n      <td>466</td>\n    </tr>\n    <tr>\n      <th>3</th>\n      <td>Rider_Id_753</td>\n      <td>314</td>\n      <td>980</td>\n      <td>12.5</td>\n      <td>75</td>\n    </tr>\n    <tr>\n      <th>4</th>\n      <td>Rider_Id_335</td>\n      <td>536</td>\n      <td>1113</td>\n      <td>13.7</td>\n      <td>156</td>\n    </tr>\n  </tbody>\n</table>\n</div>"
          },
          "metadata": {},
          "execution_count": 5
        }
      ]
    },
    {
      "cell_type": "code",
      "metadata": {
        "id": "u49Hy_TSprD7",
        "outputId": "2b837c35-8073-406b-df19-08b0325585b2",
        "colab": {
          "base_uri": "https://localhost:8080/",
          "height": 34
        }
      },
      "source": [
        "# Count the number of rows and columns for riders data\n",
        "riders.shape"
      ],
      "execution_count": 6,
      "outputs": [
        {
          "output_type": "execute_result",
          "data": {
            "text/plain": [
              "(960, 5)"
            ]
          },
          "metadata": {},
          "execution_count": 6
        }
      ]
    },
    {
      "cell_type": "code",
      "metadata": {
        "id": "uE7R1ScVprEA",
        "outputId": "41cc1a50-3269-4b7e-a777-3b63969ce4de",
        "colab": {
          "base_uri": "https://localhost:8080/",
          "height": 400
        }
      },
      "source": [
        "# Have a view of the first 5 columns of the train datatset.\n",
        "train.head()"
      ],
      "execution_count": 7,
      "outputs": [
        {
          "output_type": "execute_result",
          "data": {
            "text/plain": [
              "         Order No       User Id Vehicle Type  Platform Type  \\\n",
              "0   Order_No_4211   User_Id_633         Bike              3   \n",
              "1  Order_No_25375  User_Id_2285         Bike              3   \n",
              "2   Order_No_1899   User_Id_265         Bike              3   \n",
              "3   Order_No_9336  User_Id_1402         Bike              3   \n",
              "4  Order_No_27883  User_Id_1737         Bike              1   \n",
              "\n",
              "  Personal or Business  Placement - Day of Month  \\\n",
              "0             Business                         9   \n",
              "1             Personal                        12   \n",
              "2             Business                        30   \n",
              "3             Business                        15   \n",
              "4             Personal                        13   \n",
              "\n",
              "   Placement - Weekday (Mo = 1) Placement - Time  Confirmation - Day of Month  \\\n",
              "0                             5       9:35:46 AM                            9   \n",
              "1                             5      11:16:16 AM                           12   \n",
              "2                             2      12:39:25 PM                           30   \n",
              "3                             5       9:25:34 AM                           15   \n",
              "4                             1       9:55:18 AM                           13   \n",
              "\n",
              "   Confirmation - Weekday (Mo = 1)  ... Arrival at Destination - Time  \\\n",
              "0                                5  ...                   10:39:55 AM   \n",
              "1                                5  ...                   12:17:22 PM   \n",
              "2                                2  ...                    1:00:38 PM   \n",
              "3                                5  ...                   10:05:27 AM   \n",
              "4                                1  ...                   10:25:37 AM   \n",
              "\n",
              "   Distance (KM)  Temperature Precipitation in millimeters  Pickup Lat  \\\n",
              "0              4         20.4                          NaN   -1.317755   \n",
              "1             16         26.4                          NaN   -1.351453   \n",
              "2              3          NaN                          NaN   -1.308284   \n",
              "3              9         19.2                          NaN   -1.281301   \n",
              "4              9         15.4                          NaN   -1.266597   \n",
              "\n",
              "   Pickup Long Destination Lat  Destination Long      Rider Id  \\\n",
              "0    36.830370       -1.300406         36.829741  Rider_Id_432   \n",
              "1    36.899315       -1.295004         36.814358  Rider_Id_856   \n",
              "2    36.843419       -1.300921         36.828195  Rider_Id_155   \n",
              "3    36.832396       -1.257147         36.795063  Rider_Id_855   \n",
              "4    36.792118       -1.295041         36.809817  Rider_Id_770   \n",
              "\n",
              "  Time from Pickup to Arrival  \n",
              "0                         745  \n",
              "1                        1993  \n",
              "2                         455  \n",
              "3                        1341  \n",
              "4                        1214  \n",
              "\n",
              "[5 rows x 29 columns]"
            ],
            "text/html": "<div>\n<style scoped>\n    .dataframe tbody tr th:only-of-type {\n        vertical-align: middle;\n    }\n\n    .dataframe tbody tr th {\n        vertical-align: top;\n    }\n\n    .dataframe thead th {\n        text-align: right;\n    }\n</style>\n<table border=\"1\" class=\"dataframe\">\n  <thead>\n    <tr style=\"text-align: right;\">\n      <th></th>\n      <th>Order No</th>\n      <th>User Id</th>\n      <th>Vehicle Type</th>\n      <th>Platform Type</th>\n      <th>Personal or Business</th>\n      <th>Placement - Day of Month</th>\n      <th>Placement - Weekday (Mo = 1)</th>\n      <th>Placement - Time</th>\n      <th>Confirmation - Day of Month</th>\n      <th>Confirmation - Weekday (Mo = 1)</th>\n      <th>...</th>\n      <th>Arrival at Destination - Time</th>\n      <th>Distance (KM)</th>\n      <th>Temperature</th>\n      <th>Precipitation in millimeters</th>\n      <th>Pickup Lat</th>\n      <th>Pickup Long</th>\n      <th>Destination Lat</th>\n      <th>Destination Long</th>\n      <th>Rider Id</th>\n      <th>Time from Pickup to Arrival</th>\n    </tr>\n  </thead>\n  <tbody>\n    <tr>\n      <th>0</th>\n      <td>Order_No_4211</td>\n      <td>User_Id_633</td>\n      <td>Bike</td>\n      <td>3</td>\n      <td>Business</td>\n      <td>9</td>\n      <td>5</td>\n      <td>9:35:46 AM</td>\n      <td>9</td>\n      <td>5</td>\n      <td>...</td>\n      <td>10:39:55 AM</td>\n      <td>4</td>\n      <td>20.4</td>\n      <td>NaN</td>\n      <td>-1.317755</td>\n      <td>36.830370</td>\n      <td>-1.300406</td>\n      <td>36.829741</td>\n      <td>Rider_Id_432</td>\n      <td>745</td>\n    </tr>\n    <tr>\n      <th>1</th>\n      <td>Order_No_25375</td>\n      <td>User_Id_2285</td>\n      <td>Bike</td>\n      <td>3</td>\n      <td>Personal</td>\n      <td>12</td>\n      <td>5</td>\n      <td>11:16:16 AM</td>\n      <td>12</td>\n      <td>5</td>\n      <td>...</td>\n      <td>12:17:22 PM</td>\n      <td>16</td>\n      <td>26.4</td>\n      <td>NaN</td>\n      <td>-1.351453</td>\n      <td>36.899315</td>\n      <td>-1.295004</td>\n      <td>36.814358</td>\n      <td>Rider_Id_856</td>\n      <td>1993</td>\n    </tr>\n    <tr>\n      <th>2</th>\n      <td>Order_No_1899</td>\n      <td>User_Id_265</td>\n      <td>Bike</td>\n      <td>3</td>\n      <td>Business</td>\n      <td>30</td>\n      <td>2</td>\n      <td>12:39:25 PM</td>\n      <td>30</td>\n      <td>2</td>\n      <td>...</td>\n      <td>1:00:38 PM</td>\n      <td>3</td>\n      <td>NaN</td>\n      <td>NaN</td>\n      <td>-1.308284</td>\n      <td>36.843419</td>\n      <td>-1.300921</td>\n      <td>36.828195</td>\n      <td>Rider_Id_155</td>\n      <td>455</td>\n    </tr>\n    <tr>\n      <th>3</th>\n      <td>Order_No_9336</td>\n      <td>User_Id_1402</td>\n      <td>Bike</td>\n      <td>3</td>\n      <td>Business</td>\n      <td>15</td>\n      <td>5</td>\n      <td>9:25:34 AM</td>\n      <td>15</td>\n      <td>5</td>\n      <td>...</td>\n      <td>10:05:27 AM</td>\n      <td>9</td>\n      <td>19.2</td>\n      <td>NaN</td>\n      <td>-1.281301</td>\n      <td>36.832396</td>\n      <td>-1.257147</td>\n      <td>36.795063</td>\n      <td>Rider_Id_855</td>\n      <td>1341</td>\n    </tr>\n    <tr>\n      <th>4</th>\n      <td>Order_No_27883</td>\n      <td>User_Id_1737</td>\n      <td>Bike</td>\n      <td>1</td>\n      <td>Personal</td>\n      <td>13</td>\n      <td>1</td>\n      <td>9:55:18 AM</td>\n      <td>13</td>\n      <td>1</td>\n      <td>...</td>\n      <td>10:25:37 AM</td>\n      <td>9</td>\n      <td>15.4</td>\n      <td>NaN</td>\n      <td>-1.266597</td>\n      <td>36.792118</td>\n      <td>-1.295041</td>\n      <td>36.809817</td>\n      <td>Rider_Id_770</td>\n      <td>1214</td>\n    </tr>\n  </tbody>\n</table>\n<p>5 rows × 29 columns</p>\n</div>"
          },
          "metadata": {},
          "execution_count": 7
        }
      ]
    },
    {
      "cell_type": "code",
      "metadata": {
        "id": "NVxCCbFrprEE",
        "outputId": "ad580d73-649e-4dda-b974-77327e5049d9",
        "colab": {
          "base_uri": "https://localhost:8080/",
          "height": 34
        }
      },
      "source": [
        "# Count the number of rows and columns for train data\n",
        "train.shape"
      ],
      "execution_count": 8,
      "outputs": [
        {
          "output_type": "execute_result",
          "data": {
            "text/plain": [
              "(21201, 29)"
            ]
          },
          "metadata": {},
          "execution_count": 8
        }
      ]
    },
    {
      "cell_type": "code",
      "metadata": {
        "scrolled": true,
        "id": "fxN9jKNqprEJ",
        "outputId": "d80e18a9-0dda-4144-c02c-6a601662ebd8",
        "colab": {
          "base_uri": "https://localhost:8080/",
          "height": 400
        }
      },
      "source": [
        "# Have a view of the first 5 columns of test datatset.\n",
        "test.head()"
      ],
      "execution_count": 9,
      "outputs": [
        {
          "output_type": "execute_result",
          "data": {
            "text/plain": [
              "         Order No       User Id Vehicle Type  Platform Type  \\\n",
              "0  Order_No_19248  User_Id_3355         Bike              3   \n",
              "1  Order_No_12736  User_Id_3647         Bike              3   \n",
              "2    Order_No_768  User_Id_2154         Bike              3   \n",
              "3  Order_No_15332  User_Id_2910         Bike              3   \n",
              "4  Order_No_21373  User_Id_1205         Bike              3   \n",
              "\n",
              "  Personal or Business  Placement - Day of Month  \\\n",
              "0             Business                        27   \n",
              "1             Business                        17   \n",
              "2             Business                        27   \n",
              "3             Business                        17   \n",
              "4             Business                        11   \n",
              "\n",
              "   Placement - Weekday (Mo = 1) Placement - Time  Confirmation - Day of Month  \\\n",
              "0                             3       4:44:10 PM                           27   \n",
              "1                             5      12:57:35 PM                           17   \n",
              "2                             4      11:08:14 AM                           27   \n",
              "3                             1       1:51:35 PM                           17   \n",
              "4                             2      11:30:28 AM                           11   \n",
              "\n",
              "   Confirmation - Weekday (Mo = 1)  ... Pickup - Weekday (Mo = 1)  \\\n",
              "0                                3  ...                         3   \n",
              "1                                5  ...                         5   \n",
              "2                                4  ...                         4   \n",
              "3                                1  ...                         1   \n",
              "4                                2  ...                         2   \n",
              "\n",
              "   Pickup - Time  Distance (KM) Temperature  Precipitation in millimeters  \\\n",
              "0     5:06:47 PM              8         NaN                           NaN   \n",
              "1     1:25:37 PM              5         NaN                           NaN   \n",
              "2    11:57:54 AM              5        22.8                           NaN   \n",
              "3     2:16:52 PM              5        24.5                           NaN   \n",
              "4    11:56:04 AM              6        24.4                           NaN   \n",
              "\n",
              "   Pickup Lat Pickup Long  Destination Lat  Destination Long      Rider Id  \n",
              "0   -1.333275   36.870815        -1.305249         36.822390  Rider_Id_192  \n",
              "1   -1.272639   36.794723        -1.277007         36.823907  Rider_Id_868  \n",
              "2   -1.290894   36.822971        -1.276574         36.851365   Rider_Id_26  \n",
              "3   -1.290503   36.809646        -1.303382         36.790658  Rider_Id_685  \n",
              "4   -1.281081   36.814423        -1.266467         36.792161  Rider_Id_858  \n",
              "\n",
              "[5 rows x 25 columns]"
            ],
            "text/html": "<div>\n<style scoped>\n    .dataframe tbody tr th:only-of-type {\n        vertical-align: middle;\n    }\n\n    .dataframe tbody tr th {\n        vertical-align: top;\n    }\n\n    .dataframe thead th {\n        text-align: right;\n    }\n</style>\n<table border=\"1\" class=\"dataframe\">\n  <thead>\n    <tr style=\"text-align: right;\">\n      <th></th>\n      <th>Order No</th>\n      <th>User Id</th>\n      <th>Vehicle Type</th>\n      <th>Platform Type</th>\n      <th>Personal or Business</th>\n      <th>Placement - Day of Month</th>\n      <th>Placement - Weekday (Mo = 1)</th>\n      <th>Placement - Time</th>\n      <th>Confirmation - Day of Month</th>\n      <th>Confirmation - Weekday (Mo = 1)</th>\n      <th>...</th>\n      <th>Pickup - Weekday (Mo = 1)</th>\n      <th>Pickup - Time</th>\n      <th>Distance (KM)</th>\n      <th>Temperature</th>\n      <th>Precipitation in millimeters</th>\n      <th>Pickup Lat</th>\n      <th>Pickup Long</th>\n      <th>Destination Lat</th>\n      <th>Destination Long</th>\n      <th>Rider Id</th>\n    </tr>\n  </thead>\n  <tbody>\n    <tr>\n      <th>0</th>\n      <td>Order_No_19248</td>\n      <td>User_Id_3355</td>\n      <td>Bike</td>\n      <td>3</td>\n      <td>Business</td>\n      <td>27</td>\n      <td>3</td>\n      <td>4:44:10 PM</td>\n      <td>27</td>\n      <td>3</td>\n      <td>...</td>\n      <td>3</td>\n      <td>5:06:47 PM</td>\n      <td>8</td>\n      <td>NaN</td>\n      <td>NaN</td>\n      <td>-1.333275</td>\n      <td>36.870815</td>\n      <td>-1.305249</td>\n      <td>36.822390</td>\n      <td>Rider_Id_192</td>\n    </tr>\n    <tr>\n      <th>1</th>\n      <td>Order_No_12736</td>\n      <td>User_Id_3647</td>\n      <td>Bike</td>\n      <td>3</td>\n      <td>Business</td>\n      <td>17</td>\n      <td>5</td>\n      <td>12:57:35 PM</td>\n      <td>17</td>\n      <td>5</td>\n      <td>...</td>\n      <td>5</td>\n      <td>1:25:37 PM</td>\n      <td>5</td>\n      <td>NaN</td>\n      <td>NaN</td>\n      <td>-1.272639</td>\n      <td>36.794723</td>\n      <td>-1.277007</td>\n      <td>36.823907</td>\n      <td>Rider_Id_868</td>\n    </tr>\n    <tr>\n      <th>2</th>\n      <td>Order_No_768</td>\n      <td>User_Id_2154</td>\n      <td>Bike</td>\n      <td>3</td>\n      <td>Business</td>\n      <td>27</td>\n      <td>4</td>\n      <td>11:08:14 AM</td>\n      <td>27</td>\n      <td>4</td>\n      <td>...</td>\n      <td>4</td>\n      <td>11:57:54 AM</td>\n      <td>5</td>\n      <td>22.8</td>\n      <td>NaN</td>\n      <td>-1.290894</td>\n      <td>36.822971</td>\n      <td>-1.276574</td>\n      <td>36.851365</td>\n      <td>Rider_Id_26</td>\n    </tr>\n    <tr>\n      <th>3</th>\n      <td>Order_No_15332</td>\n      <td>User_Id_2910</td>\n      <td>Bike</td>\n      <td>3</td>\n      <td>Business</td>\n      <td>17</td>\n      <td>1</td>\n      <td>1:51:35 PM</td>\n      <td>17</td>\n      <td>1</td>\n      <td>...</td>\n      <td>1</td>\n      <td>2:16:52 PM</td>\n      <td>5</td>\n      <td>24.5</td>\n      <td>NaN</td>\n      <td>-1.290503</td>\n      <td>36.809646</td>\n      <td>-1.303382</td>\n      <td>36.790658</td>\n      <td>Rider_Id_685</td>\n    </tr>\n    <tr>\n      <th>4</th>\n      <td>Order_No_21373</td>\n      <td>User_Id_1205</td>\n      <td>Bike</td>\n      <td>3</td>\n      <td>Business</td>\n      <td>11</td>\n      <td>2</td>\n      <td>11:30:28 AM</td>\n      <td>11</td>\n      <td>2</td>\n      <td>...</td>\n      <td>2</td>\n      <td>11:56:04 AM</td>\n      <td>6</td>\n      <td>24.4</td>\n      <td>NaN</td>\n      <td>-1.281081</td>\n      <td>36.814423</td>\n      <td>-1.266467</td>\n      <td>36.792161</td>\n      <td>Rider_Id_858</td>\n    </tr>\n  </tbody>\n</table>\n<p>5 rows × 25 columns</p>\n</div>"
          },
          "metadata": {},
          "execution_count": 9
        }
      ]
    },
    {
      "cell_type": "code",
      "metadata": {
        "id": "ZQCMh_XPprEP",
        "outputId": "59dd9c35-555b-46f8-eaf7-82c58c9750ac",
        "colab": {
          "base_uri": "https://localhost:8080/",
          "height": 34
        }
      },
      "source": [
        "# Count the number of rows and columns for test data\n",
        "test.shape"
      ],
      "execution_count": 10,
      "outputs": [
        {
          "output_type": "execute_result",
          "data": {
            "text/plain": [
              "(7068, 25)"
            ]
          },
          "metadata": {},
          "execution_count": 10
        }
      ]
    },
    {
      "cell_type": "markdown",
      "metadata": {
        "id": "OgQY6fn-prET"
      },
      "source": [
        "#### Key takeaways:\n",
        "- The target column for modelling is the the \"Time from Pickup to Arrival\", which is rightfully in the train dataset.\n",
        "- The train dataset has four extra columns, compared to the 25 that are in the test dataset. One of the four is the target column as expected, we may have to drop the other three.\n",
        "- Riders dataset is not linked to the target variable, it will need to joined to train and test data by \"Rider Id\" column which is common in all three datasets.\n",
        "- Train dataset has most observations at 21 201, followed by train data at 7 068 then riders at 960.\n",
        "- There are missing values evident in the \"Temperature\" and \"Precipitation in millimeters\" columns, we will have to search and handle missing data. "
      ]
    },
    {
      "cell_type": "markdown",
      "metadata": {
        "id": "nfpD2iWnprEU"
      },
      "source": [
        "### Investigate the column name, datatype  and missing values in each column\n"
      ]
    },
    {
      "cell_type": "code",
      "metadata": {
        "scrolled": true,
        "id": "wRbl5ZDoprEW",
        "outputId": "56bf878d-7d2d-424e-a409-7f79dd4eb9b0",
        "colab": {
          "base_uri": "https://localhost:8080/",
          "height": 218
        }
      },
      "source": [
        "riders.info()"
      ],
      "execution_count": 11,
      "outputs": [
        {
          "output_type": "stream",
          "name": "stdout",
          "text": [
            "<class 'pandas.core.frame.DataFrame'>\nRangeIndex: 960 entries, 0 to 959\nData columns (total 5 columns):\n #   Column          Non-Null Count  Dtype  \n---  ------          --------------  -----  \n 0   Rider Id        960 non-null    object \n 1   No_Of_Orders    960 non-null    int64  \n 2   Age             960 non-null    int64  \n 3   Average_Rating  960 non-null    float64\n 4   No_of_Ratings   960 non-null    int64  \ndtypes: float64(1), int64(3), object(1)\nmemory usage: 37.6+ KB\n"
          ]
        }
      ]
    },
    {
      "cell_type": "code",
      "metadata": {
        "id": "pglTqqmeprEb",
        "outputId": "67304362-95ea-48cf-c312-d1b82275aee4",
        "colab": {
          "base_uri": "https://localhost:8080/",
          "height": 622
        }
      },
      "source": [
        "train.info()"
      ],
      "execution_count": 12,
      "outputs": [
        {
          "output_type": "stream",
          "name": "stdout",
          "text": [
            "<class 'pandas.core.frame.DataFrame'>\nRangeIndex: 21201 entries, 0 to 21200\nData columns (total 29 columns):\n #   Column                                     Non-Null Count  Dtype  \n---  ------                                     --------------  -----  \n 0   Order No                                   21201 non-null  object \n 1   User Id                                    21201 non-null  object \n 2   Vehicle Type                               21201 non-null  object \n 3   Platform Type                              21201 non-null  int64  \n 4   Personal or Business                       21201 non-null  object \n 5   Placement - Day of Month                   21201 non-null  int64  \n 6   Placement - Weekday (Mo = 1)               21201 non-null  int64  \n 7   Placement - Time                           21201 non-null  object \n 8   Confirmation - Day of Month                21201 non-null  int64  \n 9   Confirmation - Weekday (Mo = 1)            21201 non-null  int64  \n 10  Confirmation - Time                        21201 non-null  object \n 11  Arrival at Pickup - Day of Month           21201 non-null  int64  \n 12  Arrival at Pickup - Weekday (Mo = 1)       21201 non-null  int64  \n 13  Arrival at Pickup - Time                   21201 non-null  object \n 14  Pickup - Day of Month                      21201 non-null  int64  \n 15  Pickup - Weekday (Mo = 1)                  21201 non-null  int64  \n 16  Pickup - Time                              21201 non-null  object \n 17  Arrival at Destination - Day of Month      21201 non-null  int64  \n 18  Arrival at Destination - Weekday (Mo = 1)  21201 non-null  int64  \n 19  Arrival at Destination - Time              21201 non-null  object \n 20  Distance (KM)                              21201 non-null  int64  \n 21  Temperature                                16835 non-null  float64\n 22  Precipitation in millimeters               552 non-null    float64\n 23  Pickup Lat                                 21201 non-null  float64\n 24  Pickup Long                                21201 non-null  float64\n 25  Destination Lat                            21201 non-null  float64\n 26  Destination Long                           21201 non-null  float64\n 27  Rider Id                                   21201 non-null  object \n 28  Time from Pickup to Arrival                21201 non-null  int64  \ndtypes: float64(6), int64(13), object(10)\nmemory usage: 4.7+ MB\n"
          ]
        }
      ]
    },
    {
      "cell_type": "code",
      "metadata": {
        "id": "FKUaMqxmprEi",
        "outputId": "5ac66860-bd80-4c28-96ba-325956f82c2f",
        "colab": {
          "base_uri": "https://localhost:8080/",
          "height": 554
        }
      },
      "source": [
        "test.info()"
      ],
      "execution_count": 13,
      "outputs": [
        {
          "output_type": "stream",
          "name": "stdout",
          "text": [
            "<class 'pandas.core.frame.DataFrame'>\nRangeIndex: 7068 entries, 0 to 7067\nData columns (total 25 columns):\n #   Column                                Non-Null Count  Dtype  \n---  ------                                --------------  -----  \n 0   Order No                              7068 non-null   object \n 1   User Id                               7068 non-null   object \n 2   Vehicle Type                          7068 non-null   object \n 3   Platform Type                         7068 non-null   int64  \n 4   Personal or Business                  7068 non-null   object \n 5   Placement - Day of Month              7068 non-null   int64  \n 6   Placement - Weekday (Mo = 1)          7068 non-null   int64  \n 7   Placement - Time                      7068 non-null   object \n 8   Confirmation - Day of Month           7068 non-null   int64  \n 9   Confirmation - Weekday (Mo = 1)       7068 non-null   int64  \n 10  Confirmation - Time                   7068 non-null   object \n 11  Arrival at Pickup - Day of Month      7068 non-null   int64  \n 12  Arrival at Pickup - Weekday (Mo = 1)  7068 non-null   int64  \n 13  Arrival at Pickup - Time              7068 non-null   object \n 14  Pickup - Day of Month                 7068 non-null   int64  \n 15  Pickup - Weekday (Mo = 1)             7068 non-null   int64  \n 16  Pickup - Time                         7068 non-null   object \n 17  Distance (KM)                         7068 non-null   int64  \n 18  Temperature                           5631 non-null   float64\n 19  Precipitation in millimeters          199 non-null    float64\n 20  Pickup Lat                            7068 non-null   float64\n 21  Pickup Long                           7068 non-null   float64\n 22  Destination Lat                       7068 non-null   float64\n 23  Destination Long                      7068 non-null   float64\n 24  Rider Id                              7068 non-null   object \ndtypes: float64(6), int64(10), object(9)\nmemory usage: 1.3+ MB\n"
          ]
        }
      ]
    },
    {
      "cell_type": "markdown",
      "metadata": {
        "id": "nr3ucLNdprEm"
      },
      "source": [
        "#### Key notes:\n",
        "- The riders data is in good standing. \n",
        "- Additional columns in the train dataset; relative to test data, are \"Arrival at Destination - Day of Month\", \"Arrival at Destination - Weekday (Mo = 1)\", \"Arrival at Destination - Time\" and traget variable \"Time from Pickup to Arrival\".\n",
        "- As indicated, it is only the \"Temperature\" and \"Precipitation in millimeters\" columns that have missing data. These will need to be handled in the cleaning process.\n",
        "- Some columns are in \"object\" datatype, we will need to keep this in mind when choosing our variables for regression models."
      ]
    },
    {
      "cell_type": "markdown",
      "metadata": {
        "id": "hBqgOOTHprEm"
      },
      "source": [
        "### Check descriptive statistics of the datasets"
      ]
    },
    {
      "cell_type": "code",
      "metadata": {
        "id": "a6Afz87xprEn",
        "outputId": "a1bfb60e-ba5d-4890-a926-e7bc7c4d846f",
        "colab": {
          "base_uri": "https://localhost:8080/",
          "height": 166
        }
      },
      "source": [
        "riders.describe().transpose()"
      ],
      "execution_count": 14,
      "outputs": [
        {
          "output_type": "execute_result",
          "data": {
            "text/plain": [
              "                count         mean          std   min     25%     50%  \\\n",
              "No_Of_Orders    960.0  1864.851042  1880.337785   2.0  261.75  1475.5   \n",
              "Age             960.0  1200.234375   810.930171  96.0  478.25  1021.0   \n",
              "Average_Rating  960.0    13.412604     2.675794   0.0   13.50    14.0   \n",
              "No_of_Ratings   960.0   427.983333   486.957931   0.0   30.00   223.0   \n",
              "\n",
              "                    75%     max  \n",
              "No_Of_Orders    2847.25  9756.0  \n",
              "Age             1891.50  3764.0  \n",
              "Average_Rating    14.30    15.2  \n",
              "No_of_Ratings    678.75  2298.0  "
            ],
            "text/html": "<div>\n<style scoped>\n    .dataframe tbody tr th:only-of-type {\n        vertical-align: middle;\n    }\n\n    .dataframe tbody tr th {\n        vertical-align: top;\n    }\n\n    .dataframe thead th {\n        text-align: right;\n    }\n</style>\n<table border=\"1\" class=\"dataframe\">\n  <thead>\n    <tr style=\"text-align: right;\">\n      <th></th>\n      <th>count</th>\n      <th>mean</th>\n      <th>std</th>\n      <th>min</th>\n      <th>25%</th>\n      <th>50%</th>\n      <th>75%</th>\n      <th>max</th>\n    </tr>\n  </thead>\n  <tbody>\n    <tr>\n      <th>No_Of_Orders</th>\n      <td>960.0</td>\n      <td>1864.851042</td>\n      <td>1880.337785</td>\n      <td>2.0</td>\n      <td>261.75</td>\n      <td>1475.5</td>\n      <td>2847.25</td>\n      <td>9756.0</td>\n    </tr>\n    <tr>\n      <th>Age</th>\n      <td>960.0</td>\n      <td>1200.234375</td>\n      <td>810.930171</td>\n      <td>96.0</td>\n      <td>478.25</td>\n      <td>1021.0</td>\n      <td>1891.50</td>\n      <td>3764.0</td>\n    </tr>\n    <tr>\n      <th>Average_Rating</th>\n      <td>960.0</td>\n      <td>13.412604</td>\n      <td>2.675794</td>\n      <td>0.0</td>\n      <td>13.50</td>\n      <td>14.0</td>\n      <td>14.30</td>\n      <td>15.2</td>\n    </tr>\n    <tr>\n      <th>No_of_Ratings</th>\n      <td>960.0</td>\n      <td>427.983333</td>\n      <td>486.957931</td>\n      <td>0.0</td>\n      <td>30.00</td>\n      <td>223.0</td>\n      <td>678.75</td>\n      <td>2298.0</td>\n    </tr>\n  </tbody>\n</table>\n</div>"
          },
          "metadata": {},
          "execution_count": 14
        }
      ]
    },
    {
      "cell_type": "code",
      "metadata": {
        "id": "WPMP7d_wprEu",
        "outputId": "63b9ef94-8e7f-469a-fb52-ce19fd199f6f",
        "colab": {
          "base_uri": "https://localhost:8080/",
          "height": 610
        }
      },
      "source": [
        "train.describe().transpose()"
      ],
      "execution_count": 15,
      "outputs": [
        {
          "output_type": "execute_result",
          "data": {
            "text/plain": [
              "                                             count         mean         std  \\\n",
              "Platform Type                              21201.0     2.752182    0.625178   \n",
              "Placement - Day of Month                   21201.0    15.653696    8.798916   \n",
              "Placement - Weekday (Mo = 1)               21201.0     3.240083    1.567295   \n",
              "Confirmation - Day of Month                21201.0    15.653837    8.798886   \n",
              "Confirmation - Weekday (Mo = 1)            21201.0     3.240225    1.567228   \n",
              "Arrival at Pickup - Day of Month           21201.0    15.653837    8.798886   \n",
              "Arrival at Pickup - Weekday (Mo = 1)       21201.0     3.240225    1.567228   \n",
              "Pickup - Day of Month                      21201.0    15.653837    8.798886   \n",
              "Pickup - Weekday (Mo = 1)                  21201.0     3.240225    1.567228   \n",
              "Arrival at Destination - Day of Month      21201.0    15.653837    8.798886   \n",
              "Arrival at Destination - Weekday (Mo = 1)  21201.0     3.240225    1.567228   \n",
              "Distance (KM)                              21201.0     9.506533    5.668963   \n",
              "Temperature                                16835.0    23.258889    3.615768   \n",
              "Precipitation in millimeters                 552.0     7.905797   17.089971   \n",
              "Pickup Lat                                 21201.0    -1.281470    0.030507   \n",
              "Pickup Long                                21201.0    36.811264    0.037473   \n",
              "Destination Lat                            21201.0    -1.282581    0.034824   \n",
              "Destination Long                           21201.0    36.811220    0.044721   \n",
              "Time from Pickup to Arrival                21201.0  1556.920947  987.270788   \n",
              "\n",
              "                                                 min         25%          50%  \\\n",
              "Platform Type                               1.000000    3.000000     3.000000   \n",
              "Placement - Day of Month                    1.000000    8.000000    15.000000   \n",
              "Placement - Weekday (Mo = 1)                1.000000    2.000000     3.000000   \n",
              "Confirmation - Day of Month                 1.000000    8.000000    15.000000   \n",
              "Confirmation - Weekday (Mo = 1)             1.000000    2.000000     3.000000   \n",
              "Arrival at Pickup - Day of Month            1.000000    8.000000    15.000000   \n",
              "Arrival at Pickup - Weekday (Mo = 1)        1.000000    2.000000     3.000000   \n",
              "Pickup - Day of Month                       1.000000    8.000000    15.000000   \n",
              "Pickup - Weekday (Mo = 1)                   1.000000    2.000000     3.000000   \n",
              "Arrival at Destination - Day of Month       1.000000    8.000000    15.000000   \n",
              "Arrival at Destination - Weekday (Mo = 1)   1.000000    2.000000     3.000000   \n",
              "Distance (KM)                               1.000000    5.000000     8.000000   \n",
              "Temperature                                11.200000   20.600000    23.500000   \n",
              "Precipitation in millimeters                0.100000    1.075000     2.900000   \n",
              "Pickup Lat                                 -1.438302   -1.300921    -1.279395   \n",
              "Pickup Long                                36.653621   36.784605    36.807040   \n",
              "Destination Lat                            -1.430298   -1.301201    -1.284382   \n",
              "Destination Long                           36.606594   36.785661    36.808002   \n",
              "Time from Pickup to Arrival                 1.000000  882.000000  1369.000000   \n",
              "\n",
              "                                                   75%          max  \n",
              "Platform Type                                 3.000000     4.000000  \n",
              "Placement - Day of Month                     23.000000    31.000000  \n",
              "Placement - Weekday (Mo = 1)                  5.000000     7.000000  \n",
              "Confirmation - Day of Month                  23.000000    31.000000  \n",
              "Confirmation - Weekday (Mo = 1)               5.000000     7.000000  \n",
              "Arrival at Pickup - Day of Month             23.000000    31.000000  \n",
              "Arrival at Pickup - Weekday (Mo = 1)          5.000000     7.000000  \n",
              "Pickup - Day of Month                        23.000000    31.000000  \n",
              "Pickup - Weekday (Mo = 1)                     5.000000     7.000000  \n",
              "Arrival at Destination - Day of Month        23.000000    31.000000  \n",
              "Arrival at Destination - Weekday (Mo = 1)     5.000000     7.000000  \n",
              "Distance (KM)                                13.000000    49.000000  \n",
              "Temperature                                  26.000000    32.100000  \n",
              "Precipitation in millimeters                  4.900000    99.100000  \n",
              "Pickup Lat                                   -1.257147    -1.147170  \n",
              "Pickup Long                                  36.829741    36.991046  \n",
              "Destination Lat                              -1.261177    -1.030225  \n",
              "Destination Long                             36.829477    37.016779  \n",
              "Time from Pickup to Arrival                2040.000000  7883.000000  "
            ],
            "text/html": "<div>\n<style scoped>\n    .dataframe tbody tr th:only-of-type {\n        vertical-align: middle;\n    }\n\n    .dataframe tbody tr th {\n        vertical-align: top;\n    }\n\n    .dataframe thead th {\n        text-align: right;\n    }\n</style>\n<table border=\"1\" class=\"dataframe\">\n  <thead>\n    <tr style=\"text-align: right;\">\n      <th></th>\n      <th>count</th>\n      <th>mean</th>\n      <th>std</th>\n      <th>min</th>\n      <th>25%</th>\n      <th>50%</th>\n      <th>75%</th>\n      <th>max</th>\n    </tr>\n  </thead>\n  <tbody>\n    <tr>\n      <th>Platform Type</th>\n      <td>21201.0</td>\n      <td>2.752182</td>\n      <td>0.625178</td>\n      <td>1.000000</td>\n      <td>3.000000</td>\n      <td>3.000000</td>\n      <td>3.000000</td>\n      <td>4.000000</td>\n    </tr>\n    <tr>\n      <th>Placement - Day of Month</th>\n      <td>21201.0</td>\n      <td>15.653696</td>\n      <td>8.798916</td>\n      <td>1.000000</td>\n      <td>8.000000</td>\n      <td>15.000000</td>\n      <td>23.000000</td>\n      <td>31.000000</td>\n    </tr>\n    <tr>\n      <th>Placement - Weekday (Mo = 1)</th>\n      <td>21201.0</td>\n      <td>3.240083</td>\n      <td>1.567295</td>\n      <td>1.000000</td>\n      <td>2.000000</td>\n      <td>3.000000</td>\n      <td>5.000000</td>\n      <td>7.000000</td>\n    </tr>\n    <tr>\n      <th>Confirmation - Day of Month</th>\n      <td>21201.0</td>\n      <td>15.653837</td>\n      <td>8.798886</td>\n      <td>1.000000</td>\n      <td>8.000000</td>\n      <td>15.000000</td>\n      <td>23.000000</td>\n      <td>31.000000</td>\n    </tr>\n    <tr>\n      <th>Confirmation - Weekday (Mo = 1)</th>\n      <td>21201.0</td>\n      <td>3.240225</td>\n      <td>1.567228</td>\n      <td>1.000000</td>\n      <td>2.000000</td>\n      <td>3.000000</td>\n      <td>5.000000</td>\n      <td>7.000000</td>\n    </tr>\n    <tr>\n      <th>Arrival at Pickup - Day of Month</th>\n      <td>21201.0</td>\n      <td>15.653837</td>\n      <td>8.798886</td>\n      <td>1.000000</td>\n      <td>8.000000</td>\n      <td>15.000000</td>\n      <td>23.000000</td>\n      <td>31.000000</td>\n    </tr>\n    <tr>\n      <th>Arrival at Pickup - Weekday (Mo = 1)</th>\n      <td>21201.0</td>\n      <td>3.240225</td>\n      <td>1.567228</td>\n      <td>1.000000</td>\n      <td>2.000000</td>\n      <td>3.000000</td>\n      <td>5.000000</td>\n      <td>7.000000</td>\n    </tr>\n    <tr>\n      <th>Pickup - Day of Month</th>\n      <td>21201.0</td>\n      <td>15.653837</td>\n      <td>8.798886</td>\n      <td>1.000000</td>\n      <td>8.000000</td>\n      <td>15.000000</td>\n      <td>23.000000</td>\n      <td>31.000000</td>\n    </tr>\n    <tr>\n      <th>Pickup - Weekday (Mo = 1)</th>\n      <td>21201.0</td>\n      <td>3.240225</td>\n      <td>1.567228</td>\n      <td>1.000000</td>\n      <td>2.000000</td>\n      <td>3.000000</td>\n      <td>5.000000</td>\n      <td>7.000000</td>\n    </tr>\n    <tr>\n      <th>Arrival at Destination - Day of Month</th>\n      <td>21201.0</td>\n      <td>15.653837</td>\n      <td>8.798886</td>\n      <td>1.000000</td>\n      <td>8.000000</td>\n      <td>15.000000</td>\n      <td>23.000000</td>\n      <td>31.000000</td>\n    </tr>\n    <tr>\n      <th>Arrival at Destination - Weekday (Mo = 1)</th>\n      <td>21201.0</td>\n      <td>3.240225</td>\n      <td>1.567228</td>\n      <td>1.000000</td>\n      <td>2.000000</td>\n      <td>3.000000</td>\n      <td>5.000000</td>\n      <td>7.000000</td>\n    </tr>\n    <tr>\n      <th>Distance (KM)</th>\n      <td>21201.0</td>\n      <td>9.506533</td>\n      <td>5.668963</td>\n      <td>1.000000</td>\n      <td>5.000000</td>\n      <td>8.000000</td>\n      <td>13.000000</td>\n      <td>49.000000</td>\n    </tr>\n    <tr>\n      <th>Temperature</th>\n      <td>16835.0</td>\n      <td>23.258889</td>\n      <td>3.615768</td>\n      <td>11.200000</td>\n      <td>20.600000</td>\n      <td>23.500000</td>\n      <td>26.000000</td>\n      <td>32.100000</td>\n    </tr>\n    <tr>\n      <th>Precipitation in millimeters</th>\n      <td>552.0</td>\n      <td>7.905797</td>\n      <td>17.089971</td>\n      <td>0.100000</td>\n      <td>1.075000</td>\n      <td>2.900000</td>\n      <td>4.900000</td>\n      <td>99.100000</td>\n    </tr>\n    <tr>\n      <th>Pickup Lat</th>\n      <td>21201.0</td>\n      <td>-1.281470</td>\n      <td>0.030507</td>\n      <td>-1.438302</td>\n      <td>-1.300921</td>\n      <td>-1.279395</td>\n      <td>-1.257147</td>\n      <td>-1.147170</td>\n    </tr>\n    <tr>\n      <th>Pickup Long</th>\n      <td>21201.0</td>\n      <td>36.811264</td>\n      <td>0.037473</td>\n      <td>36.653621</td>\n      <td>36.784605</td>\n      <td>36.807040</td>\n      <td>36.829741</td>\n      <td>36.991046</td>\n    </tr>\n    <tr>\n      <th>Destination Lat</th>\n      <td>21201.0</td>\n      <td>-1.282581</td>\n      <td>0.034824</td>\n      <td>-1.430298</td>\n      <td>-1.301201</td>\n      <td>-1.284382</td>\n      <td>-1.261177</td>\n      <td>-1.030225</td>\n    </tr>\n    <tr>\n      <th>Destination Long</th>\n      <td>21201.0</td>\n      <td>36.811220</td>\n      <td>0.044721</td>\n      <td>36.606594</td>\n      <td>36.785661</td>\n      <td>36.808002</td>\n      <td>36.829477</td>\n      <td>37.016779</td>\n    </tr>\n    <tr>\n      <th>Time from Pickup to Arrival</th>\n      <td>21201.0</td>\n      <td>1556.920947</td>\n      <td>987.270788</td>\n      <td>1.000000</td>\n      <td>882.000000</td>\n      <td>1369.000000</td>\n      <td>2040.000000</td>\n      <td>7883.000000</td>\n    </tr>\n  </tbody>\n</table>\n</div>"
          },
          "metadata": {},
          "execution_count": 15
        }
      ]
    },
    {
      "cell_type": "markdown",
      "metadata": {
        "id": "jP_0B9_nprE5"
      },
      "source": [
        "#### Observations:\n",
        "- The notable high difference between the 75th precentile and the max value suggests the presence of outliers [e.g. \"No_Of_Orders\" and \"No_Of_Ratings\" in the riders dataset]\n",
        "- Mean, median and standard deviation vary significantly across all columns.\n"
      ]
    },
    {
      "cell_type": "markdown",
      "metadata": {
        "id": "1TBDDQn7prE6"
      },
      "source": [
        "### Explore column-to-column relations \n",
        "To use linear regression for modelling,its necessary to remove features that are correlated to each other. It is good to get a glimpse of which features are strongly correlated at an expoloatory level. Let's have a look:"
      ]
    },
    {
      "cell_type": "code",
      "metadata": {
        "id": "h1TvnPrtprE7",
        "outputId": "9e889b6e-0edd-42cc-8678-c2f6b5874d51",
        "colab": {
          "base_uri": "https://localhost:8080/",
          "height": 34
        }
      },
      "source": [
        "#plotting heatmap for overall data set before cleaning the data\n",
        "\n",
        "sns.heatmap(train.corr(), square=True, annot = False)"
      ],
      "execution_count": 16,
      "outputs": [
        {
          "output_type": "display_data",
          "data": {
            "text/plain": "<IPython.core.display.Javascript object>",
            "application/javascript": "/* Put everything inside the global mpl namespace */\nwindow.mpl = {};\n\n\nmpl.get_websocket_type = function() {\n    if (typeof(WebSocket) !== 'undefined') {\n        return WebSocket;\n    } else if (typeof(MozWebSocket) !== 'undefined') {\n        return MozWebSocket;\n    } else {\n        alert('Your browser does not have WebSocket support. ' +\n              'Please try Chrome, Safari or Firefox ≥ 6. ' +\n              'Firefox 4 and 5 are also supported but you ' +\n              'have to enable WebSockets in about:config.');\n    };\n}\n\nmpl.figure = function(figure_id, websocket, ondownload, parent_element) {\n    this.id = figure_id;\n\n    this.ws = websocket;\n\n    this.supports_binary = (this.ws.binaryType != undefined);\n\n    if (!this.supports_binary) {\n        var warnings = document.getElementById(\"mpl-warnings\");\n        if (warnings) {\n            warnings.style.display = 'block';\n            warnings.textContent = (\n                \"This browser does not support binary websocket messages. \" +\n                    \"Performance may be slow.\");\n        }\n    }\n\n    this.imageObj = new Image();\n\n    this.context = undefined;\n    this.message = undefined;\n    this.canvas = undefined;\n    this.rubberband_canvas = undefined;\n    this.rubberband_context = undefined;\n    this.format_dropdown = undefined;\n\n    this.image_mode = 'full';\n\n    this.root = $('<div/>');\n    this._root_extra_style(this.root)\n    this.root.attr('style', 'display: inline-block');\n\n    $(parent_element).append(this.root);\n\n    this._init_header(this);\n    this._init_canvas(this);\n    this._init_toolbar(this);\n\n    var fig = this;\n\n    this.waiting = false;\n\n    this.ws.onopen =  function () {\n            fig.send_message(\"supports_binary\", {value: fig.supports_binary});\n            fig.send_message(\"send_image_mode\", {});\n            if (mpl.ratio != 1) {\n                fig.send_message(\"set_dpi_ratio\", {'dpi_ratio': mpl.ratio});\n            }\n            fig.send_message(\"refresh\", {});\n        }\n\n    this.imageObj.onload = function() {\n            if (fig.image_mode == 'full') {\n                // Full images could contain transparency (where diff images\n                // almost always do), so we need to clear the canvas so that\n                // there is no ghosting.\n                fig.context.clearRect(0, 0, fig.canvas.width, fig.canvas.height);\n            }\n            fig.context.drawImage(fig.imageObj, 0, 0);\n        };\n\n    this.imageObj.onunload = function() {\n        fig.ws.close();\n    }\n\n    this.ws.onmessage = this._make_on_message_function(this);\n\n    this.ondownload = ondownload;\n}\n\nmpl.figure.prototype._init_header = function() {\n    var titlebar = $(\n        '<div class=\"ui-dialog-titlebar ui-widget-header ui-corner-all ' +\n        'ui-helper-clearfix\"/>');\n    var titletext = $(\n        '<div class=\"ui-dialog-title\" style=\"width: 100%; ' +\n        'text-align: center; padding: 3px;\"/>');\n    titlebar.append(titletext)\n    this.root.append(titlebar);\n    this.header = titletext[0];\n}\n\n\n\nmpl.figure.prototype._canvas_extra_style = function(canvas_div) {\n\n}\n\n\nmpl.figure.prototype._root_extra_style = function(canvas_div) {\n\n}\n\nmpl.figure.prototype._init_canvas = function() {\n    var fig = this;\n\n    var canvas_div = $('<div/>');\n\n    canvas_div.attr('style', 'position: relative; clear: both; outline: 0');\n\n    function canvas_keyboard_event(event) {\n        return fig.key_event(event, event['data']);\n    }\n\n    canvas_div.keydown('key_press', canvas_keyboard_event);\n    canvas_div.keyup('key_release', canvas_keyboard_event);\n    this.canvas_div = canvas_div\n    this._canvas_extra_style(canvas_div)\n    this.root.append(canvas_div);\n\n    var canvas = $('<canvas/>');\n    canvas.addClass('mpl-canvas');\n    canvas.attr('style', \"left: 0; top: 0; z-index: 0; outline: 0\")\n\n    this.canvas = canvas[0];\n    this.context = canvas[0].getContext(\"2d\");\n\n    var backingStore = this.context.backingStorePixelRatio ||\n\tthis.context.webkitBackingStorePixelRatio ||\n\tthis.context.mozBackingStorePixelRatio ||\n\tthis.context.msBackingStorePixelRatio ||\n\tthis.context.oBackingStorePixelRatio ||\n\tthis.context.backingStorePixelRatio || 1;\n\n    mpl.ratio = (window.devicePixelRatio || 1) / backingStore;\n\n    var rubberband = $('<canvas/>');\n    rubberband.attr('style', \"position: absolute; left: 0; top: 0; z-index: 1;\")\n\n    var pass_mouse_events = true;\n\n    canvas_div.resizable({\n        start: function(event, ui) {\n            pass_mouse_events = false;\n        },\n        resize: function(event, ui) {\n            fig.request_resize(ui.size.width, ui.size.height);\n        },\n        stop: function(event, ui) {\n            pass_mouse_events = true;\n            fig.request_resize(ui.size.width, ui.size.height);\n        },\n    });\n\n    function mouse_event_fn(event) {\n        if (pass_mouse_events)\n            return fig.mouse_event(event, event['data']);\n    }\n\n    rubberband.mousedown('button_press', mouse_event_fn);\n    rubberband.mouseup('button_release', mouse_event_fn);\n    // Throttle sequential mouse events to 1 every 20ms.\n    rubberband.mousemove('motion_notify', mouse_event_fn);\n\n    rubberband.mouseenter('figure_enter', mouse_event_fn);\n    rubberband.mouseleave('figure_leave', mouse_event_fn);\n\n    canvas_div.on(\"wheel\", function (event) {\n        event = event.originalEvent;\n        event['data'] = 'scroll'\n        if (event.deltaY < 0) {\n            event.step = 1;\n        } else {\n            event.step = -1;\n        }\n        mouse_event_fn(event);\n    });\n\n    canvas_div.append(canvas);\n    canvas_div.append(rubberband);\n\n    this.rubberband = rubberband;\n    this.rubberband_canvas = rubberband[0];\n    this.rubberband_context = rubberband[0].getContext(\"2d\");\n    this.rubberband_context.strokeStyle = \"#000000\";\n\n    this._resize_canvas = function(width, height) {\n        // Keep the size of the canvas, canvas container, and rubber band\n        // canvas in synch.\n        canvas_div.css('width', width)\n        canvas_div.css('height', height)\n\n        canvas.attr('width', width * mpl.ratio);\n        canvas.attr('height', height * mpl.ratio);\n        canvas.attr('style', 'width: ' + width + 'px; height: ' + height + 'px;');\n\n        rubberband.attr('width', width);\n        rubberband.attr('height', height);\n    }\n\n    // Set the figure to an initial 600x600px, this will subsequently be updated\n    // upon first draw.\n    this._resize_canvas(600, 600);\n\n    // Disable right mouse context menu.\n    $(this.rubberband_canvas).bind(\"contextmenu\",function(e){\n        return false;\n    });\n\n    function set_focus () {\n        canvas.focus();\n        canvas_div.focus();\n    }\n\n    window.setTimeout(set_focus, 100);\n}\n\nmpl.figure.prototype._init_toolbar = function() {\n    var fig = this;\n\n    var nav_element = $('<div/>');\n    nav_element.attr('style', 'width: 100%');\n    this.root.append(nav_element);\n\n    // Define a callback function for later on.\n    function toolbar_event(event) {\n        return fig.toolbar_button_onclick(event['data']);\n    }\n    function toolbar_mouse_event(event) {\n        return fig.toolbar_button_onmouseover(event['data']);\n    }\n\n    for(var toolbar_ind in mpl.toolbar_items) {\n        var name = mpl.toolbar_items[toolbar_ind][0];\n        var tooltip = mpl.toolbar_items[toolbar_ind][1];\n        var image = mpl.toolbar_items[toolbar_ind][2];\n        var method_name = mpl.toolbar_items[toolbar_ind][3];\n\n        if (!name) {\n            // put a spacer in here.\n            continue;\n        }\n        var button = $('<button/>');\n        button.addClass('ui-button ui-widget ui-state-default ui-corner-all ' +\n                        'ui-button-icon-only');\n        button.attr('role', 'button');\n        button.attr('aria-disabled', 'false');\n        button.click(method_name, toolbar_event);\n        button.mouseover(tooltip, toolbar_mouse_event);\n\n        var icon_img = $('<span/>');\n        icon_img.addClass('ui-button-icon-primary ui-icon');\n        icon_img.addClass(image);\n        icon_img.addClass('ui-corner-all');\n\n        var tooltip_span = $('<span/>');\n        tooltip_span.addClass('ui-button-text');\n        tooltip_span.html(tooltip);\n\n        button.append(icon_img);\n        button.append(tooltip_span);\n\n        nav_element.append(button);\n    }\n\n    var fmt_picker_span = $('<span/>');\n\n    var fmt_picker = $('<select/>');\n    fmt_picker.addClass('mpl-toolbar-option ui-widget ui-widget-content');\n    fmt_picker_span.append(fmt_picker);\n    nav_element.append(fmt_picker_span);\n    this.format_dropdown = fmt_picker[0];\n\n    for (var ind in mpl.extensions) {\n        var fmt = mpl.extensions[ind];\n        var option = $(\n            '<option/>', {selected: fmt === mpl.default_extension}).html(fmt);\n        fmt_picker.append(option);\n    }\n\n    // Add hover states to the ui-buttons\n    $( \".ui-button\" ).hover(\n        function() { $(this).addClass(\"ui-state-hover\");},\n        function() { $(this).removeClass(\"ui-state-hover\");}\n    );\n\n    var status_bar = $('<span class=\"mpl-message\"/>');\n    nav_element.append(status_bar);\n    this.message = status_bar[0];\n}\n\nmpl.figure.prototype.request_resize = function(x_pixels, y_pixels) {\n    // Request matplotlib to resize the figure. Matplotlib will then trigger a resize in the client,\n    // which will in turn request a refresh of the image.\n    this.send_message('resize', {'width': x_pixels, 'height': y_pixels});\n}\n\nmpl.figure.prototype.send_message = function(type, properties) {\n    properties['type'] = type;\n    properties['figure_id'] = this.id;\n    this.ws.send(JSON.stringify(properties));\n}\n\nmpl.figure.prototype.send_draw_message = function() {\n    if (!this.waiting) {\n        this.waiting = true;\n        this.ws.send(JSON.stringify({type: \"draw\", figure_id: this.id}));\n    }\n}\n\n\nmpl.figure.prototype.handle_save = function(fig, msg) {\n    var format_dropdown = fig.format_dropdown;\n    var format = format_dropdown.options[format_dropdown.selectedIndex].value;\n    fig.ondownload(fig, format);\n}\n\n\nmpl.figure.prototype.handle_resize = function(fig, msg) {\n    var size = msg['size'];\n    if (size[0] != fig.canvas.width || size[1] != fig.canvas.height) {\n        fig._resize_canvas(size[0], size[1]);\n        fig.send_message(\"refresh\", {});\n    };\n}\n\nmpl.figure.prototype.handle_rubberband = function(fig, msg) {\n    var x0 = msg['x0'] / mpl.ratio;\n    var y0 = (fig.canvas.height - msg['y0']) / mpl.ratio;\n    var x1 = msg['x1'] / mpl.ratio;\n    var y1 = (fig.canvas.height - msg['y1']) / mpl.ratio;\n    x0 = Math.floor(x0) + 0.5;\n    y0 = Math.floor(y0) + 0.5;\n    x1 = Math.floor(x1) + 0.5;\n    y1 = Math.floor(y1) + 0.5;\n    var min_x = Math.min(x0, x1);\n    var min_y = Math.min(y0, y1);\n    var width = Math.abs(x1 - x0);\n    var height = Math.abs(y1 - y0);\n\n    fig.rubberband_context.clearRect(\n        0, 0, fig.canvas.width / mpl.ratio, fig.canvas.height / mpl.ratio);\n\n    fig.rubberband_context.strokeRect(min_x, min_y, width, height);\n}\n\nmpl.figure.prototype.handle_figure_label = function(fig, msg) {\n    // Updates the figure title.\n    fig.header.textContent = msg['label'];\n}\n\nmpl.figure.prototype.handle_cursor = function(fig, msg) {\n    var cursor = msg['cursor'];\n    switch(cursor)\n    {\n    case 0:\n        cursor = 'pointer';\n        break;\n    case 1:\n        cursor = 'default';\n        break;\n    case 2:\n        cursor = 'crosshair';\n        break;\n    case 3:\n        cursor = 'move';\n        break;\n    }\n    fig.rubberband_canvas.style.cursor = cursor;\n}\n\nmpl.figure.prototype.handle_message = function(fig, msg) {\n    fig.message.textContent = msg['message'];\n}\n\nmpl.figure.prototype.handle_draw = function(fig, msg) {\n    // Request the server to send over a new figure.\n    fig.send_draw_message();\n}\n\nmpl.figure.prototype.handle_image_mode = function(fig, msg) {\n    fig.image_mode = msg['mode'];\n}\n\nmpl.figure.prototype.updated_canvas_event = function() {\n    // Called whenever the canvas gets updated.\n    this.send_message(\"ack\", {});\n}\n\n// A function to construct a web socket function for onmessage handling.\n// Called in the figure constructor.\nmpl.figure.prototype._make_on_message_function = function(fig) {\n    return function socket_on_message(evt) {\n        if (evt.data instanceof Blob) {\n            /* FIXME: We get \"Resource interpreted as Image but\n             * transferred with MIME type text/plain:\" errors on\n             * Chrome.  But how to set the MIME type?  It doesn't seem\n             * to be part of the websocket stream */\n            evt.data.type = \"image/png\";\n\n            /* Free the memory for the previous frames */\n            if (fig.imageObj.src) {\n                (window.URL || window.webkitURL).revokeObjectURL(\n                    fig.imageObj.src);\n            }\n\n            fig.imageObj.src = (window.URL || window.webkitURL).createObjectURL(\n                evt.data);\n            fig.updated_canvas_event();\n            fig.waiting = false;\n            return;\n        }\n        else if (typeof evt.data === 'string' && evt.data.slice(0, 21) == \"data:image/png;base64\") {\n            fig.imageObj.src = evt.data;\n            fig.updated_canvas_event();\n            fig.waiting = false;\n            return;\n        }\n\n        var msg = JSON.parse(evt.data);\n        var msg_type = msg['type'];\n\n        // Call the  \"handle_{type}\" callback, which takes\n        // the figure and JSON message as its only arguments.\n        try {\n            var callback = fig[\"handle_\" + msg_type];\n        } catch (e) {\n            console.log(\"No handler for the '\" + msg_type + \"' message type: \", msg);\n            return;\n        }\n\n        if (callback) {\n            try {\n                // console.log(\"Handling '\" + msg_type + \"' message: \", msg);\n                callback(fig, msg);\n            } catch (e) {\n                console.log(\"Exception inside the 'handler_\" + msg_type + \"' callback:\", e, e.stack, msg);\n            }\n        }\n    };\n}\n\n// from http://stackoverflow.com/questions/1114465/getting-mouse-location-in-canvas\nmpl.findpos = function(e) {\n    //this section is from http://www.quirksmode.org/js/events_properties.html\n    var targ;\n    if (!e)\n        e = window.event;\n    if (e.target)\n        targ = e.target;\n    else if (e.srcElement)\n        targ = e.srcElement;\n    if (targ.nodeType == 3) // defeat Safari bug\n        targ = targ.parentNode;\n\n    // jQuery normalizes the pageX and pageY\n    // pageX,Y are the mouse positions relative to the document\n    // offset() returns the position of the element relative to the document\n    var x = e.pageX - $(targ).offset().left;\n    var y = e.pageY - $(targ).offset().top;\n\n    return {\"x\": x, \"y\": y};\n};\n\n/*\n * return a copy of an object with only non-object keys\n * we need this to avoid circular references\n * http://stackoverflow.com/a/24161582/3208463\n */\nfunction simpleKeys (original) {\n  return Object.keys(original).reduce(function (obj, key) {\n    if (typeof original[key] !== 'object')\n        obj[key] = original[key]\n    return obj;\n  }, {});\n}\n\nmpl.figure.prototype.mouse_event = function(event, name) {\n    var canvas_pos = mpl.findpos(event)\n\n    if (name === 'button_press')\n    {\n        this.canvas.focus();\n        this.canvas_div.focus();\n    }\n\n    var x = canvas_pos.x * mpl.ratio;\n    var y = canvas_pos.y * mpl.ratio;\n\n    this.send_message(name, {x: x, y: y, button: event.button,\n                             step: event.step,\n                             guiEvent: simpleKeys(event)});\n\n    /* This prevents the web browser from automatically changing to\n     * the text insertion cursor when the button is pressed.  We want\n     * to control all of the cursor setting manually through the\n     * 'cursor' event from matplotlib */\n    event.preventDefault();\n    return false;\n}\n\nmpl.figure.prototype._key_event_extra = function(event, name) {\n    // Handle any extra behaviour associated with a key event\n}\n\nmpl.figure.prototype.key_event = function(event, name) {\n\n    // Prevent repeat events\n    if (name == 'key_press')\n    {\n        if (event.which === this._key)\n            return;\n        else\n            this._key = event.which;\n    }\n    if (name == 'key_release')\n        this._key = null;\n\n    var value = '';\n    if (event.ctrlKey && event.which != 17)\n        value += \"ctrl+\";\n    if (event.altKey && event.which != 18)\n        value += \"alt+\";\n    if (event.shiftKey && event.which != 16)\n        value += \"shift+\";\n\n    value += 'k';\n    value += event.which.toString();\n\n    this._key_event_extra(event, name);\n\n    this.send_message(name, {key: value,\n                             guiEvent: simpleKeys(event)});\n    return false;\n}\n\nmpl.figure.prototype.toolbar_button_onclick = function(name) {\n    if (name == 'download') {\n        this.handle_save(this, null);\n    } else {\n        this.send_message(\"toolbar_button\", {name: name});\n    }\n};\n\nmpl.figure.prototype.toolbar_button_onmouseover = function(tooltip) {\n    this.message.textContent = tooltip;\n};\nmpl.toolbar_items = [[\"Home\", \"Reset original view\", \"fa fa-home icon-home\", \"home\"], [\"Back\", \"Back to previous view\", \"fa fa-arrow-left icon-arrow-left\", \"back\"], [\"Forward\", \"Forward to next view\", \"fa fa-arrow-right icon-arrow-right\", \"forward\"], [\"\", \"\", \"\", \"\"], [\"Pan\", \"Pan axes with left mouse, zoom with right\", \"fa fa-arrows icon-move\", \"pan\"], [\"Zoom\", \"Zoom to rectangle\", \"fa fa-square-o icon-check-empty\", \"zoom\"], [\"\", \"\", \"\", \"\"], [\"Download\", \"Download plot\", \"fa fa-floppy-o icon-save\", \"download\"]];\n\nmpl.extensions = [\"eps\", \"jpeg\", \"pdf\", \"png\", \"ps\", \"raw\", \"svg\", \"tif\"];\n\nmpl.default_extension = \"png\";var comm_websocket_adapter = function(comm) {\n    // Create a \"websocket\"-like object which calls the given IPython comm\n    // object with the appropriate methods. Currently this is a non binary\n    // socket, so there is still some room for performance tuning.\n    var ws = {};\n\n    ws.close = function() {\n        comm.close()\n    };\n    ws.send = function(m) {\n        //console.log('sending', m);\n        comm.send(m);\n    };\n    // Register the callback with on_msg.\n    comm.on_msg(function(msg) {\n        //console.log('receiving', msg['content']['data'], msg);\n        // Pass the mpl event to the overridden (by mpl) onmessage function.\n        ws.onmessage(msg['content']['data'])\n    });\n    return ws;\n}\n\nmpl.mpl_figure_comm = function(comm, msg) {\n    // This is the function which gets called when the mpl process\n    // starts-up an IPython Comm through the \"matplotlib\" channel.\n\n    var id = msg.content.data.id;\n    // Get hold of the div created by the display call when the Comm\n    // socket was opened in Python.\n    var element = $(\"#\" + id);\n    var ws_proxy = comm_websocket_adapter(comm)\n\n    function ondownload(figure, format) {\n        window.open(figure.imageObj.src);\n    }\n\n    var fig = new mpl.figure(id, ws_proxy,\n                           ondownload,\n                           element.get(0));\n\n    // Call onopen now - mpl needs it, as it is assuming we've passed it a real\n    // web socket which is closed, not our websocket->open comm proxy.\n    ws_proxy.onopen();\n\n    fig.parent_element = element.get(0);\n    fig.cell_info = mpl.find_output_cell(\"<div id='\" + id + \"'></div>\");\n    if (!fig.cell_info) {\n        console.error(\"Failed to find cell for figure\", id, fig);\n        return;\n    }\n\n    var output_index = fig.cell_info[2]\n    var cell = fig.cell_info[0];\n\n};\n\nmpl.figure.prototype.handle_close = function(fig, msg) {\n    var width = fig.canvas.width/mpl.ratio\n    fig.root.unbind('remove')\n\n    // Update the output cell to use the data from the current canvas.\n    fig.push_to_output();\n    var dataURL = fig.canvas.toDataURL();\n    // Re-enable the keyboard manager in IPython - without this line, in FF,\n    // the notebook keyboard shortcuts fail.\n    IPython.keyboard_manager.enable()\n    $(fig.parent_element).html('<img src=\"' + dataURL + '\" width=\"' + width + '\">');\n    fig.close_ws(fig, msg);\n}\n\nmpl.figure.prototype.close_ws = function(fig, msg){\n    fig.send_message('closing', msg);\n    // fig.ws.close()\n}\n\nmpl.figure.prototype.push_to_output = function(remove_interactive) {\n    // Turn the data on the canvas into data in the output cell.\n    var width = this.canvas.width/mpl.ratio\n    var dataURL = this.canvas.toDataURL();\n    this.cell_info[1]['text/html'] = '<img src=\"' + dataURL + '\" width=\"' + width + '\">';\n}\n\nmpl.figure.prototype.updated_canvas_event = function() {\n    // Tell IPython that the notebook contents must change.\n    IPython.notebook.set_dirty(true);\n    this.send_message(\"ack\", {});\n    var fig = this;\n    // Wait a second, then push the new image to the DOM so\n    // that it is saved nicely (might be nice to debounce this).\n    setTimeout(function () { fig.push_to_output() }, 1000);\n}\n\nmpl.figure.prototype._init_toolbar = function() {\n    var fig = this;\n\n    var nav_element = $('<div/>');\n    nav_element.attr('style', 'width: 100%');\n    this.root.append(nav_element);\n\n    // Define a callback function for later on.\n    function toolbar_event(event) {\n        return fig.toolbar_button_onclick(event['data']);\n    }\n    function toolbar_mouse_event(event) {\n        return fig.toolbar_button_onmouseover(event['data']);\n    }\n\n    for(var toolbar_ind in mpl.toolbar_items){\n        var name = mpl.toolbar_items[toolbar_ind][0];\n        var tooltip = mpl.toolbar_items[toolbar_ind][1];\n        var image = mpl.toolbar_items[toolbar_ind][2];\n        var method_name = mpl.toolbar_items[toolbar_ind][3];\n\n        if (!name) { continue; };\n\n        var button = $('<button class=\"btn btn-default\" href=\"#\" title=\"' + name + '\"><i class=\"fa ' + image + ' fa-lg\"></i></button>');\n        button.click(method_name, toolbar_event);\n        button.mouseover(tooltip, toolbar_mouse_event);\n        nav_element.append(button);\n    }\n\n    // Add the status bar.\n    var status_bar = $('<span class=\"mpl-message\" style=\"text-align:right; float: right;\"/>');\n    nav_element.append(status_bar);\n    this.message = status_bar[0];\n\n    // Add the close button to the window.\n    var buttongrp = $('<div class=\"btn-group inline pull-right\"></div>');\n    var button = $('<button class=\"btn btn-mini btn-primary\" href=\"#\" title=\"Stop Interaction\"><i class=\"fa fa-power-off icon-remove icon-large\"></i></button>');\n    button.click(function (evt) { fig.handle_close(fig, {}); } );\n    button.mouseover('Stop Interaction', toolbar_mouse_event);\n    buttongrp.append(button);\n    var titlebar = this.root.find($('.ui-dialog-titlebar'));\n    titlebar.prepend(buttongrp);\n}\n\nmpl.figure.prototype._root_extra_style = function(el){\n    var fig = this\n    el.on(\"remove\", function(){\n\tfig.close_ws(fig, {});\n    });\n}\n\nmpl.figure.prototype._canvas_extra_style = function(el){\n    // this is important to make the div 'focusable\n    el.attr('tabindex', 0)\n    // reach out to IPython and tell the keyboard manager to turn it's self\n    // off when our div gets focus\n\n    // location in version 3\n    if (IPython.notebook.keyboard_manager) {\n        IPython.notebook.keyboard_manager.register_events(el);\n    }\n    else {\n        // location in version 2\n        IPython.keyboard_manager.register_events(el);\n    }\n\n}\n\nmpl.figure.prototype._key_event_extra = function(event, name) {\n    var manager = IPython.notebook.keyboard_manager;\n    if (!manager)\n        manager = IPython.keyboard_manager;\n\n    // Check for shift+enter\n    if (event.shiftKey && event.which == 13) {\n        this.canvas_div.blur();\n        // select the cell after this one\n        var index = IPython.notebook.find_cell_index(this.cell_info[0]);\n        IPython.notebook.select(index + 1);\n    }\n}\n\nmpl.figure.prototype.handle_save = function(fig, msg) {\n    fig.ondownload(fig, null);\n}\n\n\nmpl.find_output_cell = function(html_output) {\n    // Return the cell and output element which can be found *uniquely* in the notebook.\n    // Note - this is a bit hacky, but it is done because the \"notebook_saving.Notebook\"\n    // IPython event is triggered only after the cells have been serialised, which for\n    // our purposes (turning an active figure into a static one), is too late.\n    var cells = IPython.notebook.get_cells();\n    var ncells = cells.length;\n    for (var i=0; i<ncells; i++) {\n        var cell = cells[i];\n        if (cell.cell_type === 'code'){\n            for (var j=0; j<cell.output_area.outputs.length; j++) {\n                var data = cell.output_area.outputs[j];\n                if (data.data) {\n                    // IPython >= 3 moved mimebundle to data attribute of output\n                    data = data.data;\n                }\n                if (data['text/html'] == html_output) {\n                    return [cell, data, j];\n                }\n            }\n        }\n    }\n}\n\n// Register the function which deals with the matplotlib target/channel.\n// The kernel may be null if the page has been refreshed.\nif (IPython.notebook.kernel != null) {\n    IPython.notebook.kernel.comm_manager.register_target('matplotlib', mpl.mpl_figure_comm);\n}\n"
          },
          "metadata": {}
        },
        {
          "output_type": "display_data",
          "data": {
            "text/plain": "<IPython.core.display.HTML object>",
            "text/html": "<div id='928c9361-22d4-4255-871b-3cd43bb77a74'></div>"
          },
          "metadata": {}
        },
        {
          "output_type": "execute_result",
          "data": {
            "text/plain": [
              "<matplotlib.axes._subplots.AxesSubplot at 0x1bee7da7808>"
            ]
          },
          "metadata": {},
          "execution_count": 16
        }
      ]
    },
    {
      "cell_type": "code",
      "metadata": {
        "id": "MLf3xC_aQznB"
      },
      "source": [
        ""
      ],
      "execution_count": null,
      "outputs": []
    },
    {
      "cell_type": "markdown",
      "metadata": {
        "id": "b9fwSn_qprFD"
      },
      "source": [
        "#### Observations:\n",
        "- It is notable that the target variable (\"Time from Pickup to Arrival\") has a fairly strong positive correlation to \"Distance(KM)\" at around 50-60%, followed by weakened correlation to other predictor variables. \n"
      ]
    },
    {
      "cell_type": "code",
      "metadata": {
        "id": "HVUPiy38YMIv",
        "outputId": "fecf789b-ad8d-4616-96f1-457adc2f30ad",
        "colab": {
          "base_uri": "https://localhost:8080/",
          "height": 34
        }
      },
      "source": [
        "test.shape"
      ],
      "execution_count": 17,
      "outputs": [
        {
          "output_type": "execute_result",
          "data": {
            "text/plain": [
              "(7068, 25)"
            ]
          },
          "metadata": {},
          "execution_count": 17
        }
      ]
    },
    {
      "cell_type": "code",
      "metadata": {
        "id": "j4-gbR-PaGEP",
        "outputId": "e817b1f3-f96e-456c-ebd5-c3f9d99a3e79",
        "colab": {
          "base_uri": "https://localhost:8080/",
          "height": 34
        }
      },
      "source": [
        "train.shape"
      ],
      "execution_count": 18,
      "outputs": [
        {
          "output_type": "execute_result",
          "data": {
            "text/plain": [
              "(21201, 29)"
            ]
          },
          "metadata": {},
          "execution_count": 18
        }
      ]
    },
    {
      "cell_type": "markdown",
      "metadata": {
        "id": "Ix9nrjINprFE"
      },
      "source": [
        "### Merge riders to test and train data"
      ]
    },
    {
      "cell_type": "code",
      "metadata": {
        "id": "NOo1K0vWsgCT"
      },
      "source": [
        "# merging train with riders and test with riders on 'Rider id'\n",
        "merged_train = pd.merge(train, riders, on=\"Rider Id\", how=\"left\").copy()\n",
        "merged_test = pd.merge(test, riders, on=\"Rider Id\", how=\"left\").copy()"
      ],
      "execution_count": 19,
      "outputs": []
    },
    {
      "cell_type": "code",
      "metadata": {
        "id": "w0Aeq0C0Xs6N",
        "outputId": "17b5e1e8-d4b9-487f-b989-66f6ab752e84",
        "colab": {
          "base_uri": "https://localhost:8080/",
          "height": 34
        }
      },
      "source": [
        "merged_train.shape"
      ],
      "execution_count": 20,
      "outputs": [
        {
          "output_type": "execute_result",
          "data": {
            "text/plain": [
              "(21201, 33)"
            ]
          },
          "metadata": {},
          "execution_count": 20
        }
      ]
    },
    {
      "cell_type": "code",
      "metadata": {
        "id": "lPnw7b8JZsY7",
        "outputId": "773bf30d-bfea-46fe-88c9-333a5bf07ae5",
        "colab": {
          "base_uri": "https://localhost:8080/",
          "height": 34
        }
      },
      "source": [
        "merged_test.shape"
      ],
      "execution_count": 21,
      "outputs": [
        {
          "output_type": "execute_result",
          "data": {
            "text/plain": [
              "(7068, 29)"
            ]
          },
          "metadata": {},
          "execution_count": 21
        }
      ]
    },
    {
      "cell_type": "code",
      "metadata": {
        "id": "_9PwccXnsh1f",
        "scrolled": true,
        "outputId": "6b1c6d1e-cbce-4ef2-de68-8a64dc18fa4f",
        "colab": {
          "base_uri": "https://localhost:8080/",
          "height": 588
        }
      },
      "source": [
        "merged_train.isnull().sum()"
      ],
      "execution_count": 22,
      "outputs": [
        {
          "output_type": "execute_result",
          "data": {
            "text/plain": [
              "Order No                                         0\n",
              "User Id                                          0\n",
              "Vehicle Type                                     0\n",
              "Platform Type                                    0\n",
              "Personal or Business                             0\n",
              "Placement - Day of Month                         0\n",
              "Placement - Weekday (Mo = 1)                     0\n",
              "Placement - Time                                 0\n",
              "Confirmation - Day of Month                      0\n",
              "Confirmation - Weekday (Mo = 1)                  0\n",
              "Confirmation - Time                              0\n",
              "Arrival at Pickup - Day of Month                 0\n",
              "Arrival at Pickup - Weekday (Mo = 1)             0\n",
              "Arrival at Pickup - Time                         0\n",
              "Pickup - Day of Month                            0\n",
              "Pickup - Weekday (Mo = 1)                        0\n",
              "Pickup - Time                                    0\n",
              "Arrival at Destination - Day of Month            0\n",
              "Arrival at Destination - Weekday (Mo = 1)        0\n",
              "Arrival at Destination - Time                    0\n",
              "Distance (KM)                                    0\n",
              "Temperature                                   4366\n",
              "Precipitation in millimeters                 20649\n",
              "Pickup Lat                                       0\n",
              "Pickup Long                                      0\n",
              "Destination Lat                                  0\n",
              "Destination Long                                 0\n",
              "Rider Id                                         0\n",
              "Time from Pickup to Arrival                      0\n",
              "No_Of_Orders                                     0\n",
              "Age                                              0\n",
              "Average_Rating                                   0\n",
              "No_of_Ratings                                    0\n",
              "dtype: int64"
            ]
          },
          "metadata": {},
          "execution_count": 22
        }
      ]
    },
    {
      "cell_type": "markdown",
      "metadata": {
        "id": "2ZgBf7r-prFU"
      },
      "source": [
        "# Data Preprocessing "
      ]
    },
    {
      "cell_type": "markdown",
      "metadata": {
        "id": "7xLKfDuuVDm8"
      },
      "source": [
        "## Identifying and handling missing values in train data"
      ]
    },
    {
      "cell_type": "markdown",
      "metadata": {
        "id": "tMHtetrdVDnD"
      },
      "source": [
        "We see that only two columns contain missing values.\n",
        "<br> Temperature column has 4366 missing values while Precipitation in millimeters has 20649.\n",
        "We can fill the missing values in the Temperature column with the mean of the temperatures.\n"
      ]
    },
    {
      "cell_type": "code",
      "metadata": {
        "id": "7_k45bs4VDnE"
      },
      "source": [
        "# Filling the missing values in values Temperature column with the on both the train and test data\n",
        "merged_train['Temperature'] = merged_train['Temperature'].fillna( merged_train['Temperature'].mean())\n",
        "merged_test['Temperature'] = merged_test['Temperature'].fillna( merged_test['Temperature'].mean())"
      ],
      "execution_count": 23,
      "outputs": []
    },
    {
      "cell_type": "markdown",
      "metadata": {
        "id": "I7U5WHBGVDnJ"
      },
      "source": [
        "## Investigating the missing values in Precipitation in millimeters column"
      ]
    },
    {
      "cell_type": "code",
      "metadata": {
        "id": "BQgkW3DIVDnK",
        "outputId": "38cdbb3c-6cae-4b92-e03d-5122135dc98e",
        "colab": {
          "base_uri": "https://localhost:8080/",
          "height": 34
        }
      },
      "source": [
        "# Proportion of missing values in the Precipitation in millimeters column\n",
        "missing_vals = merged_train['Precipitation in millimeters'].isnull().sum()\n",
        "round((missing_vals/len(merged_train.index))*100,0)"
      ],
      "execution_count": 24,
      "outputs": [
        {
          "output_type": "execute_result",
          "data": {
            "text/plain": [
              "97.0"
            ]
          },
          "metadata": {},
          "execution_count": 24
        }
      ]
    },
    {
      "cell_type": "markdown",
      "metadata": {
        "id": "4ZiWXFRpVDnO"
      },
      "source": [
        "### 97% of the records on the Precipitation in millimeters column have missing values\n",
        "That is only 552 records have values, so we analyse these 552 records we have"
      ]
    },
    {
      "cell_type": "code",
      "metadata": {
        "id": "m3YYOy2eVDnP",
        "outputId": "b698767a-c059-45c9-f1fe-7530aa7e527c",
        "colab": {
          "base_uri": "https://localhost:8080/",
          "height": 34
        }
      },
      "source": [
        "precipitation = merged_train['Precipitation in millimeters'].copy()\n",
        "precipitation.dropna(inplace = True)\n",
        "\n",
        "# We want to check if whether the available records we have contain Zeros for when \n",
        "# there was no rainfall/precipitation at the time of the delivery.\n",
        "precipitation[precipitation==0].count()"
      ],
      "execution_count": 25,
      "outputs": [
        {
          "output_type": "execute_result",
          "data": {
            "text/plain": [
              "0"
            ]
          },
          "metadata": {},
          "execution_count": 25
        }
      ]
    },
    {
      "cell_type": "markdown",
      "metadata": {
        "id": "YFgKAErGVDnU"
      },
      "source": [
        "We see that on the 552 records that we have non of them contain Zeros for whent here was no precipitation as such we believe that the missing values in this column actually suggest that there was no precipitation at the time the deliveries, as such we fill the missing values with Zeros"
      ]
    },
    {
      "cell_type": "code",
      "metadata": {
        "id": "iAwqoIgeVDnV"
      },
      "source": [
        "# Filling missing values in Precipitation column with 0 on both train and test data\n",
        "merged_train['Precipitation in millimeters'] = merged_train['Precipitation in millimeters'].fillna(0)\n",
        "merged_test['Precipitation in millimeters'] = merged_test['Precipitation in millimeters'].fillna(0)"
      ],
      "execution_count": 26,
      "outputs": []
    },
    {
      "cell_type": "code",
      "metadata": {
        "id": "QEZRXyYKVDnZ",
        "outputId": "213373ba-a22d-4557-d9dc-c6dffcb6d347",
        "colab": {
          "base_uri": "https://localhost:8080/",
          "height": 588
        }
      },
      "source": [
        "# Checking if all missing values have been handled\n",
        "merged_train.isnull().sum()"
      ],
      "execution_count": 27,
      "outputs": [
        {
          "output_type": "execute_result",
          "data": {
            "text/plain": [
              "Order No                                     0\n",
              "User Id                                      0\n",
              "Vehicle Type                                 0\n",
              "Platform Type                                0\n",
              "Personal or Business                         0\n",
              "Placement - Day of Month                     0\n",
              "Placement - Weekday (Mo = 1)                 0\n",
              "Placement - Time                             0\n",
              "Confirmation - Day of Month                  0\n",
              "Confirmation - Weekday (Mo = 1)              0\n",
              "Confirmation - Time                          0\n",
              "Arrival at Pickup - Day of Month             0\n",
              "Arrival at Pickup - Weekday (Mo = 1)         0\n",
              "Arrival at Pickup - Time                     0\n",
              "Pickup - Day of Month                        0\n",
              "Pickup - Weekday (Mo = 1)                    0\n",
              "Pickup - Time                                0\n",
              "Arrival at Destination - Day of Month        0\n",
              "Arrival at Destination - Weekday (Mo = 1)    0\n",
              "Arrival at Destination - Time                0\n",
              "Distance (KM)                                0\n",
              "Temperature                                  0\n",
              "Precipitation in millimeters                 0\n",
              "Pickup Lat                                   0\n",
              "Pickup Long                                  0\n",
              "Destination Lat                              0\n",
              "Destination Long                             0\n",
              "Rider Id                                     0\n",
              "Time from Pickup to Arrival                  0\n",
              "No_Of_Orders                                 0\n",
              "Age                                          0\n",
              "Average_Rating                               0\n",
              "No_of_Ratings                                0\n",
              "dtype: int64"
            ]
          },
          "metadata": {},
          "execution_count": 27
        }
      ]
    },
    {
      "cell_type": "code",
      "metadata": {
        "id": "2qraOy4GVMkI",
        "outputId": "cc461403-afdd-4889-8ea1-3ee4c4c73be4",
        "colab": {
          "base_uri": "https://localhost:8080/",
          "height": 521
        }
      },
      "source": [
        "# Checking missing values in merged_test\n",
        "merged_test.isnull().sum()"
      ],
      "execution_count": 28,
      "outputs": [
        {
          "output_type": "execute_result",
          "data": {
            "text/plain": [
              "Order No                                0\n",
              "User Id                                 0\n",
              "Vehicle Type                            0\n",
              "Platform Type                           0\n",
              "Personal or Business                    0\n",
              "Placement - Day of Month                0\n",
              "Placement - Weekday (Mo = 1)            0\n",
              "Placement - Time                        0\n",
              "Confirmation - Day of Month             0\n",
              "Confirmation - Weekday (Mo = 1)         0\n",
              "Confirmation - Time                     0\n",
              "Arrival at Pickup - Day of Month        0\n",
              "Arrival at Pickup - Weekday (Mo = 1)    0\n",
              "Arrival at Pickup - Time                0\n",
              "Pickup - Day of Month                   0\n",
              "Pickup - Weekday (Mo = 1)               0\n",
              "Pickup - Time                           0\n",
              "Distance (KM)                           0\n",
              "Temperature                             0\n",
              "Precipitation in millimeters            0\n",
              "Pickup Lat                              0\n",
              "Pickup Long                             0\n",
              "Destination Lat                         0\n",
              "Destination Long                        0\n",
              "Rider Id                                0\n",
              "No_Of_Orders                            0\n",
              "Age                                     0\n",
              "Average_Rating                          0\n",
              "No_of_Ratings                           0\n",
              "dtype: int64"
            ]
          },
          "metadata": {},
          "execution_count": 28
        }
      ]
    },
    {
      "cell_type": "code",
      "metadata": {
        "id": "mKaOUHCRkZiA",
        "outputId": "a7ecbdec-256c-4271-f794-83b016603093",
        "colab": {
          "base_uri": "https://localhost:8080/",
          "height": 269
        }
      },
      "source": [
        "merged_train.columns"
      ],
      "execution_count": 29,
      "outputs": [
        {
          "output_type": "execute_result",
          "data": {
            "text/plain": [
              "Index(['Order No', 'User Id', 'Vehicle Type', 'Platform Type',\n",
              "       'Personal or Business', 'Placement - Day of Month',\n",
              "       'Placement - Weekday (Mo = 1)', 'Placement - Time',\n",
              "       'Confirmation - Day of Month', 'Confirmation - Weekday (Mo = 1)',\n",
              "       'Confirmation - Time', 'Arrival at Pickup - Day of Month',\n",
              "       'Arrival at Pickup - Weekday (Mo = 1)', 'Arrival at Pickup - Time',\n",
              "       'Pickup - Day of Month', 'Pickup - Weekday (Mo = 1)', 'Pickup - Time',\n",
              "       'Arrival at Destination - Day of Month',\n",
              "       'Arrival at Destination - Weekday (Mo = 1)',\n",
              "       'Arrival at Destination - Time', 'Distance (KM)', 'Temperature',\n",
              "       'Precipitation in millimeters', 'Pickup Lat', 'Pickup Long',\n",
              "       'Destination Lat', 'Destination Long', 'Rider Id',\n",
              "       'Time from Pickup to Arrival', 'No_Of_Orders', 'Age', 'Average_Rating',\n",
              "       'No_of_Ratings'],\n",
              "      dtype='object')"
            ]
          },
          "metadata": {},
          "execution_count": 29
        }
      ]
    },
    {
      "cell_type": "code",
      "metadata": {
        "id": "3KVfGk0-kqh2",
        "outputId": "76aab7f9-9ca3-495d-94f7-fb5a627a8e3b",
        "colab": {
          "base_uri": "https://localhost:8080/",
          "height": 202
        }
      },
      "source": [
        "merged_test.columns"
      ],
      "execution_count": 30,
      "outputs": [
        {
          "output_type": "execute_result",
          "data": {
            "text/plain": [
              "Index(['Order No', 'User Id', 'Vehicle Type', 'Platform Type',\n",
              "       'Personal or Business', 'Placement - Day of Month',\n",
              "       'Placement - Weekday (Mo = 1)', 'Placement - Time',\n",
              "       'Confirmation - Day of Month', 'Confirmation - Weekday (Mo = 1)',\n",
              "       'Confirmation - Time', 'Arrival at Pickup - Day of Month',\n",
              "       'Arrival at Pickup - Weekday (Mo = 1)', 'Arrival at Pickup - Time',\n",
              "       'Pickup - Day of Month', 'Pickup - Weekday (Mo = 1)', 'Pickup - Time',\n",
              "       'Distance (KM)', 'Temperature', 'Precipitation in millimeters',\n",
              "       'Pickup Lat', 'Pickup Long', 'Destination Lat', 'Destination Long',\n",
              "       'Rider Id', 'No_Of_Orders', 'Age', 'Average_Rating', 'No_of_Ratings'],\n",
              "      dtype='object')"
            ]
          },
          "metadata": {},
          "execution_count": 30
        }
      ]
    },
    {
      "cell_type": "code",
      "metadata": {
        "id": "FP8zoXv2VDnf",
        "scrolled": true
      },
      "source": [
        "# Alignment of Dataset\n",
        "\n",
        "merged_train = merged_train[['Order No', 'User Id', 'Vehicle Type',\n",
        "       'Platform Type',\n",
        "       'Personal or Business', 'Placement - Day of Month',\n",
        "       'Placement - Weekday (Mo = 1)', 'Placement - Time',\n",
        "       'Confirmation - Day of Month', 'Confirmation - Weekday (Mo = 1)',\n",
        "       'Confirmation - Time', 'Arrival at Pickup - Day of Month',\n",
        "       'Arrival at Pickup - Weekday (Mo = 1)', 'Arrival at Pickup - Time',\n",
        "       'Pickup - Day of Month', 'Pickup - Weekday (Mo = 1)', 'Pickup - Time',\n",
        "       'Distance (KM)', 'Temperature', 'Precipitation in millimeters',\n",
        "       'Pickup Lat', 'Pickup Long', 'Destination Lat', 'Destination Long',\n",
        "       'Rider Id', 'No_Of_Orders', 'Age', 'Average_Rating', 'No_of_Ratings',\n",
        "       'Time from Pickup to Arrival']]  \n"
      ],
      "execution_count": 31,
      "outputs": []
    },
    {
      "cell_type": "code",
      "metadata": {
        "id": "DcK4dbyIR_Cp",
        "outputId": "193fcb0e-6cf5-480d-e035-e82b4faacb9b",
        "colab": {
          "base_uri": "https://localhost:8080/",
          "height": 400
        }
      },
      "source": [
        "merged_train.head()"
      ],
      "execution_count": 32,
      "outputs": [
        {
          "output_type": "execute_result",
          "data": {
            "text/plain": [
              "         Order No       User Id Vehicle Type  Platform Type  \\\n",
              "0   Order_No_4211   User_Id_633         Bike              3   \n",
              "1  Order_No_25375  User_Id_2285         Bike              3   \n",
              "2   Order_No_1899   User_Id_265         Bike              3   \n",
              "3   Order_No_9336  User_Id_1402         Bike              3   \n",
              "4  Order_No_27883  User_Id_1737         Bike              1   \n",
              "\n",
              "  Personal or Business  Placement - Day of Month  \\\n",
              "0             Business                         9   \n",
              "1             Personal                        12   \n",
              "2             Business                        30   \n",
              "3             Business                        15   \n",
              "4             Personal                        13   \n",
              "\n",
              "   Placement - Weekday (Mo = 1) Placement - Time  Confirmation - Day of Month  \\\n",
              "0                             5       9:35:46 AM                            9   \n",
              "1                             5      11:16:16 AM                           12   \n",
              "2                             2      12:39:25 PM                           30   \n",
              "3                             5       9:25:34 AM                           15   \n",
              "4                             1       9:55:18 AM                           13   \n",
              "\n",
              "   Confirmation - Weekday (Mo = 1)  ... Pickup Lat  Pickup Long  \\\n",
              "0                                5  ...  -1.317755    36.830370   \n",
              "1                                5  ...  -1.351453    36.899315   \n",
              "2                                2  ...  -1.308284    36.843419   \n",
              "3                                5  ...  -1.281301    36.832396   \n",
              "4                                1  ...  -1.266597    36.792118   \n",
              "\n",
              "   Destination Lat Destination Long      Rider Id  No_Of_Orders   Age  \\\n",
              "0        -1.300406        36.829741  Rider_Id_432          1637  1309   \n",
              "1        -1.295004        36.814358  Rider_Id_856           396   339   \n",
              "2        -1.300921        36.828195  Rider_Id_155          1023   242   \n",
              "3        -1.257147        36.795063  Rider_Id_855           886   283   \n",
              "4        -1.295041        36.809817  Rider_Id_770          2311   872   \n",
              "\n",
              "   Average_Rating  No_of_Ratings  Time from Pickup to Arrival  \n",
              "0            13.8            549                          745  \n",
              "1            13.6             69                         1993  \n",
              "2            12.5            114                          455  \n",
              "3            14.5            113                         1341  \n",
              "4            14.1            533                         1214  \n",
              "\n",
              "[5 rows x 30 columns]"
            ],
            "text/html": "<div>\n<style scoped>\n    .dataframe tbody tr th:only-of-type {\n        vertical-align: middle;\n    }\n\n    .dataframe tbody tr th {\n        vertical-align: top;\n    }\n\n    .dataframe thead th {\n        text-align: right;\n    }\n</style>\n<table border=\"1\" class=\"dataframe\">\n  <thead>\n    <tr style=\"text-align: right;\">\n      <th></th>\n      <th>Order No</th>\n      <th>User Id</th>\n      <th>Vehicle Type</th>\n      <th>Platform Type</th>\n      <th>Personal or Business</th>\n      <th>Placement - Day of Month</th>\n      <th>Placement - Weekday (Mo = 1)</th>\n      <th>Placement - Time</th>\n      <th>Confirmation - Day of Month</th>\n      <th>Confirmation - Weekday (Mo = 1)</th>\n      <th>...</th>\n      <th>Pickup Lat</th>\n      <th>Pickup Long</th>\n      <th>Destination Lat</th>\n      <th>Destination Long</th>\n      <th>Rider Id</th>\n      <th>No_Of_Orders</th>\n      <th>Age</th>\n      <th>Average_Rating</th>\n      <th>No_of_Ratings</th>\n      <th>Time from Pickup to Arrival</th>\n    </tr>\n  </thead>\n  <tbody>\n    <tr>\n      <th>0</th>\n      <td>Order_No_4211</td>\n      <td>User_Id_633</td>\n      <td>Bike</td>\n      <td>3</td>\n      <td>Business</td>\n      <td>9</td>\n      <td>5</td>\n      <td>9:35:46 AM</td>\n      <td>9</td>\n      <td>5</td>\n      <td>...</td>\n      <td>-1.317755</td>\n      <td>36.830370</td>\n      <td>-1.300406</td>\n      <td>36.829741</td>\n      <td>Rider_Id_432</td>\n      <td>1637</td>\n      <td>1309</td>\n      <td>13.8</td>\n      <td>549</td>\n      <td>745</td>\n    </tr>\n    <tr>\n      <th>1</th>\n      <td>Order_No_25375</td>\n      <td>User_Id_2285</td>\n      <td>Bike</td>\n      <td>3</td>\n      <td>Personal</td>\n      <td>12</td>\n      <td>5</td>\n      <td>11:16:16 AM</td>\n      <td>12</td>\n      <td>5</td>\n      <td>...</td>\n      <td>-1.351453</td>\n      <td>36.899315</td>\n      <td>-1.295004</td>\n      <td>36.814358</td>\n      <td>Rider_Id_856</td>\n      <td>396</td>\n      <td>339</td>\n      <td>13.6</td>\n      <td>69</td>\n      <td>1993</td>\n    </tr>\n    <tr>\n      <th>2</th>\n      <td>Order_No_1899</td>\n      <td>User_Id_265</td>\n      <td>Bike</td>\n      <td>3</td>\n      <td>Business</td>\n      <td>30</td>\n      <td>2</td>\n      <td>12:39:25 PM</td>\n      <td>30</td>\n      <td>2</td>\n      <td>...</td>\n      <td>-1.308284</td>\n      <td>36.843419</td>\n      <td>-1.300921</td>\n      <td>36.828195</td>\n      <td>Rider_Id_155</td>\n      <td>1023</td>\n      <td>242</td>\n      <td>12.5</td>\n      <td>114</td>\n      <td>455</td>\n    </tr>\n    <tr>\n      <th>3</th>\n      <td>Order_No_9336</td>\n      <td>User_Id_1402</td>\n      <td>Bike</td>\n      <td>3</td>\n      <td>Business</td>\n      <td>15</td>\n      <td>5</td>\n      <td>9:25:34 AM</td>\n      <td>15</td>\n      <td>5</td>\n      <td>...</td>\n      <td>-1.281301</td>\n      <td>36.832396</td>\n      <td>-1.257147</td>\n      <td>36.795063</td>\n      <td>Rider_Id_855</td>\n      <td>886</td>\n      <td>283</td>\n      <td>14.5</td>\n      <td>113</td>\n      <td>1341</td>\n    </tr>\n    <tr>\n      <th>4</th>\n      <td>Order_No_27883</td>\n      <td>User_Id_1737</td>\n      <td>Bike</td>\n      <td>1</td>\n      <td>Personal</td>\n      <td>13</td>\n      <td>1</td>\n      <td>9:55:18 AM</td>\n      <td>13</td>\n      <td>1</td>\n      <td>...</td>\n      <td>-1.266597</td>\n      <td>36.792118</td>\n      <td>-1.295041</td>\n      <td>36.809817</td>\n      <td>Rider_Id_770</td>\n      <td>2311</td>\n      <td>872</td>\n      <td>14.1</td>\n      <td>533</td>\n      <td>1214</td>\n    </tr>\n  </tbody>\n</table>\n<p>5 rows × 30 columns</p>\n</div>"
          },
          "metadata": {},
          "execution_count": 32
        }
      ]
    },
    {
      "cell_type": "code",
      "metadata": {
        "id": "qWSP4X_pprGR",
        "outputId": "5064dcd3-8fe2-4292-e211-523128610026",
        "colab": {
          "base_uri": "https://localhost:8080/",
          "height": 454
        }
      },
      "source": [
        "# Investigated the merged data\n",
        "\n",
        "merged_train.hist(bins=60, figsize=(20,15))\n"
      ],
      "execution_count": 33,
      "outputs": [
        {
          "output_type": "display_data",
          "data": {
            "text/plain": "<IPython.core.display.Javascript object>",
            "application/javascript": "/* Put everything inside the global mpl namespace */\nwindow.mpl = {};\n\n\nmpl.get_websocket_type = function() {\n    if (typeof(WebSocket) !== 'undefined') {\n        return WebSocket;\n    } else if (typeof(MozWebSocket) !== 'undefined') {\n        return MozWebSocket;\n    } else {\n        alert('Your browser does not have WebSocket support. ' +\n              'Please try Chrome, Safari or Firefox ≥ 6. ' +\n              'Firefox 4 and 5 are also supported but you ' +\n              'have to enable WebSockets in about:config.');\n    };\n}\n\nmpl.figure = function(figure_id, websocket, ondownload, parent_element) {\n    this.id = figure_id;\n\n    this.ws = websocket;\n\n    this.supports_binary = (this.ws.binaryType != undefined);\n\n    if (!this.supports_binary) {\n        var warnings = document.getElementById(\"mpl-warnings\");\n        if (warnings) {\n            warnings.style.display = 'block';\n            warnings.textContent = (\n                \"This browser does not support binary websocket messages. \" +\n                    \"Performance may be slow.\");\n        }\n    }\n\n    this.imageObj = new Image();\n\n    this.context = undefined;\n    this.message = undefined;\n    this.canvas = undefined;\n    this.rubberband_canvas = undefined;\n    this.rubberband_context = undefined;\n    this.format_dropdown = undefined;\n\n    this.image_mode = 'full';\n\n    this.root = $('<div/>');\n    this._root_extra_style(this.root)\n    this.root.attr('style', 'display: inline-block');\n\n    $(parent_element).append(this.root);\n\n    this._init_header(this);\n    this._init_canvas(this);\n    this._init_toolbar(this);\n\n    var fig = this;\n\n    this.waiting = false;\n\n    this.ws.onopen =  function () {\n            fig.send_message(\"supports_binary\", {value: fig.supports_binary});\n            fig.send_message(\"send_image_mode\", {});\n            if (mpl.ratio != 1) {\n                fig.send_message(\"set_dpi_ratio\", {'dpi_ratio': mpl.ratio});\n            }\n            fig.send_message(\"refresh\", {});\n        }\n\n    this.imageObj.onload = function() {\n            if (fig.image_mode == 'full') {\n                // Full images could contain transparency (where diff images\n                // almost always do), so we need to clear the canvas so that\n                // there is no ghosting.\n                fig.context.clearRect(0, 0, fig.canvas.width, fig.canvas.height);\n            }\n            fig.context.drawImage(fig.imageObj, 0, 0);\n        };\n\n    this.imageObj.onunload = function() {\n        fig.ws.close();\n    }\n\n    this.ws.onmessage = this._make_on_message_function(this);\n\n    this.ondownload = ondownload;\n}\n\nmpl.figure.prototype._init_header = function() {\n    var titlebar = $(\n        '<div class=\"ui-dialog-titlebar ui-widget-header ui-corner-all ' +\n        'ui-helper-clearfix\"/>');\n    var titletext = $(\n        '<div class=\"ui-dialog-title\" style=\"width: 100%; ' +\n        'text-align: center; padding: 3px;\"/>');\n    titlebar.append(titletext)\n    this.root.append(titlebar);\n    this.header = titletext[0];\n}\n\n\n\nmpl.figure.prototype._canvas_extra_style = function(canvas_div) {\n\n}\n\n\nmpl.figure.prototype._root_extra_style = function(canvas_div) {\n\n}\n\nmpl.figure.prototype._init_canvas = function() {\n    var fig = this;\n\n    var canvas_div = $('<div/>');\n\n    canvas_div.attr('style', 'position: relative; clear: both; outline: 0');\n\n    function canvas_keyboard_event(event) {\n        return fig.key_event(event, event['data']);\n    }\n\n    canvas_div.keydown('key_press', canvas_keyboard_event);\n    canvas_div.keyup('key_release', canvas_keyboard_event);\n    this.canvas_div = canvas_div\n    this._canvas_extra_style(canvas_div)\n    this.root.append(canvas_div);\n\n    var canvas = $('<canvas/>');\n    canvas.addClass('mpl-canvas');\n    canvas.attr('style', \"left: 0; top: 0; z-index: 0; outline: 0\")\n\n    this.canvas = canvas[0];\n    this.context = canvas[0].getContext(\"2d\");\n\n    var backingStore = this.context.backingStorePixelRatio ||\n\tthis.context.webkitBackingStorePixelRatio ||\n\tthis.context.mozBackingStorePixelRatio ||\n\tthis.context.msBackingStorePixelRatio ||\n\tthis.context.oBackingStorePixelRatio ||\n\tthis.context.backingStorePixelRatio || 1;\n\n    mpl.ratio = (window.devicePixelRatio || 1) / backingStore;\n\n    var rubberband = $('<canvas/>');\n    rubberband.attr('style', \"position: absolute; left: 0; top: 0; z-index: 1;\")\n\n    var pass_mouse_events = true;\n\n    canvas_div.resizable({\n        start: function(event, ui) {\n            pass_mouse_events = false;\n        },\n        resize: function(event, ui) {\n            fig.request_resize(ui.size.width, ui.size.height);\n        },\n        stop: function(event, ui) {\n            pass_mouse_events = true;\n            fig.request_resize(ui.size.width, ui.size.height);\n        },\n    });\n\n    function mouse_event_fn(event) {\n        if (pass_mouse_events)\n            return fig.mouse_event(event, event['data']);\n    }\n\n    rubberband.mousedown('button_press', mouse_event_fn);\n    rubberband.mouseup('button_release', mouse_event_fn);\n    // Throttle sequential mouse events to 1 every 20ms.\n    rubberband.mousemove('motion_notify', mouse_event_fn);\n\n    rubberband.mouseenter('figure_enter', mouse_event_fn);\n    rubberband.mouseleave('figure_leave', mouse_event_fn);\n\n    canvas_div.on(\"wheel\", function (event) {\n        event = event.originalEvent;\n        event['data'] = 'scroll'\n        if (event.deltaY < 0) {\n            event.step = 1;\n        } else {\n            event.step = -1;\n        }\n        mouse_event_fn(event);\n    });\n\n    canvas_div.append(canvas);\n    canvas_div.append(rubberband);\n\n    this.rubberband = rubberband;\n    this.rubberband_canvas = rubberband[0];\n    this.rubberband_context = rubberband[0].getContext(\"2d\");\n    this.rubberband_context.strokeStyle = \"#000000\";\n\n    this._resize_canvas = function(width, height) {\n        // Keep the size of the canvas, canvas container, and rubber band\n        // canvas in synch.\n        canvas_div.css('width', width)\n        canvas_div.css('height', height)\n\n        canvas.attr('width', width * mpl.ratio);\n        canvas.attr('height', height * mpl.ratio);\n        canvas.attr('style', 'width: ' + width + 'px; height: ' + height + 'px;');\n\n        rubberband.attr('width', width);\n        rubberband.attr('height', height);\n    }\n\n    // Set the figure to an initial 600x600px, this will subsequently be updated\n    // upon first draw.\n    this._resize_canvas(600, 600);\n\n    // Disable right mouse context menu.\n    $(this.rubberband_canvas).bind(\"contextmenu\",function(e){\n        return false;\n    });\n\n    function set_focus () {\n        canvas.focus();\n        canvas_div.focus();\n    }\n\n    window.setTimeout(set_focus, 100);\n}\n\nmpl.figure.prototype._init_toolbar = function() {\n    var fig = this;\n\n    var nav_element = $('<div/>');\n    nav_element.attr('style', 'width: 100%');\n    this.root.append(nav_element);\n\n    // Define a callback function for later on.\n    function toolbar_event(event) {\n        return fig.toolbar_button_onclick(event['data']);\n    }\n    function toolbar_mouse_event(event) {\n        return fig.toolbar_button_onmouseover(event['data']);\n    }\n\n    for(var toolbar_ind in mpl.toolbar_items) {\n        var name = mpl.toolbar_items[toolbar_ind][0];\n        var tooltip = mpl.toolbar_items[toolbar_ind][1];\n        var image = mpl.toolbar_items[toolbar_ind][2];\n        var method_name = mpl.toolbar_items[toolbar_ind][3];\n\n        if (!name) {\n            // put a spacer in here.\n            continue;\n        }\n        var button = $('<button/>');\n        button.addClass('ui-button ui-widget ui-state-default ui-corner-all ' +\n                        'ui-button-icon-only');\n        button.attr('role', 'button');\n        button.attr('aria-disabled', 'false');\n        button.click(method_name, toolbar_event);\n        button.mouseover(tooltip, toolbar_mouse_event);\n\n        var icon_img = $('<span/>');\n        icon_img.addClass('ui-button-icon-primary ui-icon');\n        icon_img.addClass(image);\n        icon_img.addClass('ui-corner-all');\n\n        var tooltip_span = $('<span/>');\n        tooltip_span.addClass('ui-button-text');\n        tooltip_span.html(tooltip);\n\n        button.append(icon_img);\n        button.append(tooltip_span);\n\n        nav_element.append(button);\n    }\n\n    var fmt_picker_span = $('<span/>');\n\n    var fmt_picker = $('<select/>');\n    fmt_picker.addClass('mpl-toolbar-option ui-widget ui-widget-content');\n    fmt_picker_span.append(fmt_picker);\n    nav_element.append(fmt_picker_span);\n    this.format_dropdown = fmt_picker[0];\n\n    for (var ind in mpl.extensions) {\n        var fmt = mpl.extensions[ind];\n        var option = $(\n            '<option/>', {selected: fmt === mpl.default_extension}).html(fmt);\n        fmt_picker.append(option);\n    }\n\n    // Add hover states to the ui-buttons\n    $( \".ui-button\" ).hover(\n        function() { $(this).addClass(\"ui-state-hover\");},\n        function() { $(this).removeClass(\"ui-state-hover\");}\n    );\n\n    var status_bar = $('<span class=\"mpl-message\"/>');\n    nav_element.append(status_bar);\n    this.message = status_bar[0];\n}\n\nmpl.figure.prototype.request_resize = function(x_pixels, y_pixels) {\n    // Request matplotlib to resize the figure. Matplotlib will then trigger a resize in the client,\n    // which will in turn request a refresh of the image.\n    this.send_message('resize', {'width': x_pixels, 'height': y_pixels});\n}\n\nmpl.figure.prototype.send_message = function(type, properties) {\n    properties['type'] = type;\n    properties['figure_id'] = this.id;\n    this.ws.send(JSON.stringify(properties));\n}\n\nmpl.figure.prototype.send_draw_message = function() {\n    if (!this.waiting) {\n        this.waiting = true;\n        this.ws.send(JSON.stringify({type: \"draw\", figure_id: this.id}));\n    }\n}\n\n\nmpl.figure.prototype.handle_save = function(fig, msg) {\n    var format_dropdown = fig.format_dropdown;\n    var format = format_dropdown.options[format_dropdown.selectedIndex].value;\n    fig.ondownload(fig, format);\n}\n\n\nmpl.figure.prototype.handle_resize = function(fig, msg) {\n    var size = msg['size'];\n    if (size[0] != fig.canvas.width || size[1] != fig.canvas.height) {\n        fig._resize_canvas(size[0], size[1]);\n        fig.send_message(\"refresh\", {});\n    };\n}\n\nmpl.figure.prototype.handle_rubberband = function(fig, msg) {\n    var x0 = msg['x0'] / mpl.ratio;\n    var y0 = (fig.canvas.height - msg['y0']) / mpl.ratio;\n    var x1 = msg['x1'] / mpl.ratio;\n    var y1 = (fig.canvas.height - msg['y1']) / mpl.ratio;\n    x0 = Math.floor(x0) + 0.5;\n    y0 = Math.floor(y0) + 0.5;\n    x1 = Math.floor(x1) + 0.5;\n    y1 = Math.floor(y1) + 0.5;\n    var min_x = Math.min(x0, x1);\n    var min_y = Math.min(y0, y1);\n    var width = Math.abs(x1 - x0);\n    var height = Math.abs(y1 - y0);\n\n    fig.rubberband_context.clearRect(\n        0, 0, fig.canvas.width / mpl.ratio, fig.canvas.height / mpl.ratio);\n\n    fig.rubberband_context.strokeRect(min_x, min_y, width, height);\n}\n\nmpl.figure.prototype.handle_figure_label = function(fig, msg) {\n    // Updates the figure title.\n    fig.header.textContent = msg['label'];\n}\n\nmpl.figure.prototype.handle_cursor = function(fig, msg) {\n    var cursor = msg['cursor'];\n    switch(cursor)\n    {\n    case 0:\n        cursor = 'pointer';\n        break;\n    case 1:\n        cursor = 'default';\n        break;\n    case 2:\n        cursor = 'crosshair';\n        break;\n    case 3:\n        cursor = 'move';\n        break;\n    }\n    fig.rubberband_canvas.style.cursor = cursor;\n}\n\nmpl.figure.prototype.handle_message = function(fig, msg) {\n    fig.message.textContent = msg['message'];\n}\n\nmpl.figure.prototype.handle_draw = function(fig, msg) {\n    // Request the server to send over a new figure.\n    fig.send_draw_message();\n}\n\nmpl.figure.prototype.handle_image_mode = function(fig, msg) {\n    fig.image_mode = msg['mode'];\n}\n\nmpl.figure.prototype.updated_canvas_event = function() {\n    // Called whenever the canvas gets updated.\n    this.send_message(\"ack\", {});\n}\n\n// A function to construct a web socket function for onmessage handling.\n// Called in the figure constructor.\nmpl.figure.prototype._make_on_message_function = function(fig) {\n    return function socket_on_message(evt) {\n        if (evt.data instanceof Blob) {\n            /* FIXME: We get \"Resource interpreted as Image but\n             * transferred with MIME type text/plain:\" errors on\n             * Chrome.  But how to set the MIME type?  It doesn't seem\n             * to be part of the websocket stream */\n            evt.data.type = \"image/png\";\n\n            /* Free the memory for the previous frames */\n            if (fig.imageObj.src) {\n                (window.URL || window.webkitURL).revokeObjectURL(\n                    fig.imageObj.src);\n            }\n\n            fig.imageObj.src = (window.URL || window.webkitURL).createObjectURL(\n                evt.data);\n            fig.updated_canvas_event();\n            fig.waiting = false;\n            return;\n        }\n        else if (typeof evt.data === 'string' && evt.data.slice(0, 21) == \"data:image/png;base64\") {\n            fig.imageObj.src = evt.data;\n            fig.updated_canvas_event();\n            fig.waiting = false;\n            return;\n        }\n\n        var msg = JSON.parse(evt.data);\n        var msg_type = msg['type'];\n\n        // Call the  \"handle_{type}\" callback, which takes\n        // the figure and JSON message as its only arguments.\n        try {\n            var callback = fig[\"handle_\" + msg_type];\n        } catch (e) {\n            console.log(\"No handler for the '\" + msg_type + \"' message type: \", msg);\n            return;\n        }\n\n        if (callback) {\n            try {\n                // console.log(\"Handling '\" + msg_type + \"' message: \", msg);\n                callback(fig, msg);\n            } catch (e) {\n                console.log(\"Exception inside the 'handler_\" + msg_type + \"' callback:\", e, e.stack, msg);\n            }\n        }\n    };\n}\n\n// from http://stackoverflow.com/questions/1114465/getting-mouse-location-in-canvas\nmpl.findpos = function(e) {\n    //this section is from http://www.quirksmode.org/js/events_properties.html\n    var targ;\n    if (!e)\n        e = window.event;\n    if (e.target)\n        targ = e.target;\n    else if (e.srcElement)\n        targ = e.srcElement;\n    if (targ.nodeType == 3) // defeat Safari bug\n        targ = targ.parentNode;\n\n    // jQuery normalizes the pageX and pageY\n    // pageX,Y are the mouse positions relative to the document\n    // offset() returns the position of the element relative to the document\n    var x = e.pageX - $(targ).offset().left;\n    var y = e.pageY - $(targ).offset().top;\n\n    return {\"x\": x, \"y\": y};\n};\n\n/*\n * return a copy of an object with only non-object keys\n * we need this to avoid circular references\n * http://stackoverflow.com/a/24161582/3208463\n */\nfunction simpleKeys (original) {\n  return Object.keys(original).reduce(function (obj, key) {\n    if (typeof original[key] !== 'object')\n        obj[key] = original[key]\n    return obj;\n  }, {});\n}\n\nmpl.figure.prototype.mouse_event = function(event, name) {\n    var canvas_pos = mpl.findpos(event)\n\n    if (name === 'button_press')\n    {\n        this.canvas.focus();\n        this.canvas_div.focus();\n    }\n\n    var x = canvas_pos.x * mpl.ratio;\n    var y = canvas_pos.y * mpl.ratio;\n\n    this.send_message(name, {x: x, y: y, button: event.button,\n                             step: event.step,\n                             guiEvent: simpleKeys(event)});\n\n    /* This prevents the web browser from automatically changing to\n     * the text insertion cursor when the button is pressed.  We want\n     * to control all of the cursor setting manually through the\n     * 'cursor' event from matplotlib */\n    event.preventDefault();\n    return false;\n}\n\nmpl.figure.prototype._key_event_extra = function(event, name) {\n    // Handle any extra behaviour associated with a key event\n}\n\nmpl.figure.prototype.key_event = function(event, name) {\n\n    // Prevent repeat events\n    if (name == 'key_press')\n    {\n        if (event.which === this._key)\n            return;\n        else\n            this._key = event.which;\n    }\n    if (name == 'key_release')\n        this._key = null;\n\n    var value = '';\n    if (event.ctrlKey && event.which != 17)\n        value += \"ctrl+\";\n    if (event.altKey && event.which != 18)\n        value += \"alt+\";\n    if (event.shiftKey && event.which != 16)\n        value += \"shift+\";\n\n    value += 'k';\n    value += event.which.toString();\n\n    this._key_event_extra(event, name);\n\n    this.send_message(name, {key: value,\n                             guiEvent: simpleKeys(event)});\n    return false;\n}\n\nmpl.figure.prototype.toolbar_button_onclick = function(name) {\n    if (name == 'download') {\n        this.handle_save(this, null);\n    } else {\n        this.send_message(\"toolbar_button\", {name: name});\n    }\n};\n\nmpl.figure.prototype.toolbar_button_onmouseover = function(tooltip) {\n    this.message.textContent = tooltip;\n};\nmpl.toolbar_items = [[\"Home\", \"Reset original view\", \"fa fa-home icon-home\", \"home\"], [\"Back\", \"Back to previous view\", \"fa fa-arrow-left icon-arrow-left\", \"back\"], [\"Forward\", \"Forward to next view\", \"fa fa-arrow-right icon-arrow-right\", \"forward\"], [\"\", \"\", \"\", \"\"], [\"Pan\", \"Pan axes with left mouse, zoom with right\", \"fa fa-arrows icon-move\", \"pan\"], [\"Zoom\", \"Zoom to rectangle\", \"fa fa-square-o icon-check-empty\", \"zoom\"], [\"\", \"\", \"\", \"\"], [\"Download\", \"Download plot\", \"fa fa-floppy-o icon-save\", \"download\"]];\n\nmpl.extensions = [\"eps\", \"jpeg\", \"pdf\", \"png\", \"ps\", \"raw\", \"svg\", \"tif\"];\n\nmpl.default_extension = \"png\";var comm_websocket_adapter = function(comm) {\n    // Create a \"websocket\"-like object which calls the given IPython comm\n    // object with the appropriate methods. Currently this is a non binary\n    // socket, so there is still some room for performance tuning.\n    var ws = {};\n\n    ws.close = function() {\n        comm.close()\n    };\n    ws.send = function(m) {\n        //console.log('sending', m);\n        comm.send(m);\n    };\n    // Register the callback with on_msg.\n    comm.on_msg(function(msg) {\n        //console.log('receiving', msg['content']['data'], msg);\n        // Pass the mpl event to the overridden (by mpl) onmessage function.\n        ws.onmessage(msg['content']['data'])\n    });\n    return ws;\n}\n\nmpl.mpl_figure_comm = function(comm, msg) {\n    // This is the function which gets called when the mpl process\n    // starts-up an IPython Comm through the \"matplotlib\" channel.\n\n    var id = msg.content.data.id;\n    // Get hold of the div created by the display call when the Comm\n    // socket was opened in Python.\n    var element = $(\"#\" + id);\n    var ws_proxy = comm_websocket_adapter(comm)\n\n    function ondownload(figure, format) {\n        window.open(figure.imageObj.src);\n    }\n\n    var fig = new mpl.figure(id, ws_proxy,\n                           ondownload,\n                           element.get(0));\n\n    // Call onopen now - mpl needs it, as it is assuming we've passed it a real\n    // web socket which is closed, not our websocket->open comm proxy.\n    ws_proxy.onopen();\n\n    fig.parent_element = element.get(0);\n    fig.cell_info = mpl.find_output_cell(\"<div id='\" + id + \"'></div>\");\n    if (!fig.cell_info) {\n        console.error(\"Failed to find cell for figure\", id, fig);\n        return;\n    }\n\n    var output_index = fig.cell_info[2]\n    var cell = fig.cell_info[0];\n\n};\n\nmpl.figure.prototype.handle_close = function(fig, msg) {\n    var width = fig.canvas.width/mpl.ratio\n    fig.root.unbind('remove')\n\n    // Update the output cell to use the data from the current canvas.\n    fig.push_to_output();\n    var dataURL = fig.canvas.toDataURL();\n    // Re-enable the keyboard manager in IPython - without this line, in FF,\n    // the notebook keyboard shortcuts fail.\n    IPython.keyboard_manager.enable()\n    $(fig.parent_element).html('<img src=\"' + dataURL + '\" width=\"' + width + '\">');\n    fig.close_ws(fig, msg);\n}\n\nmpl.figure.prototype.close_ws = function(fig, msg){\n    fig.send_message('closing', msg);\n    // fig.ws.close()\n}\n\nmpl.figure.prototype.push_to_output = function(remove_interactive) {\n    // Turn the data on the canvas into data in the output cell.\n    var width = this.canvas.width/mpl.ratio\n    var dataURL = this.canvas.toDataURL();\n    this.cell_info[1]['text/html'] = '<img src=\"' + dataURL + '\" width=\"' + width + '\">';\n}\n\nmpl.figure.prototype.updated_canvas_event = function() {\n    // Tell IPython that the notebook contents must change.\n    IPython.notebook.set_dirty(true);\n    this.send_message(\"ack\", {});\n    var fig = this;\n    // Wait a second, then push the new image to the DOM so\n    // that it is saved nicely (might be nice to debounce this).\n    setTimeout(function () { fig.push_to_output() }, 1000);\n}\n\nmpl.figure.prototype._init_toolbar = function() {\n    var fig = this;\n\n    var nav_element = $('<div/>');\n    nav_element.attr('style', 'width: 100%');\n    this.root.append(nav_element);\n\n    // Define a callback function for later on.\n    function toolbar_event(event) {\n        return fig.toolbar_button_onclick(event['data']);\n    }\n    function toolbar_mouse_event(event) {\n        return fig.toolbar_button_onmouseover(event['data']);\n    }\n\n    for(var toolbar_ind in mpl.toolbar_items){\n        var name = mpl.toolbar_items[toolbar_ind][0];\n        var tooltip = mpl.toolbar_items[toolbar_ind][1];\n        var image = mpl.toolbar_items[toolbar_ind][2];\n        var method_name = mpl.toolbar_items[toolbar_ind][3];\n\n        if (!name) { continue; };\n\n        var button = $('<button class=\"btn btn-default\" href=\"#\" title=\"' + name + '\"><i class=\"fa ' + image + ' fa-lg\"></i></button>');\n        button.click(method_name, toolbar_event);\n        button.mouseover(tooltip, toolbar_mouse_event);\n        nav_element.append(button);\n    }\n\n    // Add the status bar.\n    var status_bar = $('<span class=\"mpl-message\" style=\"text-align:right; float: right;\"/>');\n    nav_element.append(status_bar);\n    this.message = status_bar[0];\n\n    // Add the close button to the window.\n    var buttongrp = $('<div class=\"btn-group inline pull-right\"></div>');\n    var button = $('<button class=\"btn btn-mini btn-primary\" href=\"#\" title=\"Stop Interaction\"><i class=\"fa fa-power-off icon-remove icon-large\"></i></button>');\n    button.click(function (evt) { fig.handle_close(fig, {}); } );\n    button.mouseover('Stop Interaction', toolbar_mouse_event);\n    buttongrp.append(button);\n    var titlebar = this.root.find($('.ui-dialog-titlebar'));\n    titlebar.prepend(buttongrp);\n}\n\nmpl.figure.prototype._root_extra_style = function(el){\n    var fig = this\n    el.on(\"remove\", function(){\n\tfig.close_ws(fig, {});\n    });\n}\n\nmpl.figure.prototype._canvas_extra_style = function(el){\n    // this is important to make the div 'focusable\n    el.attr('tabindex', 0)\n    // reach out to IPython and tell the keyboard manager to turn it's self\n    // off when our div gets focus\n\n    // location in version 3\n    if (IPython.notebook.keyboard_manager) {\n        IPython.notebook.keyboard_manager.register_events(el);\n    }\n    else {\n        // location in version 2\n        IPython.keyboard_manager.register_events(el);\n    }\n\n}\n\nmpl.figure.prototype._key_event_extra = function(event, name) {\n    var manager = IPython.notebook.keyboard_manager;\n    if (!manager)\n        manager = IPython.keyboard_manager;\n\n    // Check for shift+enter\n    if (event.shiftKey && event.which == 13) {\n        this.canvas_div.blur();\n        // select the cell after this one\n        var index = IPython.notebook.find_cell_index(this.cell_info[0]);\n        IPython.notebook.select(index + 1);\n    }\n}\n\nmpl.figure.prototype.handle_save = function(fig, msg) {\n    fig.ondownload(fig, null);\n}\n\n\nmpl.find_output_cell = function(html_output) {\n    // Return the cell and output element which can be found *uniquely* in the notebook.\n    // Note - this is a bit hacky, but it is done because the \"notebook_saving.Notebook\"\n    // IPython event is triggered only after the cells have been serialised, which for\n    // our purposes (turning an active figure into a static one), is too late.\n    var cells = IPython.notebook.get_cells();\n    var ncells = cells.length;\n    for (var i=0; i<ncells; i++) {\n        var cell = cells[i];\n        if (cell.cell_type === 'code'){\n            for (var j=0; j<cell.output_area.outputs.length; j++) {\n                var data = cell.output_area.outputs[j];\n                if (data.data) {\n                    // IPython >= 3 moved mimebundle to data attribute of output\n                    data = data.data;\n                }\n                if (data['text/html'] == html_output) {\n                    return [cell, data, j];\n                }\n            }\n        }\n    }\n}\n\n// Register the function which deals with the matplotlib target/channel.\n// The kernel may be null if the page has been refreshed.\nif (IPython.notebook.kernel != null) {\n    IPython.notebook.kernel.comm_manager.register_target('matplotlib', mpl.mpl_figure_comm);\n}\n"
          },
          "metadata": {}
        },
        {
          "output_type": "display_data",
          "data": {
            "text/plain": "<IPython.core.display.HTML object>",
            "text/html": "<div id='8375e8f6-5f3a-4407-a7c4-d2fbe1ce53bb'></div>"
          },
          "metadata": {}
        },
        {
          "output_type": "execute_result",
          "data": {
            "text/plain": [
              "array([[<matplotlib.axes._subplots.AxesSubplot object at 0x000001BEEB1BE5C8>,\n",
              "        <matplotlib.axes._subplots.AxesSubplot object at 0x000001BEEB355208>,\n",
              "        <matplotlib.axes._subplots.AxesSubplot object at 0x000001BEEB38E188>,\n",
              "        <matplotlib.axes._subplots.AxesSubplot object at 0x000001BEEB3C5288>,\n",
              "        <matplotlib.axes._subplots.AxesSubplot object at 0x000001BEEB3F9FC8>],\n",
              "       [<matplotlib.axes._subplots.AxesSubplot object at 0x000001BEEB5E8108>,\n",
              "        <matplotlib.axes._subplots.AxesSubplot object at 0x000001BEEB623208>,\n",
              "        <matplotlib.axes._subplots.AxesSubplot object at 0x000001BEEB65A348>,\n",
              "        <matplotlib.axes._subplots.AxesSubplot object at 0x000001BEEB65FF08>,\n",
              "        <matplotlib.axes._subplots.AxesSubplot object at 0x000001BEEB69F108>],\n",
              "       [<matplotlib.axes._subplots.AxesSubplot object at 0x000001BEEB708E48>,\n",
              "        <matplotlib.axes._subplots.AxesSubplot object at 0x000001BEEB73B748>,\n",
              "        <matplotlib.axes._subplots.AxesSubplot object at 0x000001BEEB774848>,\n",
              "        <matplotlib.axes._subplots.AxesSubplot object at 0x000001BEEB7AD988>,\n",
              "        <matplotlib.axes._subplots.AxesSubplot object at 0x000001BEEB7E6A88>],\n",
              "       [<matplotlib.axes._subplots.AxesSubplot object at 0x000001BEEB81FB08>,\n",
              "        <matplotlib.axes._subplots.AxesSubplot object at 0x000001BEEB859C48>,\n",
              "        <matplotlib.axes._subplots.AxesSubplot object at 0x000001BEEB891D48>,\n",
              "        <matplotlib.axes._subplots.AxesSubplot object at 0x000001BEEB8C9E48>,\n",
              "        <matplotlib.axes._subplots.AxesSubplot object at 0x000001BEEB901F88>],\n",
              "       [<matplotlib.axes._subplots.AxesSubplot object at 0x000001BEEB940088>,\n",
              "        <matplotlib.axes._subplots.AxesSubplot object at 0x000001BEEB977188>,\n",
              "        <matplotlib.axes._subplots.AxesSubplot object at 0x000001BEEB9AF388>,\n",
              "        <matplotlib.axes._subplots.AxesSubplot object at 0x000001BEEB9EA588>,\n",
              "        <matplotlib.axes._subplots.AxesSubplot object at 0x000001BEEBA23748>]],\n",
              "      dtype=object)"
            ]
          },
          "metadata": {},
          "execution_count": 33
        }
      ]
    },
    {
      "cell_type": "markdown",
      "metadata": {
        "id": "Mkug94hkprGV"
      },
      "source": [
        "#### Key observations:\n",
        "- Platform type 3 is the most prefered.\n",
        "- Placement, confirmation and pickup day of the month indicates that majority of orders are made at the beginning and towards the end of the month.\n",
        "- These orders are mainly made on weekdays as shown by weekday data. \n",
        "- Distance data is postively skewed, majority of orders are at short distance. Peaking at around 2000 for 6-7 kilometers.\n",
        "- Temperature is normal distributed, with an expected peak around the mean as we resolved the missing values by mean.\n",
        "- As expected, the precipitations follows the same trend as temperature, indicating a peak around the value we resolved the missing values by. In this case, it is zero. \n",
        "- Latitutides and longitutes are more centered around the mean. \n",
        "- No. of orders, Age and No. of ratings indicates positive skewness with an evidence of outliers. \n",
        "- Drivers received ratings between 12 and 15.\n",
        "- All in all, the target variable is positively skewed, with majority of driveriver arriving at the destination within 23 min from the pickup point."
      ]
    },
    {
      "cell_type": "markdown",
      "metadata": {
        "id": "KaovR74_VDni"
      },
      "source": [
        "## Variable Selection by correlation and significance ##\n",
        "\n",
        "- We have more predictor variables to choose from, so we need a way of guiding us to choose the best ones to be our predictors. One way is to look at the correlations between the Time from Pickup to Arrival and each variables in our DataFrame and select those with the strongest correlations (both positive and negative).\n",
        "\n",
        "- We also need to consider how significant those features are.\n",
        "\n",
        "- The code below will create a new DataFrame and store the correlation coefficents and p-values in that DataFrame"
      ]
    },
    {
      "cell_type": "code",
      "metadata": {
        "id": "KfxjzO25VDnj",
        "scrolled": true,
        "outputId": "01992f42-8c37-468c-e9ba-76ad521941e0",
        "colab": {
          "base_uri": "https://localhost:8080/",
          "height": 386
        }
      },
      "source": [
        "# Calculate correlations between predictor variables and the response variable\n",
        "corrs = merged_train .corr()['Time from Pickup to Arrival'].sort_values(ascending=False)\n",
        "corrs"
      ],
      "execution_count": 34,
      "outputs": [
        {
          "output_type": "execute_result",
          "data": {
            "text/plain": [
              "Time from Pickup to Arrival             1.000000\n",
              "Distance (KM)                           0.580608\n",
              "Destination Long                        0.070425\n",
              "Pickup Long                             0.060285\n",
              "Confirmation - Weekday (Mo = 1)         0.009744\n",
              "Arrival at Pickup - Weekday (Mo = 1)    0.009744\n",
              "Pickup - Weekday (Mo = 1)               0.009744\n",
              "Placement - Weekday (Mo = 1)            0.009693\n",
              "Temperature                             0.005772\n",
              "No_of_Ratings                           0.005609\n",
              "Precipitation in millimeters            0.005495\n",
              "Platform Type                          -0.003827\n",
              "Age                                    -0.007969\n",
              "Pickup - Day of Month                  -0.014701\n",
              "Arrival at Pickup - Day of Month       -0.014701\n",
              "Confirmation - Day of Month            -0.014701\n",
              "Placement - Day of Month               -0.014710\n",
              "No_Of_Orders                           -0.041608\n",
              "Average_Rating                         -0.042559\n",
              "Pickup Lat                             -0.053823\n",
              "Destination Lat                        -0.061872\n",
              "Name: Time from Pickup to Arrival, dtype: float64"
            ]
          },
          "metadata": {},
          "execution_count": 34
        }
      ]
    },
    {
      "cell_type": "code",
      "metadata": {
        "scrolled": true,
        "id": "gy_c7a-yprGd",
        "outputId": "980c7643-bd7d-4d70-cc01-a3ae2a75a3aa",
        "colab": {
          "base_uri": "https://localhost:8080/",
          "height": 34
        }
      },
      "source": [
        "# Visualize the correlation\n",
        "\n",
        "sns.heatmap(merged_train.corr(), square=True, annot = False)\n"
      ],
      "execution_count": 35,
      "outputs": [
        {
          "output_type": "display_data",
          "data": {
            "text/plain": "<IPython.core.display.Javascript object>",
            "application/javascript": "/* Put everything inside the global mpl namespace */\nwindow.mpl = {};\n\n\nmpl.get_websocket_type = function() {\n    if (typeof(WebSocket) !== 'undefined') {\n        return WebSocket;\n    } else if (typeof(MozWebSocket) !== 'undefined') {\n        return MozWebSocket;\n    } else {\n        alert('Your browser does not have WebSocket support. ' +\n              'Please try Chrome, Safari or Firefox ≥ 6. ' +\n              'Firefox 4 and 5 are also supported but you ' +\n              'have to enable WebSockets in about:config.');\n    };\n}\n\nmpl.figure = function(figure_id, websocket, ondownload, parent_element) {\n    this.id = figure_id;\n\n    this.ws = websocket;\n\n    this.supports_binary = (this.ws.binaryType != undefined);\n\n    if (!this.supports_binary) {\n        var warnings = document.getElementById(\"mpl-warnings\");\n        if (warnings) {\n            warnings.style.display = 'block';\n            warnings.textContent = (\n                \"This browser does not support binary websocket messages. \" +\n                    \"Performance may be slow.\");\n        }\n    }\n\n    this.imageObj = new Image();\n\n    this.context = undefined;\n    this.message = undefined;\n    this.canvas = undefined;\n    this.rubberband_canvas = undefined;\n    this.rubberband_context = undefined;\n    this.format_dropdown = undefined;\n\n    this.image_mode = 'full';\n\n    this.root = $('<div/>');\n    this._root_extra_style(this.root)\n    this.root.attr('style', 'display: inline-block');\n\n    $(parent_element).append(this.root);\n\n    this._init_header(this);\n    this._init_canvas(this);\n    this._init_toolbar(this);\n\n    var fig = this;\n\n    this.waiting = false;\n\n    this.ws.onopen =  function () {\n            fig.send_message(\"supports_binary\", {value: fig.supports_binary});\n            fig.send_message(\"send_image_mode\", {});\n            if (mpl.ratio != 1) {\n                fig.send_message(\"set_dpi_ratio\", {'dpi_ratio': mpl.ratio});\n            }\n            fig.send_message(\"refresh\", {});\n        }\n\n    this.imageObj.onload = function() {\n            if (fig.image_mode == 'full') {\n                // Full images could contain transparency (where diff images\n                // almost always do), so we need to clear the canvas so that\n                // there is no ghosting.\n                fig.context.clearRect(0, 0, fig.canvas.width, fig.canvas.height);\n            }\n            fig.context.drawImage(fig.imageObj, 0, 0);\n        };\n\n    this.imageObj.onunload = function() {\n        fig.ws.close();\n    }\n\n    this.ws.onmessage = this._make_on_message_function(this);\n\n    this.ondownload = ondownload;\n}\n\nmpl.figure.prototype._init_header = function() {\n    var titlebar = $(\n        '<div class=\"ui-dialog-titlebar ui-widget-header ui-corner-all ' +\n        'ui-helper-clearfix\"/>');\n    var titletext = $(\n        '<div class=\"ui-dialog-title\" style=\"width: 100%; ' +\n        'text-align: center; padding: 3px;\"/>');\n    titlebar.append(titletext)\n    this.root.append(titlebar);\n    this.header = titletext[0];\n}\n\n\n\nmpl.figure.prototype._canvas_extra_style = function(canvas_div) {\n\n}\n\n\nmpl.figure.prototype._root_extra_style = function(canvas_div) {\n\n}\n\nmpl.figure.prototype._init_canvas = function() {\n    var fig = this;\n\n    var canvas_div = $('<div/>');\n\n    canvas_div.attr('style', 'position: relative; clear: both; outline: 0');\n\n    function canvas_keyboard_event(event) {\n        return fig.key_event(event, event['data']);\n    }\n\n    canvas_div.keydown('key_press', canvas_keyboard_event);\n    canvas_div.keyup('key_release', canvas_keyboard_event);\n    this.canvas_div = canvas_div\n    this._canvas_extra_style(canvas_div)\n    this.root.append(canvas_div);\n\n    var canvas = $('<canvas/>');\n    canvas.addClass('mpl-canvas');\n    canvas.attr('style', \"left: 0; top: 0; z-index: 0; outline: 0\")\n\n    this.canvas = canvas[0];\n    this.context = canvas[0].getContext(\"2d\");\n\n    var backingStore = this.context.backingStorePixelRatio ||\n\tthis.context.webkitBackingStorePixelRatio ||\n\tthis.context.mozBackingStorePixelRatio ||\n\tthis.context.msBackingStorePixelRatio ||\n\tthis.context.oBackingStorePixelRatio ||\n\tthis.context.backingStorePixelRatio || 1;\n\n    mpl.ratio = (window.devicePixelRatio || 1) / backingStore;\n\n    var rubberband = $('<canvas/>');\n    rubberband.attr('style', \"position: absolute; left: 0; top: 0; z-index: 1;\")\n\n    var pass_mouse_events = true;\n\n    canvas_div.resizable({\n        start: function(event, ui) {\n            pass_mouse_events = false;\n        },\n        resize: function(event, ui) {\n            fig.request_resize(ui.size.width, ui.size.height);\n        },\n        stop: function(event, ui) {\n            pass_mouse_events = true;\n            fig.request_resize(ui.size.width, ui.size.height);\n        },\n    });\n\n    function mouse_event_fn(event) {\n        if (pass_mouse_events)\n            return fig.mouse_event(event, event['data']);\n    }\n\n    rubberband.mousedown('button_press', mouse_event_fn);\n    rubberband.mouseup('button_release', mouse_event_fn);\n    // Throttle sequential mouse events to 1 every 20ms.\n    rubberband.mousemove('motion_notify', mouse_event_fn);\n\n    rubberband.mouseenter('figure_enter', mouse_event_fn);\n    rubberband.mouseleave('figure_leave', mouse_event_fn);\n\n    canvas_div.on(\"wheel\", function (event) {\n        event = event.originalEvent;\n        event['data'] = 'scroll'\n        if (event.deltaY < 0) {\n            event.step = 1;\n        } else {\n            event.step = -1;\n        }\n        mouse_event_fn(event);\n    });\n\n    canvas_div.append(canvas);\n    canvas_div.append(rubberband);\n\n    this.rubberband = rubberband;\n    this.rubberband_canvas = rubberband[0];\n    this.rubberband_context = rubberband[0].getContext(\"2d\");\n    this.rubberband_context.strokeStyle = \"#000000\";\n\n    this._resize_canvas = function(width, height) {\n        // Keep the size of the canvas, canvas container, and rubber band\n        // canvas in synch.\n        canvas_div.css('width', width)\n        canvas_div.css('height', height)\n\n        canvas.attr('width', width * mpl.ratio);\n        canvas.attr('height', height * mpl.ratio);\n        canvas.attr('style', 'width: ' + width + 'px; height: ' + height + 'px;');\n\n        rubberband.attr('width', width);\n        rubberband.attr('height', height);\n    }\n\n    // Set the figure to an initial 600x600px, this will subsequently be updated\n    // upon first draw.\n    this._resize_canvas(600, 600);\n\n    // Disable right mouse context menu.\n    $(this.rubberband_canvas).bind(\"contextmenu\",function(e){\n        return false;\n    });\n\n    function set_focus () {\n        canvas.focus();\n        canvas_div.focus();\n    }\n\n    window.setTimeout(set_focus, 100);\n}\n\nmpl.figure.prototype._init_toolbar = function() {\n    var fig = this;\n\n    var nav_element = $('<div/>');\n    nav_element.attr('style', 'width: 100%');\n    this.root.append(nav_element);\n\n    // Define a callback function for later on.\n    function toolbar_event(event) {\n        return fig.toolbar_button_onclick(event['data']);\n    }\n    function toolbar_mouse_event(event) {\n        return fig.toolbar_button_onmouseover(event['data']);\n    }\n\n    for(var toolbar_ind in mpl.toolbar_items) {\n        var name = mpl.toolbar_items[toolbar_ind][0];\n        var tooltip = mpl.toolbar_items[toolbar_ind][1];\n        var image = mpl.toolbar_items[toolbar_ind][2];\n        var method_name = mpl.toolbar_items[toolbar_ind][3];\n\n        if (!name) {\n            // put a spacer in here.\n            continue;\n        }\n        var button = $('<button/>');\n        button.addClass('ui-button ui-widget ui-state-default ui-corner-all ' +\n                        'ui-button-icon-only');\n        button.attr('role', 'button');\n        button.attr('aria-disabled', 'false');\n        button.click(method_name, toolbar_event);\n        button.mouseover(tooltip, toolbar_mouse_event);\n\n        var icon_img = $('<span/>');\n        icon_img.addClass('ui-button-icon-primary ui-icon');\n        icon_img.addClass(image);\n        icon_img.addClass('ui-corner-all');\n\n        var tooltip_span = $('<span/>');\n        tooltip_span.addClass('ui-button-text');\n        tooltip_span.html(tooltip);\n\n        button.append(icon_img);\n        button.append(tooltip_span);\n\n        nav_element.append(button);\n    }\n\n    var fmt_picker_span = $('<span/>');\n\n    var fmt_picker = $('<select/>');\n    fmt_picker.addClass('mpl-toolbar-option ui-widget ui-widget-content');\n    fmt_picker_span.append(fmt_picker);\n    nav_element.append(fmt_picker_span);\n    this.format_dropdown = fmt_picker[0];\n\n    for (var ind in mpl.extensions) {\n        var fmt = mpl.extensions[ind];\n        var option = $(\n            '<option/>', {selected: fmt === mpl.default_extension}).html(fmt);\n        fmt_picker.append(option);\n    }\n\n    // Add hover states to the ui-buttons\n    $( \".ui-button\" ).hover(\n        function() { $(this).addClass(\"ui-state-hover\");},\n        function() { $(this).removeClass(\"ui-state-hover\");}\n    );\n\n    var status_bar = $('<span class=\"mpl-message\"/>');\n    nav_element.append(status_bar);\n    this.message = status_bar[0];\n}\n\nmpl.figure.prototype.request_resize = function(x_pixels, y_pixels) {\n    // Request matplotlib to resize the figure. Matplotlib will then trigger a resize in the client,\n    // which will in turn request a refresh of the image.\n    this.send_message('resize', {'width': x_pixels, 'height': y_pixels});\n}\n\nmpl.figure.prototype.send_message = function(type, properties) {\n    properties['type'] = type;\n    properties['figure_id'] = this.id;\n    this.ws.send(JSON.stringify(properties));\n}\n\nmpl.figure.prototype.send_draw_message = function() {\n    if (!this.waiting) {\n        this.waiting = true;\n        this.ws.send(JSON.stringify({type: \"draw\", figure_id: this.id}));\n    }\n}\n\n\nmpl.figure.prototype.handle_save = function(fig, msg) {\n    var format_dropdown = fig.format_dropdown;\n    var format = format_dropdown.options[format_dropdown.selectedIndex].value;\n    fig.ondownload(fig, format);\n}\n\n\nmpl.figure.prototype.handle_resize = function(fig, msg) {\n    var size = msg['size'];\n    if (size[0] != fig.canvas.width || size[1] != fig.canvas.height) {\n        fig._resize_canvas(size[0], size[1]);\n        fig.send_message(\"refresh\", {});\n    };\n}\n\nmpl.figure.prototype.handle_rubberband = function(fig, msg) {\n    var x0 = msg['x0'] / mpl.ratio;\n    var y0 = (fig.canvas.height - msg['y0']) / mpl.ratio;\n    var x1 = msg['x1'] / mpl.ratio;\n    var y1 = (fig.canvas.height - msg['y1']) / mpl.ratio;\n    x0 = Math.floor(x0) + 0.5;\n    y0 = Math.floor(y0) + 0.5;\n    x1 = Math.floor(x1) + 0.5;\n    y1 = Math.floor(y1) + 0.5;\n    var min_x = Math.min(x0, x1);\n    var min_y = Math.min(y0, y1);\n    var width = Math.abs(x1 - x0);\n    var height = Math.abs(y1 - y0);\n\n    fig.rubberband_context.clearRect(\n        0, 0, fig.canvas.width / mpl.ratio, fig.canvas.height / mpl.ratio);\n\n    fig.rubberband_context.strokeRect(min_x, min_y, width, height);\n}\n\nmpl.figure.prototype.handle_figure_label = function(fig, msg) {\n    // Updates the figure title.\n    fig.header.textContent = msg['label'];\n}\n\nmpl.figure.prototype.handle_cursor = function(fig, msg) {\n    var cursor = msg['cursor'];\n    switch(cursor)\n    {\n    case 0:\n        cursor = 'pointer';\n        break;\n    case 1:\n        cursor = 'default';\n        break;\n    case 2:\n        cursor = 'crosshair';\n        break;\n    case 3:\n        cursor = 'move';\n        break;\n    }\n    fig.rubberband_canvas.style.cursor = cursor;\n}\n\nmpl.figure.prototype.handle_message = function(fig, msg) {\n    fig.message.textContent = msg['message'];\n}\n\nmpl.figure.prototype.handle_draw = function(fig, msg) {\n    // Request the server to send over a new figure.\n    fig.send_draw_message();\n}\n\nmpl.figure.prototype.handle_image_mode = function(fig, msg) {\n    fig.image_mode = msg['mode'];\n}\n\nmpl.figure.prototype.updated_canvas_event = function() {\n    // Called whenever the canvas gets updated.\n    this.send_message(\"ack\", {});\n}\n\n// A function to construct a web socket function for onmessage handling.\n// Called in the figure constructor.\nmpl.figure.prototype._make_on_message_function = function(fig) {\n    return function socket_on_message(evt) {\n        if (evt.data instanceof Blob) {\n            /* FIXME: We get \"Resource interpreted as Image but\n             * transferred with MIME type text/plain:\" errors on\n             * Chrome.  But how to set the MIME type?  It doesn't seem\n             * to be part of the websocket stream */\n            evt.data.type = \"image/png\";\n\n            /* Free the memory for the previous frames */\n            if (fig.imageObj.src) {\n                (window.URL || window.webkitURL).revokeObjectURL(\n                    fig.imageObj.src);\n            }\n\n            fig.imageObj.src = (window.URL || window.webkitURL).createObjectURL(\n                evt.data);\n            fig.updated_canvas_event();\n            fig.waiting = false;\n            return;\n        }\n        else if (typeof evt.data === 'string' && evt.data.slice(0, 21) == \"data:image/png;base64\") {\n            fig.imageObj.src = evt.data;\n            fig.updated_canvas_event();\n            fig.waiting = false;\n            return;\n        }\n\n        var msg = JSON.parse(evt.data);\n        var msg_type = msg['type'];\n\n        // Call the  \"handle_{type}\" callback, which takes\n        // the figure and JSON message as its only arguments.\n        try {\n            var callback = fig[\"handle_\" + msg_type];\n        } catch (e) {\n            console.log(\"No handler for the '\" + msg_type + \"' message type: \", msg);\n            return;\n        }\n\n        if (callback) {\n            try {\n                // console.log(\"Handling '\" + msg_type + \"' message: \", msg);\n                callback(fig, msg);\n            } catch (e) {\n                console.log(\"Exception inside the 'handler_\" + msg_type + \"' callback:\", e, e.stack, msg);\n            }\n        }\n    };\n}\n\n// from http://stackoverflow.com/questions/1114465/getting-mouse-location-in-canvas\nmpl.findpos = function(e) {\n    //this section is from http://www.quirksmode.org/js/events_properties.html\n    var targ;\n    if (!e)\n        e = window.event;\n    if (e.target)\n        targ = e.target;\n    else if (e.srcElement)\n        targ = e.srcElement;\n    if (targ.nodeType == 3) // defeat Safari bug\n        targ = targ.parentNode;\n\n    // jQuery normalizes the pageX and pageY\n    // pageX,Y are the mouse positions relative to the document\n    // offset() returns the position of the element relative to the document\n    var x = e.pageX - $(targ).offset().left;\n    var y = e.pageY - $(targ).offset().top;\n\n    return {\"x\": x, \"y\": y};\n};\n\n/*\n * return a copy of an object with only non-object keys\n * we need this to avoid circular references\n * http://stackoverflow.com/a/24161582/3208463\n */\nfunction simpleKeys (original) {\n  return Object.keys(original).reduce(function (obj, key) {\n    if (typeof original[key] !== 'object')\n        obj[key] = original[key]\n    return obj;\n  }, {});\n}\n\nmpl.figure.prototype.mouse_event = function(event, name) {\n    var canvas_pos = mpl.findpos(event)\n\n    if (name === 'button_press')\n    {\n        this.canvas.focus();\n        this.canvas_div.focus();\n    }\n\n    var x = canvas_pos.x * mpl.ratio;\n    var y = canvas_pos.y * mpl.ratio;\n\n    this.send_message(name, {x: x, y: y, button: event.button,\n                             step: event.step,\n                             guiEvent: simpleKeys(event)});\n\n    /* This prevents the web browser from automatically changing to\n     * the text insertion cursor when the button is pressed.  We want\n     * to control all of the cursor setting manually through the\n     * 'cursor' event from matplotlib */\n    event.preventDefault();\n    return false;\n}\n\nmpl.figure.prototype._key_event_extra = function(event, name) {\n    // Handle any extra behaviour associated with a key event\n}\n\nmpl.figure.prototype.key_event = function(event, name) {\n\n    // Prevent repeat events\n    if (name == 'key_press')\n    {\n        if (event.which === this._key)\n            return;\n        else\n            this._key = event.which;\n    }\n    if (name == 'key_release')\n        this._key = null;\n\n    var value = '';\n    if (event.ctrlKey && event.which != 17)\n        value += \"ctrl+\";\n    if (event.altKey && event.which != 18)\n        value += \"alt+\";\n    if (event.shiftKey && event.which != 16)\n        value += \"shift+\";\n\n    value += 'k';\n    value += event.which.toString();\n\n    this._key_event_extra(event, name);\n\n    this.send_message(name, {key: value,\n                             guiEvent: simpleKeys(event)});\n    return false;\n}\n\nmpl.figure.prototype.toolbar_button_onclick = function(name) {\n    if (name == 'download') {\n        this.handle_save(this, null);\n    } else {\n        this.send_message(\"toolbar_button\", {name: name});\n    }\n};\n\nmpl.figure.prototype.toolbar_button_onmouseover = function(tooltip) {\n    this.message.textContent = tooltip;\n};\nmpl.toolbar_items = [[\"Home\", \"Reset original view\", \"fa fa-home icon-home\", \"home\"], [\"Back\", \"Back to previous view\", \"fa fa-arrow-left icon-arrow-left\", \"back\"], [\"Forward\", \"Forward to next view\", \"fa fa-arrow-right icon-arrow-right\", \"forward\"], [\"\", \"\", \"\", \"\"], [\"Pan\", \"Pan axes with left mouse, zoom with right\", \"fa fa-arrows icon-move\", \"pan\"], [\"Zoom\", \"Zoom to rectangle\", \"fa fa-square-o icon-check-empty\", \"zoom\"], [\"\", \"\", \"\", \"\"], [\"Download\", \"Download plot\", \"fa fa-floppy-o icon-save\", \"download\"]];\n\nmpl.extensions = [\"eps\", \"jpeg\", \"pdf\", \"png\", \"ps\", \"raw\", \"svg\", \"tif\"];\n\nmpl.default_extension = \"png\";var comm_websocket_adapter = function(comm) {\n    // Create a \"websocket\"-like object which calls the given IPython comm\n    // object with the appropriate methods. Currently this is a non binary\n    // socket, so there is still some room for performance tuning.\n    var ws = {};\n\n    ws.close = function() {\n        comm.close()\n    };\n    ws.send = function(m) {\n        //console.log('sending', m);\n        comm.send(m);\n    };\n    // Register the callback with on_msg.\n    comm.on_msg(function(msg) {\n        //console.log('receiving', msg['content']['data'], msg);\n        // Pass the mpl event to the overridden (by mpl) onmessage function.\n        ws.onmessage(msg['content']['data'])\n    });\n    return ws;\n}\n\nmpl.mpl_figure_comm = function(comm, msg) {\n    // This is the function which gets called when the mpl process\n    // starts-up an IPython Comm through the \"matplotlib\" channel.\n\n    var id = msg.content.data.id;\n    // Get hold of the div created by the display call when the Comm\n    // socket was opened in Python.\n    var element = $(\"#\" + id);\n    var ws_proxy = comm_websocket_adapter(comm)\n\n    function ondownload(figure, format) {\n        window.open(figure.imageObj.src);\n    }\n\n    var fig = new mpl.figure(id, ws_proxy,\n                           ondownload,\n                           element.get(0));\n\n    // Call onopen now - mpl needs it, as it is assuming we've passed it a real\n    // web socket which is closed, not our websocket->open comm proxy.\n    ws_proxy.onopen();\n\n    fig.parent_element = element.get(0);\n    fig.cell_info = mpl.find_output_cell(\"<div id='\" + id + \"'></div>\");\n    if (!fig.cell_info) {\n        console.error(\"Failed to find cell for figure\", id, fig);\n        return;\n    }\n\n    var output_index = fig.cell_info[2]\n    var cell = fig.cell_info[0];\n\n};\n\nmpl.figure.prototype.handle_close = function(fig, msg) {\n    var width = fig.canvas.width/mpl.ratio\n    fig.root.unbind('remove')\n\n    // Update the output cell to use the data from the current canvas.\n    fig.push_to_output();\n    var dataURL = fig.canvas.toDataURL();\n    // Re-enable the keyboard manager in IPython - without this line, in FF,\n    // the notebook keyboard shortcuts fail.\n    IPython.keyboard_manager.enable()\n    $(fig.parent_element).html('<img src=\"' + dataURL + '\" width=\"' + width + '\">');\n    fig.close_ws(fig, msg);\n}\n\nmpl.figure.prototype.close_ws = function(fig, msg){\n    fig.send_message('closing', msg);\n    // fig.ws.close()\n}\n\nmpl.figure.prototype.push_to_output = function(remove_interactive) {\n    // Turn the data on the canvas into data in the output cell.\n    var width = this.canvas.width/mpl.ratio\n    var dataURL = this.canvas.toDataURL();\n    this.cell_info[1]['text/html'] = '<img src=\"' + dataURL + '\" width=\"' + width + '\">';\n}\n\nmpl.figure.prototype.updated_canvas_event = function() {\n    // Tell IPython that the notebook contents must change.\n    IPython.notebook.set_dirty(true);\n    this.send_message(\"ack\", {});\n    var fig = this;\n    // Wait a second, then push the new image to the DOM so\n    // that it is saved nicely (might be nice to debounce this).\n    setTimeout(function () { fig.push_to_output() }, 1000);\n}\n\nmpl.figure.prototype._init_toolbar = function() {\n    var fig = this;\n\n    var nav_element = $('<div/>');\n    nav_element.attr('style', 'width: 100%');\n    this.root.append(nav_element);\n\n    // Define a callback function for later on.\n    function toolbar_event(event) {\n        return fig.toolbar_button_onclick(event['data']);\n    }\n    function toolbar_mouse_event(event) {\n        return fig.toolbar_button_onmouseover(event['data']);\n    }\n\n    for(var toolbar_ind in mpl.toolbar_items){\n        var name = mpl.toolbar_items[toolbar_ind][0];\n        var tooltip = mpl.toolbar_items[toolbar_ind][1];\n        var image = mpl.toolbar_items[toolbar_ind][2];\n        var method_name = mpl.toolbar_items[toolbar_ind][3];\n\n        if (!name) { continue; };\n\n        var button = $('<button class=\"btn btn-default\" href=\"#\" title=\"' + name + '\"><i class=\"fa ' + image + ' fa-lg\"></i></button>');\n        button.click(method_name, toolbar_event);\n        button.mouseover(tooltip, toolbar_mouse_event);\n        nav_element.append(button);\n    }\n\n    // Add the status bar.\n    var status_bar = $('<span class=\"mpl-message\" style=\"text-align:right; float: right;\"/>');\n    nav_element.append(status_bar);\n    this.message = status_bar[0];\n\n    // Add the close button to the window.\n    var buttongrp = $('<div class=\"btn-group inline pull-right\"></div>');\n    var button = $('<button class=\"btn btn-mini btn-primary\" href=\"#\" title=\"Stop Interaction\"><i class=\"fa fa-power-off icon-remove icon-large\"></i></button>');\n    button.click(function (evt) { fig.handle_close(fig, {}); } );\n    button.mouseover('Stop Interaction', toolbar_mouse_event);\n    buttongrp.append(button);\n    var titlebar = this.root.find($('.ui-dialog-titlebar'));\n    titlebar.prepend(buttongrp);\n}\n\nmpl.figure.prototype._root_extra_style = function(el){\n    var fig = this\n    el.on(\"remove\", function(){\n\tfig.close_ws(fig, {});\n    });\n}\n\nmpl.figure.prototype._canvas_extra_style = function(el){\n    // this is important to make the div 'focusable\n    el.attr('tabindex', 0)\n    // reach out to IPython and tell the keyboard manager to turn it's self\n    // off when our div gets focus\n\n    // location in version 3\n    if (IPython.notebook.keyboard_manager) {\n        IPython.notebook.keyboard_manager.register_events(el);\n    }\n    else {\n        // location in version 2\n        IPython.keyboard_manager.register_events(el);\n    }\n\n}\n\nmpl.figure.prototype._key_event_extra = function(event, name) {\n    var manager = IPython.notebook.keyboard_manager;\n    if (!manager)\n        manager = IPython.keyboard_manager;\n\n    // Check for shift+enter\n    if (event.shiftKey && event.which == 13) {\n        this.canvas_div.blur();\n        // select the cell after this one\n        var index = IPython.notebook.find_cell_index(this.cell_info[0]);\n        IPython.notebook.select(index + 1);\n    }\n}\n\nmpl.figure.prototype.handle_save = function(fig, msg) {\n    fig.ondownload(fig, null);\n}\n\n\nmpl.find_output_cell = function(html_output) {\n    // Return the cell and output element which can be found *uniquely* in the notebook.\n    // Note - this is a bit hacky, but it is done because the \"notebook_saving.Notebook\"\n    // IPython event is triggered only after the cells have been serialised, which for\n    // our purposes (turning an active figure into a static one), is too late.\n    var cells = IPython.notebook.get_cells();\n    var ncells = cells.length;\n    for (var i=0; i<ncells; i++) {\n        var cell = cells[i];\n        if (cell.cell_type === 'code'){\n            for (var j=0; j<cell.output_area.outputs.length; j++) {\n                var data = cell.output_area.outputs[j];\n                if (data.data) {\n                    // IPython >= 3 moved mimebundle to data attribute of output\n                    data = data.data;\n                }\n                if (data['text/html'] == html_output) {\n                    return [cell, data, j];\n                }\n            }\n        }\n    }\n}\n\n// Register the function which deals with the matplotlib target/channel.\n// The kernel may be null if the page has been refreshed.\nif (IPython.notebook.kernel != null) {\n    IPython.notebook.kernel.comm_manager.register_target('matplotlib', mpl.mpl_figure_comm);\n}\n"
          },
          "metadata": {}
        },
        {
          "output_type": "display_data",
          "data": {
            "text/plain": "<IPython.core.display.HTML object>",
            "text/html": "<div id='3215c414-2f7e-42b9-8cf7-23215e398044'></div>"
          },
          "metadata": {}
        },
        {
          "output_type": "execute_result",
          "data": {
            "text/plain": [
              "<matplotlib.axes._subplots.AxesSubplot at 0x1beeca63f48>"
            ]
          },
          "metadata": {},
          "execution_count": 35
        }
      ]
    },
    {
      "cell_type": "markdown",
      "metadata": {
        "id": "NBczLQ-QprGf"
      },
      "source": [
        "#### Observations:\n",
        "- There exists a fairly strong relationship between merged predictor variables; however, this has not affected the initial observation much in relation to the target variable.\n",
        "- We will investigate the correlation further using the p-values."
      ]
    },
    {
      "cell_type": "code",
      "metadata": {
        "id": "Wdp4Vcy6VDnn",
        "outputId": "0fbc4bc7-a7ad-4a50-f203-21762a24d9f6",
        "colab": {
          "base_uri": "https://localhost:8080/",
          "height": 370
        }
      },
      "source": [
        "# Build a dictionary of correlation coefficients and p-values\n",
        "dict_cp = {}\n",
        "\n",
        "column_titles = [col for col in corrs.index if col!= 'Time from Pickup to Arrival']\n",
        "for col in column_titles:\n",
        "    p_val = round(pearsonr(merged_train [col], merged_train ['Time from Pickup to Arrival'])[1],6)\n",
        "    dict_cp[col] = {'Correlation_Coefficient':corrs[col],\n",
        "                    'P_Value':p_val}\n",
        "\n",
        "df_cp = pd.DataFrame(dict_cp).T\n",
        "df_cp_sorted = df_cp.sort_values('P_Value')\n",
        "df_cp_sorted[df_cp_sorted['P_Value']<0.1]"
      ],
      "execution_count": 36,
      "outputs": [
        {
          "output_type": "execute_result",
          "data": {
            "text/plain": [
              "                                  Correlation_Coefficient   P_Value\n",
              "Distance (KM)                                    0.580608  0.000000\n",
              "Average_Rating                                  -0.042559  0.000000\n",
              "No_Of_Orders                                    -0.041608  0.000000\n",
              "Pickup Lat                                      -0.053823  0.000000\n",
              "Destination Lat                                 -0.061872  0.000000\n",
              "Pickup Long                                      0.060285  0.000000\n",
              "Destination Long                                 0.070425  0.000000\n",
              "Placement - Day of Month                        -0.014710  0.032205\n",
              "Pickup - Day of Month                           -0.014701  0.032312\n",
              "Arrival at Pickup - Day of Month                -0.014701  0.032312\n",
              "Confirmation - Day of Month                     -0.014701  0.032312"
            ],
            "text/html": "<div>\n<style scoped>\n    .dataframe tbody tr th:only-of-type {\n        vertical-align: middle;\n    }\n\n    .dataframe tbody tr th {\n        vertical-align: top;\n    }\n\n    .dataframe thead th {\n        text-align: right;\n    }\n</style>\n<table border=\"1\" class=\"dataframe\">\n  <thead>\n    <tr style=\"text-align: right;\">\n      <th></th>\n      <th>Correlation_Coefficient</th>\n      <th>P_Value</th>\n    </tr>\n  </thead>\n  <tbody>\n    <tr>\n      <th>Distance (KM)</th>\n      <td>0.580608</td>\n      <td>0.000000</td>\n    </tr>\n    <tr>\n      <th>Average_Rating</th>\n      <td>-0.042559</td>\n      <td>0.000000</td>\n    </tr>\n    <tr>\n      <th>No_Of_Orders</th>\n      <td>-0.041608</td>\n      <td>0.000000</td>\n    </tr>\n    <tr>\n      <th>Pickup Lat</th>\n      <td>-0.053823</td>\n      <td>0.000000</td>\n    </tr>\n    <tr>\n      <th>Destination Lat</th>\n      <td>-0.061872</td>\n      <td>0.000000</td>\n    </tr>\n    <tr>\n      <th>Pickup Long</th>\n      <td>0.060285</td>\n      <td>0.000000</td>\n    </tr>\n    <tr>\n      <th>Destination Long</th>\n      <td>0.070425</td>\n      <td>0.000000</td>\n    </tr>\n    <tr>\n      <th>Placement - Day of Month</th>\n      <td>-0.014710</td>\n      <td>0.032205</td>\n    </tr>\n    <tr>\n      <th>Pickup - Day of Month</th>\n      <td>-0.014701</td>\n      <td>0.032312</td>\n    </tr>\n    <tr>\n      <th>Arrival at Pickup - Day of Month</th>\n      <td>-0.014701</td>\n      <td>0.032312</td>\n    </tr>\n    <tr>\n      <th>Confirmation - Day of Month</th>\n      <td>-0.014701</td>\n      <td>0.032312</td>\n    </tr>\n  </tbody>\n</table>\n</div>"
          },
          "metadata": {},
          "execution_count": 36
        }
      ]
    },
    {
      "cell_type": "markdown",
      "metadata": {
        "id": "YqJTLpvVr4Xh"
      },
      "source": [
        "- on the heatmap above we can see a lot of variables being highly corelated with each other \n",
        "- We are dropping all the predictors that are highly correlated with each other based on the heat map above"
      ]
    },
    {
      "cell_type": "code",
      "metadata": {
        "id": "NAQSfwYnVDnq",
        "scrolled": true
      },
      "source": [
        "\n",
        "#dropping highly correlated predictors and the ones that were not selected above\n",
        "\n",
        "merged_train = merged_train.drop(['Placement - Weekday (Mo = 1)', 'Placement - Weekday (Mo = 1)','Confirmation - Day of Month','Confirmation - Weekday (Mo = 1)','Arrival at Pickup - Day of Month','Arrival at Pickup - Weekday (Mo = 1)','Pickup - Day of Month','Pickup - Weekday (Mo = 1)',\n",
        "                                  'No_of_Ratings','No_Of_Orders','Average_Rating'], axis = 1)\n",
        "\n",
        "merged_test = merged_test.drop(['Placement - Weekday (Mo = 1)', 'Placement - Weekday (Mo = 1)','Confirmation - Day of Month','Confirmation - Weekday (Mo = 1)','Arrival at Pickup - Day of Month','Arrival at Pickup - Weekday (Mo = 1)','Pickup - Day of Month','Pickup - Weekday (Mo = 1)',\n",
        "                                'No_of_Ratings','No_Of_Orders','Average_Rating'], axis = 1)\n",
        "\n",
        "\n",
        "#dropping the irrelevant columns \n",
        "merged_train = merged_train.drop(['User Id','Vehicle Type','Rider Id',\n",
        "                                  'Confirmation - Time', ], axis = 1)\n",
        "\n",
        "merged_test = merged_test.drop(['User Id','Vehicle Type','Rider Id', \n",
        "                                'Confirmation - Time'], axis = 1)\n",
        "\n",
        "\n",
        "merged_train.head()\n",
        "\n"
      ],
      "execution_count": 37,
      "outputs": [
        {
          "output_type": "execute_result",
          "data": {
            "text/plain": [
              "         Order No  Platform Type Personal or Business  \\\n",
              "0   Order_No_4211              3             Business   \n",
              "1  Order_No_25375              3             Personal   \n",
              "2   Order_No_1899              3             Business   \n",
              "3   Order_No_9336              3             Business   \n",
              "4  Order_No_27883              1             Personal   \n",
              "\n",
              "   Placement - Day of Month Placement - Time Arrival at Pickup - Time  \\\n",
              "0                         9       9:35:46 AM              10:04:47 AM   \n",
              "1                        12      11:16:16 AM              11:40:22 AM   \n",
              "2                        30      12:39:25 PM              12:49:34 PM   \n",
              "3                        15       9:25:34 AM               9:37:56 AM   \n",
              "4                        13       9:55:18 AM              10:03:53 AM   \n",
              "\n",
              "  Pickup - Time  Distance (KM)  Temperature  Precipitation in millimeters  \\\n",
              "0   10:27:30 AM              4    20.400000                           0.0   \n",
              "1   11:44:09 AM             16    26.400000                           0.0   \n",
              "2   12:53:03 PM              3    23.258889                           0.0   \n",
              "3    9:43:06 AM              9    19.200000                           0.0   \n",
              "4   10:05:23 AM              9    15.400000                           0.0   \n",
              "\n",
              "   Pickup Lat  Pickup Long  Destination Lat  Destination Long   Age  \\\n",
              "0   -1.317755    36.830370        -1.300406         36.829741  1309   \n",
              "1   -1.351453    36.899315        -1.295004         36.814358   339   \n",
              "2   -1.308284    36.843419        -1.300921         36.828195   242   \n",
              "3   -1.281301    36.832396        -1.257147         36.795063   283   \n",
              "4   -1.266597    36.792118        -1.295041         36.809817   872   \n",
              "\n",
              "   Time from Pickup to Arrival  \n",
              "0                          745  \n",
              "1                         1993  \n",
              "2                          455  \n",
              "3                         1341  \n",
              "4                         1214  "
            ],
            "text/html": "<div>\n<style scoped>\n    .dataframe tbody tr th:only-of-type {\n        vertical-align: middle;\n    }\n\n    .dataframe tbody tr th {\n        vertical-align: top;\n    }\n\n    .dataframe thead th {\n        text-align: right;\n    }\n</style>\n<table border=\"1\" class=\"dataframe\">\n  <thead>\n    <tr style=\"text-align: right;\">\n      <th></th>\n      <th>Order No</th>\n      <th>Platform Type</th>\n      <th>Personal or Business</th>\n      <th>Placement - Day of Month</th>\n      <th>Placement - Time</th>\n      <th>Arrival at Pickup - Time</th>\n      <th>Pickup - Time</th>\n      <th>Distance (KM)</th>\n      <th>Temperature</th>\n      <th>Precipitation in millimeters</th>\n      <th>Pickup Lat</th>\n      <th>Pickup Long</th>\n      <th>Destination Lat</th>\n      <th>Destination Long</th>\n      <th>Age</th>\n      <th>Time from Pickup to Arrival</th>\n    </tr>\n  </thead>\n  <tbody>\n    <tr>\n      <th>0</th>\n      <td>Order_No_4211</td>\n      <td>3</td>\n      <td>Business</td>\n      <td>9</td>\n      <td>9:35:46 AM</td>\n      <td>10:04:47 AM</td>\n      <td>10:27:30 AM</td>\n      <td>4</td>\n      <td>20.400000</td>\n      <td>0.0</td>\n      <td>-1.317755</td>\n      <td>36.830370</td>\n      <td>-1.300406</td>\n      <td>36.829741</td>\n      <td>1309</td>\n      <td>745</td>\n    </tr>\n    <tr>\n      <th>1</th>\n      <td>Order_No_25375</td>\n      <td>3</td>\n      <td>Personal</td>\n      <td>12</td>\n      <td>11:16:16 AM</td>\n      <td>11:40:22 AM</td>\n      <td>11:44:09 AM</td>\n      <td>16</td>\n      <td>26.400000</td>\n      <td>0.0</td>\n      <td>-1.351453</td>\n      <td>36.899315</td>\n      <td>-1.295004</td>\n      <td>36.814358</td>\n      <td>339</td>\n      <td>1993</td>\n    </tr>\n    <tr>\n      <th>2</th>\n      <td>Order_No_1899</td>\n      <td>3</td>\n      <td>Business</td>\n      <td>30</td>\n      <td>12:39:25 PM</td>\n      <td>12:49:34 PM</td>\n      <td>12:53:03 PM</td>\n      <td>3</td>\n      <td>23.258889</td>\n      <td>0.0</td>\n      <td>-1.308284</td>\n      <td>36.843419</td>\n      <td>-1.300921</td>\n      <td>36.828195</td>\n      <td>242</td>\n      <td>455</td>\n    </tr>\n    <tr>\n      <th>3</th>\n      <td>Order_No_9336</td>\n      <td>3</td>\n      <td>Business</td>\n      <td>15</td>\n      <td>9:25:34 AM</td>\n      <td>9:37:56 AM</td>\n      <td>9:43:06 AM</td>\n      <td>9</td>\n      <td>19.200000</td>\n      <td>0.0</td>\n      <td>-1.281301</td>\n      <td>36.832396</td>\n      <td>-1.257147</td>\n      <td>36.795063</td>\n      <td>283</td>\n      <td>1341</td>\n    </tr>\n    <tr>\n      <th>4</th>\n      <td>Order_No_27883</td>\n      <td>1</td>\n      <td>Personal</td>\n      <td>13</td>\n      <td>9:55:18 AM</td>\n      <td>10:03:53 AM</td>\n      <td>10:05:23 AM</td>\n      <td>9</td>\n      <td>15.400000</td>\n      <td>0.0</td>\n      <td>-1.266597</td>\n      <td>36.792118</td>\n      <td>-1.295041</td>\n      <td>36.809817</td>\n      <td>872</td>\n      <td>1214</td>\n    </tr>\n  </tbody>\n</table>\n</div>"
          },
          "metadata": {},
          "execution_count": 37
        }
      ]
    },
    {
      "cell_type": "markdown",
      "metadata": {
        "id": "nzySDi_Tg9qw"
      },
      "source": [
        "### Copy datasets"
      ]
    },
    {
      "cell_type": "code",
      "metadata": {
        "id": "KVOp1iU8gpDf"
      },
      "source": [
        "merged_train_copy = merged_train.copy()\n",
        "merged_test_copy = merged_train.copy()"
      ],
      "execution_count": 38,
      "outputs": []
    },
    {
      "cell_type": "code",
      "metadata": {
        "id": "tLQrxxrW0ryh",
        "outputId": "2b0de07a-b4cf-4e6d-da9a-78b7168ee412",
        "colab": {
          "base_uri": "https://localhost:8080/",
          "height": 218
        }
      },
      "source": [
        "merged_train.columns"
      ],
      "execution_count": 39,
      "outputs": [
        {
          "output_type": "execute_result",
          "data": {
            "text/plain": [
              "Index(['Order No', 'Platform Type', 'Personal or Business',\n",
              "       'Placement - Day of Month', 'Placement - Time',\n",
              "       'Arrival at Pickup - Time', 'Pickup - Time', 'Distance (KM)',\n",
              "       'Temperature', 'Precipitation in millimeters', 'Pickup Lat',\n",
              "       'Pickup Long', 'Destination Lat', 'Destination Long', 'Age',\n",
              "       'Time from Pickup to Arrival'],\n",
              "      dtype='object')"
            ]
          },
          "metadata": {},
          "execution_count": 39
        }
      ]
    },
    {
      "cell_type": "code",
      "metadata": {
        "id": "cvW6uiKkbILo",
        "outputId": "e2128717-68df-4171-9df9-e967062ad3b2",
        "colab": {
          "base_uri": "https://localhost:8080/",
          "height": 202
        }
      },
      "source": [
        "merged_test.columns"
      ],
      "execution_count": 40,
      "outputs": [
        {
          "output_type": "execute_result",
          "data": {
            "text/plain": [
              "Index(['Order No', 'Platform Type', 'Personal or Business',\n",
              "       'Placement - Day of Month', 'Placement - Time',\n",
              "       'Arrival at Pickup - Time', 'Pickup - Time', 'Distance (KM)',\n",
              "       'Temperature', 'Precipitation in millimeters', 'Pickup Lat',\n",
              "       'Pickup Long', 'Destination Lat', 'Destination Long', 'Age'],\n",
              "      dtype='object')"
            ]
          },
          "metadata": {},
          "execution_count": 40
        }
      ]
    },
    {
      "cell_type": "code",
      "metadata": {
        "id": "dGkwJxGdVDnu",
        "scrolled": true
      },
      "source": [
        "merged_train.drop(['Placement - Time','Arrival at Pickup - Time','Pickup - Time','Order No'], axis = 1, inplace = True)\n",
        "merged_test.drop(['Placement - Time','Arrival at Pickup - Time','Pickup - Time','Order No'], axis = 1, inplace = True)"
      ],
      "execution_count": 41,
      "outputs": []
    },
    {
      "cell_type": "code",
      "metadata": {
        "id": "Qpbz9xMwhT2Q"
      },
      "source": [
        "merged_train_copy = merged_train.copy()"
      ],
      "execution_count": 42,
      "outputs": []
    },
    {
      "cell_type": "code",
      "metadata": {
        "id": "eOAt58wxjQ2u",
        "outputId": "b9910b00-1df9-47f7-a939-dfccf5019f3b",
        "colab": {
          "base_uri": "https://localhost:8080/",
          "height": 316
        }
      },
      "source": [
        "merged_train_copy.head()"
      ],
      "execution_count": 43,
      "outputs": [
        {
          "output_type": "execute_result",
          "data": {
            "text/plain": [
              "   Platform Type Personal or Business  Placement - Day of Month  \\\n",
              "0              3             Business                         9   \n",
              "1              3             Personal                        12   \n",
              "2              3             Business                        30   \n",
              "3              3             Business                        15   \n",
              "4              1             Personal                        13   \n",
              "\n",
              "   Distance (KM)  Temperature  Precipitation in millimeters  Pickup Lat  \\\n",
              "0              4    20.400000                           0.0   -1.317755   \n",
              "1             16    26.400000                           0.0   -1.351453   \n",
              "2              3    23.258889                           0.0   -1.308284   \n",
              "3              9    19.200000                           0.0   -1.281301   \n",
              "4              9    15.400000                           0.0   -1.266597   \n",
              "\n",
              "   Pickup Long  Destination Lat  Destination Long   Age  \\\n",
              "0    36.830370        -1.300406         36.829741  1309   \n",
              "1    36.899315        -1.295004         36.814358   339   \n",
              "2    36.843419        -1.300921         36.828195   242   \n",
              "3    36.832396        -1.257147         36.795063   283   \n",
              "4    36.792118        -1.295041         36.809817   872   \n",
              "\n",
              "   Time from Pickup to Arrival  \n",
              "0                          745  \n",
              "1                         1993  \n",
              "2                          455  \n",
              "3                         1341  \n",
              "4                         1214  "
            ],
            "text/html": "<div>\n<style scoped>\n    .dataframe tbody tr th:only-of-type {\n        vertical-align: middle;\n    }\n\n    .dataframe tbody tr th {\n        vertical-align: top;\n    }\n\n    .dataframe thead th {\n        text-align: right;\n    }\n</style>\n<table border=\"1\" class=\"dataframe\">\n  <thead>\n    <tr style=\"text-align: right;\">\n      <th></th>\n      <th>Platform Type</th>\n      <th>Personal or Business</th>\n      <th>Placement - Day of Month</th>\n      <th>Distance (KM)</th>\n      <th>Temperature</th>\n      <th>Precipitation in millimeters</th>\n      <th>Pickup Lat</th>\n      <th>Pickup Long</th>\n      <th>Destination Lat</th>\n      <th>Destination Long</th>\n      <th>Age</th>\n      <th>Time from Pickup to Arrival</th>\n    </tr>\n  </thead>\n  <tbody>\n    <tr>\n      <th>0</th>\n      <td>3</td>\n      <td>Business</td>\n      <td>9</td>\n      <td>4</td>\n      <td>20.400000</td>\n      <td>0.0</td>\n      <td>-1.317755</td>\n      <td>36.830370</td>\n      <td>-1.300406</td>\n      <td>36.829741</td>\n      <td>1309</td>\n      <td>745</td>\n    </tr>\n    <tr>\n      <th>1</th>\n      <td>3</td>\n      <td>Personal</td>\n      <td>12</td>\n      <td>16</td>\n      <td>26.400000</td>\n      <td>0.0</td>\n      <td>-1.351453</td>\n      <td>36.899315</td>\n      <td>-1.295004</td>\n      <td>36.814358</td>\n      <td>339</td>\n      <td>1993</td>\n    </tr>\n    <tr>\n      <th>2</th>\n      <td>3</td>\n      <td>Business</td>\n      <td>30</td>\n      <td>3</td>\n      <td>23.258889</td>\n      <td>0.0</td>\n      <td>-1.308284</td>\n      <td>36.843419</td>\n      <td>-1.300921</td>\n      <td>36.828195</td>\n      <td>242</td>\n      <td>455</td>\n    </tr>\n    <tr>\n      <th>3</th>\n      <td>3</td>\n      <td>Business</td>\n      <td>15</td>\n      <td>9</td>\n      <td>19.200000</td>\n      <td>0.0</td>\n      <td>-1.281301</td>\n      <td>36.832396</td>\n      <td>-1.257147</td>\n      <td>36.795063</td>\n      <td>283</td>\n      <td>1341</td>\n    </tr>\n    <tr>\n      <th>4</th>\n      <td>1</td>\n      <td>Personal</td>\n      <td>13</td>\n      <td>9</td>\n      <td>15.400000</td>\n      <td>0.0</td>\n      <td>-1.266597</td>\n      <td>36.792118</td>\n      <td>-1.295041</td>\n      <td>36.809817</td>\n      <td>872</td>\n      <td>1214</td>\n    </tr>\n  </tbody>\n</table>\n</div>"
          },
          "metadata": {},
          "execution_count": 43
        }
      ]
    },
    {
      "cell_type": "code",
      "metadata": {
        "id": "GceqpaaQjo7Q",
        "outputId": "dc161b3b-a511-4ea1-d611-57cf2a644175",
        "colab": {
          "base_uri": "https://localhost:8080/",
          "height": 227
        }
      },
      "source": [
        "merged_test.head(2)"
      ],
      "execution_count": 44,
      "outputs": [
        {
          "output_type": "execute_result",
          "data": {
            "text/plain": [
              "   Platform Type Personal or Business  Placement - Day of Month  \\\n",
              "0              3             Business                        27   \n",
              "1              3             Business                        17   \n",
              "\n",
              "   Distance (KM)  Temperature  Precipitation in millimeters  Pickup Lat  \\\n",
              "0              8     23.24612                           0.0   -1.333275   \n",
              "1              5     23.24612                           0.0   -1.272639   \n",
              "\n",
              "   Pickup Long  Destination Lat  Destination Long   Age  \n",
              "0    36.870815        -1.305249         36.822390  1511  \n",
              "1    36.794723        -1.277007         36.823907   273  "
            ],
            "text/html": "<div>\n<style scoped>\n    .dataframe tbody tr th:only-of-type {\n        vertical-align: middle;\n    }\n\n    .dataframe tbody tr th {\n        vertical-align: top;\n    }\n\n    .dataframe thead th {\n        text-align: right;\n    }\n</style>\n<table border=\"1\" class=\"dataframe\">\n  <thead>\n    <tr style=\"text-align: right;\">\n      <th></th>\n      <th>Platform Type</th>\n      <th>Personal or Business</th>\n      <th>Placement - Day of Month</th>\n      <th>Distance (KM)</th>\n      <th>Temperature</th>\n      <th>Precipitation in millimeters</th>\n      <th>Pickup Lat</th>\n      <th>Pickup Long</th>\n      <th>Destination Lat</th>\n      <th>Destination Long</th>\n      <th>Age</th>\n    </tr>\n  </thead>\n  <tbody>\n    <tr>\n      <th>0</th>\n      <td>3</td>\n      <td>Business</td>\n      <td>27</td>\n      <td>8</td>\n      <td>23.24612</td>\n      <td>0.0</td>\n      <td>-1.333275</td>\n      <td>36.870815</td>\n      <td>-1.305249</td>\n      <td>36.822390</td>\n      <td>1511</td>\n    </tr>\n    <tr>\n      <th>1</th>\n      <td>3</td>\n      <td>Business</td>\n      <td>17</td>\n      <td>5</td>\n      <td>23.24612</td>\n      <td>0.0</td>\n      <td>-1.272639</td>\n      <td>36.794723</td>\n      <td>-1.277007</td>\n      <td>36.823907</td>\n      <td>273</td>\n    </tr>\n  </tbody>\n</table>\n</div>"
          },
          "metadata": {},
          "execution_count": 44
        }
      ]
    },
    {
      "cell_type": "code",
      "metadata": {
        "id": "g9UyfZhNhfR2"
      },
      "source": [
        "merged_test_copy =merged_test.copy()"
      ],
      "execution_count": 45,
      "outputs": []
    },
    {
      "cell_type": "code",
      "metadata": {
        "id": "cPfVDrPHVDny",
        "outputId": "f1cb154d-e764-4dad-e34c-e8a008bb2646",
        "colab": {
          "base_uri": "https://localhost:8080/",
          "height": 316
        }
      },
      "source": [
        "merged_train_copy.head()"
      ],
      "execution_count": 46,
      "outputs": [
        {
          "output_type": "execute_result",
          "data": {
            "text/plain": [
              "   Platform Type Personal or Business  Placement - Day of Month  \\\n",
              "0              3             Business                         9   \n",
              "1              3             Personal                        12   \n",
              "2              3             Business                        30   \n",
              "3              3             Business                        15   \n",
              "4              1             Personal                        13   \n",
              "\n",
              "   Distance (KM)  Temperature  Precipitation in millimeters  Pickup Lat  \\\n",
              "0              4    20.400000                           0.0   -1.317755   \n",
              "1             16    26.400000                           0.0   -1.351453   \n",
              "2              3    23.258889                           0.0   -1.308284   \n",
              "3              9    19.200000                           0.0   -1.281301   \n",
              "4              9    15.400000                           0.0   -1.266597   \n",
              "\n",
              "   Pickup Long  Destination Lat  Destination Long   Age  \\\n",
              "0    36.830370        -1.300406         36.829741  1309   \n",
              "1    36.899315        -1.295004         36.814358   339   \n",
              "2    36.843419        -1.300921         36.828195   242   \n",
              "3    36.832396        -1.257147         36.795063   283   \n",
              "4    36.792118        -1.295041         36.809817   872   \n",
              "\n",
              "   Time from Pickup to Arrival  \n",
              "0                          745  \n",
              "1                         1993  \n",
              "2                          455  \n",
              "3                         1341  \n",
              "4                         1214  "
            ],
            "text/html": "<div>\n<style scoped>\n    .dataframe tbody tr th:only-of-type {\n        vertical-align: middle;\n    }\n\n    .dataframe tbody tr th {\n        vertical-align: top;\n    }\n\n    .dataframe thead th {\n        text-align: right;\n    }\n</style>\n<table border=\"1\" class=\"dataframe\">\n  <thead>\n    <tr style=\"text-align: right;\">\n      <th></th>\n      <th>Platform Type</th>\n      <th>Personal or Business</th>\n      <th>Placement - Day of Month</th>\n      <th>Distance (KM)</th>\n      <th>Temperature</th>\n      <th>Precipitation in millimeters</th>\n      <th>Pickup Lat</th>\n      <th>Pickup Long</th>\n      <th>Destination Lat</th>\n      <th>Destination Long</th>\n      <th>Age</th>\n      <th>Time from Pickup to Arrival</th>\n    </tr>\n  </thead>\n  <tbody>\n    <tr>\n      <th>0</th>\n      <td>3</td>\n      <td>Business</td>\n      <td>9</td>\n      <td>4</td>\n      <td>20.400000</td>\n      <td>0.0</td>\n      <td>-1.317755</td>\n      <td>36.830370</td>\n      <td>-1.300406</td>\n      <td>36.829741</td>\n      <td>1309</td>\n      <td>745</td>\n    </tr>\n    <tr>\n      <th>1</th>\n      <td>3</td>\n      <td>Personal</td>\n      <td>12</td>\n      <td>16</td>\n      <td>26.400000</td>\n      <td>0.0</td>\n      <td>-1.351453</td>\n      <td>36.899315</td>\n      <td>-1.295004</td>\n      <td>36.814358</td>\n      <td>339</td>\n      <td>1993</td>\n    </tr>\n    <tr>\n      <th>2</th>\n      <td>3</td>\n      <td>Business</td>\n      <td>30</td>\n      <td>3</td>\n      <td>23.258889</td>\n      <td>0.0</td>\n      <td>-1.308284</td>\n      <td>36.843419</td>\n      <td>-1.300921</td>\n      <td>36.828195</td>\n      <td>242</td>\n      <td>455</td>\n    </tr>\n    <tr>\n      <th>3</th>\n      <td>3</td>\n      <td>Business</td>\n      <td>15</td>\n      <td>9</td>\n      <td>19.200000</td>\n      <td>0.0</td>\n      <td>-1.281301</td>\n      <td>36.832396</td>\n      <td>-1.257147</td>\n      <td>36.795063</td>\n      <td>283</td>\n      <td>1341</td>\n    </tr>\n    <tr>\n      <th>4</th>\n      <td>1</td>\n      <td>Personal</td>\n      <td>13</td>\n      <td>9</td>\n      <td>15.400000</td>\n      <td>0.0</td>\n      <td>-1.266597</td>\n      <td>36.792118</td>\n      <td>-1.295041</td>\n      <td>36.809817</td>\n      <td>872</td>\n      <td>1214</td>\n    </tr>\n  </tbody>\n</table>\n</div>"
          },
          "metadata": {},
          "execution_count": 46
        }
      ]
    },
    {
      "cell_type": "code",
      "metadata": {
        "id": "lQlBLzgdXGdj",
        "outputId": "6f8044cc-b8df-4b14-bbae-477c2729ae61",
        "colab": {
          "base_uri": "https://localhost:8080/",
          "height": 316
        }
      },
      "source": [
        "merged_test_copy.head()"
      ],
      "execution_count": 47,
      "outputs": [
        {
          "output_type": "execute_result",
          "data": {
            "text/plain": [
              "   Platform Type Personal or Business  Placement - Day of Month  \\\n",
              "0              3             Business                        27   \n",
              "1              3             Business                        17   \n",
              "2              3             Business                        27   \n",
              "3              3             Business                        17   \n",
              "4              3             Business                        11   \n",
              "\n",
              "   Distance (KM)  Temperature  Precipitation in millimeters  Pickup Lat  \\\n",
              "0              8     23.24612                           0.0   -1.333275   \n",
              "1              5     23.24612                           0.0   -1.272639   \n",
              "2              5     22.80000                           0.0   -1.290894   \n",
              "3              5     24.50000                           0.0   -1.290503   \n",
              "4              6     24.40000                           0.0   -1.281081   \n",
              "\n",
              "   Pickup Long  Destination Lat  Destination Long   Age  \n",
              "0    36.870815        -1.305249         36.822390  1511  \n",
              "1    36.794723        -1.277007         36.823907   273  \n",
              "2    36.822971        -1.276574         36.851365   460  \n",
              "3    36.809646        -1.303382         36.790658   560  \n",
              "4    36.814423        -1.266467         36.792161  1120  "
            ],
            "text/html": "<div>\n<style scoped>\n    .dataframe tbody tr th:only-of-type {\n        vertical-align: middle;\n    }\n\n    .dataframe tbody tr th {\n        vertical-align: top;\n    }\n\n    .dataframe thead th {\n        text-align: right;\n    }\n</style>\n<table border=\"1\" class=\"dataframe\">\n  <thead>\n    <tr style=\"text-align: right;\">\n      <th></th>\n      <th>Platform Type</th>\n      <th>Personal or Business</th>\n      <th>Placement - Day of Month</th>\n      <th>Distance (KM)</th>\n      <th>Temperature</th>\n      <th>Precipitation in millimeters</th>\n      <th>Pickup Lat</th>\n      <th>Pickup Long</th>\n      <th>Destination Lat</th>\n      <th>Destination Long</th>\n      <th>Age</th>\n    </tr>\n  </thead>\n  <tbody>\n    <tr>\n      <th>0</th>\n      <td>3</td>\n      <td>Business</td>\n      <td>27</td>\n      <td>8</td>\n      <td>23.24612</td>\n      <td>0.0</td>\n      <td>-1.333275</td>\n      <td>36.870815</td>\n      <td>-1.305249</td>\n      <td>36.822390</td>\n      <td>1511</td>\n    </tr>\n    <tr>\n      <th>1</th>\n      <td>3</td>\n      <td>Business</td>\n      <td>17</td>\n      <td>5</td>\n      <td>23.24612</td>\n      <td>0.0</td>\n      <td>-1.272639</td>\n      <td>36.794723</td>\n      <td>-1.277007</td>\n      <td>36.823907</td>\n      <td>273</td>\n    </tr>\n    <tr>\n      <th>2</th>\n      <td>3</td>\n      <td>Business</td>\n      <td>27</td>\n      <td>5</td>\n      <td>22.80000</td>\n      <td>0.0</td>\n      <td>-1.290894</td>\n      <td>36.822971</td>\n      <td>-1.276574</td>\n      <td>36.851365</td>\n      <td>460</td>\n    </tr>\n    <tr>\n      <th>3</th>\n      <td>3</td>\n      <td>Business</td>\n      <td>17</td>\n      <td>5</td>\n      <td>24.50000</td>\n      <td>0.0</td>\n      <td>-1.290503</td>\n      <td>36.809646</td>\n      <td>-1.303382</td>\n      <td>36.790658</td>\n      <td>560</td>\n    </tr>\n    <tr>\n      <th>4</th>\n      <td>3</td>\n      <td>Business</td>\n      <td>11</td>\n      <td>6</td>\n      <td>24.40000</td>\n      <td>0.0</td>\n      <td>-1.281081</td>\n      <td>36.814423</td>\n      <td>-1.266467</td>\n      <td>36.792161</td>\n      <td>1120</td>\n    </tr>\n  </tbody>\n</table>\n</div>"
          },
          "metadata": {},
          "execution_count": 47
        }
      ]
    },
    {
      "cell_type": "code",
      "metadata": {
        "id": "UCtygCd3e090",
        "outputId": "88a0fc93-f53c-445d-d593-9b7594ef35ef",
        "colab": {
          "base_uri": "https://localhost:8080/",
          "height": 316
        }
      },
      "source": [
        "merged_test.head()"
      ],
      "execution_count": 48,
      "outputs": [
        {
          "output_type": "execute_result",
          "data": {
            "text/plain": [
              "   Platform Type Personal or Business  Placement - Day of Month  \\\n",
              "0              3             Business                        27   \n",
              "1              3             Business                        17   \n",
              "2              3             Business                        27   \n",
              "3              3             Business                        17   \n",
              "4              3             Business                        11   \n",
              "\n",
              "   Distance (KM)  Temperature  Precipitation in millimeters  Pickup Lat  \\\n",
              "0              8     23.24612                           0.0   -1.333275   \n",
              "1              5     23.24612                           0.0   -1.272639   \n",
              "2              5     22.80000                           0.0   -1.290894   \n",
              "3              5     24.50000                           0.0   -1.290503   \n",
              "4              6     24.40000                           0.0   -1.281081   \n",
              "\n",
              "   Pickup Long  Destination Lat  Destination Long   Age  \n",
              "0    36.870815        -1.305249         36.822390  1511  \n",
              "1    36.794723        -1.277007         36.823907   273  \n",
              "2    36.822971        -1.276574         36.851365   460  \n",
              "3    36.809646        -1.303382         36.790658   560  \n",
              "4    36.814423        -1.266467         36.792161  1120  "
            ],
            "text/html": "<div>\n<style scoped>\n    .dataframe tbody tr th:only-of-type {\n        vertical-align: middle;\n    }\n\n    .dataframe tbody tr th {\n        vertical-align: top;\n    }\n\n    .dataframe thead th {\n        text-align: right;\n    }\n</style>\n<table border=\"1\" class=\"dataframe\">\n  <thead>\n    <tr style=\"text-align: right;\">\n      <th></th>\n      <th>Platform Type</th>\n      <th>Personal or Business</th>\n      <th>Placement - Day of Month</th>\n      <th>Distance (KM)</th>\n      <th>Temperature</th>\n      <th>Precipitation in millimeters</th>\n      <th>Pickup Lat</th>\n      <th>Pickup Long</th>\n      <th>Destination Lat</th>\n      <th>Destination Long</th>\n      <th>Age</th>\n    </tr>\n  </thead>\n  <tbody>\n    <tr>\n      <th>0</th>\n      <td>3</td>\n      <td>Business</td>\n      <td>27</td>\n      <td>8</td>\n      <td>23.24612</td>\n      <td>0.0</td>\n      <td>-1.333275</td>\n      <td>36.870815</td>\n      <td>-1.305249</td>\n      <td>36.822390</td>\n      <td>1511</td>\n    </tr>\n    <tr>\n      <th>1</th>\n      <td>3</td>\n      <td>Business</td>\n      <td>17</td>\n      <td>5</td>\n      <td>23.24612</td>\n      <td>0.0</td>\n      <td>-1.272639</td>\n      <td>36.794723</td>\n      <td>-1.277007</td>\n      <td>36.823907</td>\n      <td>273</td>\n    </tr>\n    <tr>\n      <th>2</th>\n      <td>3</td>\n      <td>Business</td>\n      <td>27</td>\n      <td>5</td>\n      <td>22.80000</td>\n      <td>0.0</td>\n      <td>-1.290894</td>\n      <td>36.822971</td>\n      <td>-1.276574</td>\n      <td>36.851365</td>\n      <td>460</td>\n    </tr>\n    <tr>\n      <th>3</th>\n      <td>3</td>\n      <td>Business</td>\n      <td>17</td>\n      <td>5</td>\n      <td>24.50000</td>\n      <td>0.0</td>\n      <td>-1.290503</td>\n      <td>36.809646</td>\n      <td>-1.303382</td>\n      <td>36.790658</td>\n      <td>560</td>\n    </tr>\n    <tr>\n      <th>4</th>\n      <td>3</td>\n      <td>Business</td>\n      <td>11</td>\n      <td>6</td>\n      <td>24.40000</td>\n      <td>0.0</td>\n      <td>-1.281081</td>\n      <td>36.814423</td>\n      <td>-1.266467</td>\n      <td>36.792161</td>\n      <td>1120</td>\n    </tr>\n  </tbody>\n</table>\n</div>"
          },
          "metadata": {},
          "execution_count": 48
        }
      ]
    },
    {
      "cell_type": "markdown",
      "metadata": {
        "id": "-Gpt5uN4VDn1"
      },
      "source": [
        "\n",
        "## Encoding the categorical data ##\n",
        " - Bussiness column needs to be encoded into dummy variables  so i can be of type int \n"
      ]
    },
    {
      "cell_type": "code",
      "metadata": {
        "id": "wkSd0QBSirsZ",
        "outputId": "df49e0a6-a223-4a9e-9796-4e392fe2f3ad",
        "colab": {
          "base_uri": "https://localhost:8080/",
          "height": 316
        }
      },
      "source": [
        "merged_train.head()"
      ],
      "execution_count": 49,
      "outputs": [
        {
          "output_type": "execute_result",
          "data": {
            "text/plain": [
              "   Platform Type Personal or Business  Placement - Day of Month  \\\n",
              "0              3             Business                         9   \n",
              "1              3             Personal                        12   \n",
              "2              3             Business                        30   \n",
              "3              3             Business                        15   \n",
              "4              1             Personal                        13   \n",
              "\n",
              "   Distance (KM)  Temperature  Precipitation in millimeters  Pickup Lat  \\\n",
              "0              4    20.400000                           0.0   -1.317755   \n",
              "1             16    26.400000                           0.0   -1.351453   \n",
              "2              3    23.258889                           0.0   -1.308284   \n",
              "3              9    19.200000                           0.0   -1.281301   \n",
              "4              9    15.400000                           0.0   -1.266597   \n",
              "\n",
              "   Pickup Long  Destination Lat  Destination Long   Age  \\\n",
              "0    36.830370        -1.300406         36.829741  1309   \n",
              "1    36.899315        -1.295004         36.814358   339   \n",
              "2    36.843419        -1.300921         36.828195   242   \n",
              "3    36.832396        -1.257147         36.795063   283   \n",
              "4    36.792118        -1.295041         36.809817   872   \n",
              "\n",
              "   Time from Pickup to Arrival  \n",
              "0                          745  \n",
              "1                         1993  \n",
              "2                          455  \n",
              "3                         1341  \n",
              "4                         1214  "
            ],
            "text/html": "<div>\n<style scoped>\n    .dataframe tbody tr th:only-of-type {\n        vertical-align: middle;\n    }\n\n    .dataframe tbody tr th {\n        vertical-align: top;\n    }\n\n    .dataframe thead th {\n        text-align: right;\n    }\n</style>\n<table border=\"1\" class=\"dataframe\">\n  <thead>\n    <tr style=\"text-align: right;\">\n      <th></th>\n      <th>Platform Type</th>\n      <th>Personal or Business</th>\n      <th>Placement - Day of Month</th>\n      <th>Distance (KM)</th>\n      <th>Temperature</th>\n      <th>Precipitation in millimeters</th>\n      <th>Pickup Lat</th>\n      <th>Pickup Long</th>\n      <th>Destination Lat</th>\n      <th>Destination Long</th>\n      <th>Age</th>\n      <th>Time from Pickup to Arrival</th>\n    </tr>\n  </thead>\n  <tbody>\n    <tr>\n      <th>0</th>\n      <td>3</td>\n      <td>Business</td>\n      <td>9</td>\n      <td>4</td>\n      <td>20.400000</td>\n      <td>0.0</td>\n      <td>-1.317755</td>\n      <td>36.830370</td>\n      <td>-1.300406</td>\n      <td>36.829741</td>\n      <td>1309</td>\n      <td>745</td>\n    </tr>\n    <tr>\n      <th>1</th>\n      <td>3</td>\n      <td>Personal</td>\n      <td>12</td>\n      <td>16</td>\n      <td>26.400000</td>\n      <td>0.0</td>\n      <td>-1.351453</td>\n      <td>36.899315</td>\n      <td>-1.295004</td>\n      <td>36.814358</td>\n      <td>339</td>\n      <td>1993</td>\n    </tr>\n    <tr>\n      <th>2</th>\n      <td>3</td>\n      <td>Business</td>\n      <td>30</td>\n      <td>3</td>\n      <td>23.258889</td>\n      <td>0.0</td>\n      <td>-1.308284</td>\n      <td>36.843419</td>\n      <td>-1.300921</td>\n      <td>36.828195</td>\n      <td>242</td>\n      <td>455</td>\n    </tr>\n    <tr>\n      <th>3</th>\n      <td>3</td>\n      <td>Business</td>\n      <td>15</td>\n      <td>9</td>\n      <td>19.200000</td>\n      <td>0.0</td>\n      <td>-1.281301</td>\n      <td>36.832396</td>\n      <td>-1.257147</td>\n      <td>36.795063</td>\n      <td>283</td>\n      <td>1341</td>\n    </tr>\n    <tr>\n      <th>4</th>\n      <td>1</td>\n      <td>Personal</td>\n      <td>13</td>\n      <td>9</td>\n      <td>15.400000</td>\n      <td>0.0</td>\n      <td>-1.266597</td>\n      <td>36.792118</td>\n      <td>-1.295041</td>\n      <td>36.809817</td>\n      <td>872</td>\n      <td>1214</td>\n    </tr>\n  </tbody>\n</table>\n</div>"
          },
          "metadata": {},
          "execution_count": 49
        }
      ]
    },
    {
      "cell_type": "code",
      "metadata": {
        "id": "-94uJB1dj3g4",
        "outputId": "5b7fd022-ea18-4e79-c88b-d5e522bd7c47",
        "colab": {
          "base_uri": "https://localhost:8080/",
          "height": 316
        }
      },
      "source": [
        "merged_test.head()"
      ],
      "execution_count": 50,
      "outputs": [
        {
          "output_type": "execute_result",
          "data": {
            "text/plain": [
              "   Platform Type Personal or Business  Placement - Day of Month  \\\n",
              "0              3             Business                        27   \n",
              "1              3             Business                        17   \n",
              "2              3             Business                        27   \n",
              "3              3             Business                        17   \n",
              "4              3             Business                        11   \n",
              "\n",
              "   Distance (KM)  Temperature  Precipitation in millimeters  Pickup Lat  \\\n",
              "0              8     23.24612                           0.0   -1.333275   \n",
              "1              5     23.24612                           0.0   -1.272639   \n",
              "2              5     22.80000                           0.0   -1.290894   \n",
              "3              5     24.50000                           0.0   -1.290503   \n",
              "4              6     24.40000                           0.0   -1.281081   \n",
              "\n",
              "   Pickup Long  Destination Lat  Destination Long   Age  \n",
              "0    36.870815        -1.305249         36.822390  1511  \n",
              "1    36.794723        -1.277007         36.823907   273  \n",
              "2    36.822971        -1.276574         36.851365   460  \n",
              "3    36.809646        -1.303382         36.790658   560  \n",
              "4    36.814423        -1.266467         36.792161  1120  "
            ],
            "text/html": "<div>\n<style scoped>\n    .dataframe tbody tr th:only-of-type {\n        vertical-align: middle;\n    }\n\n    .dataframe tbody tr th {\n        vertical-align: top;\n    }\n\n    .dataframe thead th {\n        text-align: right;\n    }\n</style>\n<table border=\"1\" class=\"dataframe\">\n  <thead>\n    <tr style=\"text-align: right;\">\n      <th></th>\n      <th>Platform Type</th>\n      <th>Personal or Business</th>\n      <th>Placement - Day of Month</th>\n      <th>Distance (KM)</th>\n      <th>Temperature</th>\n      <th>Precipitation in millimeters</th>\n      <th>Pickup Lat</th>\n      <th>Pickup Long</th>\n      <th>Destination Lat</th>\n      <th>Destination Long</th>\n      <th>Age</th>\n    </tr>\n  </thead>\n  <tbody>\n    <tr>\n      <th>0</th>\n      <td>3</td>\n      <td>Business</td>\n      <td>27</td>\n      <td>8</td>\n      <td>23.24612</td>\n      <td>0.0</td>\n      <td>-1.333275</td>\n      <td>36.870815</td>\n      <td>-1.305249</td>\n      <td>36.822390</td>\n      <td>1511</td>\n    </tr>\n    <tr>\n      <th>1</th>\n      <td>3</td>\n      <td>Business</td>\n      <td>17</td>\n      <td>5</td>\n      <td>23.24612</td>\n      <td>0.0</td>\n      <td>-1.272639</td>\n      <td>36.794723</td>\n      <td>-1.277007</td>\n      <td>36.823907</td>\n      <td>273</td>\n    </tr>\n    <tr>\n      <th>2</th>\n      <td>3</td>\n      <td>Business</td>\n      <td>27</td>\n      <td>5</td>\n      <td>22.80000</td>\n      <td>0.0</td>\n      <td>-1.290894</td>\n      <td>36.822971</td>\n      <td>-1.276574</td>\n      <td>36.851365</td>\n      <td>460</td>\n    </tr>\n    <tr>\n      <th>3</th>\n      <td>3</td>\n      <td>Business</td>\n      <td>17</td>\n      <td>5</td>\n      <td>24.50000</td>\n      <td>0.0</td>\n      <td>-1.290503</td>\n      <td>36.809646</td>\n      <td>-1.303382</td>\n      <td>36.790658</td>\n      <td>560</td>\n    </tr>\n    <tr>\n      <th>4</th>\n      <td>3</td>\n      <td>Business</td>\n      <td>11</td>\n      <td>6</td>\n      <td>24.40000</td>\n      <td>0.0</td>\n      <td>-1.281081</td>\n      <td>36.814423</td>\n      <td>-1.266467</td>\n      <td>36.792161</td>\n      <td>1120</td>\n    </tr>\n  </tbody>\n</table>\n</div>"
          },
          "metadata": {},
          "execution_count": 50
        }
      ]
    },
    {
      "cell_type": "code",
      "metadata": {
        "id": "p2TmoHh7VDn2",
        "scrolled": true
      },
      "source": [
        "merged_train= pd.get_dummies(merged_train, drop_first=True)\n",
        "merged_test = pd.get_dummies(merged_test, drop_first=True)"
      ],
      "execution_count": 51,
      "outputs": []
    },
    {
      "cell_type": "code",
      "metadata": {
        "id": "IcCMZHRxVDn5",
        "outputId": "dfcd0854-49a2-4569-e1bc-c3c52533c87a",
        "colab": {
          "base_uri": "https://localhost:8080/",
          "height": 345
        }
      },
      "source": [
        "merged_train.head()"
      ],
      "execution_count": 52,
      "outputs": [
        {
          "output_type": "execute_result",
          "data": {
            "text/plain": [
              "   Platform Type  Placement - Day of Month  Distance (KM)  Temperature  \\\n",
              "0              3                         9              4    20.400000   \n",
              "1              3                        12             16    26.400000   \n",
              "2              3                        30              3    23.258889   \n",
              "3              3                        15              9    19.200000   \n",
              "4              1                        13              9    15.400000   \n",
              "\n",
              "   Precipitation in millimeters  Pickup Lat  Pickup Long  Destination Lat  \\\n",
              "0                           0.0   -1.317755    36.830370        -1.300406   \n",
              "1                           0.0   -1.351453    36.899315        -1.295004   \n",
              "2                           0.0   -1.308284    36.843419        -1.300921   \n",
              "3                           0.0   -1.281301    36.832396        -1.257147   \n",
              "4                           0.0   -1.266597    36.792118        -1.295041   \n",
              "\n",
              "   Destination Long   Age  Time from Pickup to Arrival  \\\n",
              "0         36.829741  1309                          745   \n",
              "1         36.814358   339                         1993   \n",
              "2         36.828195   242                          455   \n",
              "3         36.795063   283                         1341   \n",
              "4         36.809817   872                         1214   \n",
              "\n",
              "   Personal or Business_Personal  \n",
              "0                              0  \n",
              "1                              1  \n",
              "2                              0  \n",
              "3                              0  \n",
              "4                              1  "
            ],
            "text/html": "<div>\n<style scoped>\n    .dataframe tbody tr th:only-of-type {\n        vertical-align: middle;\n    }\n\n    .dataframe tbody tr th {\n        vertical-align: top;\n    }\n\n    .dataframe thead th {\n        text-align: right;\n    }\n</style>\n<table border=\"1\" class=\"dataframe\">\n  <thead>\n    <tr style=\"text-align: right;\">\n      <th></th>\n      <th>Platform Type</th>\n      <th>Placement - Day of Month</th>\n      <th>Distance (KM)</th>\n      <th>Temperature</th>\n      <th>Precipitation in millimeters</th>\n      <th>Pickup Lat</th>\n      <th>Pickup Long</th>\n      <th>Destination Lat</th>\n      <th>Destination Long</th>\n      <th>Age</th>\n      <th>Time from Pickup to Arrival</th>\n      <th>Personal or Business_Personal</th>\n    </tr>\n  </thead>\n  <tbody>\n    <tr>\n      <th>0</th>\n      <td>3</td>\n      <td>9</td>\n      <td>4</td>\n      <td>20.400000</td>\n      <td>0.0</td>\n      <td>-1.317755</td>\n      <td>36.830370</td>\n      <td>-1.300406</td>\n      <td>36.829741</td>\n      <td>1309</td>\n      <td>745</td>\n      <td>0</td>\n    </tr>\n    <tr>\n      <th>1</th>\n      <td>3</td>\n      <td>12</td>\n      <td>16</td>\n      <td>26.400000</td>\n      <td>0.0</td>\n      <td>-1.351453</td>\n      <td>36.899315</td>\n      <td>-1.295004</td>\n      <td>36.814358</td>\n      <td>339</td>\n      <td>1993</td>\n      <td>1</td>\n    </tr>\n    <tr>\n      <th>2</th>\n      <td>3</td>\n      <td>30</td>\n      <td>3</td>\n      <td>23.258889</td>\n      <td>0.0</td>\n      <td>-1.308284</td>\n      <td>36.843419</td>\n      <td>-1.300921</td>\n      <td>36.828195</td>\n      <td>242</td>\n      <td>455</td>\n      <td>0</td>\n    </tr>\n    <tr>\n      <th>3</th>\n      <td>3</td>\n      <td>15</td>\n      <td>9</td>\n      <td>19.200000</td>\n      <td>0.0</td>\n      <td>-1.281301</td>\n      <td>36.832396</td>\n      <td>-1.257147</td>\n      <td>36.795063</td>\n      <td>283</td>\n      <td>1341</td>\n      <td>0</td>\n    </tr>\n    <tr>\n      <th>4</th>\n      <td>1</td>\n      <td>13</td>\n      <td>9</td>\n      <td>15.400000</td>\n      <td>0.0</td>\n      <td>-1.266597</td>\n      <td>36.792118</td>\n      <td>-1.295041</td>\n      <td>36.809817</td>\n      <td>872</td>\n      <td>1214</td>\n      <td>1</td>\n    </tr>\n  </tbody>\n</table>\n</div>"
          },
          "metadata": {},
          "execution_count": 52
        }
      ]
    },
    {
      "cell_type": "code",
      "metadata": {
        "id": "24DTB9FHVvri",
        "outputId": "046b88b7-1d0f-4b81-b147-ad7fac7e4be4",
        "colab": {
          "base_uri": "https://localhost:8080/",
          "height": 345
        }
      },
      "source": [
        "merged_test.head()"
      ],
      "execution_count": 53,
      "outputs": [
        {
          "output_type": "execute_result",
          "data": {
            "text/plain": [
              "   Platform Type  Placement - Day of Month  Distance (KM)  Temperature  \\\n",
              "0              3                        27              8     23.24612   \n",
              "1              3                        17              5     23.24612   \n",
              "2              3                        27              5     22.80000   \n",
              "3              3                        17              5     24.50000   \n",
              "4              3                        11              6     24.40000   \n",
              "\n",
              "   Precipitation in millimeters  Pickup Lat  Pickup Long  Destination Lat  \\\n",
              "0                           0.0   -1.333275    36.870815        -1.305249   \n",
              "1                           0.0   -1.272639    36.794723        -1.277007   \n",
              "2                           0.0   -1.290894    36.822971        -1.276574   \n",
              "3                           0.0   -1.290503    36.809646        -1.303382   \n",
              "4                           0.0   -1.281081    36.814423        -1.266467   \n",
              "\n",
              "   Destination Long   Age  Personal or Business_Personal  \n",
              "0         36.822390  1511                              0  \n",
              "1         36.823907   273                              0  \n",
              "2         36.851365   460                              0  \n",
              "3         36.790658   560                              0  \n",
              "4         36.792161  1120                              0  "
            ],
            "text/html": "<div>\n<style scoped>\n    .dataframe tbody tr th:only-of-type {\n        vertical-align: middle;\n    }\n\n    .dataframe tbody tr th {\n        vertical-align: top;\n    }\n\n    .dataframe thead th {\n        text-align: right;\n    }\n</style>\n<table border=\"1\" class=\"dataframe\">\n  <thead>\n    <tr style=\"text-align: right;\">\n      <th></th>\n      <th>Platform Type</th>\n      <th>Placement - Day of Month</th>\n      <th>Distance (KM)</th>\n      <th>Temperature</th>\n      <th>Precipitation in millimeters</th>\n      <th>Pickup Lat</th>\n      <th>Pickup Long</th>\n      <th>Destination Lat</th>\n      <th>Destination Long</th>\n      <th>Age</th>\n      <th>Personal or Business_Personal</th>\n    </tr>\n  </thead>\n  <tbody>\n    <tr>\n      <th>0</th>\n      <td>3</td>\n      <td>27</td>\n      <td>8</td>\n      <td>23.24612</td>\n      <td>0.0</td>\n      <td>-1.333275</td>\n      <td>36.870815</td>\n      <td>-1.305249</td>\n      <td>36.822390</td>\n      <td>1511</td>\n      <td>0</td>\n    </tr>\n    <tr>\n      <th>1</th>\n      <td>3</td>\n      <td>17</td>\n      <td>5</td>\n      <td>23.24612</td>\n      <td>0.0</td>\n      <td>-1.272639</td>\n      <td>36.794723</td>\n      <td>-1.277007</td>\n      <td>36.823907</td>\n      <td>273</td>\n      <td>0</td>\n    </tr>\n    <tr>\n      <th>2</th>\n      <td>3</td>\n      <td>27</td>\n      <td>5</td>\n      <td>22.80000</td>\n      <td>0.0</td>\n      <td>-1.290894</td>\n      <td>36.822971</td>\n      <td>-1.276574</td>\n      <td>36.851365</td>\n      <td>460</td>\n      <td>0</td>\n    </tr>\n    <tr>\n      <th>3</th>\n      <td>3</td>\n      <td>17</td>\n      <td>5</td>\n      <td>24.50000</td>\n      <td>0.0</td>\n      <td>-1.290503</td>\n      <td>36.809646</td>\n      <td>-1.303382</td>\n      <td>36.790658</td>\n      <td>560</td>\n      <td>0</td>\n    </tr>\n    <tr>\n      <th>4</th>\n      <td>3</td>\n      <td>11</td>\n      <td>6</td>\n      <td>24.40000</td>\n      <td>0.0</td>\n      <td>-1.281081</td>\n      <td>36.814423</td>\n      <td>-1.266467</td>\n      <td>36.792161</td>\n      <td>1120</td>\n      <td>0</td>\n    </tr>\n  </tbody>\n</table>\n</div>"
          },
          "metadata": {},
          "execution_count": 53
        }
      ]
    },
    {
      "cell_type": "markdown",
      "metadata": {
        "id": "UaScQfv9VDn-"
      },
      "source": [
        "# Base Model"
      ]
    },
    {
      "cell_type": "code",
      "metadata": {
        "id": "9Iu-WAtkkY-a",
        "outputId": "d214502b-4025-4cae-978c-becc7c3c0954",
        "colab": {
          "base_uri": "https://localhost:8080/",
          "height": 345
        }
      },
      "source": [
        "merged_test.head()"
      ],
      "execution_count": 54,
      "outputs": [
        {
          "output_type": "execute_result",
          "data": {
            "text/plain": [
              "   Platform Type  Placement - Day of Month  Distance (KM)  Temperature  \\\n",
              "0              3                        27              8     23.24612   \n",
              "1              3                        17              5     23.24612   \n",
              "2              3                        27              5     22.80000   \n",
              "3              3                        17              5     24.50000   \n",
              "4              3                        11              6     24.40000   \n",
              "\n",
              "   Precipitation in millimeters  Pickup Lat  Pickup Long  Destination Lat  \\\n",
              "0                           0.0   -1.333275    36.870815        -1.305249   \n",
              "1                           0.0   -1.272639    36.794723        -1.277007   \n",
              "2                           0.0   -1.290894    36.822971        -1.276574   \n",
              "3                           0.0   -1.290503    36.809646        -1.303382   \n",
              "4                           0.0   -1.281081    36.814423        -1.266467   \n",
              "\n",
              "   Destination Long   Age  Personal or Business_Personal  \n",
              "0         36.822390  1511                              0  \n",
              "1         36.823907   273                              0  \n",
              "2         36.851365   460                              0  \n",
              "3         36.790658   560                              0  \n",
              "4         36.792161  1120                              0  "
            ],
            "text/html": "<div>\n<style scoped>\n    .dataframe tbody tr th:only-of-type {\n        vertical-align: middle;\n    }\n\n    .dataframe tbody tr th {\n        vertical-align: top;\n    }\n\n    .dataframe thead th {\n        text-align: right;\n    }\n</style>\n<table border=\"1\" class=\"dataframe\">\n  <thead>\n    <tr style=\"text-align: right;\">\n      <th></th>\n      <th>Platform Type</th>\n      <th>Placement - Day of Month</th>\n      <th>Distance (KM)</th>\n      <th>Temperature</th>\n      <th>Precipitation in millimeters</th>\n      <th>Pickup Lat</th>\n      <th>Pickup Long</th>\n      <th>Destination Lat</th>\n      <th>Destination Long</th>\n      <th>Age</th>\n      <th>Personal or Business_Personal</th>\n    </tr>\n  </thead>\n  <tbody>\n    <tr>\n      <th>0</th>\n      <td>3</td>\n      <td>27</td>\n      <td>8</td>\n      <td>23.24612</td>\n      <td>0.0</td>\n      <td>-1.333275</td>\n      <td>36.870815</td>\n      <td>-1.305249</td>\n      <td>36.822390</td>\n      <td>1511</td>\n      <td>0</td>\n    </tr>\n    <tr>\n      <th>1</th>\n      <td>3</td>\n      <td>17</td>\n      <td>5</td>\n      <td>23.24612</td>\n      <td>0.0</td>\n      <td>-1.272639</td>\n      <td>36.794723</td>\n      <td>-1.277007</td>\n      <td>36.823907</td>\n      <td>273</td>\n      <td>0</td>\n    </tr>\n    <tr>\n      <th>2</th>\n      <td>3</td>\n      <td>27</td>\n      <td>5</td>\n      <td>22.80000</td>\n      <td>0.0</td>\n      <td>-1.290894</td>\n      <td>36.822971</td>\n      <td>-1.276574</td>\n      <td>36.851365</td>\n      <td>460</td>\n      <td>0</td>\n    </tr>\n    <tr>\n      <th>3</th>\n      <td>3</td>\n      <td>17</td>\n      <td>5</td>\n      <td>24.50000</td>\n      <td>0.0</td>\n      <td>-1.290503</td>\n      <td>36.809646</td>\n      <td>-1.303382</td>\n      <td>36.790658</td>\n      <td>560</td>\n      <td>0</td>\n    </tr>\n    <tr>\n      <th>4</th>\n      <td>3</td>\n      <td>11</td>\n      <td>6</td>\n      <td>24.40000</td>\n      <td>0.0</td>\n      <td>-1.281081</td>\n      <td>36.814423</td>\n      <td>-1.266467</td>\n      <td>36.792161</td>\n      <td>1120</td>\n      <td>0</td>\n    </tr>\n  </tbody>\n</table>\n</div>"
          },
          "metadata": {},
          "execution_count": 54
        }
      ]
    },
    {
      "cell_type": "code",
      "metadata": {
        "id": "NSOVQRZoVDn_"
      },
      "source": [
        "X = merged_train.drop(['Time from Pickup to Arrival','Age'], axis = 1)\n",
        "X_test = merged_test.drop(['Age'],axis = 1)\n",
        "y = np.array(train['Time from Pickup to Arrival']).reshape(-1,1)"
      ],
      "execution_count": 55,
      "outputs": []
    },
    {
      "cell_type": "code",
      "metadata": {
        "id": "CnhW2blOVDoG"
      },
      "source": [
        "from sklearn.model_selection import train_test_split\n",
        "from sklearn.linear_model import LinearRegression"
      ],
      "execution_count": 56,
      "outputs": []
    },
    {
      "cell_type": "code",
      "metadata": {
        "id": "T0lVucEak6_d"
      },
      "source": [
        ""
      ],
      "execution_count": null,
      "outputs": []
    },
    {
      "cell_type": "code",
      "metadata": {
        "id": "sCOsCLsZVDoL"
      },
      "source": [
        "X_train, X_val, y_train, y_val = train_test_split(X,y,test_size = 0.30,\n",
        "                                                  random_state = 25)\n"
      ],
      "execution_count": 57,
      "outputs": []
    },
    {
      "cell_type": "code",
      "metadata": {
        "id": "1mdh06MWHo4h"
      },
      "source": [
        "lin_reg = LinearRegression() lin_reg.fit(X_train,y_train)"
      ],
      "execution_count": 58,
      "outputs": [
        {
          "output_type": "error",
          "ename": "SyntaxError",
          "evalue": "invalid syntax (<ipython-input-58-0930e0c2a46e>, line 1)",
          "traceback": [
            "\u001b[1;36m  File \u001b[1;32m\"<ipython-input-58-0930e0c2a46e>\"\u001b[1;36m, line \u001b[1;32m1\u001b[0m\n\u001b[1;33m    lin_reg = LinearRegression() lin_reg.fit(X_train,y_train)\u001b[0m\n\u001b[1;37m                                       ^\u001b[0m\n\u001b[1;31mSyntaxError\u001b[0m\u001b[1;31m:\u001b[0m invalid syntax\n"
          ]
        }
      ]
    },
    {
      "cell_type": "code",
      "metadata": {
        "id": "o6KxA2s2VDoS"
      },
      "source": [
        "val_pred = lin_reg.predict(X_val)\n",
        "val_pred"
      ],
      "execution_count": null,
      "outputs": []
    },
    {
      "cell_type": "code",
      "metadata": {
        "id": "m2mYyqboVDoV"
      },
      "source": [
        "# function that calculates the root mean squared error\n",
        "def rmse(y_test,y_prediction):\n",
        "    result = np.sqrt(mean_squared_error(y_test,y_prediction))\n",
        "    return result"
      ],
      "execution_count": null,
      "outputs": []
    },
    {
      "cell_type": "code",
      "metadata": {
        "id": "3rK6LdL6VDoY"
      },
      "source": [
        "rmse(y_val, val_pred)"
      ],
      "execution_count": null,
      "outputs": []
    },
    {
      "cell_type": "code",
      "metadata": {
        "id": "3TAGaet6VDoc"
      },
      "source": [
        "# Making actual y predictions\n",
        "y_pred = lin_reg.predict(X_test)"
      ],
      "execution_count": null,
      "outputs": []
    },
    {
      "cell_type": "code",
      "metadata": {
        "id": "M8vFwRmbVDog"
      },
      "source": [
        "submission = test[['Order No']].copy()\n",
        "submission['Time from Pickup to Arrival'] = y_pred"
      ],
      "execution_count": null,
      "outputs": []
    },
    {
      "cell_type": "code",
      "metadata": {
        "id": "5a9XcV0kVDol"
      },
      "source": [
        "submission"
      ],
      "execution_count": null,
      "outputs": []
    },
    {
      "cell_type": "code",
      "metadata": {
        "id": "EO6CfCx-VDot"
      },
      "source": [
        "# submission.to_csv('submission_0.11.csv', index = False)"
      ],
      "execution_count": null,
      "outputs": []
    },
    {
      "cell_type": "code",
      "metadata": {
        "id": "OPJERy3FVDox"
      },
      "source": [
        ""
      ],
      "execution_count": null,
      "outputs": []
    },
    {
      "cell_type": "markdown",
      "metadata": {
        "id": "b7o-q2VoVDo3"
      },
      "source": [
        "# Feature Scaling ##"
      ]
    },
    {
      "cell_type": "markdown",
      "metadata": {
        "id": "ULR4jDbeVDo4"
      },
      "source": [
        "One of the important reason of feature scaling is so that one significant number doesn't impact the model because of their large magnitude. Thus, feature scaling is one of the most critical step in machine learning during the preprocessing data before creating the a machine learning model. There are several techniques of scaling and the one used in this work is known as Normalization. Normally this technique is used when we want to bound the values between two numbers, that are often between 0 to 1, or -1 to 1. The diagram below shows how the data looks like after it has been scaling it in the X-Y plane.\n",
        "\n",
        "![image.png](attachment:image.png)"
      ]
    },
    {
      "cell_type": "code",
      "metadata": {
        "id": "91jJiQx0VDo5"
      },
      "source": [
        "# Import the \"\"\"MIN MAX SCALER\"\"\"\n",
        "from sklearn.preprocessing import  MinMaxScaler\n",
        "scaler = MinMaxScaler()"
      ],
      "execution_count": null,
      "outputs": []
    },
    {
      "cell_type": "code",
      "metadata": {
        "id": "6k4VHSZOVDo9",
        "outputId": "cbf41312-9d49-4ea3-c1f3-d962e0981a59",
        "colab": {
          "base_uri": "https://localhost:8080/",
          "height": 162
        }
      },
      "source": [
        "train_df.columns"
      ],
      "execution_count": null,
      "outputs": [
        {
          "output_type": "error",
          "ename": "NameError",
          "evalue": "ignored",
          "traceback": [
            "\u001b[0;31m---------------------------------------------------------------------------\u001b[0m",
            "\u001b[0;31mNameError\u001b[0m                                 Traceback (most recent call last)",
            "\u001b[0;32m<ipython-input-442-be2b94b55b60>\u001b[0m in \u001b[0;36m<module>\u001b[0;34m()\u001b[0m\n\u001b[0;32m----> 1\u001b[0;31m \u001b[0mtrain_df\u001b[0m\u001b[0;34m.\u001b[0m\u001b[0mcolumns\u001b[0m\u001b[0;34m\u001b[0m\u001b[0;34m\u001b[0m\u001b[0m\n\u001b[0m",
            "\u001b[0;31mNameError\u001b[0m: name 'train_df' is not defined"
          ]
        }
      ]
    },
    {
      "cell_type": "code",
      "metadata": {
        "id": "N5TMqYWZVDpD"
      },
      "source": [
        "# Here the Features: Day of the Month, Distance, Temp, Precipitation (mm), Time for Pick up Arrival are picked \n",
        "# ... from the train data available. \n",
        "# Then, they are scaled and represented in a new Dataframe : df_train\n",
        "df_train = pd.DataFrame(scaler.fit_transform(train_df[['Placement - Day of Month',\n",
        "                                               'Distance (KM)', 'Temperature', \n",
        "                                               'Precipitation in millimeters', 'Time from Pickup to Arrival' ]]),\n",
        "                   columns = ['Day of Month', 'Distance (km)', 'Temp', 'Precipitation (mm)', 'Pickup to Arrival (s)' ])"
      ],
      "execution_count": null,
      "outputs": []
    },
    {
      "cell_type": "code",
      "metadata": {
        "id": "iQa5ZmKuVDpH",
        "scrolled": false,
        "outputId": "1c908619-d2ab-4413-d4a9-1dcc102e98d8"
      },
      "source": [
        "df_train.head()"
      ],
      "execution_count": null,
      "outputs": [
        {
          "output_type": "execute_result",
          "data": {
            "text/html": [
              "<div>\n",
              "<style scoped>\n",
              "    .dataframe tbody tr th:only-of-type {\n",
              "        vertical-align: middle;\n",
              "    }\n",
              "\n",
              "    .dataframe tbody tr th {\n",
              "        vertical-align: top;\n",
              "    }\n",
              "\n",
              "    .dataframe thead th {\n",
              "        text-align: right;\n",
              "    }\n",
              "</style>\n",
              "<table border=\"1\" class=\"dataframe\">\n",
              "  <thead>\n",
              "    <tr style=\"text-align: right;\">\n",
              "      <th></th>\n",
              "      <th>Day of Month</th>\n",
              "      <th>Distance (km)</th>\n",
              "      <th>Temp</th>\n",
              "      <th>Precipitation (mm)</th>\n",
              "      <th>Pickup to Arrival (s)</th>\n",
              "    </tr>\n",
              "  </thead>\n",
              "  <tbody>\n",
              "    <tr>\n",
              "      <th>0</th>\n",
              "      <td>0.266667</td>\n",
              "      <td>0.062500</td>\n",
              "      <td>0.440191</td>\n",
              "      <td>0.0</td>\n",
              "      <td>0.094392</td>\n",
              "    </tr>\n",
              "    <tr>\n",
              "      <th>1</th>\n",
              "      <td>0.366667</td>\n",
              "      <td>0.312500</td>\n",
              "      <td>0.727273</td>\n",
              "      <td>0.0</td>\n",
              "      <td>0.252728</td>\n",
              "    </tr>\n",
              "    <tr>\n",
              "      <th>2</th>\n",
              "      <td>0.966667</td>\n",
              "      <td>0.041667</td>\n",
              "      <td>0.576980</td>\n",
              "      <td>0.0</td>\n",
              "      <td>0.057600</td>\n",
              "    </tr>\n",
              "    <tr>\n",
              "      <th>3</th>\n",
              "      <td>0.466667</td>\n",
              "      <td>0.166667</td>\n",
              "      <td>0.382775</td>\n",
              "      <td>0.0</td>\n",
              "      <td>0.170008</td>\n",
              "    </tr>\n",
              "    <tr>\n",
              "      <th>4</th>\n",
              "      <td>0.400000</td>\n",
              "      <td>0.166667</td>\n",
              "      <td>0.200957</td>\n",
              "      <td>0.0</td>\n",
              "      <td>0.153895</td>\n",
              "    </tr>\n",
              "  </tbody>\n",
              "</table>\n",
              "</div>"
            ],
            "text/plain": [
              "   Day of Month  Distance (km)      Temp  Precipitation (mm)  \\\n",
              "0      0.266667       0.062500  0.440191                 0.0   \n",
              "1      0.366667       0.312500  0.727273                 0.0   \n",
              "2      0.966667       0.041667  0.576980                 0.0   \n",
              "3      0.466667       0.166667  0.382775                 0.0   \n",
              "4      0.400000       0.166667  0.200957                 0.0   \n",
              "\n",
              "   Pickup to Arrival (s)  \n",
              "0               0.094392  \n",
              "1               0.252728  \n",
              "2               0.057600  \n",
              "3               0.170008  \n",
              "4               0.153895  "
            ]
          },
          "metadata": {
            "tags": []
          },
          "execution_count": 632
        }
      ]
    },
    {
      "cell_type": "markdown",
      "metadata": {
        "id": "hNlwwJgaVDpO"
      },
      "source": [
        "We should als note that even if we only scale the independent variables, we get a similar plot of both sclaed X-Y axis."
      ]
    },
    {
      "cell_type": "code",
      "metadata": {
        "id": "iRijDrOyVDpP"
      },
      "source": [
        "# Here the Features: Day of the Month, Distance, Temp, Precipitation (mm) are picked \n",
        "# ... from the train data available. \n",
        "# Then, they are scaled and represented in a new Dataframe : df2_train\n",
        "df2_train = pd.DataFrame(scaler.fit_transform(train[['Placement - Day of Month',\n",
        "                                               'Distance (KM)', 'Temperature', \n",
        "                                               'Precipitation in millimeters']]),\n",
        "                   columns = ['Day of Month', 'Distance (km)', 'Temp', 'Precipitation (mm)'])\n",
        "df2_test = pd.DataFrame(scaler.fit_transform(test[['Placement - Day of Month',\n",
        "                                               'Distance (KM)', 'Temperature', \n",
        "                                               'Precipitation in millimeters']]),\n",
        "                   columns = ['Day of Month', 'Distance (km)', 'Temp', 'Precipitation (mm)'])"
      ],
      "execution_count": null,
      "outputs": []
    },
    {
      "cell_type": "code",
      "metadata": {
        "id": "HmO0PZowVDpV",
        "outputId": "9cf7b8f7-c2f5-40e8-971d-564ffb038836"
      },
      "source": [
        "# df2_train represents the independent variables that are scaled for this work. \n",
        "df2_train.head()"
      ],
      "execution_count": null,
      "outputs": [
        {
          "output_type": "execute_result",
          "data": {
            "text/html": [
              "<div>\n",
              "<style scoped>\n",
              "    .dataframe tbody tr th:only-of-type {\n",
              "        vertical-align: middle;\n",
              "    }\n",
              "\n",
              "    .dataframe tbody tr th {\n",
              "        vertical-align: top;\n",
              "    }\n",
              "\n",
              "    .dataframe thead th {\n",
              "        text-align: right;\n",
              "    }\n",
              "</style>\n",
              "<table border=\"1\" class=\"dataframe\">\n",
              "  <thead>\n",
              "    <tr style=\"text-align: right;\">\n",
              "      <th></th>\n",
              "      <th>Day of Month</th>\n",
              "      <th>Distance (km)</th>\n",
              "      <th>Temp</th>\n",
              "      <th>Precipitation (mm)</th>\n",
              "    </tr>\n",
              "  </thead>\n",
              "  <tbody>\n",
              "    <tr>\n",
              "      <th>0</th>\n",
              "      <td>0.266667</td>\n",
              "      <td>0.062500</td>\n",
              "      <td>0.440191</td>\n",
              "      <td>0.0</td>\n",
              "    </tr>\n",
              "    <tr>\n",
              "      <th>1</th>\n",
              "      <td>0.366667</td>\n",
              "      <td>0.312500</td>\n",
              "      <td>0.727273</td>\n",
              "      <td>0.0</td>\n",
              "    </tr>\n",
              "    <tr>\n",
              "      <th>2</th>\n",
              "      <td>0.966667</td>\n",
              "      <td>0.041667</td>\n",
              "      <td>0.576980</td>\n",
              "      <td>0.0</td>\n",
              "    </tr>\n",
              "    <tr>\n",
              "      <th>3</th>\n",
              "      <td>0.466667</td>\n",
              "      <td>0.166667</td>\n",
              "      <td>0.382775</td>\n",
              "      <td>0.0</td>\n",
              "    </tr>\n",
              "    <tr>\n",
              "      <th>4</th>\n",
              "      <td>0.400000</td>\n",
              "      <td>0.166667</td>\n",
              "      <td>0.200957</td>\n",
              "      <td>0.0</td>\n",
              "    </tr>\n",
              "  </tbody>\n",
              "</table>\n",
              "</div>"
            ],
            "text/plain": [
              "   Day of Month  Distance (km)      Temp  Precipitation (mm)\n",
              "0      0.266667       0.062500  0.440191                 0.0\n",
              "1      0.366667       0.312500  0.727273                 0.0\n",
              "2      0.966667       0.041667  0.576980                 0.0\n",
              "3      0.466667       0.166667  0.382775                 0.0\n",
              "4      0.400000       0.166667  0.200957                 0.0"
            ]
          },
          "metadata": {
            "tags": []
          },
          "execution_count": 635
        }
      ]
    },
    {
      "cell_type": "code",
      "metadata": {
        "id": "McWQChaXVDpZ",
        "outputId": "dab6c3ba-587e-4540-e100-bf718ba45877"
      },
      "source": [
        "df2_test.head()"
      ],
      "execution_count": null,
      "outputs": [
        {
          "output_type": "execute_result",
          "data": {
            "text/html": [
              "<div>\n",
              "<style scoped>\n",
              "    .dataframe tbody tr th:only-of-type {\n",
              "        vertical-align: middle;\n",
              "    }\n",
              "\n",
              "    .dataframe tbody tr th {\n",
              "        vertical-align: top;\n",
              "    }\n",
              "\n",
              "    .dataframe thead th {\n",
              "        text-align: right;\n",
              "    }\n",
              "</style>\n",
              "<table border=\"1\" class=\"dataframe\">\n",
              "  <thead>\n",
              "    <tr style=\"text-align: right;\">\n",
              "      <th></th>\n",
              "      <th>Day of Month</th>\n",
              "      <th>Distance (km)</th>\n",
              "      <th>Temp</th>\n",
              "      <th>Precipitation (mm)</th>\n",
              "    </tr>\n",
              "  </thead>\n",
              "  <tbody>\n",
              "    <tr>\n",
              "      <th>0</th>\n",
              "      <td>0.866667</td>\n",
              "      <td>0.152174</td>\n",
              "      <td>0.531541</td>\n",
              "      <td>0.0</td>\n",
              "    </tr>\n",
              "    <tr>\n",
              "      <th>1</th>\n",
              "      <td>0.533333</td>\n",
              "      <td>0.086957</td>\n",
              "      <td>0.531541</td>\n",
              "      <td>0.0</td>\n",
              "    </tr>\n",
              "    <tr>\n",
              "      <th>2</th>\n",
              "      <td>0.866667</td>\n",
              "      <td>0.086957</td>\n",
              "      <td>0.507937</td>\n",
              "      <td>0.0</td>\n",
              "    </tr>\n",
              "    <tr>\n",
              "      <th>3</th>\n",
              "      <td>0.533333</td>\n",
              "      <td>0.086957</td>\n",
              "      <td>0.597884</td>\n",
              "      <td>0.0</td>\n",
              "    </tr>\n",
              "    <tr>\n",
              "      <th>4</th>\n",
              "      <td>0.333333</td>\n",
              "      <td>0.108696</td>\n",
              "      <td>0.592593</td>\n",
              "      <td>0.0</td>\n",
              "    </tr>\n",
              "  </tbody>\n",
              "</table>\n",
              "</div>"
            ],
            "text/plain": [
              "   Day of Month  Distance (km)      Temp  Precipitation (mm)\n",
              "0      0.866667       0.152174  0.531541                 0.0\n",
              "1      0.533333       0.086957  0.531541                 0.0\n",
              "2      0.866667       0.086957  0.507937                 0.0\n",
              "3      0.533333       0.086957  0.597884                 0.0\n",
              "4      0.333333       0.108696  0.592593                 0.0"
            ]
          },
          "metadata": {
            "tags": []
          },
          "execution_count": 636
        }
      ]
    },
    {
      "cell_type": "markdown",
      "metadata": {
        "id": "TM4MOCIWVDpg"
      },
      "source": [
        "## Creating y and x metrics ##"
      ]
    },
    {
      "cell_type": "code",
      "metadata": {
        "id": "E3xWVPgzVDph",
        "scrolled": true,
        "outputId": "a3ae911b-86e8-47a2-fbb5-5a3f893e8cee",
        "colab": {
          "base_uri": "https://localhost:8080/",
          "height": 229
        }
      },
      "source": [
        "# Below are the plot with X-Y metrics scaled. \n",
        "fig, axs = plt.subplots(2, 2, figsize=(9,7))\n",
        "\n",
        "axs[0,0].scatter(df_train['Day of Month'], df_train['Pickup to Arrival (s)'], color = 'black')\n",
        "axs[0,0].title.set_text('Day of Month vs. Pickup to Arrival (s)')\n",
        "\n",
        "axs[0,1].scatter(df_train['Distance (km)'], df_train['Pickup to Arrival (s)'], color = 'black')\n",
        "axs[0,1].title.set_text('Distance (km) vs. Pickup to Arrival (s)')\n",
        "\n",
        "axs[1,0].scatter(df_train['Temp'],df_train['Pickup to Arrival (s)'], color = 'black')\n",
        "axs[1,0].title.set_text('Temperature vs. Pickup to Arrival (s)')\n",
        "\n",
        "axs[1,1].scatter(df_train['Precipitation (mm)'], df_train['Pickup to Arrival (s)'], color = 'black')\n",
        "axs[1,1].title.set_text('Precipitation (mm) vs. Pickup to Arrival (s)')\n",
        "\n",
        "fig.tight_layout(pad=3.0)\n",
        "\n",
        "plt.show()\n",
        "\n",
        "# The Day of Month, Distance (km), Temp and precipitation represents the predictor, whereas, the Pickup \n",
        "# ... to Arrival is the response. "
      ],
      "execution_count": null,
      "outputs": [
        {
          "output_type": "display_data",
          "data": {
            "application/javascript": [
              "/* Put everything inside the global mpl namespace */\n",
              "window.mpl = {};\n",
              "\n",
              "\n",
              "mpl.get_websocket_type = function() {\n",
              "    if (typeof(WebSocket) !== 'undefined') {\n",
              "        return WebSocket;\n",
              "    } else if (typeof(MozWebSocket) !== 'undefined') {\n",
              "        return MozWebSocket;\n",
              "    } else {\n",
              "        alert('Your browser does not have WebSocket support. ' +\n",
              "              'Please try Chrome, Safari or Firefox ≥ 6. ' +\n",
              "              'Firefox 4 and 5 are also supported but you ' +\n",
              "              'have to enable WebSockets in about:config.');\n",
              "    };\n",
              "}\n",
              "\n",
              "mpl.figure = function(figure_id, websocket, ondownload, parent_element) {\n",
              "    this.id = figure_id;\n",
              "\n",
              "    this.ws = websocket;\n",
              "\n",
              "    this.supports_binary = (this.ws.binaryType != undefined);\n",
              "\n",
              "    if (!this.supports_binary) {\n",
              "        var warnings = document.getElementById(\"mpl-warnings\");\n",
              "        if (warnings) {\n",
              "            warnings.style.display = 'block';\n",
              "            warnings.textContent = (\n",
              "                \"This browser does not support binary websocket messages. \" +\n",
              "                    \"Performance may be slow.\");\n",
              "        }\n",
              "    }\n",
              "\n",
              "    this.imageObj = new Image();\n",
              "\n",
              "    this.context = undefined;\n",
              "    this.message = undefined;\n",
              "    this.canvas = undefined;\n",
              "    this.rubberband_canvas = undefined;\n",
              "    this.rubberband_context = undefined;\n",
              "    this.format_dropdown = undefined;\n",
              "\n",
              "    this.image_mode = 'full';\n",
              "\n",
              "    this.root = $('<div/>');\n",
              "    this._root_extra_style(this.root)\n",
              "    this.root.attr('style', 'display: inline-block');\n",
              "\n",
              "    $(parent_element).append(this.root);\n",
              "\n",
              "    this._init_header(this);\n",
              "    this._init_canvas(this);\n",
              "    this._init_toolbar(this);\n",
              "\n",
              "    var fig = this;\n",
              "\n",
              "    this.waiting = false;\n",
              "\n",
              "    this.ws.onopen =  function () {\n",
              "            fig.send_message(\"supports_binary\", {value: fig.supports_binary});\n",
              "            fig.send_message(\"send_image_mode\", {});\n",
              "            if (mpl.ratio != 1) {\n",
              "                fig.send_message(\"set_dpi_ratio\", {'dpi_ratio': mpl.ratio});\n",
              "            }\n",
              "            fig.send_message(\"refresh\", {});\n",
              "        }\n",
              "\n",
              "    this.imageObj.onload = function() {\n",
              "            if (fig.image_mode == 'full') {\n",
              "                // Full images could contain transparency (where diff images\n",
              "                // almost always do), so we need to clear the canvas so that\n",
              "                // there is no ghosting.\n",
              "                fig.context.clearRect(0, 0, fig.canvas.width, fig.canvas.height);\n",
              "            }\n",
              "            fig.context.drawImage(fig.imageObj, 0, 0);\n",
              "        };\n",
              "\n",
              "    this.imageObj.onunload = function() {\n",
              "        fig.ws.close();\n",
              "    }\n",
              "\n",
              "    this.ws.onmessage = this._make_on_message_function(this);\n",
              "\n",
              "    this.ondownload = ondownload;\n",
              "}\n",
              "\n",
              "mpl.figure.prototype._init_header = function() {\n",
              "    var titlebar = $(\n",
              "        '<div class=\"ui-dialog-titlebar ui-widget-header ui-corner-all ' +\n",
              "        'ui-helper-clearfix\"/>');\n",
              "    var titletext = $(\n",
              "        '<div class=\"ui-dialog-title\" style=\"width: 100%; ' +\n",
              "        'text-align: center; padding: 3px;\"/>');\n",
              "    titlebar.append(titletext)\n",
              "    this.root.append(titlebar);\n",
              "    this.header = titletext[0];\n",
              "}\n",
              "\n",
              "\n",
              "\n",
              "mpl.figure.prototype._canvas_extra_style = function(canvas_div) {\n",
              "\n",
              "}\n",
              "\n",
              "\n",
              "mpl.figure.prototype._root_extra_style = function(canvas_div) {\n",
              "\n",
              "}\n",
              "\n",
              "mpl.figure.prototype._init_canvas = function() {\n",
              "    var fig = this;\n",
              "\n",
              "    var canvas_div = $('<div/>');\n",
              "\n",
              "    canvas_div.attr('style', 'position: relative; clear: both; outline: 0');\n",
              "\n",
              "    function canvas_keyboard_event(event) {\n",
              "        return fig.key_event(event, event['data']);\n",
              "    }\n",
              "\n",
              "    canvas_div.keydown('key_press', canvas_keyboard_event);\n",
              "    canvas_div.keyup('key_release', canvas_keyboard_event);\n",
              "    this.canvas_div = canvas_div\n",
              "    this._canvas_extra_style(canvas_div)\n",
              "    this.root.append(canvas_div);\n",
              "\n",
              "    var canvas = $('<canvas/>');\n",
              "    canvas.addClass('mpl-canvas');\n",
              "    canvas.attr('style', \"left: 0; top: 0; z-index: 0; outline: 0\")\n",
              "\n",
              "    this.canvas = canvas[0];\n",
              "    this.context = canvas[0].getContext(\"2d\");\n",
              "\n",
              "    var backingStore = this.context.backingStorePixelRatio ||\n",
              "\tthis.context.webkitBackingStorePixelRatio ||\n",
              "\tthis.context.mozBackingStorePixelRatio ||\n",
              "\tthis.context.msBackingStorePixelRatio ||\n",
              "\tthis.context.oBackingStorePixelRatio ||\n",
              "\tthis.context.backingStorePixelRatio || 1;\n",
              "\n",
              "    mpl.ratio = (window.devicePixelRatio || 1) / backingStore;\n",
              "\n",
              "    var rubberband = $('<canvas/>');\n",
              "    rubberband.attr('style', \"position: absolute; left: 0; top: 0; z-index: 1;\")\n",
              "\n",
              "    var pass_mouse_events = true;\n",
              "\n",
              "    canvas_div.resizable({\n",
              "        start: function(event, ui) {\n",
              "            pass_mouse_events = false;\n",
              "        },\n",
              "        resize: function(event, ui) {\n",
              "            fig.request_resize(ui.size.width, ui.size.height);\n",
              "        },\n",
              "        stop: function(event, ui) {\n",
              "            pass_mouse_events = true;\n",
              "            fig.request_resize(ui.size.width, ui.size.height);\n",
              "        },\n",
              "    });\n",
              "\n",
              "    function mouse_event_fn(event) {\n",
              "        if (pass_mouse_events)\n",
              "            return fig.mouse_event(event, event['data']);\n",
              "    }\n",
              "\n",
              "    rubberband.mousedown('button_press', mouse_event_fn);\n",
              "    rubberband.mouseup('button_release', mouse_event_fn);\n",
              "    // Throttle sequential mouse events to 1 every 20ms.\n",
              "    rubberband.mousemove('motion_notify', mouse_event_fn);\n",
              "\n",
              "    rubberband.mouseenter('figure_enter', mouse_event_fn);\n",
              "    rubberband.mouseleave('figure_leave', mouse_event_fn);\n",
              "\n",
              "    canvas_div.on(\"wheel\", function (event) {\n",
              "        event = event.originalEvent;\n",
              "        event['data'] = 'scroll'\n",
              "        if (event.deltaY < 0) {\n",
              "            event.step = 1;\n",
              "        } else {\n",
              "            event.step = -1;\n",
              "        }\n",
              "        mouse_event_fn(event);\n",
              "    });\n",
              "\n",
              "    canvas_div.append(canvas);\n",
              "    canvas_div.append(rubberband);\n",
              "\n",
              "    this.rubberband = rubberband;\n",
              "    this.rubberband_canvas = rubberband[0];\n",
              "    this.rubberband_context = rubberband[0].getContext(\"2d\");\n",
              "    this.rubberband_context.strokeStyle = \"#000000\";\n",
              "\n",
              "    this._resize_canvas = function(width, height) {\n",
              "        // Keep the size of the canvas, canvas container, and rubber band\n",
              "        // canvas in synch.\n",
              "        canvas_div.css('width', width)\n",
              "        canvas_div.css('height', height)\n",
              "\n",
              "        canvas.attr('width', width * mpl.ratio);\n",
              "        canvas.attr('height', height * mpl.ratio);\n",
              "        canvas.attr('style', 'width: ' + width + 'px; height: ' + height + 'px;');\n",
              "\n",
              "        rubberband.attr('width', width);\n",
              "        rubberband.attr('height', height);\n",
              "    }\n",
              "\n",
              "    // Set the figure to an initial 600x600px, this will subsequently be updated\n",
              "    // upon first draw.\n",
              "    this._resize_canvas(600, 600);\n",
              "\n",
              "    // Disable right mouse context menu.\n",
              "    $(this.rubberband_canvas).bind(\"contextmenu\",function(e){\n",
              "        return false;\n",
              "    });\n",
              "\n",
              "    function set_focus () {\n",
              "        canvas.focus();\n",
              "        canvas_div.focus();\n",
              "    }\n",
              "\n",
              "    window.setTimeout(set_focus, 100);\n",
              "}\n",
              "\n",
              "mpl.figure.prototype._init_toolbar = function() {\n",
              "    var fig = this;\n",
              "\n",
              "    var nav_element = $('<div/>');\n",
              "    nav_element.attr('style', 'width: 100%');\n",
              "    this.root.append(nav_element);\n",
              "\n",
              "    // Define a callback function for later on.\n",
              "    function toolbar_event(event) {\n",
              "        return fig.toolbar_button_onclick(event['data']);\n",
              "    }\n",
              "    function toolbar_mouse_event(event) {\n",
              "        return fig.toolbar_button_onmouseover(event['data']);\n",
              "    }\n",
              "\n",
              "    for(var toolbar_ind in mpl.toolbar_items) {\n",
              "        var name = mpl.toolbar_items[toolbar_ind][0];\n",
              "        var tooltip = mpl.toolbar_items[toolbar_ind][1];\n",
              "        var image = mpl.toolbar_items[toolbar_ind][2];\n",
              "        var method_name = mpl.toolbar_items[toolbar_ind][3];\n",
              "\n",
              "        if (!name) {\n",
              "            // put a spacer in here.\n",
              "            continue;\n",
              "        }\n",
              "        var button = $('<button/>');\n",
              "        button.addClass('ui-button ui-widget ui-state-default ui-corner-all ' +\n",
              "                        'ui-button-icon-only');\n",
              "        button.attr('role', 'button');\n",
              "        button.attr('aria-disabled', 'false');\n",
              "        button.click(method_name, toolbar_event);\n",
              "        button.mouseover(tooltip, toolbar_mouse_event);\n",
              "\n",
              "        var icon_img = $('<span/>');\n",
              "        icon_img.addClass('ui-button-icon-primary ui-icon');\n",
              "        icon_img.addClass(image);\n",
              "        icon_img.addClass('ui-corner-all');\n",
              "\n",
              "        var tooltip_span = $('<span/>');\n",
              "        tooltip_span.addClass('ui-button-text');\n",
              "        tooltip_span.html(tooltip);\n",
              "\n",
              "        button.append(icon_img);\n",
              "        button.append(tooltip_span);\n",
              "\n",
              "        nav_element.append(button);\n",
              "    }\n",
              "\n",
              "    var fmt_picker_span = $('<span/>');\n",
              "\n",
              "    var fmt_picker = $('<select/>');\n",
              "    fmt_picker.addClass('mpl-toolbar-option ui-widget ui-widget-content');\n",
              "    fmt_picker_span.append(fmt_picker);\n",
              "    nav_element.append(fmt_picker_span);\n",
              "    this.format_dropdown = fmt_picker[0];\n",
              "\n",
              "    for (var ind in mpl.extensions) {\n",
              "        var fmt = mpl.extensions[ind];\n",
              "        var option = $(\n",
              "            '<option/>', {selected: fmt === mpl.default_extension}).html(fmt);\n",
              "        fmt_picker.append(option);\n",
              "    }\n",
              "\n",
              "    // Add hover states to the ui-buttons\n",
              "    $( \".ui-button\" ).hover(\n",
              "        function() { $(this).addClass(\"ui-state-hover\");},\n",
              "        function() { $(this).removeClass(\"ui-state-hover\");}\n",
              "    );\n",
              "\n",
              "    var status_bar = $('<span class=\"mpl-message\"/>');\n",
              "    nav_element.append(status_bar);\n",
              "    this.message = status_bar[0];\n",
              "}\n",
              "\n",
              "mpl.figure.prototype.request_resize = function(x_pixels, y_pixels) {\n",
              "    // Request matplotlib to resize the figure. Matplotlib will then trigger a resize in the client,\n",
              "    // which will in turn request a refresh of the image.\n",
              "    this.send_message('resize', {'width': x_pixels, 'height': y_pixels});\n",
              "}\n",
              "\n",
              "mpl.figure.prototype.send_message = function(type, properties) {\n",
              "    properties['type'] = type;\n",
              "    properties['figure_id'] = this.id;\n",
              "    this.ws.send(JSON.stringify(properties));\n",
              "}\n",
              "\n",
              "mpl.figure.prototype.send_draw_message = function() {\n",
              "    if (!this.waiting) {\n",
              "        this.waiting = true;\n",
              "        this.ws.send(JSON.stringify({type: \"draw\", figure_id: this.id}));\n",
              "    }\n",
              "}\n",
              "\n",
              "\n",
              "mpl.figure.prototype.handle_save = function(fig, msg) {\n",
              "    var format_dropdown = fig.format_dropdown;\n",
              "    var format = format_dropdown.options[format_dropdown.selectedIndex].value;\n",
              "    fig.ondownload(fig, format);\n",
              "}\n",
              "\n",
              "\n",
              "mpl.figure.prototype.handle_resize = function(fig, msg) {\n",
              "    var size = msg['size'];\n",
              "    if (size[0] != fig.canvas.width || size[1] != fig.canvas.height) {\n",
              "        fig._resize_canvas(size[0], size[1]);\n",
              "        fig.send_message(\"refresh\", {});\n",
              "    };\n",
              "}\n",
              "\n",
              "mpl.figure.prototype.handle_rubberband = function(fig, msg) {\n",
              "    var x0 = msg['x0'] / mpl.ratio;\n",
              "    var y0 = (fig.canvas.height - msg['y0']) / mpl.ratio;\n",
              "    var x1 = msg['x1'] / mpl.ratio;\n",
              "    var y1 = (fig.canvas.height - msg['y1']) / mpl.ratio;\n",
              "    x0 = Math.floor(x0) + 0.5;\n",
              "    y0 = Math.floor(y0) + 0.5;\n",
              "    x1 = Math.floor(x1) + 0.5;\n",
              "    y1 = Math.floor(y1) + 0.5;\n",
              "    var min_x = Math.min(x0, x1);\n",
              "    var min_y = Math.min(y0, y1);\n",
              "    var width = Math.abs(x1 - x0);\n",
              "    var height = Math.abs(y1 - y0);\n",
              "\n",
              "    fig.rubberband_context.clearRect(\n",
              "        0, 0, fig.canvas.width / mpl.ratio, fig.canvas.height / mpl.ratio);\n",
              "\n",
              "    fig.rubberband_context.strokeRect(min_x, min_y, width, height);\n",
              "}\n",
              "\n",
              "mpl.figure.prototype.handle_figure_label = function(fig, msg) {\n",
              "    // Updates the figure title.\n",
              "    fig.header.textContent = msg['label'];\n",
              "}\n",
              "\n",
              "mpl.figure.prototype.handle_cursor = function(fig, msg) {\n",
              "    var cursor = msg['cursor'];\n",
              "    switch(cursor)\n",
              "    {\n",
              "    case 0:\n",
              "        cursor = 'pointer';\n",
              "        break;\n",
              "    case 1:\n",
              "        cursor = 'default';\n",
              "        break;\n",
              "    case 2:\n",
              "        cursor = 'crosshair';\n",
              "        break;\n",
              "    case 3:\n",
              "        cursor = 'move';\n",
              "        break;\n",
              "    }\n",
              "    fig.rubberband_canvas.style.cursor = cursor;\n",
              "}\n",
              "\n",
              "mpl.figure.prototype.handle_message = function(fig, msg) {\n",
              "    fig.message.textContent = msg['message'];\n",
              "}\n",
              "\n",
              "mpl.figure.prototype.handle_draw = function(fig, msg) {\n",
              "    // Request the server to send over a new figure.\n",
              "    fig.send_draw_message();\n",
              "}\n",
              "\n",
              "mpl.figure.prototype.handle_image_mode = function(fig, msg) {\n",
              "    fig.image_mode = msg['mode'];\n",
              "}\n",
              "\n",
              "mpl.figure.prototype.updated_canvas_event = function() {\n",
              "    // Called whenever the canvas gets updated.\n",
              "    this.send_message(\"ack\", {});\n",
              "}\n",
              "\n",
              "// A function to construct a web socket function for onmessage handling.\n",
              "// Called in the figure constructor.\n",
              "mpl.figure.prototype._make_on_message_function = function(fig) {\n",
              "    return function socket_on_message(evt) {\n",
              "        if (evt.data instanceof Blob) {\n",
              "            /* FIXME: We get \"Resource interpreted as Image but\n",
              "             * transferred with MIME type text/plain:\" errors on\n",
              "             * Chrome.  But how to set the MIME type?  It doesn't seem\n",
              "             * to be part of the websocket stream */\n",
              "            evt.data.type = \"image/png\";\n",
              "\n",
              "            /* Free the memory for the previous frames */\n",
              "            if (fig.imageObj.src) {\n",
              "                (window.URL || window.webkitURL).revokeObjectURL(\n",
              "                    fig.imageObj.src);\n",
              "            }\n",
              "\n",
              "            fig.imageObj.src = (window.URL || window.webkitURL).createObjectURL(\n",
              "                evt.data);\n",
              "            fig.updated_canvas_event();\n",
              "            fig.waiting = false;\n",
              "            return;\n",
              "        }\n",
              "        else if (typeof evt.data === 'string' && evt.data.slice(0, 21) == \"data:image/png;base64\") {\n",
              "            fig.imageObj.src = evt.data;\n",
              "            fig.updated_canvas_event();\n",
              "            fig.waiting = false;\n",
              "            return;\n",
              "        }\n",
              "\n",
              "        var msg = JSON.parse(evt.data);\n",
              "        var msg_type = msg['type'];\n",
              "\n",
              "        // Call the  \"handle_{type}\" callback, which takes\n",
              "        // the figure and JSON message as its only arguments.\n",
              "        try {\n",
              "            var callback = fig[\"handle_\" + msg_type];\n",
              "        } catch (e) {\n",
              "            console.log(\"No handler for the '\" + msg_type + \"' message type: \", msg);\n",
              "            return;\n",
              "        }\n",
              "\n",
              "        if (callback) {\n",
              "            try {\n",
              "                // console.log(\"Handling '\" + msg_type + \"' message: \", msg);\n",
              "                callback(fig, msg);\n",
              "            } catch (e) {\n",
              "                console.log(\"Exception inside the 'handler_\" + msg_type + \"' callback:\", e, e.stack, msg);\n",
              "            }\n",
              "        }\n",
              "    };\n",
              "}\n",
              "\n",
              "// from http://stackoverflow.com/questions/1114465/getting-mouse-location-in-canvas\n",
              "mpl.findpos = function(e) {\n",
              "    //this section is from http://www.quirksmode.org/js/events_properties.html\n",
              "    var targ;\n",
              "    if (!e)\n",
              "        e = window.event;\n",
              "    if (e.target)\n",
              "        targ = e.target;\n",
              "    else if (e.srcElement)\n",
              "        targ = e.srcElement;\n",
              "    if (targ.nodeType == 3) // defeat Safari bug\n",
              "        targ = targ.parentNode;\n",
              "\n",
              "    // jQuery normalizes the pageX and pageY\n",
              "    // pageX,Y are the mouse positions relative to the document\n",
              "    // offset() returns the position of the element relative to the document\n",
              "    var x = e.pageX - $(targ).offset().left;\n",
              "    var y = e.pageY - $(targ).offset().top;\n",
              "\n",
              "    return {\"x\": x, \"y\": y};\n",
              "};\n",
              "\n",
              "/*\n",
              " * return a copy of an object with only non-object keys\n",
              " * we need this to avoid circular references\n",
              " * http://stackoverflow.com/a/24161582/3208463\n",
              " */\n",
              "function simpleKeys (original) {\n",
              "  return Object.keys(original).reduce(function (obj, key) {\n",
              "    if (typeof original[key] !== 'object')\n",
              "        obj[key] = original[key]\n",
              "    return obj;\n",
              "  }, {});\n",
              "}\n",
              "\n",
              "mpl.figure.prototype.mouse_event = function(event, name) {\n",
              "    var canvas_pos = mpl.findpos(event)\n",
              "\n",
              "    if (name === 'button_press')\n",
              "    {\n",
              "        this.canvas.focus();\n",
              "        this.canvas_div.focus();\n",
              "    }\n",
              "\n",
              "    var x = canvas_pos.x * mpl.ratio;\n",
              "    var y = canvas_pos.y * mpl.ratio;\n",
              "\n",
              "    this.send_message(name, {x: x, y: y, button: event.button,\n",
              "                             step: event.step,\n",
              "                             guiEvent: simpleKeys(event)});\n",
              "\n",
              "    /* This prevents the web browser from automatically changing to\n",
              "     * the text insertion cursor when the button is pressed.  We want\n",
              "     * to control all of the cursor setting manually through the\n",
              "     * 'cursor' event from matplotlib */\n",
              "    event.preventDefault();\n",
              "    return false;\n",
              "}\n",
              "\n",
              "mpl.figure.prototype._key_event_extra = function(event, name) {\n",
              "    // Handle any extra behaviour associated with a key event\n",
              "}\n",
              "\n",
              "mpl.figure.prototype.key_event = function(event, name) {\n",
              "\n",
              "    // Prevent repeat events\n",
              "    if (name == 'key_press')\n",
              "    {\n",
              "        if (event.which === this._key)\n",
              "            return;\n",
              "        else\n",
              "            this._key = event.which;\n",
              "    }\n",
              "    if (name == 'key_release')\n",
              "        this._key = null;\n",
              "\n",
              "    var value = '';\n",
              "    if (event.ctrlKey && event.which != 17)\n",
              "        value += \"ctrl+\";\n",
              "    if (event.altKey && event.which != 18)\n",
              "        value += \"alt+\";\n",
              "    if (event.shiftKey && event.which != 16)\n",
              "        value += \"shift+\";\n",
              "\n",
              "    value += 'k';\n",
              "    value += event.which.toString();\n",
              "\n",
              "    this._key_event_extra(event, name);\n",
              "\n",
              "    this.send_message(name, {key: value,\n",
              "                             guiEvent: simpleKeys(event)});\n",
              "    return false;\n",
              "}\n",
              "\n",
              "mpl.figure.prototype.toolbar_button_onclick = function(name) {\n",
              "    if (name == 'download') {\n",
              "        this.handle_save(this, null);\n",
              "    } else {\n",
              "        this.send_message(\"toolbar_button\", {name: name});\n",
              "    }\n",
              "};\n",
              "\n",
              "mpl.figure.prototype.toolbar_button_onmouseover = function(tooltip) {\n",
              "    this.message.textContent = tooltip;\n",
              "};\n",
              "mpl.toolbar_items = [[\"Home\", \"Reset original view\", \"fa fa-home icon-home\", \"home\"], [\"Back\", \"Back to previous view\", \"fa fa-arrow-left icon-arrow-left\", \"back\"], [\"Forward\", \"Forward to next view\", \"fa fa-arrow-right icon-arrow-right\", \"forward\"], [\"\", \"\", \"\", \"\"], [\"Pan\", \"Pan axes with left mouse, zoom with right\", \"fa fa-arrows icon-move\", \"pan\"], [\"Zoom\", \"Zoom to rectangle\", \"fa fa-square-o icon-check-empty\", \"zoom\"], [\"\", \"\", \"\", \"\"], [\"Download\", \"Download plot\", \"fa fa-floppy-o icon-save\", \"download\"]];\n",
              "\n",
              "mpl.extensions = [\"eps\", \"jpeg\", \"pdf\", \"png\", \"ps\", \"raw\", \"svg\", \"tif\"];\n",
              "\n",
              "mpl.default_extension = \"png\";var comm_websocket_adapter = function(comm) {\n",
              "    // Create a \"websocket\"-like object which calls the given IPython comm\n",
              "    // object with the appropriate methods. Currently this is a non binary\n",
              "    // socket, so there is still some room for performance tuning.\n",
              "    var ws = {};\n",
              "\n",
              "    ws.close = function() {\n",
              "        comm.close()\n",
              "    };\n",
              "    ws.send = function(m) {\n",
              "        //console.log('sending', m);\n",
              "        comm.send(m);\n",
              "    };\n",
              "    // Register the callback with on_msg.\n",
              "    comm.on_msg(function(msg) {\n",
              "        //console.log('receiving', msg['content']['data'], msg);\n",
              "        // Pass the mpl event to the overridden (by mpl) onmessage function.\n",
              "        ws.onmessage(msg['content']['data'])\n",
              "    });\n",
              "    return ws;\n",
              "}\n",
              "\n",
              "mpl.mpl_figure_comm = function(comm, msg) {\n",
              "    // This is the function which gets called when the mpl process\n",
              "    // starts-up an IPython Comm through the \"matplotlib\" channel.\n",
              "\n",
              "    var id = msg.content.data.id;\n",
              "    // Get hold of the div created by the display call when the Comm\n",
              "    // socket was opened in Python.\n",
              "    var element = $(\"#\" + id);\n",
              "    var ws_proxy = comm_websocket_adapter(comm)\n",
              "\n",
              "    function ondownload(figure, format) {\n",
              "        window.open(figure.imageObj.src);\n",
              "    }\n",
              "\n",
              "    var fig = new mpl.figure(id, ws_proxy,\n",
              "                           ondownload,\n",
              "                           element.get(0));\n",
              "\n",
              "    // Call onopen now - mpl needs it, as it is assuming we've passed it a real\n",
              "    // web socket which is closed, not our websocket->open comm proxy.\n",
              "    ws_proxy.onopen();\n",
              "\n",
              "    fig.parent_element = element.get(0);\n",
              "    fig.cell_info = mpl.find_output_cell(\"<div id='\" + id + \"'></div>\");\n",
              "    if (!fig.cell_info) {\n",
              "        console.error(\"Failed to find cell for figure\", id, fig);\n",
              "        return;\n",
              "    }\n",
              "\n",
              "    var output_index = fig.cell_info[2]\n",
              "    var cell = fig.cell_info[0];\n",
              "\n",
              "};\n",
              "\n",
              "mpl.figure.prototype.handle_close = function(fig, msg) {\n",
              "    var width = fig.canvas.width/mpl.ratio\n",
              "    fig.root.unbind('remove')\n",
              "\n",
              "    // Update the output cell to use the data from the current canvas.\n",
              "    fig.push_to_output();\n",
              "    var dataURL = fig.canvas.toDataURL();\n",
              "    // Re-enable the keyboard manager in IPython - without this line, in FF,\n",
              "    // the notebook keyboard shortcuts fail.\n",
              "    IPython.keyboard_manager.enable()\n",
              "    $(fig.parent_element).html('<img src=\"' + dataURL + '\" width=\"' + width + '\">');\n",
              "    fig.close_ws(fig, msg);\n",
              "}\n",
              "\n",
              "mpl.figure.prototype.close_ws = function(fig, msg){\n",
              "    fig.send_message('closing', msg);\n",
              "    // fig.ws.close()\n",
              "}\n",
              "\n",
              "mpl.figure.prototype.push_to_output = function(remove_interactive) {\n",
              "    // Turn the data on the canvas into data in the output cell.\n",
              "    var width = this.canvas.width/mpl.ratio\n",
              "    var dataURL = this.canvas.toDataURL();\n",
              "    this.cell_info[1]['text/html'] = '<img src=\"' + dataURL + '\" width=\"' + width + '\">';\n",
              "}\n",
              "\n",
              "mpl.figure.prototype.updated_canvas_event = function() {\n",
              "    // Tell IPython that the notebook contents must change.\n",
              "    IPython.notebook.set_dirty(true);\n",
              "    this.send_message(\"ack\", {});\n",
              "    var fig = this;\n",
              "    // Wait a second, then push the new image to the DOM so\n",
              "    // that it is saved nicely (might be nice to debounce this).\n",
              "    setTimeout(function () { fig.push_to_output() }, 1000);\n",
              "}\n",
              "\n",
              "mpl.figure.prototype._init_toolbar = function() {\n",
              "    var fig = this;\n",
              "\n",
              "    var nav_element = $('<div/>');\n",
              "    nav_element.attr('style', 'width: 100%');\n",
              "    this.root.append(nav_element);\n",
              "\n",
              "    // Define a callback function for later on.\n",
              "    function toolbar_event(event) {\n",
              "        return fig.toolbar_button_onclick(event['data']);\n",
              "    }\n",
              "    function toolbar_mouse_event(event) {\n",
              "        return fig.toolbar_button_onmouseover(event['data']);\n",
              "    }\n",
              "\n",
              "    for(var toolbar_ind in mpl.toolbar_items){\n",
              "        var name = mpl.toolbar_items[toolbar_ind][0];\n",
              "        var tooltip = mpl.toolbar_items[toolbar_ind][1];\n",
              "        var image = mpl.toolbar_items[toolbar_ind][2];\n",
              "        var method_name = mpl.toolbar_items[toolbar_ind][3];\n",
              "\n",
              "        if (!name) { continue; };\n",
              "\n",
              "        var button = $('<button class=\"btn btn-default\" href=\"#\" title=\"' + name + '\"><i class=\"fa ' + image + ' fa-lg\"></i></button>');\n",
              "        button.click(method_name, toolbar_event);\n",
              "        button.mouseover(tooltip, toolbar_mouse_event);\n",
              "        nav_element.append(button);\n",
              "    }\n",
              "\n",
              "    // Add the status bar.\n",
              "    var status_bar = $('<span class=\"mpl-message\" style=\"text-align:right; float: right;\"/>');\n",
              "    nav_element.append(status_bar);\n",
              "    this.message = status_bar[0];\n",
              "\n",
              "    // Add the close button to the window.\n",
              "    var buttongrp = $('<div class=\"btn-group inline pull-right\"></div>');\n",
              "    var button = $('<button class=\"btn btn-mini btn-primary\" href=\"#\" title=\"Stop Interaction\"><i class=\"fa fa-power-off icon-remove icon-large\"></i></button>');\n",
              "    button.click(function (evt) { fig.handle_close(fig, {}); } );\n",
              "    button.mouseover('Stop Interaction', toolbar_mouse_event);\n",
              "    buttongrp.append(button);\n",
              "    var titlebar = this.root.find($('.ui-dialog-titlebar'));\n",
              "    titlebar.prepend(buttongrp);\n",
              "}\n",
              "\n",
              "mpl.figure.prototype._root_extra_style = function(el){\n",
              "    var fig = this\n",
              "    el.on(\"remove\", function(){\n",
              "\tfig.close_ws(fig, {});\n",
              "    });\n",
              "}\n",
              "\n",
              "mpl.figure.prototype._canvas_extra_style = function(el){\n",
              "    // this is important to make the div 'focusable\n",
              "    el.attr('tabindex', 0)\n",
              "    // reach out to IPython and tell the keyboard manager to turn it's self\n",
              "    // off when our div gets focus\n",
              "\n",
              "    // location in version 3\n",
              "    if (IPython.notebook.keyboard_manager) {\n",
              "        IPython.notebook.keyboard_manager.register_events(el);\n",
              "    }\n",
              "    else {\n",
              "        // location in version 2\n",
              "        IPython.keyboard_manager.register_events(el);\n",
              "    }\n",
              "\n",
              "}\n",
              "\n",
              "mpl.figure.prototype._key_event_extra = function(event, name) {\n",
              "    var manager = IPython.notebook.keyboard_manager;\n",
              "    if (!manager)\n",
              "        manager = IPython.keyboard_manager;\n",
              "\n",
              "    // Check for shift+enter\n",
              "    if (event.shiftKey && event.which == 13) {\n",
              "        this.canvas_div.blur();\n",
              "        // select the cell after this one\n",
              "        var index = IPython.notebook.find_cell_index(this.cell_info[0]);\n",
              "        IPython.notebook.select(index + 1);\n",
              "    }\n",
              "}\n",
              "\n",
              "mpl.figure.prototype.handle_save = function(fig, msg) {\n",
              "    fig.ondownload(fig, null);\n",
              "}\n",
              "\n",
              "\n",
              "mpl.find_output_cell = function(html_output) {\n",
              "    // Return the cell and output element which can be found *uniquely* in the notebook.\n",
              "    // Note - this is a bit hacky, but it is done because the \"notebook_saving.Notebook\"\n",
              "    // IPython event is triggered only after the cells have been serialised, which for\n",
              "    // our purposes (turning an active figure into a static one), is too late.\n",
              "    var cells = IPython.notebook.get_cells();\n",
              "    var ncells = cells.length;\n",
              "    for (var i=0; i<ncells; i++) {\n",
              "        var cell = cells[i];\n",
              "        if (cell.cell_type === 'code'){\n",
              "            for (var j=0; j<cell.output_area.outputs.length; j++) {\n",
              "                var data = cell.output_area.outputs[j];\n",
              "                if (data.data) {\n",
              "                    // IPython >= 3 moved mimebundle to data attribute of output\n",
              "                    data = data.data;\n",
              "                }\n",
              "                if (data['text/html'] == html_output) {\n",
              "                    return [cell, data, j];\n",
              "                }\n",
              "            }\n",
              "        }\n",
              "    }\n",
              "}\n",
              "\n",
              "// Register the function which deals with the matplotlib target/channel.\n",
              "// The kernel may be null if the page has been refreshed.\n",
              "if (IPython.notebook.kernel != null) {\n",
              "    IPython.notebook.kernel.comm_manager.register_target('matplotlib', mpl.mpl_figure_comm);\n",
              "}\n"
            ],
            "text/plain": [
              "<IPython.core.display.Javascript object>"
            ]
          },
          "metadata": {
            "tags": []
          }
        },
        {
          "output_type": "display_data",
          "data": {
            "text/html": [
              "<div id='bdbf041e-c9ba-497b-93dc-b06c4cefb84f'></div>"
            ],
            "text/plain": [
              "<IPython.core.display.HTML object>"
            ]
          },
          "metadata": {
            "tags": []
          }
        },
        {
          "output_type": "error",
          "ename": "NameError",
          "evalue": "ignored",
          "traceback": [
            "\u001b[0;31m---------------------------------------------------------------------------\u001b[0m",
            "\u001b[0;31mNameError\u001b[0m                                 Traceback (most recent call last)",
            "\u001b[0;32m<ipython-input-440-c077803aa230>\u001b[0m in \u001b[0;36m<module>\u001b[0;34m()\u001b[0m\n\u001b[1;32m      2\u001b[0m \u001b[0mfig\u001b[0m\u001b[0;34m,\u001b[0m \u001b[0maxs\u001b[0m \u001b[0;34m=\u001b[0m \u001b[0mplt\u001b[0m\u001b[0;34m.\u001b[0m\u001b[0msubplots\u001b[0m\u001b[0;34m(\u001b[0m\u001b[0;36m2\u001b[0m\u001b[0;34m,\u001b[0m \u001b[0;36m2\u001b[0m\u001b[0;34m,\u001b[0m \u001b[0mfigsize\u001b[0m\u001b[0;34m=\u001b[0m\u001b[0;34m(\u001b[0m\u001b[0;36m9\u001b[0m\u001b[0;34m,\u001b[0m\u001b[0;36m7\u001b[0m\u001b[0;34m)\u001b[0m\u001b[0;34m)\u001b[0m\u001b[0;34m\u001b[0m\u001b[0;34m\u001b[0m\u001b[0m\n\u001b[1;32m      3\u001b[0m \u001b[0;34m\u001b[0m\u001b[0m\n\u001b[0;32m----> 4\u001b[0;31m \u001b[0maxs\u001b[0m\u001b[0;34m[\u001b[0m\u001b[0;36m0\u001b[0m\u001b[0;34m,\u001b[0m\u001b[0;36m0\u001b[0m\u001b[0;34m]\u001b[0m\u001b[0;34m.\u001b[0m\u001b[0mscatter\u001b[0m\u001b[0;34m(\u001b[0m\u001b[0mdf_train\u001b[0m\u001b[0;34m[\u001b[0m\u001b[0;34m'Day of Month'\u001b[0m\u001b[0;34m]\u001b[0m\u001b[0;34m,\u001b[0m \u001b[0mdf_train\u001b[0m\u001b[0;34m[\u001b[0m\u001b[0;34m'Pickup to Arrival (s)'\u001b[0m\u001b[0;34m]\u001b[0m\u001b[0;34m,\u001b[0m \u001b[0mcolor\u001b[0m \u001b[0;34m=\u001b[0m \u001b[0;34m'black'\u001b[0m\u001b[0;34m)\u001b[0m\u001b[0;34m\u001b[0m\u001b[0;34m\u001b[0m\u001b[0m\n\u001b[0m\u001b[1;32m      5\u001b[0m \u001b[0maxs\u001b[0m\u001b[0;34m[\u001b[0m\u001b[0;36m0\u001b[0m\u001b[0;34m,\u001b[0m\u001b[0;36m0\u001b[0m\u001b[0;34m]\u001b[0m\u001b[0;34m.\u001b[0m\u001b[0mtitle\u001b[0m\u001b[0;34m.\u001b[0m\u001b[0mset_text\u001b[0m\u001b[0;34m(\u001b[0m\u001b[0;34m'Day of Month vs. Pickup to Arrival (s)'\u001b[0m\u001b[0;34m)\u001b[0m\u001b[0;34m\u001b[0m\u001b[0;34m\u001b[0m\u001b[0m\n\u001b[1;32m      6\u001b[0m \u001b[0;34m\u001b[0m\u001b[0m\n",
            "\u001b[0;31mNameError\u001b[0m: name 'df_train' is not defined"
          ]
        }
      ]
    },
    {
      "cell_type": "code",
      "metadata": {
        "id": "WtsF977xVDpn",
        "scrolled": true,
        "outputId": "43b0138a-0a0d-4cd8-d43f-fb3ee7b68258"
      },
      "source": [
        "# These are the plots with with only the independent variables are scaled. \n",
        "fig, axs = plt.subplots(2, 2, figsize=(9,7))\n",
        "\n",
        "axs[0,0].scatter(df_train['Day of Month'], train['Time from Pickup to Arrival'])\n",
        "axs[0,0].title.set_text('Day of Month vs. Pickup to Arrival (s)')\n",
        "\n",
        "axs[0,1].scatter(df_train['Distance (km)'], train['Time from Pickup to Arrival'])\n",
        "axs[0,1].title.set_text('Distance (km) vs. Pickup to Arrival (s)')\n",
        "\n",
        "axs[1,0].scatter(df_train['Temp'], train['Time from Pickup to Arrival'])\n",
        "axs[1,0].title.set_text('Temperature vs. Pickup to Arrival (s)')\n",
        "\n",
        "axs[1,1].scatter(df_train['Precipitation (mm)'], train['Time from Pickup to Arrival'])\n",
        "axs[1,1].title.set_text('Precipitation (mm) vs. Pickup to Arrival (s)')\n",
        "\n",
        "fig.tight_layout(pad=3.0)\n",
        "\n",
        "plt.show()\n",
        "\n",
        "# The Day of Month, Distance (km), Temp and precipitation represents the predictor, whereas, the Pickup \n",
        "# ... to Arrival is the response (not scaled)."
      ],
      "execution_count": null,
      "outputs": [
        {
          "output_type": "display_data",
          "data": {
            "application/javascript": [
              "/* Put everything inside the global mpl namespace */\n",
              "window.mpl = {};\n",
              "\n",
              "\n",
              "mpl.get_websocket_type = function() {\n",
              "    if (typeof(WebSocket) !== 'undefined') {\n",
              "        return WebSocket;\n",
              "    } else if (typeof(MozWebSocket) !== 'undefined') {\n",
              "        return MozWebSocket;\n",
              "    } else {\n",
              "        alert('Your browser does not have WebSocket support. ' +\n",
              "              'Please try Chrome, Safari or Firefox ≥ 6. ' +\n",
              "              'Firefox 4 and 5 are also supported but you ' +\n",
              "              'have to enable WebSockets in about:config.');\n",
              "    };\n",
              "}\n",
              "\n",
              "mpl.figure = function(figure_id, websocket, ondownload, parent_element) {\n",
              "    this.id = figure_id;\n",
              "\n",
              "    this.ws = websocket;\n",
              "\n",
              "    this.supports_binary = (this.ws.binaryType != undefined);\n",
              "\n",
              "    if (!this.supports_binary) {\n",
              "        var warnings = document.getElementById(\"mpl-warnings\");\n",
              "        if (warnings) {\n",
              "            warnings.style.display = 'block';\n",
              "            warnings.textContent = (\n",
              "                \"This browser does not support binary websocket messages. \" +\n",
              "                    \"Performance may be slow.\");\n",
              "        }\n",
              "    }\n",
              "\n",
              "    this.imageObj = new Image();\n",
              "\n",
              "    this.context = undefined;\n",
              "    this.message = undefined;\n",
              "    this.canvas = undefined;\n",
              "    this.rubberband_canvas = undefined;\n",
              "    this.rubberband_context = undefined;\n",
              "    this.format_dropdown = undefined;\n",
              "\n",
              "    this.image_mode = 'full';\n",
              "\n",
              "    this.root = $('<div/>');\n",
              "    this._root_extra_style(this.root)\n",
              "    this.root.attr('style', 'display: inline-block');\n",
              "\n",
              "    $(parent_element).append(this.root);\n",
              "\n",
              "    this._init_header(this);\n",
              "    this._init_canvas(this);\n",
              "    this._init_toolbar(this);\n",
              "\n",
              "    var fig = this;\n",
              "\n",
              "    this.waiting = false;\n",
              "\n",
              "    this.ws.onopen =  function () {\n",
              "            fig.send_message(\"supports_binary\", {value: fig.supports_binary});\n",
              "            fig.send_message(\"send_image_mode\", {});\n",
              "            if (mpl.ratio != 1) {\n",
              "                fig.send_message(\"set_dpi_ratio\", {'dpi_ratio': mpl.ratio});\n",
              "            }\n",
              "            fig.send_message(\"refresh\", {});\n",
              "        }\n",
              "\n",
              "    this.imageObj.onload = function() {\n",
              "            if (fig.image_mode == 'full') {\n",
              "                // Full images could contain transparency (where diff images\n",
              "                // almost always do), so we need to clear the canvas so that\n",
              "                // there is no ghosting.\n",
              "                fig.context.clearRect(0, 0, fig.canvas.width, fig.canvas.height);\n",
              "            }\n",
              "            fig.context.drawImage(fig.imageObj, 0, 0);\n",
              "        };\n",
              "\n",
              "    this.imageObj.onunload = function() {\n",
              "        fig.ws.close();\n",
              "    }\n",
              "\n",
              "    this.ws.onmessage = this._make_on_message_function(this);\n",
              "\n",
              "    this.ondownload = ondownload;\n",
              "}\n",
              "\n",
              "mpl.figure.prototype._init_header = function() {\n",
              "    var titlebar = $(\n",
              "        '<div class=\"ui-dialog-titlebar ui-widget-header ui-corner-all ' +\n",
              "        'ui-helper-clearfix\"/>');\n",
              "    var titletext = $(\n",
              "        '<div class=\"ui-dialog-title\" style=\"width: 100%; ' +\n",
              "        'text-align: center; padding: 3px;\"/>');\n",
              "    titlebar.append(titletext)\n",
              "    this.root.append(titlebar);\n",
              "    this.header = titletext[0];\n",
              "}\n",
              "\n",
              "\n",
              "\n",
              "mpl.figure.prototype._canvas_extra_style = function(canvas_div) {\n",
              "\n",
              "}\n",
              "\n",
              "\n",
              "mpl.figure.prototype._root_extra_style = function(canvas_div) {\n",
              "\n",
              "}\n",
              "\n",
              "mpl.figure.prototype._init_canvas = function() {\n",
              "    var fig = this;\n",
              "\n",
              "    var canvas_div = $('<div/>');\n",
              "\n",
              "    canvas_div.attr('style', 'position: relative; clear: both; outline: 0');\n",
              "\n",
              "    function canvas_keyboard_event(event) {\n",
              "        return fig.key_event(event, event['data']);\n",
              "    }\n",
              "\n",
              "    canvas_div.keydown('key_press', canvas_keyboard_event);\n",
              "    canvas_div.keyup('key_release', canvas_keyboard_event);\n",
              "    this.canvas_div = canvas_div\n",
              "    this._canvas_extra_style(canvas_div)\n",
              "    this.root.append(canvas_div);\n",
              "\n",
              "    var canvas = $('<canvas/>');\n",
              "    canvas.addClass('mpl-canvas');\n",
              "    canvas.attr('style', \"left: 0; top: 0; z-index: 0; outline: 0\")\n",
              "\n",
              "    this.canvas = canvas[0];\n",
              "    this.context = canvas[0].getContext(\"2d\");\n",
              "\n",
              "    var backingStore = this.context.backingStorePixelRatio ||\n",
              "\tthis.context.webkitBackingStorePixelRatio ||\n",
              "\tthis.context.mozBackingStorePixelRatio ||\n",
              "\tthis.context.msBackingStorePixelRatio ||\n",
              "\tthis.context.oBackingStorePixelRatio ||\n",
              "\tthis.context.backingStorePixelRatio || 1;\n",
              "\n",
              "    mpl.ratio = (window.devicePixelRatio || 1) / backingStore;\n",
              "\n",
              "    var rubberband = $('<canvas/>');\n",
              "    rubberband.attr('style', \"position: absolute; left: 0; top: 0; z-index: 1;\")\n",
              "\n",
              "    var pass_mouse_events = true;\n",
              "\n",
              "    canvas_div.resizable({\n",
              "        start: function(event, ui) {\n",
              "            pass_mouse_events = false;\n",
              "        },\n",
              "        resize: function(event, ui) {\n",
              "            fig.request_resize(ui.size.width, ui.size.height);\n",
              "        },\n",
              "        stop: function(event, ui) {\n",
              "            pass_mouse_events = true;\n",
              "            fig.request_resize(ui.size.width, ui.size.height);\n",
              "        },\n",
              "    });\n",
              "\n",
              "    function mouse_event_fn(event) {\n",
              "        if (pass_mouse_events)\n",
              "            return fig.mouse_event(event, event['data']);\n",
              "    }\n",
              "\n",
              "    rubberband.mousedown('button_press', mouse_event_fn);\n",
              "    rubberband.mouseup('button_release', mouse_event_fn);\n",
              "    // Throttle sequential mouse events to 1 every 20ms.\n",
              "    rubberband.mousemove('motion_notify', mouse_event_fn);\n",
              "\n",
              "    rubberband.mouseenter('figure_enter', mouse_event_fn);\n",
              "    rubberband.mouseleave('figure_leave', mouse_event_fn);\n",
              "\n",
              "    canvas_div.on(\"wheel\", function (event) {\n",
              "        event = event.originalEvent;\n",
              "        event['data'] = 'scroll'\n",
              "        if (event.deltaY < 0) {\n",
              "            event.step = 1;\n",
              "        } else {\n",
              "            event.step = -1;\n",
              "        }\n",
              "        mouse_event_fn(event);\n",
              "    });\n",
              "\n",
              "    canvas_div.append(canvas);\n",
              "    canvas_div.append(rubberband);\n",
              "\n",
              "    this.rubberband = rubberband;\n",
              "    this.rubberband_canvas = rubberband[0];\n",
              "    this.rubberband_context = rubberband[0].getContext(\"2d\");\n",
              "    this.rubberband_context.strokeStyle = \"#000000\";\n",
              "\n",
              "    this._resize_canvas = function(width, height) {\n",
              "        // Keep the size of the canvas, canvas container, and rubber band\n",
              "        // canvas in synch.\n",
              "        canvas_div.css('width', width)\n",
              "        canvas_div.css('height', height)\n",
              "\n",
              "        canvas.attr('width', width * mpl.ratio);\n",
              "        canvas.attr('height', height * mpl.ratio);\n",
              "        canvas.attr('style', 'width: ' + width + 'px; height: ' + height + 'px;');\n",
              "\n",
              "        rubberband.attr('width', width);\n",
              "        rubberband.attr('height', height);\n",
              "    }\n",
              "\n",
              "    // Set the figure to an initial 600x600px, this will subsequently be updated\n",
              "    // upon first draw.\n",
              "    this._resize_canvas(600, 600);\n",
              "\n",
              "    // Disable right mouse context menu.\n",
              "    $(this.rubberband_canvas).bind(\"contextmenu\",function(e){\n",
              "        return false;\n",
              "    });\n",
              "\n",
              "    function set_focus () {\n",
              "        canvas.focus();\n",
              "        canvas_div.focus();\n",
              "    }\n",
              "\n",
              "    window.setTimeout(set_focus, 100);\n",
              "}\n",
              "\n",
              "mpl.figure.prototype._init_toolbar = function() {\n",
              "    var fig = this;\n",
              "\n",
              "    var nav_element = $('<div/>');\n",
              "    nav_element.attr('style', 'width: 100%');\n",
              "    this.root.append(nav_element);\n",
              "\n",
              "    // Define a callback function for later on.\n",
              "    function toolbar_event(event) {\n",
              "        return fig.toolbar_button_onclick(event['data']);\n",
              "    }\n",
              "    function toolbar_mouse_event(event) {\n",
              "        return fig.toolbar_button_onmouseover(event['data']);\n",
              "    }\n",
              "\n",
              "    for(var toolbar_ind in mpl.toolbar_items) {\n",
              "        var name = mpl.toolbar_items[toolbar_ind][0];\n",
              "        var tooltip = mpl.toolbar_items[toolbar_ind][1];\n",
              "        var image = mpl.toolbar_items[toolbar_ind][2];\n",
              "        var method_name = mpl.toolbar_items[toolbar_ind][3];\n",
              "\n",
              "        if (!name) {\n",
              "            // put a spacer in here.\n",
              "            continue;\n",
              "        }\n",
              "        var button = $('<button/>');\n",
              "        button.addClass('ui-button ui-widget ui-state-default ui-corner-all ' +\n",
              "                        'ui-button-icon-only');\n",
              "        button.attr('role', 'button');\n",
              "        button.attr('aria-disabled', 'false');\n",
              "        button.click(method_name, toolbar_event);\n",
              "        button.mouseover(tooltip, toolbar_mouse_event);\n",
              "\n",
              "        var icon_img = $('<span/>');\n",
              "        icon_img.addClass('ui-button-icon-primary ui-icon');\n",
              "        icon_img.addClass(image);\n",
              "        icon_img.addClass('ui-corner-all');\n",
              "\n",
              "        var tooltip_span = $('<span/>');\n",
              "        tooltip_span.addClass('ui-button-text');\n",
              "        tooltip_span.html(tooltip);\n",
              "\n",
              "        button.append(icon_img);\n",
              "        button.append(tooltip_span);\n",
              "\n",
              "        nav_element.append(button);\n",
              "    }\n",
              "\n",
              "    var fmt_picker_span = $('<span/>');\n",
              "\n",
              "    var fmt_picker = $('<select/>');\n",
              "    fmt_picker.addClass('mpl-toolbar-option ui-widget ui-widget-content');\n",
              "    fmt_picker_span.append(fmt_picker);\n",
              "    nav_element.append(fmt_picker_span);\n",
              "    this.format_dropdown = fmt_picker[0];\n",
              "\n",
              "    for (var ind in mpl.extensions) {\n",
              "        var fmt = mpl.extensions[ind];\n",
              "        var option = $(\n",
              "            '<option/>', {selected: fmt === mpl.default_extension}).html(fmt);\n",
              "        fmt_picker.append(option);\n",
              "    }\n",
              "\n",
              "    // Add hover states to the ui-buttons\n",
              "    $( \".ui-button\" ).hover(\n",
              "        function() { $(this).addClass(\"ui-state-hover\");},\n",
              "        function() { $(this).removeClass(\"ui-state-hover\");}\n",
              "    );\n",
              "\n",
              "    var status_bar = $('<span class=\"mpl-message\"/>');\n",
              "    nav_element.append(status_bar);\n",
              "    this.message = status_bar[0];\n",
              "}\n",
              "\n",
              "mpl.figure.prototype.request_resize = function(x_pixels, y_pixels) {\n",
              "    // Request matplotlib to resize the figure. Matplotlib will then trigger a resize in the client,\n",
              "    // which will in turn request a refresh of the image.\n",
              "    this.send_message('resize', {'width': x_pixels, 'height': y_pixels});\n",
              "}\n",
              "\n",
              "mpl.figure.prototype.send_message = function(type, properties) {\n",
              "    properties['type'] = type;\n",
              "    properties['figure_id'] = this.id;\n",
              "    this.ws.send(JSON.stringify(properties));\n",
              "}\n",
              "\n",
              "mpl.figure.prototype.send_draw_message = function() {\n",
              "    if (!this.waiting) {\n",
              "        this.waiting = true;\n",
              "        this.ws.send(JSON.stringify({type: \"draw\", figure_id: this.id}));\n",
              "    }\n",
              "}\n",
              "\n",
              "\n",
              "mpl.figure.prototype.handle_save = function(fig, msg) {\n",
              "    var format_dropdown = fig.format_dropdown;\n",
              "    var format = format_dropdown.options[format_dropdown.selectedIndex].value;\n",
              "    fig.ondownload(fig, format);\n",
              "}\n",
              "\n",
              "\n",
              "mpl.figure.prototype.handle_resize = function(fig, msg) {\n",
              "    var size = msg['size'];\n",
              "    if (size[0] != fig.canvas.width || size[1] != fig.canvas.height) {\n",
              "        fig._resize_canvas(size[0], size[1]);\n",
              "        fig.send_message(\"refresh\", {});\n",
              "    };\n",
              "}\n",
              "\n",
              "mpl.figure.prototype.handle_rubberband = function(fig, msg) {\n",
              "    var x0 = msg['x0'] / mpl.ratio;\n",
              "    var y0 = (fig.canvas.height - msg['y0']) / mpl.ratio;\n",
              "    var x1 = msg['x1'] / mpl.ratio;\n",
              "    var y1 = (fig.canvas.height - msg['y1']) / mpl.ratio;\n",
              "    x0 = Math.floor(x0) + 0.5;\n",
              "    y0 = Math.floor(y0) + 0.5;\n",
              "    x1 = Math.floor(x1) + 0.5;\n",
              "    y1 = Math.floor(y1) + 0.5;\n",
              "    var min_x = Math.min(x0, x1);\n",
              "    var min_y = Math.min(y0, y1);\n",
              "    var width = Math.abs(x1 - x0);\n",
              "    var height = Math.abs(y1 - y0);\n",
              "\n",
              "    fig.rubberband_context.clearRect(\n",
              "        0, 0, fig.canvas.width / mpl.ratio, fig.canvas.height / mpl.ratio);\n",
              "\n",
              "    fig.rubberband_context.strokeRect(min_x, min_y, width, height);\n",
              "}\n",
              "\n",
              "mpl.figure.prototype.handle_figure_label = function(fig, msg) {\n",
              "    // Updates the figure title.\n",
              "    fig.header.textContent = msg['label'];\n",
              "}\n",
              "\n",
              "mpl.figure.prototype.handle_cursor = function(fig, msg) {\n",
              "    var cursor = msg['cursor'];\n",
              "    switch(cursor)\n",
              "    {\n",
              "    case 0:\n",
              "        cursor = 'pointer';\n",
              "        break;\n",
              "    case 1:\n",
              "        cursor = 'default';\n",
              "        break;\n",
              "    case 2:\n",
              "        cursor = 'crosshair';\n",
              "        break;\n",
              "    case 3:\n",
              "        cursor = 'move';\n",
              "        break;\n",
              "    }\n",
              "    fig.rubberband_canvas.style.cursor = cursor;\n",
              "}\n",
              "\n",
              "mpl.figure.prototype.handle_message = function(fig, msg) {\n",
              "    fig.message.textContent = msg['message'];\n",
              "}\n",
              "\n",
              "mpl.figure.prototype.handle_draw = function(fig, msg) {\n",
              "    // Request the server to send over a new figure.\n",
              "    fig.send_draw_message();\n",
              "}\n",
              "\n",
              "mpl.figure.prototype.handle_image_mode = function(fig, msg) {\n",
              "    fig.image_mode = msg['mode'];\n",
              "}\n",
              "\n",
              "mpl.figure.prototype.updated_canvas_event = function() {\n",
              "    // Called whenever the canvas gets updated.\n",
              "    this.send_message(\"ack\", {});\n",
              "}\n",
              "\n",
              "// A function to construct a web socket function for onmessage handling.\n",
              "// Called in the figure constructor.\n",
              "mpl.figure.prototype._make_on_message_function = function(fig) {\n",
              "    return function socket_on_message(evt) {\n",
              "        if (evt.data instanceof Blob) {\n",
              "            /* FIXME: We get \"Resource interpreted as Image but\n",
              "             * transferred with MIME type text/plain:\" errors on\n",
              "             * Chrome.  But how to set the MIME type?  It doesn't seem\n",
              "             * to be part of the websocket stream */\n",
              "            evt.data.type = \"image/png\";\n",
              "\n",
              "            /* Free the memory for the previous frames */\n",
              "            if (fig.imageObj.src) {\n",
              "                (window.URL || window.webkitURL).revokeObjectURL(\n",
              "                    fig.imageObj.src);\n",
              "            }\n",
              "\n",
              "            fig.imageObj.src = (window.URL || window.webkitURL).createObjectURL(\n",
              "                evt.data);\n",
              "            fig.updated_canvas_event();\n",
              "            fig.waiting = false;\n",
              "            return;\n",
              "        }\n",
              "        else if (typeof evt.data === 'string' && evt.data.slice(0, 21) == \"data:image/png;base64\") {\n",
              "            fig.imageObj.src = evt.data;\n",
              "            fig.updated_canvas_event();\n",
              "            fig.waiting = false;\n",
              "            return;\n",
              "        }\n",
              "\n",
              "        var msg = JSON.parse(evt.data);\n",
              "        var msg_type = msg['type'];\n",
              "\n",
              "        // Call the  \"handle_{type}\" callback, which takes\n",
              "        // the figure and JSON message as its only arguments.\n",
              "        try {\n",
              "            var callback = fig[\"handle_\" + msg_type];\n",
              "        } catch (e) {\n",
              "            console.log(\"No handler for the '\" + msg_type + \"' message type: \", msg);\n",
              "            return;\n",
              "        }\n",
              "\n",
              "        if (callback) {\n",
              "            try {\n",
              "                // console.log(\"Handling '\" + msg_type + \"' message: \", msg);\n",
              "                callback(fig, msg);\n",
              "            } catch (e) {\n",
              "                console.log(\"Exception inside the 'handler_\" + msg_type + \"' callback:\", e, e.stack, msg);\n",
              "            }\n",
              "        }\n",
              "    };\n",
              "}\n",
              "\n",
              "// from http://stackoverflow.com/questions/1114465/getting-mouse-location-in-canvas\n",
              "mpl.findpos = function(e) {\n",
              "    //this section is from http://www.quirksmode.org/js/events_properties.html\n",
              "    var targ;\n",
              "    if (!e)\n",
              "        e = window.event;\n",
              "    if (e.target)\n",
              "        targ = e.target;\n",
              "    else if (e.srcElement)\n",
              "        targ = e.srcElement;\n",
              "    if (targ.nodeType == 3) // defeat Safari bug\n",
              "        targ = targ.parentNode;\n",
              "\n",
              "    // jQuery normalizes the pageX and pageY\n",
              "    // pageX,Y are the mouse positions relative to the document\n",
              "    // offset() returns the position of the element relative to the document\n",
              "    var x = e.pageX - $(targ).offset().left;\n",
              "    var y = e.pageY - $(targ).offset().top;\n",
              "\n",
              "    return {\"x\": x, \"y\": y};\n",
              "};\n",
              "\n",
              "/*\n",
              " * return a copy of an object with only non-object keys\n",
              " * we need this to avoid circular references\n",
              " * http://stackoverflow.com/a/24161582/3208463\n",
              " */\n",
              "function simpleKeys (original) {\n",
              "  return Object.keys(original).reduce(function (obj, key) {\n",
              "    if (typeof original[key] !== 'object')\n",
              "        obj[key] = original[key]\n",
              "    return obj;\n",
              "  }, {});\n",
              "}\n",
              "\n",
              "mpl.figure.prototype.mouse_event = function(event, name) {\n",
              "    var canvas_pos = mpl.findpos(event)\n",
              "\n",
              "    if (name === 'button_press')\n",
              "    {\n",
              "        this.canvas.focus();\n",
              "        this.canvas_div.focus();\n",
              "    }\n",
              "\n",
              "    var x = canvas_pos.x * mpl.ratio;\n",
              "    var y = canvas_pos.y * mpl.ratio;\n",
              "\n",
              "    this.send_message(name, {x: x, y: y, button: event.button,\n",
              "                             step: event.step,\n",
              "                             guiEvent: simpleKeys(event)});\n",
              "\n",
              "    /* This prevents the web browser from automatically changing to\n",
              "     * the text insertion cursor when the button is pressed.  We want\n",
              "     * to control all of the cursor setting manually through the\n",
              "     * 'cursor' event from matplotlib */\n",
              "    event.preventDefault();\n",
              "    return false;\n",
              "}\n",
              "\n",
              "mpl.figure.prototype._key_event_extra = function(event, name) {\n",
              "    // Handle any extra behaviour associated with a key event\n",
              "}\n",
              "\n",
              "mpl.figure.prototype.key_event = function(event, name) {\n",
              "\n",
              "    // Prevent repeat events\n",
              "    if (name == 'key_press')\n",
              "    {\n",
              "        if (event.which === this._key)\n",
              "            return;\n",
              "        else\n",
              "            this._key = event.which;\n",
              "    }\n",
              "    if (name == 'key_release')\n",
              "        this._key = null;\n",
              "\n",
              "    var value = '';\n",
              "    if (event.ctrlKey && event.which != 17)\n",
              "        value += \"ctrl+\";\n",
              "    if (event.altKey && event.which != 18)\n",
              "        value += \"alt+\";\n",
              "    if (event.shiftKey && event.which != 16)\n",
              "        value += \"shift+\";\n",
              "\n",
              "    value += 'k';\n",
              "    value += event.which.toString();\n",
              "\n",
              "    this._key_event_extra(event, name);\n",
              "\n",
              "    this.send_message(name, {key: value,\n",
              "                             guiEvent: simpleKeys(event)});\n",
              "    return false;\n",
              "}\n",
              "\n",
              "mpl.figure.prototype.toolbar_button_onclick = function(name) {\n",
              "    if (name == 'download') {\n",
              "        this.handle_save(this, null);\n",
              "    } else {\n",
              "        this.send_message(\"toolbar_button\", {name: name});\n",
              "    }\n",
              "};\n",
              "\n",
              "mpl.figure.prototype.toolbar_button_onmouseover = function(tooltip) {\n",
              "    this.message.textContent = tooltip;\n",
              "};\n",
              "mpl.toolbar_items = [[\"Home\", \"Reset original view\", \"fa fa-home icon-home\", \"home\"], [\"Back\", \"Back to previous view\", \"fa fa-arrow-left icon-arrow-left\", \"back\"], [\"Forward\", \"Forward to next view\", \"fa fa-arrow-right icon-arrow-right\", \"forward\"], [\"\", \"\", \"\", \"\"], [\"Pan\", \"Pan axes with left mouse, zoom with right\", \"fa fa-arrows icon-move\", \"pan\"], [\"Zoom\", \"Zoom to rectangle\", \"fa fa-square-o icon-check-empty\", \"zoom\"], [\"\", \"\", \"\", \"\"], [\"Download\", \"Download plot\", \"fa fa-floppy-o icon-save\", \"download\"]];\n",
              "\n",
              "mpl.extensions = [\"eps\", \"jpeg\", \"pdf\", \"png\", \"ps\", \"raw\", \"svg\", \"tif\"];\n",
              "\n",
              "mpl.default_extension = \"png\";var comm_websocket_adapter = function(comm) {\n",
              "    // Create a \"websocket\"-like object which calls the given IPython comm\n",
              "    // object with the appropriate methods. Currently this is a non binary\n",
              "    // socket, so there is still some room for performance tuning.\n",
              "    var ws = {};\n",
              "\n",
              "    ws.close = function() {\n",
              "        comm.close()\n",
              "    };\n",
              "    ws.send = function(m) {\n",
              "        //console.log('sending', m);\n",
              "        comm.send(m);\n",
              "    };\n",
              "    // Register the callback with on_msg.\n",
              "    comm.on_msg(function(msg) {\n",
              "        //console.log('receiving', msg['content']['data'], msg);\n",
              "        // Pass the mpl event to the overridden (by mpl) onmessage function.\n",
              "        ws.onmessage(msg['content']['data'])\n",
              "    });\n",
              "    return ws;\n",
              "}\n",
              "\n",
              "mpl.mpl_figure_comm = function(comm, msg) {\n",
              "    // This is the function which gets called when the mpl process\n",
              "    // starts-up an IPython Comm through the \"matplotlib\" channel.\n",
              "\n",
              "    var id = msg.content.data.id;\n",
              "    // Get hold of the div created by the display call when the Comm\n",
              "    // socket was opened in Python.\n",
              "    var element = $(\"#\" + id);\n",
              "    var ws_proxy = comm_websocket_adapter(comm)\n",
              "\n",
              "    function ondownload(figure, format) {\n",
              "        window.open(figure.imageObj.src);\n",
              "    }\n",
              "\n",
              "    var fig = new mpl.figure(id, ws_proxy,\n",
              "                           ondownload,\n",
              "                           element.get(0));\n",
              "\n",
              "    // Call onopen now - mpl needs it, as it is assuming we've passed it a real\n",
              "    // web socket which is closed, not our websocket->open comm proxy.\n",
              "    ws_proxy.onopen();\n",
              "\n",
              "    fig.parent_element = element.get(0);\n",
              "    fig.cell_info = mpl.find_output_cell(\"<div id='\" + id + \"'></div>\");\n",
              "    if (!fig.cell_info) {\n",
              "        console.error(\"Failed to find cell for figure\", id, fig);\n",
              "        return;\n",
              "    }\n",
              "\n",
              "    var output_index = fig.cell_info[2]\n",
              "    var cell = fig.cell_info[0];\n",
              "\n",
              "};\n",
              "\n",
              "mpl.figure.prototype.handle_close = function(fig, msg) {\n",
              "    var width = fig.canvas.width/mpl.ratio\n",
              "    fig.root.unbind('remove')\n",
              "\n",
              "    // Update the output cell to use the data from the current canvas.\n",
              "    fig.push_to_output();\n",
              "    var dataURL = fig.canvas.toDataURL();\n",
              "    // Re-enable the keyboard manager in IPython - without this line, in FF,\n",
              "    // the notebook keyboard shortcuts fail.\n",
              "    IPython.keyboard_manager.enable()\n",
              "    $(fig.parent_element).html('<img src=\"' + dataURL + '\" width=\"' + width + '\">');\n",
              "    fig.close_ws(fig, msg);\n",
              "}\n",
              "\n",
              "mpl.figure.prototype.close_ws = function(fig, msg){\n",
              "    fig.send_message('closing', msg);\n",
              "    // fig.ws.close()\n",
              "}\n",
              "\n",
              "mpl.figure.prototype.push_to_output = function(remove_interactive) {\n",
              "    // Turn the data on the canvas into data in the output cell.\n",
              "    var width = this.canvas.width/mpl.ratio\n",
              "    var dataURL = this.canvas.toDataURL();\n",
              "    this.cell_info[1]['text/html'] = '<img src=\"' + dataURL + '\" width=\"' + width + '\">';\n",
              "}\n",
              "\n",
              "mpl.figure.prototype.updated_canvas_event = function() {\n",
              "    // Tell IPython that the notebook contents must change.\n",
              "    IPython.notebook.set_dirty(true);\n",
              "    this.send_message(\"ack\", {});\n",
              "    var fig = this;\n",
              "    // Wait a second, then push the new image to the DOM so\n",
              "    // that it is saved nicely (might be nice to debounce this).\n",
              "    setTimeout(function () { fig.push_to_output() }, 1000);\n",
              "}\n",
              "\n",
              "mpl.figure.prototype._init_toolbar = function() {\n",
              "    var fig = this;\n",
              "\n",
              "    var nav_element = $('<div/>');\n",
              "    nav_element.attr('style', 'width: 100%');\n",
              "    this.root.append(nav_element);\n",
              "\n",
              "    // Define a callback function for later on.\n",
              "    function toolbar_event(event) {\n",
              "        return fig.toolbar_button_onclick(event['data']);\n",
              "    }\n",
              "    function toolbar_mouse_event(event) {\n",
              "        return fig.toolbar_button_onmouseover(event['data']);\n",
              "    }\n",
              "\n",
              "    for(var toolbar_ind in mpl.toolbar_items){\n",
              "        var name = mpl.toolbar_items[toolbar_ind][0];\n",
              "        var tooltip = mpl.toolbar_items[toolbar_ind][1];\n",
              "        var image = mpl.toolbar_items[toolbar_ind][2];\n",
              "        var method_name = mpl.toolbar_items[toolbar_ind][3];\n",
              "\n",
              "        if (!name) { continue; };\n",
              "\n",
              "        var button = $('<button class=\"btn btn-default\" href=\"#\" title=\"' + name + '\"><i class=\"fa ' + image + ' fa-lg\"></i></button>');\n",
              "        button.click(method_name, toolbar_event);\n",
              "        button.mouseover(tooltip, toolbar_mouse_event);\n",
              "        nav_element.append(button);\n",
              "    }\n",
              "\n",
              "    // Add the status bar.\n",
              "    var status_bar = $('<span class=\"mpl-message\" style=\"text-align:right; float: right;\"/>');\n",
              "    nav_element.append(status_bar);\n",
              "    this.message = status_bar[0];\n",
              "\n",
              "    // Add the close button to the window.\n",
              "    var buttongrp = $('<div class=\"btn-group inline pull-right\"></div>');\n",
              "    var button = $('<button class=\"btn btn-mini btn-primary\" href=\"#\" title=\"Stop Interaction\"><i class=\"fa fa-power-off icon-remove icon-large\"></i></button>');\n",
              "    button.click(function (evt) { fig.handle_close(fig, {}); } );\n",
              "    button.mouseover('Stop Interaction', toolbar_mouse_event);\n",
              "    buttongrp.append(button);\n",
              "    var titlebar = this.root.find($('.ui-dialog-titlebar'));\n",
              "    titlebar.prepend(buttongrp);\n",
              "}\n",
              "\n",
              "mpl.figure.prototype._root_extra_style = function(el){\n",
              "    var fig = this\n",
              "    el.on(\"remove\", function(){\n",
              "\tfig.close_ws(fig, {});\n",
              "    });\n",
              "}\n",
              "\n",
              "mpl.figure.prototype._canvas_extra_style = function(el){\n",
              "    // this is important to make the div 'focusable\n",
              "    el.attr('tabindex', 0)\n",
              "    // reach out to IPython and tell the keyboard manager to turn it's self\n",
              "    // off when our div gets focus\n",
              "\n",
              "    // location in version 3\n",
              "    if (IPython.notebook.keyboard_manager) {\n",
              "        IPython.notebook.keyboard_manager.register_events(el);\n",
              "    }\n",
              "    else {\n",
              "        // location in version 2\n",
              "        IPython.keyboard_manager.register_events(el);\n",
              "    }\n",
              "\n",
              "}\n",
              "\n",
              "mpl.figure.prototype._key_event_extra = function(event, name) {\n",
              "    var manager = IPython.notebook.keyboard_manager;\n",
              "    if (!manager)\n",
              "        manager = IPython.keyboard_manager;\n",
              "\n",
              "    // Check for shift+enter\n",
              "    if (event.shiftKey && event.which == 13) {\n",
              "        this.canvas_div.blur();\n",
              "        // select the cell after this one\n",
              "        var index = IPython.notebook.find_cell_index(this.cell_info[0]);\n",
              "        IPython.notebook.select(index + 1);\n",
              "    }\n",
              "}\n",
              "\n",
              "mpl.figure.prototype.handle_save = function(fig, msg) {\n",
              "    fig.ondownload(fig, null);\n",
              "}\n",
              "\n",
              "\n",
              "mpl.find_output_cell = function(html_output) {\n",
              "    // Return the cell and output element which can be found *uniquely* in the notebook.\n",
              "    // Note - this is a bit hacky, but it is done because the \"notebook_saving.Notebook\"\n",
              "    // IPython event is triggered only after the cells have been serialised, which for\n",
              "    // our purposes (turning an active figure into a static one), is too late.\n",
              "    var cells = IPython.notebook.get_cells();\n",
              "    var ncells = cells.length;\n",
              "    for (var i=0; i<ncells; i++) {\n",
              "        var cell = cells[i];\n",
              "        if (cell.cell_type === 'code'){\n",
              "            for (var j=0; j<cell.output_area.outputs.length; j++) {\n",
              "                var data = cell.output_area.outputs[j];\n",
              "                if (data.data) {\n",
              "                    // IPython >= 3 moved mimebundle to data attribute of output\n",
              "                    data = data.data;\n",
              "                }\n",
              "                if (data['text/html'] == html_output) {\n",
              "                    return [cell, data, j];\n",
              "                }\n",
              "            }\n",
              "        }\n",
              "    }\n",
              "}\n",
              "\n",
              "// Register the function which deals with the matplotlib target/channel.\n",
              "// The kernel may be null if the page has been refreshed.\n",
              "if (IPython.notebook.kernel != null) {\n",
              "    IPython.notebook.kernel.comm_manager.register_target('matplotlib', mpl.mpl_figure_comm);\n",
              "}\n"
            ],
            "text/plain": [
              "<IPython.core.display.Javascript object>"
            ]
          },
          "metadata": {
            "tags": []
          }
        },
        {
          "output_type": "display_data",
          "data": {
            "text/html": [
              "<img src=\"data:image/png;base64,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\" width=\"900\">"
            ],
            "text/plain": [
              "<IPython.core.display.HTML object>"
            ]
          },
          "metadata": {
            "tags": []
          }
        }
      ]
    },
    {
      "cell_type": "code",
      "metadata": {
        "id": "5nGdoNG2VDpu"
      },
      "source": [
        "# split predictors and response\n",
        "\n",
        "# Scaled predictors\n",
        "x_month  = df_train['Day of Month']\n",
        "x_distance = df_train['Distance (km)']\n",
        "x_temp = df_train['Temp']\n",
        "x_prec = df_train['Precipitation (mm)']\n",
        "\n",
        "# The predicted response:\n",
        "y_pa = train['Time from Pickup to Arrival']\n",
        "# The unpredicted response:\n",
        "y_pa_scale = df_train['Pickup to Arrival (s)']"
      ],
      "execution_count": null,
      "outputs": []
    },
    {
      "cell_type": "code",
      "metadata": {
        "id": "HYBAtzSMVDpz"
      },
      "source": [
        ""
      ],
      "execution_count": null,
      "outputs": []
    },
    {
      "cell_type": "markdown",
      "metadata": {
        "id": "xDZzpRNGVDp2"
      },
      "source": [
        "# Model with scaled data version 0.2"
      ]
    },
    {
      "cell_type": "code",
      "metadata": {
        "id": "8zPFPWvvVDp4"
      },
      "source": [
        "# Scalled datasets\n",
        "#df2_train\n",
        "# df2_test"
      ],
      "execution_count": null,
      "outputs": []
    },
    {
      "cell_type": "code",
      "metadata": {
        "id": "ePr4a9fqVDp9"
      },
      "source": [
        "# Creating X and y metrics\n",
        "X = df2_train.copy()\n",
        "y = np.array(train_df['Time from Pickup to Arrival']).reshape(-1,1)"
      ],
      "execution_count": null,
      "outputs": []
    },
    {
      "cell_type": "code",
      "metadata": {
        "id": "j53GONJ9VDqB"
      },
      "source": [
        "X_train, X_val, y_train, y_val = train_test_split(X,y,test_size = 0.3, random_state = 23)"
      ],
      "execution_count": null,
      "outputs": []
    },
    {
      "cell_type": "code",
      "metadata": {
        "id": "Y8cdaZIwVDqE",
        "outputId": "f0e779a1-741c-4fdd-88d1-de8f686430b5"
      },
      "source": [
        "# training the model\n",
        "lin_reg.fit(X_train, y_train)"
      ],
      "execution_count": null,
      "outputs": [
        {
          "output_type": "execute_result",
          "data": {
            "text/plain": [
              "LinearRegression(copy_X=True, fit_intercept=True, n_jobs=None, normalize=False)"
            ]
          },
          "metadata": {
            "tags": []
          },
          "execution_count": 648
        }
      ]
    },
    {
      "cell_type": "code",
      "metadata": {
        "id": "cOgYXQ1NVDqK"
      },
      "source": [
        "val_pred = lin_reg.predict(X_val)"
      ],
      "execution_count": null,
      "outputs": []
    },
    {
      "cell_type": "code",
      "metadata": {
        "id": "v-fXHUe4VDqN",
        "outputId": "2bf0cb39-d639-49bc-ad77-591a56f4672d"
      },
      "source": [
        "# Checking the root mean square error\n",
        "rmse(y_val, val_pred)"
      ],
      "execution_count": null,
      "outputs": [
        {
          "output_type": "execute_result",
          "data": {
            "text/plain": [
              "828.9786142267769"
            ]
          },
          "metadata": {
            "tags": []
          },
          "execution_count": 652
        }
      ]
    },
    {
      "cell_type": "code",
      "metadata": {
        "id": "89ZoP002VDqQ"
      },
      "source": [
        ""
      ],
      "execution_count": null,
      "outputs": []
    },
    {
      "cell_type": "code",
      "metadata": {
        "id": "iRsjI27EVDqU"
      },
      "source": [
        "# actual y_predictions\n",
        "X_test = df2_test"
      ],
      "execution_count": null,
      "outputs": []
    },
    {
      "cell_type": "code",
      "metadata": {
        "id": "ouft2DaWVDqX"
      },
      "source": [
        "y_pred = lin_reg.predict(X_test)"
      ],
      "execution_count": null,
      "outputs": []
    },
    {
      "cell_type": "code",
      "metadata": {
        "id": "Oe6zGCJIVDqd",
        "outputId": "9f5cde13-101f-4eab-b8de-b8fc310b0b0d"
      },
      "source": [
        "submission_scaled_data = test[['Order No']].copy()\n",
        "submission_scaled_data['Time from Pickup to Arrival'] = y_pred\n",
        "\n",
        "submission_scaled_data"
      ],
      "execution_count": null,
      "outputs": [
        {
          "output_type": "execute_result",
          "data": {
            "text/html": [
              "<div>\n",
              "<style scoped>\n",
              "    .dataframe tbody tr th:only-of-type {\n",
              "        vertical-align: middle;\n",
              "    }\n",
              "\n",
              "    .dataframe tbody tr th {\n",
              "        vertical-align: top;\n",
              "    }\n",
              "\n",
              "    .dataframe thead th {\n",
              "        text-align: right;\n",
              "    }\n",
              "</style>\n",
              "<table border=\"1\" class=\"dataframe\">\n",
              "  <thead>\n",
              "    <tr style=\"text-align: right;\">\n",
              "      <th></th>\n",
              "      <th>Order No</th>\n",
              "      <th>Time from Pickup to Arrival</th>\n",
              "    </tr>\n",
              "  </thead>\n",
              "  <tbody>\n",
              "    <tr>\n",
              "      <th>0</th>\n",
              "      <td>Order_No_19248</td>\n",
              "      <td>1405.545337</td>\n",
              "    </tr>\n",
              "    <tr>\n",
              "      <th>1</th>\n",
              "      <td>Order_No_12736</td>\n",
              "      <td>1112.339636</td>\n",
              "    </tr>\n",
              "    <tr>\n",
              "      <th>2</th>\n",
              "      <td>Order_No_768</td>\n",
              "      <td>1088.639682</td>\n",
              "    </tr>\n",
              "    <tr>\n",
              "      <th>3</th>\n",
              "      <td>Order_No_15332</td>\n",
              "      <td>1114.426323</td>\n",
              "    </tr>\n",
              "    <tr>\n",
              "      <th>4</th>\n",
              "      <td>Order_No_21373</td>\n",
              "      <td>1233.422165</td>\n",
              "    </tr>\n",
              "    <tr>\n",
              "      <th>...</th>\n",
              "      <td>...</td>\n",
              "      <td>...</td>\n",
              "    </tr>\n",
              "    <tr>\n",
              "      <th>7063</th>\n",
              "      <td>Order_No_3612</td>\n",
              "      <td>1137.883107</td>\n",
              "    </tr>\n",
              "    <tr>\n",
              "      <th>7064</th>\n",
              "      <td>Order_No_7657</td>\n",
              "      <td>2932.406166</td>\n",
              "    </tr>\n",
              "    <tr>\n",
              "      <th>7065</th>\n",
              "      <td>Order_No_1969</td>\n",
              "      <td>1669.912584</td>\n",
              "    </tr>\n",
              "    <tr>\n",
              "      <th>7066</th>\n",
              "      <td>Order_No_10591</td>\n",
              "      <td>2455.420186</td>\n",
              "    </tr>\n",
              "    <tr>\n",
              "      <th>7067</th>\n",
              "      <td>Order_No_1603</td>\n",
              "      <td>1456.773137</td>\n",
              "    </tr>\n",
              "  </tbody>\n",
              "</table>\n",
              "<p>7068 rows × 2 columns</p>\n",
              "</div>"
            ],
            "text/plain": [
              "            Order No  Time from Pickup to Arrival\n",
              "0     Order_No_19248                  1405.545337\n",
              "1     Order_No_12736                  1112.339636\n",
              "2       Order_No_768                  1088.639682\n",
              "3     Order_No_15332                  1114.426323\n",
              "4     Order_No_21373                  1233.422165\n",
              "...              ...                          ...\n",
              "7063   Order_No_3612                  1137.883107\n",
              "7064   Order_No_7657                  2932.406166\n",
              "7065   Order_No_1969                  1669.912584\n",
              "7066  Order_No_10591                  2455.420186\n",
              "7067   Order_No_1603                  1456.773137\n",
              "\n",
              "[7068 rows x 2 columns]"
            ]
          },
          "metadata": {
            "tags": []
          },
          "execution_count": 657
        }
      ]
    },
    {
      "cell_type": "code",
      "metadata": {
        "id": "zDs0y8imVDqh"
      },
      "source": [
        "submission_scaled_data.to_csv('submission_scaled_data_0.2.csv', index = False)"
      ],
      "execution_count": null,
      "outputs": []
    },
    {
      "cell_type": "code",
      "metadata": {
        "id": "eYHvKa1YWTas"
      },
      "source": [
        ""
      ],
      "execution_count": null,
      "outputs": []
    },
    {
      "cell_type": "code",
      "metadata": {
        "id": "t_ghTkXiWTeH"
      },
      "source": [
        ""
      ],
      "execution_count": null,
      "outputs": []
    },
    {
      "cell_type": "code",
      "metadata": {
        "id": "EGwiYGMQWTh8"
      },
      "source": [
        ""
      ],
      "execution_count": null,
      "outputs": []
    },
    {
      "cell_type": "code",
      "metadata": {
        "id": "rQ7YLjdmWTOP"
      },
      "source": [
        ""
      ],
      "execution_count": null,
      "outputs": []
    },
    {
      "cell_type": "code",
      "metadata": {
        "id": "shI99Ml09Eqc"
      },
      "source": [
        "# Creating X and y metrics\n",
        "X = train_df.drop(['Time from Pickup to Arrival','Order No'], axis = 1)\n",
        "y = np.array(train_df['Time from Pickup to Arrival']).reshape(-1,1)\n",
        "X_test = test_df.drop(['Order No'], axis =1)"
      ],
      "execution_count": null,
      "outputs": []
    },
    {
      "cell_type": "markdown",
      "metadata": {
        "id": "_sP16zwXVDqm"
      },
      "source": [
        "## Spliting Data into the training and the validation set ##"
      ]
    },
    {
      "cell_type": "code",
      "metadata": {
        "id": "XTT5rZLjVDqm"
      },
      "source": [
        "# Splitting the data into train set and validation set\n",
        "X_train, X_val, y_train, y_val = train_test_split(X,y,test_size = 0.30,\n",
        "                                                  random_state = 25)"
      ],
      "execution_count": null,
      "outputs": []
    },
    {
      "cell_type": "markdown",
      "metadata": {
        "id": "Y_fC2DUaBIrE"
      },
      "source": [
        "## Scaling the data and creating scaled train and scaled test data"
      ]
    },
    {
      "cell_type": "code",
      "metadata": {
        "id": "Ya86AYlzBHf2"
      },
      "source": [
        "# creating instance for scaled X and  scaled y\n",
        "sc_X = StandardScaler()\n",
        "sc_y = StandardScaler()\n",
        "X_scaled = sc_X.fit_transform(X)\n",
        "y_scaled = sc_y.fit_transform(y)"
      ],
      "execution_count": null,
      "outputs": []
    },
    {
      "cell_type": "code",
      "metadata": {
        "id": "nz8nBkNE6Q-V"
      },
      "source": [
        "# splitting X and y of the scaled data\n",
        "X_train_sc, X_val_sc, y_train_sc, y_val_sc = train_test_split(X_scaled,y_scaled,test_size = 0.3)"
      ],
      "execution_count": null,
      "outputs": []
    },
    {
      "cell_type": "code",
      "metadata": {
        "id": "FUa5-X8H61F9"
      },
      "source": [
        ""
      ],
      "execution_count": null,
      "outputs": []
    },
    {
      "cell_type": "markdown",
      "metadata": {
        "id": "-GskDqj461zr"
      },
      "source": [
        "# Building Models"
      ]
    },
    {
      "cell_type": "markdown",
      "metadata": {
        "id": "VRUpHyovDMuA"
      },
      "source": [
        "## Linear Model"
      ]
    },
    {
      "cell_type": "code",
      "metadata": {
        "id": "Lp0EabLX6RDP"
      },
      "source": [
        "# Training a multiple Linear Training model\n",
        "lin_reg = LinearRegression()\n",
        "lin_reg.fit(X_train,y_train)"
      ],
      "execution_count": null,
      "outputs": []
    },
    {
      "cell_type": "code",
      "metadata": {
        "id": "vxsz-G_56RJV"
      },
      "source": [
        "# Making predicitions for the validation dataset\n",
        "val_pred = lin_reg.predict(X_val)\n",
        "val_pred"
      ],
      "execution_count": null,
      "outputs": []
    },
    {
      "cell_type": "code",
      "metadata": {
        "id": "BdsAo8Ou6ROo"
      },
      "source": [
        "# function that calculates the root mean squared error\n",
        "def rmse(y_test,y_prediction):\n",
        "    result = np.sqrt(mean_squared_error(y_test,y_prediction))\n",
        "    return result"
      ],
      "execution_count": 106,
      "outputs": []
    },
    {
      "cell_type": "code",
      "metadata": {
        "id": "8AcCoLfP6RTI"
      },
      "source": [
        "# calculate accuracy of validation predictions using root mean squared error\n",
        "rmse(y_val, val_pred)"
      ],
      "execution_count": null,
      "outputs": []
    },
    {
      "cell_type": "code",
      "metadata": {
        "id": "-tpobPwk_DEj"
      },
      "source": [
        "plt.scatter(y_val,val_pred) \n",
        "plt.plot(y_val,y_val,\"r\") # perfect model line\n",
        "plt.ylabel(\"Predicted $y$\")\n",
        "plt.xlabel(\"Actual $y$\")\n",
        "plt.show()"
      ],
      "execution_count": null,
      "outputs": []
    },
    {
      "cell_type": "code",
      "metadata": {
        "id": "6Dcx05Pr6RW2"
      },
      "source": [
        "# Making actual y predictions\n",
        "y_pred = lin_reg.predict(X_test)"
      ],
      "execution_count": null,
      "outputs": []
    },
    {
      "cell_type": "code",
      "metadata": {
        "id": "-RYbKdbX6Rcc"
      },
      "source": [
        "submission = test[['Order No']].copy()\n",
        "submission['Time from Pickup to Arrival'] = y_pred"
      ],
      "execution_count": null,
      "outputs": []
    },
    {
      "cell_type": "code",
      "metadata": {
        "id": "-eD6Sj4u6Rg7"
      },
      "source": [
        "submission"
      ],
      "execution_count": null,
      "outputs": []
    },
    {
      "cell_type": "markdown",
      "metadata": {
        "id": "DtyikQbQVDqq"
      },
      "source": [
        "## Comparing models\n"
      ]
    },
    {
      "cell_type": "code",
      "metadata": {
        "id": "cWmnvmQAVDqr"
      },
      "source": [
        "def best_perfomance(model_result,best_result):\n",
        "    ''' This functions checks if whether the last model we build perfoms better compared our\n",
        "    best perfoming models by comparing their RMSE score'''\n",
        "    if model_result < best_result:\n",
        "        print('This is now the best perfoming model, with RMSE of {}'.format(model_result))\n",
        "    \n",
        "    elif model_result == best_result:\n",
        "        print('This model performance just as good as the previous best performing model with RMSE of {}'.format(model_result))\n",
        "        \n",
        "    else:\n",
        "        print('This model performs poorly compared the previous best performing model')\n",
        "        print('Best perfomaning model score: {}'.format(round(best_result,4)))\n",
        "        print('Model result : {}'.format(round(model_result,4)))\n",
        "        "
      ],
      "execution_count": 115,
      "outputs": []
    },
    {
      "cell_type": "code",
      "metadata": {
        "id": "rFJ6CJqf-XpN"
      },
      "source": [
        "best_result = 793.3028821523337\n",
        "model_result = rmse(y_val,val_pred)"
      ],
      "execution_count": null,
      "outputs": []
    },
    {
      "cell_type": "code",
      "metadata": {
        "id": "ScVZLnrO_J41"
      },
      "source": [
        "best_perfomance(model_result, best_result)"
      ],
      "execution_count": null,
      "outputs": []
    },
    {
      "cell_type": "code",
      "metadata": {
        "id": "vseFQscAm2MW"
      },
      "source": [
        ""
      ],
      "execution_count": null,
      "outputs": []
    },
    {
      "cell_type": "markdown",
      "metadata": {
        "id": "MwldlJxa_Wa2"
      },
      "source": [
        "## Catboost Regressor\n",
        "\n",
        "instal Catboost Regressor"
      ]
    },
    {
      "cell_type": "code",
      "metadata": {
        "id": "DTAP1wKS_LMA",
        "outputId": "55b90a06-2888-4cb2-f5b2-6fc7428540a2",
        "colab": {
          "base_uri": "https://localhost:8080/",
          "height": 212
        }
      },
      "source": [
        "# creating an instance of the catboostregressor\n",
        "cbr_model = CatBoostRegressor(iterations=2,\n",
        "                          learning_rate=1,\n",
        "                          depth=2)"
      ],
      "execution_count": null,
      "outputs": [
        {
          "output_type": "error",
          "ename": "NameError",
          "evalue": "ignored",
          "traceback": [
            "\u001b[0;31m---------------------------------------------------------------------------\u001b[0m",
            "\u001b[0;31mNameError\u001b[0m                                 Traceback (most recent call last)",
            "\u001b[0;32m<ipython-input-456-c136cdfa7d4e>\u001b[0m in \u001b[0;36m<module>\u001b[0;34m()\u001b[0m\n\u001b[1;32m      1\u001b[0m \u001b[0;31m# creating an instance of the catboostregressor\u001b[0m\u001b[0;34m\u001b[0m\u001b[0;34m\u001b[0m\u001b[0;34m\u001b[0m\u001b[0m\n\u001b[0;32m----> 2\u001b[0;31m cbr_model = CatBoostRegressor(iterations=2,\n\u001b[0m\u001b[1;32m      3\u001b[0m                           \u001b[0mlearning_rate\u001b[0m\u001b[0;34m=\u001b[0m\u001b[0;36m1\u001b[0m\u001b[0;34m,\u001b[0m\u001b[0;34m\u001b[0m\u001b[0;34m\u001b[0m\u001b[0m\n\u001b[1;32m      4\u001b[0m                           depth=2)\n",
            "\u001b[0;31mNameError\u001b[0m: name 'CatBoostRegressor' is not defined"
          ]
        }
      ]
    },
    {
      "cell_type": "code",
      "metadata": {
        "id": "3CUjDrC5_LR7",
        "outputId": "d0536059-2afa-4947-bce2-cfd4ee4c972c",
        "colab": {
          "base_uri": "https://localhost:8080/",
          "height": 178
        }
      },
      "source": [
        "# training the catboost regressor model\n",
        "cbr_model.fit(X_train, y_train)"
      ],
      "execution_count": null,
      "outputs": [
        {
          "output_type": "error",
          "ename": "NameError",
          "evalue": "ignored",
          "traceback": [
            "\u001b[0;31m---------------------------------------------------------------------------\u001b[0m",
            "\u001b[0;31mNameError\u001b[0m                                 Traceback (most recent call last)",
            "\u001b[0;32m<ipython-input-457-c7026553e390>\u001b[0m in \u001b[0;36m<module>\u001b[0;34m()\u001b[0m\n\u001b[1;32m      1\u001b[0m \u001b[0;31m# training the catboost regressor model\u001b[0m\u001b[0;34m\u001b[0m\u001b[0;34m\u001b[0m\u001b[0;34m\u001b[0m\u001b[0m\n\u001b[0;32m----> 2\u001b[0;31m \u001b[0mcbr_model\u001b[0m\u001b[0;34m.\u001b[0m\u001b[0mfit\u001b[0m\u001b[0;34m(\u001b[0m\u001b[0mX_train\u001b[0m\u001b[0;34m,\u001b[0m \u001b[0my_train\u001b[0m\u001b[0;34m)\u001b[0m\u001b[0;34m\u001b[0m\u001b[0;34m\u001b[0m\u001b[0m\n\u001b[0m",
            "\u001b[0;31mNameError\u001b[0m: name 'cbr_model' is not defined"
          ]
        }
      ]
    },
    {
      "cell_type": "code",
      "metadata": {
        "id": "FMYi52DA_LUM"
      },
      "source": [
        "# predictions on the validation set\n",
        "val_pred = cbr_model.predict(X_val)\n",
        "val_pred"
      ],
      "execution_count": null,
      "outputs": []
    },
    {
      "cell_type": "code",
      "metadata": {
        "id": "I5MdWbFO_LWN"
      },
      "source": [
        "model_result = rmse(y_val, val_pred)"
      ],
      "execution_count": null,
      "outputs": []
    },
    {
      "cell_type": "code",
      "metadata": {
        "id": "5RRMDfA4_LYq"
      },
      "source": [
        "Checking the model performance\n",
        "best_perfomance(model_result, best_result)"
      ],
      "execution_count": null,
      "outputs": []
    },
    {
      "cell_type": "code",
      "metadata": {
        "id": "4jfNNnqh_Lai"
      },
      "source": [
        ""
      ],
      "execution_count": null,
      "outputs": []
    },
    {
      "cell_type": "markdown",
      "metadata": {
        "id": "H5HUsrWJ_-QZ"
      },
      "source": [
        "## Random Forest Regressor"
      ]
    },
    {
      "cell_type": "code",
      "metadata": {
        "id": "8NbDC5zq_Lc5"
      },
      "source": [
        "# creating a random forest regressor instancce\n",
        "regr = RandomForestRegressor(max_depth=2, random_state=0)"
      ],
      "execution_count": null,
      "outputs": []
    },
    {
      "cell_type": "code",
      "metadata": {
        "id": "-L-hpCcG_Lg5"
      },
      "source": [
        "# train the model\n",
        "regr.fit(X_train, y_train)"
      ],
      "execution_count": null,
      "outputs": []
    },
    {
      "cell_type": "code",
      "metadata": {
        "id": "HEzkGrdl_LjG"
      },
      "source": [
        "# making prdictions for the valdiation set\n",
        "regr.predict(X_val)"
      ],
      "execution_count": null,
      "outputs": []
    },
    {
      "cell_type": "code",
      "metadata": {
        "id": "5Cyr-NxK_Lk7"
      },
      "source": [
        "model_result = rmse(y_val,regr.predict(X_val))"
      ],
      "execution_count": null,
      "outputs": []
    },
    {
      "cell_type": "code",
      "metadata": {
        "id": "1UXy6gJOAR6N"
      },
      "source": [
        "best_perfomance(model_result, best_result)"
      ],
      "execution_count": null,
      "outputs": []
    },
    {
      "cell_type": "code",
      "metadata": {
        "id": "ea24YSC5AR9B"
      },
      "source": [
        ""
      ],
      "execution_count": null,
      "outputs": []
    },
    {
      "cell_type": "markdown",
      "metadata": {
        "id": "RqdQKgvCAeIt"
      },
      "source": [
        "## Decision Tree Regressor"
      ]
    },
    {
      "cell_type": "code",
      "metadata": {
        "id": "qEvkjNXlAR_w"
      },
      "source": [
        "# creating an instance of the DecisionTreeRegressor\n",
        "tree_model = DecisionTreeRegressor(random_state = 0)"
      ],
      "execution_count": null,
      "outputs": []
    },
    {
      "cell_type": "code",
      "metadata": {
        "id": "ngYOE4mLASDG",
        "outputId": "3b58e1ca-2f4b-43a8-f59f-18288279d003",
        "colab": {
          "base_uri": "https://localhost:8080/",
          "height": 118
        }
      },
      "source": [
        "# training the model\n",
        "tree_model.fit(X_train, y_train)"
      ],
      "execution_count": null,
      "outputs": [
        {
          "output_type": "execute_result",
          "data": {
            "text/plain": [
              "DecisionTreeRegressor(ccp_alpha=0.0, criterion='mse', max_depth=None,\n",
              "                      max_features=None, max_leaf_nodes=None,\n",
              "                      min_impurity_decrease=0.0, min_impurity_split=None,\n",
              "                      min_samples_leaf=1, min_samples_split=2,\n",
              "                      min_weight_fraction_leaf=0.0, presort='deprecated',\n",
              "                      random_state=0, splitter='best')"
            ]
          },
          "metadata": {
            "tags": []
          },
          "execution_count": 70
        }
      ]
    },
    {
      "cell_type": "code",
      "metadata": {
        "id": "5w3edAzTARqy",
        "outputId": "f952446e-0b88-4730-dc42-24938c02cbb5",
        "colab": {
          "base_uri": "https://localhost:8080/",
          "height": 34
        }
      },
      "source": [
        "# prediction of the validation set\n",
        "tree_model.predict(X_val)"
      ],
      "execution_count": null,
      "outputs": [
        {
          "output_type": "execute_result",
          "data": {
            "text/plain": [
              "array([1188., 2157., 2270., ..., 1126.,  773., 1236.])"
            ]
          },
          "metadata": {
            "tags": []
          },
          "execution_count": 467
        }
      ]
    },
    {
      "cell_type": "code",
      "metadata": {
        "id": "Rhv7-oUkArm7"
      },
      "source": [
        "model_result = rmse(y_val, tree_model.predict(X_val))"
      ],
      "execution_count": null,
      "outputs": []
    },
    {
      "cell_type": "code",
      "metadata": {
        "id": "MmsiTnDGAtjF",
        "outputId": "b4fe00e2-f7f3-4709-8550-ee645cc6ea6a",
        "colab": {
          "base_uri": "https://localhost:8080/",
          "height": 67
        }
      },
      "source": [
        "best_perfomance(model_result, best_result)"
      ],
      "execution_count": null,
      "outputs": [
        {
          "output_type": "stream",
          "text": [
            "This model performs poorly compared the previous best performing model\n",
            "Best perfomaning model score: 793.3029\n",
            "Model result : 1107.6072\n"
          ],
          "name": "stdout"
        }
      ]
    },
    {
      "cell_type": "code",
      "metadata": {
        "id": "9-alEHAyAtmX"
      },
      "source": [
        ""
      ],
      "execution_count": null,
      "outputs": []
    },
    {
      "cell_type": "markdown",
      "metadata": {
        "id": "Z3CMOm5bA3Cf"
      },
      "source": [
        "## Support Vector Regression"
      ]
    },
    {
      "cell_type": "code",
      "metadata": {
        "id": "TqYzAO_FntBO"
      },
      "source": [
        "# creating instance for scaled X and  scaled y\n",
        "sc_X = StandardScaler()\n",
        "sc_y = StandardScaler()\n",
        "X_scaled = sc_X.fit_transform(X)\n",
        "y_scaled = sc_y.fit_transform(y)\n"
      ],
      "execution_count": null,
      "outputs": []
    },
    {
      "cell_type": "code",
      "metadata": {
        "id": "G25oT5TGnvsp"
      },
      "source": [
        "# splitting the scaled data in to training set and validation set\n",
        "X_train_sc, X_val_sc, y_train_sc, y_val_sc = train_test_split(X_scaled,y_scaled,test_size = 0.3)"
      ],
      "execution_count": null,
      "outputs": []
    },
    {
      "cell_type": "code",
      "metadata": {
        "id": "dTO2yDItAsvQ",
        "outputId": "e83190fa-5f1c-4ffe-ebc6-4ee5615a49e2",
        "colab": {
          "base_uri": "https://localhost:8080/",
          "height": 104
        }
      },
      "source": [
        "# Training the SVR model\n",
        "regressor_svr = SVR(kernel = 'rbf')\n",
        "regressor_svr.fit(X_train_sc, y_train_sc)"
      ],
      "execution_count": null,
      "outputs": [
        {
          "output_type": "stream",
          "text": [
            "/usr/local/lib/python3.6/dist-packages/sklearn/utils/validation.py:760: DataConversionWarning: A column-vector y was passed when a 1d array was expected. Please change the shape of y to (n_samples, ), for example using ravel().\n",
            "  y = column_or_1d(y, warn=True)\n"
          ],
          "name": "stderr"
        },
        {
          "output_type": "execute_result",
          "data": {
            "text/plain": [
              "SVR(C=1.0, cache_size=200, coef0=0.0, degree=3, epsilon=0.1, gamma='scale',\n",
              "    kernel='rbf', max_iter=-1, shrinking=True, tol=0.001, verbose=False)"
            ]
          },
          "metadata": {
            "tags": []
          },
          "execution_count": 473
        }
      ]
    },
    {
      "cell_type": "code",
      "metadata": {
        "id": "JTvY4NV2As2m"
      },
      "source": [
        "# making preditions on the validation test\n",
        "val_pred = sc_y.inverse_transform(regressor_svr.predict(sc_X.transform(X_val_sc)))"
      ],
      "execution_count": null,
      "outputs": []
    },
    {
      "cell_type": "code",
      "metadata": {
        "id": "4OUmAekkAs0a"
      },
      "source": [
        "model_result= rmse(y_val_sc, val_pred)"
      ],
      "execution_count": null,
      "outputs": []
    },
    {
      "cell_type": "code",
      "metadata": {
        "id": "h8pvRHbRAsrT",
        "outputId": "a9150493-accc-4c5b-9c3b-62d17155c734",
        "colab": {
          "base_uri": "https://localhost:8080/",
          "height": 67
        }
      },
      "source": [
        "best_perfomance(model_result, best_result)"
      ],
      "execution_count": null,
      "outputs": [
        {
          "output_type": "stream",
          "text": [
            "This model performs poorly compared the previous best performing model\n",
            "Best perfomaning model score: 793.3029\n",
            "Model result : 2360.9188\n"
          ],
          "name": "stdout"
        }
      ]
    },
    {
      "cell_type": "code",
      "metadata": {
        "id": "0p_QdiN1C4R9"
      },
      "source": [
        ""
      ],
      "execution_count": null,
      "outputs": []
    },
    {
      "cell_type": "markdown",
      "metadata": {
        "id": "xvGxYiR6C6WU"
      },
      "source": [
        "## Ensemble Xgboost best permoming model thus far"
      ]
    },
    {
      "cell_type": "code",
      "metadata": {
        "id": "FovsfY1qoEAO"
      },
      "source": [
        "import xgboost as xgb\n",
        "model_x=xgb.XGBRegressor()"
      ],
      "execution_count": null,
      "outputs": []
    },
    {
      "cell_type": "code",
      "metadata": {
        "id": "m0FyYxK_C4ZC"
      },
      "source": [
        "# Training a Xgboost model\n",
        "\n",
        "model_x.fit(X_train, y_train)"
      ],
      "execution_count": null,
      "outputs": []
    },
    {
      "cell_type": "code",
      "metadata": {
        "id": "wJhPBOhxC4Wz"
      },
      "source": [
        "# Making predictions of the validation data\n",
        "model_x.predict(X_val)\n"
      ],
      "execution_count": null,
      "outputs": []
    },
    {
      "cell_type": "code",
      "metadata": {
        "id": "BdQ3nJ28C4Og"
      },
      "source": [
        "model_result = rmse(y_val, model_x.predict(X_val))"
      ],
      "execution_count": null,
      "outputs": []
    },
    {
      "cell_type": "code",
      "metadata": {
        "id": "4j_VCKWRC4MV"
      },
      "source": [
        "# Cheking the performance\n",
        "best_perfomance(model_result, best_result)"
      ],
      "execution_count": null,
      "outputs": []
    },
    {
      "cell_type": "code",
      "metadata": {
        "id": "kcsTdziXC4Jk"
      },
      "source": [
        "best_result = 769.2752110279656"
      ],
      "execution_count": 116,
      "outputs": []
    },
    {
      "cell_type": "code",
      "metadata": {
        "id": "RQ5sVjjcokmK"
      },
      "source": [
        ""
      ],
      "execution_count": null,
      "outputs": []
    },
    {
      "cell_type": "markdown",
      "metadata": {
        "id": "cNXrc5fhFMY4"
      },
      "source": [
        "## Gradient BoostingRegressor"
      ]
    },
    {
      "cell_type": "code",
      "metadata": {
        "id": "-XOy3yBBE_ri"
      },
      "source": [
        "# creating an instance for the gradient boosting regressor\n",
        "Gbr_model= GradientBoostingRegressor()"
      ],
      "execution_count": null,
      "outputs": []
    },
    {
      "cell_type": "code",
      "metadata": {
        "id": "AjSsTI4UFcko"
      },
      "source": [
        "# training the Gbr_model\n",
        "Gbr_model.fit(X_train, y_train)"
      ],
      "execution_count": null,
      "outputs": []
    },
    {
      "cell_type": "code",
      "metadata": {
        "id": "dH-3_NX3E_w1"
      },
      "source": [
        "model_result = rmse(y_val, val_pred)"
      ],
      "execution_count": null,
      "outputs": []
    },
    {
      "cell_type": "code",
      "metadata": {
        "id": "PserIy1vE_VT"
      },
      "source": [
        "plt.scatter(y_val,val_pred) \n",
        "plt.plot(y_val,y_val,\"r\") # perfect model line\n",
        "plt.ylabel(\"Predicted $y$\")\n",
        "plt.xlabel(\"Actual $y$\")\n",
        "plt.show()"
      ],
      "execution_count": null,
      "outputs": []
    },
    {
      "cell_type": "code",
      "metadata": {
        "id": "U4jfWWXYEtfH"
      },
      "source": [
        "best_perfomance(model_result, best_result)"
      ],
      "execution_count": null,
      "outputs": []
    },
    {
      "cell_type": "code",
      "metadata": {
        "id": "XGiSYxIKFtYB"
      },
      "source": [
        ""
      ],
      "execution_count": null,
      "outputs": []
    },
    {
      "cell_type": "code",
      "metadata": {
        "id": "glqDE8X7Fyb7"
      },
      "source": [
        "# make actualy target variable predictions on the test data\n",
        "X_test\n",
        "y_gbr_pred = Gbr_model.predict(X_test)"
      ],
      "execution_count": null,
      "outputs": []
    },
    {
      "cell_type": "code",
      "metadata": {
        "id": "jcCJa1GmF0_w"
      },
      "source": [
        "submission_gbr = test[['Order No']].copy()\n",
        "submission_gbr['Time from Pickup to Arrival'] = y_gbr_pred"
      ],
      "execution_count": null,
      "outputs": []
    },
    {
      "cell_type": "code",
      "metadata": {
        "id": "-yLs_hfqF3p_"
      },
      "source": [
        "submission_gbr"
      ],
      "execution_count": null,
      "outputs": []
    },
    {
      "cell_type": "code",
      "metadata": {
        "id": "-uNmYUjzF7SS"
      },
      "source": [
        "submission_gbr.to_csv('submission_gbr_ver3.csv', index = False)"
      ],
      "execution_count": null,
      "outputs": []
    },
    {
      "cell_type": "code",
      "metadata": {
        "id": "ngjgdDEoGBLS"
      },
      "source": [
        ""
      ],
      "execution_count": null,
      "outputs": []
    },
    {
      "cell_type": "code",
      "metadata": {
        "id": "34iSV7C6LWM1"
      },
      "source": [
        ""
      ],
      "execution_count": null,
      "outputs": []
    },
    {
      "cell_type": "markdown",
      "metadata": {
        "id": "hZH8ZmcMLXOB"
      },
      "source": [
        "# Tuning the Gradient Boosting Regressor model"
      ]
    },
    {
      "cell_type": "code",
      "metadata": {
        "id": "VpcGSTUFGBG8",
        "outputId": "7455e5de-3d7f-4ef2-e9d7-20af01b5df27",
        "colab": {
          "base_uri": "https://localhost:8080/",
          "height": 437
        }
      },
      "source": [
        "# Features\n",
        "['Platform Type', 'Placement - Day of Month',\n",
        "       'Placement - Weekday (Mo = 1)', 'Placement - Time',\n",
        "       'Confirmation - Day of Month', 'Confirmation - Weekday (Mo = 1)',\n",
        "       'Confirmation - Time', 'Arrival at Pickup - Day of Month',\n",
        "       'Arrival at Pickup - Weekday (Mo = 1)', 'Arrival at Pickup - Time',\n",
        "       'Pickup - Day of Month', 'Pickup - Weekday (Mo = 1)', 'Pickup - Time',\n",
        "       'Distance (KM)', 'Temperature', 'Pickup Lat', 'Pickup Long',\n",
        "       'Destination Lat', 'Destination Long', 'Business', 'Personal',\n",
        "       'No_Of_Orders', 'Age', 'Average_Rating', 'No_of_Ratings']"
      ],
      "execution_count": 73,
      "outputs": [
        {
          "output_type": "execute_result",
          "data": {
            "text/plain": [
              "['Platform Type',\n",
              " 'Placement - Day of Month',\n",
              " 'Placement - Weekday (Mo = 1)',\n",
              " 'Placement - Time',\n",
              " 'Confirmation - Day of Month',\n",
              " 'Confirmation - Weekday (Mo = 1)',\n",
              " 'Confirmation - Time',\n",
              " 'Arrival at Pickup - Day of Month',\n",
              " 'Arrival at Pickup - Weekday (Mo = 1)',\n",
              " 'Arrival at Pickup - Time',\n",
              " 'Pickup - Day of Month',\n",
              " 'Pickup - Weekday (Mo = 1)',\n",
              " 'Pickup - Time',\n",
              " 'Distance (KM)',\n",
              " 'Temperature',\n",
              " 'Pickup Lat',\n",
              " 'Pickup Long',\n",
              " 'Destination Lat',\n",
              " 'Destination Long',\n",
              " 'Business',\n",
              " 'Personal',\n",
              " 'No_Of_Orders',\n",
              " 'Age',\n",
              " 'Average_Rating',\n",
              " 'No_of_Ratings']"
            ]
          },
          "metadata": {
            "tags": []
          },
          "execution_count": 73
        }
      ]
    },
    {
      "cell_type": "code",
      "metadata": {
        "id": "GnlydOiALrt7"
      },
      "source": [
        "train_clean = train.copy()\n",
        "test_clean = test.copy()"
      ],
      "execution_count": 74,
      "outputs": []
    },
    {
      "cell_type": "code",
      "metadata": {
        "id": "J9cTZmwWEmMt",
        "outputId": "468cc031-3b07-49f8-ebc8-f388752448a1",
        "colab": {
          "base_uri": "https://localhost:8080/",
          "height": 34
        }
      },
      "source": [
        "train_clean.shape"
      ],
      "execution_count": 75,
      "outputs": [
        {
          "output_type": "execute_result",
          "data": {
            "text/plain": [
              "(21201, 29)"
            ]
          },
          "metadata": {
            "tags": []
          },
          "execution_count": 75
        }
      ]
    },
    {
      "cell_type": "code",
      "metadata": {
        "id": "Aq5db71tNyLX"
      },
      "source": [
        "#Merge riders dataset to train and test datasets\n",
        "train_clean = pd.merge(train_clean, riders, on=\"Rider Id\", how=\"left\") \n",
        "test_clean = pd.merge(test_clean, riders, on=\"Rider Id\", how=\"left\")"
      ],
      "execution_count": 76,
      "outputs": []
    },
    {
      "cell_type": "code",
      "metadata": {
        "id": "NM8Pd5lnEw1D",
        "outputId": "c259350a-08a1-4938-f6f0-c28726ee092b",
        "colab": {
          "base_uri": "https://localhost:8080/",
          "height": 34
        }
      },
      "source": [
        "train_clean.shape"
      ],
      "execution_count": 77,
      "outputs": [
        {
          "output_type": "execute_result",
          "data": {
            "text/plain": [
              "(21201, 33)"
            ]
          },
          "metadata": {
            "tags": []
          },
          "execution_count": 77
        }
      ]
    },
    {
      "cell_type": "code",
      "metadata": {
        "id": "th5em9etOqGy"
      },
      "source": [
        "# Replace missing values of temperature by average of the column\n",
        "train_clean[\"Temperature\"] = train_clean[\"Temperature\"].fillna(train_clean[\"Temperature\"].mean())\n",
        "test_clean[\"Temperature\"] = test_clean[\"Temperature\"].fillna(test_clean[\"Temperature\"].mean())"
      ],
      "execution_count": 78,
      "outputs": []
    },
    {
      "cell_type": "code",
      "metadata": {
        "id": "4nTZ6TXqE1mq",
        "outputId": "c8296541-9415-4cea-f6c9-98bc91f2bc07",
        "colab": {
          "base_uri": "https://localhost:8080/",
          "height": 34
        }
      },
      "source": [
        "train_clean.shape"
      ],
      "execution_count": 79,
      "outputs": [
        {
          "output_type": "execute_result",
          "data": {
            "text/plain": [
              "(21201, 33)"
            ]
          },
          "metadata": {
            "tags": []
          },
          "execution_count": 79
        }
      ]
    },
    {
      "cell_type": "code",
      "metadata": {
        "id": "3rk6tlmVOqTK"
      },
      "source": [
        "#Drop insignificant columns in both train and test datasets\n",
        "list_drop = [\"Order No\", \"User Id\", \"Vehicle Type\",\n",
        "              \"Precipitation in millimeters\", \"Rider Id\",\n",
        "              \"Vehicle Type\"]\n",
        "#Train\n",
        "train_clean = train_clean.drop(list_drop, axis=1)\n",
        "\n",
        "#Test\n",
        "test_clean = test_clean.drop(list_drop, axis=1)"
      ],
      "execution_count": 80,
      "outputs": []
    },
    {
      "cell_type": "code",
      "metadata": {
        "id": "W_ofKym3E4Hw",
        "outputId": "55149700-d6c6-43f0-aa1b-e7e03d30fe4c",
        "colab": {
          "base_uri": "https://localhost:8080/",
          "height": 34
        }
      },
      "source": [
        "train_clean.shape"
      ],
      "execution_count": 81,
      "outputs": [
        {
          "output_type": "execute_result",
          "data": {
            "text/plain": [
              "(21201, 28)"
            ]
          },
          "metadata": {
            "tags": []
          },
          "execution_count": 81
        }
      ]
    },
    {
      "cell_type": "code",
      "metadata": {
        "id": "vNNP9Y8MNrGr",
        "outputId": "bb54ba2c-8b55-4789-f28d-163bfe8bd845",
        "colab": {
          "base_uri": "https://localhost:8080/",
          "height": 400
        }
      },
      "source": [
        "test_clean.head()"
      ],
      "execution_count": 82,
      "outputs": [
        {
          "output_type": "execute_result",
          "data": {
            "text/html": [
              "<div>\n",
              "<style scoped>\n",
              "    .dataframe tbody tr th:only-of-type {\n",
              "        vertical-align: middle;\n",
              "    }\n",
              "\n",
              "    .dataframe tbody tr th {\n",
              "        vertical-align: top;\n",
              "    }\n",
              "\n",
              "    .dataframe thead th {\n",
              "        text-align: right;\n",
              "    }\n",
              "</style>\n",
              "<table border=\"1\" class=\"dataframe\">\n",
              "  <thead>\n",
              "    <tr style=\"text-align: right;\">\n",
              "      <th></th>\n",
              "      <th>Platform Type</th>\n",
              "      <th>Personal or Business</th>\n",
              "      <th>Placement - Day of Month</th>\n",
              "      <th>Placement - Weekday (Mo = 1)</th>\n",
              "      <th>Placement - Time</th>\n",
              "      <th>Confirmation - Day of Month</th>\n",
              "      <th>Confirmation - Weekday (Mo = 1)</th>\n",
              "      <th>Confirmation - Time</th>\n",
              "      <th>Arrival at Pickup - Day of Month</th>\n",
              "      <th>Arrival at Pickup - Weekday (Mo = 1)</th>\n",
              "      <th>Arrival at Pickup - Time</th>\n",
              "      <th>Pickup - Day of Month</th>\n",
              "      <th>Pickup - Weekday (Mo = 1)</th>\n",
              "      <th>Pickup - Time</th>\n",
              "      <th>Distance (KM)</th>\n",
              "      <th>Temperature</th>\n",
              "      <th>Pickup Lat</th>\n",
              "      <th>Pickup Long</th>\n",
              "      <th>Destination Lat</th>\n",
              "      <th>Destination Long</th>\n",
              "      <th>No_Of_Orders</th>\n",
              "      <th>Age</th>\n",
              "      <th>Average_Rating</th>\n",
              "      <th>No_of_Ratings</th>\n",
              "    </tr>\n",
              "  </thead>\n",
              "  <tbody>\n",
              "    <tr>\n",
              "      <th>0</th>\n",
              "      <td>3</td>\n",
              "      <td>Business</td>\n",
              "      <td>27</td>\n",
              "      <td>3</td>\n",
              "      <td>4:44:10 PM</td>\n",
              "      <td>27</td>\n",
              "      <td>3</td>\n",
              "      <td>4:44:29 PM</td>\n",
              "      <td>27</td>\n",
              "      <td>3</td>\n",
              "      <td>4:53:04 PM</td>\n",
              "      <td>27</td>\n",
              "      <td>3</td>\n",
              "      <td>5:06:47 PM</td>\n",
              "      <td>8</td>\n",
              "      <td>23.24612</td>\n",
              "      <td>-1.333275</td>\n",
              "      <td>36.870815</td>\n",
              "      <td>-1.305249</td>\n",
              "      <td>36.822390</td>\n",
              "      <td>439</td>\n",
              "      <td>1511</td>\n",
              "      <td>13.3</td>\n",
              "      <td>171</td>\n",
              "    </tr>\n",
              "    <tr>\n",
              "      <th>1</th>\n",
              "      <td>3</td>\n",
              "      <td>Business</td>\n",
              "      <td>17</td>\n",
              "      <td>5</td>\n",
              "      <td>12:57:35 PM</td>\n",
              "      <td>17</td>\n",
              "      <td>5</td>\n",
              "      <td>12:59:17 PM</td>\n",
              "      <td>17</td>\n",
              "      <td>5</td>\n",
              "      <td>1:20:27 PM</td>\n",
              "      <td>17</td>\n",
              "      <td>5</td>\n",
              "      <td>1:25:37 PM</td>\n",
              "      <td>5</td>\n",
              "      <td>23.24612</td>\n",
              "      <td>-1.272639</td>\n",
              "      <td>36.794723</td>\n",
              "      <td>-1.277007</td>\n",
              "      <td>36.823907</td>\n",
              "      <td>488</td>\n",
              "      <td>273</td>\n",
              "      <td>14.4</td>\n",
              "      <td>45</td>\n",
              "    </tr>\n",
              "    <tr>\n",
              "      <th>2</th>\n",
              "      <td>3</td>\n",
              "      <td>Business</td>\n",
              "      <td>27</td>\n",
              "      <td>4</td>\n",
              "      <td>11:08:14 AM</td>\n",
              "      <td>27</td>\n",
              "      <td>4</td>\n",
              "      <td>11:25:05 AM</td>\n",
              "      <td>27</td>\n",
              "      <td>4</td>\n",
              "      <td>11:33:20 AM</td>\n",
              "      <td>27</td>\n",
              "      <td>4</td>\n",
              "      <td>11:57:54 AM</td>\n",
              "      <td>5</td>\n",
              "      <td>22.80000</td>\n",
              "      <td>-1.290894</td>\n",
              "      <td>36.822971</td>\n",
              "      <td>-1.276574</td>\n",
              "      <td>36.851365</td>\n",
              "      <td>833</td>\n",
              "      <td>460</td>\n",
              "      <td>13.1</td>\n",
              "      <td>67</td>\n",
              "    </tr>\n",
              "    <tr>\n",
              "      <th>3</th>\n",
              "      <td>3</td>\n",
              "      <td>Business</td>\n",
              "      <td>17</td>\n",
              "      <td>1</td>\n",
              "      <td>1:51:35 PM</td>\n",
              "      <td>17</td>\n",
              "      <td>1</td>\n",
              "      <td>1:53:27 PM</td>\n",
              "      <td>17</td>\n",
              "      <td>1</td>\n",
              "      <td>2:02:41 PM</td>\n",
              "      <td>17</td>\n",
              "      <td>1</td>\n",
              "      <td>2:16:52 PM</td>\n",
              "      <td>5</td>\n",
              "      <td>24.50000</td>\n",
              "      <td>-1.290503</td>\n",
              "      <td>36.809646</td>\n",
              "      <td>-1.303382</td>\n",
              "      <td>36.790658</td>\n",
              "      <td>487</td>\n",
              "      <td>560</td>\n",
              "      <td>13.7</td>\n",
              "      <td>44</td>\n",
              "    </tr>\n",
              "    <tr>\n",
              "      <th>4</th>\n",
              "      <td>3</td>\n",
              "      <td>Business</td>\n",
              "      <td>11</td>\n",
              "      <td>2</td>\n",
              "      <td>11:30:28 AM</td>\n",
              "      <td>11</td>\n",
              "      <td>2</td>\n",
              "      <td>11:34:45 AM</td>\n",
              "      <td>11</td>\n",
              "      <td>2</td>\n",
              "      <td>11:47:19 AM</td>\n",
              "      <td>11</td>\n",
              "      <td>2</td>\n",
              "      <td>11:56:04 AM</td>\n",
              "      <td>6</td>\n",
              "      <td>24.40000</td>\n",
              "      <td>-1.281081</td>\n",
              "      <td>36.814423</td>\n",
              "      <td>-1.266467</td>\n",
              "      <td>36.792161</td>\n",
              "      <td>4761</td>\n",
              "      <td>1120</td>\n",
              "      <td>14.1</td>\n",
              "      <td>1010</td>\n",
              "    </tr>\n",
              "  </tbody>\n",
              "</table>\n",
              "</div>"
            ],
            "text/plain": [
              "   Platform Type Personal or Business  ...  Average_Rating  No_of_Ratings\n",
              "0              3             Business  ...            13.3            171\n",
              "1              3             Business  ...            14.4             45\n",
              "2              3             Business  ...            13.1             67\n",
              "3              3             Business  ...            13.7             44\n",
              "4              3             Business  ...            14.1           1010\n",
              "\n",
              "[5 rows x 24 columns]"
            ]
          },
          "metadata": {
            "tags": []
          },
          "execution_count": 82
        }
      ]
    },
    {
      "cell_type": "code",
      "metadata": {
        "id": "U977M6_POqQa",
        "outputId": "38d61a21-4517-4a9a-ed3d-159a3dc0706c",
        "colab": {
          "base_uri": "https://localhost:8080/",
          "height": 400
        }
      },
      "source": [
        "train_clean.head()"
      ],
      "execution_count": 83,
      "outputs": [
        {
          "output_type": "execute_result",
          "data": {
            "text/html": [
              "<div>\n",
              "<style scoped>\n",
              "    .dataframe tbody tr th:only-of-type {\n",
              "        vertical-align: middle;\n",
              "    }\n",
              "\n",
              "    .dataframe tbody tr th {\n",
              "        vertical-align: top;\n",
              "    }\n",
              "\n",
              "    .dataframe thead th {\n",
              "        text-align: right;\n",
              "    }\n",
              "</style>\n",
              "<table border=\"1\" class=\"dataframe\">\n",
              "  <thead>\n",
              "    <tr style=\"text-align: right;\">\n",
              "      <th></th>\n",
              "      <th>Platform Type</th>\n",
              "      <th>Personal or Business</th>\n",
              "      <th>Placement - Day of Month</th>\n",
              "      <th>Placement - Weekday (Mo = 1)</th>\n",
              "      <th>Placement - Time</th>\n",
              "      <th>Confirmation - Day of Month</th>\n",
              "      <th>Confirmation - Weekday (Mo = 1)</th>\n",
              "      <th>Confirmation - Time</th>\n",
              "      <th>Arrival at Pickup - Day of Month</th>\n",
              "      <th>Arrival at Pickup - Weekday (Mo = 1)</th>\n",
              "      <th>Arrival at Pickup - Time</th>\n",
              "      <th>Pickup - Day of Month</th>\n",
              "      <th>Pickup - Weekday (Mo = 1)</th>\n",
              "      <th>Pickup - Time</th>\n",
              "      <th>Arrival at Destination - Day of Month</th>\n",
              "      <th>Arrival at Destination - Weekday (Mo = 1)</th>\n",
              "      <th>Arrival at Destination - Time</th>\n",
              "      <th>Distance (KM)</th>\n",
              "      <th>Temperature</th>\n",
              "      <th>Pickup Lat</th>\n",
              "      <th>Pickup Long</th>\n",
              "      <th>Destination Lat</th>\n",
              "      <th>Destination Long</th>\n",
              "      <th>Time from Pickup to Arrival</th>\n",
              "      <th>No_Of_Orders</th>\n",
              "      <th>Age</th>\n",
              "      <th>Average_Rating</th>\n",
              "      <th>No_of_Ratings</th>\n",
              "    </tr>\n",
              "  </thead>\n",
              "  <tbody>\n",
              "    <tr>\n",
              "      <th>0</th>\n",
              "      <td>3</td>\n",
              "      <td>Business</td>\n",
              "      <td>9</td>\n",
              "      <td>5</td>\n",
              "      <td>9:35:46 AM</td>\n",
              "      <td>9</td>\n",
              "      <td>5</td>\n",
              "      <td>9:40:10 AM</td>\n",
              "      <td>9</td>\n",
              "      <td>5</td>\n",
              "      <td>10:04:47 AM</td>\n",
              "      <td>9</td>\n",
              "      <td>5</td>\n",
              "      <td>10:27:30 AM</td>\n",
              "      <td>9</td>\n",
              "      <td>5</td>\n",
              "      <td>10:39:55 AM</td>\n",
              "      <td>4</td>\n",
              "      <td>20.400000</td>\n",
              "      <td>-1.317755</td>\n",
              "      <td>36.830370</td>\n",
              "      <td>-1.300406</td>\n",
              "      <td>36.829741</td>\n",
              "      <td>745</td>\n",
              "      <td>1637</td>\n",
              "      <td>1309</td>\n",
              "      <td>13.8</td>\n",
              "      <td>549</td>\n",
              "    </tr>\n",
              "    <tr>\n",
              "      <th>1</th>\n",
              "      <td>3</td>\n",
              "      <td>Personal</td>\n",
              "      <td>12</td>\n",
              "      <td>5</td>\n",
              "      <td>11:16:16 AM</td>\n",
              "      <td>12</td>\n",
              "      <td>5</td>\n",
              "      <td>11:23:21 AM</td>\n",
              "      <td>12</td>\n",
              "      <td>5</td>\n",
              "      <td>11:40:22 AM</td>\n",
              "      <td>12</td>\n",
              "      <td>5</td>\n",
              "      <td>11:44:09 AM</td>\n",
              "      <td>12</td>\n",
              "      <td>5</td>\n",
              "      <td>12:17:22 PM</td>\n",
              "      <td>16</td>\n",
              "      <td>26.400000</td>\n",
              "      <td>-1.351453</td>\n",
              "      <td>36.899315</td>\n",
              "      <td>-1.295004</td>\n",
              "      <td>36.814358</td>\n",
              "      <td>1993</td>\n",
              "      <td>396</td>\n",
              "      <td>339</td>\n",
              "      <td>13.6</td>\n",
              "      <td>69</td>\n",
              "    </tr>\n",
              "    <tr>\n",
              "      <th>2</th>\n",
              "      <td>3</td>\n",
              "      <td>Business</td>\n",
              "      <td>30</td>\n",
              "      <td>2</td>\n",
              "      <td>12:39:25 PM</td>\n",
              "      <td>30</td>\n",
              "      <td>2</td>\n",
              "      <td>12:42:44 PM</td>\n",
              "      <td>30</td>\n",
              "      <td>2</td>\n",
              "      <td>12:49:34 PM</td>\n",
              "      <td>30</td>\n",
              "      <td>2</td>\n",
              "      <td>12:53:03 PM</td>\n",
              "      <td>30</td>\n",
              "      <td>2</td>\n",
              "      <td>1:00:38 PM</td>\n",
              "      <td>3</td>\n",
              "      <td>23.258889</td>\n",
              "      <td>-1.308284</td>\n",
              "      <td>36.843419</td>\n",
              "      <td>-1.300921</td>\n",
              "      <td>36.828195</td>\n",
              "      <td>455</td>\n",
              "      <td>1023</td>\n",
              "      <td>242</td>\n",
              "      <td>12.5</td>\n",
              "      <td>114</td>\n",
              "    </tr>\n",
              "    <tr>\n",
              "      <th>3</th>\n",
              "      <td>3</td>\n",
              "      <td>Business</td>\n",
              "      <td>15</td>\n",
              "      <td>5</td>\n",
              "      <td>9:25:34 AM</td>\n",
              "      <td>15</td>\n",
              "      <td>5</td>\n",
              "      <td>9:26:05 AM</td>\n",
              "      <td>15</td>\n",
              "      <td>5</td>\n",
              "      <td>9:37:56 AM</td>\n",
              "      <td>15</td>\n",
              "      <td>5</td>\n",
              "      <td>9:43:06 AM</td>\n",
              "      <td>15</td>\n",
              "      <td>5</td>\n",
              "      <td>10:05:27 AM</td>\n",
              "      <td>9</td>\n",
              "      <td>19.200000</td>\n",
              "      <td>-1.281301</td>\n",
              "      <td>36.832396</td>\n",
              "      <td>-1.257147</td>\n",
              "      <td>36.795063</td>\n",
              "      <td>1341</td>\n",
              "      <td>886</td>\n",
              "      <td>283</td>\n",
              "      <td>14.5</td>\n",
              "      <td>113</td>\n",
              "    </tr>\n",
              "    <tr>\n",
              "      <th>4</th>\n",
              "      <td>1</td>\n",
              "      <td>Personal</td>\n",
              "      <td>13</td>\n",
              "      <td>1</td>\n",
              "      <td>9:55:18 AM</td>\n",
              "      <td>13</td>\n",
              "      <td>1</td>\n",
              "      <td>9:56:18 AM</td>\n",
              "      <td>13</td>\n",
              "      <td>1</td>\n",
              "      <td>10:03:53 AM</td>\n",
              "      <td>13</td>\n",
              "      <td>1</td>\n",
              "      <td>10:05:23 AM</td>\n",
              "      <td>13</td>\n",
              "      <td>1</td>\n",
              "      <td>10:25:37 AM</td>\n",
              "      <td>9</td>\n",
              "      <td>15.400000</td>\n",
              "      <td>-1.266597</td>\n",
              "      <td>36.792118</td>\n",
              "      <td>-1.295041</td>\n",
              "      <td>36.809817</td>\n",
              "      <td>1214</td>\n",
              "      <td>2311</td>\n",
              "      <td>872</td>\n",
              "      <td>14.1</td>\n",
              "      <td>533</td>\n",
              "    </tr>\n",
              "  </tbody>\n",
              "</table>\n",
              "</div>"
            ],
            "text/plain": [
              "   Platform Type Personal or Business  ...  Average_Rating  No_of_Ratings\n",
              "0              3             Business  ...            13.8            549\n",
              "1              3             Personal  ...            13.6             69\n",
              "2              3             Business  ...            12.5            114\n",
              "3              3             Business  ...            14.5            113\n",
              "4              1             Personal  ...            14.1            533\n",
              "\n",
              "[5 rows x 28 columns]"
            ]
          },
          "metadata": {
            "tags": []
          },
          "execution_count": 83
        }
      ]
    },
    {
      "cell_type": "code",
      "metadata": {
        "id": "twm5eNhUOqOP"
      },
      "source": [
        "# Convert time from object to datetime datatype\n",
        "\n",
        "#Train\n",
        "train_clean[\"Placement - Time\"] = pd.to_datetime(train_clean[\"Placement - Time\"])\n",
        "train_clean[\"Confirmation - Time\"] = pd.to_datetime(train_clean[\"Confirmation - Time\"])\n",
        "train_clean[\"Pickup - Time\"] = pd.to_datetime(train_clean[\"Pickup - Time\"])\n",
        "train_clean[\"Arrival at Destination - Time\"] = pd.to_datetime(train_clean[\"Arrival at Destination - Time\"])\n",
        "train_clean[\"Arrival at Pickup - Time\"] = pd.to_datetime(train_clean[\"Arrival at Pickup - Time\"])\n",
        "\n",
        "#Test\n",
        "test_clean[\"Placement - Time\"] = pd.to_datetime(test_clean[\"Placement - Time\"])\n",
        "test_clean[\"Confirmation - Time\"] = pd.to_datetime(test_clean[\"Confirmation - Time\"])\n",
        "test_clean[\"Pickup - Time\"] = pd.to_datetime(test_clean[\"Pickup - Time\"])\n",
        "#test_clean[\"Arrival at Destination - Time\"] = pd.to_datetime(test_clean[\"Arrival at Destination - Time\"]) -> not in test data\n",
        "test_clean[\"Arrival at Pickup - Time\"] = pd.to_datetime(test_clean[\"Arrival at Pickup - Time\"])"
      ],
      "execution_count": 84,
      "outputs": []
    },
    {
      "cell_type": "code",
      "metadata": {
        "id": "BWANu9IoE_u2",
        "outputId": "fdc0dd27-b930-4570-d564-a244f1deb323",
        "colab": {
          "base_uri": "https://localhost:8080/",
          "height": 34
        }
      },
      "source": [
        "train_clean.shape"
      ],
      "execution_count": 85,
      "outputs": [
        {
          "output_type": "execute_result",
          "data": {
            "text/plain": [
              "(21201, 28)"
            ]
          },
          "metadata": {
            "tags": []
          },
          "execution_count": 85
        }
      ]
    },
    {
      "cell_type": "code",
      "metadata": {
        "id": "7iBNr2dSRKBE",
        "outputId": "ad089e1f-d799-4b7d-a451-76ae35e92a89",
        "colab": {
          "base_uri": "https://localhost:8080/",
          "height": 504
        }
      },
      "source": [
        "train_clean.isnull().sum()"
      ],
      "execution_count": 86,
      "outputs": [
        {
          "output_type": "execute_result",
          "data": {
            "text/plain": [
              "Platform Type                                0\n",
              "Personal or Business                         0\n",
              "Placement - Day of Month                     0\n",
              "Placement - Weekday (Mo = 1)                 0\n",
              "Placement - Time                             0\n",
              "Confirmation - Day of Month                  0\n",
              "Confirmation - Weekday (Mo = 1)              0\n",
              "Confirmation - Time                          0\n",
              "Arrival at Pickup - Day of Month             0\n",
              "Arrival at Pickup - Weekday (Mo = 1)         0\n",
              "Arrival at Pickup - Time                     0\n",
              "Pickup - Day of Month                        0\n",
              "Pickup - Weekday (Mo = 1)                    0\n",
              "Pickup - Time                                0\n",
              "Arrival at Destination - Day of Month        0\n",
              "Arrival at Destination - Weekday (Mo = 1)    0\n",
              "Arrival at Destination - Time                0\n",
              "Distance (KM)                                0\n",
              "Temperature                                  0\n",
              "Pickup Lat                                   0\n",
              "Pickup Long                                  0\n",
              "Destination Lat                              0\n",
              "Destination Long                             0\n",
              "Time from Pickup to Arrival                  0\n",
              "No_Of_Orders                                 0\n",
              "Age                                          0\n",
              "Average_Rating                               0\n",
              "No_of_Ratings                                0\n",
              "dtype: int64"
            ]
          },
          "metadata": {
            "tags": []
          },
          "execution_count": 86
        }
      ]
    },
    {
      "cell_type": "code",
      "metadata": {
        "id": "_8KiGC8JEA4V",
        "outputId": "8bafaebf-c23b-4c59-c4f9-a02797f98957",
        "colab": {
          "base_uri": "https://localhost:8080/",
          "height": 34
        }
      },
      "source": [
        "train_clean.shape"
      ],
      "execution_count": 87,
      "outputs": [
        {
          "output_type": "execute_result",
          "data": {
            "text/plain": [
              "(21201, 28)"
            ]
          },
          "metadata": {
            "tags": []
          },
          "execution_count": 87
        }
      ]
    },
    {
      "cell_type": "code",
      "metadata": {
        "id": "3nxpiBCGSu6O"
      },
      "source": [
        "#Drop the missing observation in the train data\n",
        "#train_clean = train_clean.dropna(axis=0, how='any', thresh=None, subset=None, inplace=False)"
      ],
      "execution_count": 88,
      "outputs": []
    },
    {
      "cell_type": "code",
      "metadata": {
        "id": "ZBRD01OJUcsO",
        "outputId": "8aa8c497-e5c3-47d2-9a00-1d81ad1c2dc9",
        "colab": {
          "base_uri": "https://localhost:8080/",
          "height": 504
        }
      },
      "source": [
        "train_clean.isnull().sum()"
      ],
      "execution_count": 89,
      "outputs": [
        {
          "output_type": "execute_result",
          "data": {
            "text/plain": [
              "Platform Type                                0\n",
              "Personal or Business                         0\n",
              "Placement - Day of Month                     0\n",
              "Placement - Weekday (Mo = 1)                 0\n",
              "Placement - Time                             0\n",
              "Confirmation - Day of Month                  0\n",
              "Confirmation - Weekday (Mo = 1)              0\n",
              "Confirmation - Time                          0\n",
              "Arrival at Pickup - Day of Month             0\n",
              "Arrival at Pickup - Weekday (Mo = 1)         0\n",
              "Arrival at Pickup - Time                     0\n",
              "Pickup - Day of Month                        0\n",
              "Pickup - Weekday (Mo = 1)                    0\n",
              "Pickup - Time                                0\n",
              "Arrival at Destination - Day of Month        0\n",
              "Arrival at Destination - Weekday (Mo = 1)    0\n",
              "Arrival at Destination - Time                0\n",
              "Distance (KM)                                0\n",
              "Temperature                                  0\n",
              "Pickup Lat                                   0\n",
              "Pickup Long                                  0\n",
              "Destination Lat                              0\n",
              "Destination Long                             0\n",
              "Time from Pickup to Arrival                  0\n",
              "No_Of_Orders                                 0\n",
              "Age                                          0\n",
              "Average_Rating                               0\n",
              "No_of_Ratings                                0\n",
              "dtype: int64"
            ]
          },
          "metadata": {
            "tags": []
          },
          "execution_count": 89
        }
      ]
    },
    {
      "cell_type": "code",
      "metadata": {
        "id": "vU5aRRkLOqBe"
      },
      "source": [
        "# Convert time from datetime to int64 datatype\n",
        "\n",
        "#Train\n",
        "train_clean[\"Placement - Time\"] = train_clean[\"Placement - Time\"].astype('int64')\n",
        "train_clean[\"Confirmation - Time\"] = train_clean[\"Confirmation - Time\"].astype('int64')\n",
        "train_clean[\"Pickup - Time\"] = train_clean[\"Pickup - Time\"].astype('int64')\n",
        "train_clean[\"Arrival at Destination - Time\"] = train_clean[\"Arrival at Destination - Time\"].astype('int64')\n",
        "train_clean[\"Arrival at Pickup - Time\"] = train_clean[\"Arrival at Pickup - Time\"].astype('int64')\n",
        "\n",
        "#Test\n",
        "test_clean[\"Placement - Time\"] = test_clean[\"Placement - Time\"].astype('int64')\n",
        "test_clean[\"Confirmation - Time\"] = test_clean[\"Confirmation - Time\"].astype('int64')\n",
        "test_clean[\"Pickup - Time\"] = test_clean[\"Pickup - Time\"].astype('int64')\n",
        "#test_clean[\"Arrival at Destination - Time\"] = test_clean[\"Arrival at Destination - Time\"].astype('int64')\n",
        "test_clean[\"Arrival at Pickup - Time\"] = test_clean[\"Arrival at Pickup - Time\"].astype('int64')"
      ],
      "execution_count": 90,
      "outputs": []
    },
    {
      "cell_type": "code",
      "metadata": {
        "id": "iE-XL-ZyFbbZ",
        "outputId": "6fd253ce-c8a8-4b70-b4e1-6dd6da4f04ba",
        "colab": {
          "base_uri": "https://localhost:8080/",
          "height": 34
        }
      },
      "source": [
        "train_clean.shape"
      ],
      "execution_count": 91,
      "outputs": [
        {
          "output_type": "execute_result",
          "data": {
            "text/plain": [
              "(21201, 28)"
            ]
          },
          "metadata": {
            "tags": []
          },
          "execution_count": 91
        }
      ]
    },
    {
      "cell_type": "code",
      "metadata": {
        "id": "Z0ad12psOp-u",
        "outputId": "23697d83-fe11-4e2c-9343-1210627b95df",
        "colab": {
          "base_uri": "https://localhost:8080/",
          "height": 316
        }
      },
      "source": [
        "test_clean.head()"
      ],
      "execution_count": 92,
      "outputs": [
        {
          "output_type": "execute_result",
          "data": {
            "text/html": [
              "<div>\n",
              "<style scoped>\n",
              "    .dataframe tbody tr th:only-of-type {\n",
              "        vertical-align: middle;\n",
              "    }\n",
              "\n",
              "    .dataframe tbody tr th {\n",
              "        vertical-align: top;\n",
              "    }\n",
              "\n",
              "    .dataframe thead th {\n",
              "        text-align: right;\n",
              "    }\n",
              "</style>\n",
              "<table border=\"1\" class=\"dataframe\">\n",
              "  <thead>\n",
              "    <tr style=\"text-align: right;\">\n",
              "      <th></th>\n",
              "      <th>Platform Type</th>\n",
              "      <th>Personal or Business</th>\n",
              "      <th>Placement - Day of Month</th>\n",
              "      <th>Placement - Weekday (Mo = 1)</th>\n",
              "      <th>Placement - Time</th>\n",
              "      <th>Confirmation - Day of Month</th>\n",
              "      <th>Confirmation - Weekday (Mo = 1)</th>\n",
              "      <th>Confirmation - Time</th>\n",
              "      <th>Arrival at Pickup - Day of Month</th>\n",
              "      <th>Arrival at Pickup - Weekday (Mo = 1)</th>\n",
              "      <th>Arrival at Pickup - Time</th>\n",
              "      <th>Pickup - Day of Month</th>\n",
              "      <th>Pickup - Weekday (Mo = 1)</th>\n",
              "      <th>Pickup - Time</th>\n",
              "      <th>Distance (KM)</th>\n",
              "      <th>Temperature</th>\n",
              "      <th>Pickup Lat</th>\n",
              "      <th>Pickup Long</th>\n",
              "      <th>Destination Lat</th>\n",
              "      <th>Destination Long</th>\n",
              "      <th>No_Of_Orders</th>\n",
              "      <th>Age</th>\n",
              "      <th>Average_Rating</th>\n",
              "      <th>No_of_Ratings</th>\n",
              "    </tr>\n",
              "  </thead>\n",
              "  <tbody>\n",
              "    <tr>\n",
              "      <th>0</th>\n",
              "      <td>3</td>\n",
              "      <td>Business</td>\n",
              "      <td>27</td>\n",
              "      <td>3</td>\n",
              "      <td>1602693850000000000</td>\n",
              "      <td>27</td>\n",
              "      <td>3</td>\n",
              "      <td>1602693869000000000</td>\n",
              "      <td>27</td>\n",
              "      <td>3</td>\n",
              "      <td>1602694384000000000</td>\n",
              "      <td>27</td>\n",
              "      <td>3</td>\n",
              "      <td>1602695207000000000</td>\n",
              "      <td>8</td>\n",
              "      <td>23.24612</td>\n",
              "      <td>-1.333275</td>\n",
              "      <td>36.870815</td>\n",
              "      <td>-1.305249</td>\n",
              "      <td>36.822390</td>\n",
              "      <td>439</td>\n",
              "      <td>1511</td>\n",
              "      <td>13.3</td>\n",
              "      <td>171</td>\n",
              "    </tr>\n",
              "    <tr>\n",
              "      <th>1</th>\n",
              "      <td>3</td>\n",
              "      <td>Business</td>\n",
              "      <td>17</td>\n",
              "      <td>5</td>\n",
              "      <td>1602680255000000000</td>\n",
              "      <td>17</td>\n",
              "      <td>5</td>\n",
              "      <td>1602680357000000000</td>\n",
              "      <td>17</td>\n",
              "      <td>5</td>\n",
              "      <td>1602681627000000000</td>\n",
              "      <td>17</td>\n",
              "      <td>5</td>\n",
              "      <td>1602681937000000000</td>\n",
              "      <td>5</td>\n",
              "      <td>23.24612</td>\n",
              "      <td>-1.272639</td>\n",
              "      <td>36.794723</td>\n",
              "      <td>-1.277007</td>\n",
              "      <td>36.823907</td>\n",
              "      <td>488</td>\n",
              "      <td>273</td>\n",
              "      <td>14.4</td>\n",
              "      <td>45</td>\n",
              "    </tr>\n",
              "    <tr>\n",
              "      <th>2</th>\n",
              "      <td>3</td>\n",
              "      <td>Business</td>\n",
              "      <td>27</td>\n",
              "      <td>4</td>\n",
              "      <td>1602673694000000000</td>\n",
              "      <td>27</td>\n",
              "      <td>4</td>\n",
              "      <td>1602674705000000000</td>\n",
              "      <td>27</td>\n",
              "      <td>4</td>\n",
              "      <td>1602675200000000000</td>\n",
              "      <td>27</td>\n",
              "      <td>4</td>\n",
              "      <td>1602676674000000000</td>\n",
              "      <td>5</td>\n",
              "      <td>22.80000</td>\n",
              "      <td>-1.290894</td>\n",
              "      <td>36.822971</td>\n",
              "      <td>-1.276574</td>\n",
              "      <td>36.851365</td>\n",
              "      <td>833</td>\n",
              "      <td>460</td>\n",
              "      <td>13.1</td>\n",
              "      <td>67</td>\n",
              "    </tr>\n",
              "    <tr>\n",
              "      <th>3</th>\n",
              "      <td>3</td>\n",
              "      <td>Business</td>\n",
              "      <td>17</td>\n",
              "      <td>1</td>\n",
              "      <td>1602683495000000000</td>\n",
              "      <td>17</td>\n",
              "      <td>1</td>\n",
              "      <td>1602683607000000000</td>\n",
              "      <td>17</td>\n",
              "      <td>1</td>\n",
              "      <td>1602684161000000000</td>\n",
              "      <td>17</td>\n",
              "      <td>1</td>\n",
              "      <td>1602685012000000000</td>\n",
              "      <td>5</td>\n",
              "      <td>24.50000</td>\n",
              "      <td>-1.290503</td>\n",
              "      <td>36.809646</td>\n",
              "      <td>-1.303382</td>\n",
              "      <td>36.790658</td>\n",
              "      <td>487</td>\n",
              "      <td>560</td>\n",
              "      <td>13.7</td>\n",
              "      <td>44</td>\n",
              "    </tr>\n",
              "    <tr>\n",
              "      <th>4</th>\n",
              "      <td>3</td>\n",
              "      <td>Business</td>\n",
              "      <td>11</td>\n",
              "      <td>2</td>\n",
              "      <td>1602675028000000000</td>\n",
              "      <td>11</td>\n",
              "      <td>2</td>\n",
              "      <td>1602675285000000000</td>\n",
              "      <td>11</td>\n",
              "      <td>2</td>\n",
              "      <td>1602676039000000000</td>\n",
              "      <td>11</td>\n",
              "      <td>2</td>\n",
              "      <td>1602676564000000000</td>\n",
              "      <td>6</td>\n",
              "      <td>24.40000</td>\n",
              "      <td>-1.281081</td>\n",
              "      <td>36.814423</td>\n",
              "      <td>-1.266467</td>\n",
              "      <td>36.792161</td>\n",
              "      <td>4761</td>\n",
              "      <td>1120</td>\n",
              "      <td>14.1</td>\n",
              "      <td>1010</td>\n",
              "    </tr>\n",
              "  </tbody>\n",
              "</table>\n",
              "</div>"
            ],
            "text/plain": [
              "   Platform Type Personal or Business  ...  Average_Rating  No_of_Ratings\n",
              "0              3             Business  ...            13.3            171\n",
              "1              3             Business  ...            14.4             45\n",
              "2              3             Business  ...            13.1             67\n",
              "3              3             Business  ...            13.7             44\n",
              "4              3             Business  ...            14.1           1010\n",
              "\n",
              "[5 rows x 24 columns]"
            ]
          },
          "metadata": {
            "tags": []
          },
          "execution_count": 92
        }
      ]
    },
    {
      "cell_type": "code",
      "metadata": {
        "id": "sSPeE291Op8b",
        "outputId": "c1b2f04b-e2a2-4b37-a6df-21a1330c0391",
        "colab": {
          "base_uri": "https://localhost:8080/",
          "height": 316
        }
      },
      "source": [
        "test_clean.head()"
      ],
      "execution_count": 93,
      "outputs": [
        {
          "output_type": "execute_result",
          "data": {
            "text/html": [
              "<div>\n",
              "<style scoped>\n",
              "    .dataframe tbody tr th:only-of-type {\n",
              "        vertical-align: middle;\n",
              "    }\n",
              "\n",
              "    .dataframe tbody tr th {\n",
              "        vertical-align: top;\n",
              "    }\n",
              "\n",
              "    .dataframe thead th {\n",
              "        text-align: right;\n",
              "    }\n",
              "</style>\n",
              "<table border=\"1\" class=\"dataframe\">\n",
              "  <thead>\n",
              "    <tr style=\"text-align: right;\">\n",
              "      <th></th>\n",
              "      <th>Platform Type</th>\n",
              "      <th>Personal or Business</th>\n",
              "      <th>Placement - Day of Month</th>\n",
              "      <th>Placement - Weekday (Mo = 1)</th>\n",
              "      <th>Placement - Time</th>\n",
              "      <th>Confirmation - Day of Month</th>\n",
              "      <th>Confirmation - Weekday (Mo = 1)</th>\n",
              "      <th>Confirmation - Time</th>\n",
              "      <th>Arrival at Pickup - Day of Month</th>\n",
              "      <th>Arrival at Pickup - Weekday (Mo = 1)</th>\n",
              "      <th>Arrival at Pickup - Time</th>\n",
              "      <th>Pickup - Day of Month</th>\n",
              "      <th>Pickup - Weekday (Mo = 1)</th>\n",
              "      <th>Pickup - Time</th>\n",
              "      <th>Distance (KM)</th>\n",
              "      <th>Temperature</th>\n",
              "      <th>Pickup Lat</th>\n",
              "      <th>Pickup Long</th>\n",
              "      <th>Destination Lat</th>\n",
              "      <th>Destination Long</th>\n",
              "      <th>No_Of_Orders</th>\n",
              "      <th>Age</th>\n",
              "      <th>Average_Rating</th>\n",
              "      <th>No_of_Ratings</th>\n",
              "    </tr>\n",
              "  </thead>\n",
              "  <tbody>\n",
              "    <tr>\n",
              "      <th>0</th>\n",
              "      <td>3</td>\n",
              "      <td>Business</td>\n",
              "      <td>27</td>\n",
              "      <td>3</td>\n",
              "      <td>1602693850000000000</td>\n",
              "      <td>27</td>\n",
              "      <td>3</td>\n",
              "      <td>1602693869000000000</td>\n",
              "      <td>27</td>\n",
              "      <td>3</td>\n",
              "      <td>1602694384000000000</td>\n",
              "      <td>27</td>\n",
              "      <td>3</td>\n",
              "      <td>1602695207000000000</td>\n",
              "      <td>8</td>\n",
              "      <td>23.24612</td>\n",
              "      <td>-1.333275</td>\n",
              "      <td>36.870815</td>\n",
              "      <td>-1.305249</td>\n",
              "      <td>36.822390</td>\n",
              "      <td>439</td>\n",
              "      <td>1511</td>\n",
              "      <td>13.3</td>\n",
              "      <td>171</td>\n",
              "    </tr>\n",
              "    <tr>\n",
              "      <th>1</th>\n",
              "      <td>3</td>\n",
              "      <td>Business</td>\n",
              "      <td>17</td>\n",
              "      <td>5</td>\n",
              "      <td>1602680255000000000</td>\n",
              "      <td>17</td>\n",
              "      <td>5</td>\n",
              "      <td>1602680357000000000</td>\n",
              "      <td>17</td>\n",
              "      <td>5</td>\n",
              "      <td>1602681627000000000</td>\n",
              "      <td>17</td>\n",
              "      <td>5</td>\n",
              "      <td>1602681937000000000</td>\n",
              "      <td>5</td>\n",
              "      <td>23.24612</td>\n",
              "      <td>-1.272639</td>\n",
              "      <td>36.794723</td>\n",
              "      <td>-1.277007</td>\n",
              "      <td>36.823907</td>\n",
              "      <td>488</td>\n",
              "      <td>273</td>\n",
              "      <td>14.4</td>\n",
              "      <td>45</td>\n",
              "    </tr>\n",
              "    <tr>\n",
              "      <th>2</th>\n",
              "      <td>3</td>\n",
              "      <td>Business</td>\n",
              "      <td>27</td>\n",
              "      <td>4</td>\n",
              "      <td>1602673694000000000</td>\n",
              "      <td>27</td>\n",
              "      <td>4</td>\n",
              "      <td>1602674705000000000</td>\n",
              "      <td>27</td>\n",
              "      <td>4</td>\n",
              "      <td>1602675200000000000</td>\n",
              "      <td>27</td>\n",
              "      <td>4</td>\n",
              "      <td>1602676674000000000</td>\n",
              "      <td>5</td>\n",
              "      <td>22.80000</td>\n",
              "      <td>-1.290894</td>\n",
              "      <td>36.822971</td>\n",
              "      <td>-1.276574</td>\n",
              "      <td>36.851365</td>\n",
              "      <td>833</td>\n",
              "      <td>460</td>\n",
              "      <td>13.1</td>\n",
              "      <td>67</td>\n",
              "    </tr>\n",
              "    <tr>\n",
              "      <th>3</th>\n",
              "      <td>3</td>\n",
              "      <td>Business</td>\n",
              "      <td>17</td>\n",
              "      <td>1</td>\n",
              "      <td>1602683495000000000</td>\n",
              "      <td>17</td>\n",
              "      <td>1</td>\n",
              "      <td>1602683607000000000</td>\n",
              "      <td>17</td>\n",
              "      <td>1</td>\n",
              "      <td>1602684161000000000</td>\n",
              "      <td>17</td>\n",
              "      <td>1</td>\n",
              "      <td>1602685012000000000</td>\n",
              "      <td>5</td>\n",
              "      <td>24.50000</td>\n",
              "      <td>-1.290503</td>\n",
              "      <td>36.809646</td>\n",
              "      <td>-1.303382</td>\n",
              "      <td>36.790658</td>\n",
              "      <td>487</td>\n",
              "      <td>560</td>\n",
              "      <td>13.7</td>\n",
              "      <td>44</td>\n",
              "    </tr>\n",
              "    <tr>\n",
              "      <th>4</th>\n",
              "      <td>3</td>\n",
              "      <td>Business</td>\n",
              "      <td>11</td>\n",
              "      <td>2</td>\n",
              "      <td>1602675028000000000</td>\n",
              "      <td>11</td>\n",
              "      <td>2</td>\n",
              "      <td>1602675285000000000</td>\n",
              "      <td>11</td>\n",
              "      <td>2</td>\n",
              "      <td>1602676039000000000</td>\n",
              "      <td>11</td>\n",
              "      <td>2</td>\n",
              "      <td>1602676564000000000</td>\n",
              "      <td>6</td>\n",
              "      <td>24.40000</td>\n",
              "      <td>-1.281081</td>\n",
              "      <td>36.814423</td>\n",
              "      <td>-1.266467</td>\n",
              "      <td>36.792161</td>\n",
              "      <td>4761</td>\n",
              "      <td>1120</td>\n",
              "      <td>14.1</td>\n",
              "      <td>1010</td>\n",
              "    </tr>\n",
              "  </tbody>\n",
              "</table>\n",
              "</div>"
            ],
            "text/plain": [
              "   Platform Type Personal or Business  ...  Average_Rating  No_of_Ratings\n",
              "0              3             Business  ...            13.3            171\n",
              "1              3             Business  ...            14.4             45\n",
              "2              3             Business  ...            13.1             67\n",
              "3              3             Business  ...            13.7             44\n",
              "4              3             Business  ...            14.1           1010\n",
              "\n",
              "[5 rows x 24 columns]"
            ]
          },
          "metadata": {
            "tags": []
          },
          "execution_count": 93
        }
      ]
    },
    {
      "cell_type": "code",
      "metadata": {
        "id": "AskLP8YrGpNk"
      },
      "source": [
        "#\n",
        "\n",
        "dummy_train = train_clean.copy()\n",
        "dummy_test = test_clean.copy()\n",
        "\n",
        "train_clean = pd.get_dummies(dummy_train, columns=[\"Personal or Business\"], drop_first= True)\n",
        "test_clean = pd.get_dummies(dummy_test, columns=[\"Personal or Business\"], drop_first= True)"
      ],
      "execution_count": 94,
      "outputs": []
    },
    {
      "cell_type": "code",
      "metadata": {
        "id": "vIl9ooE-GxSk",
        "outputId": "e1c3ed66-3e7b-4e14-f44b-333e161e39c8",
        "colab": {
          "base_uri": "https://localhost:8080/",
          "height": 316
        }
      },
      "source": [
        "train_clean.head()"
      ],
      "execution_count": 95,
      "outputs": [
        {
          "output_type": "execute_result",
          "data": {
            "text/html": [
              "<div>\n",
              "<style scoped>\n",
              "    .dataframe tbody tr th:only-of-type {\n",
              "        vertical-align: middle;\n",
              "    }\n",
              "\n",
              "    .dataframe tbody tr th {\n",
              "        vertical-align: top;\n",
              "    }\n",
              "\n",
              "    .dataframe thead th {\n",
              "        text-align: right;\n",
              "    }\n",
              "</style>\n",
              "<table border=\"1\" class=\"dataframe\">\n",
              "  <thead>\n",
              "    <tr style=\"text-align: right;\">\n",
              "      <th></th>\n",
              "      <th>Platform Type</th>\n",
              "      <th>Placement - Day of Month</th>\n",
              "      <th>Placement - Weekday (Mo = 1)</th>\n",
              "      <th>Placement - Time</th>\n",
              "      <th>Confirmation - Day of Month</th>\n",
              "      <th>Confirmation - Weekday (Mo = 1)</th>\n",
              "      <th>Confirmation - Time</th>\n",
              "      <th>Arrival at Pickup - Day of Month</th>\n",
              "      <th>Arrival at Pickup - Weekday (Mo = 1)</th>\n",
              "      <th>Arrival at Pickup - Time</th>\n",
              "      <th>Pickup - Day of Month</th>\n",
              "      <th>Pickup - Weekday (Mo = 1)</th>\n",
              "      <th>Pickup - Time</th>\n",
              "      <th>Arrival at Destination - Day of Month</th>\n",
              "      <th>Arrival at Destination - Weekday (Mo = 1)</th>\n",
              "      <th>Arrival at Destination - Time</th>\n",
              "      <th>Distance (KM)</th>\n",
              "      <th>Temperature</th>\n",
              "      <th>Pickup Lat</th>\n",
              "      <th>Pickup Long</th>\n",
              "      <th>Destination Lat</th>\n",
              "      <th>Destination Long</th>\n",
              "      <th>Time from Pickup to Arrival</th>\n",
              "      <th>No_Of_Orders</th>\n",
              "      <th>Age</th>\n",
              "      <th>Average_Rating</th>\n",
              "      <th>No_of_Ratings</th>\n",
              "      <th>Personal or Business_Personal</th>\n",
              "    </tr>\n",
              "  </thead>\n",
              "  <tbody>\n",
              "    <tr>\n",
              "      <th>0</th>\n",
              "      <td>3</td>\n",
              "      <td>9</td>\n",
              "      <td>5</td>\n",
              "      <td>1602668146000000000</td>\n",
              "      <td>9</td>\n",
              "      <td>5</td>\n",
              "      <td>1602668410000000000</td>\n",
              "      <td>9</td>\n",
              "      <td>5</td>\n",
              "      <td>1602669887000000000</td>\n",
              "      <td>9</td>\n",
              "      <td>5</td>\n",
              "      <td>1602671250000000000</td>\n",
              "      <td>9</td>\n",
              "      <td>5</td>\n",
              "      <td>1602671995000000000</td>\n",
              "      <td>4</td>\n",
              "      <td>20.400000</td>\n",
              "      <td>-1.317755</td>\n",
              "      <td>36.830370</td>\n",
              "      <td>-1.300406</td>\n",
              "      <td>36.829741</td>\n",
              "      <td>745</td>\n",
              "      <td>1637</td>\n",
              "      <td>1309</td>\n",
              "      <td>13.8</td>\n",
              "      <td>549</td>\n",
              "      <td>0</td>\n",
              "    </tr>\n",
              "    <tr>\n",
              "      <th>1</th>\n",
              "      <td>3</td>\n",
              "      <td>12</td>\n",
              "      <td>5</td>\n",
              "      <td>1602674176000000000</td>\n",
              "      <td>12</td>\n",
              "      <td>5</td>\n",
              "      <td>1602674601000000000</td>\n",
              "      <td>12</td>\n",
              "      <td>5</td>\n",
              "      <td>1602675622000000000</td>\n",
              "      <td>12</td>\n",
              "      <td>5</td>\n",
              "      <td>1602675849000000000</td>\n",
              "      <td>12</td>\n",
              "      <td>5</td>\n",
              "      <td>1602677842000000000</td>\n",
              "      <td>16</td>\n",
              "      <td>26.400000</td>\n",
              "      <td>-1.351453</td>\n",
              "      <td>36.899315</td>\n",
              "      <td>-1.295004</td>\n",
              "      <td>36.814358</td>\n",
              "      <td>1993</td>\n",
              "      <td>396</td>\n",
              "      <td>339</td>\n",
              "      <td>13.6</td>\n",
              "      <td>69</td>\n",
              "      <td>1</td>\n",
              "    </tr>\n",
              "    <tr>\n",
              "      <th>2</th>\n",
              "      <td>3</td>\n",
              "      <td>30</td>\n",
              "      <td>2</td>\n",
              "      <td>1602679165000000000</td>\n",
              "      <td>30</td>\n",
              "      <td>2</td>\n",
              "      <td>1602679364000000000</td>\n",
              "      <td>30</td>\n",
              "      <td>2</td>\n",
              "      <td>1602679774000000000</td>\n",
              "      <td>30</td>\n",
              "      <td>2</td>\n",
              "      <td>1602679983000000000</td>\n",
              "      <td>30</td>\n",
              "      <td>2</td>\n",
              "      <td>1602680438000000000</td>\n",
              "      <td>3</td>\n",
              "      <td>23.258889</td>\n",
              "      <td>-1.308284</td>\n",
              "      <td>36.843419</td>\n",
              "      <td>-1.300921</td>\n",
              "      <td>36.828195</td>\n",
              "      <td>455</td>\n",
              "      <td>1023</td>\n",
              "      <td>242</td>\n",
              "      <td>12.5</td>\n",
              "      <td>114</td>\n",
              "      <td>0</td>\n",
              "    </tr>\n",
              "    <tr>\n",
              "      <th>3</th>\n",
              "      <td>3</td>\n",
              "      <td>15</td>\n",
              "      <td>5</td>\n",
              "      <td>1602667534000000000</td>\n",
              "      <td>15</td>\n",
              "      <td>5</td>\n",
              "      <td>1602667565000000000</td>\n",
              "      <td>15</td>\n",
              "      <td>5</td>\n",
              "      <td>1602668276000000000</td>\n",
              "      <td>15</td>\n",
              "      <td>5</td>\n",
              "      <td>1602668586000000000</td>\n",
              "      <td>15</td>\n",
              "      <td>5</td>\n",
              "      <td>1602669927000000000</td>\n",
              "      <td>9</td>\n",
              "      <td>19.200000</td>\n",
              "      <td>-1.281301</td>\n",
              "      <td>36.832396</td>\n",
              "      <td>-1.257147</td>\n",
              "      <td>36.795063</td>\n",
              "      <td>1341</td>\n",
              "      <td>886</td>\n",
              "      <td>283</td>\n",
              "      <td>14.5</td>\n",
              "      <td>113</td>\n",
              "      <td>0</td>\n",
              "    </tr>\n",
              "    <tr>\n",
              "      <th>4</th>\n",
              "      <td>1</td>\n",
              "      <td>13</td>\n",
              "      <td>1</td>\n",
              "      <td>1602669318000000000</td>\n",
              "      <td>13</td>\n",
              "      <td>1</td>\n",
              "      <td>1602669378000000000</td>\n",
              "      <td>13</td>\n",
              "      <td>1</td>\n",
              "      <td>1602669833000000000</td>\n",
              "      <td>13</td>\n",
              "      <td>1</td>\n",
              "      <td>1602669923000000000</td>\n",
              "      <td>13</td>\n",
              "      <td>1</td>\n",
              "      <td>1602671137000000000</td>\n",
              "      <td>9</td>\n",
              "      <td>15.400000</td>\n",
              "      <td>-1.266597</td>\n",
              "      <td>36.792118</td>\n",
              "      <td>-1.295041</td>\n",
              "      <td>36.809817</td>\n",
              "      <td>1214</td>\n",
              "      <td>2311</td>\n",
              "      <td>872</td>\n",
              "      <td>14.1</td>\n",
              "      <td>533</td>\n",
              "      <td>1</td>\n",
              "    </tr>\n",
              "  </tbody>\n",
              "</table>\n",
              "</div>"
            ],
            "text/plain": [
              "   Platform Type  ...  Personal or Business_Personal\n",
              "0              3  ...                              0\n",
              "1              3  ...                              1\n",
              "2              3  ...                              0\n",
              "3              3  ...                              0\n",
              "4              1  ...                              1\n",
              "\n",
              "[5 rows x 28 columns]"
            ]
          },
          "metadata": {
            "tags": []
          },
          "execution_count": 95
        }
      ]
    },
    {
      "cell_type": "code",
      "metadata": {
        "id": "u5-OAPvmHLQH",
        "outputId": "3c5360c1-83b9-463d-ff8e-3492f687291d",
        "colab": {
          "base_uri": "https://localhost:8080/",
          "height": 316
        }
      },
      "source": [
        "test_clean.head()"
      ],
      "execution_count": 96,
      "outputs": [
        {
          "output_type": "execute_result",
          "data": {
            "text/html": [
              "<div>\n",
              "<style scoped>\n",
              "    .dataframe tbody tr th:only-of-type {\n",
              "        vertical-align: middle;\n",
              "    }\n",
              "\n",
              "    .dataframe tbody tr th {\n",
              "        vertical-align: top;\n",
              "    }\n",
              "\n",
              "    .dataframe thead th {\n",
              "        text-align: right;\n",
              "    }\n",
              "</style>\n",
              "<table border=\"1\" class=\"dataframe\">\n",
              "  <thead>\n",
              "    <tr style=\"text-align: right;\">\n",
              "      <th></th>\n",
              "      <th>Platform Type</th>\n",
              "      <th>Placement - Day of Month</th>\n",
              "      <th>Placement - Weekday (Mo = 1)</th>\n",
              "      <th>Placement - Time</th>\n",
              "      <th>Confirmation - Day of Month</th>\n",
              "      <th>Confirmation - Weekday (Mo = 1)</th>\n",
              "      <th>Confirmation - Time</th>\n",
              "      <th>Arrival at Pickup - Day of Month</th>\n",
              "      <th>Arrival at Pickup - Weekday (Mo = 1)</th>\n",
              "      <th>Arrival at Pickup - Time</th>\n",
              "      <th>Pickup - Day of Month</th>\n",
              "      <th>Pickup - Weekday (Mo = 1)</th>\n",
              "      <th>Pickup - Time</th>\n",
              "      <th>Distance (KM)</th>\n",
              "      <th>Temperature</th>\n",
              "      <th>Pickup Lat</th>\n",
              "      <th>Pickup Long</th>\n",
              "      <th>Destination Lat</th>\n",
              "      <th>Destination Long</th>\n",
              "      <th>No_Of_Orders</th>\n",
              "      <th>Age</th>\n",
              "      <th>Average_Rating</th>\n",
              "      <th>No_of_Ratings</th>\n",
              "      <th>Personal or Business_Personal</th>\n",
              "    </tr>\n",
              "  </thead>\n",
              "  <tbody>\n",
              "    <tr>\n",
              "      <th>0</th>\n",
              "      <td>3</td>\n",
              "      <td>27</td>\n",
              "      <td>3</td>\n",
              "      <td>1602693850000000000</td>\n",
              "      <td>27</td>\n",
              "      <td>3</td>\n",
              "      <td>1602693869000000000</td>\n",
              "      <td>27</td>\n",
              "      <td>3</td>\n",
              "      <td>1602694384000000000</td>\n",
              "      <td>27</td>\n",
              "      <td>3</td>\n",
              "      <td>1602695207000000000</td>\n",
              "      <td>8</td>\n",
              "      <td>23.24612</td>\n",
              "      <td>-1.333275</td>\n",
              "      <td>36.870815</td>\n",
              "      <td>-1.305249</td>\n",
              "      <td>36.822390</td>\n",
              "      <td>439</td>\n",
              "      <td>1511</td>\n",
              "      <td>13.3</td>\n",
              "      <td>171</td>\n",
              "      <td>0</td>\n",
              "    </tr>\n",
              "    <tr>\n",
              "      <th>1</th>\n",
              "      <td>3</td>\n",
              "      <td>17</td>\n",
              "      <td>5</td>\n",
              "      <td>1602680255000000000</td>\n",
              "      <td>17</td>\n",
              "      <td>5</td>\n",
              "      <td>1602680357000000000</td>\n",
              "      <td>17</td>\n",
              "      <td>5</td>\n",
              "      <td>1602681627000000000</td>\n",
              "      <td>17</td>\n",
              "      <td>5</td>\n",
              "      <td>1602681937000000000</td>\n",
              "      <td>5</td>\n",
              "      <td>23.24612</td>\n",
              "      <td>-1.272639</td>\n",
              "      <td>36.794723</td>\n",
              "      <td>-1.277007</td>\n",
              "      <td>36.823907</td>\n",
              "      <td>488</td>\n",
              "      <td>273</td>\n",
              "      <td>14.4</td>\n",
              "      <td>45</td>\n",
              "      <td>0</td>\n",
              "    </tr>\n",
              "    <tr>\n",
              "      <th>2</th>\n",
              "      <td>3</td>\n",
              "      <td>27</td>\n",
              "      <td>4</td>\n",
              "      <td>1602673694000000000</td>\n",
              "      <td>27</td>\n",
              "      <td>4</td>\n",
              "      <td>1602674705000000000</td>\n",
              "      <td>27</td>\n",
              "      <td>4</td>\n",
              "      <td>1602675200000000000</td>\n",
              "      <td>27</td>\n",
              "      <td>4</td>\n",
              "      <td>1602676674000000000</td>\n",
              "      <td>5</td>\n",
              "      <td>22.80000</td>\n",
              "      <td>-1.290894</td>\n",
              "      <td>36.822971</td>\n",
              "      <td>-1.276574</td>\n",
              "      <td>36.851365</td>\n",
              "      <td>833</td>\n",
              "      <td>460</td>\n",
              "      <td>13.1</td>\n",
              "      <td>67</td>\n",
              "      <td>0</td>\n",
              "    </tr>\n",
              "    <tr>\n",
              "      <th>3</th>\n",
              "      <td>3</td>\n",
              "      <td>17</td>\n",
              "      <td>1</td>\n",
              "      <td>1602683495000000000</td>\n",
              "      <td>17</td>\n",
              "      <td>1</td>\n",
              "      <td>1602683607000000000</td>\n",
              "      <td>17</td>\n",
              "      <td>1</td>\n",
              "      <td>1602684161000000000</td>\n",
              "      <td>17</td>\n",
              "      <td>1</td>\n",
              "      <td>1602685012000000000</td>\n",
              "      <td>5</td>\n",
              "      <td>24.50000</td>\n",
              "      <td>-1.290503</td>\n",
              "      <td>36.809646</td>\n",
              "      <td>-1.303382</td>\n",
              "      <td>36.790658</td>\n",
              "      <td>487</td>\n",
              "      <td>560</td>\n",
              "      <td>13.7</td>\n",
              "      <td>44</td>\n",
              "      <td>0</td>\n",
              "    </tr>\n",
              "    <tr>\n",
              "      <th>4</th>\n",
              "      <td>3</td>\n",
              "      <td>11</td>\n",
              "      <td>2</td>\n",
              "      <td>1602675028000000000</td>\n",
              "      <td>11</td>\n",
              "      <td>2</td>\n",
              "      <td>1602675285000000000</td>\n",
              "      <td>11</td>\n",
              "      <td>2</td>\n",
              "      <td>1602676039000000000</td>\n",
              "      <td>11</td>\n",
              "      <td>2</td>\n",
              "      <td>1602676564000000000</td>\n",
              "      <td>6</td>\n",
              "      <td>24.40000</td>\n",
              "      <td>-1.281081</td>\n",
              "      <td>36.814423</td>\n",
              "      <td>-1.266467</td>\n",
              "      <td>36.792161</td>\n",
              "      <td>4761</td>\n",
              "      <td>1120</td>\n",
              "      <td>14.1</td>\n",
              "      <td>1010</td>\n",
              "      <td>0</td>\n",
              "    </tr>\n",
              "  </tbody>\n",
              "</table>\n",
              "</div>"
            ],
            "text/plain": [
              "   Platform Type  ...  Personal or Business_Personal\n",
              "0              3  ...                              0\n",
              "1              3  ...                              0\n",
              "2              3  ...                              0\n",
              "3              3  ...                              0\n",
              "4              3  ...                              0\n",
              "\n",
              "[5 rows x 24 columns]"
            ]
          },
          "metadata": {
            "tags": []
          },
          "execution_count": 96
        }
      ]
    },
    {
      "cell_type": "code",
      "metadata": {
        "id": "7srH5A93QjaS",
        "outputId": "cf78cd88-19e7-4076-bd16-1dc843796cf0",
        "colab": {
          "base_uri": "https://localhost:8080/",
          "height": 84
        }
      },
      "source": [
        "# Check for columns not included in the test data set and drop them\n",
        "for col in train_clean.columns:\n",
        "    if col not in test_clean.columns:\n",
        "        print(col)"
      ],
      "execution_count": 97,
      "outputs": [
        {
          "output_type": "stream",
          "text": [
            "Arrival at Destination - Day of Month\n",
            "Arrival at Destination - Weekday (Mo = 1)\n",
            "Arrival at Destination - Time\n",
            "Time from Pickup to Arrival\n"
          ],
          "name": "stdout"
        }
      ]
    },
    {
      "cell_type": "code",
      "metadata": {
        "id": "T08MUSzZQsYK"
      },
      "source": [
        "# Drop additional columns in train data that are not in the test data, \n",
        "# except the target variable\n",
        "\n",
        "train_clean = train_clean.drop([\"Arrival at Destination - Day of Month\",\n",
        "                                \"Arrival at Destination - Weekday (Mo = 1)\",\n",
        "                                \"Arrival at Destination - Time\"], axis = 1)"
      ],
      "execution_count": 98,
      "outputs": []
    },
    {
      "cell_type": "code",
      "metadata": {
        "id": "GYMbVyx1RrsW",
        "outputId": "21009c58-ade1-481d-f041-113fea346286",
        "colab": {
          "base_uri": "https://localhost:8080/",
          "height": 34
        }
      },
      "source": [
        "# Check for columns not included in the test data set and drop them\n",
        "for col in train_clean.columns:\n",
        "    if col not in test_clean.columns:\n",
        "        print(col)"
      ],
      "execution_count": 99,
      "outputs": [
        {
          "output_type": "stream",
          "text": [
            "Time from Pickup to Arrival\n"
          ],
          "name": "stdout"
        }
      ]
    },
    {
      "cell_type": "code",
      "metadata": {
        "id": "iU2Gz62QIwJI",
        "outputId": "bafe13eb-a51f-4fbe-a386-6b67d1278140",
        "colab": {
          "base_uri": "https://localhost:8080/",
          "height": 554
        }
      },
      "source": [
        "train_clean.info()"
      ],
      "execution_count": 100,
      "outputs": [
        {
          "output_type": "stream",
          "text": [
            "<class 'pandas.core.frame.DataFrame'>\n",
            "Int64Index: 21201 entries, 0 to 21200\n",
            "Data columns (total 25 columns):\n",
            " #   Column                                Non-Null Count  Dtype  \n",
            "---  ------                                --------------  -----  \n",
            " 0   Platform Type                         21201 non-null  int64  \n",
            " 1   Placement - Day of Month              21201 non-null  int64  \n",
            " 2   Placement - Weekday (Mo = 1)          21201 non-null  int64  \n",
            " 3   Placement - Time                      21201 non-null  int64  \n",
            " 4   Confirmation - Day of Month           21201 non-null  int64  \n",
            " 5   Confirmation - Weekday (Mo = 1)       21201 non-null  int64  \n",
            " 6   Confirmation - Time                   21201 non-null  int64  \n",
            " 7   Arrival at Pickup - Day of Month      21201 non-null  int64  \n",
            " 8   Arrival at Pickup - Weekday (Mo = 1)  21201 non-null  int64  \n",
            " 9   Arrival at Pickup - Time              21201 non-null  int64  \n",
            " 10  Pickup - Day of Month                 21201 non-null  int64  \n",
            " 11  Pickup - Weekday (Mo = 1)             21201 non-null  int64  \n",
            " 12  Pickup - Time                         21201 non-null  int64  \n",
            " 13  Distance (KM)                         21201 non-null  int64  \n",
            " 14  Temperature                           21201 non-null  float64\n",
            " 15  Pickup Lat                            21201 non-null  float64\n",
            " 16  Pickup Long                           21201 non-null  float64\n",
            " 17  Destination Lat                       21201 non-null  float64\n",
            " 18  Destination Long                      21201 non-null  float64\n",
            " 19  Time from Pickup to Arrival           21201 non-null  int64  \n",
            " 20  No_Of_Orders                          21201 non-null  int64  \n",
            " 21  Age                                   21201 non-null  int64  \n",
            " 22  Average_Rating                        21201 non-null  float64\n",
            " 23  No_of_Ratings                         21201 non-null  int64  \n",
            " 24  Personal or Business_Personal         21201 non-null  uint8  \n",
            "dtypes: float64(6), int64(18), uint8(1)\n",
            "memory usage: 4.1 MB\n"
          ],
          "name": "stdout"
        }
      ]
    },
    {
      "cell_type": "markdown",
      "metadata": {
        "id": "sM6kYr5Yes29"
      },
      "source": [
        "## Building Tuned Models"
      ]
    },
    {
      "cell_type": "code",
      "metadata": {
        "id": "B4XTvnJxVGLL"
      },
      "source": [
        "#Separate x and y metrics\n",
        "\n",
        "x_tuned = train_clean.drop(\"Time from Pickup to Arrival\", axis = 1)\n",
        "y_tuned = train_clean[\"Time from Pickup to Arrival\"] \n",
        "\n",
        "test_x = test_clean.copy()"
      ],
      "execution_count": 101,
      "outputs": []
    },
    {
      "cell_type": "code",
      "metadata": {
        "id": "HuWXL_rnRy_Q",
        "outputId": "221a92ba-a268-4701-e3a3-5d6fc17d8813",
        "colab": {
          "base_uri": "https://localhost:8080/",
          "height": 34
        }
      },
      "source": [
        "x_tuned.shape"
      ],
      "execution_count": 102,
      "outputs": [
        {
          "output_type": "execute_result",
          "data": {
            "text/plain": [
              "(21201, 24)"
            ]
          },
          "metadata": {
            "tags": []
          },
          "execution_count": 102
        }
      ]
    },
    {
      "cell_type": "code",
      "metadata": {
        "id": "Y3DkjKSDR4oz",
        "outputId": "29ed6fe7-5d1b-4e14-884c-acfc6e911fca",
        "colab": {
          "base_uri": "https://localhost:8080/",
          "height": 34
        }
      },
      "source": [
        "test_x.shape"
      ],
      "execution_count": 103,
      "outputs": [
        {
          "output_type": "execute_result",
          "data": {
            "text/plain": [
              "(7068, 24)"
            ]
          },
          "metadata": {
            "tags": []
          },
          "execution_count": 103
        }
      ]
    },
    {
      "cell_type": "code",
      "metadata": {
        "id": "U_gWbT6ehDgw"
      },
      "source": [
        "# Split the dataset into train and test data\n",
        "from sklearn.model_selection import train_test_split\n",
        "\n",
        "X_train, X_val, y_train, y_val = train_test_split(x_tuned,y_tuned,test_size = 0.2, random_state = 25)"
      ],
      "execution_count": 137,
      "outputs": []
    },
    {
      "cell_type": "markdown",
      "metadata": {
        "id": "-lsjZf3kgqf0"
      },
      "source": [
        "## Linear Regression Model"
      ]
    },
    {
      "cell_type": "code",
      "metadata": {
        "id": "D50UGjALVFPF",
        "outputId": "f2b879ac-bccb-40be-afd2-66cb336c1f27",
        "colab": {
          "base_uri": "https://localhost:8080/",
          "height": 34
        }
      },
      "source": [
        "from sklearn.linear_model import LinearRegression\n",
        "from sklearn.metrics import mean_squared_error\n",
        "\n",
        "# define the model \n",
        "model = LinearRegression()\n",
        "\n",
        "# fit the model \n",
        "model.fit(X_train, y_train)\n",
        "\n",
        "# get predictions on the test set \n",
        "val_pred = model.predict(X_val)\n",
        "\n",
        "# calculate accuracy of validation predictions using root mean squared error\n",
        "rmse(y_val, val_pred)"
      ],
      "execution_count": 138,
      "outputs": [
        {
          "output_type": "execute_result",
          "data": {
            "text/plain": [
              "760.2512729483408"
            ]
          },
          "metadata": {
            "tags": []
          },
          "execution_count": 138
        }
      ]
    },
    {
      "cell_type": "code",
      "metadata": {
        "id": "jvnQYIA8NJeM",
        "outputId": "4537b208-a948-4712-f3a6-482937d3c884",
        "colab": {
          "base_uri": "https://localhost:8080/",
          "height": 34
        }
      },
      "source": [
        "best_result = 769.2752110279656\n",
        "model_result = rmse(y_val,val_pred)\n",
        "best_perfomance(model_result, best_result)"
      ],
      "execution_count": 139,
      "outputs": [
        {
          "output_type": "stream",
          "text": [
            "This is now the best perfoming model, with RMSE of 760.2512729483408\n"
          ],
          "name": "stdout"
        }
      ]
    },
    {
      "cell_type": "code",
      "metadata": {
        "id": "5fZCB_BLRCLT"
      },
      "source": [
        "# Tuned features perform better\n",
        " \n",
        "best_result = 760.2512729483408"
      ],
      "execution_count": 142,
      "outputs": []
    },
    {
      "cell_type": "markdown",
      "metadata": {
        "id": "cys9mRe3koU_"
      },
      "source": [
        "## Gradient Boosting Regressor"
      ]
    },
    {
      "cell_type": "code",
      "metadata": {
        "id": "PNGqDeAxLrrm"
      },
      "source": [
        "from sklearn.ensemble import GradientBoostingRegressor\n",
        "Gbr_model= GradientBoostingRegressor()\n",
        "\n",
        "Gbr_model.fit(X_train, y_train)\n",
        "val_pred_Gbr = Gbr_model.predict(X_val)"
      ],
      "execution_count": 154,
      "outputs": []
    },
    {
      "cell_type": "code",
      "metadata": {
        "id": "-xl_LDLmLroe"
      },
      "source": [
        "model_result = rmse(y_val, val_pred_Gbr)"
      ],
      "execution_count": 155,
      "outputs": []
    },
    {
      "cell_type": "code",
      "metadata": {
        "id": "OwD8EaBCLrln",
        "outputId": "3b33575d-e950-47a1-b246-22c5b574b8ba",
        "colab": {
          "base_uri": "https://localhost:8080/",
          "height": 34
        }
      },
      "source": [
        "best_perfomance(model_result,best_result)"
      ],
      "execution_count": 156,
      "outputs": [
        {
          "output_type": "stream",
          "text": [
            "This is now the best perfoming model, with RMSE of 745.1286047375721\n"
          ],
          "name": "stdout"
        }
      ]
    },
    {
      "cell_type": "code",
      "metadata": {
        "id": "pYMW2QqJSjOu"
      },
      "source": [
        "# The best model result has changed\n",
        "best_result = 745.1286047375721"
      ],
      "execution_count": 157,
      "outputs": []
    },
    {
      "cell_type": "markdown",
      "metadata": {
        "id": "vIVd8oifVFt3"
      },
      "source": [
        "## XgBoost Regressor"
      ]
    },
    {
      "cell_type": "code",
      "execution_count": 3,
      "metadata": {},
      "outputs": [
        {
          "output_type": "stream",
          "name": "stdout",
          "text": [
            "Collecting xgboost\n  Downloading xgboost-1.2.1-py3-none-win_amd64.whl (86.5 MB)\nRequirement already satisfied: numpy in c:\\users\\presca.mashamaite\\anaconda3\\lib\\site-packages (from xgboost) (1.19.2)\nRequirement already satisfied: scipy in c:\\users\\presca.mashamaite\\anaconda3\\lib\\site-packages (from xgboost) (1.4.1)\nInstalling collected packages: xgboost\nSuccessfully installed xgboost-1.2.1\nNote: you may need to restart the kernel to use updated packages.\n"
          ]
        }
      ],
      "source": [
        "pip install xgboost\n"
      ]
    },
    {
      "cell_type": "code",
      "metadata": {
        "id": "TcYqrOTbLrc0",
        "outputId": "a7fc1325-f74a-4657-e1d2-e8205317400f",
        "colab": {
          "base_uri": "https://localhost:8080/",
          "height": 34
        }
      },
      "source": [
        "import xgboost as xgb\n",
        "model_x=xgb.XGBRegressor()\n",
        "\n",
        "#Train the model\n",
        "model_x.fit(X_train, y_train)\n",
        "\n",
        "# Making predictions of the validation data\n",
        "val_pred_XGR = model_x.predict(X_val)\n",
        "\n",
        "#Actual y_predicts\n",
        "#y_pred_xg = model_x.predict(test_x)"
      ],
      "execution_count": 159,
      "outputs": [
        {
          "output_type": "stream",
          "text": [
            "[13:30:45] WARNING: /workspace/src/objective/regression_obj.cu:152: reg:linear is now deprecated in favor of reg:squarederror.\n"
          ],
          "name": "stdout"
        }
      ]
    },
    {
      "cell_type": "code",
      "metadata": {
        "id": "8i7tqRNJTIXp"
      },
      "source": [
        "model_result = rmse(y_val, val_pred_XGR)"
      ],
      "execution_count": 160,
      "outputs": []
    },
    {
      "cell_type": "code",
      "metadata": {
        "id": "FyjLGYQ5TiYK",
        "outputId": "9650fc7d-f9f9-4efb-d83e-8fce7548d4ab",
        "colab": {
          "base_uri": "https://localhost:8080/",
          "height": 34
        }
      },
      "source": [
        "best_perfomance(model_result,best_result)"
      ],
      "execution_count": 161,
      "outputs": [
        {
          "output_type": "stream",
          "text": [
            "This is now the best perfoming model, with RMSE of 743.9272036080863\n"
          ],
          "name": "stdout"
        }
      ]
    },
    {
      "cell_type": "markdown",
      "metadata": {
        "id": "sN5-DCdwGCdT"
      },
      "source": [
        "# Saving the Champion model"
      ]
    },
    {
      "cell_type": "code",
      "metadata": {
        "id": "U_JXvHYGGKOT"
      },
      "source": [
        "import pickle\n",
        "\n",
        "model_save_path = \"XGBoostModel.pkl\"\n",
        "with open(model_save_path,'wb') as file:\n",
        "    pickle.dump(model_x,file)"
      ],
      "execution_count": 163,
      "outputs": []
    },
    {
      "cell_type": "code",
      "metadata": {
        "id": "qixTqr88GQDx",
        "outputId": "19abf12a-af29-4b86-ba14-9a2d9f80c409",
        "colab": {
          "base_uri": "https://localhost:8080/",
          "height": 34
        }
      },
      "source": [
        "# restoring  the model\n",
        "model_load_path = \"XGBoostModel.pkl\"\n",
        "with open(model_load_path,'rb') as file:\n",
        "    unpickled_model = pickle.load(file)"
      ],
      "execution_count": 164,
      "outputs": [
        {
          "output_type": "stream",
          "text": [
            "[13:36:55] WARNING: /workspace/src/objective/regression_obj.cu:152: reg:linear is now deprecated in favor of reg:squarederror.\n"
          ],
          "name": "stdout"
        }
      ]
    },
    {
      "cell_type": "code",
      "metadata": {
        "id": "q7FPWkSgGUHp"
      },
      "source": [
        "# get predictions from the unpickled model\n",
        "y_pred = unpickled_model.predict(X_val)"
      ],
      "execution_count": 165,
      "outputs": []
    },
    {
      "cell_type": "code",
      "metadata": {
        "id": "7jRf38MNGXe6",
        "outputId": "6b49bbc9-b278-45df-99d1-48a2a05fb778",
        "colab": {
          "base_uri": "https://localhost:8080/",
          "height": 34
        }
      },
      "source": [
        "rmse(y_val, y_pred)"
      ],
      "execution_count": 166,
      "outputs": [
        {
          "output_type": "execute_result",
          "data": {
            "text/plain": [
              "743.9272036080863"
            ]
          },
          "metadata": {
            "tags": []
          },
          "execution_count": 166
        }
      ]
    },
    {
      "cell_type": "code",
      "metadata": {
        "id": "ICOKMO4-VDfi"
      },
      "source": [
        "#Submission\n",
        "\n",
        "test_pred = unpickled_model.predict(test_x)"
      ],
      "execution_count": 167,
      "outputs": []
    },
    {
      "cell_type": "code",
      "metadata": {
        "id": "cGyHjWi7Vm-8",
        "outputId": "a335e8be-b0d8-41f3-ed38-535df4a6e59f",
        "colab": {
          "base_uri": "https://localhost:8080/",
          "height": 402
        }
      },
      "source": [
        "XGsubmission = test[['Order No']].copy()\n",
        "XGsubmission['Time from Pickup to Arrival'] = test_pred\n",
        "\n",
        "XGsubmission"
      ],
      "execution_count": 168,
      "outputs": [
        {
          "output_type": "execute_result",
          "data": {
            "text/html": [
              "<div>\n",
              "<style scoped>\n",
              "    .dataframe tbody tr th:only-of-type {\n",
              "        vertical-align: middle;\n",
              "    }\n",
              "\n",
              "    .dataframe tbody tr th {\n",
              "        vertical-align: top;\n",
              "    }\n",
              "\n",
              "    .dataframe thead th {\n",
              "        text-align: right;\n",
              "    }\n",
              "</style>\n",
              "<table border=\"1\" class=\"dataframe\">\n",
              "  <thead>\n",
              "    <tr style=\"text-align: right;\">\n",
              "      <th></th>\n",
              "      <th>Order No</th>\n",
              "      <th>Time from Pickup to Arrival</th>\n",
              "    </tr>\n",
              "  </thead>\n",
              "  <tbody>\n",
              "    <tr>\n",
              "      <th>0</th>\n",
              "      <td>Order_No_19248</td>\n",
              "      <td>1422.672119</td>\n",
              "    </tr>\n",
              "    <tr>\n",
              "      <th>1</th>\n",
              "      <td>Order_No_12736</td>\n",
              "      <td>1334.304688</td>\n",
              "    </tr>\n",
              "    <tr>\n",
              "      <th>2</th>\n",
              "      <td>Order_No_768</td>\n",
              "      <td>1378.305542</td>\n",
              "    </tr>\n",
              "    <tr>\n",
              "      <th>3</th>\n",
              "      <td>Order_No_15332</td>\n",
              "      <td>1276.792725</td>\n",
              "    </tr>\n",
              "    <tr>\n",
              "      <th>4</th>\n",
              "      <td>Order_No_21373</td>\n",
              "      <td>1220.417114</td>\n",
              "    </tr>\n",
              "    <tr>\n",
              "      <th>...</th>\n",
              "      <td>...</td>\n",
              "      <td>...</td>\n",
              "    </tr>\n",
              "    <tr>\n",
              "      <th>7063</th>\n",
              "      <td>Order_No_3612</td>\n",
              "      <td>1443.366821</td>\n",
              "    </tr>\n",
              "    <tr>\n",
              "      <th>7064</th>\n",
              "      <td>Order_No_7657</td>\n",
              "      <td>2844.471436</td>\n",
              "    </tr>\n",
              "    <tr>\n",
              "      <th>7065</th>\n",
              "      <td>Order_No_1969</td>\n",
              "      <td>1724.319580</td>\n",
              "    </tr>\n",
              "    <tr>\n",
              "      <th>7066</th>\n",
              "      <td>Order_No_10591</td>\n",
              "      <td>2594.828857</td>\n",
              "    </tr>\n",
              "    <tr>\n",
              "      <th>7067</th>\n",
              "      <td>Order_No_1603</td>\n",
              "      <td>1641.832520</td>\n",
              "    </tr>\n",
              "  </tbody>\n",
              "</table>\n",
              "<p>7068 rows × 2 columns</p>\n",
              "</div>"
            ],
            "text/plain": [
              "            Order No  Time from Pickup to Arrival\n",
              "0     Order_No_19248                  1422.672119\n",
              "1     Order_No_12736                  1334.304688\n",
              "2       Order_No_768                  1378.305542\n",
              "3     Order_No_15332                  1276.792725\n",
              "4     Order_No_21373                  1220.417114\n",
              "...              ...                          ...\n",
              "7063   Order_No_3612                  1443.366821\n",
              "7064   Order_No_7657                  2844.471436\n",
              "7065   Order_No_1969                  1724.319580\n",
              "7066  Order_No_10591                  2594.828857\n",
              "7067   Order_No_1603                  1641.832520\n",
              "\n",
              "[7068 rows x 2 columns]"
            ]
          },
          "metadata": {
            "tags": []
          },
          "execution_count": 168
        }
      ]
    },
    {
      "cell_type": "code",
      "metadata": {
        "id": "LTFkVZmRV4LB"
      },
      "source": [
        "XGsubmission.to_csv('XGmodel_FINAL_submission.csv', index = False)"
      ],
      "execution_count": 169,
      "outputs": []
    },
    {
      "cell_type": "code",
      "metadata": {
        "id": "VsZu3XYQWCKU",
        "outputId": "0e3e66d2-08b0-4da5-8d57-469c251e5fb2",
        "colab": {
          "base_uri": "https://localhost:8080/",
          "height": 17
        }
      },
      "source": [
        "from google.colab import files\n",
        "files.download(\"XGBoostModel.pkl\")"
      ],
      "execution_count": 171,
      "outputs": [
        {
          "output_type": "display_data",
          "data": {
            "application/javascript": [
              "\n",
              "    async function download(id, filename, size) {\n",
              "      if (!google.colab.kernel.accessAllowed) {\n",
              "        return;\n",
              "      }\n",
              "      const div = document.createElement('div');\n",
              "      const label = document.createElement('label');\n",
              "      label.textContent = `Downloading \"${filename}\": `;\n",
              "      div.appendChild(label);\n",
              "      const progress = document.createElement('progress');\n",
              "      progress.max = size;\n",
              "      div.appendChild(progress);\n",
              "      document.body.appendChild(div);\n",
              "\n",
              "      const buffers = [];\n",
              "      let downloaded = 0;\n",
              "\n",
              "      const channel = await google.colab.kernel.comms.open(id);\n",
              "      // Send a message to notify the kernel that we're ready.\n",
              "      channel.send({})\n",
              "\n",
              "      for await (const message of channel.messages) {\n",
              "        // Send a message to notify the kernel that we're ready.\n",
              "        channel.send({})\n",
              "        if (message.buffers) {\n",
              "          for (const buffer of message.buffers) {\n",
              "            buffers.push(buffer);\n",
              "            downloaded += buffer.byteLength;\n",
              "            progress.value = downloaded;\n",
              "          }\n",
              "        }\n",
              "      }\n",
              "      const blob = new Blob(buffers, {type: 'application/binary'});\n",
              "      const a = document.createElement('a');\n",
              "      a.href = window.URL.createObjectURL(blob);\n",
              "      a.download = filename;\n",
              "      div.appendChild(a);\n",
              "      a.click();\n",
              "      div.remove();\n",
              "    }\n",
              "  "
            ],
            "text/plain": [
              "<IPython.core.display.Javascript object>"
            ]
          },
          "metadata": {
            "tags": []
          }
        },
        {
          "output_type": "display_data",
          "data": {
            "application/javascript": [
              "download(\"download_5e1245ce-5dc3-4336-a3ae-4b7a95756728\", \"XGBoostModel.pkl\", 70569)"
            ],
            "text/plain": [
              "<IPython.core.display.Javascript object>"
            ]
          },
          "metadata": {
            "tags": []
          }
        }
      ]
    },
    {
      "cell_type": "code",
      "metadata": {
        "id": "QuJnvVmZXPvm"
      },
      "source": [
        "from google.colab import files\n",
        "files.download(\"XGmodel_FINAL_submission.csv\")"
      ],
      "execution_count": null,
      "outputs": []
    },
    {
      "cell_type": "code",
      "execution_count": null,
      "metadata": {},
      "outputs": [],
      "source": []
    }
  ]
}
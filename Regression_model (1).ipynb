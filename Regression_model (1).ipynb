{
 "cells": [
  {
   "cell_type": "markdown",
   "metadata": {
    "id": "QSEuFqdhVDmr"
   },
   "source": [
    "# Introduction\n",
    "\n",
    "The purpose of this competion is the estimate the time taken from the pickup to the destination of the the package that has been ordered. This has been provided under Zindi which is a platform that is used to connect the organisations with the data science community in Africa to solve the world most pressing challenges using machine learning (ML) and Artificial intelligence (AI). In consequence, a company called Sendy Logistics has provided this problem for the which will be explore in length in this work. "
   ]
  },
  {
   "cell_type": "markdown",
   "metadata": {},
   "source": [
    "\n",
    "**Sendy Logistics:**\n",
    "\n",
    "Sendy is a business-to-business platform established in 2014, to enable businesses of all types and sizes to transport goods more efficiently across East Africa.The company is headquartered in Kenya with a team of more than 100 staff, focused on building practical solutions for Africa’s dynamic transportation needs, from developing apps and web solutions, to providing dedicated support for goods on the move.\n",
    "\n",
    "Currently operating in Kenya and Uganda, Sendy is expanding to Nigeria and Tanzania, to enable thousands more businesses to move volumes of goods easily, anywhere, at any time. Sendy aggregates a pool of delivery options from 28 ton, 14 ton, 5 ton trucks to pick up trucks, vans and motorcycles.\n",
    "\n",
    "<p><img src=\"./image/Sendy-delivery-1200x500.jpg\" alt=\"Sendy Logistics Logo\"></p>\n",
    "\n",
    "\n",
    "Sendy Logistics has realised that data is a critical component that can aid in building more efficient, affordable and accessible solutions as such they are interested in using data to predict the estimated time of delivery of orders, from the point of driver pickup to the point of arrival at final destination. \n",
    "\n",
    "The solution will help Sendy enhance customer communication and the reliability of its service; which will ultimately improve customer experience. In addition, the solution will enable Sendy to realise cost savings, and ultimately reduce the cost of doing business through improved resource management and planning for order scheduling.\n",
    "\n",
    "To help Sendy achieve this goal we will build a predictive model that will predict estimated time of delivery of orders by looking at all factors that could influence the time from pick up to arrival of an order such as distance, date, the rider delivering the order etc."
   ]
  },
  {
   "cell_type": "markdown",
   "metadata": {
    "id": "xeYOiO5zVDmt"
   },
   "source": [
    "# Here are the modules for this project: ##"
   ]
  },
  {
   "cell_type": "code",
   "execution_count": 1,
   "metadata": {
    "id": "ofojqnkBVDmu"
   },
   "outputs": [
    {
     "name": "stderr",
     "output_type": "stream",
     "text": [
      "C:\\Users\\hp\\Anaconda3\\lib\\site-packages\\dask\\dataframe\\utils.py:13: FutureWarning: pandas.util.testing is deprecated. Use the functions in the public API at pandas.testing instead.\n",
      "  import pandas.util.testing as tm\n"
     ]
    }
   ],
   "source": [
    "\n",
    "# Modules used to handle data:\n",
    "import numpy as np\n",
    "import pandas as pd\n",
    "from numpy import arange\n",
    "\n",
    "# Modules used for Data Visualization:\n",
    "%matplotlib inline\n",
    "%matplotlib notebook\n",
    "import matplotlib.pyplot as plt\n",
    "\n",
    "import seaborn as sns\n",
    "\n",
    "# Statistical metrics modules used to evaluate the performance of the models:\n",
    "from sklearn.metrics import mean_squared_error\n",
    "\n",
    "# Module implemented when working with Feature scaling:\n",
    "from sklearn.preprocessing import StandardScaler\n",
    "\n",
    "# Model classifiers modules:\n",
    "from mpl_toolkits.mplot3d import Axes3D\n",
    "from scipy.stats import pearsonr\n",
    "from sklearn.model_selection import train_test_split\n",
    "from sklearn.linear_model import LinearRegression\n",
    "from catboost import CatBoostRegressor\n",
    "from sklearn.ensemble import RandomForestRegressor\n",
    "from sklearn.tree import DecisionTreeRegressor\n",
    "from sklearn.svm import SVR\n",
    "from sklearn.preprocessing import PolynomialFeatures\n",
    "from sklearn.ensemble import GradientBoostingRegressor\n",
    "from xgboost import XGBRegressor\n",
    "from sklearn.model_selection import GridSearchCV \n",
    "from sklearn.model_selection import RepeatedKFold\n"
   ]
  },
  {
   "cell_type": "markdown",
   "metadata": {},
   "source": [
    "After importing the modules it is worth noting that the modules that were used to handle the data were numpy and pandas. The numpy libraries were implemented to work with numpy arrays. On the other hand, the pandas were used to merge and modify our dataset. In order to make sense of the data by visualizing it, the matplotlib and seaborn libraries were used. On the next step, we note the use of pandas to load the `csv` files. "
   ]
  },
  {
   "cell_type": "markdown",
   "metadata": {
    "id": "8nF9J-OWVDmz"
   },
   "source": [
    "## Loading the dataset ##\n",
    "\n",
    "- Four datafiles were loaded named:\n",
    "    1. riders : `Riders.csv` contains information of riders that make the deliveries.\n",
    "    2. train : `Train.csv` contains  Sendy historic data of orders with 28 features, this is the data we will use to train our model.\n",
    "    3. test : `Test.csv` contains  Sendy historic data of orders with 24 features, this is the data we will use to test our model. \n",
    "    4. var_def: The `VariableDefinitions.csv` consists of features that are abbreviated, this dataset consists descriptions of all the features contained in the three datasets\n",
    "\n"
   ]
  },
  {
   "cell_type": "code",
   "execution_count": 2,
   "metadata": {
    "id": "gsWHYIHPVDm0",
    "tags": []
   },
   "outputs": [],
   "source": [
    "#Loading the data:\n",
    "riders = pd.read_csv(\"./regression data/Riders.csv\")\n",
    "train = pd.read_csv(\"./regression data/Train.csv\")\n",
    "test = pd.read_csv(\"./regression data/Test.csv\")\n",
    "var_def = pd.read_csv('./regression data/VariableDefinitions.csv')"
   ]
  },
  {
   "cell_type": "markdown",
   "metadata": {},
   "source": [
    "As we have completed loading the CSV's we looked into each of the dataframe to understand the data at hand. We start by analysing the train, test and riders dataset."
   ]
  },
  {
   "cell_type": "markdown",
   "metadata": {
    "id": "UWsD8MKrprDz"
   },
   "source": [
    "# Analysis of the data\n",
    "\n",
    "Here we explore the datasets to get an understanding of the features involved and how they related to each other. In gathering the insights into the data, we looked into each datasets by looking for:\n",
    "\n",
    "- View the first five rows of the dataset.\n",
    "- Look at the structure of that particular dataset. Returns size of dataframe/series which is equivalent to total number of elements. That is rows x columns.\n",
    "- Look at the info of these features of the dataframe. This function is crucial because it provides a consice summary of the dataframe. When doing exploratory analysis of the data it becomes handy. "
   ]
  },
  {
   "cell_type": "code",
   "execution_count": 3,
   "metadata": {
    "scrolled": true
   },
   "outputs": [
    {
     "data": {
      "text/html": [
       "<div>\n",
       "<style scoped>\n",
       "    .dataframe tbody tr th:only-of-type {\n",
       "        vertical-align: middle;\n",
       "    }\n",
       "\n",
       "    .dataframe tbody tr th {\n",
       "        vertical-align: top;\n",
       "    }\n",
       "\n",
       "    .dataframe thead th {\n",
       "        text-align: right;\n",
       "    }\n",
       "</style>\n",
       "<table border=\"1\" class=\"dataframe\">\n",
       "  <thead>\n",
       "    <tr style=\"text-align: right;\">\n",
       "      <th></th>\n",
       "      <th>Order No</th>\n",
       "      <th>User Id</th>\n",
       "      <th>Vehicle Type</th>\n",
       "      <th>Platform Type</th>\n",
       "      <th>Personal or Business</th>\n",
       "      <th>Placement - Day of Month</th>\n",
       "      <th>Placement - Weekday (Mo = 1)</th>\n",
       "      <th>Placement - Time</th>\n",
       "      <th>Confirmation - Day of Month</th>\n",
       "      <th>Confirmation - Weekday (Mo = 1)</th>\n",
       "      <th>...</th>\n",
       "      <th>Arrival at Destination - Time</th>\n",
       "      <th>Distance (KM)</th>\n",
       "      <th>Temperature</th>\n",
       "      <th>Precipitation in millimeters</th>\n",
       "      <th>Pickup Lat</th>\n",
       "      <th>Pickup Long</th>\n",
       "      <th>Destination Lat</th>\n",
       "      <th>Destination Long</th>\n",
       "      <th>Rider Id</th>\n",
       "      <th>Time from Pickup to Arrival</th>\n",
       "    </tr>\n",
       "  </thead>\n",
       "  <tbody>\n",
       "    <tr>\n",
       "      <th>0</th>\n",
       "      <td>Order_No_4211</td>\n",
       "      <td>User_Id_633</td>\n",
       "      <td>Bike</td>\n",
       "      <td>3</td>\n",
       "      <td>Business</td>\n",
       "      <td>9</td>\n",
       "      <td>5</td>\n",
       "      <td>9:35:46 AM</td>\n",
       "      <td>9</td>\n",
       "      <td>5</td>\n",
       "      <td>...</td>\n",
       "      <td>10:39:55 AM</td>\n",
       "      <td>4</td>\n",
       "      <td>20.4</td>\n",
       "      <td>NaN</td>\n",
       "      <td>-1.317755</td>\n",
       "      <td>36.830370</td>\n",
       "      <td>-1.300406</td>\n",
       "      <td>36.829741</td>\n",
       "      <td>Rider_Id_432</td>\n",
       "      <td>745</td>\n",
       "    </tr>\n",
       "    <tr>\n",
       "      <th>1</th>\n",
       "      <td>Order_No_25375</td>\n",
       "      <td>User_Id_2285</td>\n",
       "      <td>Bike</td>\n",
       "      <td>3</td>\n",
       "      <td>Personal</td>\n",
       "      <td>12</td>\n",
       "      <td>5</td>\n",
       "      <td>11:16:16 AM</td>\n",
       "      <td>12</td>\n",
       "      <td>5</td>\n",
       "      <td>...</td>\n",
       "      <td>12:17:22 PM</td>\n",
       "      <td>16</td>\n",
       "      <td>26.4</td>\n",
       "      <td>NaN</td>\n",
       "      <td>-1.351453</td>\n",
       "      <td>36.899315</td>\n",
       "      <td>-1.295004</td>\n",
       "      <td>36.814358</td>\n",
       "      <td>Rider_Id_856</td>\n",
       "      <td>1993</td>\n",
       "    </tr>\n",
       "    <tr>\n",
       "      <th>2</th>\n",
       "      <td>Order_No_1899</td>\n",
       "      <td>User_Id_265</td>\n",
       "      <td>Bike</td>\n",
       "      <td>3</td>\n",
       "      <td>Business</td>\n",
       "      <td>30</td>\n",
       "      <td>2</td>\n",
       "      <td>12:39:25 PM</td>\n",
       "      <td>30</td>\n",
       "      <td>2</td>\n",
       "      <td>...</td>\n",
       "      <td>1:00:38 PM</td>\n",
       "      <td>3</td>\n",
       "      <td>NaN</td>\n",
       "      <td>NaN</td>\n",
       "      <td>-1.308284</td>\n",
       "      <td>36.843419</td>\n",
       "      <td>-1.300921</td>\n",
       "      <td>36.828195</td>\n",
       "      <td>Rider_Id_155</td>\n",
       "      <td>455</td>\n",
       "    </tr>\n",
       "    <tr>\n",
       "      <th>3</th>\n",
       "      <td>Order_No_9336</td>\n",
       "      <td>User_Id_1402</td>\n",
       "      <td>Bike</td>\n",
       "      <td>3</td>\n",
       "      <td>Business</td>\n",
       "      <td>15</td>\n",
       "      <td>5</td>\n",
       "      <td>9:25:34 AM</td>\n",
       "      <td>15</td>\n",
       "      <td>5</td>\n",
       "      <td>...</td>\n",
       "      <td>10:05:27 AM</td>\n",
       "      <td>9</td>\n",
       "      <td>19.2</td>\n",
       "      <td>NaN</td>\n",
       "      <td>-1.281301</td>\n",
       "      <td>36.832396</td>\n",
       "      <td>-1.257147</td>\n",
       "      <td>36.795063</td>\n",
       "      <td>Rider_Id_855</td>\n",
       "      <td>1341</td>\n",
       "    </tr>\n",
       "    <tr>\n",
       "      <th>4</th>\n",
       "      <td>Order_No_27883</td>\n",
       "      <td>User_Id_1737</td>\n",
       "      <td>Bike</td>\n",
       "      <td>1</td>\n",
       "      <td>Personal</td>\n",
       "      <td>13</td>\n",
       "      <td>1</td>\n",
       "      <td>9:55:18 AM</td>\n",
       "      <td>13</td>\n",
       "      <td>1</td>\n",
       "      <td>...</td>\n",
       "      <td>10:25:37 AM</td>\n",
       "      <td>9</td>\n",
       "      <td>15.4</td>\n",
       "      <td>NaN</td>\n",
       "      <td>-1.266597</td>\n",
       "      <td>36.792118</td>\n",
       "      <td>-1.295041</td>\n",
       "      <td>36.809817</td>\n",
       "      <td>Rider_Id_770</td>\n",
       "      <td>1214</td>\n",
       "    </tr>\n",
       "  </tbody>\n",
       "</table>\n",
       "<p>5 rows × 29 columns</p>\n",
       "</div>"
      ],
      "text/plain": [
       "         Order No       User Id Vehicle Type  Platform Type  \\\n",
       "0   Order_No_4211   User_Id_633         Bike              3   \n",
       "1  Order_No_25375  User_Id_2285         Bike              3   \n",
       "2   Order_No_1899   User_Id_265         Bike              3   \n",
       "3   Order_No_9336  User_Id_1402         Bike              3   \n",
       "4  Order_No_27883  User_Id_1737         Bike              1   \n",
       "\n",
       "  Personal or Business  Placement - Day of Month  \\\n",
       "0             Business                         9   \n",
       "1             Personal                        12   \n",
       "2             Business                        30   \n",
       "3             Business                        15   \n",
       "4             Personal                        13   \n",
       "\n",
       "   Placement - Weekday (Mo = 1) Placement - Time  Confirmation - Day of Month  \\\n",
       "0                             5       9:35:46 AM                            9   \n",
       "1                             5      11:16:16 AM                           12   \n",
       "2                             2      12:39:25 PM                           30   \n",
       "3                             5       9:25:34 AM                           15   \n",
       "4                             1       9:55:18 AM                           13   \n",
       "\n",
       "   Confirmation - Weekday (Mo = 1)  ... Arrival at Destination - Time  \\\n",
       "0                                5  ...                   10:39:55 AM   \n",
       "1                                5  ...                   12:17:22 PM   \n",
       "2                                2  ...                    1:00:38 PM   \n",
       "3                                5  ...                   10:05:27 AM   \n",
       "4                                1  ...                   10:25:37 AM   \n",
       "\n",
       "   Distance (KM)  Temperature Precipitation in millimeters  Pickup Lat  \\\n",
       "0              4         20.4                          NaN   -1.317755   \n",
       "1             16         26.4                          NaN   -1.351453   \n",
       "2              3          NaN                          NaN   -1.308284   \n",
       "3              9         19.2                          NaN   -1.281301   \n",
       "4              9         15.4                          NaN   -1.266597   \n",
       "\n",
       "   Pickup Long Destination Lat  Destination Long      Rider Id  \\\n",
       "0    36.830370       -1.300406         36.829741  Rider_Id_432   \n",
       "1    36.899315       -1.295004         36.814358  Rider_Id_856   \n",
       "2    36.843419       -1.300921         36.828195  Rider_Id_155   \n",
       "3    36.832396       -1.257147         36.795063  Rider_Id_855   \n",
       "4    36.792118       -1.295041         36.809817  Rider_Id_770   \n",
       "\n",
       "  Time from Pickup to Arrival  \n",
       "0                         745  \n",
       "1                        1993  \n",
       "2                         455  \n",
       "3                        1341  \n",
       "4                        1214  \n",
       "\n",
       "[5 rows x 29 columns]"
      ]
     },
     "execution_count": 3,
     "metadata": {},
     "output_type": "execute_result"
    }
   ],
   "source": [
    "# View of the first 5 columns of the train datatset.\n",
    "train.head()"
   ]
  },
  {
   "cell_type": "code",
   "execution_count": 4,
   "metadata": {
    "scrolled": true
   },
   "outputs": [
    {
     "data": {
      "text/plain": [
       "(21201, 29)"
      ]
     },
     "execution_count": 4,
     "metadata": {},
     "output_type": "execute_result"
    }
   ],
   "source": [
    "# The (rows ,columns) of the train dataframe:\n",
    "train.shape"
   ]
  },
  {
   "cell_type": "code",
   "execution_count": 5,
   "metadata": {
    "scrolled": true
   },
   "outputs": [
    {
     "name": "stdout",
     "output_type": "stream",
     "text": [
      "<class 'pandas.core.frame.DataFrame'>\n",
      "RangeIndex: 21201 entries, 0 to 21200\n",
      "Data columns (total 29 columns):\n",
      " #   Column                                     Non-Null Count  Dtype  \n",
      "---  ------                                     --------------  -----  \n",
      " 0   Order No                                   21201 non-null  object \n",
      " 1   User Id                                    21201 non-null  object \n",
      " 2   Vehicle Type                               21201 non-null  object \n",
      " 3   Platform Type                              21201 non-null  int64  \n",
      " 4   Personal or Business                       21201 non-null  object \n",
      " 5   Placement - Day of Month                   21201 non-null  int64  \n",
      " 6   Placement - Weekday (Mo = 1)               21201 non-null  int64  \n",
      " 7   Placement - Time                           21201 non-null  object \n",
      " 8   Confirmation - Day of Month                21201 non-null  int64  \n",
      " 9   Confirmation - Weekday (Mo = 1)            21201 non-null  int64  \n",
      " 10  Confirmation - Time                        21201 non-null  object \n",
      " 11  Arrival at Pickup - Day of Month           21201 non-null  int64  \n",
      " 12  Arrival at Pickup - Weekday (Mo = 1)       21201 non-null  int64  \n",
      " 13  Arrival at Pickup - Time                   21201 non-null  object \n",
      " 14  Pickup - Day of Month                      21201 non-null  int64  \n",
      " 15  Pickup - Weekday (Mo = 1)                  21201 non-null  int64  \n",
      " 16  Pickup - Time                              21201 non-null  object \n",
      " 17  Arrival at Destination - Day of Month      21201 non-null  int64  \n",
      " 18  Arrival at Destination - Weekday (Mo = 1)  21201 non-null  int64  \n",
      " 19  Arrival at Destination - Time              21201 non-null  object \n",
      " 20  Distance (KM)                              21201 non-null  int64  \n",
      " 21  Temperature                                16835 non-null  float64\n",
      " 22  Precipitation in millimeters               552 non-null    float64\n",
      " 23  Pickup Lat                                 21201 non-null  float64\n",
      " 24  Pickup Long                                21201 non-null  float64\n",
      " 25  Destination Lat                            21201 non-null  float64\n",
      " 26  Destination Long                           21201 non-null  float64\n",
      " 27  Rider Id                                   21201 non-null  object \n",
      " 28  Time from Pickup to Arrival                21201 non-null  int64  \n",
      "dtypes: float64(6), int64(13), object(10)\n",
      "memory usage: 4.7+ MB\n"
     ]
    }
   ],
   "source": [
    "# The quick overview of the train dataset:\n",
    "train.info()"
   ]
  },
  {
   "cell_type": "code",
   "execution_count": 6,
   "metadata": {},
   "outputs": [
    {
     "data": {
      "text/html": [
       "<div>\n",
       "<style scoped>\n",
       "    .dataframe tbody tr th:only-of-type {\n",
       "        vertical-align: middle;\n",
       "    }\n",
       "\n",
       "    .dataframe tbody tr th {\n",
       "        vertical-align: top;\n",
       "    }\n",
       "\n",
       "    .dataframe thead th {\n",
       "        text-align: right;\n",
       "    }\n",
       "</style>\n",
       "<table border=\"1\" class=\"dataframe\">\n",
       "  <thead>\n",
       "    <tr style=\"text-align: right;\">\n",
       "      <th></th>\n",
       "      <th>Order No</th>\n",
       "      <th>User Id</th>\n",
       "      <th>Vehicle Type</th>\n",
       "      <th>Platform Type</th>\n",
       "      <th>Personal or Business</th>\n",
       "      <th>Placement - Day of Month</th>\n",
       "      <th>Placement - Weekday (Mo = 1)</th>\n",
       "      <th>Placement - Time</th>\n",
       "      <th>Confirmation - Day of Month</th>\n",
       "      <th>Confirmation - Weekday (Mo = 1)</th>\n",
       "      <th>...</th>\n",
       "      <th>Pickup - Weekday (Mo = 1)</th>\n",
       "      <th>Pickup - Time</th>\n",
       "      <th>Distance (KM)</th>\n",
       "      <th>Temperature</th>\n",
       "      <th>Precipitation in millimeters</th>\n",
       "      <th>Pickup Lat</th>\n",
       "      <th>Pickup Long</th>\n",
       "      <th>Destination Lat</th>\n",
       "      <th>Destination Long</th>\n",
       "      <th>Rider Id</th>\n",
       "    </tr>\n",
       "  </thead>\n",
       "  <tbody>\n",
       "    <tr>\n",
       "      <th>0</th>\n",
       "      <td>Order_No_19248</td>\n",
       "      <td>User_Id_3355</td>\n",
       "      <td>Bike</td>\n",
       "      <td>3</td>\n",
       "      <td>Business</td>\n",
       "      <td>27</td>\n",
       "      <td>3</td>\n",
       "      <td>4:44:10 PM</td>\n",
       "      <td>27</td>\n",
       "      <td>3</td>\n",
       "      <td>...</td>\n",
       "      <td>3</td>\n",
       "      <td>5:06:47 PM</td>\n",
       "      <td>8</td>\n",
       "      <td>NaN</td>\n",
       "      <td>NaN</td>\n",
       "      <td>-1.333275</td>\n",
       "      <td>36.870815</td>\n",
       "      <td>-1.305249</td>\n",
       "      <td>36.822390</td>\n",
       "      <td>Rider_Id_192</td>\n",
       "    </tr>\n",
       "    <tr>\n",
       "      <th>1</th>\n",
       "      <td>Order_No_12736</td>\n",
       "      <td>User_Id_3647</td>\n",
       "      <td>Bike</td>\n",
       "      <td>3</td>\n",
       "      <td>Business</td>\n",
       "      <td>17</td>\n",
       "      <td>5</td>\n",
       "      <td>12:57:35 PM</td>\n",
       "      <td>17</td>\n",
       "      <td>5</td>\n",
       "      <td>...</td>\n",
       "      <td>5</td>\n",
       "      <td>1:25:37 PM</td>\n",
       "      <td>5</td>\n",
       "      <td>NaN</td>\n",
       "      <td>NaN</td>\n",
       "      <td>-1.272639</td>\n",
       "      <td>36.794723</td>\n",
       "      <td>-1.277007</td>\n",
       "      <td>36.823907</td>\n",
       "      <td>Rider_Id_868</td>\n",
       "    </tr>\n",
       "    <tr>\n",
       "      <th>2</th>\n",
       "      <td>Order_No_768</td>\n",
       "      <td>User_Id_2154</td>\n",
       "      <td>Bike</td>\n",
       "      <td>3</td>\n",
       "      <td>Business</td>\n",
       "      <td>27</td>\n",
       "      <td>4</td>\n",
       "      <td>11:08:14 AM</td>\n",
       "      <td>27</td>\n",
       "      <td>4</td>\n",
       "      <td>...</td>\n",
       "      <td>4</td>\n",
       "      <td>11:57:54 AM</td>\n",
       "      <td>5</td>\n",
       "      <td>22.8</td>\n",
       "      <td>NaN</td>\n",
       "      <td>-1.290894</td>\n",
       "      <td>36.822971</td>\n",
       "      <td>-1.276574</td>\n",
       "      <td>36.851365</td>\n",
       "      <td>Rider_Id_26</td>\n",
       "    </tr>\n",
       "    <tr>\n",
       "      <th>3</th>\n",
       "      <td>Order_No_15332</td>\n",
       "      <td>User_Id_2910</td>\n",
       "      <td>Bike</td>\n",
       "      <td>3</td>\n",
       "      <td>Business</td>\n",
       "      <td>17</td>\n",
       "      <td>1</td>\n",
       "      <td>1:51:35 PM</td>\n",
       "      <td>17</td>\n",
       "      <td>1</td>\n",
       "      <td>...</td>\n",
       "      <td>1</td>\n",
       "      <td>2:16:52 PM</td>\n",
       "      <td>5</td>\n",
       "      <td>24.5</td>\n",
       "      <td>NaN</td>\n",
       "      <td>-1.290503</td>\n",
       "      <td>36.809646</td>\n",
       "      <td>-1.303382</td>\n",
       "      <td>36.790658</td>\n",
       "      <td>Rider_Id_685</td>\n",
       "    </tr>\n",
       "    <tr>\n",
       "      <th>4</th>\n",
       "      <td>Order_No_21373</td>\n",
       "      <td>User_Id_1205</td>\n",
       "      <td>Bike</td>\n",
       "      <td>3</td>\n",
       "      <td>Business</td>\n",
       "      <td>11</td>\n",
       "      <td>2</td>\n",
       "      <td>11:30:28 AM</td>\n",
       "      <td>11</td>\n",
       "      <td>2</td>\n",
       "      <td>...</td>\n",
       "      <td>2</td>\n",
       "      <td>11:56:04 AM</td>\n",
       "      <td>6</td>\n",
       "      <td>24.4</td>\n",
       "      <td>NaN</td>\n",
       "      <td>-1.281081</td>\n",
       "      <td>36.814423</td>\n",
       "      <td>-1.266467</td>\n",
       "      <td>36.792161</td>\n",
       "      <td>Rider_Id_858</td>\n",
       "    </tr>\n",
       "  </tbody>\n",
       "</table>\n",
       "<p>5 rows × 25 columns</p>\n",
       "</div>"
      ],
      "text/plain": [
       "         Order No       User Id Vehicle Type  Platform Type  \\\n",
       "0  Order_No_19248  User_Id_3355         Bike              3   \n",
       "1  Order_No_12736  User_Id_3647         Bike              3   \n",
       "2    Order_No_768  User_Id_2154         Bike              3   \n",
       "3  Order_No_15332  User_Id_2910         Bike              3   \n",
       "4  Order_No_21373  User_Id_1205         Bike              3   \n",
       "\n",
       "  Personal or Business  Placement - Day of Month  \\\n",
       "0             Business                        27   \n",
       "1             Business                        17   \n",
       "2             Business                        27   \n",
       "3             Business                        17   \n",
       "4             Business                        11   \n",
       "\n",
       "   Placement - Weekday (Mo = 1) Placement - Time  Confirmation - Day of Month  \\\n",
       "0                             3       4:44:10 PM                           27   \n",
       "1                             5      12:57:35 PM                           17   \n",
       "2                             4      11:08:14 AM                           27   \n",
       "3                             1       1:51:35 PM                           17   \n",
       "4                             2      11:30:28 AM                           11   \n",
       "\n",
       "   Confirmation - Weekday (Mo = 1)  ... Pickup - Weekday (Mo = 1)  \\\n",
       "0                                3  ...                         3   \n",
       "1                                5  ...                         5   \n",
       "2                                4  ...                         4   \n",
       "3                                1  ...                         1   \n",
       "4                                2  ...                         2   \n",
       "\n",
       "   Pickup - Time  Distance (KM) Temperature  Precipitation in millimeters  \\\n",
       "0     5:06:47 PM              8         NaN                           NaN   \n",
       "1     1:25:37 PM              5         NaN                           NaN   \n",
       "2    11:57:54 AM              5        22.8                           NaN   \n",
       "3     2:16:52 PM              5        24.5                           NaN   \n",
       "4    11:56:04 AM              6        24.4                           NaN   \n",
       "\n",
       "   Pickup Lat Pickup Long  Destination Lat  Destination Long      Rider Id  \n",
       "0   -1.333275   36.870815        -1.305249         36.822390  Rider_Id_192  \n",
       "1   -1.272639   36.794723        -1.277007         36.823907  Rider_Id_868  \n",
       "2   -1.290894   36.822971        -1.276574         36.851365   Rider_Id_26  \n",
       "3   -1.290503   36.809646        -1.303382         36.790658  Rider_Id_685  \n",
       "4   -1.281081   36.814423        -1.266467         36.792161  Rider_Id_858  \n",
       "\n",
       "[5 rows x 25 columns]"
      ]
     },
     "execution_count": 6,
     "metadata": {},
     "output_type": "execute_result"
    }
   ],
   "source": [
    "# View of the first 5 columns of the test datatset.\n",
    "test.head()"
   ]
  },
  {
   "cell_type": "code",
   "execution_count": 7,
   "metadata": {},
   "outputs": [
    {
     "data": {
      "text/plain": [
       "(7068, 25)"
      ]
     },
     "execution_count": 7,
     "metadata": {},
     "output_type": "execute_result"
    }
   ],
   "source": [
    "# The (rows ,columns) of the test dataframe:\n",
    "test.shape"
   ]
  },
  {
   "cell_type": "code",
   "execution_count": 8,
   "metadata": {},
   "outputs": [
    {
     "name": "stdout",
     "output_type": "stream",
     "text": [
      "<class 'pandas.core.frame.DataFrame'>\n",
      "RangeIndex: 7068 entries, 0 to 7067\n",
      "Data columns (total 25 columns):\n",
      " #   Column                                Non-Null Count  Dtype  \n",
      "---  ------                                --------------  -----  \n",
      " 0   Order No                              7068 non-null   object \n",
      " 1   User Id                               7068 non-null   object \n",
      " 2   Vehicle Type                          7068 non-null   object \n",
      " 3   Platform Type                         7068 non-null   int64  \n",
      " 4   Personal or Business                  7068 non-null   object \n",
      " 5   Placement - Day of Month              7068 non-null   int64  \n",
      " 6   Placement - Weekday (Mo = 1)          7068 non-null   int64  \n",
      " 7   Placement - Time                      7068 non-null   object \n",
      " 8   Confirmation - Day of Month           7068 non-null   int64  \n",
      " 9   Confirmation - Weekday (Mo = 1)       7068 non-null   int64  \n",
      " 10  Confirmation - Time                   7068 non-null   object \n",
      " 11  Arrival at Pickup - Day of Month      7068 non-null   int64  \n",
      " 12  Arrival at Pickup - Weekday (Mo = 1)  7068 non-null   int64  \n",
      " 13  Arrival at Pickup - Time              7068 non-null   object \n",
      " 14  Pickup - Day of Month                 7068 non-null   int64  \n",
      " 15  Pickup - Weekday (Mo = 1)             7068 non-null   int64  \n",
      " 16  Pickup - Time                         7068 non-null   object \n",
      " 17  Distance (KM)                         7068 non-null   int64  \n",
      " 18  Temperature                           5631 non-null   float64\n",
      " 19  Precipitation in millimeters          199 non-null    float64\n",
      " 20  Pickup Lat                            7068 non-null   float64\n",
      " 21  Pickup Long                           7068 non-null   float64\n",
      " 22  Destination Lat                       7068 non-null   float64\n",
      " 23  Destination Long                      7068 non-null   float64\n",
      " 24  Rider Id                              7068 non-null   object \n",
      "dtypes: float64(6), int64(10), object(9)\n",
      "memory usage: 1.3+ MB\n"
     ]
    }
   ],
   "source": [
    "# The quick overview of the test dataset:\n",
    "test.info()"
   ]
  },
  {
   "cell_type": "code",
   "execution_count": 9,
   "metadata": {
    "colab": {
     "base_uri": "https://localhost:8080/",
     "height": 195
    },
    "id": "VcKfuW8UprD0",
    "outputId": "63d4f600-20d2-4a46-a20c-b7754d19e95b",
    "scrolled": true
   },
   "outputs": [
    {
     "data": {
      "text/html": [
       "<div>\n",
       "<style scoped>\n",
       "    .dataframe tbody tr th:only-of-type {\n",
       "        vertical-align: middle;\n",
       "    }\n",
       "\n",
       "    .dataframe tbody tr th {\n",
       "        vertical-align: top;\n",
       "    }\n",
       "\n",
       "    .dataframe thead th {\n",
       "        text-align: right;\n",
       "    }\n",
       "</style>\n",
       "<table border=\"1\" class=\"dataframe\">\n",
       "  <thead>\n",
       "    <tr style=\"text-align: right;\">\n",
       "      <th></th>\n",
       "      <th>Rider Id</th>\n",
       "      <th>No_Of_Orders</th>\n",
       "      <th>Age</th>\n",
       "      <th>Average_Rating</th>\n",
       "      <th>No_of_Ratings</th>\n",
       "    </tr>\n",
       "  </thead>\n",
       "  <tbody>\n",
       "    <tr>\n",
       "      <th>0</th>\n",
       "      <td>Rider_Id_396</td>\n",
       "      <td>2946</td>\n",
       "      <td>2298</td>\n",
       "      <td>14.0</td>\n",
       "      <td>1159</td>\n",
       "    </tr>\n",
       "    <tr>\n",
       "      <th>1</th>\n",
       "      <td>Rider_Id_479</td>\n",
       "      <td>360</td>\n",
       "      <td>951</td>\n",
       "      <td>13.5</td>\n",
       "      <td>176</td>\n",
       "    </tr>\n",
       "    <tr>\n",
       "      <th>2</th>\n",
       "      <td>Rider_Id_648</td>\n",
       "      <td>1746</td>\n",
       "      <td>821</td>\n",
       "      <td>14.3</td>\n",
       "      <td>466</td>\n",
       "    </tr>\n",
       "    <tr>\n",
       "      <th>3</th>\n",
       "      <td>Rider_Id_753</td>\n",
       "      <td>314</td>\n",
       "      <td>980</td>\n",
       "      <td>12.5</td>\n",
       "      <td>75</td>\n",
       "    </tr>\n",
       "    <tr>\n",
       "      <th>4</th>\n",
       "      <td>Rider_Id_335</td>\n",
       "      <td>536</td>\n",
       "      <td>1113</td>\n",
       "      <td>13.7</td>\n",
       "      <td>156</td>\n",
       "    </tr>\n",
       "  </tbody>\n",
       "</table>\n",
       "</div>"
      ],
      "text/plain": [
       "       Rider Id  No_Of_Orders   Age  Average_Rating  No_of_Ratings\n",
       "0  Rider_Id_396          2946  2298            14.0           1159\n",
       "1  Rider_Id_479           360   951            13.5            176\n",
       "2  Rider_Id_648          1746   821            14.3            466\n",
       "3  Rider_Id_753           314   980            12.5             75\n",
       "4  Rider_Id_335           536  1113            13.7            156"
      ]
     },
     "execution_count": 9,
     "metadata": {},
     "output_type": "execute_result"
    }
   ],
   "source": [
    "# View of the first 5 columns of the riders datatset.\n",
    "riders.head()"
   ]
  },
  {
   "cell_type": "code",
   "execution_count": 10,
   "metadata": {
    "colab": {
     "base_uri": "https://localhost:8080/",
     "height": 34
    },
    "id": "u49Hy_TSprD7",
    "outputId": "746bc94a-d9cf-420a-9f58-92cca26259c6"
   },
   "outputs": [
    {
     "data": {
      "text/plain": [
       "(960, 5)"
      ]
     },
     "execution_count": 10,
     "metadata": {},
     "output_type": "execute_result"
    }
   ],
   "source": [
    "# The (rows ,columns) of the riders dataframe:\n",
    "riders.shape"
   ]
  },
  {
   "cell_type": "code",
   "execution_count": 11,
   "metadata": {},
   "outputs": [
    {
     "name": "stdout",
     "output_type": "stream",
     "text": [
      "<class 'pandas.core.frame.DataFrame'>\n",
      "RangeIndex: 960 entries, 0 to 959\n",
      "Data columns (total 5 columns):\n",
      " #   Column          Non-Null Count  Dtype  \n",
      "---  ------          --------------  -----  \n",
      " 0   Rider Id        960 non-null    object \n",
      " 1   No_Of_Orders    960 non-null    int64  \n",
      " 2   Age             960 non-null    int64  \n",
      " 3   Average_Rating  960 non-null    float64\n",
      " 4   No_of_Ratings   960 non-null    int64  \n",
      "dtypes: float64(1), int64(3), object(1)\n",
      "memory usage: 37.6+ KB\n"
     ]
    }
   ],
   "source": [
    "# The quick overview of the test dataset:\n",
    "riders.info()"
   ]
  },
  {
   "cell_type": "markdown",
   "metadata": {
    "id": "OgQY6fn-prET"
   },
   "source": [
    "**Key observations:**\n",
    "- The target column for modelling is the the \"Time from Pickup to Arrival\", which is rightfully in the train dataset.\n",
    "- The train dataset has four extra columns, compared to the 25 that are in the test dataset. The four extra columns are: \n",
    "\n",
    "    1. Arrival at Destination - Day of Month\n",
    "    2. Arrival at Destination - Weekday (Mo = 1)\n",
    "    3. Arrival at Destination - Time\n",
    "    4. Time from Pickup to Arrival\n",
    "    \n",
    "  One of the four is the target column as expected (i.e. \"Time from Pickup to Arrival\"), we may have to drop the other three.\n",
    "- Riders dataset is not linked to the target variable, it will need to joined to train and test data by \"Rider Id\" column which is common in all three datasets.\n",
    "- Train dataset has most observations at 21 201, followed by train data at 7 068, and riders with 960.\n",
    "- There are missing values evident in the \"Temperature\" and \"Precipitation in millimeters\" columns, we will have to search and handle missing data. \n",
    "-  Investigate the column name, datatype  and missing values in each column"
   ]
  },
  {
   "cell_type": "markdown",
   "metadata": {},
   "source": [
    "**Checking for null values**"
   ]
  },
  {
   "cell_type": "code",
   "execution_count": 12,
   "metadata": {},
   "outputs": [
    {
     "data": {
      "text/plain": [
       "Order No                                         0\n",
       "User Id                                          0\n",
       "Vehicle Type                                     0\n",
       "Platform Type                                    0\n",
       "Personal or Business                             0\n",
       "Placement - Day of Month                         0\n",
       "Placement - Weekday (Mo = 1)                     0\n",
       "Placement - Time                                 0\n",
       "Confirmation - Day of Month                      0\n",
       "Confirmation - Weekday (Mo = 1)                  0\n",
       "Confirmation - Time                              0\n",
       "Arrival at Pickup - Day of Month                 0\n",
       "Arrival at Pickup - Weekday (Mo = 1)             0\n",
       "Arrival at Pickup - Time                         0\n",
       "Pickup - Day of Month                            0\n",
       "Pickup - Weekday (Mo = 1)                        0\n",
       "Pickup - Time                                    0\n",
       "Arrival at Destination - Day of Month            0\n",
       "Arrival at Destination - Weekday (Mo = 1)        0\n",
       "Arrival at Destination - Time                    0\n",
       "Distance (KM)                                    0\n",
       "Temperature                                   4366\n",
       "Precipitation in millimeters                 20649\n",
       "Pickup Lat                                       0\n",
       "Pickup Long                                      0\n",
       "Destination Lat                                  0\n",
       "Destination Long                                 0\n",
       "Rider Id                                         0\n",
       "Time from Pickup to Arrival                      0\n",
       "dtype: int64"
      ]
     },
     "execution_count": 12,
     "metadata": {},
     "output_type": "execute_result"
    }
   ],
   "source": [
    "# Check null values from the train data\n",
    "train.isnull().sum()"
   ]
  },
  {
   "cell_type": "code",
   "execution_count": 13,
   "metadata": {
    "scrolled": true
   },
   "outputs": [
    {
     "data": {
      "text/plain": [
       "Order No                                   0\n",
       "User Id                                    0\n",
       "Vehicle Type                               0\n",
       "Platform Type                              0\n",
       "Personal or Business                       0\n",
       "Placement - Day of Month                   0\n",
       "Placement - Weekday (Mo = 1)               0\n",
       "Placement - Time                           0\n",
       "Confirmation - Day of Month                0\n",
       "Confirmation - Weekday (Mo = 1)            0\n",
       "Confirmation - Time                        0\n",
       "Arrival at Pickup - Day of Month           0\n",
       "Arrival at Pickup - Weekday (Mo = 1)       0\n",
       "Arrival at Pickup - Time                   0\n",
       "Pickup - Day of Month                      0\n",
       "Pickup - Weekday (Mo = 1)                  0\n",
       "Pickup - Time                              0\n",
       "Distance (KM)                              0\n",
       "Temperature                             1437\n",
       "Precipitation in millimeters            6869\n",
       "Pickup Lat                                 0\n",
       "Pickup Long                                0\n",
       "Destination Lat                            0\n",
       "Destination Long                           0\n",
       "Rider Id                                   0\n",
       "dtype: int64"
      ]
     },
     "execution_count": 13,
     "metadata": {},
     "output_type": "execute_result"
    }
   ],
   "source": [
    "# Check null values from the test data\n",
    "test.isnull().sum()"
   ]
  },
  {
   "cell_type": "code",
   "execution_count": 14,
   "metadata": {
    "scrolled": true
   },
   "outputs": [
    {
     "data": {
      "text/plain": [
       "Rider Id          0\n",
       "No_Of_Orders      0\n",
       "Age               0\n",
       "Average_Rating    0\n",
       "No_of_Ratings     0\n",
       "dtype: int64"
      ]
     },
     "execution_count": 14,
     "metadata": {},
     "output_type": "execute_result"
    }
   ],
   "source": [
    "# Check null values from the riders data\n",
    "riders.isnull().sum()"
   ]
  },
  {
   "cell_type": "markdown",
   "metadata": {},
   "source": [
    "It is worth noting that the features Temperature and Precipitation in millimeters in both the data of train and test have missing values. When preprocessing the data it will be crucial to take note of that and either remove the columns of fill the missing values. "
   ]
  },
  {
   "cell_type": "markdown",
   "metadata": {},
   "source": [
    "**Now let us see how many unique values are present in each column**"
   ]
  },
  {
   "cell_type": "code",
   "execution_count": 15,
   "metadata": {
    "scrolled": true
   },
   "outputs": [
    {
     "name": "stdout",
     "output_type": "stream",
     "text": [
      "Unique values in    Order No :21201\n",
      "Unique values in    User Id :3186\n",
      "Unique values in    Vehicle Type :1\n",
      "Unique values in    Platform Type :4\n",
      "Unique values in    Personal or Business :2\n",
      "Unique values in    Placement - Day of Month :31\n",
      "Unique values in    Placement - Weekday (Mo = 1) :7\n",
      "Unique values in    Placement - Time :15686\n",
      "Unique values in    Confirmation - Day of Month :31\n",
      "Unique values in    Confirmation - Weekday (Mo = 1) :7\n",
      "Unique values in    Confirmation - Time :15742\n",
      "Unique values in    Arrival at Pickup - Day of Month :31\n",
      "Unique values in    Arrival at Pickup - Weekday (Mo = 1) :7\n",
      "Unique values in    Arrival at Pickup - Time :15767\n",
      "Unique values in    Pickup - Day of Month :31\n",
      "Unique values in    Pickup - Weekday (Mo = 1) :7\n",
      "Unique values in    Pickup - Time :15690\n",
      "Unique values in    Arrival at Destination - Day of Month :31\n",
      "Unique values in    Arrival at Destination - Weekday (Mo = 1) :7\n",
      "Unique values in    Arrival at Destination - Time :15725\n",
      "Unique values in    Distance (KM) :45\n",
      "Unique values in    Temperature :188\n",
      "Unique values in    Precipitation in millimeters :54\n",
      "Unique values in    Pickup Lat :3666\n",
      "Unique values in    Pickup Long :3656\n",
      "Unique values in    Destination Lat :5302\n",
      "Unique values in    Destination Long :5267\n",
      "Unique values in    Rider Id :924\n",
      "Unique values in    Time from Pickup to Arrival :4067\n"
     ]
    }
   ],
   "source": [
    "# The number of unique values in each of the column of the dataset.\n",
    "col_train = train.columns\n",
    "for col in col_train: \n",
    "    print(f'Unique values in    {col} :{train[col].nunique()}')\n"
   ]
  },
  {
   "cell_type": "code",
   "execution_count": 16,
   "metadata": {},
   "outputs": [
    {
     "name": "stdout",
     "output_type": "stream",
     "text": [
      "Unique values in    Order No :7068\n",
      "Unique values in    User Id :1617\n",
      "Unique values in    Vehicle Type :1\n",
      "Unique values in    Platform Type :4\n",
      "Unique values in    Personal or Business :2\n",
      "Unique values in    Placement - Day of Month :31\n",
      "Unique values in    Placement - Weekday (Mo = 1) :7\n",
      "Unique values in    Placement - Time :6336\n",
      "Unique values in    Confirmation - Day of Month :31\n",
      "Unique values in    Confirmation - Weekday (Mo = 1) :7\n",
      "Unique values in    Confirmation - Time :6388\n",
      "Unique values in    Arrival at Pickup - Day of Month :31\n",
      "Unique values in    Arrival at Pickup - Weekday (Mo = 1) :7\n",
      "Unique values in    Arrival at Pickup - Time :6374\n",
      "Unique values in    Pickup - Day of Month :31\n",
      "Unique values in    Pickup - Weekday (Mo = 1) :7\n",
      "Unique values in    Pickup - Time :6361\n",
      "Unique values in    Distance (KM) :41\n",
      "Unique values in    Temperature :182\n",
      "Unique values in    Precipitation in millimeters :43\n",
      "Unique values in    Pickup Lat :1863\n",
      "Unique values in    Pickup Long :1858\n",
      "Unique values in    Destination Lat :2628\n",
      "Unique values in    Destination Long :2619\n",
      "Unique values in    Rider Id :822\n"
     ]
    }
   ],
   "source": [
    "# The number of unique values in each of the column of the dataset.\n",
    "col_test = test.columns\n",
    "for col in col_test: \n",
    "    print(f'Unique values in    {col} :{test[col].nunique()}')"
   ]
  },
  {
   "cell_type": "markdown",
   "metadata": {
    "id": "hBqgOOTHprEm"
   },
   "source": [
    "### Evaluating descriptive statistics of the datasets\n",
    "We used the describe.method() to check to view some of the basic statistical details for each of the datasets used in this work. The returned output was transpose to observed the statistics for each feature evaluated. These are the numerical features from the train data which are 19 and the rest of the 10 dataset are non numerical. "
   ]
  },
  {
   "cell_type": "code",
   "execution_count": 17,
   "metadata": {
    "colab": {
     "base_uri": "https://localhost:8080/",
     "height": 166
    },
    "id": "a6Afz87xprEn",
    "outputId": "4a75e48f-bbc8-42e9-81d2-b0def1b0903a"
   },
   "outputs": [
    {
     "data": {
      "text/html": [
       "<div>\n",
       "<style scoped>\n",
       "    .dataframe tbody tr th:only-of-type {\n",
       "        vertical-align: middle;\n",
       "    }\n",
       "\n",
       "    .dataframe tbody tr th {\n",
       "        vertical-align: top;\n",
       "    }\n",
       "\n",
       "    .dataframe thead th {\n",
       "        text-align: right;\n",
       "    }\n",
       "</style>\n",
       "<table border=\"1\" class=\"dataframe\">\n",
       "  <thead>\n",
       "    <tr style=\"text-align: right;\">\n",
       "      <th></th>\n",
       "      <th>count</th>\n",
       "      <th>mean</th>\n",
       "      <th>std</th>\n",
       "      <th>min</th>\n",
       "      <th>25%</th>\n",
       "      <th>50%</th>\n",
       "      <th>75%</th>\n",
       "      <th>max</th>\n",
       "    </tr>\n",
       "  </thead>\n",
       "  <tbody>\n",
       "    <tr>\n",
       "      <th>Platform Type</th>\n",
       "      <td>21201.0</td>\n",
       "      <td>2.752182</td>\n",
       "      <td>0.625178</td>\n",
       "      <td>1.000000</td>\n",
       "      <td>3.000000</td>\n",
       "      <td>3.000000</td>\n",
       "      <td>3.000000</td>\n",
       "      <td>4.000000</td>\n",
       "    </tr>\n",
       "    <tr>\n",
       "      <th>Placement - Day of Month</th>\n",
       "      <td>21201.0</td>\n",
       "      <td>15.653696</td>\n",
       "      <td>8.798916</td>\n",
       "      <td>1.000000</td>\n",
       "      <td>8.000000</td>\n",
       "      <td>15.000000</td>\n",
       "      <td>23.000000</td>\n",
       "      <td>31.000000</td>\n",
       "    </tr>\n",
       "    <tr>\n",
       "      <th>Placement - Weekday (Mo = 1)</th>\n",
       "      <td>21201.0</td>\n",
       "      <td>3.240083</td>\n",
       "      <td>1.567295</td>\n",
       "      <td>1.000000</td>\n",
       "      <td>2.000000</td>\n",
       "      <td>3.000000</td>\n",
       "      <td>5.000000</td>\n",
       "      <td>7.000000</td>\n",
       "    </tr>\n",
       "    <tr>\n",
       "      <th>Confirmation - Day of Month</th>\n",
       "      <td>21201.0</td>\n",
       "      <td>15.653837</td>\n",
       "      <td>8.798886</td>\n",
       "      <td>1.000000</td>\n",
       "      <td>8.000000</td>\n",
       "      <td>15.000000</td>\n",
       "      <td>23.000000</td>\n",
       "      <td>31.000000</td>\n",
       "    </tr>\n",
       "    <tr>\n",
       "      <th>Confirmation - Weekday (Mo = 1)</th>\n",
       "      <td>21201.0</td>\n",
       "      <td>3.240225</td>\n",
       "      <td>1.567228</td>\n",
       "      <td>1.000000</td>\n",
       "      <td>2.000000</td>\n",
       "      <td>3.000000</td>\n",
       "      <td>5.000000</td>\n",
       "      <td>7.000000</td>\n",
       "    </tr>\n",
       "    <tr>\n",
       "      <th>Arrival at Pickup - Day of Month</th>\n",
       "      <td>21201.0</td>\n",
       "      <td>15.653837</td>\n",
       "      <td>8.798886</td>\n",
       "      <td>1.000000</td>\n",
       "      <td>8.000000</td>\n",
       "      <td>15.000000</td>\n",
       "      <td>23.000000</td>\n",
       "      <td>31.000000</td>\n",
       "    </tr>\n",
       "    <tr>\n",
       "      <th>Arrival at Pickup - Weekday (Mo = 1)</th>\n",
       "      <td>21201.0</td>\n",
       "      <td>3.240225</td>\n",
       "      <td>1.567228</td>\n",
       "      <td>1.000000</td>\n",
       "      <td>2.000000</td>\n",
       "      <td>3.000000</td>\n",
       "      <td>5.000000</td>\n",
       "      <td>7.000000</td>\n",
       "    </tr>\n",
       "    <tr>\n",
       "      <th>Pickup - Day of Month</th>\n",
       "      <td>21201.0</td>\n",
       "      <td>15.653837</td>\n",
       "      <td>8.798886</td>\n",
       "      <td>1.000000</td>\n",
       "      <td>8.000000</td>\n",
       "      <td>15.000000</td>\n",
       "      <td>23.000000</td>\n",
       "      <td>31.000000</td>\n",
       "    </tr>\n",
       "    <tr>\n",
       "      <th>Pickup - Weekday (Mo = 1)</th>\n",
       "      <td>21201.0</td>\n",
       "      <td>3.240225</td>\n",
       "      <td>1.567228</td>\n",
       "      <td>1.000000</td>\n",
       "      <td>2.000000</td>\n",
       "      <td>3.000000</td>\n",
       "      <td>5.000000</td>\n",
       "      <td>7.000000</td>\n",
       "    </tr>\n",
       "    <tr>\n",
       "      <th>Arrival at Destination - Day of Month</th>\n",
       "      <td>21201.0</td>\n",
       "      <td>15.653837</td>\n",
       "      <td>8.798886</td>\n",
       "      <td>1.000000</td>\n",
       "      <td>8.000000</td>\n",
       "      <td>15.000000</td>\n",
       "      <td>23.000000</td>\n",
       "      <td>31.000000</td>\n",
       "    </tr>\n",
       "    <tr>\n",
       "      <th>Arrival at Destination - Weekday (Mo = 1)</th>\n",
       "      <td>21201.0</td>\n",
       "      <td>3.240225</td>\n",
       "      <td>1.567228</td>\n",
       "      <td>1.000000</td>\n",
       "      <td>2.000000</td>\n",
       "      <td>3.000000</td>\n",
       "      <td>5.000000</td>\n",
       "      <td>7.000000</td>\n",
       "    </tr>\n",
       "    <tr>\n",
       "      <th>Distance (KM)</th>\n",
       "      <td>21201.0</td>\n",
       "      <td>9.506533</td>\n",
       "      <td>5.668963</td>\n",
       "      <td>1.000000</td>\n",
       "      <td>5.000000</td>\n",
       "      <td>8.000000</td>\n",
       "      <td>13.000000</td>\n",
       "      <td>49.000000</td>\n",
       "    </tr>\n",
       "    <tr>\n",
       "      <th>Temperature</th>\n",
       "      <td>16835.0</td>\n",
       "      <td>23.258889</td>\n",
       "      <td>3.615768</td>\n",
       "      <td>11.200000</td>\n",
       "      <td>20.600000</td>\n",
       "      <td>23.500000</td>\n",
       "      <td>26.000000</td>\n",
       "      <td>32.100000</td>\n",
       "    </tr>\n",
       "    <tr>\n",
       "      <th>Precipitation in millimeters</th>\n",
       "      <td>552.0</td>\n",
       "      <td>7.905797</td>\n",
       "      <td>17.089971</td>\n",
       "      <td>0.100000</td>\n",
       "      <td>1.075000</td>\n",
       "      <td>2.900000</td>\n",
       "      <td>4.900000</td>\n",
       "      <td>99.100000</td>\n",
       "    </tr>\n",
       "    <tr>\n",
       "      <th>Pickup Lat</th>\n",
       "      <td>21201.0</td>\n",
       "      <td>-1.281470</td>\n",
       "      <td>0.030507</td>\n",
       "      <td>-1.438302</td>\n",
       "      <td>-1.300921</td>\n",
       "      <td>-1.279395</td>\n",
       "      <td>-1.257147</td>\n",
       "      <td>-1.147170</td>\n",
       "    </tr>\n",
       "    <tr>\n",
       "      <th>Pickup Long</th>\n",
       "      <td>21201.0</td>\n",
       "      <td>36.811264</td>\n",
       "      <td>0.037473</td>\n",
       "      <td>36.653621</td>\n",
       "      <td>36.784605</td>\n",
       "      <td>36.807040</td>\n",
       "      <td>36.829741</td>\n",
       "      <td>36.991046</td>\n",
       "    </tr>\n",
       "    <tr>\n",
       "      <th>Destination Lat</th>\n",
       "      <td>21201.0</td>\n",
       "      <td>-1.282581</td>\n",
       "      <td>0.034824</td>\n",
       "      <td>-1.430298</td>\n",
       "      <td>-1.301201</td>\n",
       "      <td>-1.284382</td>\n",
       "      <td>-1.261177</td>\n",
       "      <td>-1.030225</td>\n",
       "    </tr>\n",
       "    <tr>\n",
       "      <th>Destination Long</th>\n",
       "      <td>21201.0</td>\n",
       "      <td>36.811220</td>\n",
       "      <td>0.044721</td>\n",
       "      <td>36.606594</td>\n",
       "      <td>36.785661</td>\n",
       "      <td>36.808002</td>\n",
       "      <td>36.829477</td>\n",
       "      <td>37.016779</td>\n",
       "    </tr>\n",
       "    <tr>\n",
       "      <th>Time from Pickup to Arrival</th>\n",
       "      <td>21201.0</td>\n",
       "      <td>1556.920947</td>\n",
       "      <td>987.270788</td>\n",
       "      <td>1.000000</td>\n",
       "      <td>882.000000</td>\n",
       "      <td>1369.000000</td>\n",
       "      <td>2040.000000</td>\n",
       "      <td>7883.000000</td>\n",
       "    </tr>\n",
       "  </tbody>\n",
       "</table>\n",
       "</div>"
      ],
      "text/plain": [
       "                                             count         mean         std  \\\n",
       "Platform Type                              21201.0     2.752182    0.625178   \n",
       "Placement - Day of Month                   21201.0    15.653696    8.798916   \n",
       "Placement - Weekday (Mo = 1)               21201.0     3.240083    1.567295   \n",
       "Confirmation - Day of Month                21201.0    15.653837    8.798886   \n",
       "Confirmation - Weekday (Mo = 1)            21201.0     3.240225    1.567228   \n",
       "Arrival at Pickup - Day of Month           21201.0    15.653837    8.798886   \n",
       "Arrival at Pickup - Weekday (Mo = 1)       21201.0     3.240225    1.567228   \n",
       "Pickup - Day of Month                      21201.0    15.653837    8.798886   \n",
       "Pickup - Weekday (Mo = 1)                  21201.0     3.240225    1.567228   \n",
       "Arrival at Destination - Day of Month      21201.0    15.653837    8.798886   \n",
       "Arrival at Destination - Weekday (Mo = 1)  21201.0     3.240225    1.567228   \n",
       "Distance (KM)                              21201.0     9.506533    5.668963   \n",
       "Temperature                                16835.0    23.258889    3.615768   \n",
       "Precipitation in millimeters                 552.0     7.905797   17.089971   \n",
       "Pickup Lat                                 21201.0    -1.281470    0.030507   \n",
       "Pickup Long                                21201.0    36.811264    0.037473   \n",
       "Destination Lat                            21201.0    -1.282581    0.034824   \n",
       "Destination Long                           21201.0    36.811220    0.044721   \n",
       "Time from Pickup to Arrival                21201.0  1556.920947  987.270788   \n",
       "\n",
       "                                                 min         25%          50%  \\\n",
       "Platform Type                               1.000000    3.000000     3.000000   \n",
       "Placement - Day of Month                    1.000000    8.000000    15.000000   \n",
       "Placement - Weekday (Mo = 1)                1.000000    2.000000     3.000000   \n",
       "Confirmation - Day of Month                 1.000000    8.000000    15.000000   \n",
       "Confirmation - Weekday (Mo = 1)             1.000000    2.000000     3.000000   \n",
       "Arrival at Pickup - Day of Month            1.000000    8.000000    15.000000   \n",
       "Arrival at Pickup - Weekday (Mo = 1)        1.000000    2.000000     3.000000   \n",
       "Pickup - Day of Month                       1.000000    8.000000    15.000000   \n",
       "Pickup - Weekday (Mo = 1)                   1.000000    2.000000     3.000000   \n",
       "Arrival at Destination - Day of Month       1.000000    8.000000    15.000000   \n",
       "Arrival at Destination - Weekday (Mo = 1)   1.000000    2.000000     3.000000   \n",
       "Distance (KM)                               1.000000    5.000000     8.000000   \n",
       "Temperature                                11.200000   20.600000    23.500000   \n",
       "Precipitation in millimeters                0.100000    1.075000     2.900000   \n",
       "Pickup Lat                                 -1.438302   -1.300921    -1.279395   \n",
       "Pickup Long                                36.653621   36.784605    36.807040   \n",
       "Destination Lat                            -1.430298   -1.301201    -1.284382   \n",
       "Destination Long                           36.606594   36.785661    36.808002   \n",
       "Time from Pickup to Arrival                 1.000000  882.000000  1369.000000   \n",
       "\n",
       "                                                   75%          max  \n",
       "Platform Type                                 3.000000     4.000000  \n",
       "Placement - Day of Month                     23.000000    31.000000  \n",
       "Placement - Weekday (Mo = 1)                  5.000000     7.000000  \n",
       "Confirmation - Day of Month                  23.000000    31.000000  \n",
       "Confirmation - Weekday (Mo = 1)               5.000000     7.000000  \n",
       "Arrival at Pickup - Day of Month             23.000000    31.000000  \n",
       "Arrival at Pickup - Weekday (Mo = 1)          5.000000     7.000000  \n",
       "Pickup - Day of Month                        23.000000    31.000000  \n",
       "Pickup - Weekday (Mo = 1)                     5.000000     7.000000  \n",
       "Arrival at Destination - Day of Month        23.000000    31.000000  \n",
       "Arrival at Destination - Weekday (Mo = 1)     5.000000     7.000000  \n",
       "Distance (KM)                                13.000000    49.000000  \n",
       "Temperature                                  26.000000    32.100000  \n",
       "Precipitation in millimeters                  4.900000    99.100000  \n",
       "Pickup Lat                                   -1.257147    -1.147170  \n",
       "Pickup Long                                  36.829741    36.991046  \n",
       "Destination Lat                              -1.261177    -1.030225  \n",
       "Destination Long                             36.829477    37.016779  \n",
       "Time from Pickup to Arrival                2040.000000  7883.000000  "
      ]
     },
     "execution_count": 17,
     "metadata": {},
     "output_type": "execute_result"
    }
   ],
   "source": [
    "# calling describe method on the train dataset and transposing it when displaying. \n",
    "train.describe().transpose()"
   ]
  },
  {
   "cell_type": "code",
   "execution_count": 18,
   "metadata": {
    "colab": {
     "base_uri": "https://localhost:8080/",
     "height": 610
    },
    "id": "WPMP7d_wprEu",
    "outputId": "0142878a-05ae-47bc-f370-9749f827d224"
   },
   "outputs": [
    {
     "data": {
      "text/html": [
       "<div>\n",
       "<style scoped>\n",
       "    .dataframe tbody tr th:only-of-type {\n",
       "        vertical-align: middle;\n",
       "    }\n",
       "\n",
       "    .dataframe tbody tr th {\n",
       "        vertical-align: top;\n",
       "    }\n",
       "\n",
       "    .dataframe thead th {\n",
       "        text-align: right;\n",
       "    }\n",
       "</style>\n",
       "<table border=\"1\" class=\"dataframe\">\n",
       "  <thead>\n",
       "    <tr style=\"text-align: right;\">\n",
       "      <th></th>\n",
       "      <th>count</th>\n",
       "      <th>mean</th>\n",
       "      <th>std</th>\n",
       "      <th>min</th>\n",
       "      <th>25%</th>\n",
       "      <th>50%</th>\n",
       "      <th>75%</th>\n",
       "      <th>max</th>\n",
       "    </tr>\n",
       "  </thead>\n",
       "  <tbody>\n",
       "    <tr>\n",
       "      <th>No_Of_Orders</th>\n",
       "      <td>960.0</td>\n",
       "      <td>1864.851042</td>\n",
       "      <td>1880.337785</td>\n",
       "      <td>2.0</td>\n",
       "      <td>261.75</td>\n",
       "      <td>1475.5</td>\n",
       "      <td>2847.25</td>\n",
       "      <td>9756.0</td>\n",
       "    </tr>\n",
       "    <tr>\n",
       "      <th>Age</th>\n",
       "      <td>960.0</td>\n",
       "      <td>1200.234375</td>\n",
       "      <td>810.930171</td>\n",
       "      <td>96.0</td>\n",
       "      <td>478.25</td>\n",
       "      <td>1021.0</td>\n",
       "      <td>1891.50</td>\n",
       "      <td>3764.0</td>\n",
       "    </tr>\n",
       "    <tr>\n",
       "      <th>Average_Rating</th>\n",
       "      <td>960.0</td>\n",
       "      <td>13.412604</td>\n",
       "      <td>2.675794</td>\n",
       "      <td>0.0</td>\n",
       "      <td>13.50</td>\n",
       "      <td>14.0</td>\n",
       "      <td>14.30</td>\n",
       "      <td>15.2</td>\n",
       "    </tr>\n",
       "    <tr>\n",
       "      <th>No_of_Ratings</th>\n",
       "      <td>960.0</td>\n",
       "      <td>427.983333</td>\n",
       "      <td>486.957931</td>\n",
       "      <td>0.0</td>\n",
       "      <td>30.00</td>\n",
       "      <td>223.0</td>\n",
       "      <td>678.75</td>\n",
       "      <td>2298.0</td>\n",
       "    </tr>\n",
       "  </tbody>\n",
       "</table>\n",
       "</div>"
      ],
      "text/plain": [
       "                count         mean          std   min     25%     50%  \\\n",
       "No_Of_Orders    960.0  1864.851042  1880.337785   2.0  261.75  1475.5   \n",
       "Age             960.0  1200.234375   810.930171  96.0  478.25  1021.0   \n",
       "Average_Rating  960.0    13.412604     2.675794   0.0   13.50    14.0   \n",
       "No_of_Ratings   960.0   427.983333   486.957931   0.0   30.00   223.0   \n",
       "\n",
       "                    75%     max  \n",
       "No_Of_Orders    2847.25  9756.0  \n",
       "Age             1891.50  3764.0  \n",
       "Average_Rating    14.30    15.2  \n",
       "No_of_Ratings    678.75  2298.0  "
      ]
     },
     "execution_count": 18,
     "metadata": {},
     "output_type": "execute_result"
    }
   ],
   "source": [
    "# calling describe method on the riders dataset and transposing it when displaying. \n",
    "riders.describe().transpose()"
   ]
  },
  {
   "cell_type": "markdown",
   "metadata": {
    "id": "jP_0B9_nprE5"
   },
   "source": [
    "#### Observations:\n",
    "- The notable high difference between the 75th precentile and the max value suggests the presence of outliers [e.g. \"No_Of_Orders\" and \"No_Of_Ratings\" in the riders dataset]\n",
    "- Mean, median and standard deviation vary significantly across all columns.\n"
   ]
  },
  {
   "cell_type": "markdown",
   "metadata": {},
   "source": [
    "# EDA for train and test data"
   ]
  },
  {
   "cell_type": "markdown",
   "metadata": {
    "id": "1TBDDQn7prE6"
   },
   "source": [
    "### Explore column-to-column relations \n",
    "To use linear regression for modelling,its necessary to remove features that are not correlated to each other. It is good to get a glimpse of which features are strongly correlated at an expoloatory level. Let's have a look at a display of the correlated features of the train dataset:"
   ]
  },
  {
   "cell_type": "code",
   "execution_count": 19,
   "metadata": {
    "colab": {
     "base_uri": "https://localhost:8080/",
     "height": 485
    },
    "id": "h1TvnPrtprE7",
    "outputId": "f9cbc6e6-4c12-4310-ef2e-945f3e8826ff",
    "scrolled": true
   },
   "outputs": [
    {
     "data": {
      "text/plain": [
       "<matplotlib.axes._subplots.AxesSubplot at 0x1bf51123cf8>"
      ]
     },
     "execution_count": 19,
     "metadata": {},
     "output_type": "execute_result"
    },
    {
     "data": {
      "image/png": "[encoded data removed]",
      "text/plain": [
       "<Figure size 432x288 with 2 Axes>"
      ]
     },
     "metadata": {
      "needs_background": "light"
     },
     "output_type": "display_data"
    }
   ],
   "source": [
    "#plotting heatmap for overall data set before cleaning the data\n",
    "sns.heatmap(train.corr(), square=True, annot = False)"
   ]
  },
  {
   "cell_type": "code",
   "execution_count": 20,
   "metadata": {},
   "outputs": [],
   "source": [
    "# sns.pairplot(train)"
   ]
  },
  {
   "cell_type": "markdown",
   "metadata": {
    "id": "b9fwSn_qprFD"
   },
   "source": [
    "#### Observations:\n",
    "- It is notable that the target variable `Time from Pickup to Arrival` has a fairly strong positive correlation to `Distance(KM)` at around 50-60%, followed by weakened correlation to other predictor variables. \n"
   ]
  },
  {
   "cell_type": "markdown",
   "metadata": {
    "id": "Ix9nrjINprFE"
   },
   "source": [
    "### Merge riders to test and train data\n",
    "\n",
    "We noticed that the dataset for `riders` and `train` had a common feature named `Rider Id`. To work with the dataset efficiently we merged the two datsets and obtained a new merged dataframe called `merged_train`. The same needs to happen with the `test` data for the model obtained from the train data will be tested on that data. Hence, there there is another merged data called `merged_test`."
   ]
  },
  {
   "cell_type": "code",
   "execution_count": 21,
   "metadata": {
    "id": "NOo1K0vWsgCT"
   },
   "outputs": [],
   "source": [
    "# merging train with riders and test with riders on 'Rider id'\n",
    "merged_train = pd.merge(train, riders, on=\"Rider Id\", how=\"left\").copy()\n",
    "merged_test = pd.merge(test, riders, on=\"Rider Id\", how=\"left\").copy()"
   ]
  },
  {
   "cell_type": "markdown",
   "metadata": {},
   "source": [
    "In evaluating the merged datsets we look at their new shape to note whether the rows are added or not. We can see that the train dataset columns have remained at 21201, whereas, the columns are now 33. On the other hand, the test dataset has 7068 rows and 29 columns. "
   ]
  },
  {
   "cell_type": "code",
   "execution_count": 22,
   "metadata": {
    "colab": {
     "base_uri": "https://localhost:8080/",
     "height": 34
    },
    "id": "w0Aeq0C0Xs6N",
    "outputId": "121137eb-06ca-4003-b543-d515fb414a2d"
   },
   "outputs": [
    {
     "data": {
      "text/plain": [
       "(21201, 33)"
      ]
     },
     "execution_count": 22,
     "metadata": {},
     "output_type": "execute_result"
    }
   ],
   "source": [
    "# The (rows ,columns) of the merged_train dataframe:\n",
    "merged_train.shape"
   ]
  },
  {
   "cell_type": "code",
   "execution_count": 23,
   "metadata": {
    "colab": {
     "base_uri": "https://localhost:8080/",
     "height": 34
    },
    "id": "lPnw7b8JZsY7",
    "outputId": "2f8ecb6c-07a8-4f1f-9d9c-1c2cd8f1543e"
   },
   "outputs": [
    {
     "data": {
      "text/plain": [
       "(7068, 29)"
      ]
     },
     "execution_count": 23,
     "metadata": {},
     "output_type": "execute_result"
    }
   ],
   "source": [
    "# The (rows ,columns) of the merged_test dataframe:\n",
    "merged_test.shape"
   ]
  },
  {
   "cell_type": "code",
   "execution_count": 24,
   "metadata": {
    "colab": {
     "base_uri": "https://localhost:8080/",
     "height": 588
    },
    "id": "_9PwccXnsh1f",
    "outputId": "db1c54e6-b759-40ca-99c2-ddec0255e634",
    "scrolled": true
   },
   "outputs": [
    {
     "data": {
      "text/plain": [
       "Order No                                         0\n",
       "User Id                                          0\n",
       "Vehicle Type                                     0\n",
       "Platform Type                                    0\n",
       "Personal or Business                             0\n",
       "Placement - Day of Month                         0\n",
       "Placement - Weekday (Mo = 1)                     0\n",
       "Placement - Time                                 0\n",
       "Confirmation - Day of Month                      0\n",
       "Confirmation - Weekday (Mo = 1)                  0\n",
       "Confirmation - Time                              0\n",
       "Arrival at Pickup - Day of Month                 0\n",
       "Arrival at Pickup - Weekday (Mo = 1)             0\n",
       "Arrival at Pickup - Time                         0\n",
       "Pickup - Day of Month                            0\n",
       "Pickup - Weekday (Mo = 1)                        0\n",
       "Pickup - Time                                    0\n",
       "Arrival at Destination - Day of Month            0\n",
       "Arrival at Destination - Weekday (Mo = 1)        0\n",
       "Arrival at Destination - Time                    0\n",
       "Distance (KM)                                    0\n",
       "Temperature                                   4366\n",
       "Precipitation in millimeters                 20649\n",
       "Pickup Lat                                       0\n",
       "Pickup Long                                      0\n",
       "Destination Lat                                  0\n",
       "Destination Long                                 0\n",
       "Rider Id                                         0\n",
       "Time from Pickup to Arrival                      0\n",
       "No_Of_Orders                                     0\n",
       "Age                                              0\n",
       "Average_Rating                                   0\n",
       "No_of_Ratings                                    0\n",
       "dtype: int64"
      ]
     },
     "execution_count": 24,
     "metadata": {},
     "output_type": "execute_result"
    }
   ],
   "source": [
    "# Checking the null values from the merged_train data\n",
    "merged_train.isnull().sum()"
   ]
  },
  {
   "cell_type": "markdown",
   "metadata": {
    "id": "2ZgBf7r-prFU"
   },
   "source": [
    "### Data Preprocessing \n",
    "\n",
    "Now that the data train and test datasets has been merged, we preprocessed the data so that it can implemented for creating the model that will estimate the arrival time from pick up to destination."
   ]
  },
  {
   "cell_type": "markdown",
   "metadata": {
    "id": "7xLKfDuuVDm8"
   },
   "source": [
    "#### Identifying and handling missing values in train data"
   ]
  },
  {
   "cell_type": "markdown",
   "metadata": {
    "id": "tMHtetrdVDnD"
   },
   "source": [
    "We saw from the analysis of data that the were missing values from two columns in the both the test and train datasets:\n",
    "<br> `Temperature` column has 4366 missing values while `Precipitation in millimeters` has 20649.\n",
    "In consequence, we decided to fill the missing values in the Temperature column with the mean of the temperatures.\n"
   ]
  },
  {
   "cell_type": "code",
   "execution_count": 25,
   "metadata": {
    "id": "7_k45bs4VDnE"
   },
   "outputs": [],
   "source": [
    "# Filling the missing values in values Temperature column with the on both the train and test data.\n",
    "merged_train['Temperature'] = merged_train['Temperature'].fillna( merged_train['Temperature'].mean())\n",
    "merged_test['Temperature'] = merged_test['Temperature'].fillna( merged_test['Temperature'].mean())"
   ]
  },
  {
   "cell_type": "markdown",
   "metadata": {
    "id": "I7U5WHBGVDnJ"
   },
   "source": [
    "When investigating the missing values in Precipitation in millimeters column, we first summed up the values of the of the null values and computed the percentage of the missing values. \n",
    "\n"
   ]
  },
  {
   "cell_type": "code",
   "execution_count": 26,
   "metadata": {
    "colab": {
     "base_uri": "https://localhost:8080/",
     "height": 34
    },
    "id": "BQgkW3DIVDnK",
    "outputId": "d4a5b5c5-e91a-4ffb-8572-91bf259cfe94"
   },
   "outputs": [
    {
     "name": "stdout",
     "output_type": "stream",
     "text": [
      "The missing values of the Precipitation in millimeters is 97.0 %.\n"
     ]
    }
   ],
   "source": [
    "# Proportion of missing values in the Precipitation in millimeters column.\n",
    "missing_vals = merged_train['Precipitation in millimeters'].isnull().sum()\n",
    "# compute the percentage of the missing values.\n",
    "miss_val = round((missing_vals/len(merged_train.index))*100,0)\n",
    "print(f'The missing values of the Precipitation in millimeters is {miss_val} %.')"
   ]
  },
  {
   "cell_type": "markdown",
   "metadata": {
    "id": "4ZiWXFRpVDnO"
   },
   "source": [
    "\n",
    "We can see from the `Precipitation in millimeters` column that only 552 records have values, so we analyse these 552 records we have. From these records we look whether are the values of zero which will represents days that have no precipitation. We note that that there are no values like that. "
   ]
  },
  {
   "cell_type": "code",
   "execution_count": 27,
   "metadata": {
    "colab": {
     "base_uri": "https://localhost:8080/",
     "height": 34
    },
    "id": "m3YYOy2eVDnP",
    "outputId": "e94d1f7c-024a-4589-82a2-06f94efb3e8b"
   },
   "outputs": [
    {
     "data": {
      "text/plain": [
       "0"
      ]
     },
     "execution_count": 27,
     "metadata": {},
     "output_type": "execute_result"
    }
   ],
   "source": [
    "# Make a copy of the merged_train data.\n",
    "precipitation = merged_train['Precipitation in millimeters'].copy()\n",
    "# We drop column if it has nan values. \n",
    "precipitation.dropna(inplace = True)\n",
    "# We want to check if whether the available records we have contain Zeros for when \n",
    "# there was no rainfall/precipitation at the time of the delivery.\n",
    "precipitation[precipitation==0].count()"
   ]
  },
  {
   "cell_type": "markdown",
   "metadata": {
    "id": "YFgKAErGVDnU"
   },
   "source": [
    "Considering days that have no precipation, we decided to fill these null values with zero. "
   ]
  },
  {
   "cell_type": "code",
   "execution_count": 28,
   "metadata": {
    "id": "iAwqoIgeVDnV"
   },
   "outputs": [],
   "source": [
    "# Filling missing values in Precipitation column with 0 on both train and test data\n",
    "merged_train['Precipitation in millimeters'] = merged_train['Precipitation in millimeters'].fillna(0)\n",
    "merged_test['Precipitation in millimeters'] = merged_test['Precipitation in millimeters'].fillna(0)"
   ]
  },
  {
   "cell_type": "markdown",
   "metadata": {},
   "source": [
    "After filling the null values with zero we check the null values from both the train and test data."
   ]
  },
  {
   "cell_type": "code",
   "execution_count": 29,
   "metadata": {
    "colab": {
     "base_uri": "https://localhost:8080/",
     "height": 588
    },
    "id": "QEZRXyYKVDnZ",
    "outputId": "013f47b9-5984-4169-ac4b-b57b77032f9b"
   },
   "outputs": [
    {
     "data": {
      "text/plain": [
       "Order No                                     0\n",
       "User Id                                      0\n",
       "Vehicle Type                                 0\n",
       "Platform Type                                0\n",
       "Personal or Business                         0\n",
       "Placement - Day of Month                     0\n",
       "Placement - Weekday (Mo = 1)                 0\n",
       "Placement - Time                             0\n",
       "Confirmation - Day of Month                  0\n",
       "Confirmation - Weekday (Mo = 1)              0\n",
       "Confirmation - Time                          0\n",
       "Arrival at Pickup - Day of Month             0\n",
       "Arrival at Pickup - Weekday (Mo = 1)         0\n",
       "Arrival at Pickup - Time                     0\n",
       "Pickup - Day of Month                        0\n",
       "Pickup - Weekday (Mo = 1)                    0\n",
       "Pickup - Time                                0\n",
       "Arrival at Destination - Day of Month        0\n",
       "Arrival at Destination - Weekday (Mo = 1)    0\n",
       "Arrival at Destination - Time                0\n",
       "Distance (KM)                                0\n",
       "Temperature                                  0\n",
       "Precipitation in millimeters                 0\n",
       "Pickup Lat                                   0\n",
       "Pickup Long                                  0\n",
       "Destination Lat                              0\n",
       "Destination Long                             0\n",
       "Rider Id                                     0\n",
       "Time from Pickup to Arrival                  0\n",
       "No_Of_Orders                                 0\n",
       "Age                                          0\n",
       "Average_Rating                               0\n",
       "No_of_Ratings                                0\n",
       "dtype: int64"
      ]
     },
     "execution_count": 29,
     "metadata": {},
     "output_type": "execute_result"
    }
   ],
   "source": [
    "# Checking if all missing values have been handled\n",
    "merged_train.isnull().sum()"
   ]
  },
  {
   "cell_type": "code",
   "execution_count": 30,
   "metadata": {
    "colab": {
     "base_uri": "https://localhost:8080/",
     "height": 521
    },
    "id": "2qraOy4GVMkI",
    "outputId": "bc01fe7f-04d7-40ae-d380-60a76bbdf029",
    "scrolled": true
   },
   "outputs": [
    {
     "data": {
      "text/plain": [
       "Order No                                0\n",
       "User Id                                 0\n",
       "Vehicle Type                            0\n",
       "Platform Type                           0\n",
       "Personal or Business                    0\n",
       "Placement - Day of Month                0\n",
       "Placement - Weekday (Mo = 1)            0\n",
       "Placement - Time                        0\n",
       "Confirmation - Day of Month             0\n",
       "Confirmation - Weekday (Mo = 1)         0\n",
       "Confirmation - Time                     0\n",
       "Arrival at Pickup - Day of Month        0\n",
       "Arrival at Pickup - Weekday (Mo = 1)    0\n",
       "Arrival at Pickup - Time                0\n",
       "Pickup - Day of Month                   0\n",
       "Pickup - Weekday (Mo = 1)               0\n",
       "Pickup - Time                           0\n",
       "Distance (KM)                           0\n",
       "Temperature                             0\n",
       "Precipitation in millimeters            0\n",
       "Pickup Lat                              0\n",
       "Pickup Long                             0\n",
       "Destination Lat                         0\n",
       "Destination Long                        0\n",
       "Rider Id                                0\n",
       "No_Of_Orders                            0\n",
       "Age                                     0\n",
       "Average_Rating                          0\n",
       "No_of_Ratings                           0\n",
       "dtype: int64"
      ]
     },
     "execution_count": 30,
     "metadata": {},
     "output_type": "execute_result"
    }
   ],
   "source": [
    "# Checking missing values in merged_test\n",
    "merged_test.isnull().sum()"
   ]
  },
  {
   "cell_type": "markdown",
   "metadata": {},
   "source": [
    "We note that the data no longer has null values. Now, we proceed to observed the features in our merged datasets."
   ]
  },
  {
   "cell_type": "code",
   "execution_count": 31,
   "metadata": {
    "colab": {
     "base_uri": "https://localhost:8080/",
     "height": 269
    },
    "id": "mKaOUHCRkZiA",
    "outputId": "eb4397be-5f7b-40dc-ed64-09400582c3bc"
   },
   "outputs": [
    {
     "data": {
      "text/plain": [
       "Index(['Order No', 'User Id', 'Vehicle Type', 'Platform Type',\n",
       "       'Personal or Business', 'Placement - Day of Month',\n",
       "       'Placement - Weekday (Mo = 1)', 'Placement - Time',\n",
       "       'Confirmation - Day of Month', 'Confirmation - Weekday (Mo = 1)',\n",
       "       'Confirmation - Time', 'Arrival at Pickup - Day of Month',\n",
       "       'Arrival at Pickup - Weekday (Mo = 1)', 'Arrival at Pickup - Time',\n",
       "       'Pickup - Day of Month', 'Pickup - Weekday (Mo = 1)', 'Pickup - Time',\n",
       "       'Arrival at Destination - Day of Month',\n",
       "       'Arrival at Destination - Weekday (Mo = 1)',\n",
       "       'Arrival at Destination - Time', 'Distance (KM)', 'Temperature',\n",
       "       'Precipitation in millimeters', 'Pickup Lat', 'Pickup Long',\n",
       "       'Destination Lat', 'Destination Long', 'Rider Id',\n",
       "       'Time from Pickup to Arrival', 'No_Of_Orders', 'Age', 'Average_Rating',\n",
       "       'No_of_Ratings'],\n",
       "      dtype='object')"
      ]
     },
     "execution_count": 31,
     "metadata": {},
     "output_type": "execute_result"
    }
   ],
   "source": [
    "# The column labels of the merged_train dataframe. \n",
    "merged_train.columns"
   ]
  },
  {
   "cell_type": "code",
   "execution_count": 32,
   "metadata": {
    "colab": {
     "base_uri": "https://localhost:8080/",
     "height": 202
    },
    "id": "3KVfGk0-kqh2",
    "outputId": "87cfaecc-5ef1-4259-e370-6a5469d87e85"
   },
   "outputs": [
    {
     "data": {
      "text/plain": [
       "Index(['Order No', 'User Id', 'Vehicle Type', 'Platform Type',\n",
       "       'Personal or Business', 'Placement - Day of Month',\n",
       "       'Placement - Weekday (Mo = 1)', 'Placement - Time',\n",
       "       'Confirmation - Day of Month', 'Confirmation - Weekday (Mo = 1)',\n",
       "       'Confirmation - Time', 'Arrival at Pickup - Day of Month',\n",
       "       'Arrival at Pickup - Weekday (Mo = 1)', 'Arrival at Pickup - Time',\n",
       "       'Pickup - Day of Month', 'Pickup - Weekday (Mo = 1)', 'Pickup - Time',\n",
       "       'Distance (KM)', 'Temperature', 'Precipitation in millimeters',\n",
       "       'Pickup Lat', 'Pickup Long', 'Destination Lat', 'Destination Long',\n",
       "       'Rider Id', 'No_Of_Orders', 'Age', 'Average_Rating', 'No_of_Ratings'],\n",
       "      dtype='object')"
      ]
     },
     "execution_count": 32,
     "metadata": {},
     "output_type": "execute_result"
    }
   ],
   "source": [
    "# The column labels of the merged_train dataframe. \n",
    "merged_test.columns"
   ]
  },
  {
   "cell_type": "markdown",
   "metadata": {},
   "source": [
    "In observing the columns, we want the `Time from Pickup to Arrival` to be last column hence we rearrange these columns:"
   ]
  },
  {
   "cell_type": "code",
   "execution_count": 33,
   "metadata": {
    "id": "FP8zoXv2VDnf",
    "scrolled": true
   },
   "outputs": [],
   "source": [
    "# Alignment of Dataset so we can 'Time from Pickup to Arrival' as the last column of the dataframe:\n",
    "\n",
    "merged_train = merged_train[['Order No', 'User Id', 'Vehicle Type',\n",
    "       'Platform Type',\n",
    "       'Personal or Business', 'Placement - Day of Month',\n",
    "       'Placement - Weekday (Mo = 1)', 'Placement - Time',\n",
    "       'Confirmation - Day of Month', 'Confirmation - Weekday (Mo = 1)',\n",
    "       'Confirmation - Time', 'Arrival at Pickup - Day of Month',\n",
    "       'Arrival at Pickup - Weekday (Mo = 1)', 'Arrival at Pickup - Time',\n",
    "       'Pickup - Day of Month', 'Pickup - Weekday (Mo = 1)', 'Pickup - Time',\n",
    "       'Distance (KM)', 'Temperature', 'Precipitation in millimeters',\n",
    "       'Pickup Lat', 'Pickup Long', 'Destination Lat', 'Destination Long',\n",
    "       'Rider Id', 'No_Of_Orders', 'Age', 'Average_Rating', 'No_of_Ratings',\n",
    "       'Time from Pickup to Arrival']]  \n"
   ]
  },
  {
   "cell_type": "code",
   "execution_count": 34,
   "metadata": {
    "colab": {
     "base_uri": "https://localhost:8080/",
     "height": 400
    },
    "id": "DcK4dbyIR_Cp",
    "outputId": "7da3d544-a780-47d1-e663-f75eb0e423b8",
    "scrolled": true
   },
   "outputs": [
    {
     "data": {
      "text/html": [
       "<div>\n",
       "<style scoped>\n",
       "    .dataframe tbody tr th:only-of-type {\n",
       "        vertical-align: middle;\n",
       "    }\n",
       "\n",
       "    .dataframe tbody tr th {\n",
       "        vertical-align: top;\n",
       "    }\n",
       "\n",
       "    .dataframe thead th {\n",
       "        text-align: right;\n",
       "    }\n",
       "</style>\n",
       "<table border=\"1\" class=\"dataframe\">\n",
       "  <thead>\n",
       "    <tr style=\"text-align: right;\">\n",
       "      <th></th>\n",
       "      <th>Order No</th>\n",
       "      <th>User Id</th>\n",
       "      <th>Vehicle Type</th>\n",
       "      <th>Platform Type</th>\n",
       "      <th>Personal or Business</th>\n",
       "      <th>Placement - Day of Month</th>\n",
       "      <th>Placement - Weekday (Mo = 1)</th>\n",
       "      <th>Placement - Time</th>\n",
       "      <th>Confirmation - Day of Month</th>\n",
       "      <th>Confirmation - Weekday (Mo = 1)</th>\n",
       "      <th>...</th>\n",
       "      <th>Pickup Lat</th>\n",
       "      <th>Pickup Long</th>\n",
       "      <th>Destination Lat</th>\n",
       "      <th>Destination Long</th>\n",
       "      <th>Rider Id</th>\n",
       "      <th>No_Of_Orders</th>\n",
       "      <th>Age</th>\n",
       "      <th>Average_Rating</th>\n",
       "      <th>No_of_Ratings</th>\n",
       "      <th>Time from Pickup to Arrival</th>\n",
       "    </tr>\n",
       "  </thead>\n",
       "  <tbody>\n",
       "    <tr>\n",
       "      <th>0</th>\n",
       "      <td>Order_No_4211</td>\n",
       "      <td>User_Id_633</td>\n",
       "      <td>Bike</td>\n",
       "      <td>3</td>\n",
       "      <td>Business</td>\n",
       "      <td>9</td>\n",
       "      <td>5</td>\n",
       "      <td>9:35:46 AM</td>\n",
       "      <td>9</td>\n",
       "      <td>5</td>\n",
       "      <td>...</td>\n",
       "      <td>-1.317755</td>\n",
       "      <td>36.830370</td>\n",
       "      <td>-1.300406</td>\n",
       "      <td>36.829741</td>\n",
       "      <td>Rider_Id_432</td>\n",
       "      <td>1637</td>\n",
       "      <td>1309</td>\n",
       "      <td>13.8</td>\n",
       "      <td>549</td>\n",
       "      <td>745</td>\n",
       "    </tr>\n",
       "    <tr>\n",
       "      <th>1</th>\n",
       "      <td>Order_No_25375</td>\n",
       "      <td>User_Id_2285</td>\n",
       "      <td>Bike</td>\n",
       "      <td>3</td>\n",
       "      <td>Personal</td>\n",
       "      <td>12</td>\n",
       "      <td>5</td>\n",
       "      <td>11:16:16 AM</td>\n",
       "      <td>12</td>\n",
       "      <td>5</td>\n",
       "      <td>...</td>\n",
       "      <td>-1.351453</td>\n",
       "      <td>36.899315</td>\n",
       "      <td>-1.295004</td>\n",
       "      <td>36.814358</td>\n",
       "      <td>Rider_Id_856</td>\n",
       "      <td>396</td>\n",
       "      <td>339</td>\n",
       "      <td>13.6</td>\n",
       "      <td>69</td>\n",
       "      <td>1993</td>\n",
       "    </tr>\n",
       "    <tr>\n",
       "      <th>2</th>\n",
       "      <td>Order_No_1899</td>\n",
       "      <td>User_Id_265</td>\n",
       "      <td>Bike</td>\n",
       "      <td>3</td>\n",
       "      <td>Business</td>\n",
       "      <td>30</td>\n",
       "      <td>2</td>\n",
       "      <td>12:39:25 PM</td>\n",
       "      <td>30</td>\n",
       "      <td>2</td>\n",
       "      <td>...</td>\n",
       "      <td>-1.308284</td>\n",
       "      <td>36.843419</td>\n",
       "      <td>-1.300921</td>\n",
       "      <td>36.828195</td>\n",
       "      <td>Rider_Id_155</td>\n",
       "      <td>1023</td>\n",
       "      <td>242</td>\n",
       "      <td>12.5</td>\n",
       "      <td>114</td>\n",
       "      <td>455</td>\n",
       "    </tr>\n",
       "    <tr>\n",
       "      <th>3</th>\n",
       "      <td>Order_No_9336</td>\n",
       "      <td>User_Id_1402</td>\n",
       "      <td>Bike</td>\n",
       "      <td>3</td>\n",
       "      <td>Business</td>\n",
       "      <td>15</td>\n",
       "      <td>5</td>\n",
       "      <td>9:25:34 AM</td>\n",
       "      <td>15</td>\n",
       "      <td>5</td>\n",
       "      <td>...</td>\n",
       "      <td>-1.281301</td>\n",
       "      <td>36.832396</td>\n",
       "      <td>-1.257147</td>\n",
       "      <td>36.795063</td>\n",
       "      <td>Rider_Id_855</td>\n",
       "      <td>886</td>\n",
       "      <td>283</td>\n",
       "      <td>14.5</td>\n",
       "      <td>113</td>\n",
       "      <td>1341</td>\n",
       "    </tr>\n",
       "    <tr>\n",
       "      <th>4</th>\n",
       "      <td>Order_No_27883</td>\n",
       "      <td>User_Id_1737</td>\n",
       "      <td>Bike</td>\n",
       "      <td>1</td>\n",
       "      <td>Personal</td>\n",
       "      <td>13</td>\n",
       "      <td>1</td>\n",
       "      <td>9:55:18 AM</td>\n",
       "      <td>13</td>\n",
       "      <td>1</td>\n",
       "      <td>...</td>\n",
       "      <td>-1.266597</td>\n",
       "      <td>36.792118</td>\n",
       "      <td>-1.295041</td>\n",
       "      <td>36.809817</td>\n",
       "      <td>Rider_Id_770</td>\n",
       "      <td>2311</td>\n",
       "      <td>872</td>\n",
       "      <td>14.1</td>\n",
       "      <td>533</td>\n",
       "      <td>1214</td>\n",
       "    </tr>\n",
       "  </tbody>\n",
       "</table>\n",
       "<p>5 rows × 30 columns</p>\n",
       "</div>"
      ],
      "text/plain": [
       "         Order No       User Id Vehicle Type  Platform Type  \\\n",
       "0   Order_No_4211   User_Id_633         Bike              3   \n",
       "1  Order_No_25375  User_Id_2285         Bike              3   \n",
       "2   Order_No_1899   User_Id_265         Bike              3   \n",
       "3   Order_No_9336  User_Id_1402         Bike              3   \n",
       "4  Order_No_27883  User_Id_1737         Bike              1   \n",
       "\n",
       "  Personal or Business  Placement - Day of Month  \\\n",
       "0             Business                         9   \n",
       "1             Personal                        12   \n",
       "2             Business                        30   \n",
       "3             Business                        15   \n",
       "4             Personal                        13   \n",
       "\n",
       "   Placement - Weekday (Mo = 1) Placement - Time  Confirmation - Day of Month  \\\n",
       "0                             5       9:35:46 AM                            9   \n",
       "1                             5      11:16:16 AM                           12   \n",
       "2                             2      12:39:25 PM                           30   \n",
       "3                             5       9:25:34 AM                           15   \n",
       "4                             1       9:55:18 AM                           13   \n",
       "\n",
       "   Confirmation - Weekday (Mo = 1)  ... Pickup Lat  Pickup Long  \\\n",
       "0                                5  ...  -1.317755    36.830370   \n",
       "1                                5  ...  -1.351453    36.899315   \n",
       "2                                2  ...  -1.308284    36.843419   \n",
       "3                                5  ...  -1.281301    36.832396   \n",
       "4                                1  ...  -1.266597    36.792118   \n",
       "\n",
       "   Destination Lat Destination Long      Rider Id  No_Of_Orders   Age  \\\n",
       "0        -1.300406        36.829741  Rider_Id_432          1637  1309   \n",
       "1        -1.295004        36.814358  Rider_Id_856           396   339   \n",
       "2        -1.300921        36.828195  Rider_Id_155          1023   242   \n",
       "3        -1.257147        36.795063  Rider_Id_855           886   283   \n",
       "4        -1.295041        36.809817  Rider_Id_770          2311   872   \n",
       "\n",
       "   Average_Rating  No_of_Ratings  Time from Pickup to Arrival  \n",
       "0            13.8            549                          745  \n",
       "1            13.6             69                         1993  \n",
       "2            12.5            114                          455  \n",
       "3            14.5            113                         1341  \n",
       "4            14.1            533                         1214  \n",
       "\n",
       "[5 rows x 30 columns]"
      ]
     },
     "execution_count": 34,
     "metadata": {},
     "output_type": "execute_result"
    }
   ],
   "source": [
    "# View of the first 5 columns of the merged_train datatset with 'Time from Pickup to Arrival' as last column:\n",
    "merged_train.head()"
   ]
  },
  {
   "cell_type": "markdown",
   "metadata": {},
   "source": [
    "This merged data is now analysed using visual aid. "
   ]
  },
  {
   "cell_type": "code",
   "execution_count": 35,
   "metadata": {
    "colab": {
     "base_uri": "https://localhost:8080/",
     "height": 1000
    },
    "id": "qWSP4X_pprGR",
    "outputId": "22571f3c-adcd-4834-f11b-1b944052b928"
   },
   "outputs": [
    {
     "data": {
      "text/plain": [
       "array([[<matplotlib.axes._subplots.AxesSubplot object at 0x000001BF512539B0>,\n",
       "        <matplotlib.axes._subplots.AxesSubplot object at 0x000001BF512D62E8>,\n",
       "        <matplotlib.axes._subplots.AxesSubplot object at 0x000001BF512FD860>,\n",
       "        <matplotlib.axes._subplots.AxesSubplot object at 0x000001BF51326DD8>,\n",
       "        <matplotlib.axes._subplots.AxesSubplot object at 0x000001BF513C8390>],\n",
       "       [<matplotlib.axes._subplots.AxesSubplot object at 0x000001BF513F0908>,\n",
       "        <matplotlib.axes._subplots.AxesSubplot object at 0x000001BF51418E80>,\n",
       "        <matplotlib.axes._subplots.AxesSubplot object at 0x000001BF51448470>,\n",
       "        <matplotlib.axes._subplots.AxesSubplot object at 0x000001BF514484A8>,\n",
       "        <matplotlib.axes._subplots.AxesSubplot object at 0x000001BF51498F28>],\n",
       "       [<matplotlib.axes._subplots.AxesSubplot object at 0x000001BF514C94E0>,\n",
       "        <matplotlib.axes._subplots.AxesSubplot object at 0x000001BF514F0A58>,\n",
       "        <matplotlib.axes._subplots.AxesSubplot object at 0x000001BF51519FD0>,\n",
       "        <matplotlib.axes._subplots.AxesSubplot object at 0x000001BF5154B588>,\n",
       "        <matplotlib.axes._subplots.AxesSubplot object at 0x000001BF51572B00>],\n",
       "       [<matplotlib.axes._subplots.AxesSubplot object at 0x000001BF515A50B8>,\n",
       "        <matplotlib.axes._subplots.AxesSubplot object at 0x000001BF515CC630>,\n",
       "        <matplotlib.axes._subplots.AxesSubplot object at 0x000001BF517A3BA8>,\n",
       "        <matplotlib.axes._subplots.AxesSubplot object at 0x000001BF517D5160>,\n",
       "        <matplotlib.axes._subplots.AxesSubplot object at 0x000001BF517FB6D8>],\n",
       "       [<matplotlib.axes._subplots.AxesSubplot object at 0x000001BF51823C50>,\n",
       "        <matplotlib.axes._subplots.AxesSubplot object at 0x000001BF51856208>,\n",
       "        <matplotlib.axes._subplots.AxesSubplot object at 0x000001BF5187E780>,\n",
       "        <matplotlib.axes._subplots.AxesSubplot object at 0x000001BF518A5CF8>,\n",
       "        <matplotlib.axes._subplots.AxesSubplot object at 0x000001BF518D72B0>]],\n",
       "      dtype=object)"
      ]
     },
     "execution_count": 35,
     "metadata": {},
     "output_type": "execute_result"
    },
    {
     "data": {
      "image/png": "[encoded data removed]",
      "text/plain": [
       "<Figure size 1440x1080 with 25 Axes>"
      ]
     },
     "metadata": {
      "needs_background": "light"
     },
     "output_type": "display_data"
    }
   ],
   "source": [
    "# Investigated the merged data\n",
    "\n",
    "merged_train.hist(bins=60, figsize=(20,15))\n"
   ]
  },
  {
   "cell_type": "markdown",
   "metadata": {
    "id": "Mkug94hkprGV"
   },
   "source": [
    "#### Key observations:\n",
    "- Platform type 3 is the most prefered.\n",
    "- Placement, confirmation and pickup day of the month indicates that majority of orders are made at the beginning and towards the end of the month.\n",
    "- These orders are mainly made on weekdays as shown by weekday data. \n",
    "- Distance data is postively skewed, majority of orders are at short distance. Peaking at around 2000 for 6-7 kilometers.\n",
    "- Temperature is normal distributed, with an expected peak around the mean as we resolved the missing values by mean.\n",
    "- As expected, the precipitations follows the same trend as temperature, indicating a peak around the value we resolved the missing values by. In this case, it is zero. \n",
    "- Latitutides and longitutes are more centered around the mean. \n",
    "- No. of orders, Age and No. of ratings indicates positive skewness with an evidence of outliers. \n",
    "- Drivers received ratings between 12 and 15.\n",
    "- All in all, the target variable is positively skewed, with majority of driveriver arriving at the destination within 23 min from the pickup point."
   ]
  },
  {
   "cell_type": "markdown",
   "metadata": {
    "id": "KaovR74_VDni"
   },
   "source": [
    "### Variable Selection by correlation and significance ##\n",
    "\n",
    "- We have more predictor variables to choose from, so we need a way of guiding us to choose the best ones to be our predictors. One way is to look at the correlations between the Time from Pickup to Arrival and each variables in our DataFrame and select those with the strongest correlations (both positive and negative).\n",
    "\n",
    "- We also need to consider how significant those features are.\n",
    "\n",
    "- The code below will create a new DataFrame and store the correlation coefficents and p-values in that DataFrame"
   ]
  },
  {
   "cell_type": "code",
   "execution_count": 36,
   "metadata": {
    "colab": {
     "base_uri": "https://localhost:8080/",
     "height": 386
    },
    "id": "KfxjzO25VDnj",
    "outputId": "4803860c-d663-478a-a189-39342f6505da",
    "scrolled": true
   },
   "outputs": [
    {
     "data": {
      "text/plain": [
       "Time from Pickup to Arrival             1.000000\n",
       "Distance (KM)                           0.580608\n",
       "Destination Long                        0.070425\n",
       "Pickup Long                             0.060285\n",
       "Confirmation - Weekday (Mo = 1)         0.009744\n",
       "Arrival at Pickup - Weekday (Mo = 1)    0.009744\n",
       "Pickup - Weekday (Mo = 1)               0.009744\n",
       "Placement - Weekday (Mo = 1)            0.009693\n",
       "Temperature                             0.005772\n",
       "No_of_Ratings                           0.005609\n",
       "Precipitation in millimeters            0.005495\n",
       "Platform Type                          -0.003827\n",
       "Age                                    -0.007969\n",
       "Pickup - Day of Month                  -0.014701\n",
       "Arrival at Pickup - Day of Month       -0.014701\n",
       "Confirmation - Day of Month            -0.014701\n",
       "Placement - Day of Month               -0.014710\n",
       "No_Of_Orders                           -0.041608\n",
       "Average_Rating                         -0.042559\n",
       "Pickup Lat                             -0.053823\n",
       "Destination Lat                        -0.061872\n",
       "Name: Time from Pickup to Arrival, dtype: float64"
      ]
     },
     "execution_count": 36,
     "metadata": {},
     "output_type": "execute_result"
    }
   ],
   "source": [
    "# Calculate correlations between predictor variables and the response variable\n",
    "corrs = merged_train .corr()['Time from Pickup to Arrival'].sort_values(ascending=False)\n",
    "corrs"
   ]
  },
  {
   "cell_type": "code",
   "execution_count": 37,
   "metadata": {
    "colab": {
     "base_uri": "https://localhost:8080/",
     "height": 460
    },
    "id": "gy_c7a-yprGd",
    "outputId": "c48ac062-2876-4d38-fe91-a96396f80540",
    "scrolled": true
   },
   "outputs": [
    {
     "data": {
      "text/plain": [
       "<matplotlib.axes._subplots.AxesSubplot at 0x1bf5534d940>"
      ]
     },
     "execution_count": 37,
     "metadata": {},
     "output_type": "execute_result"
    },
    {
     "data": {
      "image/png": "[encoded data removed]",
      "text/plain": [
       "<Figure size 432x288 with 2 Axes>"
      ]
     },
     "metadata": {
      "needs_background": "light"
     },
     "output_type": "display_data"
    }
   ],
   "source": [
    "# Visualize the correlation using a heat map\n",
    "sns.heatmap(merged_train.corr(), square=True, annot = False)\n"
   ]
  },
  {
   "cell_type": "markdown",
   "metadata": {
    "id": "NBczLQ-QprGf"
   },
   "source": [
    "#### Observations:\n",
    "- There exists a fairly strong relationship between merged predictor variables; however, this has not affected the initial observation much in relation to the target variable.\n",
    "- We will investigate the correlation further using the p-values."
   ]
  },
  {
   "cell_type": "code",
   "execution_count": 38,
   "metadata": {
    "colab": {
     "base_uri": "https://localhost:8080/",
     "height": 373
    },
    "id": "Wdp4Vcy6VDnn",
    "outputId": "6609e44f-8d09-418a-d2f4-fe0be58bf90f"
   },
   "outputs": [
    {
     "data": {
      "text/html": [
       "<div>\n",
       "<style scoped>\n",
       "    .dataframe tbody tr th:only-of-type {\n",
       "        vertical-align: middle;\n",
       "    }\n",
       "\n",
       "    .dataframe tbody tr th {\n",
       "        vertical-align: top;\n",
       "    }\n",
       "\n",
       "    .dataframe thead th {\n",
       "        text-align: right;\n",
       "    }\n",
       "</style>\n",
       "<table border=\"1\" class=\"dataframe\">\n",
       "  <thead>\n",
       "    <tr style=\"text-align: right;\">\n",
       "      <th></th>\n",
       "      <th>Correlation_Coefficient</th>\n",
       "      <th>P_Value</th>\n",
       "    </tr>\n",
       "  </thead>\n",
       "  <tbody>\n",
       "    <tr>\n",
       "      <th>Distance (KM)</th>\n",
       "      <td>0.580608</td>\n",
       "      <td>0.000000</td>\n",
       "    </tr>\n",
       "    <tr>\n",
       "      <th>Average_Rating</th>\n",
       "      <td>-0.042559</td>\n",
       "      <td>0.000000</td>\n",
       "    </tr>\n",
       "    <tr>\n",
       "      <th>No_Of_Orders</th>\n",
       "      <td>-0.041608</td>\n",
       "      <td>0.000000</td>\n",
       "    </tr>\n",
       "    <tr>\n",
       "      <th>Pickup Lat</th>\n",
       "      <td>-0.053823</td>\n",
       "      <td>0.000000</td>\n",
       "    </tr>\n",
       "    <tr>\n",
       "      <th>Destination Lat</th>\n",
       "      <td>-0.061872</td>\n",
       "      <td>0.000000</td>\n",
       "    </tr>\n",
       "    <tr>\n",
       "      <th>Pickup Long</th>\n",
       "      <td>0.060285</td>\n",
       "      <td>0.000000</td>\n",
       "    </tr>\n",
       "    <tr>\n",
       "      <th>Destination Long</th>\n",
       "      <td>0.070425</td>\n",
       "      <td>0.000000</td>\n",
       "    </tr>\n",
       "    <tr>\n",
       "      <th>Placement - Day of Month</th>\n",
       "      <td>-0.014710</td>\n",
       "      <td>0.032205</td>\n",
       "    </tr>\n",
       "    <tr>\n",
       "      <th>Pickup - Day of Month</th>\n",
       "      <td>-0.014701</td>\n",
       "      <td>0.032312</td>\n",
       "    </tr>\n",
       "    <tr>\n",
       "      <th>Arrival at Pickup - Day of Month</th>\n",
       "      <td>-0.014701</td>\n",
       "      <td>0.032312</td>\n",
       "    </tr>\n",
       "    <tr>\n",
       "      <th>Confirmation - Day of Month</th>\n",
       "      <td>-0.014701</td>\n",
       "      <td>0.032312</td>\n",
       "    </tr>\n",
       "  </tbody>\n",
       "</table>\n",
       "</div>"
      ],
      "text/plain": [
       "                                  Correlation_Coefficient   P_Value\n",
       "Distance (KM)                                    0.580608  0.000000\n",
       "Average_Rating                                  -0.042559  0.000000\n",
       "No_Of_Orders                                    -0.041608  0.000000\n",
       "Pickup Lat                                      -0.053823  0.000000\n",
       "Destination Lat                                 -0.061872  0.000000\n",
       "Pickup Long                                      0.060285  0.000000\n",
       "Destination Long                                 0.070425  0.000000\n",
       "Placement - Day of Month                        -0.014710  0.032205\n",
       "Pickup - Day of Month                           -0.014701  0.032312\n",
       "Arrival at Pickup - Day of Month                -0.014701  0.032312\n",
       "Confirmation - Day of Month                     -0.014701  0.032312"
      ]
     },
     "execution_count": 38,
     "metadata": {},
     "output_type": "execute_result"
    }
   ],
   "source": [
    "# Build a dictionary of correlation coefficients and p-values\n",
    "dict_cp = {}\n",
    "\n",
    "column_titles = [col for col in corrs.index if col!= 'Time from Pickup to Arrival']\n",
    "for col in column_titles:\n",
    "    p_val = round(pearsonr(merged_train [col], merged_train ['Time from Pickup to Arrival'])[1],6)\n",
    "    dict_cp[col] = {'Correlation_Coefficient':corrs[col],\n",
    "                    'P_Value':p_val}\n",
    "\n",
    "df_cp = pd.DataFrame(dict_cp).T\n",
    "df_cp_sorted = df_cp.sort_values('P_Value')\n",
    "df_cp_sorted[df_cp_sorted['P_Value']<0.1]"
   ]
  },
  {
   "cell_type": "markdown",
   "metadata": {
    "id": "YqJTLpvVr4Xh"
   },
   "source": [
    "On the heatmap above we can see a lot of variables being highly corelated with each other. However, we are dropping all the predictors that are highly correlated with each other based on the heat map above because they have no significant relation with the required feature which will be used for our prediction. "
   ]
  },
  {
   "cell_type": "code",
   "execution_count": 39,
   "metadata": {
    "colab": {
     "base_uri": "https://localhost:8080/",
     "height": 366
    },
    "id": "NAQSfwYnVDnq",
    "outputId": "b2a7a3ed-b63b-4c52-ba95-0e554d5fcfe7",
    "scrolled": false
   },
   "outputs": [
    {
     "data": {
      "text/html": [
       "<div>\n",
       "<style scoped>\n",
       "    .dataframe tbody tr th:only-of-type {\n",
       "        vertical-align: middle;\n",
       "    }\n",
       "\n",
       "    .dataframe tbody tr th {\n",
       "        vertical-align: top;\n",
       "    }\n",
       "\n",
       "    .dataframe thead th {\n",
       "        text-align: right;\n",
       "    }\n",
       "</style>\n",
       "<table border=\"1\" class=\"dataframe\">\n",
       "  <thead>\n",
       "    <tr style=\"text-align: right;\">\n",
       "      <th></th>\n",
       "      <th>Platform Type</th>\n",
       "      <th>Personal or Business</th>\n",
       "      <th>Placement - Day of Month</th>\n",
       "      <th>Distance (KM)</th>\n",
       "      <th>Temperature</th>\n",
       "      <th>Precipitation in millimeters</th>\n",
       "      <th>Pickup Lat</th>\n",
       "      <th>Pickup Long</th>\n",
       "      <th>Destination Lat</th>\n",
       "      <th>Destination Long</th>\n",
       "      <th>Age</th>\n",
       "      <th>Time from Pickup to Arrival</th>\n",
       "    </tr>\n",
       "  </thead>\n",
       "  <tbody>\n",
       "    <tr>\n",
       "      <th>0</th>\n",
       "      <td>3</td>\n",
       "      <td>Business</td>\n",
       "      <td>9</td>\n",
       "      <td>4</td>\n",
       "      <td>20.400000</td>\n",
       "      <td>0.0</td>\n",
       "      <td>-1.317755</td>\n",
       "      <td>36.830370</td>\n",
       "      <td>-1.300406</td>\n",
       "      <td>36.829741</td>\n",
       "      <td>1309</td>\n",
       "      <td>745</td>\n",
       "    </tr>\n",
       "    <tr>\n",
       "      <th>1</th>\n",
       "      <td>3</td>\n",
       "      <td>Personal</td>\n",
       "      <td>12</td>\n",
       "      <td>16</td>\n",
       "      <td>26.400000</td>\n",
       "      <td>0.0</td>\n",
       "      <td>-1.351453</td>\n",
       "      <td>36.899315</td>\n",
       "      <td>-1.295004</td>\n",
       "      <td>36.814358</td>\n",
       "      <td>339</td>\n",
       "      <td>1993</td>\n",
       "    </tr>\n",
       "    <tr>\n",
       "      <th>2</th>\n",
       "      <td>3</td>\n",
       "      <td>Business</td>\n",
       "      <td>30</td>\n",
       "      <td>3</td>\n",
       "      <td>23.258889</td>\n",
       "      <td>0.0</td>\n",
       "      <td>-1.308284</td>\n",
       "      <td>36.843419</td>\n",
       "      <td>-1.300921</td>\n",
       "      <td>36.828195</td>\n",
       "      <td>242</td>\n",
       "      <td>455</td>\n",
       "    </tr>\n",
       "    <tr>\n",
       "      <th>3</th>\n",
       "      <td>3</td>\n",
       "      <td>Business</td>\n",
       "      <td>15</td>\n",
       "      <td>9</td>\n",
       "      <td>19.200000</td>\n",
       "      <td>0.0</td>\n",
       "      <td>-1.281301</td>\n",
       "      <td>36.832396</td>\n",
       "      <td>-1.257147</td>\n",
       "      <td>36.795063</td>\n",
       "      <td>283</td>\n",
       "      <td>1341</td>\n",
       "    </tr>\n",
       "    <tr>\n",
       "      <th>4</th>\n",
       "      <td>1</td>\n",
       "      <td>Personal</td>\n",
       "      <td>13</td>\n",
       "      <td>9</td>\n",
       "      <td>15.400000</td>\n",
       "      <td>0.0</td>\n",
       "      <td>-1.266597</td>\n",
       "      <td>36.792118</td>\n",
       "      <td>-1.295041</td>\n",
       "      <td>36.809817</td>\n",
       "      <td>872</td>\n",
       "      <td>1214</td>\n",
       "    </tr>\n",
       "  </tbody>\n",
       "</table>\n",
       "</div>"
      ],
      "text/plain": [
       "   Platform Type Personal or Business  Placement - Day of Month  \\\n",
       "0              3             Business                         9   \n",
       "1              3             Personal                        12   \n",
       "2              3             Business                        30   \n",
       "3              3             Business                        15   \n",
       "4              1             Personal                        13   \n",
       "\n",
       "   Distance (KM)  Temperature  Precipitation in millimeters  Pickup Lat  \\\n",
       "0              4    20.400000                           0.0   -1.317755   \n",
       "1             16    26.400000                           0.0   -1.351453   \n",
       "2              3    23.258889                           0.0   -1.308284   \n",
       "3              9    19.200000                           0.0   -1.281301   \n",
       "4              9    15.400000                           0.0   -1.266597   \n",
       "\n",
       "   Pickup Long  Destination Lat  Destination Long   Age  \\\n",
       "0    36.830370        -1.300406         36.829741  1309   \n",
       "1    36.899315        -1.295004         36.814358   339   \n",
       "2    36.843419        -1.300921         36.828195   242   \n",
       "3    36.832396        -1.257147         36.795063   283   \n",
       "4    36.792118        -1.295041         36.809817   872   \n",
       "\n",
       "   Time from Pickup to Arrival  \n",
       "0                          745  \n",
       "1                         1993  \n",
       "2                          455  \n",
       "3                         1341  \n",
       "4                         1214  "
      ]
     },
     "execution_count": 39,
     "metadata": {},
     "output_type": "execute_result"
    }
   ],
   "source": [
    "#dropping highly correlated predictors and the ones that were not selected above.\n",
    "merged_train = merged_train.drop(['Placement - Weekday (Mo = 1)', 'Placement - Weekday (Mo = 1)','Confirmation - Day of Month','Confirmation - Weekday (Mo = 1)','Arrival at Pickup - Day of Month','Arrival at Pickup - Weekday (Mo = 1)','Pickup - Day of Month','Pickup - Weekday (Mo = 1)',\n",
    "                                  'No_of_Ratings','No_Of_Orders','Average_Rating'], axis = 1)\n",
    "\n",
    "merged_test = merged_test.drop(['Placement - Weekday (Mo = 1)', 'Placement - Weekday (Mo = 1)','Confirmation - Day of Month','Confirmation - Weekday (Mo = 1)','Arrival at Pickup - Day of Month','Arrival at Pickup - Weekday (Mo = 1)','Pickup - Day of Month','Pickup - Weekday (Mo = 1)',\n",
    "                                'No_of_Ratings','No_Of_Orders','Average_Rating'], axis = 1)\n",
    "\n",
    "\n",
    "#dropping the irrelevant columns \n",
    "merged_train = merged_train.drop(['User Id','Vehicle Type','Rider Id',\n",
    "                                  'Confirmation - Time', ], axis = 1)\n",
    "\n",
    "merged_test = merged_test.drop(['User Id','Vehicle Type','Rider Id', \n",
    "                                'Confirmation - Time'], axis = 1)\n",
    "\n",
    "merged_train.drop(['Placement - Time','Arrival at Pickup - Time','Pickup - Time','Order No'], axis = 1, inplace = True)\n",
    "merged_test.drop(['Placement - Time','Arrival at Pickup - Time','Pickup - Time','Order No'], axis = 1, inplace = True)\n",
    "\n",
    "# Viewing the new dataset of the left columns that were not dropped. \n",
    "merged_train.head()\n",
    "\n"
   ]
  },
  {
   "cell_type": "code",
   "execution_count": 40,
   "metadata": {},
   "outputs": [
    {
     "data": {
      "text/plain": [
       "(21201, 12)"
      ]
     },
     "execution_count": 40,
     "metadata": {},
     "output_type": "execute_result"
    }
   ],
   "source": [
    "# We note that the columns fom the merged_trained dataframe have dropped from 30 to 16. \n",
    "merged_train.shape"
   ]
  },
  {
   "cell_type": "markdown",
   "metadata": {
    "id": "nzySDi_Tg9qw"
   },
   "source": [
    "#### Creating a copy of both the datasets"
   ]
  },
  {
   "cell_type": "code",
   "execution_count": 41,
   "metadata": {
    "id": "dGkwJxGdVDnu",
    "scrolled": true
   },
   "outputs": [],
   "source": [
    "# Copy of the test and train datasets.\n",
    "merged_train_copy = merged_train.copy()\n",
    "merged_test_copy = merged_train.copy()"
   ]
  },
  {
   "cell_type": "code",
   "execution_count": 42,
   "metadata": {
    "colab": {
     "base_uri": "https://localhost:8080/",
     "height": 262
    },
    "id": "eOAt58wxjQ2u",
    "outputId": "42c9f516-cd53-47e3-e69e-076da1ef4bdf"
   },
   "outputs": [
    {
     "data": {
      "text/html": [
       "<div>\n",
       "<style scoped>\n",
       "    .dataframe tbody tr th:only-of-type {\n",
       "        vertical-align: middle;\n",
       "    }\n",
       "\n",
       "    .dataframe tbody tr th {\n",
       "        vertical-align: top;\n",
       "    }\n",
       "\n",
       "    .dataframe thead th {\n",
       "        text-align: right;\n",
       "    }\n",
       "</style>\n",
       "<table border=\"1\" class=\"dataframe\">\n",
       "  <thead>\n",
       "    <tr style=\"text-align: right;\">\n",
       "      <th></th>\n",
       "      <th>Platform Type</th>\n",
       "      <th>Personal or Business</th>\n",
       "      <th>Placement - Day of Month</th>\n",
       "      <th>Distance (KM)</th>\n",
       "      <th>Temperature</th>\n",
       "      <th>Precipitation in millimeters</th>\n",
       "      <th>Pickup Lat</th>\n",
       "      <th>Pickup Long</th>\n",
       "      <th>Destination Lat</th>\n",
       "      <th>Destination Long</th>\n",
       "      <th>Age</th>\n",
       "      <th>Time from Pickup to Arrival</th>\n",
       "    </tr>\n",
       "  </thead>\n",
       "  <tbody>\n",
       "    <tr>\n",
       "      <th>0</th>\n",
       "      <td>3</td>\n",
       "      <td>Business</td>\n",
       "      <td>9</td>\n",
       "      <td>4</td>\n",
       "      <td>20.4</td>\n",
       "      <td>0.0</td>\n",
       "      <td>-1.317755</td>\n",
       "      <td>36.830370</td>\n",
       "      <td>-1.300406</td>\n",
       "      <td>36.829741</td>\n",
       "      <td>1309</td>\n",
       "      <td>745</td>\n",
       "    </tr>\n",
       "    <tr>\n",
       "      <th>1</th>\n",
       "      <td>3</td>\n",
       "      <td>Personal</td>\n",
       "      <td>12</td>\n",
       "      <td>16</td>\n",
       "      <td>26.4</td>\n",
       "      <td>0.0</td>\n",
       "      <td>-1.351453</td>\n",
       "      <td>36.899315</td>\n",
       "      <td>-1.295004</td>\n",
       "      <td>36.814358</td>\n",
       "      <td>339</td>\n",
       "      <td>1993</td>\n",
       "    </tr>\n",
       "  </tbody>\n",
       "</table>\n",
       "</div>"
      ],
      "text/plain": [
       "   Platform Type Personal or Business  Placement - Day of Month  \\\n",
       "0              3             Business                         9   \n",
       "1              3             Personal                        12   \n",
       "\n",
       "   Distance (KM)  Temperature  Precipitation in millimeters  Pickup Lat  \\\n",
       "0              4         20.4                           0.0   -1.317755   \n",
       "1             16         26.4                           0.0   -1.351453   \n",
       "\n",
       "   Pickup Long  Destination Lat  Destination Long   Age  \\\n",
       "0    36.830370        -1.300406         36.829741  1309   \n",
       "1    36.899315        -1.295004         36.814358   339   \n",
       "\n",
       "   Time from Pickup to Arrival  \n",
       "0                          745  \n",
       "1                         1993  "
      ]
     },
     "execution_count": 42,
     "metadata": {},
     "output_type": "execute_result"
    }
   ],
   "source": [
    "# View of the first 2 columns of the merged_train_copy datatset.\n",
    "merged_train_copy.head(2)"
   ]
  },
  {
   "cell_type": "code",
   "execution_count": 43,
   "metadata": {
    "colab": {
     "base_uri": "https://localhost:8080/",
     "height": 123
    },
    "id": "GceqpaaQjo7Q",
    "outputId": "90482e2a-0b63-485f-8c8e-edefa35685b9"
   },
   "outputs": [
    {
     "data": {
      "text/html": [
       "<div>\n",
       "<style scoped>\n",
       "    .dataframe tbody tr th:only-of-type {\n",
       "        vertical-align: middle;\n",
       "    }\n",
       "\n",
       "    .dataframe tbody tr th {\n",
       "        vertical-align: top;\n",
       "    }\n",
       "\n",
       "    .dataframe thead th {\n",
       "        text-align: right;\n",
       "    }\n",
       "</style>\n",
       "<table border=\"1\" class=\"dataframe\">\n",
       "  <thead>\n",
       "    <tr style=\"text-align: right;\">\n",
       "      <th></th>\n",
       "      <th>Platform Type</th>\n",
       "      <th>Personal or Business</th>\n",
       "      <th>Placement - Day of Month</th>\n",
       "      <th>Distance (KM)</th>\n",
       "      <th>Temperature</th>\n",
       "      <th>Precipitation in millimeters</th>\n",
       "      <th>Pickup Lat</th>\n",
       "      <th>Pickup Long</th>\n",
       "      <th>Destination Lat</th>\n",
       "      <th>Destination Long</th>\n",
       "      <th>Age</th>\n",
       "    </tr>\n",
       "  </thead>\n",
       "  <tbody>\n",
       "    <tr>\n",
       "      <th>0</th>\n",
       "      <td>3</td>\n",
       "      <td>Business</td>\n",
       "      <td>27</td>\n",
       "      <td>8</td>\n",
       "      <td>23.24612</td>\n",
       "      <td>0.0</td>\n",
       "      <td>-1.333275</td>\n",
       "      <td>36.870815</td>\n",
       "      <td>-1.305249</td>\n",
       "      <td>36.822390</td>\n",
       "      <td>1511</td>\n",
       "    </tr>\n",
       "    <tr>\n",
       "      <th>1</th>\n",
       "      <td>3</td>\n",
       "      <td>Business</td>\n",
       "      <td>17</td>\n",
       "      <td>5</td>\n",
       "      <td>23.24612</td>\n",
       "      <td>0.0</td>\n",
       "      <td>-1.272639</td>\n",
       "      <td>36.794723</td>\n",
       "      <td>-1.277007</td>\n",
       "      <td>36.823907</td>\n",
       "      <td>273</td>\n",
       "    </tr>\n",
       "  </tbody>\n",
       "</table>\n",
       "</div>"
      ],
      "text/plain": [
       "   Platform Type Personal or Business  Placement - Day of Month  \\\n",
       "0              3             Business                        27   \n",
       "1              3             Business                        17   \n",
       "\n",
       "   Distance (KM)  Temperature  Precipitation in millimeters  Pickup Lat  \\\n",
       "0              8     23.24612                           0.0   -1.333275   \n",
       "1              5     23.24612                           0.0   -1.272639   \n",
       "\n",
       "   Pickup Long  Destination Lat  Destination Long   Age  \n",
       "0    36.870815        -1.305249         36.822390  1511  \n",
       "1    36.794723        -1.277007         36.823907   273  "
      ]
     },
     "execution_count": 43,
     "metadata": {},
     "output_type": "execute_result"
    }
   ],
   "source": [
    "# View of the first 2 columns of the merged_test_copy datatset.\n",
    "merged_test.head(2)"
   ]
  },
  {
   "cell_type": "markdown",
   "metadata": {
    "id": "-Gpt5uN4VDn1"
   },
   "source": [
    "\n",
    "## Encoding the categorical data ##\n",
    " - Bussiness column is a categorical data and needs to be manipulated. This can be done by using the `pandas.get_dummies()` which converts categorical data into dummy or indicator variables.\n"
   ]
  },
  {
   "cell_type": "code",
   "execution_count": 44,
   "metadata": {
    "colab": {
     "base_uri": "https://localhost:8080/",
     "height": 262
    },
    "id": "wkSd0QBSirsZ",
    "outputId": "cb52e04a-56f8-4695-f6a3-65190aec036b",
    "scrolled": true
   },
   "outputs": [
    {
     "data": {
      "text/html": [
       "<div>\n",
       "<style scoped>\n",
       "    .dataframe tbody tr th:only-of-type {\n",
       "        vertical-align: middle;\n",
       "    }\n",
       "\n",
       "    .dataframe tbody tr th {\n",
       "        vertical-align: top;\n",
       "    }\n",
       "\n",
       "    .dataframe thead th {\n",
       "        text-align: right;\n",
       "    }\n",
       "</style>\n",
       "<table border=\"1\" class=\"dataframe\">\n",
       "  <thead>\n",
       "    <tr style=\"text-align: right;\">\n",
       "      <th></th>\n",
       "      <th>Platform Type</th>\n",
       "      <th>Personal or Business</th>\n",
       "      <th>Placement - Day of Month</th>\n",
       "      <th>Distance (KM)</th>\n",
       "      <th>Temperature</th>\n",
       "      <th>Precipitation in millimeters</th>\n",
       "      <th>Pickup Lat</th>\n",
       "      <th>Pickup Long</th>\n",
       "      <th>Destination Lat</th>\n",
       "      <th>Destination Long</th>\n",
       "      <th>Age</th>\n",
       "      <th>Time from Pickup to Arrival</th>\n",
       "    </tr>\n",
       "  </thead>\n",
       "  <tbody>\n",
       "    <tr>\n",
       "      <th>0</th>\n",
       "      <td>3</td>\n",
       "      <td>Business</td>\n",
       "      <td>9</td>\n",
       "      <td>4</td>\n",
       "      <td>20.4</td>\n",
       "      <td>0.0</td>\n",
       "      <td>-1.317755</td>\n",
       "      <td>36.830370</td>\n",
       "      <td>-1.300406</td>\n",
       "      <td>36.829741</td>\n",
       "      <td>1309</td>\n",
       "      <td>745</td>\n",
       "    </tr>\n",
       "    <tr>\n",
       "      <th>1</th>\n",
       "      <td>3</td>\n",
       "      <td>Personal</td>\n",
       "      <td>12</td>\n",
       "      <td>16</td>\n",
       "      <td>26.4</td>\n",
       "      <td>0.0</td>\n",
       "      <td>-1.351453</td>\n",
       "      <td>36.899315</td>\n",
       "      <td>-1.295004</td>\n",
       "      <td>36.814358</td>\n",
       "      <td>339</td>\n",
       "      <td>1993</td>\n",
       "    </tr>\n",
       "  </tbody>\n",
       "</table>\n",
       "</div>"
      ],
      "text/plain": [
       "   Platform Type Personal or Business  Placement - Day of Month  \\\n",
       "0              3             Business                         9   \n",
       "1              3             Personal                        12   \n",
       "\n",
       "   Distance (KM)  Temperature  Precipitation in millimeters  Pickup Lat  \\\n",
       "0              4         20.4                           0.0   -1.317755   \n",
       "1             16         26.4                           0.0   -1.351453   \n",
       "\n",
       "   Pickup Long  Destination Lat  Destination Long   Age  \\\n",
       "0    36.830370        -1.300406         36.829741  1309   \n",
       "1    36.899315        -1.295004         36.814358   339   \n",
       "\n",
       "   Time from Pickup to Arrival  \n",
       "0                          745  \n",
       "1                         1993  "
      ]
     },
     "execution_count": 44,
     "metadata": {},
     "output_type": "execute_result"
    }
   ],
   "source": [
    "# We view the merged_train dataframe to see that the 'Personal or Business' is a categorical data. \n",
    "merged_train.head(2)"
   ]
  },
  {
   "cell_type": "markdown",
   "metadata": {},
   "source": [
    "We then manipulate this data so that it can be numerical as the other featured in the above dataframe."
   ]
  },
  {
   "cell_type": "code",
   "execution_count": 45,
   "metadata": {
    "id": "p2TmoHh7VDn2",
    "scrolled": true
   },
   "outputs": [],
   "source": [
    "# Implementing the pd.get_dummies method. \n",
    "merged_train= pd.get_dummies(merged_train, drop_first=True)\n",
    "merged_test = pd.get_dummies(merged_test, drop_first=True)"
   ]
  },
  {
   "cell_type": "code",
   "execution_count": 46,
   "metadata": {
    "colab": {
     "base_uri": "https://localhost:8080/",
     "height": 262
    },
    "id": "IcCMZHRxVDn5",
    "outputId": "7daf7642-512c-4eea-edc5-400a4c69e3d9"
   },
   "outputs": [
    {
     "data": {
      "text/html": [
       "<div>\n",
       "<style scoped>\n",
       "    .dataframe tbody tr th:only-of-type {\n",
       "        vertical-align: middle;\n",
       "    }\n",
       "\n",
       "    .dataframe tbody tr th {\n",
       "        vertical-align: top;\n",
       "    }\n",
       "\n",
       "    .dataframe thead th {\n",
       "        text-align: right;\n",
       "    }\n",
       "</style>\n",
       "<table border=\"1\" class=\"dataframe\">\n",
       "  <thead>\n",
       "    <tr style=\"text-align: right;\">\n",
       "      <th></th>\n",
       "      <th>Platform Type</th>\n",
       "      <th>Placement - Day of Month</th>\n",
       "      <th>Distance (KM)</th>\n",
       "      <th>Temperature</th>\n",
       "      <th>Precipitation in millimeters</th>\n",
       "      <th>Pickup Lat</th>\n",
       "      <th>Pickup Long</th>\n",
       "      <th>Destination Lat</th>\n",
       "      <th>Destination Long</th>\n",
       "      <th>Age</th>\n",
       "      <th>Time from Pickup to Arrival</th>\n",
       "      <th>Personal or Business_Personal</th>\n",
       "    </tr>\n",
       "  </thead>\n",
       "  <tbody>\n",
       "    <tr>\n",
       "      <th>0</th>\n",
       "      <td>3</td>\n",
       "      <td>9</td>\n",
       "      <td>4</td>\n",
       "      <td>20.400000</td>\n",
       "      <td>0.0</td>\n",
       "      <td>-1.317755</td>\n",
       "      <td>36.830370</td>\n",
       "      <td>-1.300406</td>\n",
       "      <td>36.829741</td>\n",
       "      <td>1309</td>\n",
       "      <td>745</td>\n",
       "      <td>0</td>\n",
       "    </tr>\n",
       "    <tr>\n",
       "      <th>1</th>\n",
       "      <td>3</td>\n",
       "      <td>12</td>\n",
       "      <td>16</td>\n",
       "      <td>26.400000</td>\n",
       "      <td>0.0</td>\n",
       "      <td>-1.351453</td>\n",
       "      <td>36.899315</td>\n",
       "      <td>-1.295004</td>\n",
       "      <td>36.814358</td>\n",
       "      <td>339</td>\n",
       "      <td>1993</td>\n",
       "      <td>1</td>\n",
       "    </tr>\n",
       "    <tr>\n",
       "      <th>2</th>\n",
       "      <td>3</td>\n",
       "      <td>30</td>\n",
       "      <td>3</td>\n",
       "      <td>23.258889</td>\n",
       "      <td>0.0</td>\n",
       "      <td>-1.308284</td>\n",
       "      <td>36.843419</td>\n",
       "      <td>-1.300921</td>\n",
       "      <td>36.828195</td>\n",
       "      <td>242</td>\n",
       "      <td>455</td>\n",
       "      <td>0</td>\n",
       "    </tr>\n",
       "    <tr>\n",
       "      <th>3</th>\n",
       "      <td>3</td>\n",
       "      <td>15</td>\n",
       "      <td>9</td>\n",
       "      <td>19.200000</td>\n",
       "      <td>0.0</td>\n",
       "      <td>-1.281301</td>\n",
       "      <td>36.832396</td>\n",
       "      <td>-1.257147</td>\n",
       "      <td>36.795063</td>\n",
       "      <td>283</td>\n",
       "      <td>1341</td>\n",
       "      <td>0</td>\n",
       "    </tr>\n",
       "    <tr>\n",
       "      <th>4</th>\n",
       "      <td>1</td>\n",
       "      <td>13</td>\n",
       "      <td>9</td>\n",
       "      <td>15.400000</td>\n",
       "      <td>0.0</td>\n",
       "      <td>-1.266597</td>\n",
       "      <td>36.792118</td>\n",
       "      <td>-1.295041</td>\n",
       "      <td>36.809817</td>\n",
       "      <td>872</td>\n",
       "      <td>1214</td>\n",
       "      <td>1</td>\n",
       "    </tr>\n",
       "  </tbody>\n",
       "</table>\n",
       "</div>"
      ],
      "text/plain": [
       "   Platform Type  Placement - Day of Month  Distance (KM)  Temperature  \\\n",
       "0              3                         9              4    20.400000   \n",
       "1              3                        12             16    26.400000   \n",
       "2              3                        30              3    23.258889   \n",
       "3              3                        15              9    19.200000   \n",
       "4              1                        13              9    15.400000   \n",
       "\n",
       "   Precipitation in millimeters  Pickup Lat  Pickup Long  Destination Lat  \\\n",
       "0                           0.0   -1.317755    36.830370        -1.300406   \n",
       "1                           0.0   -1.351453    36.899315        -1.295004   \n",
       "2                           0.0   -1.308284    36.843419        -1.300921   \n",
       "3                           0.0   -1.281301    36.832396        -1.257147   \n",
       "4                           0.0   -1.266597    36.792118        -1.295041   \n",
       "\n",
       "   Destination Long   Age  Time from Pickup to Arrival  \\\n",
       "0         36.829741  1309                          745   \n",
       "1         36.814358   339                         1993   \n",
       "2         36.828195   242                          455   \n",
       "3         36.795063   283                         1341   \n",
       "4         36.809817   872                         1214   \n",
       "\n",
       "   Personal or Business_Personal  \n",
       "0                              0  \n",
       "1                              1  \n",
       "2                              0  \n",
       "3                              0  \n",
       "4                              1  "
      ]
     },
     "execution_count": 46,
     "metadata": {},
     "output_type": "execute_result"
    }
   ],
   "source": [
    "# View the merged train with only numerical data.\n",
    "merged_train.head()"
   ]
  },
  {
   "cell_type": "code",
   "execution_count": 47,
   "metadata": {
    "colab": {
     "base_uri": "https://localhost:8080/",
     "height": 212
    },
    "id": "24DTB9FHVvri",
    "outputId": "f930f4b7-ec43-4a01-b72b-2c44927ee2d3",
    "scrolled": true
   },
   "outputs": [
    {
     "data": {
      "text/html": [
       "<div>\n",
       "<style scoped>\n",
       "    .dataframe tbody tr th:only-of-type {\n",
       "        vertical-align: middle;\n",
       "    }\n",
       "\n",
       "    .dataframe tbody tr th {\n",
       "        vertical-align: top;\n",
       "    }\n",
       "\n",
       "    .dataframe thead th {\n",
       "        text-align: right;\n",
       "    }\n",
       "</style>\n",
       "<table border=\"1\" class=\"dataframe\">\n",
       "  <thead>\n",
       "    <tr style=\"text-align: right;\">\n",
       "      <th></th>\n",
       "      <th>Platform Type</th>\n",
       "      <th>Placement - Day of Month</th>\n",
       "      <th>Distance (KM)</th>\n",
       "      <th>Temperature</th>\n",
       "      <th>Precipitation in millimeters</th>\n",
       "      <th>Pickup Lat</th>\n",
       "      <th>Pickup Long</th>\n",
       "      <th>Destination Lat</th>\n",
       "      <th>Destination Long</th>\n",
       "      <th>Age</th>\n",
       "      <th>Personal or Business_Personal</th>\n",
       "    </tr>\n",
       "  </thead>\n",
       "  <tbody>\n",
       "    <tr>\n",
       "      <th>0</th>\n",
       "      <td>3</td>\n",
       "      <td>27</td>\n",
       "      <td>8</td>\n",
       "      <td>23.24612</td>\n",
       "      <td>0.0</td>\n",
       "      <td>-1.333275</td>\n",
       "      <td>36.870815</td>\n",
       "      <td>-1.305249</td>\n",
       "      <td>36.822390</td>\n",
       "      <td>1511</td>\n",
       "      <td>0</td>\n",
       "    </tr>\n",
       "    <tr>\n",
       "      <th>1</th>\n",
       "      <td>3</td>\n",
       "      <td>17</td>\n",
       "      <td>5</td>\n",
       "      <td>23.24612</td>\n",
       "      <td>0.0</td>\n",
       "      <td>-1.272639</td>\n",
       "      <td>36.794723</td>\n",
       "      <td>-1.277007</td>\n",
       "      <td>36.823907</td>\n",
       "      <td>273</td>\n",
       "      <td>0</td>\n",
       "    </tr>\n",
       "    <tr>\n",
       "      <th>2</th>\n",
       "      <td>3</td>\n",
       "      <td>27</td>\n",
       "      <td>5</td>\n",
       "      <td>22.80000</td>\n",
       "      <td>0.0</td>\n",
       "      <td>-1.290894</td>\n",
       "      <td>36.822971</td>\n",
       "      <td>-1.276574</td>\n",
       "      <td>36.851365</td>\n",
       "      <td>460</td>\n",
       "      <td>0</td>\n",
       "    </tr>\n",
       "    <tr>\n",
       "      <th>3</th>\n",
       "      <td>3</td>\n",
       "      <td>17</td>\n",
       "      <td>5</td>\n",
       "      <td>24.50000</td>\n",
       "      <td>0.0</td>\n",
       "      <td>-1.290503</td>\n",
       "      <td>36.809646</td>\n",
       "      <td>-1.303382</td>\n",
       "      <td>36.790658</td>\n",
       "      <td>560</td>\n",
       "      <td>0</td>\n",
       "    </tr>\n",
       "    <tr>\n",
       "      <th>4</th>\n",
       "      <td>3</td>\n",
       "      <td>11</td>\n",
       "      <td>6</td>\n",
       "      <td>24.40000</td>\n",
       "      <td>0.0</td>\n",
       "      <td>-1.281081</td>\n",
       "      <td>36.814423</td>\n",
       "      <td>-1.266467</td>\n",
       "      <td>36.792161</td>\n",
       "      <td>1120</td>\n",
       "      <td>0</td>\n",
       "    </tr>\n",
       "  </tbody>\n",
       "</table>\n",
       "</div>"
      ],
      "text/plain": [
       "   Platform Type  Placement - Day of Month  Distance (KM)  Temperature  \\\n",
       "0              3                        27              8     23.24612   \n",
       "1              3                        17              5     23.24612   \n",
       "2              3                        27              5     22.80000   \n",
       "3              3                        17              5     24.50000   \n",
       "4              3                        11              6     24.40000   \n",
       "\n",
       "   Precipitation in millimeters  Pickup Lat  Pickup Long  Destination Lat  \\\n",
       "0                           0.0   -1.333275    36.870815        -1.305249   \n",
       "1                           0.0   -1.272639    36.794723        -1.277007   \n",
       "2                           0.0   -1.290894    36.822971        -1.276574   \n",
       "3                           0.0   -1.290503    36.809646        -1.303382   \n",
       "4                           0.0   -1.281081    36.814423        -1.266467   \n",
       "\n",
       "   Destination Long   Age  Personal or Business_Personal  \n",
       "0         36.822390  1511                              0  \n",
       "1         36.823907   273                              0  \n",
       "2         36.851365   460                              0  \n",
       "3         36.790658   560                              0  \n",
       "4         36.792161  1120                              0  "
      ]
     },
     "execution_count": 47,
     "metadata": {},
     "output_type": "execute_result"
    }
   ],
   "source": [
    "# View the merged train with only numerical data.\n",
    "merged_test.head()"
   ]
  },
  {
   "cell_type": "markdown",
   "metadata": {},
   "source": [
    "# Model Selection"
   ]
  },
  {
   "cell_type": "markdown",
   "metadata": {},
   "source": [
    "We train the models by checking which model perfromed the best."
   ]
  },
  {
   "cell_type": "markdown",
   "metadata": {
    "id": "UaScQfv9VDn-"
   },
   "source": [
    "### Base Model"
   ]
  },
  {
   "cell_type": "code",
   "execution_count": 48,
   "metadata": {
    "id": "NSOVQRZoVDn_"
   },
   "outputs": [],
   "source": [
    "# Create the response and predictor features:\n",
    "X = merged_train.drop(['Time from Pickup to Arrival','Age'], axis = 1)\n",
    "X_test = merged_test.drop(['Age'],axis = 1)\n",
    "y = np.array(train['Time from Pickup to Arrival']).reshape(-1,1)"
   ]
  },
  {
   "cell_type": "code",
   "execution_count": 49,
   "metadata": {},
   "outputs": [],
   "source": [
    "# We start by importing the train and test split function and Linear Regression library, respectively:\n",
    "from sklearn.model_selection import train_test_split\n",
    "from sklearn.linear_model import LinearRegression"
   ]
  },
  {
   "cell_type": "code",
   "execution_count": 50,
   "metadata": {
    "id": "sCOsCLsZVDoL"
   },
   "outputs": [],
   "source": [
    "# Train-test split\n",
    "X_train, X_val, y_train, y_val = train_test_split(X,y,test_size = 0.30,\n",
    "                                                  random_state = 25)"
   ]
  },
  {
   "cell_type": "code",
   "execution_count": 51,
   "metadata": {
    "colab": {
     "base_uri": "https://localhost:8080/",
     "height": 34
    },
    "id": "1mdh06MWHo4h",
    "outputId": "d8045b30-56da-4154-e9dd-62f0e098c483"
   },
   "outputs": [
    {
     "data": {
      "text/plain": [
       "LinearRegression()"
      ]
     },
     "execution_count": 51,
     "metadata": {},
     "output_type": "execute_result"
    }
   ],
   "source": [
    "# Create a LinearRegression() object with all the default parameters.\n",
    "lin_reg = LinearRegression() \n",
    "# Fit the linear regression model using the .fit() function.\n",
    "lin_reg.fit(X_train,y_train)"
   ]
  },
  {
   "cell_type": "code",
   "execution_count": 52,
   "metadata": {
    "colab": {
     "base_uri": "https://localhost:8080/",
     "height": 134
    },
    "id": "o6KxA2s2VDoS",
    "outputId": "36a0e99e-1523-4f72-96ee-426287fee7c7"
   },
   "outputs": [
    {
     "data": {
      "text/plain": [
       "array([[2042.76865557],\n",
       "       [1415.87781663],\n",
       "       [2050.18185505],\n",
       "       ...,\n",
       "       [1093.6552803 ],\n",
       "       [1023.72502374],\n",
       "       [1561.67252544]])"
      ]
     },
     "execution_count": 52,
     "metadata": {},
     "output_type": "execute_result"
    }
   ],
   "source": [
    "# Using the linear model to predict response variable from the test dataset obtained from the Test-split data.\n",
    "val_pred = lin_reg.predict(X_val)\n",
    "val_pred"
   ]
  },
  {
   "cell_type": "markdown",
   "metadata": {},
   "source": [
    "Having predicted the time arrival for the base models. It is important to evaluate to evaluate the performance of the model by comparing the measured and modelled values. To achieve this, the sklearn module is able to use error metrics to assess the fit of our model. The most popular statistical metrics include **Residual Sum of Squares (RSS)**, **Mean Squared Error (MSE)**, **R squared (R^2)**, and **Root Mean Squared Error (RMSE)**. Here is the formulation of the RMSE:\n",
    "\n",
    "$$MSE = \\frac{1}{n}\\sum_{i=1}^n(y_i-\\hat{y}_i)^2$$\n",
    "\n",
    "\n",
    "\n",
    "$$RMSE = \\frac{1}{n}\\sum_{i=1}^n \\sqrt{(y_i-\\hat{y}_i)^2} $$"
   ]
  },
  {
   "cell_type": "code",
   "execution_count": 53,
   "metadata": {
    "id": "m2mYyqboVDoV"
   },
   "outputs": [],
   "source": [
    "# function that calculates the root mean squared error.\n",
    "def rmse(y_test,y_prediction):\n",
    "    result = np.sqrt(mean_squared_error(y_test,y_prediction))\n",
    "    return result"
   ]
  },
  {
   "cell_type": "code",
   "execution_count": 54,
   "metadata": {
    "colab": {
     "base_uri": "https://localhost:8080/",
     "height": 34
    },
    "id": "3rK6LdL6VDoY",
    "outputId": "51a87e11-f3af-4df2-dd9d-bc8bdb547fa0"
   },
   "outputs": [
    {
     "data": {
      "text/plain": [
       "793.3028821523337"
      ]
     },
     "execution_count": 54,
     "metadata": {},
     "output_type": "execute_result"
    }
   ],
   "source": [
    "# We use the function to obtain the RMSE of the Base Model.\n",
    "rmse(y_val, val_pred)"
   ]
  },
  {
   "cell_type": "code",
   "execution_count": 58,
   "metadata": {
    "id": "3TAGaet6VDoc"
   },
   "outputs": [],
   "source": [
    "# Making actual y predictions\n",
    "y_pred = lin_reg.predict(X_test)"
   ]
  },
  {
   "cell_type": "code",
   "execution_count": 65,
   "metadata": {},
   "outputs": [
    {
     "data": {
      "image/png": "[encoded data removed]",
      "text/plain": [
       "<Figure size 432x288 with 1 Axes>"
      ]
     },
     "metadata": {
      "needs_background": "light"
     },
     "output_type": "display_data"
    }
   ],
   "source": [
    "# Linear model Visual\n",
    "plt.scatter(y_val,val_pred) # The scatter plot\n",
    "plt.plot(y_val,y_val,\"r\") # perfect model line\n",
    "plt.ylabel(\"Predicted $y$\")\n",
    "plt.xlabel(\"Actual $y$\")\n",
    "plt.show()"
   ]
  },
  {
   "cell_type": "code",
   "execution_count": 59,
   "metadata": {
    "id": "M8vFwRmbVDog"
   },
   "outputs": [],
   "source": [
    "# Create a Dataframe suitable for submission to Zindi.\n",
    "# This model has the time of arrival estimated by the base model. \n",
    "submission = test[['Order No']].copy()\n",
    "submission['Time from Pickup to Arrival'] = y_pred"
   ]
  },
  {
   "cell_type": "code",
   "execution_count": 60,
   "metadata": {
    "colab": {
     "base_uri": "https://localhost:8080/",
     "height": 402
    },
    "id": "5a9XcV0kVDol",
    "outputId": "bb5733e2-726a-4f70-d0ce-5259331d7c8b"
   },
   "outputs": [
    {
     "data": {
      "text/html": [
       "<div>\n",
       "<style scoped>\n",
       "    .dataframe tbody tr th:only-of-type {\n",
       "        vertical-align: middle;\n",
       "    }\n",
       "\n",
       "    .dataframe tbody tr th {\n",
       "        vertical-align: top;\n",
       "    }\n",
       "\n",
       "    .dataframe thead th {\n",
       "        text-align: right;\n",
       "    }\n",
       "</style>\n",
       "<table border=\"1\" class=\"dataframe\">\n",
       "  <thead>\n",
       "    <tr style=\"text-align: right;\">\n",
       "      <th></th>\n",
       "      <th>Order No</th>\n",
       "      <th>Time from Pickup to Arrival</th>\n",
       "    </tr>\n",
       "  </thead>\n",
       "  <tbody>\n",
       "    <tr>\n",
       "      <th>0</th>\n",
       "      <td>Order_No_19248</td>\n",
       "      <td>1307.746708</td>\n",
       "    </tr>\n",
       "    <tr>\n",
       "      <th>1</th>\n",
       "      <td>Order_No_12736</td>\n",
       "      <td>1109.207739</td>\n",
       "    </tr>\n",
       "    <tr>\n",
       "      <th>2</th>\n",
       "      <td>Order_No_768</td>\n",
       "      <td>1055.041384</td>\n",
       "    </tr>\n",
       "    <tr>\n",
       "      <th>3</th>\n",
       "      <td>Order_No_15332</td>\n",
       "      <td>1103.354981</td>\n",
       "    </tr>\n",
       "    <tr>\n",
       "      <th>4</th>\n",
       "      <td>Order_No_21373</td>\n",
       "      <td>1195.624103</td>\n",
       "    </tr>\n",
       "    <tr>\n",
       "      <th>...</th>\n",
       "      <td>...</td>\n",
       "      <td>...</td>\n",
       "    </tr>\n",
       "    <tr>\n",
       "      <th>7063</th>\n",
       "      <td>Order_No_3612</td>\n",
       "      <td>1130.460822</td>\n",
       "    </tr>\n",
       "    <tr>\n",
       "      <th>7064</th>\n",
       "      <td>Order_No_7657</td>\n",
       "      <td>2936.028198</td>\n",
       "    </tr>\n",
       "    <tr>\n",
       "      <th>7065</th>\n",
       "      <td>Order_No_1969</td>\n",
       "      <td>1654.064536</td>\n",
       "    </tr>\n",
       "    <tr>\n",
       "      <th>7066</th>\n",
       "      <td>Order_No_10591</td>\n",
       "      <td>2611.834259</td>\n",
       "    </tr>\n",
       "    <tr>\n",
       "      <th>7067</th>\n",
       "      <td>Order_No_1603</td>\n",
       "      <td>1461.884792</td>\n",
       "    </tr>\n",
       "  </tbody>\n",
       "</table>\n",
       "<p>7068 rows × 2 columns</p>\n",
       "</div>"
      ],
      "text/plain": [
       "            Order No  Time from Pickup to Arrival\n",
       "0     Order_No_19248                  1307.746708\n",
       "1     Order_No_12736                  1109.207739\n",
       "2       Order_No_768                  1055.041384\n",
       "3     Order_No_15332                  1103.354981\n",
       "4     Order_No_21373                  1195.624103\n",
       "...              ...                          ...\n",
       "7063   Order_No_3612                  1130.460822\n",
       "7064   Order_No_7657                  2936.028198\n",
       "7065   Order_No_1969                  1654.064536\n",
       "7066  Order_No_10591                  2611.834259\n",
       "7067   Order_No_1603                  1461.884792\n",
       "\n",
       "[7068 rows x 2 columns]"
      ]
     },
     "execution_count": 60,
     "metadata": {},
     "output_type": "execute_result"
    }
   ],
   "source": [
    "# dataframe to be submitted to Zindi. \n",
    "submission"
   ]
  },
  {
   "cell_type": "code",
   "execution_count": 73,
   "metadata": {
    "id": "EO6CfCx-VDot"
   },
   "outputs": [],
   "source": [
    "# The Dataframe is saved as a csv file titled 'submission_0.11'\n",
    "submission.to_csv('submission_0.11.csv', index = False)"
   ]
  },
  {
   "cell_type": "markdown",
   "metadata": {
    "id": "DtyikQbQVDqq"
   },
   "source": [
    "## Comparing models\n"
   ]
  },
  {
   "cell_type": "code",
   "execution_count": 62,
   "metadata": {
    "id": "cWmnvmQAVDqr"
   },
   "outputs": [],
   "source": [
    "def best_perfomance(model_result,best_result):\n",
    "    ''' This functions checks if whether the last model we build perfoms better compared our\n",
    "    best perfoming models by comparing their RMSE score'''\n",
    "    if model_result < best_result:\n",
    "        print('This is now the best perfoming model, with RMSE of {}'.format(model_result))\n",
    "    \n",
    "    elif model_result == best_result:\n",
    "        print('This model performance just as good as the previous best performing model with RMSE of {}'.format(model_result))\n",
    "        \n",
    "    else:\n",
    "        print('This model performs poorly compared the previous best performing model')\n",
    "        print('Best perfomaning model score: {}'.format(round(best_result,4)))\n",
    "        print('Model result : {}'.format(round(model_result,4)))\n",
    "        "
   ]
  },
  {
   "cell_type": "code",
   "execution_count": 63,
   "metadata": {
    "id": "rFJ6CJqf-XpN"
   },
   "outputs": [],
   "source": [
    "best_result = 793.3028821523337\n",
    "model_result = rmse(y_val,val_pred)"
   ]
  },
  {
   "cell_type": "code",
   "execution_count": 64,
   "metadata": {
    "colab": {
     "base_uri": "https://localhost:8080/",
     "height": 67
    },
    "id": "ScVZLnrO_J41",
    "outputId": "b9f64d0f-2f7f-4cf9-f9c5-3e7de669eef2"
   },
   "outputs": [
    {
     "name": "stdout",
     "output_type": "stream",
     "text": [
      "This model performance just as good as the previous best performing model with RMSE of 793.3028821523337\n"
     ]
    }
   ],
   "source": [
    "best_perfomance(model_result, best_result)"
   ]
  },
  {
   "cell_type": "markdown",
   "metadata": {
    "id": "MwldlJxa_Wa2"
   },
   "source": [
    "### Catboost Regressor\n",
    "\n",
    "Using the jupyter notebook commdand we 'pip install catboost' Regressor."
   ]
  },
  {
   "cell_type": "code",
   "execution_count": 202,
   "metadata": {
    "id": "DTAP1wKS_LMA"
   },
   "outputs": [],
   "source": [
    "# creating an instance of the catboostregressor\n",
    "cbr_model = CatBoostRegressor(iterations=2,\n",
    "                          learning_rate=1,\n",
    "                          depth=2)"
   ]
  },
  {
   "cell_type": "code",
   "execution_count": 203,
   "metadata": {
    "colab": {
     "base_uri": "https://localhost:8080/",
     "height": 67
    },
    "id": "3CUjDrC5_LR7",
    "outputId": "8648cfc0-468f-4664-d231-27fea49b4653"
   },
   "outputs": [
    {
     "name": "stdout",
     "output_type": "stream",
     "text": [
      "0:\tlearn: 839.4022581\ttotal: 6.22ms\tremaining: 6.22ms\n",
      "1:\tlearn: 825.4788909\ttotal: 8.88ms\tremaining: 0us\n"
     ]
    },
    {
     "data": {
      "text/plain": [
       "<catboost.core.CatBoostRegressor at 0x7ff54a19e0b8>"
      ]
     },
     "execution_count": 203,
     "metadata": {
      "tags": []
     },
     "output_type": "execute_result"
    }
   ],
   "source": [
    "# training the catboost regressor model\n",
    "cbr_model.fit(X_train, y_train)"
   ]
  },
  {
   "cell_type": "code",
   "execution_count": 204,
   "metadata": {
    "colab": {
     "base_uri": "https://localhost:8080/",
     "height": 50
    },
    "id": "FMYi52DA_LUM",
    "outputId": "ae35356a-d4f5-477e-9945-3931dcbfebb9"
   },
   "outputs": [
    {
     "data": {
      "text/plain": [
       "array([2238.25652059, 1395.6549036 , 2238.25652059, ..., 1395.6549036 ,\n",
       "        736.31988701, 1395.6549036 ])"
      ]
     },
     "execution_count": 204,
     "metadata": {
      "tags": []
     },
     "output_type": "execute_result"
    }
   ],
   "source": [
    "# predictions on the validation set\n",
    "val_pred = cbr_model.predict(X_val)\n",
    "val_pred"
   ]
  },
  {
   "cell_type": "code",
   "execution_count": 205,
   "metadata": {
    "id": "I5MdWbFO_LWN"
   },
   "outputs": [],
   "source": [
    "model_result = rmse(y_val, val_pred)"
   ]
  },
  {
   "cell_type": "code",
   "execution_count": 206,
   "metadata": {
    "colab": {
     "base_uri": "https://localhost:8080/",
     "height": 67
    },
    "id": "5RRMDfA4_LYq",
    "outputId": "30938bc2-7334-4ed9-c902-c459ea9ebaec"
   },
   "outputs": [
    {
     "name": "stdout",
     "output_type": "stream",
     "text": [
      "This model performs poorly compared the previous best performing model\n",
      "Best perfomaning model score: 793.3029\n",
      "Model result : 812.3998\n"
     ]
    }
   ],
   "source": [
    "# Checking the model performance\n",
    "best_perfomance(model_result, best_result)"
   ]
  },
  {
   "cell_type": "code",
   "execution_count": 66,
   "metadata": {},
   "outputs": [
    {
     "data": {
      "image/png": "[encoded data removed]",
      "text/plain": [
       "<Figure size 432x288 with 1 Axes>"
      ]
     },
     "metadata": {
      "needs_background": "light"
     },
     "output_type": "display_data"
    }
   ],
   "source": [
    "plt.scatter(y_val,val_pred) # The scatter plot\n",
    "plt.plot(y_val,y_val,\"r\") # perfect model line\n",
    "plt.ylabel(\"Predicted $y$\")\n",
    "plt.xlabel(\"Actual $y$\")\n",
    "plt.show()"
   ]
  },
  {
   "cell_type": "markdown",
   "metadata": {
    "id": "H5HUsrWJ_-QZ"
   },
   "source": [
    "### Random Forest Regressor"
   ]
  },
  {
   "cell_type": "code",
   "execution_count": 207,
   "metadata": {
    "id": "8NbDC5zq_Lc5"
   },
   "outputs": [],
   "source": [
    "# creating a random forest regressor instancce\n",
    "regr = RandomForestRegressor(max_depth=2, random_state=0)"
   ]
  },
  {
   "cell_type": "code",
   "execution_count": 208,
   "metadata": {
    "colab": {
     "base_uri": "https://localhost:8080/",
     "height": 188
    },
    "id": "-L-hpCcG_Lg5",
    "outputId": "408cc7c0-923a-4f67-dffa-01784620f040"
   },
   "outputs": [
    {
     "name": "stderr",
     "output_type": "stream",
     "text": [
      "/usr/local/lib/python3.6/dist-packages/ipykernel_launcher.py:2: DataConversionWarning: A column-vector y was passed when a 1d array was expected. Please change the shape of y to (n_samples,), for example using ravel().\n",
      "  \n"
     ]
    },
    {
     "data": {
      "text/plain": [
       "RandomForestRegressor(bootstrap=True, ccp_alpha=0.0, criterion='mse',\n",
       "                      max_depth=2, max_features='auto', max_leaf_nodes=None,\n",
       "                      max_samples=None, min_impurity_decrease=0.0,\n",
       "                      min_impurity_split=None, min_samples_leaf=1,\n",
       "                      min_samples_split=2, min_weight_fraction_leaf=0.0,\n",
       "                      n_estimators=100, n_jobs=None, oob_score=False,\n",
       "                      random_state=0, verbose=0, warm_start=False)"
      ]
     },
     "execution_count": 208,
     "metadata": {
      "tags": []
     },
     "output_type": "execute_result"
    }
   ],
   "source": [
    "# train the model\n",
    "regr.fit(X_train, y_train)"
   ]
  },
  {
   "cell_type": "code",
   "execution_count": 209,
   "metadata": {
    "colab": {
     "base_uri": "https://localhost:8080/",
     "height": 50
    },
    "id": "HEzkGrdl_LjG",
    "outputId": "4f2f64f0-ab96-4ee9-d10c-89c197b4a48a"
   },
   "outputs": [
    {
     "data": {
      "text/plain": [
       "array([2044.40419148, 1442.01754556, 2069.90089065, ..., 1280.03573814,\n",
       "        800.63652348, 1447.48387118])"
      ]
     },
     "execution_count": 209,
     "metadata": {
      "tags": []
     },
     "output_type": "execute_result"
    }
   ],
   "source": [
    "# making predictions for the valdiation set\n",
    "regr.predict(X_val)"
   ]
  },
  {
   "cell_type": "code",
   "execution_count": 210,
   "metadata": {
    "id": "5Cyr-NxK_Lk7"
   },
   "outputs": [],
   "source": [
    "# Assign the RMSE to a variable called model_result\n",
    "model_result = rmse(y_val,regr.predict(X_val))"
   ]
  },
  {
   "cell_type": "code",
   "execution_count": 211,
   "metadata": {
    "colab": {
     "base_uri": "https://localhost:8080/",
     "height": 67
    },
    "id": "1UXy6gJOAR6N",
    "outputId": "a0a4c047-d1c6-41c5-fe45-58a1d670c62a"
   },
   "outputs": [
    {
     "name": "stdout",
     "output_type": "stream",
     "text": [
      "This model performs poorly compared the previous best performing model\n",
      "Best perfomaning model score: 793.3029\n",
      "Model result : 805.0174\n"
     ]
    }
   ],
   "source": [
    "best_perfomance(model_result, best_result)"
   ]
  },
  {
   "cell_type": "markdown",
   "metadata": {
    "id": "RqdQKgvCAeIt"
   },
   "source": [
    "### Decision Tree Regressor"
   ]
  },
  {
   "cell_type": "code",
   "execution_count": 212,
   "metadata": {
    "id": "qEvkjNXlAR_w"
   },
   "outputs": [],
   "source": [
    "# creating an instance of the DecisionTreeRegressor\n",
    "tree_model = DecisionTreeRegressor(random_state = 0)"
   ]
  },
  {
   "cell_type": "code",
   "execution_count": 213,
   "metadata": {
    "colab": {
     "base_uri": "https://localhost:8080/",
     "height": 118
    },
    "id": "ngYOE4mLASDG",
    "outputId": "4976da20-770c-49fd-ceab-7c8f55d6200e"
   },
   "outputs": [
    {
     "data": {
      "text/plain": [
       "DecisionTreeRegressor(ccp_alpha=0.0, criterion='mse', max_depth=None,\n",
       "                      max_features=None, max_leaf_nodes=None,\n",
       "                      min_impurity_decrease=0.0, min_impurity_split=None,\n",
       "                      min_samples_leaf=1, min_samples_split=2,\n",
       "                      min_weight_fraction_leaf=0.0, presort='deprecated',\n",
       "                      random_state=0, splitter='best')"
      ]
     },
     "execution_count": 213,
     "metadata": {
      "tags": []
     },
     "output_type": "execute_result"
    }
   ],
   "source": [
    "# training the model\n",
    "tree_model.fit(X_train, y_train)"
   ]
  },
  {
   "cell_type": "code",
   "execution_count": 214,
   "metadata": {
    "colab": {
     "base_uri": "https://localhost:8080/",
     "height": 34
    },
    "id": "5w3edAzTARqy",
    "outputId": "71046f9e-297b-4857-fcbd-d04781ed2fea"
   },
   "outputs": [
    {
     "data": {
      "text/plain": [
       "array([1188., 2157., 2270., ..., 1126.,  773., 1236.])"
      ]
     },
     "execution_count": 214,
     "metadata": {
      "tags": []
     },
     "output_type": "execute_result"
    }
   ],
   "source": [
    "# prediction of the validation set\n",
    "tree_model.predict(X_val)"
   ]
  },
  {
   "cell_type": "code",
   "execution_count": 215,
   "metadata": {
    "id": "Rhv7-oUkArm7"
   },
   "outputs": [],
   "source": [
    "# Assign the RMSE to a variable called model_result\n",
    "model_result = rmse(y_val, tree_model.predict(X_val))"
   ]
  },
  {
   "cell_type": "code",
   "execution_count": 216,
   "metadata": {
    "colab": {
     "base_uri": "https://localhost:8080/",
     "height": 67
    },
    "id": "MmsiTnDGAtjF",
    "outputId": "02f7929f-bbd5-4532-d87e-7d8cf65c8f69"
   },
   "outputs": [
    {
     "name": "stdout",
     "output_type": "stream",
     "text": [
      "This model performs poorly compared the previous best performing model\n",
      "Best perfomaning model score: 793.3029\n",
      "Model result : 1107.6072\n"
     ]
    }
   ],
   "source": [
    "best_perfomance(model_result, best_result)"
   ]
  },
  {
   "cell_type": "markdown",
   "metadata": {
    "id": "Z3CMOm5bA3Cf"
   },
   "source": [
    "### Support Vector Regression"
   ]
  },
  {
   "cell_type": "markdown",
   "metadata": {},
   "source": [
    "One of the important reason of feature scaling is so that one significant number doesn't impact the model because of their large magnitude. Thus, feature scaling is one of the most critical step in machine learning during the preprocessing data before creating the a machine learning model. There are several techniques of scaling and the one used in this work is known as Normalization. Normally this technique is used when we want to bound the values between two numbers, that are often between 0 to 1, or -1 to 1. The diagram below shows how the data looks like after it has been scaling it in the X-Y plane."
   ]
  },
  {
   "cell_type": "code",
   "execution_count": 219,
   "metadata": {
    "id": "TqYzAO_FntBO"
   },
   "outputs": [],
   "source": [
    "# The support vector regression model requires scaled data\n",
    "# creating instance for scaled X and  scaled y\n",
    "sc_X = StandardScaler()\n",
    "sc_y = StandardScaler()\n",
    "X_scaled = sc_X.fit_transform(X)\n",
    "y_scaled = sc_y.fit_transform(y)\n"
   ]
  },
  {
   "cell_type": "code",
   "execution_count": 220,
   "metadata": {
    "id": "G25oT5TGnvsp"
   },
   "outputs": [],
   "source": [
    "# splitting the scaled data in to training set and validation set\n",
    "X_train_sc, X_val_sc, y_train_sc, y_val_sc = train_test_split(X_scaled,y_scaled,test_size = 0.3)"
   ]
  },
  {
   "cell_type": "code",
   "execution_count": 221,
   "metadata": {
    "colab": {
     "base_uri": "https://localhost:8080/",
     "height": 104
    },
    "id": "dTO2yDItAsvQ",
    "outputId": "4859ea58-c18f-494e-92df-78f1a4bfe077"
   },
   "outputs": [
    {
     "name": "stderr",
     "output_type": "stream",
     "text": [
      "/usr/local/lib/python3.6/dist-packages/sklearn/utils/validation.py:760: DataConversionWarning: A column-vector y was passed when a 1d array was expected. Please change the shape of y to (n_samples, ), for example using ravel().\n",
      "  y = column_or_1d(y, warn=True)\n"
     ]
    },
    {
     "data": {
      "text/plain": [
       "SVR(C=1.0, cache_size=200, coef0=0.0, degree=3, epsilon=0.1, gamma='scale',\n",
       "    kernel='rbf', max_iter=-1, shrinking=True, tol=0.001, verbose=False)"
      ]
     },
     "execution_count": 221,
     "metadata": {
      "tags": []
     },
     "output_type": "execute_result"
    }
   ],
   "source": [
    "# Training the SVR model\n",
    "regressor_svr = SVR(kernel = 'rbf')\n",
    "regressor_svr.fit(X_train_sc, y_train_sc)"
   ]
  },
  {
   "cell_type": "code",
   "execution_count": 222,
   "metadata": {
    "id": "JTvY4NV2As2m"
   },
   "outputs": [],
   "source": [
    "# making preditions on the validation test\n",
    "val_pred = sc_y.inverse_transform(regressor_svr.predict(sc_X.transform(X_val_sc)))"
   ]
  },
  {
   "cell_type": "code",
   "execution_count": 223,
   "metadata": {
    "id": "4OUmAekkAs0a"
   },
   "outputs": [],
   "source": [
    "# Assign the RMSE to a variable called model_result\n",
    "model_result= rmse(y_val_sc, val_pred)"
   ]
  },
  {
   "cell_type": "code",
   "execution_count": 224,
   "metadata": {
    "colab": {
     "base_uri": "https://localhost:8080/",
     "height": 67
    },
    "id": "h8pvRHbRAsrT",
    "outputId": "0afa5998-7477-46af-d401-39a674047dcb"
   },
   "outputs": [
    {
     "name": "stdout",
     "output_type": "stream",
     "text": [
      "This model performs poorly compared the previous best performing model\n",
      "Best perfomaning model score: 793.3029\n",
      "Model result : 2370.4036\n"
     ]
    }
   ],
   "source": [
    "best_perfomance(model_result, best_result)"
   ]
  },
  {
   "cell_type": "markdown",
   "metadata": {
    "id": "xvGxYiR6C6WU"
   },
   "source": [
    "### Ensemble Xgboost Regression"
   ]
  },
  {
   "cell_type": "code",
   "execution_count": 227,
   "metadata": {
    "id": "FovsfY1qoEAO"
   },
   "outputs": [],
   "source": [
    "# creating a Xgboost regressor instancce\n",
    "model_x=XGBRegressor()"
   ]
  },
  {
   "cell_type": "code",
   "execution_count": 228,
   "metadata": {
    "colab": {
     "base_uri": "https://localhost:8080/",
     "height": 151
    },
    "id": "m0FyYxK_C4ZC",
    "outputId": "2d05f69f-4e34-4f3e-ff68-0bb546757efd"
   },
   "outputs": [
    {
     "name": "stdout",
     "output_type": "stream",
     "text": [
      "[00:55:07] WARNING: /workspace/src/objective/regression_obj.cu:152: reg:linear is now deprecated in favor of reg:squarederror.\n"
     ]
    },
    {
     "data": {
      "text/plain": [
       "XGBRegressor(base_score=0.5, booster='gbtree', colsample_bylevel=1,\n",
       "             colsample_bynode=1, colsample_bytree=1, gamma=0,\n",
       "             importance_type='gain', learning_rate=0.1, max_delta_step=0,\n",
       "             max_depth=3, min_child_weight=1, missing=None, n_estimators=100,\n",
       "             n_jobs=1, nthread=None, objective='reg:linear', random_state=0,\n",
       "             reg_alpha=0, reg_lambda=1, scale_pos_weight=1, seed=None,\n",
       "             silent=None, subsample=1, verbosity=1)"
      ]
     },
     "execution_count": 228,
     "metadata": {
      "tags": []
     },
     "output_type": "execute_result"
    }
   ],
   "source": [
    "# Training a Xgboost model\n",
    "model_x.fit(X_train, y_train)"
   ]
  },
  {
   "cell_type": "code",
   "execution_count": 229,
   "metadata": {
    "colab": {
     "base_uri": "https://localhost:8080/",
     "height": 50
    },
    "id": "wJhPBOhxC4Wz",
    "outputId": "a7989c5a-7545-48b0-a987-b8eb5485614a"
   },
   "outputs": [
    {
     "data": {
      "text/plain": [
       "array([1979.1566, 1620.1714, 2207.526 , ..., 1211.1982, 1065.2958,\n",
       "       1702.2092], dtype=float32)"
      ]
     },
     "execution_count": 229,
     "metadata": {
      "tags": []
     },
     "output_type": "execute_result"
    }
   ],
   "source": [
    "# Making predictions of the validation data\n",
    "model_x.predict(X_val)"
   ]
  },
  {
   "cell_type": "code",
   "execution_count": 230,
   "metadata": {
    "id": "BdQ3nJ28C4Og"
   },
   "outputs": [],
   "source": [
    "# Assign the RMSE to a variable called model_result\n",
    "model_result = rmse(y_val, model_x.predict(X_val))"
   ]
  },
  {
   "cell_type": "code",
   "execution_count": 231,
   "metadata": {
    "colab": {
     "base_uri": "https://localhost:8080/",
     "height": 34
    },
    "id": "4j_VCKWRC4MV",
    "outputId": "3bcb4e40-eeb9-4a0e-eeb5-dc191c9e57b6"
   },
   "outputs": [
    {
     "name": "stdout",
     "output_type": "stream",
     "text": [
      "This is now the best perfoming model, with RMSE of 769.2752110279656\n"
     ]
    }
   ],
   "source": [
    "# Cheking the performance\n",
    "best_perfomance(model_result, best_result)"
   ]
  },
  {
   "cell_type": "markdown",
   "metadata": {
    "id": "b9wzVOEJ53aq"
   },
   "source": [
    "The XGBoost Regression model is now the best performing model"
   ]
  },
  {
   "cell_type": "code",
   "execution_count": 232,
   "metadata": {
    "id": "kcsTdziXC4Jk"
   },
   "outputs": [],
   "source": [
    "best_result = 769.2752110279656"
   ]
  },
  {
   "cell_type": "markdown",
   "metadata": {
    "id": "cNXrc5fhFMY4"
   },
   "source": [
    "### Gradient BoostingRegressor"
   ]
  },
  {
   "cell_type": "code",
   "execution_count": 233,
   "metadata": {
    "id": "-XOy3yBBE_ri"
   },
   "outputs": [],
   "source": [
    "# creating an instance for the gradient boosting regressor\n",
    "Gbr_model= GradientBoostingRegressor()"
   ]
  },
  {
   "cell_type": "code",
   "execution_count": 234,
   "metadata": {
    "colab": {
     "base_uri": "https://localhost:8080/",
     "height": 222
    },
    "id": "AjSsTI4UFcko",
    "outputId": "ecb187e9-00d5-4b8c-a418-7e02f91a1ac4"
   },
   "outputs": [
    {
     "name": "stderr",
     "output_type": "stream",
     "text": [
      "/usr/local/lib/python3.6/dist-packages/sklearn/ensemble/_gb.py:1454: DataConversionWarning: A column-vector y was passed when a 1d array was expected. Please change the shape of y to (n_samples, ), for example using ravel().\n",
      "  y = column_or_1d(y, warn=True)\n"
     ]
    },
    {
     "data": {
      "text/plain": [
       "GradientBoostingRegressor(alpha=0.9, ccp_alpha=0.0, criterion='friedman_mse',\n",
       "                          init=None, learning_rate=0.1, loss='ls', max_depth=3,\n",
       "                          max_features=None, max_leaf_nodes=None,\n",
       "                          min_impurity_decrease=0.0, min_impurity_split=None,\n",
       "                          min_samples_leaf=1, min_samples_split=2,\n",
       "                          min_weight_fraction_leaf=0.0, n_estimators=100,\n",
       "                          n_iter_no_change=None, presort='deprecated',\n",
       "                          random_state=None, subsample=1.0, tol=0.0001,\n",
       "                          validation_fraction=0.1, verbose=0, warm_start=False)"
      ]
     },
     "execution_count": 234,
     "metadata": {
      "tags": []
     },
     "output_type": "execute_result"
    }
   ],
   "source": [
    "# training the Gbr_model\n",
    "Gbr_model.fit(X_train, y_train)"
   ]
  },
  {
   "cell_type": "code",
   "execution_count": 235,
   "metadata": {
    "id": "dH-3_NX3E_w1"
   },
   "outputs": [],
   "source": [
    "# Assign the RMSE to a variable called model_result\n",
    "model_result = rmse(y_val, val_pred)"
   ]
  },
  {
   "cell_type": "code",
   "execution_count": 236,
   "metadata": {
    "colab": {
     "base_uri": "https://localhost:8080/",
     "height": 67
    },
    "id": "U4jfWWXYEtfH",
    "outputId": "c992b9b5-8d3f-49c5-ce0c-ab98b862ea00"
   },
   "outputs": [
    {
     "name": "stdout",
     "output_type": "stream",
     "text": [
      "This model performs poorly compared the previous best performing model\n",
      "Best perfomaning model score: 769.2752\n",
      "Model result : 1280.3037\n"
     ]
    }
   ],
   "source": [
    "best_perfomance(model_result, best_result)"
   ]
  },
  {
   "cell_type": "code",
   "execution_count": 236,
   "metadata": {
    "id": "XGiSYxIKFtYB"
   },
   "outputs": [],
   "source": []
  },
  {
   "cell_type": "code",
   "execution_count": 237,
   "metadata": {
    "id": "glqDE8X7Fyb7"
   },
   "outputs": [],
   "source": [
    "# make actualy target variable predictions on the test data\n",
    "X_test\n",
    "y_gbr_pred = Gbr_model.predict(X_test)"
   ]
  },
  {
   "cell_type": "code",
   "execution_count": 238,
   "metadata": {
    "id": "jcCJa1GmF0_w"
   },
   "outputs": [],
   "source": [
    "submission_gbr = test[['Order No']].copy()\n",
    "submission_gbr['Time from Pickup to Arrival'] = y_gbr_pred"
   ]
  },
  {
   "cell_type": "code",
   "execution_count": 239,
   "metadata": {
    "colab": {
     "base_uri": "https://localhost:8080/",
     "height": 402
    },
    "id": "-yLs_hfqF3p_",
    "outputId": "ce7856bb-44a2-4092-f15f-adcc8144acd5"
   },
   "outputs": [
    {
     "data": {
      "text/html": [
       "<div>\n",
       "<style scoped>\n",
       "    .dataframe tbody tr th:only-of-type {\n",
       "        vertical-align: middle;\n",
       "    }\n",
       "\n",
       "    .dataframe tbody tr th {\n",
       "        vertical-align: top;\n",
       "    }\n",
       "\n",
       "    .dataframe thead th {\n",
       "        text-align: right;\n",
       "    }\n",
       "</style>\n",
       "<table border=\"1\" class=\"dataframe\">\n",
       "  <thead>\n",
       "    <tr style=\"text-align: right;\">\n",
       "      <th></th>\n",
       "      <th>Order No</th>\n",
       "      <th>Time from Pickup to Arrival</th>\n",
       "    </tr>\n",
       "  </thead>\n",
       "  <tbody>\n",
       "    <tr>\n",
       "      <th>0</th>\n",
       "      <td>Order_No_19248</td>\n",
       "      <td>1454.271759</td>\n",
       "    </tr>\n",
       "    <tr>\n",
       "      <th>1</th>\n",
       "      <td>Order_No_12736</td>\n",
       "      <td>1284.804529</td>\n",
       "    </tr>\n",
       "    <tr>\n",
       "      <th>2</th>\n",
       "      <td>Order_No_768</td>\n",
       "      <td>1221.508333</td>\n",
       "    </tr>\n",
       "    <tr>\n",
       "      <th>3</th>\n",
       "      <td>Order_No_15332</td>\n",
       "      <td>1323.956210</td>\n",
       "    </tr>\n",
       "    <tr>\n",
       "      <th>4</th>\n",
       "      <td>Order_No_21373</td>\n",
       "      <td>1265.913506</td>\n",
       "    </tr>\n",
       "    <tr>\n",
       "      <th>...</th>\n",
       "      <td>...</td>\n",
       "      <td>...</td>\n",
       "    </tr>\n",
       "    <tr>\n",
       "      <th>7063</th>\n",
       "      <td>Order_No_3612</td>\n",
       "      <td>1421.351402</td>\n",
       "    </tr>\n",
       "    <tr>\n",
       "      <th>7064</th>\n",
       "      <td>Order_No_7657</td>\n",
       "      <td>2750.003005</td>\n",
       "    </tr>\n",
       "    <tr>\n",
       "      <th>7065</th>\n",
       "      <td>Order_No_1969</td>\n",
       "      <td>1794.642730</td>\n",
       "    </tr>\n",
       "    <tr>\n",
       "      <th>7066</th>\n",
       "      <td>Order_No_10591</td>\n",
       "      <td>2675.930017</td>\n",
       "    </tr>\n",
       "    <tr>\n",
       "      <th>7067</th>\n",
       "      <td>Order_No_1603</td>\n",
       "      <td>1730.976567</td>\n",
       "    </tr>\n",
       "  </tbody>\n",
       "</table>\n",
       "<p>7068 rows × 2 columns</p>\n",
       "</div>"
      ],
      "text/plain": [
       "            Order No  Time from Pickup to Arrival\n",
       "0     Order_No_19248                  1454.271759\n",
       "1     Order_No_12736                  1284.804529\n",
       "2       Order_No_768                  1221.508333\n",
       "3     Order_No_15332                  1323.956210\n",
       "4     Order_No_21373                  1265.913506\n",
       "...              ...                          ...\n",
       "7063   Order_No_3612                  1421.351402\n",
       "7064   Order_No_7657                  2750.003005\n",
       "7065   Order_No_1969                  1794.642730\n",
       "7066  Order_No_10591                  2675.930017\n",
       "7067   Order_No_1603                  1730.976567\n",
       "\n",
       "[7068 rows x 2 columns]"
      ]
     },
     "execution_count": 239,
     "metadata": {
      "tags": []
     },
     "output_type": "execute_result"
    }
   ],
   "source": [
    "submission_gbr"
   ]
  },
  {
   "cell_type": "code",
   "execution_count": 240,
   "metadata": {
    "id": "-uNmYUjzF7SS"
   },
   "outputs": [],
   "source": [
    " # submission_gbr.to_csv('submission_gbr_ver3.csv', index = False)"
   ]
  },
  {
   "cell_type": "markdown",
   "metadata": {
    "id": "hZH8ZmcMLXOB"
   },
   "source": [
    "## Tuning the Gradient Boosting Regressor model"
   ]
  },
  {
   "cell_type": "code",
   "execution_count": 241,
   "metadata": {
    "id": "GnlydOiALrt7"
   },
   "outputs": [],
   "source": [
    "train_clean = train.copy()\n",
    "test_clean = test.copy()"
   ]
  },
  {
   "cell_type": "code",
   "execution_count": 242,
   "metadata": {
    "colab": {
     "base_uri": "https://localhost:8080/",
     "height": 34
    },
    "id": "J9cTZmwWEmMt",
    "outputId": "99342a7b-2e18-443e-9d9b-8796e585248c"
   },
   "outputs": [
    {
     "data": {
      "text/plain": [
       "(21201, 29)"
      ]
     },
     "execution_count": 242,
     "metadata": {
      "tags": []
     },
     "output_type": "execute_result"
    }
   ],
   "source": [
    "train_clean.shape"
   ]
  },
  {
   "cell_type": "code",
   "execution_count": 243,
   "metadata": {
    "id": "Aq5db71tNyLX"
   },
   "outputs": [],
   "source": [
    "#Merge riders dataset to train and test datasets\n",
    "train_clean = pd.merge(train_clean, riders, on=\"Rider Id\", how=\"left\") \n",
    "test_clean = pd.merge(test_clean, riders, on=\"Rider Id\", how=\"left\")"
   ]
  },
  {
   "cell_type": "code",
   "execution_count": 244,
   "metadata": {
    "colab": {
     "base_uri": "https://localhost:8080/",
     "height": 34
    },
    "id": "NM8Pd5lnEw1D",
    "outputId": "ed56ea6f-1cb2-450f-cbd3-c3c95fb9e0d1"
   },
   "outputs": [
    {
     "data": {
      "text/plain": [
       "(21201, 33)"
      ]
     },
     "execution_count": 244,
     "metadata": {
      "tags": []
     },
     "output_type": "execute_result"
    }
   ],
   "source": [
    "train_clean.shape"
   ]
  },
  {
   "cell_type": "code",
   "execution_count": 245,
   "metadata": {
    "id": "th5em9etOqGy"
   },
   "outputs": [],
   "source": [
    "# Replace missing values of temperature by average of the column\n",
    "train_clean[\"Temperature\"] = train_clean[\"Temperature\"].fillna(train_clean[\"Temperature\"].mean())\n",
    "test_clean[\"Temperature\"] = test_clean[\"Temperature\"].fillna(test_clean[\"Temperature\"].mean())"
   ]
  },
  {
   "cell_type": "code",
   "execution_count": 246,
   "metadata": {
    "colab": {
     "base_uri": "https://localhost:8080/",
     "height": 34
    },
    "id": "4nTZ6TXqE1mq",
    "outputId": "3791ef03-7942-4ad0-95b3-57c1432ff9f0"
   },
   "outputs": [
    {
     "data": {
      "text/plain": [
       "(21201, 33)"
      ]
     },
     "execution_count": 246,
     "metadata": {
      "tags": []
     },
     "output_type": "execute_result"
    }
   ],
   "source": [
    "train_clean.shape"
   ]
  },
  {
   "cell_type": "code",
   "execution_count": 247,
   "metadata": {
    "id": "3rk6tlmVOqTK"
   },
   "outputs": [],
   "source": [
    "#Drop insignificant columns in both train and test datasets\n",
    "list_drop = [\"Order No\", \"User Id\", \"Vehicle Type\",\n",
    "              \"Precipitation in millimeters\", \"Rider Id\",\n",
    "              \"Vehicle Type\"]\n",
    "#Train\n",
    "train_clean = train_clean.drop(list_drop, axis=1)\n",
    "\n",
    "#Test\n",
    "test_clean = test_clean.drop(list_drop, axis=1)"
   ]
  },
  {
   "cell_type": "code",
   "execution_count": 248,
   "metadata": {
    "colab": {
     "base_uri": "https://localhost:8080/",
     "height": 34
    },
    "id": "W_ofKym3E4Hw",
    "outputId": "ea43864f-39a8-4dc5-8ac4-2740f9d16c74"
   },
   "outputs": [
    {
     "data": {
      "text/plain": [
       "(21201, 28)"
      ]
     },
     "execution_count": 248,
     "metadata": {
      "tags": []
     },
     "output_type": "execute_result"
    }
   ],
   "source": [
    "train_clean.shape"
   ]
  },
  {
   "cell_type": "code",
   "execution_count": 249,
   "metadata": {
    "colab": {
     "base_uri": "https://localhost:8080/",
     "height": 400
    },
    "id": "vNNP9Y8MNrGr",
    "outputId": "36bec317-414f-41aa-890d-dcd1e13c5853"
   },
   "outputs": [
    {
     "data": {
      "text/html": [
       "<div>\n",
       "<style scoped>\n",
       "    .dataframe tbody tr th:only-of-type {\n",
       "        vertical-align: middle;\n",
       "    }\n",
       "\n",
       "    .dataframe tbody tr th {\n",
       "        vertical-align: top;\n",
       "    }\n",
       "\n",
       "    .dataframe thead th {\n",
       "        text-align: right;\n",
       "    }\n",
       "</style>\n",
       "<table border=\"1\" class=\"dataframe\">\n",
       "  <thead>\n",
       "    <tr style=\"text-align: right;\">\n",
       "      <th></th>\n",
       "      <th>Platform Type</th>\n",
       "      <th>Personal or Business</th>\n",
       "      <th>Placement - Day of Month</th>\n",
       "      <th>Placement - Weekday (Mo = 1)</th>\n",
       "      <th>Placement - Time</th>\n",
       "      <th>Confirmation - Day of Month</th>\n",
       "      <th>Confirmation - Weekday (Mo = 1)</th>\n",
       "      <th>Confirmation - Time</th>\n",
       "      <th>Arrival at Pickup - Day of Month</th>\n",
       "      <th>Arrival at Pickup - Weekday (Mo = 1)</th>\n",
       "      <th>Arrival at Pickup - Time</th>\n",
       "      <th>Pickup - Day of Month</th>\n",
       "      <th>Pickup - Weekday (Mo = 1)</th>\n",
       "      <th>Pickup - Time</th>\n",
       "      <th>Distance (KM)</th>\n",
       "      <th>Temperature</th>\n",
       "      <th>Pickup Lat</th>\n",
       "      <th>Pickup Long</th>\n",
       "      <th>Destination Lat</th>\n",
       "      <th>Destination Long</th>\n",
       "      <th>No_Of_Orders</th>\n",
       "      <th>Age</th>\n",
       "      <th>Average_Rating</th>\n",
       "      <th>No_of_Ratings</th>\n",
       "    </tr>\n",
       "  </thead>\n",
       "  <tbody>\n",
       "    <tr>\n",
       "      <th>0</th>\n",
       "      <td>3</td>\n",
       "      <td>Business</td>\n",
       "      <td>27</td>\n",
       "      <td>3</td>\n",
       "      <td>4:44:10 PM</td>\n",
       "      <td>27</td>\n",
       "      <td>3</td>\n",
       "      <td>4:44:29 PM</td>\n",
       "      <td>27</td>\n",
       "      <td>3</td>\n",
       "      <td>4:53:04 PM</td>\n",
       "      <td>27</td>\n",
       "      <td>3</td>\n",
       "      <td>5:06:47 PM</td>\n",
       "      <td>8</td>\n",
       "      <td>23.24612</td>\n",
       "      <td>-1.333275</td>\n",
       "      <td>36.870815</td>\n",
       "      <td>-1.305249</td>\n",
       "      <td>36.822390</td>\n",
       "      <td>439</td>\n",
       "      <td>1511</td>\n",
       "      <td>13.3</td>\n",
       "      <td>171</td>\n",
       "    </tr>\n",
       "    <tr>\n",
       "      <th>1</th>\n",
       "      <td>3</td>\n",
       "      <td>Business</td>\n",
       "      <td>17</td>\n",
       "      <td>5</td>\n",
       "      <td>12:57:35 PM</td>\n",
       "      <td>17</td>\n",
       "      <td>5</td>\n",
       "      <td>12:59:17 PM</td>\n",
       "      <td>17</td>\n",
       "      <td>5</td>\n",
       "      <td>1:20:27 PM</td>\n",
       "      <td>17</td>\n",
       "      <td>5</td>\n",
       "      <td>1:25:37 PM</td>\n",
       "      <td>5</td>\n",
       "      <td>23.24612</td>\n",
       "      <td>-1.272639</td>\n",
       "      <td>36.794723</td>\n",
       "      <td>-1.277007</td>\n",
       "      <td>36.823907</td>\n",
       "      <td>488</td>\n",
       "      <td>273</td>\n",
       "      <td>14.4</td>\n",
       "      <td>45</td>\n",
       "    </tr>\n",
       "    <tr>\n",
       "      <th>2</th>\n",
       "      <td>3</td>\n",
       "      <td>Business</td>\n",
       "      <td>27</td>\n",
       "      <td>4</td>\n",
       "      <td>11:08:14 AM</td>\n",
       "      <td>27</td>\n",
       "      <td>4</td>\n",
       "      <td>11:25:05 AM</td>\n",
       "      <td>27</td>\n",
       "      <td>4</td>\n",
       "      <td>11:33:20 AM</td>\n",
       "      <td>27</td>\n",
       "      <td>4</td>\n",
       "      <td>11:57:54 AM</td>\n",
       "      <td>5</td>\n",
       "      <td>22.80000</td>\n",
       "      <td>-1.290894</td>\n",
       "      <td>36.822971</td>\n",
       "      <td>-1.276574</td>\n",
       "      <td>36.851365</td>\n",
       "      <td>833</td>\n",
       "      <td>460</td>\n",
       "      <td>13.1</td>\n",
       "      <td>67</td>\n",
       "    </tr>\n",
       "    <tr>\n",
       "      <th>3</th>\n",
       "      <td>3</td>\n",
       "      <td>Business</td>\n",
       "      <td>17</td>\n",
       "      <td>1</td>\n",
       "      <td>1:51:35 PM</td>\n",
       "      <td>17</td>\n",
       "      <td>1</td>\n",
       "      <td>1:53:27 PM</td>\n",
       "      <td>17</td>\n",
       "      <td>1</td>\n",
       "      <td>2:02:41 PM</td>\n",
       "      <td>17</td>\n",
       "      <td>1</td>\n",
       "      <td>2:16:52 PM</td>\n",
       "      <td>5</td>\n",
       "      <td>24.50000</td>\n",
       "      <td>-1.290503</td>\n",
       "      <td>36.809646</td>\n",
       "      <td>-1.303382</td>\n",
       "      <td>36.790658</td>\n",
       "      <td>487</td>\n",
       "      <td>560</td>\n",
       "      <td>13.7</td>\n",
       "      <td>44</td>\n",
       "    </tr>\n",
       "    <tr>\n",
       "      <th>4</th>\n",
       "      <td>3</td>\n",
       "      <td>Business</td>\n",
       "      <td>11</td>\n",
       "      <td>2</td>\n",
       "      <td>11:30:28 AM</td>\n",
       "      <td>11</td>\n",
       "      <td>2</td>\n",
       "      <td>11:34:45 AM</td>\n",
       "      <td>11</td>\n",
       "      <td>2</td>\n",
       "      <td>11:47:19 AM</td>\n",
       "      <td>11</td>\n",
       "      <td>2</td>\n",
       "      <td>11:56:04 AM</td>\n",
       "      <td>6</td>\n",
       "      <td>24.40000</td>\n",
       "      <td>-1.281081</td>\n",
       "      <td>36.814423</td>\n",
       "      <td>-1.266467</td>\n",
       "      <td>36.792161</td>\n",
       "      <td>4761</td>\n",
       "      <td>1120</td>\n",
       "      <td>14.1</td>\n",
       "      <td>1010</td>\n",
       "    </tr>\n",
       "  </tbody>\n",
       "</table>\n",
       "</div>"
      ],
      "text/plain": [
       "   Platform Type Personal or Business  ...  Average_Rating  No_of_Ratings\n",
       "0              3             Business  ...            13.3            171\n",
       "1              3             Business  ...            14.4             45\n",
       "2              3             Business  ...            13.1             67\n",
       "3              3             Business  ...            13.7             44\n",
       "4              3             Business  ...            14.1           1010\n",
       "\n",
       "[5 rows x 24 columns]"
      ]
     },
     "execution_count": 249,
     "metadata": {
      "tags": []
     },
     "output_type": "execute_result"
    }
   ],
   "source": [
    "test_clean.head()"
   ]
  },
  {
   "cell_type": "code",
   "execution_count": 250,
   "metadata": {
    "colab": {
     "base_uri": "https://localhost:8080/",
     "height": 400
    },
    "id": "U977M6_POqQa",
    "outputId": "8d827a8e-773f-4d87-934c-24ca917e2a50"
   },
   "outputs": [
    {
     "data": {
      "text/html": [
       "<div>\n",
       "<style scoped>\n",
       "    .dataframe tbody tr th:only-of-type {\n",
       "        vertical-align: middle;\n",
       "    }\n",
       "\n",
       "    .dataframe tbody tr th {\n",
       "        vertical-align: top;\n",
       "    }\n",
       "\n",
       "    .dataframe thead th {\n",
       "        text-align: right;\n",
       "    }\n",
       "</style>\n",
       "<table border=\"1\" class=\"dataframe\">\n",
       "  <thead>\n",
       "    <tr style=\"text-align: right;\">\n",
       "      <th></th>\n",
       "      <th>Platform Type</th>\n",
       "      <th>Personal or Business</th>\n",
       "      <th>Placement - Day of Month</th>\n",
       "      <th>Placement - Weekday (Mo = 1)</th>\n",
       "      <th>Placement - Time</th>\n",
       "      <th>Confirmation - Day of Month</th>\n",
       "      <th>Confirmation - Weekday (Mo = 1)</th>\n",
       "      <th>Confirmation - Time</th>\n",
       "      <th>Arrival at Pickup - Day of Month</th>\n",
       "      <th>Arrival at Pickup - Weekday (Mo = 1)</th>\n",
       "      <th>Arrival at Pickup - Time</th>\n",
       "      <th>Pickup - Day of Month</th>\n",
       "      <th>Pickup - Weekday (Mo = 1)</th>\n",
       "      <th>Pickup - Time</th>\n",
       "      <th>Arrival at Destination - Day of Month</th>\n",
       "      <th>Arrival at Destination - Weekday (Mo = 1)</th>\n",
       "      <th>Arrival at Destination - Time</th>\n",
       "      <th>Distance (KM)</th>\n",
       "      <th>Temperature</th>\n",
       "      <th>Pickup Lat</th>\n",
       "      <th>Pickup Long</th>\n",
       "      <th>Destination Lat</th>\n",
       "      <th>Destination Long</th>\n",
       "      <th>Time from Pickup to Arrival</th>\n",
       "      <th>No_Of_Orders</th>\n",
       "      <th>Age</th>\n",
       "      <th>Average_Rating</th>\n",
       "      <th>No_of_Ratings</th>\n",
       "    </tr>\n",
       "  </thead>\n",
       "  <tbody>\n",
       "    <tr>\n",
       "      <th>0</th>\n",
       "      <td>3</td>\n",
       "      <td>Business</td>\n",
       "      <td>9</td>\n",
       "      <td>5</td>\n",
       "      <td>9:35:46 AM</td>\n",
       "      <td>9</td>\n",
       "      <td>5</td>\n",
       "      <td>9:40:10 AM</td>\n",
       "      <td>9</td>\n",
       "      <td>5</td>\n",
       "      <td>10:04:47 AM</td>\n",
       "      <td>9</td>\n",
       "      <td>5</td>\n",
       "      <td>10:27:30 AM</td>\n",
       "      <td>9</td>\n",
       "      <td>5</td>\n",
       "      <td>10:39:55 AM</td>\n",
       "      <td>4</td>\n",
       "      <td>20.400000</td>\n",
       "      <td>-1.317755</td>\n",
       "      <td>36.830370</td>\n",
       "      <td>-1.300406</td>\n",
       "      <td>36.829741</td>\n",
       "      <td>745</td>\n",
       "      <td>1637</td>\n",
       "      <td>1309</td>\n",
       "      <td>13.8</td>\n",
       "      <td>549</td>\n",
       "    </tr>\n",
       "    <tr>\n",
       "      <th>1</th>\n",
       "      <td>3</td>\n",
       "      <td>Personal</td>\n",
       "      <td>12</td>\n",
       "      <td>5</td>\n",
       "      <td>11:16:16 AM</td>\n",
       "      <td>12</td>\n",
       "      <td>5</td>\n",
       "      <td>11:23:21 AM</td>\n",
       "      <td>12</td>\n",
       "      <td>5</td>\n",
       "      <td>11:40:22 AM</td>\n",
       "      <td>12</td>\n",
       "      <td>5</td>\n",
       "      <td>11:44:09 AM</td>\n",
       "      <td>12</td>\n",
       "      <td>5</td>\n",
       "      <td>12:17:22 PM</td>\n",
       "      <td>16</td>\n",
       "      <td>26.400000</td>\n",
       "      <td>-1.351453</td>\n",
       "      <td>36.899315</td>\n",
       "      <td>-1.295004</td>\n",
       "      <td>36.814358</td>\n",
       "      <td>1993</td>\n",
       "      <td>396</td>\n",
       "      <td>339</td>\n",
       "      <td>13.6</td>\n",
       "      <td>69</td>\n",
       "    </tr>\n",
       "    <tr>\n",
       "      <th>2</th>\n",
       "      <td>3</td>\n",
       "      <td>Business</td>\n",
       "      <td>30</td>\n",
       "      <td>2</td>\n",
       "      <td>12:39:25 PM</td>\n",
       "      <td>30</td>\n",
       "      <td>2</td>\n",
       "      <td>12:42:44 PM</td>\n",
       "      <td>30</td>\n",
       "      <td>2</td>\n",
       "      <td>12:49:34 PM</td>\n",
       "      <td>30</td>\n",
       "      <td>2</td>\n",
       "      <td>12:53:03 PM</td>\n",
       "      <td>30</td>\n",
       "      <td>2</td>\n",
       "      <td>1:00:38 PM</td>\n",
       "      <td>3</td>\n",
       "      <td>23.258889</td>\n",
       "      <td>-1.308284</td>\n",
       "      <td>36.843419</td>\n",
       "      <td>-1.300921</td>\n",
       "      <td>36.828195</td>\n",
       "      <td>455</td>\n",
       "      <td>1023</td>\n",
       "      <td>242</td>\n",
       "      <td>12.5</td>\n",
       "      <td>114</td>\n",
       "    </tr>\n",
       "    <tr>\n",
       "      <th>3</th>\n",
       "      <td>3</td>\n",
       "      <td>Business</td>\n",
       "      <td>15</td>\n",
       "      <td>5</td>\n",
       "      <td>9:25:34 AM</td>\n",
       "      <td>15</td>\n",
       "      <td>5</td>\n",
       "      <td>9:26:05 AM</td>\n",
       "      <td>15</td>\n",
       "      <td>5</td>\n",
       "      <td>9:37:56 AM</td>\n",
       "      <td>15</td>\n",
       "      <td>5</td>\n",
       "      <td>9:43:06 AM</td>\n",
       "      <td>15</td>\n",
       "      <td>5</td>\n",
       "      <td>10:05:27 AM</td>\n",
       "      <td>9</td>\n",
       "      <td>19.200000</td>\n",
       "      <td>-1.281301</td>\n",
       "      <td>36.832396</td>\n",
       "      <td>-1.257147</td>\n",
       "      <td>36.795063</td>\n",
       "      <td>1341</td>\n",
       "      <td>886</td>\n",
       "      <td>283</td>\n",
       "      <td>14.5</td>\n",
       "      <td>113</td>\n",
       "    </tr>\n",
       "    <tr>\n",
       "      <th>4</th>\n",
       "      <td>1</td>\n",
       "      <td>Personal</td>\n",
       "      <td>13</td>\n",
       "      <td>1</td>\n",
       "      <td>9:55:18 AM</td>\n",
       "      <td>13</td>\n",
       "      <td>1</td>\n",
       "      <td>9:56:18 AM</td>\n",
       "      <td>13</td>\n",
       "      <td>1</td>\n",
       "      <td>10:03:53 AM</td>\n",
       "      <td>13</td>\n",
       "      <td>1</td>\n",
       "      <td>10:05:23 AM</td>\n",
       "      <td>13</td>\n",
       "      <td>1</td>\n",
       "      <td>10:25:37 AM</td>\n",
       "      <td>9</td>\n",
       "      <td>15.400000</td>\n",
       "      <td>-1.266597</td>\n",
       "      <td>36.792118</td>\n",
       "      <td>-1.295041</td>\n",
       "      <td>36.809817</td>\n",
       "      <td>1214</td>\n",
       "      <td>2311</td>\n",
       "      <td>872</td>\n",
       "      <td>14.1</td>\n",
       "      <td>533</td>\n",
       "    </tr>\n",
       "  </tbody>\n",
       "</table>\n",
       "</div>"
      ],
      "text/plain": [
       "   Platform Type Personal or Business  ...  Average_Rating  No_of_Ratings\n",
       "0              3             Business  ...            13.8            549\n",
       "1              3             Personal  ...            13.6             69\n",
       "2              3             Business  ...            12.5            114\n",
       "3              3             Business  ...            14.5            113\n",
       "4              1             Personal  ...            14.1            533\n",
       "\n",
       "[5 rows x 28 columns]"
      ]
     },
     "execution_count": 250,
     "metadata": {
      "tags": []
     },
     "output_type": "execute_result"
    }
   ],
   "source": [
    "train_clean.head()"
   ]
  },
  {
   "cell_type": "code",
   "execution_count": 251,
   "metadata": {
    "id": "twm5eNhUOqOP"
   },
   "outputs": [],
   "source": [
    "# Convert time from object to datetime datatype\n",
    "\n",
    "#Train\n",
    "train_clean[\"Placement - Time\"] = pd.to_datetime(train_clean[\"Placement - Time\"])\n",
    "train_clean[\"Confirmation - Time\"] = pd.to_datetime(train_clean[\"Confirmation - Time\"])\n",
    "train_clean[\"Pickup - Time\"] = pd.to_datetime(train_clean[\"Pickup - Time\"])\n",
    "train_clean[\"Arrival at Destination - Time\"] = pd.to_datetime(train_clean[\"Arrival at Destination - Time\"])\n",
    "train_clean[\"Arrival at Pickup - Time\"] = pd.to_datetime(train_clean[\"Arrival at Pickup - Time\"])\n",
    "\n",
    "#Test\n",
    "test_clean[\"Placement - Time\"] = pd.to_datetime(test_clean[\"Placement - Time\"])\n",
    "test_clean[\"Confirmation - Time\"] = pd.to_datetime(test_clean[\"Confirmation - Time\"])\n",
    "test_clean[\"Pickup - Time\"] = pd.to_datetime(test_clean[\"Pickup - Time\"])\n",
    "#test_clean[\"Arrival at Destination - Time\"] = pd.to_datetime(test_clean[\"Arrival at Destination - Time\"]) -> not in test data\n",
    "test_clean[\"Arrival at Pickup - Time\"] = pd.to_datetime(test_clean[\"Arrival at Pickup - Time\"])"
   ]
  },
  {
   "cell_type": "code",
   "execution_count": 252,
   "metadata": {
    "colab": {
     "base_uri": "https://localhost:8080/",
     "height": 34
    },
    "id": "BWANu9IoE_u2",
    "outputId": "abadf7b3-feb6-4a6b-a1f7-fff4306ae287"
   },
   "outputs": [
    {
     "data": {
      "text/plain": [
       "(21201, 28)"
      ]
     },
     "execution_count": 252,
     "metadata": {
      "tags": []
     },
     "output_type": "execute_result"
    }
   ],
   "source": [
    "train_clean.shape"
   ]
  },
  {
   "cell_type": "code",
   "execution_count": 253,
   "metadata": {
    "colab": {
     "base_uri": "https://localhost:8080/",
     "height": 504
    },
    "id": "7iBNr2dSRKBE",
    "outputId": "a3b1d525-9157-4cd5-d5be-3d7942c490c1"
   },
   "outputs": [
    {
     "data": {
      "text/plain": [
       "Platform Type                                0\n",
       "Personal or Business                         0\n",
       "Placement - Day of Month                     0\n",
       "Placement - Weekday (Mo = 1)                 0\n",
       "Placement - Time                             0\n",
       "Confirmation - Day of Month                  0\n",
       "Confirmation - Weekday (Mo = 1)              0\n",
       "Confirmation - Time                          0\n",
       "Arrival at Pickup - Day of Month             0\n",
       "Arrival at Pickup - Weekday (Mo = 1)         0\n",
       "Arrival at Pickup - Time                     0\n",
       "Pickup - Day of Month                        0\n",
       "Pickup - Weekday (Mo = 1)                    0\n",
       "Pickup - Time                                0\n",
       "Arrival at Destination - Day of Month        0\n",
       "Arrival at Destination - Weekday (Mo = 1)    0\n",
       "Arrival at Destination - Time                0\n",
       "Distance (KM)                                0\n",
       "Temperature                                  0\n",
       "Pickup Lat                                   0\n",
       "Pickup Long                                  0\n",
       "Destination Lat                              0\n",
       "Destination Long                             0\n",
       "Time from Pickup to Arrival                  0\n",
       "No_Of_Orders                                 0\n",
       "Age                                          0\n",
       "Average_Rating                               0\n",
       "No_of_Ratings                                0\n",
       "dtype: int64"
      ]
     },
     "execution_count": 253,
     "metadata": {
      "tags": []
     },
     "output_type": "execute_result"
    }
   ],
   "source": [
    "train_clean.isnull().sum()"
   ]
  },
  {
   "cell_type": "code",
   "execution_count": 254,
   "metadata": {
    "colab": {
     "base_uri": "https://localhost:8080/",
     "height": 34
    },
    "id": "_8KiGC8JEA4V",
    "outputId": "a6a065ab-8037-45c9-a5bc-8a6554fee9c1"
   },
   "outputs": [
    {
     "data": {
      "text/plain": [
       "(21201, 28)"
      ]
     },
     "execution_count": 254,
     "metadata": {
      "tags": []
     },
     "output_type": "execute_result"
    }
   ],
   "source": [
    "train_clean.shape"
   ]
  },
  {
   "cell_type": "code",
   "execution_count": 255,
   "metadata": {
    "colab": {
     "base_uri": "https://localhost:8080/",
     "height": 504
    },
    "id": "ZBRD01OJUcsO",
    "outputId": "722ac60d-c4d6-43f5-c356-f18ec6f5cd6a"
   },
   "outputs": [
    {
     "data": {
      "text/plain": [
       "Platform Type                                0\n",
       "Personal or Business                         0\n",
       "Placement - Day of Month                     0\n",
       "Placement - Weekday (Mo = 1)                 0\n",
       "Placement - Time                             0\n",
       "Confirmation - Day of Month                  0\n",
       "Confirmation - Weekday (Mo = 1)              0\n",
       "Confirmation - Time                          0\n",
       "Arrival at Pickup - Day of Month             0\n",
       "Arrival at Pickup - Weekday (Mo = 1)         0\n",
       "Arrival at Pickup - Time                     0\n",
       "Pickup - Day of Month                        0\n",
       "Pickup - Weekday (Mo = 1)                    0\n",
       "Pickup - Time                                0\n",
       "Arrival at Destination - Day of Month        0\n",
       "Arrival at Destination - Weekday (Mo = 1)    0\n",
       "Arrival at Destination - Time                0\n",
       "Distance (KM)                                0\n",
       "Temperature                                  0\n",
       "Pickup Lat                                   0\n",
       "Pickup Long                                  0\n",
       "Destination Lat                              0\n",
       "Destination Long                             0\n",
       "Time from Pickup to Arrival                  0\n",
       "No_Of_Orders                                 0\n",
       "Age                                          0\n",
       "Average_Rating                               0\n",
       "No_of_Ratings                                0\n",
       "dtype: int64"
      ]
     },
     "execution_count": 255,
     "metadata": {
      "tags": []
     },
     "output_type": "execute_result"
    }
   ],
   "source": [
    "train_clean.isnull().sum()"
   ]
  },
  {
   "cell_type": "code",
   "execution_count": 256,
   "metadata": {
    "id": "vU5aRRkLOqBe"
   },
   "outputs": [],
   "source": [
    "# Convert time from datetime to int64 datatype\n",
    "\n",
    "#Train\n",
    "train_clean[\"Placement - Time\"] = train_clean[\"Placement - Time\"].astype('int64')\n",
    "train_clean[\"Confirmation - Time\"] = train_clean[\"Confirmation - Time\"].astype('int64')\n",
    "train_clean[\"Pickup - Time\"] = train_clean[\"Pickup - Time\"].astype('int64')\n",
    "train_clean[\"Arrival at Destination - Time\"] = train_clean[\"Arrival at Destination - Time\"].astype('int64')\n",
    "train_clean[\"Arrival at Pickup - Time\"] = train_clean[\"Arrival at Pickup - Time\"].astype('int64')\n",
    "\n",
    "#Test\n",
    "test_clean[\"Placement - Time\"] = test_clean[\"Placement - Time\"].astype('int64')\n",
    "test_clean[\"Confirmation - Time\"] = test_clean[\"Confirmation - Time\"].astype('int64')\n",
    "test_clean[\"Pickup - Time\"] = test_clean[\"Pickup - Time\"].astype('int64')\n",
    "#test_clean[\"Arrival at Destination - Time\"] = test_clean[\"Arrival at Destination - Time\"].astype('int64')\n",
    "test_clean[\"Arrival at Pickup - Time\"] = test_clean[\"Arrival at Pickup - Time\"].astype('int64')"
   ]
  },
  {
   "cell_type": "code",
   "execution_count": 257,
   "metadata": {
    "colab": {
     "base_uri": "https://localhost:8080/",
     "height": 34
    },
    "id": "iE-XL-ZyFbbZ",
    "outputId": "abc15618-271f-495a-870e-ee4f69ef228c"
   },
   "outputs": [
    {
     "data": {
      "text/plain": [
       "(21201, 28)"
      ]
     },
     "execution_count": 257,
     "metadata": {
      "tags": []
     },
     "output_type": "execute_result"
    }
   ],
   "source": [
    "train_clean.shape"
   ]
  },
  {
   "cell_type": "code",
   "execution_count": 258,
   "metadata": {
    "colab": {
     "base_uri": "https://localhost:8080/",
     "height": 316
    },
    "id": "Z0ad12psOp-u",
    "outputId": "b3d2ce32-4d0e-4a76-c232-81a3d293145e"
   },
   "outputs": [
    {
     "data": {
      "text/html": [
       "<div>\n",
       "<style scoped>\n",
       "    .dataframe tbody tr th:only-of-type {\n",
       "        vertical-align: middle;\n",
       "    }\n",
       "\n",
       "    .dataframe tbody tr th {\n",
       "        vertical-align: top;\n",
       "    }\n",
       "\n",
       "    .dataframe thead th {\n",
       "        text-align: right;\n",
       "    }\n",
       "</style>\n",
       "<table border=\"1\" class=\"dataframe\">\n",
       "  <thead>\n",
       "    <tr style=\"text-align: right;\">\n",
       "      <th></th>\n",
       "      <th>Platform Type</th>\n",
       "      <th>Personal or Business</th>\n",
       "      <th>Placement - Day of Month</th>\n",
       "      <th>Placement - Weekday (Mo = 1)</th>\n",
       "      <th>Placement - Time</th>\n",
       "      <th>Confirmation - Day of Month</th>\n",
       "      <th>Confirmation - Weekday (Mo = 1)</th>\n",
       "      <th>Confirmation - Time</th>\n",
       "      <th>Arrival at Pickup - Day of Month</th>\n",
       "      <th>Arrival at Pickup - Weekday (Mo = 1)</th>\n",
       "      <th>Arrival at Pickup - Time</th>\n",
       "      <th>Pickup - Day of Month</th>\n",
       "      <th>Pickup - Weekday (Mo = 1)</th>\n",
       "      <th>Pickup - Time</th>\n",
       "      <th>Distance (KM)</th>\n",
       "      <th>Temperature</th>\n",
       "      <th>Pickup Lat</th>\n",
       "      <th>Pickup Long</th>\n",
       "      <th>Destination Lat</th>\n",
       "      <th>Destination Long</th>\n",
       "      <th>No_Of_Orders</th>\n",
       "      <th>Age</th>\n",
       "      <th>Average_Rating</th>\n",
       "      <th>No_of_Ratings</th>\n",
       "    </tr>\n",
       "  </thead>\n",
       "  <tbody>\n",
       "    <tr>\n",
       "      <th>0</th>\n",
       "      <td>3</td>\n",
       "      <td>Business</td>\n",
       "      <td>27</td>\n",
       "      <td>3</td>\n",
       "      <td>1602866650000000000</td>\n",
       "      <td>27</td>\n",
       "      <td>3</td>\n",
       "      <td>1602866669000000000</td>\n",
       "      <td>27</td>\n",
       "      <td>3</td>\n",
       "      <td>1602867184000000000</td>\n",
       "      <td>27</td>\n",
       "      <td>3</td>\n",
       "      <td>1602868007000000000</td>\n",
       "      <td>8</td>\n",
       "      <td>23.24612</td>\n",
       "      <td>-1.333275</td>\n",
       "      <td>36.870815</td>\n",
       "      <td>-1.305249</td>\n",
       "      <td>36.822390</td>\n",
       "      <td>439</td>\n",
       "      <td>1511</td>\n",
       "      <td>13.3</td>\n",
       "      <td>171</td>\n",
       "    </tr>\n",
       "    <tr>\n",
       "      <th>1</th>\n",
       "      <td>3</td>\n",
       "      <td>Business</td>\n",
       "      <td>17</td>\n",
       "      <td>5</td>\n",
       "      <td>1602853055000000000</td>\n",
       "      <td>17</td>\n",
       "      <td>5</td>\n",
       "      <td>1602853157000000000</td>\n",
       "      <td>17</td>\n",
       "      <td>5</td>\n",
       "      <td>1602854427000000000</td>\n",
       "      <td>17</td>\n",
       "      <td>5</td>\n",
       "      <td>1602854737000000000</td>\n",
       "      <td>5</td>\n",
       "      <td>23.24612</td>\n",
       "      <td>-1.272639</td>\n",
       "      <td>36.794723</td>\n",
       "      <td>-1.277007</td>\n",
       "      <td>36.823907</td>\n",
       "      <td>488</td>\n",
       "      <td>273</td>\n",
       "      <td>14.4</td>\n",
       "      <td>45</td>\n",
       "    </tr>\n",
       "    <tr>\n",
       "      <th>2</th>\n",
       "      <td>3</td>\n",
       "      <td>Business</td>\n",
       "      <td>27</td>\n",
       "      <td>4</td>\n",
       "      <td>1602846494000000000</td>\n",
       "      <td>27</td>\n",
       "      <td>4</td>\n",
       "      <td>1602847505000000000</td>\n",
       "      <td>27</td>\n",
       "      <td>4</td>\n",
       "      <td>1602848000000000000</td>\n",
       "      <td>27</td>\n",
       "      <td>4</td>\n",
       "      <td>1602849474000000000</td>\n",
       "      <td>5</td>\n",
       "      <td>22.80000</td>\n",
       "      <td>-1.290894</td>\n",
       "      <td>36.822971</td>\n",
       "      <td>-1.276574</td>\n",
       "      <td>36.851365</td>\n",
       "      <td>833</td>\n",
       "      <td>460</td>\n",
       "      <td>13.1</td>\n",
       "      <td>67</td>\n",
       "    </tr>\n",
       "    <tr>\n",
       "      <th>3</th>\n",
       "      <td>3</td>\n",
       "      <td>Business</td>\n",
       "      <td>17</td>\n",
       "      <td>1</td>\n",
       "      <td>1602856295000000000</td>\n",
       "      <td>17</td>\n",
       "      <td>1</td>\n",
       "      <td>1602856407000000000</td>\n",
       "      <td>17</td>\n",
       "      <td>1</td>\n",
       "      <td>1602856961000000000</td>\n",
       "      <td>17</td>\n",
       "      <td>1</td>\n",
       "      <td>1602857812000000000</td>\n",
       "      <td>5</td>\n",
       "      <td>24.50000</td>\n",
       "      <td>-1.290503</td>\n",
       "      <td>36.809646</td>\n",
       "      <td>-1.303382</td>\n",
       "      <td>36.790658</td>\n",
       "      <td>487</td>\n",
       "      <td>560</td>\n",
       "      <td>13.7</td>\n",
       "      <td>44</td>\n",
       "    </tr>\n",
       "    <tr>\n",
       "      <th>4</th>\n",
       "      <td>3</td>\n",
       "      <td>Business</td>\n",
       "      <td>11</td>\n",
       "      <td>2</td>\n",
       "      <td>1602847828000000000</td>\n",
       "      <td>11</td>\n",
       "      <td>2</td>\n",
       "      <td>1602848085000000000</td>\n",
       "      <td>11</td>\n",
       "      <td>2</td>\n",
       "      <td>1602848839000000000</td>\n",
       "      <td>11</td>\n",
       "      <td>2</td>\n",
       "      <td>1602849364000000000</td>\n",
       "      <td>6</td>\n",
       "      <td>24.40000</td>\n",
       "      <td>-1.281081</td>\n",
       "      <td>36.814423</td>\n",
       "      <td>-1.266467</td>\n",
       "      <td>36.792161</td>\n",
       "      <td>4761</td>\n",
       "      <td>1120</td>\n",
       "      <td>14.1</td>\n",
       "      <td>1010</td>\n",
       "    </tr>\n",
       "  </tbody>\n",
       "</table>\n",
       "</div>"
      ],
      "text/plain": [
       "   Platform Type Personal or Business  ...  Average_Rating  No_of_Ratings\n",
       "0              3             Business  ...            13.3            171\n",
       "1              3             Business  ...            14.4             45\n",
       "2              3             Business  ...            13.1             67\n",
       "3              3             Business  ...            13.7             44\n",
       "4              3             Business  ...            14.1           1010\n",
       "\n",
       "[5 rows x 24 columns]"
      ]
     },
     "execution_count": 258,
     "metadata": {
      "tags": []
     },
     "output_type": "execute_result"
    }
   ],
   "source": [
    "test_clean.head()"
   ]
  },
  {
   "cell_type": "code",
   "execution_count": 259,
   "metadata": {
    "colab": {
     "base_uri": "https://localhost:8080/",
     "height": 316
    },
    "id": "sSPeE291Op8b",
    "outputId": "aa9f1cd4-9819-48be-870e-716cb99a8355"
   },
   "outputs": [
    {
     "data": {
      "text/html": [
       "<div>\n",
       "<style scoped>\n",
       "    .dataframe tbody tr th:only-of-type {\n",
       "        vertical-align: middle;\n",
       "    }\n",
       "\n",
       "    .dataframe tbody tr th {\n",
       "        vertical-align: top;\n",
       "    }\n",
       "\n",
       "    .dataframe thead th {\n",
       "        text-align: right;\n",
       "    }\n",
       "</style>\n",
       "<table border=\"1\" class=\"dataframe\">\n",
       "  <thead>\n",
       "    <tr style=\"text-align: right;\">\n",
       "      <th></th>\n",
       "      <th>Platform Type</th>\n",
       "      <th>Personal or Business</th>\n",
       "      <th>Placement - Day of Month</th>\n",
       "      <th>Placement - Weekday (Mo = 1)</th>\n",
       "      <th>Placement - Time</th>\n",
       "      <th>Confirmation - Day of Month</th>\n",
       "      <th>Confirmation - Weekday (Mo = 1)</th>\n",
       "      <th>Confirmation - Time</th>\n",
       "      <th>Arrival at Pickup - Day of Month</th>\n",
       "      <th>Arrival at Pickup - Weekday (Mo = 1)</th>\n",
       "      <th>Arrival at Pickup - Time</th>\n",
       "      <th>Pickup - Day of Month</th>\n",
       "      <th>Pickup - Weekday (Mo = 1)</th>\n",
       "      <th>Pickup - Time</th>\n",
       "      <th>Distance (KM)</th>\n",
       "      <th>Temperature</th>\n",
       "      <th>Pickup Lat</th>\n",
       "      <th>Pickup Long</th>\n",
       "      <th>Destination Lat</th>\n",
       "      <th>Destination Long</th>\n",
       "      <th>No_Of_Orders</th>\n",
       "      <th>Age</th>\n",
       "      <th>Average_Rating</th>\n",
       "      <th>No_of_Ratings</th>\n",
       "    </tr>\n",
       "  </thead>\n",
       "  <tbody>\n",
       "    <tr>\n",
       "      <th>0</th>\n",
       "      <td>3</td>\n",
       "      <td>Business</td>\n",
       "      <td>27</td>\n",
       "      <td>3</td>\n",
       "      <td>1602866650000000000</td>\n",
       "      <td>27</td>\n",
       "      <td>3</td>\n",
       "      <td>1602866669000000000</td>\n",
       "      <td>27</td>\n",
       "      <td>3</td>\n",
       "      <td>1602867184000000000</td>\n",
       "      <td>27</td>\n",
       "      <td>3</td>\n",
       "      <td>1602868007000000000</td>\n",
       "      <td>8</td>\n",
       "      <td>23.24612</td>\n",
       "      <td>-1.333275</td>\n",
       "      <td>36.870815</td>\n",
       "      <td>-1.305249</td>\n",
       "      <td>36.822390</td>\n",
       "      <td>439</td>\n",
       "      <td>1511</td>\n",
       "      <td>13.3</td>\n",
       "      <td>171</td>\n",
       "    </tr>\n",
       "    <tr>\n",
       "      <th>1</th>\n",
       "      <td>3</td>\n",
       "      <td>Business</td>\n",
       "      <td>17</td>\n",
       "      <td>5</td>\n",
       "      <td>1602853055000000000</td>\n",
       "      <td>17</td>\n",
       "      <td>5</td>\n",
       "      <td>1602853157000000000</td>\n",
       "      <td>17</td>\n",
       "      <td>5</td>\n",
       "      <td>1602854427000000000</td>\n",
       "      <td>17</td>\n",
       "      <td>5</td>\n",
       "      <td>1602854737000000000</td>\n",
       "      <td>5</td>\n",
       "      <td>23.24612</td>\n",
       "      <td>-1.272639</td>\n",
       "      <td>36.794723</td>\n",
       "      <td>-1.277007</td>\n",
       "      <td>36.823907</td>\n",
       "      <td>488</td>\n",
       "      <td>273</td>\n",
       "      <td>14.4</td>\n",
       "      <td>45</td>\n",
       "    </tr>\n",
       "    <tr>\n",
       "      <th>2</th>\n",
       "      <td>3</td>\n",
       "      <td>Business</td>\n",
       "      <td>27</td>\n",
       "      <td>4</td>\n",
       "      <td>1602846494000000000</td>\n",
       "      <td>27</td>\n",
       "      <td>4</td>\n",
       "      <td>1602847505000000000</td>\n",
       "      <td>27</td>\n",
       "      <td>4</td>\n",
       "      <td>1602848000000000000</td>\n",
       "      <td>27</td>\n",
       "      <td>4</td>\n",
       "      <td>1602849474000000000</td>\n",
       "      <td>5</td>\n",
       "      <td>22.80000</td>\n",
       "      <td>-1.290894</td>\n",
       "      <td>36.822971</td>\n",
       "      <td>-1.276574</td>\n",
       "      <td>36.851365</td>\n",
       "      <td>833</td>\n",
       "      <td>460</td>\n",
       "      <td>13.1</td>\n",
       "      <td>67</td>\n",
       "    </tr>\n",
       "    <tr>\n",
       "      <th>3</th>\n",
       "      <td>3</td>\n",
       "      <td>Business</td>\n",
       "      <td>17</td>\n",
       "      <td>1</td>\n",
       "      <td>1602856295000000000</td>\n",
       "      <td>17</td>\n",
       "      <td>1</td>\n",
       "      <td>1602856407000000000</td>\n",
       "      <td>17</td>\n",
       "      <td>1</td>\n",
       "      <td>1602856961000000000</td>\n",
       "      <td>17</td>\n",
       "      <td>1</td>\n",
       "      <td>1602857812000000000</td>\n",
       "      <td>5</td>\n",
       "      <td>24.50000</td>\n",
       "      <td>-1.290503</td>\n",
       "      <td>36.809646</td>\n",
       "      <td>-1.303382</td>\n",
       "      <td>36.790658</td>\n",
       "      <td>487</td>\n",
       "      <td>560</td>\n",
       "      <td>13.7</td>\n",
       "      <td>44</td>\n",
       "    </tr>\n",
       "    <tr>\n",
       "      <th>4</th>\n",
       "      <td>3</td>\n",
       "      <td>Business</td>\n",
       "      <td>11</td>\n",
       "      <td>2</td>\n",
       "      <td>1602847828000000000</td>\n",
       "      <td>11</td>\n",
       "      <td>2</td>\n",
       "      <td>1602848085000000000</td>\n",
       "      <td>11</td>\n",
       "      <td>2</td>\n",
       "      <td>1602848839000000000</td>\n",
       "      <td>11</td>\n",
       "      <td>2</td>\n",
       "      <td>1602849364000000000</td>\n",
       "      <td>6</td>\n",
       "      <td>24.40000</td>\n",
       "      <td>-1.281081</td>\n",
       "      <td>36.814423</td>\n",
       "      <td>-1.266467</td>\n",
       "      <td>36.792161</td>\n",
       "      <td>4761</td>\n",
       "      <td>1120</td>\n",
       "      <td>14.1</td>\n",
       "      <td>1010</td>\n",
       "    </tr>\n",
       "  </tbody>\n",
       "</table>\n",
       "</div>"
      ],
      "text/plain": [
       "   Platform Type Personal or Business  ...  Average_Rating  No_of_Ratings\n",
       "0              3             Business  ...            13.3            171\n",
       "1              3             Business  ...            14.4             45\n",
       "2              3             Business  ...            13.1             67\n",
       "3              3             Business  ...            13.7             44\n",
       "4              3             Business  ...            14.1           1010\n",
       "\n",
       "[5 rows x 24 columns]"
      ]
     },
     "execution_count": 259,
     "metadata": {
      "tags": []
     },
     "output_type": "execute_result"
    }
   ],
   "source": [
    "test_clean.head()"
   ]
  },
  {
   "cell_type": "code",
   "execution_count": 260,
   "metadata": {
    "id": "AskLP8YrGpNk"
   },
   "outputs": [],
   "source": [
    "#\n",
    "\n",
    "dummy_train = train_clean.copy()\n",
    "dummy_test = test_clean.copy()\n",
    "\n",
    "train_clean = pd.get_dummies(dummy_train, columns=[\"Personal or Business\"], drop_first= True)\n",
    "test_clean = pd.get_dummies(dummy_test, columns=[\"Personal or Business\"], drop_first= True)"
   ]
  },
  {
   "cell_type": "code",
   "execution_count": 261,
   "metadata": {
    "colab": {
     "base_uri": "https://localhost:8080/",
     "height": 316
    },
    "id": "vIl9ooE-GxSk",
    "outputId": "0a07cbff-95e1-4622-a670-e43e82ec6226"
   },
   "outputs": [
    {
     "data": {
      "text/html": [
       "<div>\n",
       "<style scoped>\n",
       "    .dataframe tbody tr th:only-of-type {\n",
       "        vertical-align: middle;\n",
       "    }\n",
       "\n",
       "    .dataframe tbody tr th {\n",
       "        vertical-align: top;\n",
       "    }\n",
       "\n",
       "    .dataframe thead th {\n",
       "        text-align: right;\n",
       "    }\n",
       "</style>\n",
       "<table border=\"1\" class=\"dataframe\">\n",
       "  <thead>\n",
       "    <tr style=\"text-align: right;\">\n",
       "      <th></th>\n",
       "      <th>Platform Type</th>\n",
       "      <th>Placement - Day of Month</th>\n",
       "      <th>Placement - Weekday (Mo = 1)</th>\n",
       "      <th>Placement - Time</th>\n",
       "      <th>Confirmation - Day of Month</th>\n",
       "      <th>Confirmation - Weekday (Mo = 1)</th>\n",
       "      <th>Confirmation - Time</th>\n",
       "      <th>Arrival at Pickup - Day of Month</th>\n",
       "      <th>Arrival at Pickup - Weekday (Mo = 1)</th>\n",
       "      <th>Arrival at Pickup - Time</th>\n",
       "      <th>Pickup - Day of Month</th>\n",
       "      <th>Pickup - Weekday (Mo = 1)</th>\n",
       "      <th>Pickup - Time</th>\n",
       "      <th>Arrival at Destination - Day of Month</th>\n",
       "      <th>Arrival at Destination - Weekday (Mo = 1)</th>\n",
       "      <th>Arrival at Destination - Time</th>\n",
       "      <th>Distance (KM)</th>\n",
       "      <th>Temperature</th>\n",
       "      <th>Pickup Lat</th>\n",
       "      <th>Pickup Long</th>\n",
       "      <th>Destination Lat</th>\n",
       "      <th>Destination Long</th>\n",
       "      <th>Time from Pickup to Arrival</th>\n",
       "      <th>No_Of_Orders</th>\n",
       "      <th>Age</th>\n",
       "      <th>Average_Rating</th>\n",
       "      <th>No_of_Ratings</th>\n",
       "      <th>Personal or Business_Personal</th>\n",
       "    </tr>\n",
       "  </thead>\n",
       "  <tbody>\n",
       "    <tr>\n",
       "      <th>0</th>\n",
       "      <td>3</td>\n",
       "      <td>9</td>\n",
       "      <td>5</td>\n",
       "      <td>1602840946000000000</td>\n",
       "      <td>9</td>\n",
       "      <td>5</td>\n",
       "      <td>1602841210000000000</td>\n",
       "      <td>9</td>\n",
       "      <td>5</td>\n",
       "      <td>1602842687000000000</td>\n",
       "      <td>9</td>\n",
       "      <td>5</td>\n",
       "      <td>1602844050000000000</td>\n",
       "      <td>9</td>\n",
       "      <td>5</td>\n",
       "      <td>1602844795000000000</td>\n",
       "      <td>4</td>\n",
       "      <td>20.400000</td>\n",
       "      <td>-1.317755</td>\n",
       "      <td>36.830370</td>\n",
       "      <td>-1.300406</td>\n",
       "      <td>36.829741</td>\n",
       "      <td>745</td>\n",
       "      <td>1637</td>\n",
       "      <td>1309</td>\n",
       "      <td>13.8</td>\n",
       "      <td>549</td>\n",
       "      <td>0</td>\n",
       "    </tr>\n",
       "    <tr>\n",
       "      <th>1</th>\n",
       "      <td>3</td>\n",
       "      <td>12</td>\n",
       "      <td>5</td>\n",
       "      <td>1602846976000000000</td>\n",
       "      <td>12</td>\n",
       "      <td>5</td>\n",
       "      <td>1602847401000000000</td>\n",
       "      <td>12</td>\n",
       "      <td>5</td>\n",
       "      <td>1602848422000000000</td>\n",
       "      <td>12</td>\n",
       "      <td>5</td>\n",
       "      <td>1602848649000000000</td>\n",
       "      <td>12</td>\n",
       "      <td>5</td>\n",
       "      <td>1602850642000000000</td>\n",
       "      <td>16</td>\n",
       "      <td>26.400000</td>\n",
       "      <td>-1.351453</td>\n",
       "      <td>36.899315</td>\n",
       "      <td>-1.295004</td>\n",
       "      <td>36.814358</td>\n",
       "      <td>1993</td>\n",
       "      <td>396</td>\n",
       "      <td>339</td>\n",
       "      <td>13.6</td>\n",
       "      <td>69</td>\n",
       "      <td>1</td>\n",
       "    </tr>\n",
       "    <tr>\n",
       "      <th>2</th>\n",
       "      <td>3</td>\n",
       "      <td>30</td>\n",
       "      <td>2</td>\n",
       "      <td>1602851965000000000</td>\n",
       "      <td>30</td>\n",
       "      <td>2</td>\n",
       "      <td>1602852164000000000</td>\n",
       "      <td>30</td>\n",
       "      <td>2</td>\n",
       "      <td>1602852574000000000</td>\n",
       "      <td>30</td>\n",
       "      <td>2</td>\n",
       "      <td>1602852783000000000</td>\n",
       "      <td>30</td>\n",
       "      <td>2</td>\n",
       "      <td>1602853238000000000</td>\n",
       "      <td>3</td>\n",
       "      <td>23.258889</td>\n",
       "      <td>-1.308284</td>\n",
       "      <td>36.843419</td>\n",
       "      <td>-1.300921</td>\n",
       "      <td>36.828195</td>\n",
       "      <td>455</td>\n",
       "      <td>1023</td>\n",
       "      <td>242</td>\n",
       "      <td>12.5</td>\n",
       "      <td>114</td>\n",
       "      <td>0</td>\n",
       "    </tr>\n",
       "    <tr>\n",
       "      <th>3</th>\n",
       "      <td>3</td>\n",
       "      <td>15</td>\n",
       "      <td>5</td>\n",
       "      <td>1602840334000000000</td>\n",
       "      <td>15</td>\n",
       "      <td>5</td>\n",
       "      <td>1602840365000000000</td>\n",
       "      <td>15</td>\n",
       "      <td>5</td>\n",
       "      <td>1602841076000000000</td>\n",
       "      <td>15</td>\n",
       "      <td>5</td>\n",
       "      <td>1602841386000000000</td>\n",
       "      <td>15</td>\n",
       "      <td>5</td>\n",
       "      <td>1602842727000000000</td>\n",
       "      <td>9</td>\n",
       "      <td>19.200000</td>\n",
       "      <td>-1.281301</td>\n",
       "      <td>36.832396</td>\n",
       "      <td>-1.257147</td>\n",
       "      <td>36.795063</td>\n",
       "      <td>1341</td>\n",
       "      <td>886</td>\n",
       "      <td>283</td>\n",
       "      <td>14.5</td>\n",
       "      <td>113</td>\n",
       "      <td>0</td>\n",
       "    </tr>\n",
       "    <tr>\n",
       "      <th>4</th>\n",
       "      <td>1</td>\n",
       "      <td>13</td>\n",
       "      <td>1</td>\n",
       "      <td>1602842118000000000</td>\n",
       "      <td>13</td>\n",
       "      <td>1</td>\n",
       "      <td>1602842178000000000</td>\n",
       "      <td>13</td>\n",
       "      <td>1</td>\n",
       "      <td>1602842633000000000</td>\n",
       "      <td>13</td>\n",
       "      <td>1</td>\n",
       "      <td>1602842723000000000</td>\n",
       "      <td>13</td>\n",
       "      <td>1</td>\n",
       "      <td>1602843937000000000</td>\n",
       "      <td>9</td>\n",
       "      <td>15.400000</td>\n",
       "      <td>-1.266597</td>\n",
       "      <td>36.792118</td>\n",
       "      <td>-1.295041</td>\n",
       "      <td>36.809817</td>\n",
       "      <td>1214</td>\n",
       "      <td>2311</td>\n",
       "      <td>872</td>\n",
       "      <td>14.1</td>\n",
       "      <td>533</td>\n",
       "      <td>1</td>\n",
       "    </tr>\n",
       "  </tbody>\n",
       "</table>\n",
       "</div>"
      ],
      "text/plain": [
       "   Platform Type  ...  Personal or Business_Personal\n",
       "0              3  ...                              0\n",
       "1              3  ...                              1\n",
       "2              3  ...                              0\n",
       "3              3  ...                              0\n",
       "4              1  ...                              1\n",
       "\n",
       "[5 rows x 28 columns]"
      ]
     },
     "execution_count": 261,
     "metadata": {
      "tags": []
     },
     "output_type": "execute_result"
    }
   ],
   "source": [
    "train_clean.head()"
   ]
  },
  {
   "cell_type": "code",
   "execution_count": 262,
   "metadata": {
    "colab": {
     "base_uri": "https://localhost:8080/",
     "height": 316
    },
    "id": "u5-OAPvmHLQH",
    "outputId": "a8dba5d8-64e7-4f5f-d8f7-20074c8f2c50"
   },
   "outputs": [
    {
     "data": {
      "text/html": [
       "<div>\n",
       "<style scoped>\n",
       "    .dataframe tbody tr th:only-of-type {\n",
       "        vertical-align: middle;\n",
       "    }\n",
       "\n",
       "    .dataframe tbody tr th {\n",
       "        vertical-align: top;\n",
       "    }\n",
       "\n",
       "    .dataframe thead th {\n",
       "        text-align: right;\n",
       "    }\n",
       "</style>\n",
       "<table border=\"1\" class=\"dataframe\">\n",
       "  <thead>\n",
       "    <tr style=\"text-align: right;\">\n",
       "      <th></th>\n",
       "      <th>Platform Type</th>\n",
       "      <th>Placement - Day of Month</th>\n",
       "      <th>Placement - Weekday (Mo = 1)</th>\n",
       "      <th>Placement - Time</th>\n",
       "      <th>Confirmation - Day of Month</th>\n",
       "      <th>Confirmation - Weekday (Mo = 1)</th>\n",
       "      <th>Confirmation - Time</th>\n",
       "      <th>Arrival at Pickup - Day of Month</th>\n",
       "      <th>Arrival at Pickup - Weekday (Mo = 1)</th>\n",
       "      <th>Arrival at Pickup - Time</th>\n",
       "      <th>Pickup - Day of Month</th>\n",
       "      <th>Pickup - Weekday (Mo = 1)</th>\n",
       "      <th>Pickup - Time</th>\n",
       "      <th>Distance (KM)</th>\n",
       "      <th>Temperature</th>\n",
       "      <th>Pickup Lat</th>\n",
       "      <th>Pickup Long</th>\n",
       "      <th>Destination Lat</th>\n",
       "      <th>Destination Long</th>\n",
       "      <th>No_Of_Orders</th>\n",
       "      <th>Age</th>\n",
       "      <th>Average_Rating</th>\n",
       "      <th>No_of_Ratings</th>\n",
       "      <th>Personal or Business_Personal</th>\n",
       "    </tr>\n",
       "  </thead>\n",
       "  <tbody>\n",
       "    <tr>\n",
       "      <th>0</th>\n",
       "      <td>3</td>\n",
       "      <td>27</td>\n",
       "      <td>3</td>\n",
       "      <td>1602866650000000000</td>\n",
       "      <td>27</td>\n",
       "      <td>3</td>\n",
       "      <td>1602866669000000000</td>\n",
       "      <td>27</td>\n",
       "      <td>3</td>\n",
       "      <td>1602867184000000000</td>\n",
       "      <td>27</td>\n",
       "      <td>3</td>\n",
       "      <td>1602868007000000000</td>\n",
       "      <td>8</td>\n",
       "      <td>23.24612</td>\n",
       "      <td>-1.333275</td>\n",
       "      <td>36.870815</td>\n",
       "      <td>-1.305249</td>\n",
       "      <td>36.822390</td>\n",
       "      <td>439</td>\n",
       "      <td>1511</td>\n",
       "      <td>13.3</td>\n",
       "      <td>171</td>\n",
       "      <td>0</td>\n",
       "    </tr>\n",
       "    <tr>\n",
       "      <th>1</th>\n",
       "      <td>3</td>\n",
       "      <td>17</td>\n",
       "      <td>5</td>\n",
       "      <td>1602853055000000000</td>\n",
       "      <td>17</td>\n",
       "      <td>5</td>\n",
       "      <td>1602853157000000000</td>\n",
       "      <td>17</td>\n",
       "      <td>5</td>\n",
       "      <td>1602854427000000000</td>\n",
       "      <td>17</td>\n",
       "      <td>5</td>\n",
       "      <td>1602854737000000000</td>\n",
       "      <td>5</td>\n",
       "      <td>23.24612</td>\n",
       "      <td>-1.272639</td>\n",
       "      <td>36.794723</td>\n",
       "      <td>-1.277007</td>\n",
       "      <td>36.823907</td>\n",
       "      <td>488</td>\n",
       "      <td>273</td>\n",
       "      <td>14.4</td>\n",
       "      <td>45</td>\n",
       "      <td>0</td>\n",
       "    </tr>\n",
       "    <tr>\n",
       "      <th>2</th>\n",
       "      <td>3</td>\n",
       "      <td>27</td>\n",
       "      <td>4</td>\n",
       "      <td>1602846494000000000</td>\n",
       "      <td>27</td>\n",
       "      <td>4</td>\n",
       "      <td>1602847505000000000</td>\n",
       "      <td>27</td>\n",
       "      <td>4</td>\n",
       "      <td>1602848000000000000</td>\n",
       "      <td>27</td>\n",
       "      <td>4</td>\n",
       "      <td>1602849474000000000</td>\n",
       "      <td>5</td>\n",
       "      <td>22.80000</td>\n",
       "      <td>-1.290894</td>\n",
       "      <td>36.822971</td>\n",
       "      <td>-1.276574</td>\n",
       "      <td>36.851365</td>\n",
       "      <td>833</td>\n",
       "      <td>460</td>\n",
       "      <td>13.1</td>\n",
       "      <td>67</td>\n",
       "      <td>0</td>\n",
       "    </tr>\n",
       "    <tr>\n",
       "      <th>3</th>\n",
       "      <td>3</td>\n",
       "      <td>17</td>\n",
       "      <td>1</td>\n",
       "      <td>1602856295000000000</td>\n",
       "      <td>17</td>\n",
       "      <td>1</td>\n",
       "      <td>1602856407000000000</td>\n",
       "      <td>17</td>\n",
       "      <td>1</td>\n",
       "      <td>1602856961000000000</td>\n",
       "      <td>17</td>\n",
       "      <td>1</td>\n",
       "      <td>1602857812000000000</td>\n",
       "      <td>5</td>\n",
       "      <td>24.50000</td>\n",
       "      <td>-1.290503</td>\n",
       "      <td>36.809646</td>\n",
       "      <td>-1.303382</td>\n",
       "      <td>36.790658</td>\n",
       "      <td>487</td>\n",
       "      <td>560</td>\n",
       "      <td>13.7</td>\n",
       "      <td>44</td>\n",
       "      <td>0</td>\n",
       "    </tr>\n",
       "    <tr>\n",
       "      <th>4</th>\n",
       "      <td>3</td>\n",
       "      <td>11</td>\n",
       "      <td>2</td>\n",
       "      <td>1602847828000000000</td>\n",
       "      <td>11</td>\n",
       "      <td>2</td>\n",
       "      <td>1602848085000000000</td>\n",
       "      <td>11</td>\n",
       "      <td>2</td>\n",
       "      <td>1602848839000000000</td>\n",
       "      <td>11</td>\n",
       "      <td>2</td>\n",
       "      <td>1602849364000000000</td>\n",
       "      <td>6</td>\n",
       "      <td>24.40000</td>\n",
       "      <td>-1.281081</td>\n",
       "      <td>36.814423</td>\n",
       "      <td>-1.266467</td>\n",
       "      <td>36.792161</td>\n",
       "      <td>4761</td>\n",
       "      <td>1120</td>\n",
       "      <td>14.1</td>\n",
       "      <td>1010</td>\n",
       "      <td>0</td>\n",
       "    </tr>\n",
       "  </tbody>\n",
       "</table>\n",
       "</div>"
      ],
      "text/plain": [
       "   Platform Type  ...  Personal or Business_Personal\n",
       "0              3  ...                              0\n",
       "1              3  ...                              0\n",
       "2              3  ...                              0\n",
       "3              3  ...                              0\n",
       "4              3  ...                              0\n",
       "\n",
       "[5 rows x 24 columns]"
      ]
     },
     "execution_count": 262,
     "metadata": {
      "tags": []
     },
     "output_type": "execute_result"
    }
   ],
   "source": [
    "test_clean.head()"
   ]
  },
  {
   "cell_type": "code",
   "execution_count": 263,
   "metadata": {
    "colab": {
     "base_uri": "https://localhost:8080/",
     "height": 84
    },
    "id": "7srH5A93QjaS",
    "outputId": "f6afe7dc-49b9-45eb-cc22-e90035fe2ceb"
   },
   "outputs": [
    {
     "name": "stdout",
     "output_type": "stream",
     "text": [
      "Arrival at Destination - Day of Month\n",
      "Arrival at Destination - Weekday (Mo = 1)\n",
      "Arrival at Destination - Time\n",
      "Time from Pickup to Arrival\n"
     ]
    }
   ],
   "source": [
    "# Check for columns not included in the test data set and drop them\n",
    "for col in train_clean.columns:\n",
    "    if col not in test_clean.columns:\n",
    "        print(col)"
   ]
  },
  {
   "cell_type": "code",
   "execution_count": 264,
   "metadata": {
    "id": "T08MUSzZQsYK"
   },
   "outputs": [],
   "source": [
    "# Drop additional columns in train data that are not in the test data, \n",
    "# except the target variable\n",
    "\n",
    "train_clean = train_clean.drop([\"Arrival at Destination - Day of Month\",\n",
    "                                \"Arrival at Destination - Weekday (Mo = 1)\",\n",
    "                                \"Arrival at Destination - Time\"], axis = 1)"
   ]
  },
  {
   "cell_type": "code",
   "execution_count": 265,
   "metadata": {
    "colab": {
     "base_uri": "https://localhost:8080/",
     "height": 34
    },
    "id": "GYMbVyx1RrsW",
    "outputId": "6964375b-07b9-4b8d-cfb7-44064b94abfa"
   },
   "outputs": [
    {
     "name": "stdout",
     "output_type": "stream",
     "text": [
      "Time from Pickup to Arrival\n"
     ]
    }
   ],
   "source": [
    "# Check for columns not included in the test data set and drop them\n",
    "for col in train_clean.columns:\n",
    "    if col not in test_clean.columns:\n",
    "        print(col)"
   ]
  },
  {
   "cell_type": "code",
   "execution_count": 266,
   "metadata": {
    "colab": {
     "base_uri": "https://localhost:8080/",
     "height": 554
    },
    "id": "iU2Gz62QIwJI",
    "outputId": "9ce73385-56b3-4722-d863-b0151d079bdf"
   },
   "outputs": [
    {
     "name": "stdout",
     "output_type": "stream",
     "text": [
      "<class 'pandas.core.frame.DataFrame'>\n",
      "Int64Index: 21201 entries, 0 to 21200\n",
      "Data columns (total 25 columns):\n",
      " #   Column                                Non-Null Count  Dtype  \n",
      "---  ------                                --------------  -----  \n",
      " 0   Platform Type                         21201 non-null  int64  \n",
      " 1   Placement - Day of Month              21201 non-null  int64  \n",
      " 2   Placement - Weekday (Mo = 1)          21201 non-null  int64  \n",
      " 3   Placement - Time                      21201 non-null  int64  \n",
      " 4   Confirmation - Day of Month           21201 non-null  int64  \n",
      " 5   Confirmation - Weekday (Mo = 1)       21201 non-null  int64  \n",
      " 6   Confirmation - Time                   21201 non-null  int64  \n",
      " 7   Arrival at Pickup - Day of Month      21201 non-null  int64  \n",
      " 8   Arrival at Pickup - Weekday (Mo = 1)  21201 non-null  int64  \n",
      " 9   Arrival at Pickup - Time              21201 non-null  int64  \n",
      " 10  Pickup - Day of Month                 21201 non-null  int64  \n",
      " 11  Pickup - Weekday (Mo = 1)             21201 non-null  int64  \n",
      " 12  Pickup - Time                         21201 non-null  int64  \n",
      " 13  Distance (KM)                         21201 non-null  int64  \n",
      " 14  Temperature                           21201 non-null  float64\n",
      " 15  Pickup Lat                            21201 non-null  float64\n",
      " 16  Pickup Long                           21201 non-null  float64\n",
      " 17  Destination Lat                       21201 non-null  float64\n",
      " 18  Destination Long                      21201 non-null  float64\n",
      " 19  Time from Pickup to Arrival           21201 non-null  int64  \n",
      " 20  No_Of_Orders                          21201 non-null  int64  \n",
      " 21  Age                                   21201 non-null  int64  \n",
      " 22  Average_Rating                        21201 non-null  float64\n",
      " 23  No_of_Ratings                         21201 non-null  int64  \n",
      " 24  Personal or Business_Personal         21201 non-null  uint8  \n",
      "dtypes: float64(6), int64(18), uint8(1)\n",
      "memory usage: 4.1 MB\n"
     ]
    }
   ],
   "source": [
    "train_clean.info()"
   ]
  },
  {
   "cell_type": "markdown",
   "metadata": {
    "id": "sM6kYr5Yes29"
   },
   "source": [
    "## Building Tuned Models"
   ]
  },
  {
   "cell_type": "code",
   "execution_count": 267,
   "metadata": {
    "id": "B4XTvnJxVGLL"
   },
   "outputs": [],
   "source": [
    "#Separate x and y metrics\n",
    "\n",
    "x_tuned = train_clean.drop(\"Time from Pickup to Arrival\", axis = 1)\n",
    "y_tuned = train_clean[\"Time from Pickup to Arrival\"] \n",
    "\n",
    "test_x = test_clean.copy()"
   ]
  },
  {
   "cell_type": "code",
   "execution_count": 268,
   "metadata": {
    "colab": {
     "base_uri": "https://localhost:8080/",
     "height": 34
    },
    "id": "HuWXL_rnRy_Q",
    "outputId": "14965436-6485-4017-c413-b573a726a536"
   },
   "outputs": [
    {
     "data": {
      "text/plain": [
       "(21201, 24)"
      ]
     },
     "execution_count": 268,
     "metadata": {
      "tags": []
     },
     "output_type": "execute_result"
    }
   ],
   "source": [
    "x_tuned.shape"
   ]
  },
  {
   "cell_type": "code",
   "execution_count": 269,
   "metadata": {
    "colab": {
     "base_uri": "https://localhost:8080/",
     "height": 34
    },
    "id": "Y3DkjKSDR4oz",
    "outputId": "6882e753-3c0e-4fa2-ba98-c50fa2d90b6f"
   },
   "outputs": [
    {
     "data": {
      "text/plain": [
       "(7068, 24)"
      ]
     },
     "execution_count": 269,
     "metadata": {
      "tags": []
     },
     "output_type": "execute_result"
    }
   ],
   "source": [
    "test_x.shape"
   ]
  },
  {
   "cell_type": "code",
   "execution_count": 270,
   "metadata": {
    "id": "U_gWbT6ehDgw"
   },
   "outputs": [],
   "source": [
    "# Split the dataset into train and test data\n",
    "from sklearn.model_selection import train_test_split\n",
    "\n",
    "X_train, X_val, y_train, y_val = train_test_split(x_tuned,y_tuned,test_size = 0.2, random_state = 25)"
   ]
  },
  {
   "cell_type": "markdown",
   "metadata": {
    "id": "-lsjZf3kgqf0"
   },
   "source": [
    "### Linear Regression Model"
   ]
  },
  {
   "cell_type": "code",
   "execution_count": 271,
   "metadata": {
    "colab": {
     "base_uri": "https://localhost:8080/",
     "height": 34
    },
    "id": "D50UGjALVFPF",
    "outputId": "0b857244-6bc5-4990-b2bc-1eb5348c8490"
   },
   "outputs": [
    {
     "data": {
      "text/plain": [
       "760.2512729473941"
      ]
     },
     "execution_count": 271,
     "metadata": {
      "tags": []
     },
     "output_type": "execute_result"
    }
   ],
   "source": [
    "from sklearn.linear_model import LinearRegression\n",
    "from sklearn.metrics import mean_squared_error\n",
    "\n",
    "# define the model \n",
    "model = LinearRegression()\n",
    "\n",
    "# fit the model \n",
    "model.fit(X_train, y_train)\n",
    "\n",
    "# get predictions on the test set \n",
    "val_pred = model.predict(X_val)\n",
    "\n",
    "# calculate accuracy of validation predictions using root mean squared error\n",
    "rmse(y_val, val_pred)"
   ]
  },
  {
   "cell_type": "code",
   "execution_count": 273,
   "metadata": {
    "colab": {
     "base_uri": "https://localhost:8080/",
     "height": 34
    },
    "id": "jvnQYIA8NJeM",
    "outputId": "252cb6cc-c8c7-49af-c33d-7459ea1a97a0"
   },
   "outputs": [
    {
     "name": "stdout",
     "output_type": "stream",
     "text": [
      "This is now the best perfoming model, with RMSE of 760.2512729473941\n"
     ]
    }
   ],
   "source": [
    "best_result = 769.2752110279656\n",
    "# Assign the RMSE to a variable called model_result\n",
    "model_result = rmse(y_val,val_pred)\n",
    "best_perfomance(model_result, best_result)"
   ]
  },
  {
   "cell_type": "markdown",
   "metadata": {
    "id": "ynflEggN6cK8"
   },
   "source": [
    "With the newly selected features, Linear regression model is the best performing model"
   ]
  },
  {
   "cell_type": "markdown",
   "metadata": {
    "id": "cys9mRe3koU_"
   },
   "source": [
    "### Gradient Boosting Regressor"
   ]
  },
  {
   "cell_type": "code",
   "execution_count": 284,
   "metadata": {
    "id": "PNGqDeAxLrrm"
   },
   "outputs": [],
   "source": [
    "from sklearn.ensemble import GradientBoostingRegressor\n",
    "Gbr_model= GradientBoostingRegressor()\n",
    "\n",
    "Gbr_model.fit(X_train, y_train)\n",
    "val_pred_Gbr = Gbr_model.predict(X_val)"
   ]
  },
  {
   "cell_type": "code",
   "execution_count": 285,
   "metadata": {
    "id": "-xl_LDLmLroe"
   },
   "outputs": [],
   "source": [
    "# Assign the RMSE to a variable called model_result\n",
    "model_result = rmse(y_val, val_pred_Gbr)"
   ]
  },
  {
   "cell_type": "code",
   "execution_count": 286,
   "metadata": {
    "colab": {
     "base_uri": "https://localhost:8080/",
     "height": 34
    },
    "id": "OwD8EaBCLrln",
    "outputId": "d9974b83-bbb9-4034-8f62-ccb1a19c809d"
   },
   "outputs": [
    {
     "name": "stdout",
     "output_type": "stream",
     "text": [
      "This is now the best perfoming model, with RMSE of 745.5430943593261\n"
     ]
    }
   ],
   "source": [
    "best_perfomance(model_result,best_result)"
   ]
  },
  {
   "cell_type": "markdown",
   "metadata": {
    "id": "fpAzpdL0_IiH"
   },
   "source": [
    "The gradient boosting regressor model is now the best performing model"
   ]
  },
  {
   "cell_type": "code",
   "execution_count": 287,
   "metadata": {
    "id": "pYMW2QqJSjOu"
   },
   "outputs": [],
   "source": [
    "# The best model result has changed\n",
    "best_result = 745.5430943593261"
   ]
  },
  {
   "cell_type": "markdown",
   "metadata": {
    "id": "vIVd8oifVFt3"
   },
   "source": [
    "### XGBoost Regressor"
   ]
  },
  {
   "cell_type": "code",
   "execution_count": 288,
   "metadata": {
    "colab": {
     "base_uri": "https://localhost:8080/",
     "height": 34
    },
    "id": "TcYqrOTbLrc0",
    "outputId": "c65f34d1-b765-4ff3-c868-8c813270d6d0"
   },
   "outputs": [
    {
     "name": "stdout",
     "output_type": "stream",
     "text": [
      "[01:19:29] WARNING: /workspace/src/objective/regression_obj.cu:152: reg:linear is now deprecated in favor of reg:squarederror.\n"
     ]
    }
   ],
   "source": [
    "import xgboost as xgb\n",
    "model_x=xgb.XGBRegressor()\n",
    "\n",
    "#Train the model\n",
    "model_x.fit(X_train, y_train)\n",
    "\n",
    "# Making predictions of the validation data\n",
    "val_pred_XGR = model_x.predict(X_val)\n",
    "\n",
    "#Actual y_predicts\n",
    "#y_pred_xg = model_x.predict(test_x)"
   ]
  },
  {
   "cell_type": "code",
   "execution_count": 289,
   "metadata": {
    "id": "8i7tqRNJTIXp"
   },
   "outputs": [],
   "source": [
    "# Assign the RMSE to a variable called model_result\n",
    "model_result = rmse(y_val, val_pred_XGR)"
   ]
  },
  {
   "cell_type": "code",
   "execution_count": 290,
   "metadata": {
    "colab": {
     "base_uri": "https://localhost:8080/",
     "height": 34
    },
    "id": "FyjLGYQ5TiYK",
    "outputId": "aee2b869-4772-4459-9ede-ecf9e85ab1b4"
   },
   "outputs": [
    {
     "name": "stdout",
     "output_type": "stream",
     "text": [
      "This is now the best perfoming model, with RMSE of 745.2864230836778\n"
     ]
    }
   ],
   "source": [
    "best_perfomance(model_result,best_result)"
   ]
  },
  {
   "cell_type": "markdown",
   "metadata": {
    "id": "MrKBCw_7_ixJ"
   },
   "source": [
    "The XGBoost Regression model is now the best performing model"
   ]
  },
  {
   "cell_type": "markdown",
   "metadata": {
    "id": "2NxFZLsh0M-Z"
   },
   "source": [
    "### Lasso Regression"
   ]
  },
  {
   "cell_type": "code",
   "execution_count": 110,
   "metadata": {
    "id": "X17UbXn30Fp9"
   },
   "outputs": [],
   "source": [
    "from sklearn.linear_model import Lasso"
   ]
  },
  {
   "cell_type": "code",
   "execution_count": 113,
   "metadata": {
    "id": "EuEq5ctS0YLg"
   },
   "outputs": [],
   "source": [
    "# creating an instance of lasso regression\n",
    "lasso_model = Lasso(alpha=1.0)"
   ]
  },
  {
   "cell_type": "code",
   "execution_count": 114,
   "metadata": {
    "colab": {
     "base_uri": "https://localhost:8080/",
     "height": 67
    },
    "id": "5ak64-qPzVbT",
    "outputId": "3725867a-5f3e-4e0d-cbaa-b924b506e9d1"
   },
   "outputs": [
    {
     "data": {
      "text/plain": [
       "Lasso(alpha=1.0, copy_X=True, fit_intercept=True, max_iter=1000,\n",
       "      normalize=False, positive=False, precompute=False, random_state=None,\n",
       "      selection='cyclic', tol=0.0001, warm_start=False)"
      ]
     },
     "execution_count": 114,
     "metadata": {
      "tags": []
     },
     "output_type": "execute_result"
    }
   ],
   "source": [
    "# Training the model\n",
    "lasso_model.fit(X_train, y_train)"
   ]
  },
  {
   "cell_type": "code",
   "execution_count": 116,
   "metadata": {
    "id": "wl2ThiES0sDY"
   },
   "outputs": [],
   "source": [
    "# Predictions for the validation set\n",
    "val_pred = lasso_model.predict(X_val)"
   ]
  },
  {
   "cell_type": "code",
   "execution_count": 117,
   "metadata": {
    "id": "wDH2PE_t01Qj"
   },
   "outputs": [],
   "source": [
    "# Assign the RMSE to a variable called model_result\n",
    "model_result = rmse(y_val, val_pred)"
   ]
  },
  {
   "cell_type": "code",
   "execution_count": 118,
   "metadata": {
    "colab": {
     "base_uri": "https://localhost:8080/",
     "height": 67
    },
    "id": "bSpMqDDt1GL3",
    "outputId": "529b937c-0609-4784-e1a4-1b3df2957094"
   },
   "outputs": [
    {
     "name": "stdout",
     "output_type": "stream",
     "text": [
      "This model performs poorly compared the previous best performing model\n",
      "Best perfomaning model score: 793.3029\n",
      "Model result : 794.3255\n"
     ]
    }
   ],
   "source": [
    "best_perfomance(model_result, best_result)"
   ]
  },
  {
   "cell_type": "markdown",
   "metadata": {
    "id": "VEH3L7PU4Poe"
   },
   "source": [
    "## Tunning the Lasso Regression model"
   ]
  },
  {
   "cell_type": "code",
   "execution_count": 125,
   "metadata": {
    "id": "cEd_mYsr1GIw"
   },
   "outputs": [],
   "source": []
  },
  {
   "cell_type": "code",
   "execution_count": 121,
   "metadata": {
    "id": "NIxRDk-U1GFx"
   },
   "outputs": [],
   "source": [
    "# Creating an instance for the laso regression\n",
    "lasso_model_2 = Lasso()"
   ]
  },
  {
   "cell_type": "code",
   "execution_count": 122,
   "metadata": {
    "id": "l0--_Q5w17_s"
   },
   "outputs": [],
   "source": [
    "cv = RepeatedKFold(n_splits=10, n_repeats=3, random_state=1)"
   ]
  },
  {
   "cell_type": "code",
   "execution_count": 126,
   "metadata": {
    "id": "4nQVXNKT18Ds"
   },
   "outputs": [],
   "source": [
    "# Defining hte grid for the grid search\n",
    "grid = dict()\n",
    "grid['alpha'] = arange(0, 1, 0.01)"
   ]
  },
  {
   "cell_type": "code",
   "execution_count": 296,
   "metadata": {
    "id": "a1-hwu-m18Qh"
   },
   "outputs": [],
   "source": [
    "search = GridSearchCV(lasso_model_2, grid, scoring='neg_mean_absolute_error', cv=cv, n_jobs=-1)"
   ]
  },
  {
   "cell_type": "code",
   "execution_count": 131,
   "metadata": {
    "id": "N-9vcdL22z8F"
   },
   "outputs": [],
   "source": [
    "# Training the model\n",
    "result = search.fit(X_train, y_train)"
   ]
  },
  {
   "cell_type": "code",
   "execution_count": 133,
   "metadata": {
    "id": "6h6a2-no3Jz4"
   },
   "outputs": [],
   "source": [
    "# Making predictions for the validation set\n",
    "val_pred = result.predict(X_val)"
   ]
  },
  {
   "cell_type": "code",
   "execution_count": 136,
   "metadata": {
    "id": "4r7YZ6eA3cjX"
   },
   "outputs": [],
   "source": [
    "# Assign the RMSE to a variable called model_result\n",
    "model_result = rmse(y_val, val_pred)"
   ]
  },
  {
   "cell_type": "code",
   "execution_count": 137,
   "metadata": {
    "colab": {
     "base_uri": "https://localhost:8080/",
     "height": 67
    },
    "id": "iWAwtsgF3ujx",
    "outputId": "0c06383c-2a6a-40f7-9ab9-bc969f2b78e6"
   },
   "outputs": [
    {
     "name": "stdout",
     "output_type": "stream",
     "text": [
      "This model performs poorly compared the previous best performing model\n",
      "Best perfomaning model score: 793.3029\n",
      "Model result : 793.938\n"
     ]
    }
   ],
   "source": [
    "best_perfomance(model_result, best_result)"
   ]
  },
  {
   "cell_type": "markdown",
   "metadata": {
    "id": "mGb46MOA39n_"
   },
   "source": [
    "The lasso regreesion model improved slightly after grid search"
   ]
  },
  {
   "cell_type": "markdown",
   "metadata": {
    "id": "sN5-DCdwGCdT"
   },
   "source": [
    "# Saving the Champion model"
   ]
  },
  {
   "cell_type": "code",
   "execution_count": null,
   "metadata": {
    "id": "U_JXvHYGGKOT"
   },
   "outputs": [],
   "source": [
    "import pickle\n",
    "\n",
    "model_save_path = \"XGBoostModel.pkl\"\n",
    "with open(model_save_path,'wb') as file:\n",
    "    pickle.dump(model_x,file)"
   ]
  },
  {
   "cell_type": "code",
   "execution_count": null,
   "metadata": {
    "colab": {
     "base_uri": "https://localhost:8080/",
     "height": 34
    },
    "id": "qixTqr88GQDx",
    "outputId": "19abf12a-af29-4b86-ba14-9a2d9f80c409"
   },
   "outputs": [
    {
     "name": "stdout",
     "output_type": "stream",
     "text": [
      "[13:36:55] WARNING: /workspace/src/objective/regression_obj.cu:152: reg:linear is now deprecated in favor of reg:squarederror.\n"
     ]
    }
   ],
   "source": [
    "# restoring  the model\n",
    "model_load_path = \"XGBoostModel.pkl\"\n",
    "with open(model_load_path,'rb') as file:\n",
    "    unpickled_model = pickle.load(file)"
   ]
  },
  {
   "cell_type": "code",
   "execution_count": null,
   "metadata": {
    "id": "q7FPWkSgGUHp"
   },
   "outputs": [],
   "source": [
    "# get predictions from the unpickled model\n",
    "y_pred = unpickled_model.predict(X_val)"
   ]
  },
  {
   "cell_type": "code",
   "execution_count": null,
   "metadata": {
    "colab": {
     "base_uri": "https://localhost:8080/",
     "height": 34
    },
    "id": "7jRf38MNGXe6",
    "outputId": "6b49bbc9-b278-45df-99d1-48a2a05fb778"
   },
   "outputs": [
    {
     "data": {
      "text/plain": [
       "743.9272036080863"
      ]
     },
     "execution_count": 166,
     "metadata": {
      "tags": []
     },
     "output_type": "execute_result"
    }
   ],
   "source": [
    "rmse(y_val, y_pred)"
   ]
  },
  {
   "cell_type": "code",
   "execution_count": null,
   "metadata": {
    "id": "ICOKMO4-VDfi"
   },
   "outputs": [],
   "source": [
    "#Submission\n",
    "\n",
    "test_pred = unpickled_model.predict(test_x)"
   ]
  },
  {
   "cell_type": "code",
   "execution_count": null,
   "metadata": {
    "colab": {
     "base_uri": "https://localhost:8080/",
     "height": 408
    },
    "id": "cGyHjWi7Vm-8",
    "outputId": "a335e8be-b0d8-41f3-ed38-535df4a6e59f"
   },
   "outputs": [
    {
     "data": {
      "text/html": [
       "<div>\n",
       "<style scoped>\n",
       "    .dataframe tbody tr th:only-of-type {\n",
       "        vertical-align: middle;\n",
       "    }\n",
       "\n",
       "    .dataframe tbody tr th {\n",
       "        vertical-align: top;\n",
       "    }\n",
       "\n",
       "    .dataframe thead th {\n",
       "        text-align: right;\n",
       "    }\n",
       "</style>\n",
       "<table border=\"1\" class=\"dataframe\">\n",
       "  <thead>\n",
       "    <tr style=\"text-align: right;\">\n",
       "      <th></th>\n",
       "      <th>Order No</th>\n",
       "      <th>Time from Pickup to Arrival</th>\n",
       "    </tr>\n",
       "  </thead>\n",
       "  <tbody>\n",
       "    <tr>\n",
       "      <th>0</th>\n",
       "      <td>Order_No_19248</td>\n",
       "      <td>1422.672119</td>\n",
       "    </tr>\n",
       "    <tr>\n",
       "      <th>1</th>\n",
       "      <td>Order_No_12736</td>\n",
       "      <td>1334.304688</td>\n",
       "    </tr>\n",
       "    <tr>\n",
       "      <th>2</th>\n",
       "      <td>Order_No_768</td>\n",
       "      <td>1378.305542</td>\n",
       "    </tr>\n",
       "    <tr>\n",
       "      <th>3</th>\n",
       "      <td>Order_No_15332</td>\n",
       "      <td>1276.792725</td>\n",
       "    </tr>\n",
       "    <tr>\n",
       "      <th>4</th>\n",
       "      <td>Order_No_21373</td>\n",
       "      <td>1220.417114</td>\n",
       "    </tr>\n",
       "    <tr>\n",
       "      <th>...</th>\n",
       "      <td>...</td>\n",
       "      <td>...</td>\n",
       "    </tr>\n",
       "    <tr>\n",
       "      <th>7063</th>\n",
       "      <td>Order_No_3612</td>\n",
       "      <td>1443.366821</td>\n",
       "    </tr>\n",
       "    <tr>\n",
       "      <th>7064</th>\n",
       "      <td>Order_No_7657</td>\n",
       "      <td>2844.471436</td>\n",
       "    </tr>\n",
       "    <tr>\n",
       "      <th>7065</th>\n",
       "      <td>Order_No_1969</td>\n",
       "      <td>1724.319580</td>\n",
       "    </tr>\n",
       "    <tr>\n",
       "      <th>7066</th>\n",
       "      <td>Order_No_10591</td>\n",
       "      <td>2594.828857</td>\n",
       "    </tr>\n",
       "    <tr>\n",
       "      <th>7067</th>\n",
       "      <td>Order_No_1603</td>\n",
       "      <td>1641.832520</td>\n",
       "    </tr>\n",
       "  </tbody>\n",
       "</table>\n",
       "<p>7068 rows × 2 columns</p>\n",
       "</div>"
      ],
      "text/plain": [
       "            Order No  Time from Pickup to Arrival\n",
       "0     Order_No_19248                  1422.672119\n",
       "1     Order_No_12736                  1334.304688\n",
       "2       Order_No_768                  1378.305542\n",
       "3     Order_No_15332                  1276.792725\n",
       "4     Order_No_21373                  1220.417114\n",
       "...              ...                          ...\n",
       "7063   Order_No_3612                  1443.366821\n",
       "7064   Order_No_7657                  2844.471436\n",
       "7065   Order_No_1969                  1724.319580\n",
       "7066  Order_No_10591                  2594.828857\n",
       "7067   Order_No_1603                  1641.832520\n",
       "\n",
       "[7068 rows x 2 columns]"
      ]
     },
     "execution_count": 168,
     "metadata": {
      "tags": []
     },
     "output_type": "execute_result"
    }
   ],
   "source": [
    "XGsubmission = test[['Order No']].copy()\n",
    "XGsubmission['Time from Pickup to Arrival'] = test_pred\n",
    "\n",
    "XGsubmission"
   ]
  },
  {
   "cell_type": "code",
   "execution_count": null,
   "metadata": {
    "id": "LTFkVZmRV4LB"
   },
   "outputs": [],
   "source": [
    "XGsubmission.to_csv('XGmodel_FINAL_submission.csv', index = False)"
   ]
  },
  {
   "cell_type": "code",
   "execution_count": null,
   "metadata": {
    "colab": {
     "base_uri": "https://localhost:8080/",
     "height": 17
    },
    "id": "VsZu3XYQWCKU",
    "outputId": "0e3e66d2-08b0-4da5-8d57-469c251e5fb2"
   },
   "outputs": [
    {
     "data": {
      "application/javascript": [
       "\n",
       "    async function download(id, filename, size) {\n",
       "      if (!google.colab.kernel.accessAllowed) {\n",
       "        return;\n",
       "      }\n",
       "      const div = document.createElement('div');\n",
       "      const label = document.createElement('label');\n",
       "      label.textContent = `Downloading \"${filename}\": `;\n",
       "      div.appendChild(label);\n",
       "      const progress = document.createElement('progress');\n",
       "      progress.max = size;\n",
       "      div.appendChild(progress);\n",
       "      document.body.appendChild(div);\n",
       "\n",
       "      const buffers = [];\n",
       "      let downloaded = 0;\n",
       "\n",
       "      const channel = await google.colab.kernel.comms.open(id);\n",
       "      // Send a message to notify the kernel that we're ready.\n",
       "      channel.send({})\n",
       "\n",
       "      for await (const message of channel.messages) {\n",
       "        // Send a message to notify the kernel that we're ready.\n",
       "        channel.send({})\n",
       "        if (message.buffers) {\n",
       "          for (const buffer of message.buffers) {\n",
       "            buffers.push(buffer);\n",
       "            downloaded += buffer.byteLength;\n",
       "            progress.value = downloaded;\n",
       "          }\n",
       "        }\n",
       "      }\n",
       "      const blob = new Blob(buffers, {type: 'application/binary'});\n",
       "      const a = document.createElement('a');\n",
       "      a.href = window.URL.createObjectURL(blob);\n",
       "      a.download = filename;\n",
       "      div.appendChild(a);\n",
       "      a.click();\n",
       "      div.remove();\n",
       "    }\n",
       "  "
      ],
      "text/plain": [
       "<IPython.core.display.Javascript object>"
      ]
     },
     "metadata": {
      "tags": []
     },
     "output_type": "display_data"
    },
    {
     "data": {
      "application/javascript": [
       "download(\"download_5e1245ce-5dc3-4336-a3ae-4b7a95756728\", \"XGBoostModel.pkl\", 70569)"
      ],
      "text/plain": [
       "<IPython.core.display.Javascript object>"
      ]
     },
     "metadata": {
      "tags": []
     },
     "output_type": "display_data"
    }
   ],
   "source": [
    "from google.colab import files\n",
    "files.download(\"XGBoostModel.pkl\")"
   ]
  },
  {
   "cell_type": "code",
   "execution_count": null,
   "metadata": {
    "id": "QuJnvVmZXPvm"
   },
   "outputs": [],
   "source": [
    "from google.colab import files\n",
    "files.download(\"XGmodel_FINAL_submission.csv\")"
   ]
  },
  {
   "cell_type": "code",
   "execution_count": null,
   "metadata": {
    "id": "M5UWBohJla6D"
   },
   "outputs": [],
   "source": []
  }
 ],
 "metadata": {
  "colab": {
   "collapsed_sections": [
    "b7o-q2VoVDo3",
    "sN5-DCdwGCdT"
   ],
   "name": "Regression_model.ipynb",
   "provenance": []
  },
  "kernelspec": {
   "display_name": "Python 3",
   "language": "python",
   "name": "python3"
  },
  "language_info": {
   "codemirror_mode": {
    "name": "ipython",
    "version": 3
   },
   "file_extension": ".py",
   "mimetype": "text/x-python",
   "name": "python",
   "nbconvert_exporter": "python",
   "pygments_lexer": "ipython3",
   "version": "3.7.1"
  }
 },
 "nbformat": 4,
 "nbformat_minor": 1
}

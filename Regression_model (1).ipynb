{
 "cells": [
  {
   "cell_type": "markdown",
   "metadata": {
    "id": "QSEuFqdhVDmr"
   },
   "source": [
    "# Introduction\n",
    "\n",
    "The purpose of this competion is the estimate the time taken from the pickup to the destination of the the package that has been ordered. This has been provided under Zindi which is a platform that is used to connect the organisations with the data science community in Africa to solve the world most pressing challenges using machine learning (ML) and Artificial intelligence (AI). In consequence, a company called Sendy Logistics has provided this problem for the which will be explore in length in this work. "
   ]
  },
  {
   "cell_type": "markdown",
   "metadata": {},
   "source": [
    "\n",
    "**Sendy Logistics:**\n",
    "\n",
    "Sendy is a business-to-business platform established in 2014, to enable businesses of all types and sizes to transport goods more efficiently across East Africa.The company is headquartered in Kenya with a team of more than 100 staff, focused on building practical solutions for Africa’s dynamic transportation needs, from developing apps and web solutions, to providing dedicated support for goods on the move.\n",
    "\n",
    "Currently operating in Kenya and Uganda, Sendy is expanding to Nigeria and Tanzania, to enable thousands more businesses to move volumes of goods easily, anywhere, at any time. Sendy aggregates a pool of delivery options from 28 ton, 14 ton, 5 ton trucks to pick up trucks, vans and motorcycles.\n",
    "\n",
    "<p><img src=\"./image/Sendy-delivery-1200x500.jpg\" alt=\"Sendy Logistics Logo\"></p>\n",
    "\n",
    "\n",
    "Sendy Logistics has realised that data is a critical component that can aid in building more efficient, affordable and accessible solutions as such they are interested in using data to predict the estimated time of delivery of orders, from the point of driver pickup to the point of arrival at final destination. \n",
    "\n",
    "The solution will help Sendy enhance customer communication and the reliability of its service; which will ultimately improve customer experience. In addition, the solution will enable Sendy to realise cost savings, and ultimately reduce the cost of doing business through improved resource management and planning for order scheduling.\n",
    "\n",
    "To help Sendy achieve this goal we will build a predictive model that will predict estimated time of delivery of orders by looking at all factors that could influence the time from pick up to arrival of an order such as distance, date, the rider delivering the order etc."
   ]
  },
  {
   "cell_type": "markdown",
   "metadata": {
    "id": "xeYOiO5zVDmt"
   },
   "source": [
    "# Here are the modules for this project: ##"
   ]
  },
  {
   "cell_type": "code",
   "execution_count": 49,
   "metadata": {
    "id": "ofojqnkBVDmu"
   },
   "outputs": [
    {
     "name": "stderr",
     "output_type": "stream",
     "text": [
      "UsageError: Line magic function `%` not found.\n"
     ]
    }
   ],
   "source": [
    "%matplotlib notebook\n",
    "# Modules used to handle data:\n",
    "import numpy as np\n",
    "import pandas as pd\n",
    "from numpy import arange\n",
    "\n",
    "# Modules used for Data Visualization:\n",
    "\n",
    "import matplotlib.pyplot as plt\n",
    "% matplotlib inline\n",
    "import seaborn as sns\n",
    "\n",
    "# Statistical metrics modules used to evaluate the performance of the models:\n",
    "from sklearn.metrics import mean_squared_error\n",
    "\n",
    "# Module implemented when working with Feature scaling:\n",
    "from sklearn.preprocessing import StandardScaler\n",
    "\n",
    "# Model classifiers modules:\n",
    "from mpl_toolkits.mplot3d import Axes3D\n",
    "from scipy.stats import pearsonr\n",
    "from sklearn.model_selection import train_test_split\n",
    "from sklearn.linear_model import LinearRegression\n",
    "from catboost import CatBoostRegressor\n",
    "from sklearn.ensemble import RandomForestRegressor\n",
    "from sklearn.tree import DecisionTreeRegressor\n",
    "from sklearn.svm import SVR\n",
    "from sklearn.preprocessing import PolynomialFeatures\n",
    "from sklearn.ensemble import GradientBoostingRegressor\n",
    "from xgboost import XGBRegressor\n",
    "from sklearn.model_selection import GridSearchCV \n",
    "from sklearn.model_selection import RepeatedKFold"
   ]
  },
  {
   "cell_type": "markdown",
   "metadata": {},
   "source": [
    "After importing the modules it is worth noting that the modules that were used to handle the data were numpy and pandas. The numpy libraries were implemented to work with numpy arrays. On the other hand, the pandas were used to merge and modify our dataset. In order to make sense of the data by visualizing it, the matplotlib and seaborn libraries were used. On the next step, we note the use of pandas to load the `csv` files. "
   ]
  },
  {
   "cell_type": "markdown",
   "metadata": {
    "id": "8nF9J-OWVDmz"
   },
   "source": [
    "## Loading the dataset ##\n",
    "\n",
    "- Four datafiles were loaded named:\n",
    "    1. riders : `Riders.csv` contains information of riders that make the deliveries.\n",
    "    2. train : `Train.csv` contains  Sendy historic data of orders with 28 features, this is the data we will use to train our model.\n",
    "    3. test : `Test.csv` contains  Sendy historic data of orders with 24 features, this is the data we will use to test our model. \n",
    "    4. var_def: The `VariableDefinitions.csv` consists of features that are abbreviated, this dataset consists descriptions of all the features contained in the three datasets\n",
    "\n"
   ]
  },
  {
   "cell_type": "code",
   "execution_count": 114,
   "metadata": {
    "id": "gsWHYIHPVDm0",
    "tags": []
   },
   "outputs": [],
   "source": [
    "#Loading the data:\n",
    "riders = pd.read_csv(\"./regression data/Riders.csv\")\n",
    "train = pd.read_csv(\"./regression data/Train.csv\")\n",
    "test = pd.read_csv(\"./regression data/Test.csv\")\n",
    "var_def = pd.read_csv('./regression data/VariableDefinitions.csv')"
   ]
  },
  {
   "cell_type": "markdown",
   "metadata": {},
   "source": [
    "As we have completed loading the CSV's we looked into each of the dataframe to understand the data at hand. We start by analysing the train, test and riders dataset."
   ]
  },
  {
   "cell_type": "markdown",
   "metadata": {
    "id": "UWsD8MKrprDz"
   },
   "source": [
    "# Analysis of the data\n",
    "\n",
    "Here we explore the datasets to get an understanding of the features involved and how they related to each other. In gathering the insights into the data, we looked into each datasets by looking for:\n",
    "\n",
    "- View the first five rows of the dataset.\n",
    "- Look at the structure of that particular dataset. Returns size of dataframe/series which is equivalent to total number of elements. That is rows x columns.\n",
    "- Look at the info of these features of the dataframe. This function is crucial because it provides a consice summary of the dataframe. When doing exploratory analysis of the data it becomes handy. "
   ]
  },
  {
   "cell_type": "code",
   "execution_count": 115,
   "metadata": {
    "scrolled": true
   },
   "outputs": [
    {
     "data": {
      "text/html": [
       "<div>\n",
       "<style scoped>\n",
       "    .dataframe tbody tr th:only-of-type {\n",
       "        vertical-align: middle;\n",
       "    }\n",
       "\n",
       "    .dataframe tbody tr th {\n",
       "        vertical-align: top;\n",
       "    }\n",
       "\n",
       "    .dataframe thead th {\n",
       "        text-align: right;\n",
       "    }\n",
       "</style>\n",
       "<table border=\"1\" class=\"dataframe\">\n",
       "  <thead>\n",
       "    <tr style=\"text-align: right;\">\n",
       "      <th></th>\n",
       "      <th>Order No</th>\n",
       "      <th>User Id</th>\n",
       "      <th>Vehicle Type</th>\n",
       "      <th>Platform Type</th>\n",
       "      <th>Personal or Business</th>\n",
       "      <th>Placement - Day of Month</th>\n",
       "      <th>Placement - Weekday (Mo = 1)</th>\n",
       "      <th>Placement - Time</th>\n",
       "      <th>Confirmation - Day of Month</th>\n",
       "      <th>Confirmation - Weekday (Mo = 1)</th>\n",
       "      <th>...</th>\n",
       "      <th>Arrival at Destination - Time</th>\n",
       "      <th>Distance (KM)</th>\n",
       "      <th>Temperature</th>\n",
       "      <th>Precipitation in millimeters</th>\n",
       "      <th>Pickup Lat</th>\n",
       "      <th>Pickup Long</th>\n",
       "      <th>Destination Lat</th>\n",
       "      <th>Destination Long</th>\n",
       "      <th>Rider Id</th>\n",
       "      <th>Time from Pickup to Arrival</th>\n",
       "    </tr>\n",
       "  </thead>\n",
       "  <tbody>\n",
       "    <tr>\n",
       "      <th>0</th>\n",
       "      <td>Order_No_4211</td>\n",
       "      <td>User_Id_633</td>\n",
       "      <td>Bike</td>\n",
       "      <td>3</td>\n",
       "      <td>Business</td>\n",
       "      <td>9</td>\n",
       "      <td>5</td>\n",
       "      <td>9:35:46 AM</td>\n",
       "      <td>9</td>\n",
       "      <td>5</td>\n",
       "      <td>...</td>\n",
       "      <td>10:39:55 AM</td>\n",
       "      <td>4</td>\n",
       "      <td>20.4</td>\n",
       "      <td>NaN</td>\n",
       "      <td>-1.317755</td>\n",
       "      <td>36.830370</td>\n",
       "      <td>-1.300406</td>\n",
       "      <td>36.829741</td>\n",
       "      <td>Rider_Id_432</td>\n",
       "      <td>745</td>\n",
       "    </tr>\n",
       "    <tr>\n",
       "      <th>1</th>\n",
       "      <td>Order_No_25375</td>\n",
       "      <td>User_Id_2285</td>\n",
       "      <td>Bike</td>\n",
       "      <td>3</td>\n",
       "      <td>Personal</td>\n",
       "      <td>12</td>\n",
       "      <td>5</td>\n",
       "      <td>11:16:16 AM</td>\n",
       "      <td>12</td>\n",
       "      <td>5</td>\n",
       "      <td>...</td>\n",
       "      <td>12:17:22 PM</td>\n",
       "      <td>16</td>\n",
       "      <td>26.4</td>\n",
       "      <td>NaN</td>\n",
       "      <td>-1.351453</td>\n",
       "      <td>36.899315</td>\n",
       "      <td>-1.295004</td>\n",
       "      <td>36.814358</td>\n",
       "      <td>Rider_Id_856</td>\n",
       "      <td>1993</td>\n",
       "    </tr>\n",
       "    <tr>\n",
       "      <th>2</th>\n",
       "      <td>Order_No_1899</td>\n",
       "      <td>User_Id_265</td>\n",
       "      <td>Bike</td>\n",
       "      <td>3</td>\n",
       "      <td>Business</td>\n",
       "      <td>30</td>\n",
       "      <td>2</td>\n",
       "      <td>12:39:25 PM</td>\n",
       "      <td>30</td>\n",
       "      <td>2</td>\n",
       "      <td>...</td>\n",
       "      <td>1:00:38 PM</td>\n",
       "      <td>3</td>\n",
       "      <td>NaN</td>\n",
       "      <td>NaN</td>\n",
       "      <td>-1.308284</td>\n",
       "      <td>36.843419</td>\n",
       "      <td>-1.300921</td>\n",
       "      <td>36.828195</td>\n",
       "      <td>Rider_Id_155</td>\n",
       "      <td>455</td>\n",
       "    </tr>\n",
       "    <tr>\n",
       "      <th>3</th>\n",
       "      <td>Order_No_9336</td>\n",
       "      <td>User_Id_1402</td>\n",
       "      <td>Bike</td>\n",
       "      <td>3</td>\n",
       "      <td>Business</td>\n",
       "      <td>15</td>\n",
       "      <td>5</td>\n",
       "      <td>9:25:34 AM</td>\n",
       "      <td>15</td>\n",
       "      <td>5</td>\n",
       "      <td>...</td>\n",
       "      <td>10:05:27 AM</td>\n",
       "      <td>9</td>\n",
       "      <td>19.2</td>\n",
       "      <td>NaN</td>\n",
       "      <td>-1.281301</td>\n",
       "      <td>36.832396</td>\n",
       "      <td>-1.257147</td>\n",
       "      <td>36.795063</td>\n",
       "      <td>Rider_Id_855</td>\n",
       "      <td>1341</td>\n",
       "    </tr>\n",
       "    <tr>\n",
       "      <th>4</th>\n",
       "      <td>Order_No_27883</td>\n",
       "      <td>User_Id_1737</td>\n",
       "      <td>Bike</td>\n",
       "      <td>1</td>\n",
       "      <td>Personal</td>\n",
       "      <td>13</td>\n",
       "      <td>1</td>\n",
       "      <td>9:55:18 AM</td>\n",
       "      <td>13</td>\n",
       "      <td>1</td>\n",
       "      <td>...</td>\n",
       "      <td>10:25:37 AM</td>\n",
       "      <td>9</td>\n",
       "      <td>15.4</td>\n",
       "      <td>NaN</td>\n",
       "      <td>-1.266597</td>\n",
       "      <td>36.792118</td>\n",
       "      <td>-1.295041</td>\n",
       "      <td>36.809817</td>\n",
       "      <td>Rider_Id_770</td>\n",
       "      <td>1214</td>\n",
       "    </tr>\n",
       "  </tbody>\n",
       "</table>\n",
       "<p>5 rows × 29 columns</p>\n",
       "</div>"
      ],
      "text/plain": [
       "         Order No       User Id Vehicle Type  Platform Type  \\\n",
       "0   Order_No_4211   User_Id_633         Bike              3   \n",
       "1  Order_No_25375  User_Id_2285         Bike              3   \n",
       "2   Order_No_1899   User_Id_265         Bike              3   \n",
       "3   Order_No_9336  User_Id_1402         Bike              3   \n",
       "4  Order_No_27883  User_Id_1737         Bike              1   \n",
       "\n",
       "  Personal or Business  Placement - Day of Month  \\\n",
       "0             Business                         9   \n",
       "1             Personal                        12   \n",
       "2             Business                        30   \n",
       "3             Business                        15   \n",
       "4             Personal                        13   \n",
       "\n",
       "   Placement - Weekday (Mo = 1) Placement - Time  Confirmation - Day of Month  \\\n",
       "0                             5       9:35:46 AM                            9   \n",
       "1                             5      11:16:16 AM                           12   \n",
       "2                             2      12:39:25 PM                           30   \n",
       "3                             5       9:25:34 AM                           15   \n",
       "4                             1       9:55:18 AM                           13   \n",
       "\n",
       "   Confirmation - Weekday (Mo = 1)  ... Arrival at Destination - Time  \\\n",
       "0                                5  ...                   10:39:55 AM   \n",
       "1                                5  ...                   12:17:22 PM   \n",
       "2                                2  ...                    1:00:38 PM   \n",
       "3                                5  ...                   10:05:27 AM   \n",
       "4                                1  ...                   10:25:37 AM   \n",
       "\n",
       "   Distance (KM)  Temperature Precipitation in millimeters  Pickup Lat  \\\n",
       "0              4         20.4                          NaN   -1.317755   \n",
       "1             16         26.4                          NaN   -1.351453   \n",
       "2              3          NaN                          NaN   -1.308284   \n",
       "3              9         19.2                          NaN   -1.281301   \n",
       "4              9         15.4                          NaN   -1.266597   \n",
       "\n",
       "   Pickup Long Destination Lat  Destination Long      Rider Id  \\\n",
       "0    36.830370       -1.300406         36.829741  Rider_Id_432   \n",
       "1    36.899315       -1.295004         36.814358  Rider_Id_856   \n",
       "2    36.843419       -1.300921         36.828195  Rider_Id_155   \n",
       "3    36.832396       -1.257147         36.795063  Rider_Id_855   \n",
       "4    36.792118       -1.295041         36.809817  Rider_Id_770   \n",
       "\n",
       "  Time from Pickup to Arrival  \n",
       "0                         745  \n",
       "1                        1993  \n",
       "2                         455  \n",
       "3                        1341  \n",
       "4                        1214  \n",
       "\n",
       "[5 rows x 29 columns]"
      ]
     },
     "execution_count": 115,
     "metadata": {},
     "output_type": "execute_result"
    }
   ],
   "source": [
    "# View of the first 5 columns of the train datatset.\n",
    "train.head()"
   ]
  },
  {
   "cell_type": "code",
   "execution_count": 116,
   "metadata": {
    "scrolled": true
   },
   "outputs": [
    {
     "data": {
      "text/plain": [
       "(21201, 29)"
      ]
     },
     "execution_count": 116,
     "metadata": {},
     "output_type": "execute_result"
    }
   ],
   "source": [
    "# The (rows ,columns) of the train dataframe:\n",
    "train.shape"
   ]
  },
  {
   "cell_type": "code",
   "execution_count": 117,
   "metadata": {
    "scrolled": true
   },
   "outputs": [
    {
     "name": "stdout",
     "output_type": "stream",
     "text": [
      "<class 'pandas.core.frame.DataFrame'>\n",
      "RangeIndex: 21201 entries, 0 to 21200\n",
      "Data columns (total 29 columns):\n",
      " #   Column                                     Non-Null Count  Dtype  \n",
      "---  ------                                     --------------  -----  \n",
      " 0   Order No                                   21201 non-null  object \n",
      " 1   User Id                                    21201 non-null  object \n",
      " 2   Vehicle Type                               21201 non-null  object \n",
      " 3   Platform Type                              21201 non-null  int64  \n",
      " 4   Personal or Business                       21201 non-null  object \n",
      " 5   Placement - Day of Month                   21201 non-null  int64  \n",
      " 6   Placement - Weekday (Mo = 1)               21201 non-null  int64  \n",
      " 7   Placement - Time                           21201 non-null  object \n",
      " 8   Confirmation - Day of Month                21201 non-null  int64  \n",
      " 9   Confirmation - Weekday (Mo = 1)            21201 non-null  int64  \n",
      " 10  Confirmation - Time                        21201 non-null  object \n",
      " 11  Arrival at Pickup - Day of Month           21201 non-null  int64  \n",
      " 12  Arrival at Pickup - Weekday (Mo = 1)       21201 non-null  int64  \n",
      " 13  Arrival at Pickup - Time                   21201 non-null  object \n",
      " 14  Pickup - Day of Month                      21201 non-null  int64  \n",
      " 15  Pickup - Weekday (Mo = 1)                  21201 non-null  int64  \n",
      " 16  Pickup - Time                              21201 non-null  object \n",
      " 17  Arrival at Destination - Day of Month      21201 non-null  int64  \n",
      " 18  Arrival at Destination - Weekday (Mo = 1)  21201 non-null  int64  \n",
      " 19  Arrival at Destination - Time              21201 non-null  object \n",
      " 20  Distance (KM)                              21201 non-null  int64  \n",
      " 21  Temperature                                16835 non-null  float64\n",
      " 22  Precipitation in millimeters               552 non-null    float64\n",
      " 23  Pickup Lat                                 21201 non-null  float64\n",
      " 24  Pickup Long                                21201 non-null  float64\n",
      " 25  Destination Lat                            21201 non-null  float64\n",
      " 26  Destination Long                           21201 non-null  float64\n",
      " 27  Rider Id                                   21201 non-null  object \n",
      " 28  Time from Pickup to Arrival                21201 non-null  int64  \n",
      "dtypes: float64(6), int64(13), object(10)\n",
      "memory usage: 4.7+ MB\n"
     ]
    }
   ],
   "source": [
    "# The quick overview of the train dataset:\n",
    "train.info()"
   ]
  },
  {
   "cell_type": "code",
   "execution_count": 118,
   "metadata": {},
   "outputs": [
    {
     "data": {
      "text/html": [
       "<div>\n",
       "<style scoped>\n",
       "    .dataframe tbody tr th:only-of-type {\n",
       "        vertical-align: middle;\n",
       "    }\n",
       "\n",
       "    .dataframe tbody tr th {\n",
       "        vertical-align: top;\n",
       "    }\n",
       "\n",
       "    .dataframe thead th {\n",
       "        text-align: right;\n",
       "    }\n",
       "</style>\n",
       "<table border=\"1\" class=\"dataframe\">\n",
       "  <thead>\n",
       "    <tr style=\"text-align: right;\">\n",
       "      <th></th>\n",
       "      <th>Order No</th>\n",
       "      <th>User Id</th>\n",
       "      <th>Vehicle Type</th>\n",
       "      <th>Platform Type</th>\n",
       "      <th>Personal or Business</th>\n",
       "      <th>Placement - Day of Month</th>\n",
       "      <th>Placement - Weekday (Mo = 1)</th>\n",
       "      <th>Placement - Time</th>\n",
       "      <th>Confirmation - Day of Month</th>\n",
       "      <th>Confirmation - Weekday (Mo = 1)</th>\n",
       "      <th>...</th>\n",
       "      <th>Pickup - Weekday (Mo = 1)</th>\n",
       "      <th>Pickup - Time</th>\n",
       "      <th>Distance (KM)</th>\n",
       "      <th>Temperature</th>\n",
       "      <th>Precipitation in millimeters</th>\n",
       "      <th>Pickup Lat</th>\n",
       "      <th>Pickup Long</th>\n",
       "      <th>Destination Lat</th>\n",
       "      <th>Destination Long</th>\n",
       "      <th>Rider Id</th>\n",
       "    </tr>\n",
       "  </thead>\n",
       "  <tbody>\n",
       "    <tr>\n",
       "      <th>0</th>\n",
       "      <td>Order_No_19248</td>\n",
       "      <td>User_Id_3355</td>\n",
       "      <td>Bike</td>\n",
       "      <td>3</td>\n",
       "      <td>Business</td>\n",
       "      <td>27</td>\n",
       "      <td>3</td>\n",
       "      <td>4:44:10 PM</td>\n",
       "      <td>27</td>\n",
       "      <td>3</td>\n",
       "      <td>...</td>\n",
       "      <td>3</td>\n",
       "      <td>5:06:47 PM</td>\n",
       "      <td>8</td>\n",
       "      <td>NaN</td>\n",
       "      <td>NaN</td>\n",
       "      <td>-1.333275</td>\n",
       "      <td>36.870815</td>\n",
       "      <td>-1.305249</td>\n",
       "      <td>36.822390</td>\n",
       "      <td>Rider_Id_192</td>\n",
       "    </tr>\n",
       "    <tr>\n",
       "      <th>1</th>\n",
       "      <td>Order_No_12736</td>\n",
       "      <td>User_Id_3647</td>\n",
       "      <td>Bike</td>\n",
       "      <td>3</td>\n",
       "      <td>Business</td>\n",
       "      <td>17</td>\n",
       "      <td>5</td>\n",
       "      <td>12:57:35 PM</td>\n",
       "      <td>17</td>\n",
       "      <td>5</td>\n",
       "      <td>...</td>\n",
       "      <td>5</td>\n",
       "      <td>1:25:37 PM</td>\n",
       "      <td>5</td>\n",
       "      <td>NaN</td>\n",
       "      <td>NaN</td>\n",
       "      <td>-1.272639</td>\n",
       "      <td>36.794723</td>\n",
       "      <td>-1.277007</td>\n",
       "      <td>36.823907</td>\n",
       "      <td>Rider_Id_868</td>\n",
       "    </tr>\n",
       "    <tr>\n",
       "      <th>2</th>\n",
       "      <td>Order_No_768</td>\n",
       "      <td>User_Id_2154</td>\n",
       "      <td>Bike</td>\n",
       "      <td>3</td>\n",
       "      <td>Business</td>\n",
       "      <td>27</td>\n",
       "      <td>4</td>\n",
       "      <td>11:08:14 AM</td>\n",
       "      <td>27</td>\n",
       "      <td>4</td>\n",
       "      <td>...</td>\n",
       "      <td>4</td>\n",
       "      <td>11:57:54 AM</td>\n",
       "      <td>5</td>\n",
       "      <td>22.8</td>\n",
       "      <td>NaN</td>\n",
       "      <td>-1.290894</td>\n",
       "      <td>36.822971</td>\n",
       "      <td>-1.276574</td>\n",
       "      <td>36.851365</td>\n",
       "      <td>Rider_Id_26</td>\n",
       "    </tr>\n",
       "    <tr>\n",
       "      <th>3</th>\n",
       "      <td>Order_No_15332</td>\n",
       "      <td>User_Id_2910</td>\n",
       "      <td>Bike</td>\n",
       "      <td>3</td>\n",
       "      <td>Business</td>\n",
       "      <td>17</td>\n",
       "      <td>1</td>\n",
       "      <td>1:51:35 PM</td>\n",
       "      <td>17</td>\n",
       "      <td>1</td>\n",
       "      <td>...</td>\n",
       "      <td>1</td>\n",
       "      <td>2:16:52 PM</td>\n",
       "      <td>5</td>\n",
       "      <td>24.5</td>\n",
       "      <td>NaN</td>\n",
       "      <td>-1.290503</td>\n",
       "      <td>36.809646</td>\n",
       "      <td>-1.303382</td>\n",
       "      <td>36.790658</td>\n",
       "      <td>Rider_Id_685</td>\n",
       "    </tr>\n",
       "    <tr>\n",
       "      <th>4</th>\n",
       "      <td>Order_No_21373</td>\n",
       "      <td>User_Id_1205</td>\n",
       "      <td>Bike</td>\n",
       "      <td>3</td>\n",
       "      <td>Business</td>\n",
       "      <td>11</td>\n",
       "      <td>2</td>\n",
       "      <td>11:30:28 AM</td>\n",
       "      <td>11</td>\n",
       "      <td>2</td>\n",
       "      <td>...</td>\n",
       "      <td>2</td>\n",
       "      <td>11:56:04 AM</td>\n",
       "      <td>6</td>\n",
       "      <td>24.4</td>\n",
       "      <td>NaN</td>\n",
       "      <td>-1.281081</td>\n",
       "      <td>36.814423</td>\n",
       "      <td>-1.266467</td>\n",
       "      <td>36.792161</td>\n",
       "      <td>Rider_Id_858</td>\n",
       "    </tr>\n",
       "  </tbody>\n",
       "</table>\n",
       "<p>5 rows × 25 columns</p>\n",
       "</div>"
      ],
      "text/plain": [
       "         Order No       User Id Vehicle Type  Platform Type  \\\n",
       "0  Order_No_19248  User_Id_3355         Bike              3   \n",
       "1  Order_No_12736  User_Id_3647         Bike              3   \n",
       "2    Order_No_768  User_Id_2154         Bike              3   \n",
       "3  Order_No_15332  User_Id_2910         Bike              3   \n",
       "4  Order_No_21373  User_Id_1205         Bike              3   \n",
       "\n",
       "  Personal or Business  Placement - Day of Month  \\\n",
       "0             Business                        27   \n",
       "1             Business                        17   \n",
       "2             Business                        27   \n",
       "3             Business                        17   \n",
       "4             Business                        11   \n",
       "\n",
       "   Placement - Weekday (Mo = 1) Placement - Time  Confirmation - Day of Month  \\\n",
       "0                             3       4:44:10 PM                           27   \n",
       "1                             5      12:57:35 PM                           17   \n",
       "2                             4      11:08:14 AM                           27   \n",
       "3                             1       1:51:35 PM                           17   \n",
       "4                             2      11:30:28 AM                           11   \n",
       "\n",
       "   Confirmation - Weekday (Mo = 1)  ... Pickup - Weekday (Mo = 1)  \\\n",
       "0                                3  ...                         3   \n",
       "1                                5  ...                         5   \n",
       "2                                4  ...                         4   \n",
       "3                                1  ...                         1   \n",
       "4                                2  ...                         2   \n",
       "\n",
       "   Pickup - Time  Distance (KM) Temperature  Precipitation in millimeters  \\\n",
       "0     5:06:47 PM              8         NaN                           NaN   \n",
       "1     1:25:37 PM              5         NaN                           NaN   \n",
       "2    11:57:54 AM              5        22.8                           NaN   \n",
       "3     2:16:52 PM              5        24.5                           NaN   \n",
       "4    11:56:04 AM              6        24.4                           NaN   \n",
       "\n",
       "   Pickup Lat Pickup Long  Destination Lat  Destination Long      Rider Id  \n",
       "0   -1.333275   36.870815        -1.305249         36.822390  Rider_Id_192  \n",
       "1   -1.272639   36.794723        -1.277007         36.823907  Rider_Id_868  \n",
       "2   -1.290894   36.822971        -1.276574         36.851365   Rider_Id_26  \n",
       "3   -1.290503   36.809646        -1.303382         36.790658  Rider_Id_685  \n",
       "4   -1.281081   36.814423        -1.266467         36.792161  Rider_Id_858  \n",
       "\n",
       "[5 rows x 25 columns]"
      ]
     },
     "execution_count": 118,
     "metadata": {},
     "output_type": "execute_result"
    }
   ],
   "source": [
    "# View of the first 5 columns of the test datatset.\n",
    "test.head()"
   ]
  },
  {
   "cell_type": "code",
   "execution_count": 119,
   "metadata": {},
   "outputs": [
    {
     "data": {
      "text/plain": [
       "(7068, 25)"
      ]
     },
     "execution_count": 119,
     "metadata": {},
     "output_type": "execute_result"
    }
   ],
   "source": [
    "# The (rows ,columns) of the test dataframe:\n",
    "test.shape"
   ]
  },
  {
   "cell_type": "code",
   "execution_count": 120,
   "metadata": {},
   "outputs": [
    {
     "name": "stdout",
     "output_type": "stream",
     "text": [
      "<class 'pandas.core.frame.DataFrame'>\n",
      "RangeIndex: 7068 entries, 0 to 7067\n",
      "Data columns (total 25 columns):\n",
      " #   Column                                Non-Null Count  Dtype  \n",
      "---  ------                                --------------  -----  \n",
      " 0   Order No                              7068 non-null   object \n",
      " 1   User Id                               7068 non-null   object \n",
      " 2   Vehicle Type                          7068 non-null   object \n",
      " 3   Platform Type                         7068 non-null   int64  \n",
      " 4   Personal or Business                  7068 non-null   object \n",
      " 5   Placement - Day of Month              7068 non-null   int64  \n",
      " 6   Placement - Weekday (Mo = 1)          7068 non-null   int64  \n",
      " 7   Placement - Time                      7068 non-null   object \n",
      " 8   Confirmation - Day of Month           7068 non-null   int64  \n",
      " 9   Confirmation - Weekday (Mo = 1)       7068 non-null   int64  \n",
      " 10  Confirmation - Time                   7068 non-null   object \n",
      " 11  Arrival at Pickup - Day of Month      7068 non-null   int64  \n",
      " 12  Arrival at Pickup - Weekday (Mo = 1)  7068 non-null   int64  \n",
      " 13  Arrival at Pickup - Time              7068 non-null   object \n",
      " 14  Pickup - Day of Month                 7068 non-null   int64  \n",
      " 15  Pickup - Weekday (Mo = 1)             7068 non-null   int64  \n",
      " 16  Pickup - Time                         7068 non-null   object \n",
      " 17  Distance (KM)                         7068 non-null   int64  \n",
      " 18  Temperature                           5631 non-null   float64\n",
      " 19  Precipitation in millimeters          199 non-null    float64\n",
      " 20  Pickup Lat                            7068 non-null   float64\n",
      " 21  Pickup Long                           7068 non-null   float64\n",
      " 22  Destination Lat                       7068 non-null   float64\n",
      " 23  Destination Long                      7068 non-null   float64\n",
      " 24  Rider Id                              7068 non-null   object \n",
      "dtypes: float64(6), int64(10), object(9)\n",
      "memory usage: 1.3+ MB\n"
     ]
    }
   ],
   "source": [
    "# The quick overview of the test dataset:\n",
    "test.info()"
   ]
  },
  {
   "cell_type": "code",
   "execution_count": 121,
   "metadata": {
    "colab": {
     "base_uri": "https://localhost:8080/",
     "height": 195
    },
    "id": "VcKfuW8UprD0",
    "outputId": "63d4f600-20d2-4a46-a20c-b7754d19e95b",
    "scrolled": true
   },
   "outputs": [
    {
     "data": {
      "text/html": [
       "<div>\n",
       "<style scoped>\n",
       "    .dataframe tbody tr th:only-of-type {\n",
       "        vertical-align: middle;\n",
       "    }\n",
       "\n",
       "    .dataframe tbody tr th {\n",
       "        vertical-align: top;\n",
       "    }\n",
       "\n",
       "    .dataframe thead th {\n",
       "        text-align: right;\n",
       "    }\n",
       "</style>\n",
       "<table border=\"1\" class=\"dataframe\">\n",
       "  <thead>\n",
       "    <tr style=\"text-align: right;\">\n",
       "      <th></th>\n",
       "      <th>Rider Id</th>\n",
       "      <th>No_Of_Orders</th>\n",
       "      <th>Age</th>\n",
       "      <th>Average_Rating</th>\n",
       "      <th>No_of_Ratings</th>\n",
       "    </tr>\n",
       "  </thead>\n",
       "  <tbody>\n",
       "    <tr>\n",
       "      <th>0</th>\n",
       "      <td>Rider_Id_396</td>\n",
       "      <td>2946</td>\n",
       "      <td>2298</td>\n",
       "      <td>14.0</td>\n",
       "      <td>1159</td>\n",
       "    </tr>\n",
       "    <tr>\n",
       "      <th>1</th>\n",
       "      <td>Rider_Id_479</td>\n",
       "      <td>360</td>\n",
       "      <td>951</td>\n",
       "      <td>13.5</td>\n",
       "      <td>176</td>\n",
       "    </tr>\n",
       "    <tr>\n",
       "      <th>2</th>\n",
       "      <td>Rider_Id_648</td>\n",
       "      <td>1746</td>\n",
       "      <td>821</td>\n",
       "      <td>14.3</td>\n",
       "      <td>466</td>\n",
       "    </tr>\n",
       "    <tr>\n",
       "      <th>3</th>\n",
       "      <td>Rider_Id_753</td>\n",
       "      <td>314</td>\n",
       "      <td>980</td>\n",
       "      <td>12.5</td>\n",
       "      <td>75</td>\n",
       "    </tr>\n",
       "    <tr>\n",
       "      <th>4</th>\n",
       "      <td>Rider_Id_335</td>\n",
       "      <td>536</td>\n",
       "      <td>1113</td>\n",
       "      <td>13.7</td>\n",
       "      <td>156</td>\n",
       "    </tr>\n",
       "  </tbody>\n",
       "</table>\n",
       "</div>"
      ],
      "text/plain": [
       "       Rider Id  No_Of_Orders   Age  Average_Rating  No_of_Ratings\n",
       "0  Rider_Id_396          2946  2298            14.0           1159\n",
       "1  Rider_Id_479           360   951            13.5            176\n",
       "2  Rider_Id_648          1746   821            14.3            466\n",
       "3  Rider_Id_753           314   980            12.5             75\n",
       "4  Rider_Id_335           536  1113            13.7            156"
      ]
     },
     "execution_count": 121,
     "metadata": {},
     "output_type": "execute_result"
    }
   ],
   "source": [
    "# View of the first 5 columns of the riders datatset.\n",
    "riders.head()"
   ]
  },
  {
   "cell_type": "code",
   "execution_count": 122,
   "metadata": {
    "colab": {
     "base_uri": "https://localhost:8080/",
     "height": 34
    },
    "id": "u49Hy_TSprD7",
    "outputId": "746bc94a-d9cf-420a-9f58-92cca26259c6"
   },
   "outputs": [
    {
     "data": {
      "text/plain": [
       "(960, 5)"
      ]
     },
     "execution_count": 122,
     "metadata": {},
     "output_type": "execute_result"
    }
   ],
   "source": [
    "# The (rows ,columns) of the riders dataframe:\n",
    "riders.shape"
   ]
  },
  {
   "cell_type": "code",
   "execution_count": 123,
   "metadata": {},
   "outputs": [
    {
     "name": "stdout",
     "output_type": "stream",
     "text": [
      "<class 'pandas.core.frame.DataFrame'>\n",
      "RangeIndex: 960 entries, 0 to 959\n",
      "Data columns (total 5 columns):\n",
      " #   Column          Non-Null Count  Dtype  \n",
      "---  ------          --------------  -----  \n",
      " 0   Rider Id        960 non-null    object \n",
      " 1   No_Of_Orders    960 non-null    int64  \n",
      " 2   Age             960 non-null    int64  \n",
      " 3   Average_Rating  960 non-null    float64\n",
      " 4   No_of_Ratings   960 non-null    int64  \n",
      "dtypes: float64(1), int64(3), object(1)\n",
      "memory usage: 37.6+ KB\n"
     ]
    }
   ],
   "source": [
    "# The quick overview of the test dataset:\n",
    "riders.info()"
   ]
  },
  {
   "cell_type": "markdown",
   "metadata": {
    "id": "OgQY6fn-prET"
   },
   "source": [
    "**Key observations:**\n",
    "- The target column for modelling is the the \"Time from Pickup to Arrival\", which is rightfully in the train dataset.\n",
    "- The train dataset has four extra columns, compared to the 25 that are in the test dataset. The four extra columns are: \n",
    "\n",
    "    1. Arrival at Destination - Day of Month\n",
    "    2. Arrival at Destination - Weekday (Mo = 1)\n",
    "    3. Arrival at Destination - Time\n",
    "    4. Time from Pickup to Arrival\n",
    "    \n",
    "  One of the four is the target column as expected (i.e. \"Time from Pickup to Arrival\"), we may have to drop the other three.\n",
    "- Riders dataset is not linked to the target variable, it will need to joined to train and test data by \"Rider Id\" column which is common in all three datasets.\n",
    "- Train dataset has most observations at 21 201, followed by train data at 7 068, and riders with 960.\n",
    "- There are missing values evident in the \"Temperature\" and \"Precipitation in millimeters\" columns, we will have to search and handle missing data. \n",
    "-  Investigate the column name, datatype  and missing values in each column"
   ]
  },
  {
   "cell_type": "markdown",
   "metadata": {},
   "source": [
    "**Checking for null values**"
   ]
  },
  {
   "cell_type": "code",
   "execution_count": 124,
   "metadata": {},
   "outputs": [
    {
     "data": {
      "text/plain": [
       "Order No                                         0\n",
       "User Id                                          0\n",
       "Vehicle Type                                     0\n",
       "Platform Type                                    0\n",
       "Personal or Business                             0\n",
       "Placement - Day of Month                         0\n",
       "Placement - Weekday (Mo = 1)                     0\n",
       "Placement - Time                                 0\n",
       "Confirmation - Day of Month                      0\n",
       "Confirmation - Weekday (Mo = 1)                  0\n",
       "Confirmation - Time                              0\n",
       "Arrival at Pickup - Day of Month                 0\n",
       "Arrival at Pickup - Weekday (Mo = 1)             0\n",
       "Arrival at Pickup - Time                         0\n",
       "Pickup - Day of Month                            0\n",
       "Pickup - Weekday (Mo = 1)                        0\n",
       "Pickup - Time                                    0\n",
       "Arrival at Destination - Day of Month            0\n",
       "Arrival at Destination - Weekday (Mo = 1)        0\n",
       "Arrival at Destination - Time                    0\n",
       "Distance (KM)                                    0\n",
       "Temperature                                   4366\n",
       "Precipitation in millimeters                 20649\n",
       "Pickup Lat                                       0\n",
       "Pickup Long                                      0\n",
       "Destination Lat                                  0\n",
       "Destination Long                                 0\n",
       "Rider Id                                         0\n",
       "Time from Pickup to Arrival                      0\n",
       "dtype: int64"
      ]
     },
     "execution_count": 124,
     "metadata": {},
     "output_type": "execute_result"
    }
   ],
   "source": [
    "# Check null values from the train data\n",
    "train.isnull().sum()"
   ]
  },
  {
   "cell_type": "code",
   "execution_count": 125,
   "metadata": {
    "scrolled": true
   },
   "outputs": [
    {
     "data": {
      "text/plain": [
       "Order No                                   0\n",
       "User Id                                    0\n",
       "Vehicle Type                               0\n",
       "Platform Type                              0\n",
       "Personal or Business                       0\n",
       "Placement - Day of Month                   0\n",
       "Placement - Weekday (Mo = 1)               0\n",
       "Placement - Time                           0\n",
       "Confirmation - Day of Month                0\n",
       "Confirmation - Weekday (Mo = 1)            0\n",
       "Confirmation - Time                        0\n",
       "Arrival at Pickup - Day of Month           0\n",
       "Arrival at Pickup - Weekday (Mo = 1)       0\n",
       "Arrival at Pickup - Time                   0\n",
       "Pickup - Day of Month                      0\n",
       "Pickup - Weekday (Mo = 1)                  0\n",
       "Pickup - Time                              0\n",
       "Distance (KM)                              0\n",
       "Temperature                             1437\n",
       "Precipitation in millimeters            6869\n",
       "Pickup Lat                                 0\n",
       "Pickup Long                                0\n",
       "Destination Lat                            0\n",
       "Destination Long                           0\n",
       "Rider Id                                   0\n",
       "dtype: int64"
      ]
     },
     "execution_count": 125,
     "metadata": {},
     "output_type": "execute_result"
    }
   ],
   "source": [
    "# Check null values from the test data\n",
    "test.isnull().sum()"
   ]
  },
  {
   "cell_type": "code",
   "execution_count": 126,
   "metadata": {
    "scrolled": true
   },
   "outputs": [
    {
     "data": {
      "text/plain": [
       "Rider Id          0\n",
       "No_Of_Orders      0\n",
       "Age               0\n",
       "Average_Rating    0\n",
       "No_of_Ratings     0\n",
       "dtype: int64"
      ]
     },
     "execution_count": 126,
     "metadata": {},
     "output_type": "execute_result"
    }
   ],
   "source": [
    "# Check null values from the riders data\n",
    "riders.isnull().sum()"
   ]
  },
  {
   "cell_type": "markdown",
   "metadata": {},
   "source": [
    "It is worth noting that the features Temperature and Precipitation in millimeters in both the data of train and test have missing values. When preprocessing the data it will be crucial to take note of that and either remove the columns of fill the missing values. "
   ]
  },
  {
   "cell_type": "markdown",
   "metadata": {},
   "source": [
    "**Now let us see how many unique values are present in each column**"
   ]
  },
  {
   "cell_type": "code",
   "execution_count": 127,
   "metadata": {
    "scrolled": true
   },
   "outputs": [
    {
     "name": "stdout",
     "output_type": "stream",
     "text": [
      "Unique values in    Order No :21201\n",
      "Unique values in    User Id :3186\n",
      "Unique values in    Vehicle Type :1\n",
      "Unique values in    Platform Type :4\n",
      "Unique values in    Personal or Business :2\n",
      "Unique values in    Placement - Day of Month :31\n",
      "Unique values in    Placement - Weekday (Mo = 1) :7\n",
      "Unique values in    Placement - Time :15686\n",
      "Unique values in    Confirmation - Day of Month :31\n",
      "Unique values in    Confirmation - Weekday (Mo = 1) :7\n",
      "Unique values in    Confirmation - Time :15742\n",
      "Unique values in    Arrival at Pickup - Day of Month :31\n",
      "Unique values in    Arrival at Pickup - Weekday (Mo = 1) :7\n",
      "Unique values in    Arrival at Pickup - Time :15767\n",
      "Unique values in    Pickup - Day of Month :31\n",
      "Unique values in    Pickup - Weekday (Mo = 1) :7\n",
      "Unique values in    Pickup - Time :15690\n",
      "Unique values in    Arrival at Destination - Day of Month :31\n",
      "Unique values in    Arrival at Destination - Weekday (Mo = 1) :7\n",
      "Unique values in    Arrival at Destination - Time :15725\n",
      "Unique values in    Distance (KM) :45\n",
      "Unique values in    Temperature :188\n",
      "Unique values in    Precipitation in millimeters :54\n",
      "Unique values in    Pickup Lat :3666\n",
      "Unique values in    Pickup Long :3656\n",
      "Unique values in    Destination Lat :5302\n",
      "Unique values in    Destination Long :5267\n",
      "Unique values in    Rider Id :924\n",
      "Unique values in    Time from Pickup to Arrival :4067\n"
     ]
    }
   ],
   "source": [
    "# The number of unique values in each of the column of the dataset.\n",
    "col_train = train.columns\n",
    "for col in col_train: \n",
    "    print(f'Unique values in    {col} :{train[col].nunique()}')\n"
   ]
  },
  {
   "cell_type": "code",
   "execution_count": 128,
   "metadata": {},
   "outputs": [
    {
     "name": "stdout",
     "output_type": "stream",
     "text": [
      "Unique values in    Order No :7068\n",
      "Unique values in    User Id :1617\n",
      "Unique values in    Vehicle Type :1\n",
      "Unique values in    Platform Type :4\n",
      "Unique values in    Personal or Business :2\n",
      "Unique values in    Placement - Day of Month :31\n",
      "Unique values in    Placement - Weekday (Mo = 1) :7\n",
      "Unique values in    Placement - Time :6336\n",
      "Unique values in    Confirmation - Day of Month :31\n",
      "Unique values in    Confirmation - Weekday (Mo = 1) :7\n",
      "Unique values in    Confirmation - Time :6388\n",
      "Unique values in    Arrival at Pickup - Day of Month :31\n",
      "Unique values in    Arrival at Pickup - Weekday (Mo = 1) :7\n",
      "Unique values in    Arrival at Pickup - Time :6374\n",
      "Unique values in    Pickup - Day of Month :31\n",
      "Unique values in    Pickup - Weekday (Mo = 1) :7\n",
      "Unique values in    Pickup - Time :6361\n",
      "Unique values in    Distance (KM) :41\n",
      "Unique values in    Temperature :182\n",
      "Unique values in    Precipitation in millimeters :43\n",
      "Unique values in    Pickup Lat :1863\n",
      "Unique values in    Pickup Long :1858\n",
      "Unique values in    Destination Lat :2628\n",
      "Unique values in    Destination Long :2619\n",
      "Unique values in    Rider Id :822\n"
     ]
    }
   ],
   "source": [
    "# The number of unique values in each of the column of the dataset.\n",
    "col_test = test.columns\n",
    "for col in col_test: \n",
    "    print(f'Unique values in    {col} :{test[col].nunique()}')"
   ]
  },
  {
   "cell_type": "markdown",
   "metadata": {
    "id": "hBqgOOTHprEm"
   },
   "source": [
    "### Evaluating descriptive statistics of the datasets\n",
    "We used the describe.method() to check to view some of the basic statistical details for each of the datasets used in this work. The returned output was transpose to observed the statistics for each feature evaluated. These are the numerical features from the train data which are 19 and the rest of the 10 dataset are non numerical. "
   ]
  },
  {
   "cell_type": "code",
   "execution_count": 129,
   "metadata": {
    "colab": {
     "base_uri": "https://localhost:8080/",
     "height": 166
    },
    "id": "a6Afz87xprEn",
    "outputId": "4a75e48f-bbc8-42e9-81d2-b0def1b0903a"
   },
   "outputs": [
    {
     "data": {
      "text/html": [
       "<div>\n",
       "<style scoped>\n",
       "    .dataframe tbody tr th:only-of-type {\n",
       "        vertical-align: middle;\n",
       "    }\n",
       "\n",
       "    .dataframe tbody tr th {\n",
       "        vertical-align: top;\n",
       "    }\n",
       "\n",
       "    .dataframe thead th {\n",
       "        text-align: right;\n",
       "    }\n",
       "</style>\n",
       "<table border=\"1\" class=\"dataframe\">\n",
       "  <thead>\n",
       "    <tr style=\"text-align: right;\">\n",
       "      <th></th>\n",
       "      <th>count</th>\n",
       "      <th>mean</th>\n",
       "      <th>std</th>\n",
       "      <th>min</th>\n",
       "      <th>25%</th>\n",
       "      <th>50%</th>\n",
       "      <th>75%</th>\n",
       "      <th>max</th>\n",
       "    </tr>\n",
       "  </thead>\n",
       "  <tbody>\n",
       "    <tr>\n",
       "      <th>Platform Type</th>\n",
       "      <td>21201.0</td>\n",
       "      <td>2.752182</td>\n",
       "      <td>0.625178</td>\n",
       "      <td>1.000000</td>\n",
       "      <td>3.000000</td>\n",
       "      <td>3.000000</td>\n",
       "      <td>3.000000</td>\n",
       "      <td>4.000000</td>\n",
       "    </tr>\n",
       "    <tr>\n",
       "      <th>Placement - Day of Month</th>\n",
       "      <td>21201.0</td>\n",
       "      <td>15.653696</td>\n",
       "      <td>8.798916</td>\n",
       "      <td>1.000000</td>\n",
       "      <td>8.000000</td>\n",
       "      <td>15.000000</td>\n",
       "      <td>23.000000</td>\n",
       "      <td>31.000000</td>\n",
       "    </tr>\n",
       "    <tr>\n",
       "      <th>Placement - Weekday (Mo = 1)</th>\n",
       "      <td>21201.0</td>\n",
       "      <td>3.240083</td>\n",
       "      <td>1.567295</td>\n",
       "      <td>1.000000</td>\n",
       "      <td>2.000000</td>\n",
       "      <td>3.000000</td>\n",
       "      <td>5.000000</td>\n",
       "      <td>7.000000</td>\n",
       "    </tr>\n",
       "    <tr>\n",
       "      <th>Confirmation - Day of Month</th>\n",
       "      <td>21201.0</td>\n",
       "      <td>15.653837</td>\n",
       "      <td>8.798886</td>\n",
       "      <td>1.000000</td>\n",
       "      <td>8.000000</td>\n",
       "      <td>15.000000</td>\n",
       "      <td>23.000000</td>\n",
       "      <td>31.000000</td>\n",
       "    </tr>\n",
       "    <tr>\n",
       "      <th>Confirmation - Weekday (Mo = 1)</th>\n",
       "      <td>21201.0</td>\n",
       "      <td>3.240225</td>\n",
       "      <td>1.567228</td>\n",
       "      <td>1.000000</td>\n",
       "      <td>2.000000</td>\n",
       "      <td>3.000000</td>\n",
       "      <td>5.000000</td>\n",
       "      <td>7.000000</td>\n",
       "    </tr>\n",
       "    <tr>\n",
       "      <th>Arrival at Pickup - Day of Month</th>\n",
       "      <td>21201.0</td>\n",
       "      <td>15.653837</td>\n",
       "      <td>8.798886</td>\n",
       "      <td>1.000000</td>\n",
       "      <td>8.000000</td>\n",
       "      <td>15.000000</td>\n",
       "      <td>23.000000</td>\n",
       "      <td>31.000000</td>\n",
       "    </tr>\n",
       "    <tr>\n",
       "      <th>Arrival at Pickup - Weekday (Mo = 1)</th>\n",
       "      <td>21201.0</td>\n",
       "      <td>3.240225</td>\n",
       "      <td>1.567228</td>\n",
       "      <td>1.000000</td>\n",
       "      <td>2.000000</td>\n",
       "      <td>3.000000</td>\n",
       "      <td>5.000000</td>\n",
       "      <td>7.000000</td>\n",
       "    </tr>\n",
       "    <tr>\n",
       "      <th>Pickup - Day of Month</th>\n",
       "      <td>21201.0</td>\n",
       "      <td>15.653837</td>\n",
       "      <td>8.798886</td>\n",
       "      <td>1.000000</td>\n",
       "      <td>8.000000</td>\n",
       "      <td>15.000000</td>\n",
       "      <td>23.000000</td>\n",
       "      <td>31.000000</td>\n",
       "    </tr>\n",
       "    <tr>\n",
       "      <th>Pickup - Weekday (Mo = 1)</th>\n",
       "      <td>21201.0</td>\n",
       "      <td>3.240225</td>\n",
       "      <td>1.567228</td>\n",
       "      <td>1.000000</td>\n",
       "      <td>2.000000</td>\n",
       "      <td>3.000000</td>\n",
       "      <td>5.000000</td>\n",
       "      <td>7.000000</td>\n",
       "    </tr>\n",
       "    <tr>\n",
       "      <th>Arrival at Destination - Day of Month</th>\n",
       "      <td>21201.0</td>\n",
       "      <td>15.653837</td>\n",
       "      <td>8.798886</td>\n",
       "      <td>1.000000</td>\n",
       "      <td>8.000000</td>\n",
       "      <td>15.000000</td>\n",
       "      <td>23.000000</td>\n",
       "      <td>31.000000</td>\n",
       "    </tr>\n",
       "    <tr>\n",
       "      <th>Arrival at Destination - Weekday (Mo = 1)</th>\n",
       "      <td>21201.0</td>\n",
       "      <td>3.240225</td>\n",
       "      <td>1.567228</td>\n",
       "      <td>1.000000</td>\n",
       "      <td>2.000000</td>\n",
       "      <td>3.000000</td>\n",
       "      <td>5.000000</td>\n",
       "      <td>7.000000</td>\n",
       "    </tr>\n",
       "    <tr>\n",
       "      <th>Distance (KM)</th>\n",
       "      <td>21201.0</td>\n",
       "      <td>9.506533</td>\n",
       "      <td>5.668963</td>\n",
       "      <td>1.000000</td>\n",
       "      <td>5.000000</td>\n",
       "      <td>8.000000</td>\n",
       "      <td>13.000000</td>\n",
       "      <td>49.000000</td>\n",
       "    </tr>\n",
       "    <tr>\n",
       "      <th>Temperature</th>\n",
       "      <td>16835.0</td>\n",
       "      <td>23.258889</td>\n",
       "      <td>3.615768</td>\n",
       "      <td>11.200000</td>\n",
       "      <td>20.600000</td>\n",
       "      <td>23.500000</td>\n",
       "      <td>26.000000</td>\n",
       "      <td>32.100000</td>\n",
       "    </tr>\n",
       "    <tr>\n",
       "      <th>Precipitation in millimeters</th>\n",
       "      <td>552.0</td>\n",
       "      <td>7.905797</td>\n",
       "      <td>17.089971</td>\n",
       "      <td>0.100000</td>\n",
       "      <td>1.075000</td>\n",
       "      <td>2.900000</td>\n",
       "      <td>4.900000</td>\n",
       "      <td>99.100000</td>\n",
       "    </tr>\n",
       "    <tr>\n",
       "      <th>Pickup Lat</th>\n",
       "      <td>21201.0</td>\n",
       "      <td>-1.281470</td>\n",
       "      <td>0.030507</td>\n",
       "      <td>-1.438302</td>\n",
       "      <td>-1.300921</td>\n",
       "      <td>-1.279395</td>\n",
       "      <td>-1.257147</td>\n",
       "      <td>-1.147170</td>\n",
       "    </tr>\n",
       "    <tr>\n",
       "      <th>Pickup Long</th>\n",
       "      <td>21201.0</td>\n",
       "      <td>36.811264</td>\n",
       "      <td>0.037473</td>\n",
       "      <td>36.653621</td>\n",
       "      <td>36.784605</td>\n",
       "      <td>36.807040</td>\n",
       "      <td>36.829741</td>\n",
       "      <td>36.991046</td>\n",
       "    </tr>\n",
       "    <tr>\n",
       "      <th>Destination Lat</th>\n",
       "      <td>21201.0</td>\n",
       "      <td>-1.282581</td>\n",
       "      <td>0.034824</td>\n",
       "      <td>-1.430298</td>\n",
       "      <td>-1.301201</td>\n",
       "      <td>-1.284382</td>\n",
       "      <td>-1.261177</td>\n",
       "      <td>-1.030225</td>\n",
       "    </tr>\n",
       "    <tr>\n",
       "      <th>Destination Long</th>\n",
       "      <td>21201.0</td>\n",
       "      <td>36.811220</td>\n",
       "      <td>0.044721</td>\n",
       "      <td>36.606594</td>\n",
       "      <td>36.785661</td>\n",
       "      <td>36.808002</td>\n",
       "      <td>36.829477</td>\n",
       "      <td>37.016779</td>\n",
       "    </tr>\n",
       "    <tr>\n",
       "      <th>Time from Pickup to Arrival</th>\n",
       "      <td>21201.0</td>\n",
       "      <td>1556.920947</td>\n",
       "      <td>987.270788</td>\n",
       "      <td>1.000000</td>\n",
       "      <td>882.000000</td>\n",
       "      <td>1369.000000</td>\n",
       "      <td>2040.000000</td>\n",
       "      <td>7883.000000</td>\n",
       "    </tr>\n",
       "  </tbody>\n",
       "</table>\n",
       "</div>"
      ],
      "text/plain": [
       "                                             count         mean         std  \\\n",
       "Platform Type                              21201.0     2.752182    0.625178   \n",
       "Placement - Day of Month                   21201.0    15.653696    8.798916   \n",
       "Placement - Weekday (Mo = 1)               21201.0     3.240083    1.567295   \n",
       "Confirmation - Day of Month                21201.0    15.653837    8.798886   \n",
       "Confirmation - Weekday (Mo = 1)            21201.0     3.240225    1.567228   \n",
       "Arrival at Pickup - Day of Month           21201.0    15.653837    8.798886   \n",
       "Arrival at Pickup - Weekday (Mo = 1)       21201.0     3.240225    1.567228   \n",
       "Pickup - Day of Month                      21201.0    15.653837    8.798886   \n",
       "Pickup - Weekday (Mo = 1)                  21201.0     3.240225    1.567228   \n",
       "Arrival at Destination - Day of Month      21201.0    15.653837    8.798886   \n",
       "Arrival at Destination - Weekday (Mo = 1)  21201.0     3.240225    1.567228   \n",
       "Distance (KM)                              21201.0     9.506533    5.668963   \n",
       "Temperature                                16835.0    23.258889    3.615768   \n",
       "Precipitation in millimeters                 552.0     7.905797   17.089971   \n",
       "Pickup Lat                                 21201.0    -1.281470    0.030507   \n",
       "Pickup Long                                21201.0    36.811264    0.037473   \n",
       "Destination Lat                            21201.0    -1.282581    0.034824   \n",
       "Destination Long                           21201.0    36.811220    0.044721   \n",
       "Time from Pickup to Arrival                21201.0  1556.920947  987.270788   \n",
       "\n",
       "                                                 min         25%          50%  \\\n",
       "Platform Type                               1.000000    3.000000     3.000000   \n",
       "Placement - Day of Month                    1.000000    8.000000    15.000000   \n",
       "Placement - Weekday (Mo = 1)                1.000000    2.000000     3.000000   \n",
       "Confirmation - Day of Month                 1.000000    8.000000    15.000000   \n",
       "Confirmation - Weekday (Mo = 1)             1.000000    2.000000     3.000000   \n",
       "Arrival at Pickup - Day of Month            1.000000    8.000000    15.000000   \n",
       "Arrival at Pickup - Weekday (Mo = 1)        1.000000    2.000000     3.000000   \n",
       "Pickup - Day of Month                       1.000000    8.000000    15.000000   \n",
       "Pickup - Weekday (Mo = 1)                   1.000000    2.000000     3.000000   \n",
       "Arrival at Destination - Day of Month       1.000000    8.000000    15.000000   \n",
       "Arrival at Destination - Weekday (Mo = 1)   1.000000    2.000000     3.000000   \n",
       "Distance (KM)                               1.000000    5.000000     8.000000   \n",
       "Temperature                                11.200000   20.600000    23.500000   \n",
       "Precipitation in millimeters                0.100000    1.075000     2.900000   \n",
       "Pickup Lat                                 -1.438302   -1.300921    -1.279395   \n",
       "Pickup Long                                36.653621   36.784605    36.807040   \n",
       "Destination Lat                            -1.430298   -1.301201    -1.284382   \n",
       "Destination Long                           36.606594   36.785661    36.808002   \n",
       "Time from Pickup to Arrival                 1.000000  882.000000  1369.000000   \n",
       "\n",
       "                                                   75%          max  \n",
       "Platform Type                                 3.000000     4.000000  \n",
       "Placement - Day of Month                     23.000000    31.000000  \n",
       "Placement - Weekday (Mo = 1)                  5.000000     7.000000  \n",
       "Confirmation - Day of Month                  23.000000    31.000000  \n",
       "Confirmation - Weekday (Mo = 1)               5.000000     7.000000  \n",
       "Arrival at Pickup - Day of Month             23.000000    31.000000  \n",
       "Arrival at Pickup - Weekday (Mo = 1)          5.000000     7.000000  \n",
       "Pickup - Day of Month                        23.000000    31.000000  \n",
       "Pickup - Weekday (Mo = 1)                     5.000000     7.000000  \n",
       "Arrival at Destination - Day of Month        23.000000    31.000000  \n",
       "Arrival at Destination - Weekday (Mo = 1)     5.000000     7.000000  \n",
       "Distance (KM)                                13.000000    49.000000  \n",
       "Temperature                                  26.000000    32.100000  \n",
       "Precipitation in millimeters                  4.900000    99.100000  \n",
       "Pickup Lat                                   -1.257147    -1.147170  \n",
       "Pickup Long                                  36.829741    36.991046  \n",
       "Destination Lat                              -1.261177    -1.030225  \n",
       "Destination Long                             36.829477    37.016779  \n",
       "Time from Pickup to Arrival                2040.000000  7883.000000  "
      ]
     },
     "execution_count": 129,
     "metadata": {},
     "output_type": "execute_result"
    }
   ],
   "source": [
    "# calling describe method on the train dataset and transposing it when displaying. \n",
    "train.describe().transpose()"
   ]
  },
  {
   "cell_type": "code",
   "execution_count": 130,
   "metadata": {
    "colab": {
     "base_uri": "https://localhost:8080/",
     "height": 610
    },
    "id": "WPMP7d_wprEu",
    "outputId": "0142878a-05ae-47bc-f370-9749f827d224"
   },
   "outputs": [
    {
     "data": {
      "text/html": [
       "<div>\n",
       "<style scoped>\n",
       "    .dataframe tbody tr th:only-of-type {\n",
       "        vertical-align: middle;\n",
       "    }\n",
       "\n",
       "    .dataframe tbody tr th {\n",
       "        vertical-align: top;\n",
       "    }\n",
       "\n",
       "    .dataframe thead th {\n",
       "        text-align: right;\n",
       "    }\n",
       "</style>\n",
       "<table border=\"1\" class=\"dataframe\">\n",
       "  <thead>\n",
       "    <tr style=\"text-align: right;\">\n",
       "      <th></th>\n",
       "      <th>count</th>\n",
       "      <th>mean</th>\n",
       "      <th>std</th>\n",
       "      <th>min</th>\n",
       "      <th>25%</th>\n",
       "      <th>50%</th>\n",
       "      <th>75%</th>\n",
       "      <th>max</th>\n",
       "    </tr>\n",
       "  </thead>\n",
       "  <tbody>\n",
       "    <tr>\n",
       "      <th>No_Of_Orders</th>\n",
       "      <td>960.0</td>\n",
       "      <td>1864.851042</td>\n",
       "      <td>1880.337785</td>\n",
       "      <td>2.0</td>\n",
       "      <td>261.75</td>\n",
       "      <td>1475.5</td>\n",
       "      <td>2847.25</td>\n",
       "      <td>9756.0</td>\n",
       "    </tr>\n",
       "    <tr>\n",
       "      <th>Age</th>\n",
       "      <td>960.0</td>\n",
       "      <td>1200.234375</td>\n",
       "      <td>810.930171</td>\n",
       "      <td>96.0</td>\n",
       "      <td>478.25</td>\n",
       "      <td>1021.0</td>\n",
       "      <td>1891.50</td>\n",
       "      <td>3764.0</td>\n",
       "    </tr>\n",
       "    <tr>\n",
       "      <th>Average_Rating</th>\n",
       "      <td>960.0</td>\n",
       "      <td>13.412604</td>\n",
       "      <td>2.675794</td>\n",
       "      <td>0.0</td>\n",
       "      <td>13.50</td>\n",
       "      <td>14.0</td>\n",
       "      <td>14.30</td>\n",
       "      <td>15.2</td>\n",
       "    </tr>\n",
       "    <tr>\n",
       "      <th>No_of_Ratings</th>\n",
       "      <td>960.0</td>\n",
       "      <td>427.983333</td>\n",
       "      <td>486.957931</td>\n",
       "      <td>0.0</td>\n",
       "      <td>30.00</td>\n",
       "      <td>223.0</td>\n",
       "      <td>678.75</td>\n",
       "      <td>2298.0</td>\n",
       "    </tr>\n",
       "  </tbody>\n",
       "</table>\n",
       "</div>"
      ],
      "text/plain": [
       "                count         mean          std   min     25%     50%  \\\n",
       "No_Of_Orders    960.0  1864.851042  1880.337785   2.0  261.75  1475.5   \n",
       "Age             960.0  1200.234375   810.930171  96.0  478.25  1021.0   \n",
       "Average_Rating  960.0    13.412604     2.675794   0.0   13.50    14.0   \n",
       "No_of_Ratings   960.0   427.983333   486.957931   0.0   30.00   223.0   \n",
       "\n",
       "                    75%     max  \n",
       "No_Of_Orders    2847.25  9756.0  \n",
       "Age             1891.50  3764.0  \n",
       "Average_Rating    14.30    15.2  \n",
       "No_of_Ratings    678.75  2298.0  "
      ]
     },
     "execution_count": 130,
     "metadata": {},
     "output_type": "execute_result"
    }
   ],
   "source": [
    "# calling describe method on the riders dataset and transposing it when displaying. \n",
    "riders.describe().transpose()"
   ]
  },
  {
   "cell_type": "markdown",
   "metadata": {
    "id": "jP_0B9_nprE5"
   },
   "source": [
    "#### Observations:\n",
    "- The notable high difference between the 75th precentile and the max value suggests the presence of outliers [e.g. \"No_Of_Orders\" and \"No_Of_Ratings\" in the riders dataset]\n",
    "- Mean, median and standard deviation vary significantly across all columns.\n"
   ]
  },
  {
   "cell_type": "markdown",
   "metadata": {},
   "source": [
    "# EDA for train and test data"
   ]
  },
  {
   "cell_type": "markdown",
   "metadata": {
    "id": "1TBDDQn7prE6"
   },
   "source": [
    "### Explore column-to-column relations \n",
    "To use linear regression for modelling,its necessary to remove features that are not correlated to each other. It is good to get a glimpse of which features are strongly correlated at an expoloatory level. Let's have a look at a display of the correlated features of the train dataset:"
   ]
  },
  {
   "cell_type": "code",
   "execution_count": 134,
   "metadata": {
    "colab": {
     "base_uri": "https://localhost:8080/",
     "height": 485
    },
    "id": "h1TvnPrtprE7",
    "outputId": "f9cbc6e6-4c12-4310-ef2e-945f3e8826ff"
   },
   "outputs": [
    {
     "data": {
      "text/plain": [
       "<matplotlib.axes._subplots.AxesSubplot at 0x23166c64ac8>"
      ]
     },
     "execution_count": 134,
     "metadata": {},
     "output_type": "execute_result"
    }
   ],
   "source": [
    "#plotting heatmap for overall data set before cleaning the data\n",
    "sns.heatmap(train.corr(), square=True, annot = False)"
   ]
  },
  {
   "cell_type": "markdown",
   "metadata": {
    "id": "b9fwSn_qprFD"
   },
   "source": [
    "#### Observations:\n",
    "- It is notable that the target variable `Time from Pickup to Arrival` has a fairly strong positive correlation to `Distance(KM)` at around 50-60%, followed by weakened correlation to other predictor variables. \n"
   ]
  },
  {
   "cell_type": "markdown",
   "metadata": {
    "id": "Ix9nrjINprFE"
   },
   "source": [
    "### Merge riders to test and train data\n",
    "\n",
    "We noticed that the dataset for `riders` and `train` had a common feature named `Rider Id`. To work with the dataset efficiently we merged the two datsets and obtained a new merged dataframe called `merged_train`. The same needs to happen with the `test` data for the model obtained from the train data will be tested on that data. Hence, there there is another merged data called `merged_test`."
   ]
  },
  {
   "cell_type": "code",
   "execution_count": 135,
   "metadata": {
    "id": "NOo1K0vWsgCT"
   },
   "outputs": [],
   "source": [
    "# merging train with riders and test with riders on 'Rider id'\n",
    "merged_train = pd.merge(train, riders, on=\"Rider Id\", how=\"left\").copy()\n",
    "merged_test = pd.merge(test, riders, on=\"Rider Id\", how=\"left\").copy()"
   ]
  },
  {
   "cell_type": "markdown",
   "metadata": {},
   "source": [
    "In evaluating the merged datsets we look at their new shape to note whether the rows are added or not. We can see that the train dataset columns have remained at 21201, whereas, the columns are now 33. On the other hand, the test dataset has 7068 rows and 29 columns. "
   ]
  },
  {
   "cell_type": "code",
   "execution_count": 136,
   "metadata": {
    "colab": {
     "base_uri": "https://localhost:8080/",
     "height": 34
    },
    "id": "w0Aeq0C0Xs6N",
    "outputId": "121137eb-06ca-4003-b543-d515fb414a2d"
   },
   "outputs": [
    {
     "data": {
      "text/plain": [
       "(21201, 33)"
      ]
     },
     "execution_count": 136,
     "metadata": {},
     "output_type": "execute_result"
    }
   ],
   "source": [
    "# The (rows ,columns) of the merged_train dataframe:\n",
    "merged_train.shape"
   ]
  },
  {
   "cell_type": "code",
   "execution_count": 137,
   "metadata": {
    "colab": {
     "base_uri": "https://localhost:8080/",
     "height": 34
    },
    "id": "lPnw7b8JZsY7",
    "outputId": "2f8ecb6c-07a8-4f1f-9d9c-1c2cd8f1543e"
   },
   "outputs": [
    {
     "data": {
      "text/plain": [
       "(7068, 29)"
      ]
     },
     "execution_count": 137,
     "metadata": {},
     "output_type": "execute_result"
    }
   ],
   "source": [
    "# The (rows ,columns) of the merged_test dataframe:\n",
    "merged_test.shape"
   ]
  },
  {
   "cell_type": "code",
   "execution_count": 138,
   "metadata": {
    "colab": {
     "base_uri": "https://localhost:8080/",
     "height": 588
    },
    "id": "_9PwccXnsh1f",
    "outputId": "db1c54e6-b759-40ca-99c2-ddec0255e634",
    "scrolled": true
   },
   "outputs": [
    {
     "data": {
      "text/plain": [
       "Order No                                         0\n",
       "User Id                                          0\n",
       "Vehicle Type                                     0\n",
       "Platform Type                                    0\n",
       "Personal or Business                             0\n",
       "Placement - Day of Month                         0\n",
       "Placement - Weekday (Mo = 1)                     0\n",
       "Placement - Time                                 0\n",
       "Confirmation - Day of Month                      0\n",
       "Confirmation - Weekday (Mo = 1)                  0\n",
       "Confirmation - Time                              0\n",
       "Arrival at Pickup - Day of Month                 0\n",
       "Arrival at Pickup - Weekday (Mo = 1)             0\n",
       "Arrival at Pickup - Time                         0\n",
       "Pickup - Day of Month                            0\n",
       "Pickup - Weekday (Mo = 1)                        0\n",
       "Pickup - Time                                    0\n",
       "Arrival at Destination - Day of Month            0\n",
       "Arrival at Destination - Weekday (Mo = 1)        0\n",
       "Arrival at Destination - Time                    0\n",
       "Distance (KM)                                    0\n",
       "Temperature                                   4366\n",
       "Precipitation in millimeters                 20649\n",
       "Pickup Lat                                       0\n",
       "Pickup Long                                      0\n",
       "Destination Lat                                  0\n",
       "Destination Long                                 0\n",
       "Rider Id                                         0\n",
       "Time from Pickup to Arrival                      0\n",
       "No_Of_Orders                                     0\n",
       "Age                                              0\n",
       "Average_Rating                                   0\n",
       "No_of_Ratings                                    0\n",
       "dtype: int64"
      ]
     },
     "execution_count": 138,
     "metadata": {},
     "output_type": "execute_result"
    }
   ],
   "source": [
    "# Checking the null values from the merged_train data\n",
    "merged_train.isnull().sum()"
   ]
  },
  {
   "cell_type": "markdown",
   "metadata": {
    "id": "2ZgBf7r-prFU"
   },
   "source": [
    "### Data Preprocessing \n",
    "\n",
    "Now that the data train and test datasets has been merged, we preprocessed the data so that it can implemented for creating the model that will estimate the arrival time from pick up to destination."
   ]
  },
  {
   "cell_type": "markdown",
   "metadata": {
    "id": "7xLKfDuuVDm8"
   },
   "source": [
    "#### Identifying and handling missing values in train data"
   ]
  },
  {
   "cell_type": "markdown",
   "metadata": {
    "id": "tMHtetrdVDnD"
   },
   "source": [
    "We saw from the analysis of data that the were missing values from two columns in the both the test and train datasets:\n",
    "<br> `Temperature` column has 4366 missing values while `Precipitation in millimeters` has 20649.\n",
    "In consequence, we decided to fill the missing values in the Temperature column with the mean of the temperatures.\n"
   ]
  },
  {
   "cell_type": "code",
   "execution_count": 139,
   "metadata": {
    "id": "7_k45bs4VDnE"
   },
   "outputs": [],
   "source": [
    "# Filling the missing values in values Temperature column with the on both the train and test data.\n",
    "merged_train['Temperature'] = merged_train['Temperature'].fillna( merged_train['Temperature'].mean())\n",
    "merged_test['Temperature'] = merged_test['Temperature'].fillna( merged_test['Temperature'].mean())"
   ]
  },
  {
   "cell_type": "markdown",
   "metadata": {
    "id": "I7U5WHBGVDnJ"
   },
   "source": [
    "When investigating the missing values in Precipitation in millimeters column, we first summed up the values of the of the null values and computed the percentage of the missing values. \n",
    "\n"
   ]
  },
  {
   "cell_type": "code",
   "execution_count": 140,
   "metadata": {
    "colab": {
     "base_uri": "https://localhost:8080/",
     "height": 34
    },
    "id": "BQgkW3DIVDnK",
    "outputId": "d4a5b5c5-e91a-4ffb-8572-91bf259cfe94"
   },
   "outputs": [
    {
     "name": "stdout",
     "output_type": "stream",
     "text": [
      "The missing values of the Precipitation in millimeters is 97.0 %.\n"
     ]
    }
   ],
   "source": [
    "# Proportion of missing values in the Precipitation in millimeters column.\n",
    "missing_vals = merged_train['Precipitation in millimeters'].isnull().sum()\n",
    "# compute the percentage of the missing values.\n",
    "miss_val = round((missing_vals/len(merged_train.index))*100,0)\n",
    "print(f'The missing values of the Precipitation in millimeters is {miss_val} %.')"
   ]
  },
  {
   "cell_type": "markdown",
   "metadata": {
    "id": "4ZiWXFRpVDnO"
   },
   "source": [
    "\n",
    "We can see from the `Precipitation in millimeters` column that only 552 records have values, so we analyse these 552 records we have. From these records we look whether are the values of zero which will represents days that have no precipitation. We note that that there are no values like that. "
   ]
  },
  {
   "cell_type": "code",
   "execution_count": 141,
   "metadata": {
    "colab": {
     "base_uri": "https://localhost:8080/",
     "height": 34
    },
    "id": "m3YYOy2eVDnP",
    "outputId": "e94d1f7c-024a-4589-82a2-06f94efb3e8b"
   },
   "outputs": [
    {
     "data": {
      "text/plain": [
       "0"
      ]
     },
     "execution_count": 141,
     "metadata": {},
     "output_type": "execute_result"
    }
   ],
   "source": [
    "# Make a copy of the merged_train data.\n",
    "precipitation = merged_train['Precipitation in millimeters'].copy()\n",
    "# We drop column if it has nan values. \n",
    "precipitation.dropna(inplace = True)\n",
    "# We want to check if whether the available records we have contain Zeros for when \n",
    "# there was no rainfall/precipitation at the time of the delivery.\n",
    "precipitation[precipitation==0].count()"
   ]
  },
  {
   "cell_type": "markdown",
   "metadata": {
    "id": "YFgKAErGVDnU"
   },
   "source": [
    "Considering days that have no precipation, we decided to fill these null values with zero. "
   ]
  },
  {
   "cell_type": "code",
   "execution_count": 142,
   "metadata": {
    "id": "iAwqoIgeVDnV"
   },
   "outputs": [],
   "source": [
    "# Filling missing values in Precipitation column with 0 on both train and test data\n",
    "merged_train['Precipitation in millimeters'] = merged_train['Precipitation in millimeters'].fillna(0)\n",
    "merged_test['Precipitation in millimeters'] = merged_test['Precipitation in millimeters'].fillna(0)"
   ]
  },
  {
   "cell_type": "markdown",
   "metadata": {},
   "source": [
    "After filling the null values with zero we check the null values from both the train and test data."
   ]
  },
  {
   "cell_type": "code",
   "execution_count": 143,
   "metadata": {
    "colab": {
     "base_uri": "https://localhost:8080/",
     "height": 588
    },
    "id": "QEZRXyYKVDnZ",
    "outputId": "013f47b9-5984-4169-ac4b-b57b77032f9b"
   },
   "outputs": [
    {
     "data": {
      "text/plain": [
       "Order No                                     0\n",
       "User Id                                      0\n",
       "Vehicle Type                                 0\n",
       "Platform Type                                0\n",
       "Personal or Business                         0\n",
       "Placement - Day of Month                     0\n",
       "Placement - Weekday (Mo = 1)                 0\n",
       "Placement - Time                             0\n",
       "Confirmation - Day of Month                  0\n",
       "Confirmation - Weekday (Mo = 1)              0\n",
       "Confirmation - Time                          0\n",
       "Arrival at Pickup - Day of Month             0\n",
       "Arrival at Pickup - Weekday (Mo = 1)         0\n",
       "Arrival at Pickup - Time                     0\n",
       "Pickup - Day of Month                        0\n",
       "Pickup - Weekday (Mo = 1)                    0\n",
       "Pickup - Time                                0\n",
       "Arrival at Destination - Day of Month        0\n",
       "Arrival at Destination - Weekday (Mo = 1)    0\n",
       "Arrival at Destination - Time                0\n",
       "Distance (KM)                                0\n",
       "Temperature                                  0\n",
       "Precipitation in millimeters                 0\n",
       "Pickup Lat                                   0\n",
       "Pickup Long                                  0\n",
       "Destination Lat                              0\n",
       "Destination Long                             0\n",
       "Rider Id                                     0\n",
       "Time from Pickup to Arrival                  0\n",
       "No_Of_Orders                                 0\n",
       "Age                                          0\n",
       "Average_Rating                               0\n",
       "No_of_Ratings                                0\n",
       "dtype: int64"
      ]
     },
     "execution_count": 143,
     "metadata": {},
     "output_type": "execute_result"
    }
   ],
   "source": [
    "# Checking if all missing values have been handled\n",
    "merged_train.isnull().sum()"
   ]
  },
  {
   "cell_type": "code",
   "execution_count": 144,
   "metadata": {
    "colab": {
     "base_uri": "https://localhost:8080/",
     "height": 521
    },
    "id": "2qraOy4GVMkI",
    "outputId": "bc01fe7f-04d7-40ae-d380-60a76bbdf029",
    "scrolled": true
   },
   "outputs": [
    {
     "data": {
      "text/plain": [
       "Order No                                0\n",
       "User Id                                 0\n",
       "Vehicle Type                            0\n",
       "Platform Type                           0\n",
       "Personal or Business                    0\n",
       "Placement - Day of Month                0\n",
       "Placement - Weekday (Mo = 1)            0\n",
       "Placement - Time                        0\n",
       "Confirmation - Day of Month             0\n",
       "Confirmation - Weekday (Mo = 1)         0\n",
       "Confirmation - Time                     0\n",
       "Arrival at Pickup - Day of Month        0\n",
       "Arrival at Pickup - Weekday (Mo = 1)    0\n",
       "Arrival at Pickup - Time                0\n",
       "Pickup - Day of Month                   0\n",
       "Pickup - Weekday (Mo = 1)               0\n",
       "Pickup - Time                           0\n",
       "Distance (KM)                           0\n",
       "Temperature                             0\n",
       "Precipitation in millimeters            0\n",
       "Pickup Lat                              0\n",
       "Pickup Long                             0\n",
       "Destination Lat                         0\n",
       "Destination Long                        0\n",
       "Rider Id                                0\n",
       "No_Of_Orders                            0\n",
       "Age                                     0\n",
       "Average_Rating                          0\n",
       "No_of_Ratings                           0\n",
       "dtype: int64"
      ]
     },
     "execution_count": 144,
     "metadata": {},
     "output_type": "execute_result"
    }
   ],
   "source": [
    "# Checking missing values in merged_test\n",
    "merged_test.isnull().sum()"
   ]
  },
  {
   "cell_type": "markdown",
   "metadata": {},
   "source": [
    "We note that the data no longer has null values. Now, we proceed to observed the features in our merged datasets."
   ]
  },
  {
   "cell_type": "code",
   "execution_count": 145,
   "metadata": {
    "colab": {
     "base_uri": "https://localhost:8080/",
     "height": 269
    },
    "id": "mKaOUHCRkZiA",
    "outputId": "eb4397be-5f7b-40dc-ed64-09400582c3bc"
   },
   "outputs": [
    {
     "data": {
      "text/plain": [
       "Index(['Order No', 'User Id', 'Vehicle Type', 'Platform Type',\n",
       "       'Personal or Business', 'Placement - Day of Month',\n",
       "       'Placement - Weekday (Mo = 1)', 'Placement - Time',\n",
       "       'Confirmation - Day of Month', 'Confirmation - Weekday (Mo = 1)',\n",
       "       'Confirmation - Time', 'Arrival at Pickup - Day of Month',\n",
       "       'Arrival at Pickup - Weekday (Mo = 1)', 'Arrival at Pickup - Time',\n",
       "       'Pickup - Day of Month', 'Pickup - Weekday (Mo = 1)', 'Pickup - Time',\n",
       "       'Arrival at Destination - Day of Month',\n",
       "       'Arrival at Destination - Weekday (Mo = 1)',\n",
       "       'Arrival at Destination - Time', 'Distance (KM)', 'Temperature',\n",
       "       'Precipitation in millimeters', 'Pickup Lat', 'Pickup Long',\n",
       "       'Destination Lat', 'Destination Long', 'Rider Id',\n",
       "       'Time from Pickup to Arrival', 'No_Of_Orders', 'Age', 'Average_Rating',\n",
       "       'No_of_Ratings'],\n",
       "      dtype='object')"
      ]
     },
     "execution_count": 145,
     "metadata": {},
     "output_type": "execute_result"
    }
   ],
   "source": [
    "# The column labels of the merged_train dataframe. \n",
    "merged_train.columns"
   ]
  },
  {
   "cell_type": "code",
   "execution_count": 146,
   "metadata": {
    "colab": {
     "base_uri": "https://localhost:8080/",
     "height": 202
    },
    "id": "3KVfGk0-kqh2",
    "outputId": "87cfaecc-5ef1-4259-e370-6a5469d87e85"
   },
   "outputs": [
    {
     "data": {
      "text/plain": [
       "Index(['Order No', 'User Id', 'Vehicle Type', 'Platform Type',\n",
       "       'Personal or Business', 'Placement - Day of Month',\n",
       "       'Placement - Weekday (Mo = 1)', 'Placement - Time',\n",
       "       'Confirmation - Day of Month', 'Confirmation - Weekday (Mo = 1)',\n",
       "       'Confirmation - Time', 'Arrival at Pickup - Day of Month',\n",
       "       'Arrival at Pickup - Weekday (Mo = 1)', 'Arrival at Pickup - Time',\n",
       "       'Pickup - Day of Month', 'Pickup - Weekday (Mo = 1)', 'Pickup - Time',\n",
       "       'Distance (KM)', 'Temperature', 'Precipitation in millimeters',\n",
       "       'Pickup Lat', 'Pickup Long', 'Destination Lat', 'Destination Long',\n",
       "       'Rider Id', 'No_Of_Orders', 'Age', 'Average_Rating', 'No_of_Ratings'],\n",
       "      dtype='object')"
      ]
     },
     "execution_count": 146,
     "metadata": {},
     "output_type": "execute_result"
    }
   ],
   "source": [
    "# The column labels of the merged_train dataframe. \n",
    "merged_test.columns"
   ]
  },
  {
   "cell_type": "markdown",
   "metadata": {},
   "source": [
    "In observing the columns, we want the `Time from Pickup to Arrival` to be last column hence we rearrange these columns:"
   ]
  },
  {
   "cell_type": "code",
   "execution_count": 147,
   "metadata": {
    "id": "FP8zoXv2VDnf",
    "scrolled": true
   },
   "outputs": [],
   "source": [
    "# Alignment of Dataset so we can 'Time from Pickup to Arrival' as the last column of the dataframe:\n",
    "\n",
    "merged_train = merged_train[['Order No', 'User Id', 'Vehicle Type',\n",
    "       'Platform Type',\n",
    "       'Personal or Business', 'Placement - Day of Month',\n",
    "       'Placement - Weekday (Mo = 1)', 'Placement - Time',\n",
    "       'Confirmation - Day of Month', 'Confirmation - Weekday (Mo = 1)',\n",
    "       'Confirmation - Time', 'Arrival at Pickup - Day of Month',\n",
    "       'Arrival at Pickup - Weekday (Mo = 1)', 'Arrival at Pickup - Time',\n",
    "       'Pickup - Day of Month', 'Pickup - Weekday (Mo = 1)', 'Pickup - Time',\n",
    "       'Distance (KM)', 'Temperature', 'Precipitation in millimeters',\n",
    "       'Pickup Lat', 'Pickup Long', 'Destination Lat', 'Destination Long',\n",
    "       'Rider Id', 'No_Of_Orders', 'Age', 'Average_Rating', 'No_of_Ratings',\n",
    "       'Time from Pickup to Arrival']]  \n"
   ]
  },
  {
   "cell_type": "code",
   "execution_count": 148,
   "metadata": {
    "colab": {
     "base_uri": "https://localhost:8080/",
     "height": 400
    },
    "id": "DcK4dbyIR_Cp",
    "outputId": "7da3d544-a780-47d1-e663-f75eb0e423b8",
    "scrolled": true
   },
   "outputs": [
    {
     "data": {
      "text/html": [
       "<div>\n",
       "<style scoped>\n",
       "    .dataframe tbody tr th:only-of-type {\n",
       "        vertical-align: middle;\n",
       "    }\n",
       "\n",
       "    .dataframe tbody tr th {\n",
       "        vertical-align: top;\n",
       "    }\n",
       "\n",
       "    .dataframe thead th {\n",
       "        text-align: right;\n",
       "    }\n",
       "</style>\n",
       "<table border=\"1\" class=\"dataframe\">\n",
       "  <thead>\n",
       "    <tr style=\"text-align: right;\">\n",
       "      <th></th>\n",
       "      <th>Order No</th>\n",
       "      <th>User Id</th>\n",
       "      <th>Vehicle Type</th>\n",
       "      <th>Platform Type</th>\n",
       "      <th>Personal or Business</th>\n",
       "      <th>Placement - Day of Month</th>\n",
       "      <th>Placement - Weekday (Mo = 1)</th>\n",
       "      <th>Placement - Time</th>\n",
       "      <th>Confirmation - Day of Month</th>\n",
       "      <th>Confirmation - Weekday (Mo = 1)</th>\n",
       "      <th>...</th>\n",
       "      <th>Pickup Lat</th>\n",
       "      <th>Pickup Long</th>\n",
       "      <th>Destination Lat</th>\n",
       "      <th>Destination Long</th>\n",
       "      <th>Rider Id</th>\n",
       "      <th>No_Of_Orders</th>\n",
       "      <th>Age</th>\n",
       "      <th>Average_Rating</th>\n",
       "      <th>No_of_Ratings</th>\n",
       "      <th>Time from Pickup to Arrival</th>\n",
       "    </tr>\n",
       "  </thead>\n",
       "  <tbody>\n",
       "    <tr>\n",
       "      <th>0</th>\n",
       "      <td>Order_No_4211</td>\n",
       "      <td>User_Id_633</td>\n",
       "      <td>Bike</td>\n",
       "      <td>3</td>\n",
       "      <td>Business</td>\n",
       "      <td>9</td>\n",
       "      <td>5</td>\n",
       "      <td>9:35:46 AM</td>\n",
       "      <td>9</td>\n",
       "      <td>5</td>\n",
       "      <td>...</td>\n",
       "      <td>-1.317755</td>\n",
       "      <td>36.830370</td>\n",
       "      <td>-1.300406</td>\n",
       "      <td>36.829741</td>\n",
       "      <td>Rider_Id_432</td>\n",
       "      <td>1637</td>\n",
       "      <td>1309</td>\n",
       "      <td>13.8</td>\n",
       "      <td>549</td>\n",
       "      <td>745</td>\n",
       "    </tr>\n",
       "    <tr>\n",
       "      <th>1</th>\n",
       "      <td>Order_No_25375</td>\n",
       "      <td>User_Id_2285</td>\n",
       "      <td>Bike</td>\n",
       "      <td>3</td>\n",
       "      <td>Personal</td>\n",
       "      <td>12</td>\n",
       "      <td>5</td>\n",
       "      <td>11:16:16 AM</td>\n",
       "      <td>12</td>\n",
       "      <td>5</td>\n",
       "      <td>...</td>\n",
       "      <td>-1.351453</td>\n",
       "      <td>36.899315</td>\n",
       "      <td>-1.295004</td>\n",
       "      <td>36.814358</td>\n",
       "      <td>Rider_Id_856</td>\n",
       "      <td>396</td>\n",
       "      <td>339</td>\n",
       "      <td>13.6</td>\n",
       "      <td>69</td>\n",
       "      <td>1993</td>\n",
       "    </tr>\n",
       "    <tr>\n",
       "      <th>2</th>\n",
       "      <td>Order_No_1899</td>\n",
       "      <td>User_Id_265</td>\n",
       "      <td>Bike</td>\n",
       "      <td>3</td>\n",
       "      <td>Business</td>\n",
       "      <td>30</td>\n",
       "      <td>2</td>\n",
       "      <td>12:39:25 PM</td>\n",
       "      <td>30</td>\n",
       "      <td>2</td>\n",
       "      <td>...</td>\n",
       "      <td>-1.308284</td>\n",
       "      <td>36.843419</td>\n",
       "      <td>-1.300921</td>\n",
       "      <td>36.828195</td>\n",
       "      <td>Rider_Id_155</td>\n",
       "      <td>1023</td>\n",
       "      <td>242</td>\n",
       "      <td>12.5</td>\n",
       "      <td>114</td>\n",
       "      <td>455</td>\n",
       "    </tr>\n",
       "    <tr>\n",
       "      <th>3</th>\n",
       "      <td>Order_No_9336</td>\n",
       "      <td>User_Id_1402</td>\n",
       "      <td>Bike</td>\n",
       "      <td>3</td>\n",
       "      <td>Business</td>\n",
       "      <td>15</td>\n",
       "      <td>5</td>\n",
       "      <td>9:25:34 AM</td>\n",
       "      <td>15</td>\n",
       "      <td>5</td>\n",
       "      <td>...</td>\n",
       "      <td>-1.281301</td>\n",
       "      <td>36.832396</td>\n",
       "      <td>-1.257147</td>\n",
       "      <td>36.795063</td>\n",
       "      <td>Rider_Id_855</td>\n",
       "      <td>886</td>\n",
       "      <td>283</td>\n",
       "      <td>14.5</td>\n",
       "      <td>113</td>\n",
       "      <td>1341</td>\n",
       "    </tr>\n",
       "    <tr>\n",
       "      <th>4</th>\n",
       "      <td>Order_No_27883</td>\n",
       "      <td>User_Id_1737</td>\n",
       "      <td>Bike</td>\n",
       "      <td>1</td>\n",
       "      <td>Personal</td>\n",
       "      <td>13</td>\n",
       "      <td>1</td>\n",
       "      <td>9:55:18 AM</td>\n",
       "      <td>13</td>\n",
       "      <td>1</td>\n",
       "      <td>...</td>\n",
       "      <td>-1.266597</td>\n",
       "      <td>36.792118</td>\n",
       "      <td>-1.295041</td>\n",
       "      <td>36.809817</td>\n",
       "      <td>Rider_Id_770</td>\n",
       "      <td>2311</td>\n",
       "      <td>872</td>\n",
       "      <td>14.1</td>\n",
       "      <td>533</td>\n",
       "      <td>1214</td>\n",
       "    </tr>\n",
       "  </tbody>\n",
       "</table>\n",
       "<p>5 rows × 30 columns</p>\n",
       "</div>"
      ],
      "text/plain": [
       "         Order No       User Id Vehicle Type  Platform Type  \\\n",
       "0   Order_No_4211   User_Id_633         Bike              3   \n",
       "1  Order_No_25375  User_Id_2285         Bike              3   \n",
       "2   Order_No_1899   User_Id_265         Bike              3   \n",
       "3   Order_No_9336  User_Id_1402         Bike              3   \n",
       "4  Order_No_27883  User_Id_1737         Bike              1   \n",
       "\n",
       "  Personal or Business  Placement - Day of Month  \\\n",
       "0             Business                         9   \n",
       "1             Personal                        12   \n",
       "2             Business                        30   \n",
       "3             Business                        15   \n",
       "4             Personal                        13   \n",
       "\n",
       "   Placement - Weekday (Mo = 1) Placement - Time  Confirmation - Day of Month  \\\n",
       "0                             5       9:35:46 AM                            9   \n",
       "1                             5      11:16:16 AM                           12   \n",
       "2                             2      12:39:25 PM                           30   \n",
       "3                             5       9:25:34 AM                           15   \n",
       "4                             1       9:55:18 AM                           13   \n",
       "\n",
       "   Confirmation - Weekday (Mo = 1)  ... Pickup Lat  Pickup Long  \\\n",
       "0                                5  ...  -1.317755    36.830370   \n",
       "1                                5  ...  -1.351453    36.899315   \n",
       "2                                2  ...  -1.308284    36.843419   \n",
       "3                                5  ...  -1.281301    36.832396   \n",
       "4                                1  ...  -1.266597    36.792118   \n",
       "\n",
       "   Destination Lat Destination Long      Rider Id  No_Of_Orders   Age  \\\n",
       "0        -1.300406        36.829741  Rider_Id_432          1637  1309   \n",
       "1        -1.295004        36.814358  Rider_Id_856           396   339   \n",
       "2        -1.300921        36.828195  Rider_Id_155          1023   242   \n",
       "3        -1.257147        36.795063  Rider_Id_855           886   283   \n",
       "4        -1.295041        36.809817  Rider_Id_770          2311   872   \n",
       "\n",
       "   Average_Rating  No_of_Ratings  Time from Pickup to Arrival  \n",
       "0            13.8            549                          745  \n",
       "1            13.6             69                         1993  \n",
       "2            12.5            114                          455  \n",
       "3            14.5            113                         1341  \n",
       "4            14.1            533                         1214  \n",
       "\n",
       "[5 rows x 30 columns]"
      ]
     },
     "execution_count": 148,
     "metadata": {},
     "output_type": "execute_result"
    }
   ],
   "source": [
    "# View of the first 5 columns of the merged_train datatset with 'Time from Pickup to Arrival' as last column:\n",
    "merged_train.head()"
   ]
  },
  {
   "cell_type": "markdown",
   "metadata": {},
   "source": [
    "This merged data is now analysed using visual aid. "
   ]
  },
  {
   "cell_type": "code",
   "execution_count": 149,
   "metadata": {
    "colab": {
     "base_uri": "https://localhost:8080/",
     "height": 1000
    },
    "id": "qWSP4X_pprGR",
    "outputId": "22571f3c-adcd-4834-f11b-1b944052b928"
   },
   "outputs": [
    {
     "data": {
      "application/javascript": [
       "/* Put everything inside the global mpl namespace */\n",
       "window.mpl = {};\n",
       "\n",
       "\n",
       "mpl.get_websocket_type = function() {\n",
       "    if (typeof(WebSocket) !== 'undefined') {\n",
       "        return WebSocket;\n",
       "    } else if (typeof(MozWebSocket) !== 'undefined') {\n",
       "        return MozWebSocket;\n",
       "    } else {\n",
       "        alert('Your browser does not have WebSocket support.' +\n",
       "              'Please try Chrome, Safari or Firefox ≥ 6. ' +\n",
       "              'Firefox 4 and 5 are also supported but you ' +\n",
       "              'have to enable WebSockets in about:config.');\n",
       "    };\n",
       "}\n",
       "\n",
       "mpl.figure = function(figure_id, websocket, ondownload, parent_element) {\n",
       "    this.id = figure_id;\n",
       "\n",
       "    this.ws = websocket;\n",
       "\n",
       "    this.supports_binary = (this.ws.binaryType != undefined);\n",
       "\n",
       "    if (!this.supports_binary) {\n",
       "        var warnings = document.getElementById(\"mpl-warnings\");\n",
       "        if (warnings) {\n",
       "            warnings.style.display = 'block';\n",
       "            warnings.textContent = (\n",
       "                \"This browser does not support binary websocket messages. \" +\n",
       "                    \"Performance may be slow.\");\n",
       "        }\n",
       "    }\n",
       "\n",
       "    this.imageObj = new Image();\n",
       "\n",
       "    this.context = undefined;\n",
       "    this.message = undefined;\n",
       "    this.canvas = undefined;\n",
       "    this.rubberband_canvas = undefined;\n",
       "    this.rubberband_context = undefined;\n",
       "    this.format_dropdown = undefined;\n",
       "\n",
       "    this.image_mode = 'full';\n",
       "\n",
       "    this.root = $('<div/>');\n",
       "    this._root_extra_style(this.root)\n",
       "    this.root.attr('style', 'display: inline-block');\n",
       "\n",
       "    $(parent_element).append(this.root);\n",
       "\n",
       "    this._init_header(this);\n",
       "    this._init_canvas(this);\n",
       "    this._init_toolbar(this);\n",
       "\n",
       "    var fig = this;\n",
       "\n",
       "    this.waiting = false;\n",
       "\n",
       "    this.ws.onopen =  function () {\n",
       "            fig.send_message(\"supports_binary\", {value: fig.supports_binary});\n",
       "            fig.send_message(\"send_image_mode\", {});\n",
       "            if (mpl.ratio != 1) {\n",
       "                fig.send_message(\"set_dpi_ratio\", {'dpi_ratio': mpl.ratio});\n",
       "            }\n",
       "            fig.send_message(\"refresh\", {});\n",
       "        }\n",
       "\n",
       "    this.imageObj.onload = function() {\n",
       "            if (fig.image_mode == 'full') {\n",
       "                // Full images could contain transparency (where diff images\n",
       "                // almost always do), so we need to clear the canvas so that\n",
       "                // there is no ghosting.\n",
       "                fig.context.clearRect(0, 0, fig.canvas.width, fig.canvas.height);\n",
       "            }\n",
       "            fig.context.drawImage(fig.imageObj, 0, 0);\n",
       "        };\n",
       "\n",
       "    this.imageObj.onunload = function() {\n",
       "        fig.ws.close();\n",
       "    }\n",
       "\n",
       "    this.ws.onmessage = this._make_on_message_function(this);\n",
       "\n",
       "    this.ondownload = ondownload;\n",
       "}\n",
       "\n",
       "mpl.figure.prototype._init_header = function() {\n",
       "    var titlebar = $(\n",
       "        '<div class=\"ui-dialog-titlebar ui-widget-header ui-corner-all ' +\n",
       "        'ui-helper-clearfix\"/>');\n",
       "    var titletext = $(\n",
       "        '<div class=\"ui-dialog-title\" style=\"width: 100%; ' +\n",
       "        'text-align: center; padding: 3px;\"/>');\n",
       "    titlebar.append(titletext)\n",
       "    this.root.append(titlebar);\n",
       "    this.header = titletext[0];\n",
       "}\n",
       "\n",
       "\n",
       "\n",
       "mpl.figure.prototype._canvas_extra_style = function(canvas_div) {\n",
       "\n",
       "}\n",
       "\n",
       "\n",
       "mpl.figure.prototype._root_extra_style = function(canvas_div) {\n",
       "\n",
       "}\n",
       "\n",
       "mpl.figure.prototype._init_canvas = function() {\n",
       "    var fig = this;\n",
       "\n",
       "    var canvas_div = $('<div/>');\n",
       "\n",
       "    canvas_div.attr('style', 'position: relative; clear: both; outline: 0');\n",
       "\n",
       "    function canvas_keyboard_event(event) {\n",
       "        return fig.key_event(event, event['data']);\n",
       "    }\n",
       "\n",
       "    canvas_div.keydown('key_press', canvas_keyboard_event);\n",
       "    canvas_div.keyup('key_release', canvas_keyboard_event);\n",
       "    this.canvas_div = canvas_div\n",
       "    this._canvas_extra_style(canvas_div)\n",
       "    this.root.append(canvas_div);\n",
       "\n",
       "    var canvas = $('<canvas/>');\n",
       "    canvas.addClass('mpl-canvas');\n",
       "    canvas.attr('style', \"left: 0; top: 0; z-index: 0; outline: 0\")\n",
       "\n",
       "    this.canvas = canvas[0];\n",
       "    this.context = canvas[0].getContext(\"2d\");\n",
       "\n",
       "    var backingStore = this.context.backingStorePixelRatio ||\n",
       "\tthis.context.webkitBackingStorePixelRatio ||\n",
       "\tthis.context.mozBackingStorePixelRatio ||\n",
       "\tthis.context.msBackingStorePixelRatio ||\n",
       "\tthis.context.oBackingStorePixelRatio ||\n",
       "\tthis.context.backingStorePixelRatio || 1;\n",
       "\n",
       "    mpl.ratio = (window.devicePixelRatio || 1) / backingStore;\n",
       "\n",
       "    var rubberband = $('<canvas/>');\n",
       "    rubberband.attr('style', \"position: absolute; left: 0; top: 0; z-index: 1;\")\n",
       "\n",
       "    var pass_mouse_events = true;\n",
       "\n",
       "    canvas_div.resizable({\n",
       "        start: function(event, ui) {\n",
       "            pass_mouse_events = false;\n",
       "        },\n",
       "        resize: function(event, ui) {\n",
       "            fig.request_resize(ui.size.width, ui.size.height);\n",
       "        },\n",
       "        stop: function(event, ui) {\n",
       "            pass_mouse_events = true;\n",
       "            fig.request_resize(ui.size.width, ui.size.height);\n",
       "        },\n",
       "    });\n",
       "\n",
       "    function mouse_event_fn(event) {\n",
       "        if (pass_mouse_events)\n",
       "            return fig.mouse_event(event, event['data']);\n",
       "    }\n",
       "\n",
       "    rubberband.mousedown('button_press', mouse_event_fn);\n",
       "    rubberband.mouseup('button_release', mouse_event_fn);\n",
       "    // Throttle sequential mouse events to 1 every 20ms.\n",
       "    rubberband.mousemove('motion_notify', mouse_event_fn);\n",
       "\n",
       "    rubberband.mouseenter('figure_enter', mouse_event_fn);\n",
       "    rubberband.mouseleave('figure_leave', mouse_event_fn);\n",
       "\n",
       "    canvas_div.on(\"wheel\", function (event) {\n",
       "        event = event.originalEvent;\n",
       "        event['data'] = 'scroll'\n",
       "        if (event.deltaY < 0) {\n",
       "            event.step = 1;\n",
       "        } else {\n",
       "            event.step = -1;\n",
       "        }\n",
       "        mouse_event_fn(event);\n",
       "    });\n",
       "\n",
       "    canvas_div.append(canvas);\n",
       "    canvas_div.append(rubberband);\n",
       "\n",
       "    this.rubberband = rubberband;\n",
       "    this.rubberband_canvas = rubberband[0];\n",
       "    this.rubberband_context = rubberband[0].getContext(\"2d\");\n",
       "    this.rubberband_context.strokeStyle = \"#000000\";\n",
       "\n",
       "    this._resize_canvas = function(width, height) {\n",
       "        // Keep the size of the canvas, canvas container, and rubber band\n",
       "        // canvas in synch.\n",
       "        canvas_div.css('width', width)\n",
       "        canvas_div.css('height', height)\n",
       "\n",
       "        canvas.attr('width', width * mpl.ratio);\n",
       "        canvas.attr('height', height * mpl.ratio);\n",
       "        canvas.attr('style', 'width: ' + width + 'px; height: ' + height + 'px;');\n",
       "\n",
       "        rubberband.attr('width', width);\n",
       "        rubberband.attr('height', height);\n",
       "    }\n",
       "\n",
       "    // Set the figure to an initial 600x600px, this will subsequently be updated\n",
       "    // upon first draw.\n",
       "    this._resize_canvas(600, 600);\n",
       "\n",
       "    // Disable right mouse context menu.\n",
       "    $(this.rubberband_canvas).bind(\"contextmenu\",function(e){\n",
       "        return false;\n",
       "    });\n",
       "\n",
       "    function set_focus () {\n",
       "        canvas.focus();\n",
       "        canvas_div.focus();\n",
       "    }\n",
       "\n",
       "    window.setTimeout(set_focus, 100);\n",
       "}\n",
       "\n",
       "mpl.figure.prototype._init_toolbar = function() {\n",
       "    var fig = this;\n",
       "\n",
       "    var nav_element = $('<div/>')\n",
       "    nav_element.attr('style', 'width: 100%');\n",
       "    this.root.append(nav_element);\n",
       "\n",
       "    // Define a callback function for later on.\n",
       "    function toolbar_event(event) {\n",
       "        return fig.toolbar_button_onclick(event['data']);\n",
       "    }\n",
       "    function toolbar_mouse_event(event) {\n",
       "        return fig.toolbar_button_onmouseover(event['data']);\n",
       "    }\n",
       "\n",
       "    for(var toolbar_ind in mpl.toolbar_items) {\n",
       "        var name = mpl.toolbar_items[toolbar_ind][0];\n",
       "        var tooltip = mpl.toolbar_items[toolbar_ind][1];\n",
       "        var image = mpl.toolbar_items[toolbar_ind][2];\n",
       "        var method_name = mpl.toolbar_items[toolbar_ind][3];\n",
       "\n",
       "        if (!name) {\n",
       "            // put a spacer in here.\n",
       "            continue;\n",
       "        }\n",
       "        var button = $('<button/>');\n",
       "        button.addClass('ui-button ui-widget ui-state-default ui-corner-all ' +\n",
       "                        'ui-button-icon-only');\n",
       "        button.attr('role', 'button');\n",
       "        button.attr('aria-disabled', 'false');\n",
       "        button.click(method_name, toolbar_event);\n",
       "        button.mouseover(tooltip, toolbar_mouse_event);\n",
       "\n",
       "        var icon_img = $('<span/>');\n",
       "        icon_img.addClass('ui-button-icon-primary ui-icon');\n",
       "        icon_img.addClass(image);\n",
       "        icon_img.addClass('ui-corner-all');\n",
       "\n",
       "        var tooltip_span = $('<span/>');\n",
       "        tooltip_span.addClass('ui-button-text');\n",
       "        tooltip_span.html(tooltip);\n",
       "\n",
       "        button.append(icon_img);\n",
       "        button.append(tooltip_span);\n",
       "\n",
       "        nav_element.append(button);\n",
       "    }\n",
       "\n",
       "    var fmt_picker_span = $('<span/>');\n",
       "\n",
       "    var fmt_picker = $('<select/>');\n",
       "    fmt_picker.addClass('mpl-toolbar-option ui-widget ui-widget-content');\n",
       "    fmt_picker_span.append(fmt_picker);\n",
       "    nav_element.append(fmt_picker_span);\n",
       "    this.format_dropdown = fmt_picker[0];\n",
       "\n",
       "    for (var ind in mpl.extensions) {\n",
       "        var fmt = mpl.extensions[ind];\n",
       "        var option = $(\n",
       "            '<option/>', {selected: fmt === mpl.default_extension}).html(fmt);\n",
       "        fmt_picker.append(option)\n",
       "    }\n",
       "\n",
       "    // Add hover states to the ui-buttons\n",
       "    $( \".ui-button\" ).hover(\n",
       "        function() { $(this).addClass(\"ui-state-hover\");},\n",
       "        function() { $(this).removeClass(\"ui-state-hover\");}\n",
       "    );\n",
       "\n",
       "    var status_bar = $('<span class=\"mpl-message\"/>');\n",
       "    nav_element.append(status_bar);\n",
       "    this.message = status_bar[0];\n",
       "}\n",
       "\n",
       "mpl.figure.prototype.request_resize = function(x_pixels, y_pixels) {\n",
       "    // Request matplotlib to resize the figure. Matplotlib will then trigger a resize in the client,\n",
       "    // which will in turn request a refresh of the image.\n",
       "    this.send_message('resize', {'width': x_pixels, 'height': y_pixels});\n",
       "}\n",
       "\n",
       "mpl.figure.prototype.send_message = function(type, properties) {\n",
       "    properties['type'] = type;\n",
       "    properties['figure_id'] = this.id;\n",
       "    this.ws.send(JSON.stringify(properties));\n",
       "}\n",
       "\n",
       "mpl.figure.prototype.send_draw_message = function() {\n",
       "    if (!this.waiting) {\n",
       "        this.waiting = true;\n",
       "        this.ws.send(JSON.stringify({type: \"draw\", figure_id: this.id}));\n",
       "    }\n",
       "}\n",
       "\n",
       "\n",
       "mpl.figure.prototype.handle_save = function(fig, msg) {\n",
       "    var format_dropdown = fig.format_dropdown;\n",
       "    var format = format_dropdown.options[format_dropdown.selectedIndex].value;\n",
       "    fig.ondownload(fig, format);\n",
       "}\n",
       "\n",
       "\n",
       "mpl.figure.prototype.handle_resize = function(fig, msg) {\n",
       "    var size = msg['size'];\n",
       "    if (size[0] != fig.canvas.width || size[1] != fig.canvas.height) {\n",
       "        fig._resize_canvas(size[0], size[1]);\n",
       "        fig.send_message(\"refresh\", {});\n",
       "    };\n",
       "}\n",
       "\n",
       "mpl.figure.prototype.handle_rubberband = function(fig, msg) {\n",
       "    var x0 = msg['x0'] / mpl.ratio;\n",
       "    var y0 = (fig.canvas.height - msg['y0']) / mpl.ratio;\n",
       "    var x1 = msg['x1'] / mpl.ratio;\n",
       "    var y1 = (fig.canvas.height - msg['y1']) / mpl.ratio;\n",
       "    x0 = Math.floor(x0) + 0.5;\n",
       "    y0 = Math.floor(y0) + 0.5;\n",
       "    x1 = Math.floor(x1) + 0.5;\n",
       "    y1 = Math.floor(y1) + 0.5;\n",
       "    var min_x = Math.min(x0, x1);\n",
       "    var min_y = Math.min(y0, y1);\n",
       "    var width = Math.abs(x1 - x0);\n",
       "    var height = Math.abs(y1 - y0);\n",
       "\n",
       "    fig.rubberband_context.clearRect(\n",
       "        0, 0, fig.canvas.width, fig.canvas.height);\n",
       "\n",
       "    fig.rubberband_context.strokeRect(min_x, min_y, width, height);\n",
       "}\n",
       "\n",
       "mpl.figure.prototype.handle_figure_label = function(fig, msg) {\n",
       "    // Updates the figure title.\n",
       "    fig.header.textContent = msg['label'];\n",
       "}\n",
       "\n",
       "mpl.figure.prototype.handle_cursor = function(fig, msg) {\n",
       "    var cursor = msg['cursor'];\n",
       "    switch(cursor)\n",
       "    {\n",
       "    case 0:\n",
       "        cursor = 'pointer';\n",
       "        break;\n",
       "    case 1:\n",
       "        cursor = 'default';\n",
       "        break;\n",
       "    case 2:\n",
       "        cursor = 'crosshair';\n",
       "        break;\n",
       "    case 3:\n",
       "        cursor = 'move';\n",
       "        break;\n",
       "    }\n",
       "    fig.rubberband_canvas.style.cursor = cursor;\n",
       "}\n",
       "\n",
       "mpl.figure.prototype.handle_message = function(fig, msg) {\n",
       "    fig.message.textContent = msg['message'];\n",
       "}\n",
       "\n",
       "mpl.figure.prototype.handle_draw = function(fig, msg) {\n",
       "    // Request the server to send over a new figure.\n",
       "    fig.send_draw_message();\n",
       "}\n",
       "\n",
       "mpl.figure.prototype.handle_image_mode = function(fig, msg) {\n",
       "    fig.image_mode = msg['mode'];\n",
       "}\n",
       "\n",
       "mpl.figure.prototype.updated_canvas_event = function() {\n",
       "    // Called whenever the canvas gets updated.\n",
       "    this.send_message(\"ack\", {});\n",
       "}\n",
       "\n",
       "// A function to construct a web socket function for onmessage handling.\n",
       "// Called in the figure constructor.\n",
       "mpl.figure.prototype._make_on_message_function = function(fig) {\n",
       "    return function socket_on_message(evt) {\n",
       "        if (evt.data instanceof Blob) {\n",
       "            /* FIXME: We get \"Resource interpreted as Image but\n",
       "             * transferred with MIME type text/plain:\" errors on\n",
       "             * Chrome.  But how to set the MIME type?  It doesn't seem\n",
       "             * to be part of the websocket stream */\n",
       "            evt.data.type = \"image/png\";\n",
       "\n",
       "            /* Free the memory for the previous frames */\n",
       "            if (fig.imageObj.src) {\n",
       "                (window.URL || window.webkitURL).revokeObjectURL(\n",
       "                    fig.imageObj.src);\n",
       "            }\n",
       "\n",
       "            fig.imageObj.src = (window.URL || window.webkitURL).createObjectURL(\n",
       "                evt.data);\n",
       "            fig.updated_canvas_event();\n",
       "            fig.waiting = false;\n",
       "            return;\n",
       "        }\n",
       "        else if (typeof evt.data === 'string' && evt.data.slice(0, 21) == \"data:image/png;base64\") {\n",
       "            fig.imageObj.src = evt.data;\n",
       "            fig.updated_canvas_event();\n",
       "            fig.waiting = false;\n",
       "            return;\n",
       "        }\n",
       "\n",
       "        var msg = JSON.parse(evt.data);\n",
       "        var msg_type = msg['type'];\n",
       "\n",
       "        // Call the  \"handle_{type}\" callback, which takes\n",
       "        // the figure and JSON message as its only arguments.\n",
       "        try {\n",
       "            var callback = fig[\"handle_\" + msg_type];\n",
       "        } catch (e) {\n",
       "            console.log(\"No handler for the '\" + msg_type + \"' message type: \", msg);\n",
       "            return;\n",
       "        }\n",
       "\n",
       "        if (callback) {\n",
       "            try {\n",
       "                // console.log(\"Handling '\" + msg_type + \"' message: \", msg);\n",
       "                callback(fig, msg);\n",
       "            } catch (e) {\n",
       "                console.log(\"Exception inside the 'handler_\" + msg_type + \"' callback:\", e, e.stack, msg);\n",
       "            }\n",
       "        }\n",
       "    };\n",
       "}\n",
       "\n",
       "// from http://stackoverflow.com/questions/1114465/getting-mouse-location-in-canvas\n",
       "mpl.findpos = function(e) {\n",
       "    //this section is from http://www.quirksmode.org/js/events_properties.html\n",
       "    var targ;\n",
       "    if (!e)\n",
       "        e = window.event;\n",
       "    if (e.target)\n",
       "        targ = e.target;\n",
       "    else if (e.srcElement)\n",
       "        targ = e.srcElement;\n",
       "    if (targ.nodeType == 3) // defeat Safari bug\n",
       "        targ = targ.parentNode;\n",
       "\n",
       "    // jQuery normalizes the pageX and pageY\n",
       "    // pageX,Y are the mouse positions relative to the document\n",
       "    // offset() returns the position of the element relative to the document\n",
       "    var x = e.pageX - $(targ).offset().left;\n",
       "    var y = e.pageY - $(targ).offset().top;\n",
       "\n",
       "    return {\"x\": x, \"y\": y};\n",
       "};\n",
       "\n",
       "/*\n",
       " * return a copy of an object with only non-object keys\n",
       " * we need this to avoid circular references\n",
       " * http://stackoverflow.com/a/24161582/3208463\n",
       " */\n",
       "function simpleKeys (original) {\n",
       "  return Object.keys(original).reduce(function (obj, key) {\n",
       "    if (typeof original[key] !== 'object')\n",
       "        obj[key] = original[key]\n",
       "    return obj;\n",
       "  }, {});\n",
       "}\n",
       "\n",
       "mpl.figure.prototype.mouse_event = function(event, name) {\n",
       "    var canvas_pos = mpl.findpos(event)\n",
       "\n",
       "    if (name === 'button_press')\n",
       "    {\n",
       "        this.canvas.focus();\n",
       "        this.canvas_div.focus();\n",
       "    }\n",
       "\n",
       "    var x = canvas_pos.x * mpl.ratio;\n",
       "    var y = canvas_pos.y * mpl.ratio;\n",
       "\n",
       "    this.send_message(name, {x: x, y: y, button: event.button,\n",
       "                             step: event.step,\n",
       "                             guiEvent: simpleKeys(event)});\n",
       "\n",
       "    /* This prevents the web browser from automatically changing to\n",
       "     * the text insertion cursor when the button is pressed.  We want\n",
       "     * to control all of the cursor setting manually through the\n",
       "     * 'cursor' event from matplotlib */\n",
       "    event.preventDefault();\n",
       "    return false;\n",
       "}\n",
       "\n",
       "mpl.figure.prototype._key_event_extra = function(event, name) {\n",
       "    // Handle any extra behaviour associated with a key event\n",
       "}\n",
       "\n",
       "mpl.figure.prototype.key_event = function(event, name) {\n",
       "\n",
       "    // Prevent repeat events\n",
       "    if (name == 'key_press')\n",
       "    {\n",
       "        if (event.which === this._key)\n",
       "            return;\n",
       "        else\n",
       "            this._key = event.which;\n",
       "    }\n",
       "    if (name == 'key_release')\n",
       "        this._key = null;\n",
       "\n",
       "    var value = '';\n",
       "    if (event.ctrlKey && event.which != 17)\n",
       "        value += \"ctrl+\";\n",
       "    if (event.altKey && event.which != 18)\n",
       "        value += \"alt+\";\n",
       "    if (event.shiftKey && event.which != 16)\n",
       "        value += \"shift+\";\n",
       "\n",
       "    value += 'k';\n",
       "    value += event.which.toString();\n",
       "\n",
       "    this._key_event_extra(event, name);\n",
       "\n",
       "    this.send_message(name, {key: value,\n",
       "                             guiEvent: simpleKeys(event)});\n",
       "    return false;\n",
       "}\n",
       "\n",
       "mpl.figure.prototype.toolbar_button_onclick = function(name) {\n",
       "    if (name == 'download') {\n",
       "        this.handle_save(this, null);\n",
       "    } else {\n",
       "        this.send_message(\"toolbar_button\", {name: name});\n",
       "    }\n",
       "};\n",
       "\n",
       "mpl.figure.prototype.toolbar_button_onmouseover = function(tooltip) {\n",
       "    this.message.textContent = tooltip;\n",
       "};\n",
       "mpl.toolbar_items = [[\"Home\", \"Reset original view\", \"fa fa-home icon-home\", \"home\"], [\"Back\", \"Back to previous view\", \"fa fa-arrow-left icon-arrow-left\", \"back\"], [\"Forward\", \"Forward to next view\", \"fa fa-arrow-right icon-arrow-right\", \"forward\"], [\"\", \"\", \"\", \"\"], [\"Pan\", \"Pan axes with left mouse, zoom with right\", \"fa fa-arrows icon-move\", \"pan\"], [\"Zoom\", \"Zoom to rectangle\", \"fa fa-square-o icon-check-empty\", \"zoom\"], [\"\", \"\", \"\", \"\"], [\"Download\", \"Download plot\", \"fa fa-floppy-o icon-save\", \"download\"]];\n",
       "\n",
       "mpl.extensions = [\"eps\", \"jpeg\", \"pdf\", \"png\", \"ps\", \"raw\", \"svg\", \"tif\"];\n",
       "\n",
       "mpl.default_extension = \"png\";var comm_websocket_adapter = function(comm) {\n",
       "    // Create a \"websocket\"-like object which calls the given IPython comm\n",
       "    // object with the appropriate methods. Currently this is a non binary\n",
       "    // socket, so there is still some room for performance tuning.\n",
       "    var ws = {};\n",
       "\n",
       "    ws.close = function() {\n",
       "        comm.close()\n",
       "    };\n",
       "    ws.send = function(m) {\n",
       "        //console.log('sending', m);\n",
       "        comm.send(m);\n",
       "    };\n",
       "    // Register the callback with on_msg.\n",
       "    comm.on_msg(function(msg) {\n",
       "        //console.log('receiving', msg['content']['data'], msg);\n",
       "        // Pass the mpl event to the overridden (by mpl) onmessage function.\n",
       "        ws.onmessage(msg['content']['data'])\n",
       "    });\n",
       "    return ws;\n",
       "}\n",
       "\n",
       "mpl.mpl_figure_comm = function(comm, msg) {\n",
       "    // This is the function which gets called when the mpl process\n",
       "    // starts-up an IPython Comm through the \"matplotlib\" channel.\n",
       "\n",
       "    var id = msg.content.data.id;\n",
       "    // Get hold of the div created by the display call when the Comm\n",
       "    // socket was opened in Python.\n",
       "    var element = $(\"#\" + id);\n",
       "    var ws_proxy = comm_websocket_adapter(comm)\n",
       "\n",
       "    function ondownload(figure, format) {\n",
       "        window.open(figure.imageObj.src);\n",
       "    }\n",
       "\n",
       "    var fig = new mpl.figure(id, ws_proxy,\n",
       "                           ondownload,\n",
       "                           element.get(0));\n",
       "\n",
       "    // Call onopen now - mpl needs it, as it is assuming we've passed it a real\n",
       "    // web socket which is closed, not our websocket->open comm proxy.\n",
       "    ws_proxy.onopen();\n",
       "\n",
       "    fig.parent_element = element.get(0);\n",
       "    fig.cell_info = mpl.find_output_cell(\"<div id='\" + id + \"'></div>\");\n",
       "    if (!fig.cell_info) {\n",
       "        console.error(\"Failed to find cell for figure\", id, fig);\n",
       "        return;\n",
       "    }\n",
       "\n",
       "    var output_index = fig.cell_info[2]\n",
       "    var cell = fig.cell_info[0];\n",
       "\n",
       "};\n",
       "\n",
       "mpl.figure.prototype.handle_close = function(fig, msg) {\n",
       "    var width = fig.canvas.width/mpl.ratio\n",
       "    fig.root.unbind('remove')\n",
       "\n",
       "    // Update the output cell to use the data from the current canvas.\n",
       "    fig.push_to_output();\n",
       "    var dataURL = fig.canvas.toDataURL();\n",
       "    // Re-enable the keyboard manager in IPython - without this line, in FF,\n",
       "    // the notebook keyboard shortcuts fail.\n",
       "    IPython.keyboard_manager.enable()\n",
       "    $(fig.parent_element).html('<img src=\"' + dataURL + '\" width=\"' + width + '\">');\n",
       "    fig.close_ws(fig, msg);\n",
       "}\n",
       "\n",
       "mpl.figure.prototype.close_ws = function(fig, msg){\n",
       "    fig.send_message('closing', msg);\n",
       "    // fig.ws.close()\n",
       "}\n",
       "\n",
       "mpl.figure.prototype.push_to_output = function(remove_interactive) {\n",
       "    // Turn the data on the canvas into data in the output cell.\n",
       "    var width = this.canvas.width/mpl.ratio\n",
       "    var dataURL = this.canvas.toDataURL();\n",
       "    this.cell_info[1]['text/html'] = '<img src=\"' + dataURL + '\" width=\"' + width + '\">';\n",
       "}\n",
       "\n",
       "mpl.figure.prototype.updated_canvas_event = function() {\n",
       "    // Tell IPython that the notebook contents must change.\n",
       "    IPython.notebook.set_dirty(true);\n",
       "    this.send_message(\"ack\", {});\n",
       "    var fig = this;\n",
       "    // Wait a second, then push the new image to the DOM so\n",
       "    // that it is saved nicely (might be nice to debounce this).\n",
       "    setTimeout(function () { fig.push_to_output() }, 1000);\n",
       "}\n",
       "\n",
       "mpl.figure.prototype._init_toolbar = function() {\n",
       "    var fig = this;\n",
       "\n",
       "    var nav_element = $('<div/>')\n",
       "    nav_element.attr('style', 'width: 100%');\n",
       "    this.root.append(nav_element);\n",
       "\n",
       "    // Define a callback function for later on.\n",
       "    function toolbar_event(event) {\n",
       "        return fig.toolbar_button_onclick(event['data']);\n",
       "    }\n",
       "    function toolbar_mouse_event(event) {\n",
       "        return fig.toolbar_button_onmouseover(event['data']);\n",
       "    }\n",
       "\n",
       "    for(var toolbar_ind in mpl.toolbar_items){\n",
       "        var name = mpl.toolbar_items[toolbar_ind][0];\n",
       "        var tooltip = mpl.toolbar_items[toolbar_ind][1];\n",
       "        var image = mpl.toolbar_items[toolbar_ind][2];\n",
       "        var method_name = mpl.toolbar_items[toolbar_ind][3];\n",
       "\n",
       "        if (!name) { continue; };\n",
       "\n",
       "        var button = $('<button class=\"btn btn-default\" href=\"#\" title=\"' + name + '\"><i class=\"fa ' + image + ' fa-lg\"></i></button>');\n",
       "        button.click(method_name, toolbar_event);\n",
       "        button.mouseover(tooltip, toolbar_mouse_event);\n",
       "        nav_element.append(button);\n",
       "    }\n",
       "\n",
       "    // Add the status bar.\n",
       "    var status_bar = $('<span class=\"mpl-message\" style=\"text-align:right; float: right;\"/>');\n",
       "    nav_element.append(status_bar);\n",
       "    this.message = status_bar[0];\n",
       "\n",
       "    // Add the close button to the window.\n",
       "    var buttongrp = $('<div class=\"btn-group inline pull-right\"></div>');\n",
       "    var button = $('<button class=\"btn btn-mini btn-primary\" href=\"#\" title=\"Stop Interaction\"><i class=\"fa fa-power-off icon-remove icon-large\"></i></button>');\n",
       "    button.click(function (evt) { fig.handle_close(fig, {}); } );\n",
       "    button.mouseover('Stop Interaction', toolbar_mouse_event);\n",
       "    buttongrp.append(button);\n",
       "    var titlebar = this.root.find($('.ui-dialog-titlebar'));\n",
       "    titlebar.prepend(buttongrp);\n",
       "}\n",
       "\n",
       "mpl.figure.prototype._root_extra_style = function(el){\n",
       "    var fig = this\n",
       "    el.on(\"remove\", function(){\n",
       "\tfig.close_ws(fig, {});\n",
       "    });\n",
       "}\n",
       "\n",
       "mpl.figure.prototype._canvas_extra_style = function(el){\n",
       "    // this is important to make the div 'focusable\n",
       "    el.attr('tabindex', 0)\n",
       "    // reach out to IPython and tell the keyboard manager to turn it's self\n",
       "    // off when our div gets focus\n",
       "\n",
       "    // location in version 3\n",
       "    if (IPython.notebook.keyboard_manager) {\n",
       "        IPython.notebook.keyboard_manager.register_events(el);\n",
       "    }\n",
       "    else {\n",
       "        // location in version 2\n",
       "        IPython.keyboard_manager.register_events(el);\n",
       "    }\n",
       "\n",
       "}\n",
       "\n",
       "mpl.figure.prototype._key_event_extra = function(event, name) {\n",
       "    var manager = IPython.notebook.keyboard_manager;\n",
       "    if (!manager)\n",
       "        manager = IPython.keyboard_manager;\n",
       "\n",
       "    // Check for shift+enter\n",
       "    if (event.shiftKey && event.which == 13) {\n",
       "        this.canvas_div.blur();\n",
       "        event.shiftKey = false;\n",
       "        // Send a \"J\" for go to next cell\n",
       "        event.which = 74;\n",
       "        event.keyCode = 74;\n",
       "        manager.command_mode();\n",
       "        manager.handle_keydown(event);\n",
       "    }\n",
       "}\n",
       "\n",
       "mpl.figure.prototype.handle_save = function(fig, msg) {\n",
       "    fig.ondownload(fig, null);\n",
       "}\n",
       "\n",
       "\n",
       "mpl.find_output_cell = function(html_output) {\n",
       "    // Return the cell and output element which can be found *uniquely* in the notebook.\n",
       "    // Note - this is a bit hacky, but it is done because the \"notebook_saving.Notebook\"\n",
       "    // IPython event is triggered only after the cells have been serialised, which for\n",
       "    // our purposes (turning an active figure into a static one), is too late.\n",
       "    var cells = IPython.notebook.get_cells();\n",
       "    var ncells = cells.length;\n",
       "    for (var i=0; i<ncells; i++) {\n",
       "        var cell = cells[i];\n",
       "        if (cell.cell_type === 'code'){\n",
       "            for (var j=0; j<cell.output_area.outputs.length; j++) {\n",
       "                var data = cell.output_area.outputs[j];\n",
       "                if (data.data) {\n",
       "                    // IPython >= 3 moved mimebundle to data attribute of output\n",
       "                    data = data.data;\n",
       "                }\n",
       "                if (data['text/html'] == html_output) {\n",
       "                    return [cell, data, j];\n",
       "                }\n",
       "            }\n",
       "        }\n",
       "    }\n",
       "}\n",
       "\n",
       "// Register the function which deals with the matplotlib target/channel.\n",
       "// The kernel may be null if the page has been refreshed.\n",
       "if (IPython.notebook.kernel != null) {\n",
       "    IPython.notebook.kernel.comm_manager.register_target('matplotlib', mpl.mpl_figure_comm);\n",
       "}\n"
      ],
      "text/plain": [
       "<IPython.core.display.Javascript object>"
      ]
     },
     "metadata": {},
     "output_type": "display_data"
    },
    {
     "data": {
      "text/html": [
       "<img src=\"data:image/png;base64,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\" width=\"2000\">"
      ],
      "text/plain": [
       "<IPython.core.display.HTML object>"
      ]
     },
     "metadata": {},
     "output_type": "display_data"
    },
    {
     "data": {
      "text/plain": [
       "array([[<matplotlib.axes._subplots.AxesSubplot object at 0x000002316A7AFDA0>,\n",
       "        <matplotlib.axes._subplots.AxesSubplot object at 0x000002316A8054E0>,\n",
       "        <matplotlib.axes._subplots.AxesSubplot object at 0x000002316A82D908>,\n",
       "        <matplotlib.axes._subplots.AxesSubplot object at 0x000002316A855DD8>,\n",
       "        <matplotlib.axes._subplots.AxesSubplot object at 0x000002316A884390>],\n",
       "       [<matplotlib.axes._subplots.AxesSubplot object at 0x000002316A8AA908>,\n",
       "        <matplotlib.axes._subplots.AxesSubplot object at 0x000002316A8D0E80>,\n",
       "        <matplotlib.axes._subplots.AxesSubplot object at 0x000002316A902438>,\n",
       "        <matplotlib.axes._subplots.AxesSubplot object at 0x000002316A902470>,\n",
       "        <matplotlib.axes._subplots.AxesSubplot object at 0x000002316A952EF0>],\n",
       "       [<matplotlib.axes._subplots.AxesSubplot object at 0x000002316A9824A8>,\n",
       "        <matplotlib.axes._subplots.AxesSubplot object at 0x000002316A9A9A20>,\n",
       "        <matplotlib.axes._subplots.AxesSubplot object at 0x000002316A9D2F98>,\n",
       "        <matplotlib.axes._subplots.AxesSubplot object at 0x000002316AA01550>,\n",
       "        <matplotlib.axes._subplots.AxesSubplot object at 0x000002316AA28AC8>],\n",
       "       [<matplotlib.axes._subplots.AxesSubplot object at 0x000002316AC1A080>,\n",
       "        <matplotlib.axes._subplots.AxesSubplot object at 0x000002316AC415F8>,\n",
       "        <matplotlib.axes._subplots.AxesSubplot object at 0x000002316AC67B70>,\n",
       "        <matplotlib.axes._subplots.AxesSubplot object at 0x000002316AC97128>,\n",
       "        <matplotlib.axes._subplots.AxesSubplot object at 0x000002316ACBD6A0>],\n",
       "       [<matplotlib.axes._subplots.AxesSubplot object at 0x000002316ACE5C18>,\n",
       "        <matplotlib.axes._subplots.AxesSubplot object at 0x000002316AD161D0>,\n",
       "        <matplotlib.axes._subplots.AxesSubplot object at 0x000002316AD40748>,\n",
       "        <matplotlib.axes._subplots.AxesSubplot object at 0x000002316AD68CC0>,\n",
       "        <matplotlib.axes._subplots.AxesSubplot object at 0x000002316AD99278>]],\n",
       "      dtype=object)"
      ]
     },
     "execution_count": 149,
     "metadata": {},
     "output_type": "execute_result"
    }
   ],
   "source": [
    "# Investigated the merged data\n",
    "\n",
    "merged_train.hist(bins=60, figsize=(20,15))\n"
   ]
  },
  {
   "cell_type": "markdown",
   "metadata": {
    "id": "Mkug94hkprGV"
   },
   "source": [
    "#### Key observations:\n",
    "- Platform type 3 is the most prefered.\n",
    "- Placement, confirmation and pickup day of the month indicates that majority of orders are made at the beginning and towards the end of the month.\n",
    "- These orders are mainly made on weekdays as shown by weekday data. \n",
    "- Distance data is postively skewed, majority of orders are at short distance. Peaking at around 2000 for 6-7 kilometers.\n",
    "- Temperature is normal distributed, with an expected peak around the mean as we resolved the missing values by mean.\n",
    "- As expected, the precipitations follows the same trend as temperature, indicating a peak around the value we resolved the missing values by. In this case, it is zero. \n",
    "- Latitutides and longitutes are more centered around the mean. \n",
    "- No. of orders, Age and No. of ratings indicates positive skewness with an evidence of outliers. \n",
    "- Drivers received ratings between 12 and 15.\n",
    "- All in all, the target variable is positively skewed, with majority of driveriver arriving at the destination within 23 min from the pickup point."
   ]
  },
  {
   "cell_type": "markdown",
   "metadata": {
    "id": "KaovR74_VDni"
   },
   "source": [
    "### Variable Selection by correlation and significance ##\n",
    "\n",
    "- We have more predictor variables to choose from, so we need a way of guiding us to choose the best ones to be our predictors. One way is to look at the correlations between the Time from Pickup to Arrival and each variables in our DataFrame and select those with the strongest correlations (both positive and negative).\n",
    "\n",
    "- We also need to consider how significant those features are.\n",
    "\n",
    "- The code below will create a new DataFrame and store the correlation coefficents and p-values in that DataFrame"
   ]
  },
  {
   "cell_type": "code",
   "execution_count": 110,
   "metadata": {
    "colab": {
     "base_uri": "https://localhost:8080/",
     "height": 386
    },
    "id": "KfxjzO25VDnj",
    "outputId": "4803860c-d663-478a-a189-39342f6505da",
    "scrolled": true
   },
   "outputs": [
    {
     "data": {
      "text/plain": [
       "Time from Pickup to Arrival     1.000000\n",
       "Distance (KM)                   0.580608\n",
       "Destination Long                0.070425\n",
       "Pickup Long                     0.060285\n",
       "Precipitation in millimeters    0.024756\n",
       "Temperature                     0.005772\n",
       "Platform Type                  -0.003827\n",
       "Age                            -0.007969\n",
       "Placement - Day of Month       -0.014710\n",
       "Pickup Lat                     -0.053823\n",
       "Destination Lat                -0.061872\n",
       "Name: Time from Pickup to Arrival, dtype: float64"
      ]
     },
     "execution_count": 110,
     "metadata": {},
     "output_type": "execute_result"
    }
   ],
   "source": [
    "# Calculate correlations between predictor variables and the response variable\n",
    "corrs = merged_train .corr()['Time from Pickup to Arrival'].sort_values(ascending=False)\n",
    "corrs"
   ]
  },
  {
   "cell_type": "code",
   "execution_count": 111,
   "metadata": {
    "colab": {
     "base_uri": "https://localhost:8080/",
     "height": 460
    },
    "id": "gy_c7a-yprGd",
    "outputId": "c48ac062-2876-4d38-fe91-a96396f80540",
    "scrolled": true
   },
   "outputs": [
    {
     "data": {
      "text/plain": [
       "<matplotlib.axes._subplots.AxesSubplot at 0x23166c64ac8>"
      ]
     },
     "execution_count": 111,
     "metadata": {},
     "output_type": "execute_result"
    }
   ],
   "source": [
    "# Visualize the correlation using a heat map\n",
    "sns.heatmap(merged_train.corr(), square=True, annot = False)\n"
   ]
  },
  {
   "cell_type": "markdown",
   "metadata": {
    "id": "NBczLQ-QprGf"
   },
   "source": [
    "#### Observations:\n",
    "- There exists a fairly strong relationship between merged predictor variables; however, this has not affected the initial observation much in relation to the target variable.\n",
    "- We will investigate the correlation further using the p-values."
   ]
  },
  {
   "cell_type": "code",
   "execution_count": 150,
   "metadata": {
    "colab": {
     "base_uri": "https://localhost:8080/",
     "height": 373
    },
    "id": "Wdp4Vcy6VDnn",
    "outputId": "6609e44f-8d09-418a-d2f4-fe0be58bf90f"
   },
   "outputs": [
    {
     "data": {
      "text/html": [
       "<div>\n",
       "<style scoped>\n",
       "    .dataframe tbody tr th:only-of-type {\n",
       "        vertical-align: middle;\n",
       "    }\n",
       "\n",
       "    .dataframe tbody tr th {\n",
       "        vertical-align: top;\n",
       "    }\n",
       "\n",
       "    .dataframe thead th {\n",
       "        text-align: right;\n",
       "    }\n",
       "</style>\n",
       "<table border=\"1\" class=\"dataframe\">\n",
       "  <thead>\n",
       "    <tr style=\"text-align: right;\">\n",
       "      <th></th>\n",
       "      <th>Correlation_Coefficient</th>\n",
       "      <th>P_Value</th>\n",
       "    </tr>\n",
       "  </thead>\n",
       "  <tbody>\n",
       "    <tr>\n",
       "      <th>Distance (KM)</th>\n",
       "      <td>0.580608</td>\n",
       "      <td>0.000000</td>\n",
       "    </tr>\n",
       "    <tr>\n",
       "      <th>Destination Long</th>\n",
       "      <td>0.070425</td>\n",
       "      <td>0.000000</td>\n",
       "    </tr>\n",
       "    <tr>\n",
       "      <th>Pickup Long</th>\n",
       "      <td>0.060285</td>\n",
       "      <td>0.000000</td>\n",
       "    </tr>\n",
       "    <tr>\n",
       "      <th>Pickup Lat</th>\n",
       "      <td>-0.053823</td>\n",
       "      <td>0.000000</td>\n",
       "    </tr>\n",
       "    <tr>\n",
       "      <th>Destination Lat</th>\n",
       "      <td>-0.061872</td>\n",
       "      <td>0.000000</td>\n",
       "    </tr>\n",
       "    <tr>\n",
       "      <th>Placement - Day of Month</th>\n",
       "      <td>-0.014710</td>\n",
       "      <td>0.032205</td>\n",
       "    </tr>\n",
       "  </tbody>\n",
       "</table>\n",
       "</div>"
      ],
      "text/plain": [
       "                          Correlation_Coefficient   P_Value\n",
       "Distance (KM)                            0.580608  0.000000\n",
       "Destination Long                         0.070425  0.000000\n",
       "Pickup Long                              0.060285  0.000000\n",
       "Pickup Lat                              -0.053823  0.000000\n",
       "Destination Lat                         -0.061872  0.000000\n",
       "Placement - Day of Month                -0.014710  0.032205"
      ]
     },
     "execution_count": 150,
     "metadata": {},
     "output_type": "execute_result"
    }
   ],
   "source": [
    "# Build a dictionary of correlation coefficients and p-values\n",
    "dict_cp = {}\n",
    "\n",
    "column_titles = [col for col in corrs.index if col!= 'Time from Pickup to Arrival']\n",
    "for col in column_titles:\n",
    "    p_val = round(pearsonr(merged_train [col], merged_train ['Time from Pickup to Arrival'])[1],6)\n",
    "    dict_cp[col] = {'Correlation_Coefficient':corrs[col],\n",
    "                    'P_Value':p_val}\n",
    "\n",
    "df_cp = pd.DataFrame(dict_cp).T\n",
    "df_cp_sorted = df_cp.sort_values('P_Value')\n",
    "df_cp_sorted[df_cp_sorted['P_Value']<0.1]"
   ]
  },
  {
   "cell_type": "markdown",
   "metadata": {
    "id": "YqJTLpvVr4Xh"
   },
   "source": [
    "On the heatmap above we can see a lot of variables being highly corelated with each other. However, we are dropping all the predictors that are highly correlated with each other based on the heat map above because they have no significant relation with the required feature which will be used for our prediction. "
   ]
  },
  {
   "cell_type": "code",
   "execution_count": 151,
   "metadata": {
    "colab": {
     "base_uri": "https://localhost:8080/",
     "height": 366
    },
    "id": "NAQSfwYnVDnq",
    "outputId": "b2a7a3ed-b63b-4c52-ba95-0e554d5fcfe7",
    "scrolled": false
   },
   "outputs": [
    {
     "data": {
      "text/html": [
       "<div>\n",
       "<style scoped>\n",
       "    .dataframe tbody tr th:only-of-type {\n",
       "        vertical-align: middle;\n",
       "    }\n",
       "\n",
       "    .dataframe tbody tr th {\n",
       "        vertical-align: top;\n",
       "    }\n",
       "\n",
       "    .dataframe thead th {\n",
       "        text-align: right;\n",
       "    }\n",
       "</style>\n",
       "<table border=\"1\" class=\"dataframe\">\n",
       "  <thead>\n",
       "    <tr style=\"text-align: right;\">\n",
       "      <th></th>\n",
       "      <th>Platform Type</th>\n",
       "      <th>Personal or Business</th>\n",
       "      <th>Placement - Day of Month</th>\n",
       "      <th>Distance (KM)</th>\n",
       "      <th>Temperature</th>\n",
       "      <th>Precipitation in millimeters</th>\n",
       "      <th>Pickup Lat</th>\n",
       "      <th>Pickup Long</th>\n",
       "      <th>Destination Lat</th>\n",
       "      <th>Destination Long</th>\n",
       "      <th>Age</th>\n",
       "      <th>Time from Pickup to Arrival</th>\n",
       "    </tr>\n",
       "  </thead>\n",
       "  <tbody>\n",
       "    <tr>\n",
       "      <th>0</th>\n",
       "      <td>3</td>\n",
       "      <td>Business</td>\n",
       "      <td>9</td>\n",
       "      <td>4</td>\n",
       "      <td>20.400000</td>\n",
       "      <td>0.0</td>\n",
       "      <td>-1.317755</td>\n",
       "      <td>36.830370</td>\n",
       "      <td>-1.300406</td>\n",
       "      <td>36.829741</td>\n",
       "      <td>1309</td>\n",
       "      <td>745</td>\n",
       "    </tr>\n",
       "    <tr>\n",
       "      <th>1</th>\n",
       "      <td>3</td>\n",
       "      <td>Personal</td>\n",
       "      <td>12</td>\n",
       "      <td>16</td>\n",
       "      <td>26.400000</td>\n",
       "      <td>0.0</td>\n",
       "      <td>-1.351453</td>\n",
       "      <td>36.899315</td>\n",
       "      <td>-1.295004</td>\n",
       "      <td>36.814358</td>\n",
       "      <td>339</td>\n",
       "      <td>1993</td>\n",
       "    </tr>\n",
       "    <tr>\n",
       "      <th>2</th>\n",
       "      <td>3</td>\n",
       "      <td>Business</td>\n",
       "      <td>30</td>\n",
       "      <td>3</td>\n",
       "      <td>23.258889</td>\n",
       "      <td>0.0</td>\n",
       "      <td>-1.308284</td>\n",
       "      <td>36.843419</td>\n",
       "      <td>-1.300921</td>\n",
       "      <td>36.828195</td>\n",
       "      <td>242</td>\n",
       "      <td>455</td>\n",
       "    </tr>\n",
       "    <tr>\n",
       "      <th>3</th>\n",
       "      <td>3</td>\n",
       "      <td>Business</td>\n",
       "      <td>15</td>\n",
       "      <td>9</td>\n",
       "      <td>19.200000</td>\n",
       "      <td>0.0</td>\n",
       "      <td>-1.281301</td>\n",
       "      <td>36.832396</td>\n",
       "      <td>-1.257147</td>\n",
       "      <td>36.795063</td>\n",
       "      <td>283</td>\n",
       "      <td>1341</td>\n",
       "    </tr>\n",
       "    <tr>\n",
       "      <th>4</th>\n",
       "      <td>1</td>\n",
       "      <td>Personal</td>\n",
       "      <td>13</td>\n",
       "      <td>9</td>\n",
       "      <td>15.400000</td>\n",
       "      <td>0.0</td>\n",
       "      <td>-1.266597</td>\n",
       "      <td>36.792118</td>\n",
       "      <td>-1.295041</td>\n",
       "      <td>36.809817</td>\n",
       "      <td>872</td>\n",
       "      <td>1214</td>\n",
       "    </tr>\n",
       "  </tbody>\n",
       "</table>\n",
       "</div>"
      ],
      "text/plain": [
       "   Platform Type Personal or Business  Placement - Day of Month  \\\n",
       "0              3             Business                         9   \n",
       "1              3             Personal                        12   \n",
       "2              3             Business                        30   \n",
       "3              3             Business                        15   \n",
       "4              1             Personal                        13   \n",
       "\n",
       "   Distance (KM)  Temperature  Precipitation in millimeters  Pickup Lat  \\\n",
       "0              4    20.400000                           0.0   -1.317755   \n",
       "1             16    26.400000                           0.0   -1.351453   \n",
       "2              3    23.258889                           0.0   -1.308284   \n",
       "3              9    19.200000                           0.0   -1.281301   \n",
       "4              9    15.400000                           0.0   -1.266597   \n",
       "\n",
       "   Pickup Long  Destination Lat  Destination Long   Age  \\\n",
       "0    36.830370        -1.300406         36.829741  1309   \n",
       "1    36.899315        -1.295004         36.814358   339   \n",
       "2    36.843419        -1.300921         36.828195   242   \n",
       "3    36.832396        -1.257147         36.795063   283   \n",
       "4    36.792118        -1.295041         36.809817   872   \n",
       "\n",
       "   Time from Pickup to Arrival  \n",
       "0                          745  \n",
       "1                         1993  \n",
       "2                          455  \n",
       "3                         1341  \n",
       "4                         1214  "
      ]
     },
     "execution_count": 151,
     "metadata": {},
     "output_type": "execute_result"
    }
   ],
   "source": [
    "#dropping highly correlated predictors and the ones that were not selected above.\n",
    "merged_train = merged_train.drop(['Placement - Weekday (Mo = 1)', 'Placement - Weekday (Mo = 1)','Confirmation - Day of Month','Confirmation - Weekday (Mo = 1)','Arrival at Pickup - Day of Month','Arrival at Pickup - Weekday (Mo = 1)','Pickup - Day of Month','Pickup - Weekday (Mo = 1)',\n",
    "                                  'No_of_Ratings','No_Of_Orders','Average_Rating'], axis = 1)\n",
    "\n",
    "merged_test = merged_test.drop(['Placement - Weekday (Mo = 1)', 'Placement - Weekday (Mo = 1)','Confirmation - Day of Month','Confirmation - Weekday (Mo = 1)','Arrival at Pickup - Day of Month','Arrival at Pickup - Weekday (Mo = 1)','Pickup - Day of Month','Pickup - Weekday (Mo = 1)',\n",
    "                                'No_of_Ratings','No_Of_Orders','Average_Rating'], axis = 1)\n",
    "\n",
    "\n",
    "#dropping the irrelevant columns \n",
    "merged_train = merged_train.drop(['User Id','Vehicle Type','Rider Id',\n",
    "                                  'Confirmation - Time', ], axis = 1)\n",
    "\n",
    "merged_test = merged_test.drop(['User Id','Vehicle Type','Rider Id', \n",
    "                                'Confirmation - Time'], axis = 1)\n",
    "\n",
    "merged_train.drop(['Placement - Time','Arrival at Pickup - Time','Pickup - Time','Order No'], axis = 1, inplace = True)\n",
    "merged_test.drop(['Placement - Time','Arrival at Pickup - Time','Pickup - Time','Order No'], axis = 1, inplace = True)\n",
    "\n",
    "# Viewing the new dataset of the left columns that were not dropped. \n",
    "merged_train.head()\n",
    "\n"
   ]
  },
  {
   "cell_type": "code",
   "execution_count": 152,
   "metadata": {},
   "outputs": [
    {
     "data": {
      "text/plain": [
       "(21201, 12)"
      ]
     },
     "execution_count": 152,
     "metadata": {},
     "output_type": "execute_result"
    }
   ],
   "source": [
    "# We note that the columns fom the merged_trained dataframe have dropped from 30 to 16. \n",
    "merged_train.shape"
   ]
  },
  {
   "cell_type": "markdown",
   "metadata": {
    "id": "nzySDi_Tg9qw"
   },
   "source": [
    "#### Creating a copy of both the datasets"
   ]
  },
  {
   "cell_type": "code",
   "execution_count": 153,
   "metadata": {
    "id": "dGkwJxGdVDnu",
    "scrolled": true
   },
   "outputs": [],
   "source": [
    "# Copy of the test and train datasets.\n",
    "merged_train_copy = merged_train.copy()\n",
    "merged_test_copy = merged_train.copy()"
   ]
  },
  {
   "cell_type": "code",
   "execution_count": 157,
   "metadata": {
    "colab": {
     "base_uri": "https://localhost:8080/",
     "height": 262
    },
    "id": "eOAt58wxjQ2u",
    "outputId": "42c9f516-cd53-47e3-e69e-076da1ef4bdf"
   },
   "outputs": [
    {
     "data": {
      "text/html": [
       "<div>\n",
       "<style scoped>\n",
       "    .dataframe tbody tr th:only-of-type {\n",
       "        vertical-align: middle;\n",
       "    }\n",
       "\n",
       "    .dataframe tbody tr th {\n",
       "        vertical-align: top;\n",
       "    }\n",
       "\n",
       "    .dataframe thead th {\n",
       "        text-align: right;\n",
       "    }\n",
       "</style>\n",
       "<table border=\"1\" class=\"dataframe\">\n",
       "  <thead>\n",
       "    <tr style=\"text-align: right;\">\n",
       "      <th></th>\n",
       "      <th>Platform Type</th>\n",
       "      <th>Personal or Business</th>\n",
       "      <th>Placement - Day of Month</th>\n",
       "      <th>Distance (KM)</th>\n",
       "      <th>Temperature</th>\n",
       "      <th>Precipitation in millimeters</th>\n",
       "      <th>Pickup Lat</th>\n",
       "      <th>Pickup Long</th>\n",
       "      <th>Destination Lat</th>\n",
       "      <th>Destination Long</th>\n",
       "      <th>Age</th>\n",
       "      <th>Time from Pickup to Arrival</th>\n",
       "    </tr>\n",
       "  </thead>\n",
       "  <tbody>\n",
       "    <tr>\n",
       "      <th>0</th>\n",
       "      <td>3</td>\n",
       "      <td>Business</td>\n",
       "      <td>9</td>\n",
       "      <td>4</td>\n",
       "      <td>20.4</td>\n",
       "      <td>0.0</td>\n",
       "      <td>-1.317755</td>\n",
       "      <td>36.830370</td>\n",
       "      <td>-1.300406</td>\n",
       "      <td>36.829741</td>\n",
       "      <td>1309</td>\n",
       "      <td>745</td>\n",
       "    </tr>\n",
       "    <tr>\n",
       "      <th>1</th>\n",
       "      <td>3</td>\n",
       "      <td>Personal</td>\n",
       "      <td>12</td>\n",
       "      <td>16</td>\n",
       "      <td>26.4</td>\n",
       "      <td>0.0</td>\n",
       "      <td>-1.351453</td>\n",
       "      <td>36.899315</td>\n",
       "      <td>-1.295004</td>\n",
       "      <td>36.814358</td>\n",
       "      <td>339</td>\n",
       "      <td>1993</td>\n",
       "    </tr>\n",
       "  </tbody>\n",
       "</table>\n",
       "</div>"
      ],
      "text/plain": [
       "   Platform Type Personal or Business  Placement - Day of Month  \\\n",
       "0              3             Business                         9   \n",
       "1              3             Personal                        12   \n",
       "\n",
       "   Distance (KM)  Temperature  Precipitation in millimeters  Pickup Lat  \\\n",
       "0              4         20.4                           0.0   -1.317755   \n",
       "1             16         26.4                           0.0   -1.351453   \n",
       "\n",
       "   Pickup Long  Destination Lat  Destination Long   Age  \\\n",
       "0    36.830370        -1.300406         36.829741  1309   \n",
       "1    36.899315        -1.295004         36.814358   339   \n",
       "\n",
       "   Time from Pickup to Arrival  \n",
       "0                          745  \n",
       "1                         1993  "
      ]
     },
     "execution_count": 157,
     "metadata": {},
     "output_type": "execute_result"
    }
   ],
   "source": [
    "# View of the first 2 columns of the merged_train_copy datatset.\n",
    "merged_train_copy.head(2)"
   ]
  },
  {
   "cell_type": "code",
   "execution_count": 158,
   "metadata": {
    "colab": {
     "base_uri": "https://localhost:8080/",
     "height": 123
    },
    "id": "GceqpaaQjo7Q",
    "outputId": "90482e2a-0b63-485f-8c8e-edefa35685b9"
   },
   "outputs": [
    {
     "data": {
      "text/html": [
       "<div>\n",
       "<style scoped>\n",
       "    .dataframe tbody tr th:only-of-type {\n",
       "        vertical-align: middle;\n",
       "    }\n",
       "\n",
       "    .dataframe tbody tr th {\n",
       "        vertical-align: top;\n",
       "    }\n",
       "\n",
       "    .dataframe thead th {\n",
       "        text-align: right;\n",
       "    }\n",
       "</style>\n",
       "<table border=\"1\" class=\"dataframe\">\n",
       "  <thead>\n",
       "    <tr style=\"text-align: right;\">\n",
       "      <th></th>\n",
       "      <th>Platform Type</th>\n",
       "      <th>Personal or Business</th>\n",
       "      <th>Placement - Day of Month</th>\n",
       "      <th>Distance (KM)</th>\n",
       "      <th>Temperature</th>\n",
       "      <th>Precipitation in millimeters</th>\n",
       "      <th>Pickup Lat</th>\n",
       "      <th>Pickup Long</th>\n",
       "      <th>Destination Lat</th>\n",
       "      <th>Destination Long</th>\n",
       "      <th>Age</th>\n",
       "    </tr>\n",
       "  </thead>\n",
       "  <tbody>\n",
       "    <tr>\n",
       "      <th>0</th>\n",
       "      <td>3</td>\n",
       "      <td>Business</td>\n",
       "      <td>27</td>\n",
       "      <td>8</td>\n",
       "      <td>23.24612</td>\n",
       "      <td>0.0</td>\n",
       "      <td>-1.333275</td>\n",
       "      <td>36.870815</td>\n",
       "      <td>-1.305249</td>\n",
       "      <td>36.822390</td>\n",
       "      <td>1511</td>\n",
       "    </tr>\n",
       "    <tr>\n",
       "      <th>1</th>\n",
       "      <td>3</td>\n",
       "      <td>Business</td>\n",
       "      <td>17</td>\n",
       "      <td>5</td>\n",
       "      <td>23.24612</td>\n",
       "      <td>0.0</td>\n",
       "      <td>-1.272639</td>\n",
       "      <td>36.794723</td>\n",
       "      <td>-1.277007</td>\n",
       "      <td>36.823907</td>\n",
       "      <td>273</td>\n",
       "    </tr>\n",
       "  </tbody>\n",
       "</table>\n",
       "</div>"
      ],
      "text/plain": [
       "   Platform Type Personal or Business  Placement - Day of Month  \\\n",
       "0              3             Business                        27   \n",
       "1              3             Business                        17   \n",
       "\n",
       "   Distance (KM)  Temperature  Precipitation in millimeters  Pickup Lat  \\\n",
       "0              8     23.24612                           0.0   -1.333275   \n",
       "1              5     23.24612                           0.0   -1.272639   \n",
       "\n",
       "   Pickup Long  Destination Lat  Destination Long   Age  \n",
       "0    36.870815        -1.305249         36.822390  1511  \n",
       "1    36.794723        -1.277007         36.823907   273  "
      ]
     },
     "execution_count": 158,
     "metadata": {},
     "output_type": "execute_result"
    }
   ],
   "source": [
    "# View of the first 2 columns of the merged_test_copy datatset.\n",
    "merged_test.head(2)"
   ]
  },
  {
   "cell_type": "markdown",
   "metadata": {
    "id": "-Gpt5uN4VDn1"
   },
   "source": [
    "\n",
    "## Encoding the categorical data ##\n",
    " - Bussiness column is a categorical data and needs to be manipulated. This can be done by using the `pandas.get_dummies()` which converts categorical data into dummy or indicator variables.\n"
   ]
  },
  {
   "cell_type": "code",
   "execution_count": 159,
   "metadata": {
    "colab": {
     "base_uri": "https://localhost:8080/",
     "height": 262
    },
    "id": "wkSd0QBSirsZ",
    "outputId": "cb52e04a-56f8-4695-f6a3-65190aec036b",
    "scrolled": true
   },
   "outputs": [
    {
     "data": {
      "text/html": [
       "<div>\n",
       "<style scoped>\n",
       "    .dataframe tbody tr th:only-of-type {\n",
       "        vertical-align: middle;\n",
       "    }\n",
       "\n",
       "    .dataframe tbody tr th {\n",
       "        vertical-align: top;\n",
       "    }\n",
       "\n",
       "    .dataframe thead th {\n",
       "        text-align: right;\n",
       "    }\n",
       "</style>\n",
       "<table border=\"1\" class=\"dataframe\">\n",
       "  <thead>\n",
       "    <tr style=\"text-align: right;\">\n",
       "      <th></th>\n",
       "      <th>Platform Type</th>\n",
       "      <th>Personal or Business</th>\n",
       "      <th>Placement - Day of Month</th>\n",
       "      <th>Distance (KM)</th>\n",
       "      <th>Temperature</th>\n",
       "      <th>Precipitation in millimeters</th>\n",
       "      <th>Pickup Lat</th>\n",
       "      <th>Pickup Long</th>\n",
       "      <th>Destination Lat</th>\n",
       "      <th>Destination Long</th>\n",
       "      <th>Age</th>\n",
       "      <th>Time from Pickup to Arrival</th>\n",
       "    </tr>\n",
       "  </thead>\n",
       "  <tbody>\n",
       "    <tr>\n",
       "      <th>0</th>\n",
       "      <td>3</td>\n",
       "      <td>Business</td>\n",
       "      <td>9</td>\n",
       "      <td>4</td>\n",
       "      <td>20.4</td>\n",
       "      <td>0.0</td>\n",
       "      <td>-1.317755</td>\n",
       "      <td>36.830370</td>\n",
       "      <td>-1.300406</td>\n",
       "      <td>36.829741</td>\n",
       "      <td>1309</td>\n",
       "      <td>745</td>\n",
       "    </tr>\n",
       "    <tr>\n",
       "      <th>1</th>\n",
       "      <td>3</td>\n",
       "      <td>Personal</td>\n",
       "      <td>12</td>\n",
       "      <td>16</td>\n",
       "      <td>26.4</td>\n",
       "      <td>0.0</td>\n",
       "      <td>-1.351453</td>\n",
       "      <td>36.899315</td>\n",
       "      <td>-1.295004</td>\n",
       "      <td>36.814358</td>\n",
       "      <td>339</td>\n",
       "      <td>1993</td>\n",
       "    </tr>\n",
       "  </tbody>\n",
       "</table>\n",
       "</div>"
      ],
      "text/plain": [
       "   Platform Type Personal or Business  Placement - Day of Month  \\\n",
       "0              3             Business                         9   \n",
       "1              3             Personal                        12   \n",
       "\n",
       "   Distance (KM)  Temperature  Precipitation in millimeters  Pickup Lat  \\\n",
       "0              4         20.4                           0.0   -1.317755   \n",
       "1             16         26.4                           0.0   -1.351453   \n",
       "\n",
       "   Pickup Long  Destination Lat  Destination Long   Age  \\\n",
       "0    36.830370        -1.300406         36.829741  1309   \n",
       "1    36.899315        -1.295004         36.814358   339   \n",
       "\n",
       "   Time from Pickup to Arrival  \n",
       "0                          745  \n",
       "1                         1993  "
      ]
     },
     "execution_count": 159,
     "metadata": {},
     "output_type": "execute_result"
    }
   ],
   "source": [
    "# We view the merged_train dataframe to see that the 'Personal or Business' is a categorical data. \n",
    "merged_train.head(2)"
   ]
  },
  {
   "cell_type": "markdown",
   "metadata": {},
   "source": [
    "We then manipulate this data so that it can be numerical as the other featured in the above dataframe."
   ]
  },
  {
   "cell_type": "code",
   "execution_count": 160,
   "metadata": {
    "id": "p2TmoHh7VDn2",
    "scrolled": true
   },
   "outputs": [],
   "source": [
    "# Implementing the pd.get_dummies method. \n",
    "merged_train= pd.get_dummies(merged_train, drop_first=True)\n",
    "merged_test = pd.get_dummies(merged_test, drop_first=True)"
   ]
  },
  {
   "cell_type": "code",
   "execution_count": 161,
   "metadata": {
    "colab": {
     "base_uri": "https://localhost:8080/",
     "height": 262
    },
    "id": "IcCMZHRxVDn5",
    "outputId": "7daf7642-512c-4eea-edc5-400a4c69e3d9"
   },
   "outputs": [
    {
     "data": {
      "text/html": [
       "<div>\n",
       "<style scoped>\n",
       "    .dataframe tbody tr th:only-of-type {\n",
       "        vertical-align: middle;\n",
       "    }\n",
       "\n",
       "    .dataframe tbody tr th {\n",
       "        vertical-align: top;\n",
       "    }\n",
       "\n",
       "    .dataframe thead th {\n",
       "        text-align: right;\n",
       "    }\n",
       "</style>\n",
       "<table border=\"1\" class=\"dataframe\">\n",
       "  <thead>\n",
       "    <tr style=\"text-align: right;\">\n",
       "      <th></th>\n",
       "      <th>Platform Type</th>\n",
       "      <th>Placement - Day of Month</th>\n",
       "      <th>Distance (KM)</th>\n",
       "      <th>Temperature</th>\n",
       "      <th>Precipitation in millimeters</th>\n",
       "      <th>Pickup Lat</th>\n",
       "      <th>Pickup Long</th>\n",
       "      <th>Destination Lat</th>\n",
       "      <th>Destination Long</th>\n",
       "      <th>Age</th>\n",
       "      <th>Time from Pickup to Arrival</th>\n",
       "      <th>Personal or Business_Personal</th>\n",
       "    </tr>\n",
       "  </thead>\n",
       "  <tbody>\n",
       "    <tr>\n",
       "      <th>0</th>\n",
       "      <td>3</td>\n",
       "      <td>9</td>\n",
       "      <td>4</td>\n",
       "      <td>20.400000</td>\n",
       "      <td>0.0</td>\n",
       "      <td>-1.317755</td>\n",
       "      <td>36.830370</td>\n",
       "      <td>-1.300406</td>\n",
       "      <td>36.829741</td>\n",
       "      <td>1309</td>\n",
       "      <td>745</td>\n",
       "      <td>0</td>\n",
       "    </tr>\n",
       "    <tr>\n",
       "      <th>1</th>\n",
       "      <td>3</td>\n",
       "      <td>12</td>\n",
       "      <td>16</td>\n",
       "      <td>26.400000</td>\n",
       "      <td>0.0</td>\n",
       "      <td>-1.351453</td>\n",
       "      <td>36.899315</td>\n",
       "      <td>-1.295004</td>\n",
       "      <td>36.814358</td>\n",
       "      <td>339</td>\n",
       "      <td>1993</td>\n",
       "      <td>1</td>\n",
       "    </tr>\n",
       "    <tr>\n",
       "      <th>2</th>\n",
       "      <td>3</td>\n",
       "      <td>30</td>\n",
       "      <td>3</td>\n",
       "      <td>23.258889</td>\n",
       "      <td>0.0</td>\n",
       "      <td>-1.308284</td>\n",
       "      <td>36.843419</td>\n",
       "      <td>-1.300921</td>\n",
       "      <td>36.828195</td>\n",
       "      <td>242</td>\n",
       "      <td>455</td>\n",
       "      <td>0</td>\n",
       "    </tr>\n",
       "    <tr>\n",
       "      <th>3</th>\n",
       "      <td>3</td>\n",
       "      <td>15</td>\n",
       "      <td>9</td>\n",
       "      <td>19.200000</td>\n",
       "      <td>0.0</td>\n",
       "      <td>-1.281301</td>\n",
       "      <td>36.832396</td>\n",
       "      <td>-1.257147</td>\n",
       "      <td>36.795063</td>\n",
       "      <td>283</td>\n",
       "      <td>1341</td>\n",
       "      <td>0</td>\n",
       "    </tr>\n",
       "    <tr>\n",
       "      <th>4</th>\n",
       "      <td>1</td>\n",
       "      <td>13</td>\n",
       "      <td>9</td>\n",
       "      <td>15.400000</td>\n",
       "      <td>0.0</td>\n",
       "      <td>-1.266597</td>\n",
       "      <td>36.792118</td>\n",
       "      <td>-1.295041</td>\n",
       "      <td>36.809817</td>\n",
       "      <td>872</td>\n",
       "      <td>1214</td>\n",
       "      <td>1</td>\n",
       "    </tr>\n",
       "  </tbody>\n",
       "</table>\n",
       "</div>"
      ],
      "text/plain": [
       "   Platform Type  Placement - Day of Month  Distance (KM)  Temperature  \\\n",
       "0              3                         9              4    20.400000   \n",
       "1              3                        12             16    26.400000   \n",
       "2              3                        30              3    23.258889   \n",
       "3              3                        15              9    19.200000   \n",
       "4              1                        13              9    15.400000   \n",
       "\n",
       "   Precipitation in millimeters  Pickup Lat  Pickup Long  Destination Lat  \\\n",
       "0                           0.0   -1.317755    36.830370        -1.300406   \n",
       "1                           0.0   -1.351453    36.899315        -1.295004   \n",
       "2                           0.0   -1.308284    36.843419        -1.300921   \n",
       "3                           0.0   -1.281301    36.832396        -1.257147   \n",
       "4                           0.0   -1.266597    36.792118        -1.295041   \n",
       "\n",
       "   Destination Long   Age  Time from Pickup to Arrival  \\\n",
       "0         36.829741  1309                          745   \n",
       "1         36.814358   339                         1993   \n",
       "2         36.828195   242                          455   \n",
       "3         36.795063   283                         1341   \n",
       "4         36.809817   872                         1214   \n",
       "\n",
       "   Personal or Business_Personal  \n",
       "0                              0  \n",
       "1                              1  \n",
       "2                              0  \n",
       "3                              0  \n",
       "4                              1  "
      ]
     },
     "execution_count": 161,
     "metadata": {},
     "output_type": "execute_result"
    }
   ],
   "source": [
    "# View the merged train with only numerical data.\n",
    "merged_train.head()"
   ]
  },
  {
   "cell_type": "code",
   "execution_count": 162,
   "metadata": {
    "colab": {
     "base_uri": "https://localhost:8080/",
     "height": 212
    },
    "id": "24DTB9FHVvri",
    "outputId": "f930f4b7-ec43-4a01-b72b-2c44927ee2d3"
   },
   "outputs": [
    {
     "data": {
      "text/html": [
       "<div>\n",
       "<style scoped>\n",
       "    .dataframe tbody tr th:only-of-type {\n",
       "        vertical-align: middle;\n",
       "    }\n",
       "\n",
       "    .dataframe tbody tr th {\n",
       "        vertical-align: top;\n",
       "    }\n",
       "\n",
       "    .dataframe thead th {\n",
       "        text-align: right;\n",
       "    }\n",
       "</style>\n",
       "<table border=\"1\" class=\"dataframe\">\n",
       "  <thead>\n",
       "    <tr style=\"text-align: right;\">\n",
       "      <th></th>\n",
       "      <th>Platform Type</th>\n",
       "      <th>Placement - Day of Month</th>\n",
       "      <th>Distance (KM)</th>\n",
       "      <th>Temperature</th>\n",
       "      <th>Precipitation in millimeters</th>\n",
       "      <th>Pickup Lat</th>\n",
       "      <th>Pickup Long</th>\n",
       "      <th>Destination Lat</th>\n",
       "      <th>Destination Long</th>\n",
       "      <th>Age</th>\n",
       "      <th>Personal or Business_Personal</th>\n",
       "    </tr>\n",
       "  </thead>\n",
       "  <tbody>\n",
       "    <tr>\n",
       "      <th>0</th>\n",
       "      <td>3</td>\n",
       "      <td>27</td>\n",
       "      <td>8</td>\n",
       "      <td>23.24612</td>\n",
       "      <td>0.0</td>\n",
       "      <td>-1.333275</td>\n",
       "      <td>36.870815</td>\n",
       "      <td>-1.305249</td>\n",
       "      <td>36.822390</td>\n",
       "      <td>1511</td>\n",
       "      <td>0</td>\n",
       "    </tr>\n",
       "    <tr>\n",
       "      <th>1</th>\n",
       "      <td>3</td>\n",
       "      <td>17</td>\n",
       "      <td>5</td>\n",
       "      <td>23.24612</td>\n",
       "      <td>0.0</td>\n",
       "      <td>-1.272639</td>\n",
       "      <td>36.794723</td>\n",
       "      <td>-1.277007</td>\n",
       "      <td>36.823907</td>\n",
       "      <td>273</td>\n",
       "      <td>0</td>\n",
       "    </tr>\n",
       "    <tr>\n",
       "      <th>2</th>\n",
       "      <td>3</td>\n",
       "      <td>27</td>\n",
       "      <td>5</td>\n",
       "      <td>22.80000</td>\n",
       "      <td>0.0</td>\n",
       "      <td>-1.290894</td>\n",
       "      <td>36.822971</td>\n",
       "      <td>-1.276574</td>\n",
       "      <td>36.851365</td>\n",
       "      <td>460</td>\n",
       "      <td>0</td>\n",
       "    </tr>\n",
       "    <tr>\n",
       "      <th>3</th>\n",
       "      <td>3</td>\n",
       "      <td>17</td>\n",
       "      <td>5</td>\n",
       "      <td>24.50000</td>\n",
       "      <td>0.0</td>\n",
       "      <td>-1.290503</td>\n",
       "      <td>36.809646</td>\n",
       "      <td>-1.303382</td>\n",
       "      <td>36.790658</td>\n",
       "      <td>560</td>\n",
       "      <td>0</td>\n",
       "    </tr>\n",
       "    <tr>\n",
       "      <th>4</th>\n",
       "      <td>3</td>\n",
       "      <td>11</td>\n",
       "      <td>6</td>\n",
       "      <td>24.40000</td>\n",
       "      <td>0.0</td>\n",
       "      <td>-1.281081</td>\n",
       "      <td>36.814423</td>\n",
       "      <td>-1.266467</td>\n",
       "      <td>36.792161</td>\n",
       "      <td>1120</td>\n",
       "      <td>0</td>\n",
       "    </tr>\n",
       "  </tbody>\n",
       "</table>\n",
       "</div>"
      ],
      "text/plain": [
       "   Platform Type  Placement - Day of Month  Distance (KM)  Temperature  \\\n",
       "0              3                        27              8     23.24612   \n",
       "1              3                        17              5     23.24612   \n",
       "2              3                        27              5     22.80000   \n",
       "3              3                        17              5     24.50000   \n",
       "4              3                        11              6     24.40000   \n",
       "\n",
       "   Precipitation in millimeters  Pickup Lat  Pickup Long  Destination Lat  \\\n",
       "0                           0.0   -1.333275    36.870815        -1.305249   \n",
       "1                           0.0   -1.272639    36.794723        -1.277007   \n",
       "2                           0.0   -1.290894    36.822971        -1.276574   \n",
       "3                           0.0   -1.290503    36.809646        -1.303382   \n",
       "4                           0.0   -1.281081    36.814423        -1.266467   \n",
       "\n",
       "   Destination Long   Age  Personal or Business_Personal  \n",
       "0         36.822390  1511                              0  \n",
       "1         36.823907   273                              0  \n",
       "2         36.851365   460                              0  \n",
       "3         36.790658   560                              0  \n",
       "4         36.792161  1120                              0  "
      ]
     },
     "execution_count": 162,
     "metadata": {},
     "output_type": "execute_result"
    }
   ],
   "source": [
    "# View the merged train with only numerical data.\n",
    "merged_test.head()"
   ]
  },
  {
   "cell_type": "markdown",
   "metadata": {
    "id": "UaScQfv9VDn-"
   },
   "source": [
    "# Base Model"
   ]
  },
  {
   "cell_type": "code",
   "execution_count": 62,
   "metadata": {
    "colab": {
     "base_uri": "https://localhost:8080/",
     "height": 212
    },
    "id": "9Iu-WAtkkY-a",
    "outputId": "8525a270-a5f7-4b5c-aca5-e12c35222ff5"
   },
   "outputs": [
    {
     "data": {
      "text/html": [
       "<div>\n",
       "<style scoped>\n",
       "    .dataframe tbody tr th:only-of-type {\n",
       "        vertical-align: middle;\n",
       "    }\n",
       "\n",
       "    .dataframe tbody tr th {\n",
       "        vertical-align: top;\n",
       "    }\n",
       "\n",
       "    .dataframe thead th {\n",
       "        text-align: right;\n",
       "    }\n",
       "</style>\n",
       "<table border=\"1\" class=\"dataframe\">\n",
       "  <thead>\n",
       "    <tr style=\"text-align: right;\">\n",
       "      <th></th>\n",
       "      <th>Platform Type</th>\n",
       "      <th>Placement - Day of Month</th>\n",
       "      <th>Distance (KM)</th>\n",
       "      <th>Temperature</th>\n",
       "      <th>Precipitation in millimeters</th>\n",
       "      <th>Pickup Lat</th>\n",
       "      <th>Pickup Long</th>\n",
       "      <th>Destination Lat</th>\n",
       "      <th>Destination Long</th>\n",
       "      <th>Age</th>\n",
       "      <th>Personal or Business_Personal</th>\n",
       "    </tr>\n",
       "  </thead>\n",
       "  <tbody>\n",
       "    <tr>\n",
       "      <th>0</th>\n",
       "      <td>3</td>\n",
       "      <td>27</td>\n",
       "      <td>8</td>\n",
       "      <td>23.24612</td>\n",
       "      <td>0.0</td>\n",
       "      <td>-1.333275</td>\n",
       "      <td>36.870815</td>\n",
       "      <td>-1.305249</td>\n",
       "      <td>36.822390</td>\n",
       "      <td>1511</td>\n",
       "      <td>0</td>\n",
       "    </tr>\n",
       "    <tr>\n",
       "      <th>1</th>\n",
       "      <td>3</td>\n",
       "      <td>17</td>\n",
       "      <td>5</td>\n",
       "      <td>23.24612</td>\n",
       "      <td>0.0</td>\n",
       "      <td>-1.272639</td>\n",
       "      <td>36.794723</td>\n",
       "      <td>-1.277007</td>\n",
       "      <td>36.823907</td>\n",
       "      <td>273</td>\n",
       "      <td>0</td>\n",
       "    </tr>\n",
       "    <tr>\n",
       "      <th>2</th>\n",
       "      <td>3</td>\n",
       "      <td>27</td>\n",
       "      <td>5</td>\n",
       "      <td>22.80000</td>\n",
       "      <td>0.0</td>\n",
       "      <td>-1.290894</td>\n",
       "      <td>36.822971</td>\n",
       "      <td>-1.276574</td>\n",
       "      <td>36.851365</td>\n",
       "      <td>460</td>\n",
       "      <td>0</td>\n",
       "    </tr>\n",
       "    <tr>\n",
       "      <th>3</th>\n",
       "      <td>3</td>\n",
       "      <td>17</td>\n",
       "      <td>5</td>\n",
       "      <td>24.50000</td>\n",
       "      <td>0.0</td>\n",
       "      <td>-1.290503</td>\n",
       "      <td>36.809646</td>\n",
       "      <td>-1.303382</td>\n",
       "      <td>36.790658</td>\n",
       "      <td>560</td>\n",
       "      <td>0</td>\n",
       "    </tr>\n",
       "    <tr>\n",
       "      <th>4</th>\n",
       "      <td>3</td>\n",
       "      <td>11</td>\n",
       "      <td>6</td>\n",
       "      <td>24.40000</td>\n",
       "      <td>0.0</td>\n",
       "      <td>-1.281081</td>\n",
       "      <td>36.814423</td>\n",
       "      <td>-1.266467</td>\n",
       "      <td>36.792161</td>\n",
       "      <td>1120</td>\n",
       "      <td>0</td>\n",
       "    </tr>\n",
       "  </tbody>\n",
       "</table>\n",
       "</div>"
      ],
      "text/plain": [
       "   Platform Type  Placement - Day of Month  ...   Age  Personal or Business_Personal\n",
       "0              3                        27  ...  1511                              0\n",
       "1              3                        17  ...   273                              0\n",
       "2              3                        27  ...   460                              0\n",
       "3              3                        17  ...   560                              0\n",
       "4              3                        11  ...  1120                              0\n",
       "\n",
       "[5 rows x 11 columns]"
      ]
     },
     "execution_count": 62,
     "metadata": {
      "tags": []
     },
     "output_type": "execute_result"
    }
   ],
   "source": [
    "merged_test.head()"
   ]
  },
  {
   "cell_type": "code",
   "execution_count": 63,
   "metadata": {
    "id": "NSOVQRZoVDn_"
   },
   "outputs": [],
   "source": [
    "X = merged_train.drop(['Time from Pickup to Arrival','Age'], axis = 1)\n",
    "X_test = merged_test.drop(['Age'],axis = 1)\n",
    "y = np.array(train['Time from Pickup to Arrival']).reshape(-1,1)"
   ]
  },
  {
   "cell_type": "code",
   "execution_count": 64,
   "metadata": {
    "id": "CnhW2blOVDoG"
   },
   "outputs": [],
   "source": [
    "from sklearn.model_selection import train_test_split\n",
    "from sklearn.linear_model import LinearRegression"
   ]
  },
  {
   "cell_type": "code",
   "execution_count": 64,
   "metadata": {
    "id": "T0lVucEak6_d"
   },
   "outputs": [],
   "source": []
  },
  {
   "cell_type": "code",
   "execution_count": 65,
   "metadata": {
    "id": "sCOsCLsZVDoL"
   },
   "outputs": [],
   "source": [
    "X_train, X_val, y_train, y_val = train_test_split(X,y,test_size = 0.30,\n",
    "                                                  random_state = 25)"
   ]
  },
  {
   "cell_type": "code",
   "execution_count": 66,
   "metadata": {
    "colab": {
     "base_uri": "https://localhost:8080/",
     "height": 34
    },
    "id": "1mdh06MWHo4h",
    "outputId": "d8045b30-56da-4154-e9dd-62f0e098c483"
   },
   "outputs": [
    {
     "data": {
      "text/plain": [
       "LinearRegression(copy_X=True, fit_intercept=True, n_jobs=None, normalize=False)"
      ]
     },
     "execution_count": 66,
     "metadata": {
      "tags": []
     },
     "output_type": "execute_result"
    }
   ],
   "source": [
    "lin_reg = LinearRegression() \n",
    "lin_reg.fit(X_train,y_train)"
   ]
  },
  {
   "cell_type": "code",
   "execution_count": 67,
   "metadata": {
    "colab": {
     "base_uri": "https://localhost:8080/",
     "height": 134
    },
    "id": "o6KxA2s2VDoS",
    "outputId": "36a0e99e-1523-4f72-96ee-426287fee7c7"
   },
   "outputs": [
    {
     "data": {
      "text/plain": [
       "array([[2042.76865557],\n",
       "       [1415.87781663],\n",
       "       [2050.18185505],\n",
       "       ...,\n",
       "       [1093.6552803 ],\n",
       "       [1023.72502374],\n",
       "       [1561.67252544]])"
      ]
     },
     "execution_count": 67,
     "metadata": {
      "tags": []
     },
     "output_type": "execute_result"
    }
   ],
   "source": [
    "val_pred = lin_reg.predict(X_val)\n",
    "val_pred"
   ]
  },
  {
   "cell_type": "code",
   "execution_count": 68,
   "metadata": {
    "id": "m2mYyqboVDoV"
   },
   "outputs": [],
   "source": [
    "# function that calculates the root mean squared error\n",
    "def rmse(y_test,y_prediction):\n",
    "    result = np.sqrt(mean_squared_error(y_test,y_prediction))\n",
    "    return result"
   ]
  },
  {
   "cell_type": "code",
   "execution_count": 69,
   "metadata": {
    "colab": {
     "base_uri": "https://localhost:8080/",
     "height": 34
    },
    "id": "3rK6LdL6VDoY",
    "outputId": "51a87e11-f3af-4df2-dd9d-bc8bdb547fa0"
   },
   "outputs": [
    {
     "data": {
      "text/plain": [
       "793.3028821523338"
      ]
     },
     "execution_count": 69,
     "metadata": {
      "tags": []
     },
     "output_type": "execute_result"
    }
   ],
   "source": [
    "rmse(y_val, val_pred)"
   ]
  },
  {
   "cell_type": "code",
   "execution_count": 70,
   "metadata": {
    "id": "3TAGaet6VDoc"
   },
   "outputs": [],
   "source": [
    "# Making actual y predictions\n",
    "y_pred = lin_reg.predict(X_test)"
   ]
  },
  {
   "cell_type": "code",
   "execution_count": 71,
   "metadata": {
    "id": "M8vFwRmbVDog"
   },
   "outputs": [],
   "source": [
    "submission = test[['Order No']].copy()\n",
    "submission['Time from Pickup to Arrival'] = y_pred"
   ]
  },
  {
   "cell_type": "code",
   "execution_count": 72,
   "metadata": {
    "colab": {
     "base_uri": "https://localhost:8080/",
     "height": 402
    },
    "id": "5a9XcV0kVDol",
    "outputId": "bb5733e2-726a-4f70-d0ce-5259331d7c8b"
   },
   "outputs": [
    {
     "data": {
      "text/html": [
       "<div>\n",
       "<style scoped>\n",
       "    .dataframe tbody tr th:only-of-type {\n",
       "        vertical-align: middle;\n",
       "    }\n",
       "\n",
       "    .dataframe tbody tr th {\n",
       "        vertical-align: top;\n",
       "    }\n",
       "\n",
       "    .dataframe thead th {\n",
       "        text-align: right;\n",
       "    }\n",
       "</style>\n",
       "<table border=\"1\" class=\"dataframe\">\n",
       "  <thead>\n",
       "    <tr style=\"text-align: right;\">\n",
       "      <th></th>\n",
       "      <th>Order No</th>\n",
       "      <th>Time from Pickup to Arrival</th>\n",
       "    </tr>\n",
       "  </thead>\n",
       "  <tbody>\n",
       "    <tr>\n",
       "      <th>0</th>\n",
       "      <td>Order_No_19248</td>\n",
       "      <td>1307.746708</td>\n",
       "    </tr>\n",
       "    <tr>\n",
       "      <th>1</th>\n",
       "      <td>Order_No_12736</td>\n",
       "      <td>1109.207739</td>\n",
       "    </tr>\n",
       "    <tr>\n",
       "      <th>2</th>\n",
       "      <td>Order_No_768</td>\n",
       "      <td>1055.041384</td>\n",
       "    </tr>\n",
       "    <tr>\n",
       "      <th>3</th>\n",
       "      <td>Order_No_15332</td>\n",
       "      <td>1103.354981</td>\n",
       "    </tr>\n",
       "    <tr>\n",
       "      <th>4</th>\n",
       "      <td>Order_No_21373</td>\n",
       "      <td>1195.624103</td>\n",
       "    </tr>\n",
       "    <tr>\n",
       "      <th>...</th>\n",
       "      <td>...</td>\n",
       "      <td>...</td>\n",
       "    </tr>\n",
       "    <tr>\n",
       "      <th>7063</th>\n",
       "      <td>Order_No_3612</td>\n",
       "      <td>1130.460822</td>\n",
       "    </tr>\n",
       "    <tr>\n",
       "      <th>7064</th>\n",
       "      <td>Order_No_7657</td>\n",
       "      <td>2936.028198</td>\n",
       "    </tr>\n",
       "    <tr>\n",
       "      <th>7065</th>\n",
       "      <td>Order_No_1969</td>\n",
       "      <td>1654.064536</td>\n",
       "    </tr>\n",
       "    <tr>\n",
       "      <th>7066</th>\n",
       "      <td>Order_No_10591</td>\n",
       "      <td>2611.834259</td>\n",
       "    </tr>\n",
       "    <tr>\n",
       "      <th>7067</th>\n",
       "      <td>Order_No_1603</td>\n",
       "      <td>1461.884792</td>\n",
       "    </tr>\n",
       "  </tbody>\n",
       "</table>\n",
       "<p>7068 rows × 2 columns</p>\n",
       "</div>"
      ],
      "text/plain": [
       "            Order No  Time from Pickup to Arrival\n",
       "0     Order_No_19248                  1307.746708\n",
       "1     Order_No_12736                  1109.207739\n",
       "2       Order_No_768                  1055.041384\n",
       "3     Order_No_15332                  1103.354981\n",
       "4     Order_No_21373                  1195.624103\n",
       "...              ...                          ...\n",
       "7063   Order_No_3612                  1130.460822\n",
       "7064   Order_No_7657                  2936.028198\n",
       "7065   Order_No_1969                  1654.064536\n",
       "7066  Order_No_10591                  2611.834259\n",
       "7067   Order_No_1603                  1461.884792\n",
       "\n",
       "[7068 rows x 2 columns]"
      ]
     },
     "execution_count": 72,
     "metadata": {
      "tags": []
     },
     "output_type": "execute_result"
    }
   ],
   "source": [
    "submission"
   ]
  },
  {
   "cell_type": "code",
   "execution_count": 73,
   "metadata": {
    "id": "EO6CfCx-VDot"
   },
   "outputs": [],
   "source": [
    "# submission.to_csv('submission_0.11.csv', index = False)"
   ]
  },
  {
   "cell_type": "code",
   "execution_count": 73,
   "metadata": {
    "id": "OPJERy3FVDox"
   },
   "outputs": [],
   "source": []
  },
  {
   "cell_type": "markdown",
   "metadata": {
    "id": "b7o-q2VoVDo3"
   },
   "source": [
    "# Feature Scaling ##"
   ]
  },
  {
   "cell_type": "markdown",
   "metadata": {
    "id": "ULR4jDbeVDo4"
   },
   "source": [
    "One of the important reason of feature scaling is so that one significant number doesn't impact the model because of their large magnitude. Thus, feature scaling is one of the most critical step in machine learning during the preprocessing data before creating the a machine learning model. There are several techniques of scaling and the one used in this work is known as Normalization. Normally this technique is used when we want to bound the values between two numbers, that are often between 0 to 1, or -1 to 1. The diagram below shows how the data looks like after it has been scaling it in the X-Y plane.\n",
    "\n",
    "![image.png](attachment:image.png)"
   ]
  },
  {
   "cell_type": "code",
   "execution_count": null,
   "metadata": {
    "id": "91jJiQx0VDo5"
   },
   "outputs": [],
   "source": [
    "# Import the \"\"\"MIN MAX SCALER\"\"\"\n",
    "from sklearn.preprocessing import  MinMaxScaler\n",
    "scaler = MinMaxScaler()"
   ]
  },
  {
   "cell_type": "code",
   "execution_count": null,
   "metadata": {
    "colab": {
     "base_uri": "https://localhost:8080/",
     "height": 162
    },
    "id": "6k4VHSZOVDo9",
    "outputId": "cbf41312-9d49-4ea3-c1f3-d962e0981a59"
   },
   "outputs": [
    {
     "ename": "NameError",
     "evalue": "ignored",
     "output_type": "error",
     "traceback": [
      "\u001b[0;31m---------------------------------------------------------------------------\u001b[0m",
      "\u001b[0;31mNameError\u001b[0m                                 Traceback (most recent call last)",
      "\u001b[0;32m<ipython-input-442-be2b94b55b60>\u001b[0m in \u001b[0;36m<module>\u001b[0;34m()\u001b[0m\n\u001b[0;32m----> 1\u001b[0;31m \u001b[0mtrain_df\u001b[0m\u001b[0;34m.\u001b[0m\u001b[0mcolumns\u001b[0m\u001b[0;34m\u001b[0m\u001b[0;34m\u001b[0m\u001b[0m\n\u001b[0m",
      "\u001b[0;31mNameError\u001b[0m: name 'train_df' is not defined"
     ]
    }
   ],
   "source": [
    "train_df.columns"
   ]
  },
  {
   "cell_type": "code",
   "execution_count": null,
   "metadata": {
    "id": "N5TMqYWZVDpD"
   },
   "outputs": [],
   "source": [
    "# Here the Features: Day of the Month, Distance, Temp, Precipitation (mm), Time for Pick up Arrival are picked \n",
    "# ... from the train data available. \n",
    "# Then, they are scaled and represented in a new Dataframe : df_train\n",
    "df_train = pd.DataFrame(scaler.fit_transform(train_df[['Placement - Day of Month',\n",
    "                                               'Distance (KM)', 'Temperature', \n",
    "                                               'Precipitation in millimeters', 'Time from Pickup to Arrival' ]]),\n",
    "                   columns = ['Day of Month', 'Distance (km)', 'Temp', 'Precipitation (mm)', 'Pickup to Arrival (s)' ])"
   ]
  },
  {
   "cell_type": "code",
   "execution_count": null,
   "metadata": {
    "id": "iQa5ZmKuVDpH",
    "outputId": "1c908619-d2ab-4413-d4a9-1dcc102e98d8",
    "scrolled": false
   },
   "outputs": [
    {
     "data": {
      "text/html": [
       "<div>\n",
       "<style scoped>\n",
       "    .dataframe tbody tr th:only-of-type {\n",
       "        vertical-align: middle;\n",
       "    }\n",
       "\n",
       "    .dataframe tbody tr th {\n",
       "        vertical-align: top;\n",
       "    }\n",
       "\n",
       "    .dataframe thead th {\n",
       "        text-align: right;\n",
       "    }\n",
       "</style>\n",
       "<table border=\"1\" class=\"dataframe\">\n",
       "  <thead>\n",
       "    <tr style=\"text-align: right;\">\n",
       "      <th></th>\n",
       "      <th>Day of Month</th>\n",
       "      <th>Distance (km)</th>\n",
       "      <th>Temp</th>\n",
       "      <th>Precipitation (mm)</th>\n",
       "      <th>Pickup to Arrival (s)</th>\n",
       "    </tr>\n",
       "  </thead>\n",
       "  <tbody>\n",
       "    <tr>\n",
       "      <th>0</th>\n",
       "      <td>0.266667</td>\n",
       "      <td>0.062500</td>\n",
       "      <td>0.440191</td>\n",
       "      <td>0.0</td>\n",
       "      <td>0.094392</td>\n",
       "    </tr>\n",
       "    <tr>\n",
       "      <th>1</th>\n",
       "      <td>0.366667</td>\n",
       "      <td>0.312500</td>\n",
       "      <td>0.727273</td>\n",
       "      <td>0.0</td>\n",
       "      <td>0.252728</td>\n",
       "    </tr>\n",
       "    <tr>\n",
       "      <th>2</th>\n",
       "      <td>0.966667</td>\n",
       "      <td>0.041667</td>\n",
       "      <td>0.576980</td>\n",
       "      <td>0.0</td>\n",
       "      <td>0.057600</td>\n",
       "    </tr>\n",
       "    <tr>\n",
       "      <th>3</th>\n",
       "      <td>0.466667</td>\n",
       "      <td>0.166667</td>\n",
       "      <td>0.382775</td>\n",
       "      <td>0.0</td>\n",
       "      <td>0.170008</td>\n",
       "    </tr>\n",
       "    <tr>\n",
       "      <th>4</th>\n",
       "      <td>0.400000</td>\n",
       "      <td>0.166667</td>\n",
       "      <td>0.200957</td>\n",
       "      <td>0.0</td>\n",
       "      <td>0.153895</td>\n",
       "    </tr>\n",
       "  </tbody>\n",
       "</table>\n",
       "</div>"
      ],
      "text/plain": [
       "   Day of Month  Distance (km)      Temp  Precipitation (mm)  \\\n",
       "0      0.266667       0.062500  0.440191                 0.0   \n",
       "1      0.366667       0.312500  0.727273                 0.0   \n",
       "2      0.966667       0.041667  0.576980                 0.0   \n",
       "3      0.466667       0.166667  0.382775                 0.0   \n",
       "4      0.400000       0.166667  0.200957                 0.0   \n",
       "\n",
       "   Pickup to Arrival (s)  \n",
       "0               0.094392  \n",
       "1               0.252728  \n",
       "2               0.057600  \n",
       "3               0.170008  \n",
       "4               0.153895  "
      ]
     },
     "execution_count": 632,
     "metadata": {
      "tags": []
     },
     "output_type": "execute_result"
    }
   ],
   "source": [
    "df_train.head()"
   ]
  },
  {
   "cell_type": "markdown",
   "metadata": {
    "id": "hNlwwJgaVDpO"
   },
   "source": [
    "We should als note that even if we only scale the independent variables, we get a similar plot of both sclaed X-Y axis."
   ]
  },
  {
   "cell_type": "code",
   "execution_count": null,
   "metadata": {
    "id": "iRijDrOyVDpP"
   },
   "outputs": [],
   "source": [
    "# Here the Features: Day of the Month, Distance, Temp, Precipitation (mm) are picked \n",
    "# ... from the train data available. \n",
    "# Then, they are scaled and represented in a new Dataframe : df2_train\n",
    "df2_train = pd.DataFrame(scaler.fit_transform(train[['Placement - Day of Month',\n",
    "                                               'Distance (KM)', 'Temperature', \n",
    "                                               'Precipitation in millimeters']]),\n",
    "                   columns = ['Day of Month', 'Distance (km)', 'Temp', 'Precipitation (mm)'])\n",
    "df2_test = pd.DataFrame(scaler.fit_transform(test[['Placement - Day of Month',\n",
    "                                               'Distance (KM)', 'Temperature', \n",
    "                                               'Precipitation in millimeters']]),\n",
    "                   columns = ['Day of Month', 'Distance (km)', 'Temp', 'Precipitation (mm)'])"
   ]
  },
  {
   "cell_type": "code",
   "execution_count": null,
   "metadata": {
    "id": "HmO0PZowVDpV",
    "outputId": "9cf7b8f7-c2f5-40e8-971d-564ffb038836"
   },
   "outputs": [
    {
     "data": {
      "text/html": [
       "<div>\n",
       "<style scoped>\n",
       "    .dataframe tbody tr th:only-of-type {\n",
       "        vertical-align: middle;\n",
       "    }\n",
       "\n",
       "    .dataframe tbody tr th {\n",
       "        vertical-align: top;\n",
       "    }\n",
       "\n",
       "    .dataframe thead th {\n",
       "        text-align: right;\n",
       "    }\n",
       "</style>\n",
       "<table border=\"1\" class=\"dataframe\">\n",
       "  <thead>\n",
       "    <tr style=\"text-align: right;\">\n",
       "      <th></th>\n",
       "      <th>Day of Month</th>\n",
       "      <th>Distance (km)</th>\n",
       "      <th>Temp</th>\n",
       "      <th>Precipitation (mm)</th>\n",
       "    </tr>\n",
       "  </thead>\n",
       "  <tbody>\n",
       "    <tr>\n",
       "      <th>0</th>\n",
       "      <td>0.266667</td>\n",
       "      <td>0.062500</td>\n",
       "      <td>0.440191</td>\n",
       "      <td>0.0</td>\n",
       "    </tr>\n",
       "    <tr>\n",
       "      <th>1</th>\n",
       "      <td>0.366667</td>\n",
       "      <td>0.312500</td>\n",
       "      <td>0.727273</td>\n",
       "      <td>0.0</td>\n",
       "    </tr>\n",
       "    <tr>\n",
       "      <th>2</th>\n",
       "      <td>0.966667</td>\n",
       "      <td>0.041667</td>\n",
       "      <td>0.576980</td>\n",
       "      <td>0.0</td>\n",
       "    </tr>\n",
       "    <tr>\n",
       "      <th>3</th>\n",
       "      <td>0.466667</td>\n",
       "      <td>0.166667</td>\n",
       "      <td>0.382775</td>\n",
       "      <td>0.0</td>\n",
       "    </tr>\n",
       "    <tr>\n",
       "      <th>4</th>\n",
       "      <td>0.400000</td>\n",
       "      <td>0.166667</td>\n",
       "      <td>0.200957</td>\n",
       "      <td>0.0</td>\n",
       "    </tr>\n",
       "  </tbody>\n",
       "</table>\n",
       "</div>"
      ],
      "text/plain": [
       "   Day of Month  Distance (km)      Temp  Precipitation (mm)\n",
       "0      0.266667       0.062500  0.440191                 0.0\n",
       "1      0.366667       0.312500  0.727273                 0.0\n",
       "2      0.966667       0.041667  0.576980                 0.0\n",
       "3      0.466667       0.166667  0.382775                 0.0\n",
       "4      0.400000       0.166667  0.200957                 0.0"
      ]
     },
     "execution_count": 635,
     "metadata": {
      "tags": []
     },
     "output_type": "execute_result"
    }
   ],
   "source": [
    "# df2_train represents the independent variables that are scaled for this work. \n",
    "df2_train.head()"
   ]
  },
  {
   "cell_type": "code",
   "execution_count": null,
   "metadata": {
    "id": "McWQChaXVDpZ",
    "outputId": "dab6c3ba-587e-4540-e100-bf718ba45877"
   },
   "outputs": [
    {
     "data": {
      "text/html": [
       "<div>\n",
       "<style scoped>\n",
       "    .dataframe tbody tr th:only-of-type {\n",
       "        vertical-align: middle;\n",
       "    }\n",
       "\n",
       "    .dataframe tbody tr th {\n",
       "        vertical-align: top;\n",
       "    }\n",
       "\n",
       "    .dataframe thead th {\n",
       "        text-align: right;\n",
       "    }\n",
       "</style>\n",
       "<table border=\"1\" class=\"dataframe\">\n",
       "  <thead>\n",
       "    <tr style=\"text-align: right;\">\n",
       "      <th></th>\n",
       "      <th>Day of Month</th>\n",
       "      <th>Distance (km)</th>\n",
       "      <th>Temp</th>\n",
       "      <th>Precipitation (mm)</th>\n",
       "    </tr>\n",
       "  </thead>\n",
       "  <tbody>\n",
       "    <tr>\n",
       "      <th>0</th>\n",
       "      <td>0.866667</td>\n",
       "      <td>0.152174</td>\n",
       "      <td>0.531541</td>\n",
       "      <td>0.0</td>\n",
       "    </tr>\n",
       "    <tr>\n",
       "      <th>1</th>\n",
       "      <td>0.533333</td>\n",
       "      <td>0.086957</td>\n",
       "      <td>0.531541</td>\n",
       "      <td>0.0</td>\n",
       "    </tr>\n",
       "    <tr>\n",
       "      <th>2</th>\n",
       "      <td>0.866667</td>\n",
       "      <td>0.086957</td>\n",
       "      <td>0.507937</td>\n",
       "      <td>0.0</td>\n",
       "    </tr>\n",
       "    <tr>\n",
       "      <th>3</th>\n",
       "      <td>0.533333</td>\n",
       "      <td>0.086957</td>\n",
       "      <td>0.597884</td>\n",
       "      <td>0.0</td>\n",
       "    </tr>\n",
       "    <tr>\n",
       "      <th>4</th>\n",
       "      <td>0.333333</td>\n",
       "      <td>0.108696</td>\n",
       "      <td>0.592593</td>\n",
       "      <td>0.0</td>\n",
       "    </tr>\n",
       "  </tbody>\n",
       "</table>\n",
       "</div>"
      ],
      "text/plain": [
       "   Day of Month  Distance (km)      Temp  Precipitation (mm)\n",
       "0      0.866667       0.152174  0.531541                 0.0\n",
       "1      0.533333       0.086957  0.531541                 0.0\n",
       "2      0.866667       0.086957  0.507937                 0.0\n",
       "3      0.533333       0.086957  0.597884                 0.0\n",
       "4      0.333333       0.108696  0.592593                 0.0"
      ]
     },
     "execution_count": 636,
     "metadata": {
      "tags": []
     },
     "output_type": "execute_result"
    }
   ],
   "source": [
    "df2_test.head()"
   ]
  },
  {
   "cell_type": "markdown",
   "metadata": {
    "id": "TM4MOCIWVDpg"
   },
   "source": [
    "## Creating y and x metrics ##"
   ]
  },
  {
   "cell_type": "code",
   "execution_count": null,
   "metadata": {
    "colab": {
     "base_uri": "https://localhost:8080/",
     "height": 229
    },
    "id": "E3xWVPgzVDph",
    "outputId": "a3ae911b-86e8-47a2-fbb5-5a3f893e8cee",
    "scrolled": true
   },
   "outputs": [
    {
     "data": {
      "application/javascript": [
       "/* Put everything inside the global mpl namespace */\n",
       "window.mpl = {};\n",
       "\n",
       "\n",
       "mpl.get_websocket_type = function() {\n",
       "    if (typeof(WebSocket) !== 'undefined') {\n",
       "        return WebSocket;\n",
       "    } else if (typeof(MozWebSocket) !== 'undefined') {\n",
       "        return MozWebSocket;\n",
       "    } else {\n",
       "        alert('Your browser does not have WebSocket support. ' +\n",
       "              'Please try Chrome, Safari or Firefox ≥ 6. ' +\n",
       "              'Firefox 4 and 5 are also supported but you ' +\n",
       "              'have to enable WebSockets in about:config.');\n",
       "    };\n",
       "}\n",
       "\n",
       "mpl.figure = function(figure_id, websocket, ondownload, parent_element) {\n",
       "    this.id = figure_id;\n",
       "\n",
       "    this.ws = websocket;\n",
       "\n",
       "    this.supports_binary = (this.ws.binaryType != undefined);\n",
       "\n",
       "    if (!this.supports_binary) {\n",
       "        var warnings = document.getElementById(\"mpl-warnings\");\n",
       "        if (warnings) {\n",
       "            warnings.style.display = 'block';\n",
       "            warnings.textContent = (\n",
       "                \"This browser does not support binary websocket messages. \" +\n",
       "                    \"Performance may be slow.\");\n",
       "        }\n",
       "    }\n",
       "\n",
       "    this.imageObj = new Image();\n",
       "\n",
       "    this.context = undefined;\n",
       "    this.message = undefined;\n",
       "    this.canvas = undefined;\n",
       "    this.rubberband_canvas = undefined;\n",
       "    this.rubberband_context = undefined;\n",
       "    this.format_dropdown = undefined;\n",
       "\n",
       "    this.image_mode = 'full';\n",
       "\n",
       "    this.root = $('<div/>');\n",
       "    this._root_extra_style(this.root)\n",
       "    this.root.attr('style', 'display: inline-block');\n",
       "\n",
       "    $(parent_element).append(this.root);\n",
       "\n",
       "    this._init_header(this);\n",
       "    this._init_canvas(this);\n",
       "    this._init_toolbar(this);\n",
       "\n",
       "    var fig = this;\n",
       "\n",
       "    this.waiting = false;\n",
       "\n",
       "    this.ws.onopen =  function () {\n",
       "            fig.send_message(\"supports_binary\", {value: fig.supports_binary});\n",
       "            fig.send_message(\"send_image_mode\", {});\n",
       "            if (mpl.ratio != 1) {\n",
       "                fig.send_message(\"set_dpi_ratio\", {'dpi_ratio': mpl.ratio});\n",
       "            }\n",
       "            fig.send_message(\"refresh\", {});\n",
       "        }\n",
       "\n",
       "    this.imageObj.onload = function() {\n",
       "            if (fig.image_mode == 'full') {\n",
       "                // Full images could contain transparency (where diff images\n",
       "                // almost always do), so we need to clear the canvas so that\n",
       "                // there is no ghosting.\n",
       "                fig.context.clearRect(0, 0, fig.canvas.width, fig.canvas.height);\n",
       "            }\n",
       "            fig.context.drawImage(fig.imageObj, 0, 0);\n",
       "        };\n",
       "\n",
       "    this.imageObj.onunload = function() {\n",
       "        fig.ws.close();\n",
       "    }\n",
       "\n",
       "    this.ws.onmessage = this._make_on_message_function(this);\n",
       "\n",
       "    this.ondownload = ondownload;\n",
       "}\n",
       "\n",
       "mpl.figure.prototype._init_header = function() {\n",
       "    var titlebar = $(\n",
       "        '<div class=\"ui-dialog-titlebar ui-widget-header ui-corner-all ' +\n",
       "        'ui-helper-clearfix\"/>');\n",
       "    var titletext = $(\n",
       "        '<div class=\"ui-dialog-title\" style=\"width: 100%; ' +\n",
       "        'text-align: center; padding: 3px;\"/>');\n",
       "    titlebar.append(titletext)\n",
       "    this.root.append(titlebar);\n",
       "    this.header = titletext[0];\n",
       "}\n",
       "\n",
       "\n",
       "\n",
       "mpl.figure.prototype._canvas_extra_style = function(canvas_div) {\n",
       "\n",
       "}\n",
       "\n",
       "\n",
       "mpl.figure.prototype._root_extra_style = function(canvas_div) {\n",
       "\n",
       "}\n",
       "\n",
       "mpl.figure.prototype._init_canvas = function() {\n",
       "    var fig = this;\n",
       "\n",
       "    var canvas_div = $('<div/>');\n",
       "\n",
       "    canvas_div.attr('style', 'position: relative; clear: both; outline: 0');\n",
       "\n",
       "    function canvas_keyboard_event(event) {\n",
       "        return fig.key_event(event, event['data']);\n",
       "    }\n",
       "\n",
       "    canvas_div.keydown('key_press', canvas_keyboard_event);\n",
       "    canvas_div.keyup('key_release', canvas_keyboard_event);\n",
       "    this.canvas_div = canvas_div\n",
       "    this._canvas_extra_style(canvas_div)\n",
       "    this.root.append(canvas_div);\n",
       "\n",
       "    var canvas = $('<canvas/>');\n",
       "    canvas.addClass('mpl-canvas');\n",
       "    canvas.attr('style', \"left: 0; top: 0; z-index: 0; outline: 0\")\n",
       "\n",
       "    this.canvas = canvas[0];\n",
       "    this.context = canvas[0].getContext(\"2d\");\n",
       "\n",
       "    var backingStore = this.context.backingStorePixelRatio ||\n",
       "\tthis.context.webkitBackingStorePixelRatio ||\n",
       "\tthis.context.mozBackingStorePixelRatio ||\n",
       "\tthis.context.msBackingStorePixelRatio ||\n",
       "\tthis.context.oBackingStorePixelRatio ||\n",
       "\tthis.context.backingStorePixelRatio || 1;\n",
       "\n",
       "    mpl.ratio = (window.devicePixelRatio || 1) / backingStore;\n",
       "\n",
       "    var rubberband = $('<canvas/>');\n",
       "    rubberband.attr('style', \"position: absolute; left: 0; top: 0; z-index: 1;\")\n",
       "\n",
       "    var pass_mouse_events = true;\n",
       "\n",
       "    canvas_div.resizable({\n",
       "        start: function(event, ui) {\n",
       "            pass_mouse_events = false;\n",
       "        },\n",
       "        resize: function(event, ui) {\n",
       "            fig.request_resize(ui.size.width, ui.size.height);\n",
       "        },\n",
       "        stop: function(event, ui) {\n",
       "            pass_mouse_events = true;\n",
       "            fig.request_resize(ui.size.width, ui.size.height);\n",
       "        },\n",
       "    });\n",
       "\n",
       "    function mouse_event_fn(event) {\n",
       "        if (pass_mouse_events)\n",
       "            return fig.mouse_event(event, event['data']);\n",
       "    }\n",
       "\n",
       "    rubberband.mousedown('button_press', mouse_event_fn);\n",
       "    rubberband.mouseup('button_release', mouse_event_fn);\n",
       "    // Throttle sequential mouse events to 1 every 20ms.\n",
       "    rubberband.mousemove('motion_notify', mouse_event_fn);\n",
       "\n",
       "    rubberband.mouseenter('figure_enter', mouse_event_fn);\n",
       "    rubberband.mouseleave('figure_leave', mouse_event_fn);\n",
       "\n",
       "    canvas_div.on(\"wheel\", function (event) {\n",
       "        event = event.originalEvent;\n",
       "        event['data'] = 'scroll'\n",
       "        if (event.deltaY < 0) {\n",
       "            event.step = 1;\n",
       "        } else {\n",
       "            event.step = -1;\n",
       "        }\n",
       "        mouse_event_fn(event);\n",
       "    });\n",
       "\n",
       "    canvas_div.append(canvas);\n",
       "    canvas_div.append(rubberband);\n",
       "\n",
       "    this.rubberband = rubberband;\n",
       "    this.rubberband_canvas = rubberband[0];\n",
       "    this.rubberband_context = rubberband[0].getContext(\"2d\");\n",
       "    this.rubberband_context.strokeStyle = \"#000000\";\n",
       "\n",
       "    this._resize_canvas = function(width, height) {\n",
       "        // Keep the size of the canvas, canvas container, and rubber band\n",
       "        // canvas in synch.\n",
       "        canvas_div.css('width', width)\n",
       "        canvas_div.css('height', height)\n",
       "\n",
       "        canvas.attr('width', width * mpl.ratio);\n",
       "        canvas.attr('height', height * mpl.ratio);\n",
       "        canvas.attr('style', 'width: ' + width + 'px; height: ' + height + 'px;');\n",
       "\n",
       "        rubberband.attr('width', width);\n",
       "        rubberband.attr('height', height);\n",
       "    }\n",
       "\n",
       "    // Set the figure to an initial 600x600px, this will subsequently be updated\n",
       "    // upon first draw.\n",
       "    this._resize_canvas(600, 600);\n",
       "\n",
       "    // Disable right mouse context menu.\n",
       "    $(this.rubberband_canvas).bind(\"contextmenu\",function(e){\n",
       "        return false;\n",
       "    });\n",
       "\n",
       "    function set_focus () {\n",
       "        canvas.focus();\n",
       "        canvas_div.focus();\n",
       "    }\n",
       "\n",
       "    window.setTimeout(set_focus, 100);\n",
       "}\n",
       "\n",
       "mpl.figure.prototype._init_toolbar = function() {\n",
       "    var fig = this;\n",
       "\n",
       "    var nav_element = $('<div/>');\n",
       "    nav_element.attr('style', 'width: 100%');\n",
       "    this.root.append(nav_element);\n",
       "\n",
       "    // Define a callback function for later on.\n",
       "    function toolbar_event(event) {\n",
       "        return fig.toolbar_button_onclick(event['data']);\n",
       "    }\n",
       "    function toolbar_mouse_event(event) {\n",
       "        return fig.toolbar_button_onmouseover(event['data']);\n",
       "    }\n",
       "\n",
       "    for(var toolbar_ind in mpl.toolbar_items) {\n",
       "        var name = mpl.toolbar_items[toolbar_ind][0];\n",
       "        var tooltip = mpl.toolbar_items[toolbar_ind][1];\n",
       "        var image = mpl.toolbar_items[toolbar_ind][2];\n",
       "        var method_name = mpl.toolbar_items[toolbar_ind][3];\n",
       "\n",
       "        if (!name) {\n",
       "            // put a spacer in here.\n",
       "            continue;\n",
       "        }\n",
       "        var button = $('<button/>');\n",
       "        button.addClass('ui-button ui-widget ui-state-default ui-corner-all ' +\n",
       "                        'ui-button-icon-only');\n",
       "        button.attr('role', 'button');\n",
       "        button.attr('aria-disabled', 'false');\n",
       "        button.click(method_name, toolbar_event);\n",
       "        button.mouseover(tooltip, toolbar_mouse_event);\n",
       "\n",
       "        var icon_img = $('<span/>');\n",
       "        icon_img.addClass('ui-button-icon-primary ui-icon');\n",
       "        icon_img.addClass(image);\n",
       "        icon_img.addClass('ui-corner-all');\n",
       "\n",
       "        var tooltip_span = $('<span/>');\n",
       "        tooltip_span.addClass('ui-button-text');\n",
       "        tooltip_span.html(tooltip);\n",
       "\n",
       "        button.append(icon_img);\n",
       "        button.append(tooltip_span);\n",
       "\n",
       "        nav_element.append(button);\n",
       "    }\n",
       "\n",
       "    var fmt_picker_span = $('<span/>');\n",
       "\n",
       "    var fmt_picker = $('<select/>');\n",
       "    fmt_picker.addClass('mpl-toolbar-option ui-widget ui-widget-content');\n",
       "    fmt_picker_span.append(fmt_picker);\n",
       "    nav_element.append(fmt_picker_span);\n",
       "    this.format_dropdown = fmt_picker[0];\n",
       "\n",
       "    for (var ind in mpl.extensions) {\n",
       "        var fmt = mpl.extensions[ind];\n",
       "        var option = $(\n",
       "            '<option/>', {selected: fmt === mpl.default_extension}).html(fmt);\n",
       "        fmt_picker.append(option);\n",
       "    }\n",
       "\n",
       "    // Add hover states to the ui-buttons\n",
       "    $( \".ui-button\" ).hover(\n",
       "        function() { $(this).addClass(\"ui-state-hover\");},\n",
       "        function() { $(this).removeClass(\"ui-state-hover\");}\n",
       "    );\n",
       "\n",
       "    var status_bar = $('<span class=\"mpl-message\"/>');\n",
       "    nav_element.append(status_bar);\n",
       "    this.message = status_bar[0];\n",
       "}\n",
       "\n",
       "mpl.figure.prototype.request_resize = function(x_pixels, y_pixels) {\n",
       "    // Request matplotlib to resize the figure. Matplotlib will then trigger a resize in the client,\n",
       "    // which will in turn request a refresh of the image.\n",
       "    this.send_message('resize', {'width': x_pixels, 'height': y_pixels});\n",
       "}\n",
       "\n",
       "mpl.figure.prototype.send_message = function(type, properties) {\n",
       "    properties['type'] = type;\n",
       "    properties['figure_id'] = this.id;\n",
       "    this.ws.send(JSON.stringify(properties));\n",
       "}\n",
       "\n",
       "mpl.figure.prototype.send_draw_message = function() {\n",
       "    if (!this.waiting) {\n",
       "        this.waiting = true;\n",
       "        this.ws.send(JSON.stringify({type: \"draw\", figure_id: this.id}));\n",
       "    }\n",
       "}\n",
       "\n",
       "\n",
       "mpl.figure.prototype.handle_save = function(fig, msg) {\n",
       "    var format_dropdown = fig.format_dropdown;\n",
       "    var format = format_dropdown.options[format_dropdown.selectedIndex].value;\n",
       "    fig.ondownload(fig, format);\n",
       "}\n",
       "\n",
       "\n",
       "mpl.figure.prototype.handle_resize = function(fig, msg) {\n",
       "    var size = msg['size'];\n",
       "    if (size[0] != fig.canvas.width || size[1] != fig.canvas.height) {\n",
       "        fig._resize_canvas(size[0], size[1]);\n",
       "        fig.send_message(\"refresh\", {});\n",
       "    };\n",
       "}\n",
       "\n",
       "mpl.figure.prototype.handle_rubberband = function(fig, msg) {\n",
       "    var x0 = msg['x0'] / mpl.ratio;\n",
       "    var y0 = (fig.canvas.height - msg['y0']) / mpl.ratio;\n",
       "    var x1 = msg['x1'] / mpl.ratio;\n",
       "    var y1 = (fig.canvas.height - msg['y1']) / mpl.ratio;\n",
       "    x0 = Math.floor(x0) + 0.5;\n",
       "    y0 = Math.floor(y0) + 0.5;\n",
       "    x1 = Math.floor(x1) + 0.5;\n",
       "    y1 = Math.floor(y1) + 0.5;\n",
       "    var min_x = Math.min(x0, x1);\n",
       "    var min_y = Math.min(y0, y1);\n",
       "    var width = Math.abs(x1 - x0);\n",
       "    var height = Math.abs(y1 - y0);\n",
       "\n",
       "    fig.rubberband_context.clearRect(\n",
       "        0, 0, fig.canvas.width / mpl.ratio, fig.canvas.height / mpl.ratio);\n",
       "\n",
       "    fig.rubberband_context.strokeRect(min_x, min_y, width, height);\n",
       "}\n",
       "\n",
       "mpl.figure.prototype.handle_figure_label = function(fig, msg) {\n",
       "    // Updates the figure title.\n",
       "    fig.header.textContent = msg['label'];\n",
       "}\n",
       "\n",
       "mpl.figure.prototype.handle_cursor = function(fig, msg) {\n",
       "    var cursor = msg['cursor'];\n",
       "    switch(cursor)\n",
       "    {\n",
       "    case 0:\n",
       "        cursor = 'pointer';\n",
       "        break;\n",
       "    case 1:\n",
       "        cursor = 'default';\n",
       "        break;\n",
       "    case 2:\n",
       "        cursor = 'crosshair';\n",
       "        break;\n",
       "    case 3:\n",
       "        cursor = 'move';\n",
       "        break;\n",
       "    }\n",
       "    fig.rubberband_canvas.style.cursor = cursor;\n",
       "}\n",
       "\n",
       "mpl.figure.prototype.handle_message = function(fig, msg) {\n",
       "    fig.message.textContent = msg['message'];\n",
       "}\n",
       "\n",
       "mpl.figure.prototype.handle_draw = function(fig, msg) {\n",
       "    // Request the server to send over a new figure.\n",
       "    fig.send_draw_message();\n",
       "}\n",
       "\n",
       "mpl.figure.prototype.handle_image_mode = function(fig, msg) {\n",
       "    fig.image_mode = msg['mode'];\n",
       "}\n",
       "\n",
       "mpl.figure.prototype.updated_canvas_event = function() {\n",
       "    // Called whenever the canvas gets updated.\n",
       "    this.send_message(\"ack\", {});\n",
       "}\n",
       "\n",
       "// A function to construct a web socket function for onmessage handling.\n",
       "// Called in the figure constructor.\n",
       "mpl.figure.prototype._make_on_message_function = function(fig) {\n",
       "    return function socket_on_message(evt) {\n",
       "        if (evt.data instanceof Blob) {\n",
       "            /* FIXME: We get \"Resource interpreted as Image but\n",
       "             * transferred with MIME type text/plain:\" errors on\n",
       "             * Chrome.  But how to set the MIME type?  It doesn't seem\n",
       "             * to be part of the websocket stream */\n",
       "            evt.data.type = \"image/png\";\n",
       "\n",
       "            /* Free the memory for the previous frames */\n",
       "            if (fig.imageObj.src) {\n",
       "                (window.URL || window.webkitURL).revokeObjectURL(\n",
       "                    fig.imageObj.src);\n",
       "            }\n",
       "\n",
       "            fig.imageObj.src = (window.URL || window.webkitURL).createObjectURL(\n",
       "                evt.data);\n",
       "            fig.updated_canvas_event();\n",
       "            fig.waiting = false;\n",
       "            return;\n",
       "        }\n",
       "        else if (typeof evt.data === 'string' && evt.data.slice(0, 21) == \"data:image/png;base64\") {\n",
       "            fig.imageObj.src = evt.data;\n",
       "            fig.updated_canvas_event();\n",
       "            fig.waiting = false;\n",
       "            return;\n",
       "        }\n",
       "\n",
       "        var msg = JSON.parse(evt.data);\n",
       "        var msg_type = msg['type'];\n",
       "\n",
       "        // Call the  \"handle_{type}\" callback, which takes\n",
       "        // the figure and JSON message as its only arguments.\n",
       "        try {\n",
       "            var callback = fig[\"handle_\" + msg_type];\n",
       "        } catch (e) {\n",
       "            console.log(\"No handler for the '\" + msg_type + \"' message type: \", msg);\n",
       "            return;\n",
       "        }\n",
       "\n",
       "        if (callback) {\n",
       "            try {\n",
       "                // console.log(\"Handling '\" + msg_type + \"' message: \", msg);\n",
       "                callback(fig, msg);\n",
       "            } catch (e) {\n",
       "                console.log(\"Exception inside the 'handler_\" + msg_type + \"' callback:\", e, e.stack, msg);\n",
       "            }\n",
       "        }\n",
       "    };\n",
       "}\n",
       "\n",
       "// from http://stackoverflow.com/questions/1114465/getting-mouse-location-in-canvas\n",
       "mpl.findpos = function(e) {\n",
       "    //this section is from http://www.quirksmode.org/js/events_properties.html\n",
       "    var targ;\n",
       "    if (!e)\n",
       "        e = window.event;\n",
       "    if (e.target)\n",
       "        targ = e.target;\n",
       "    else if (e.srcElement)\n",
       "        targ = e.srcElement;\n",
       "    if (targ.nodeType == 3) // defeat Safari bug\n",
       "        targ = targ.parentNode;\n",
       "\n",
       "    // jQuery normalizes the pageX and pageY\n",
       "    // pageX,Y are the mouse positions relative to the document\n",
       "    // offset() returns the position of the element relative to the document\n",
       "    var x = e.pageX - $(targ).offset().left;\n",
       "    var y = e.pageY - $(targ).offset().top;\n",
       "\n",
       "    return {\"x\": x, \"y\": y};\n",
       "};\n",
       "\n",
       "/*\n",
       " * return a copy of an object with only non-object keys\n",
       " * we need this to avoid circular references\n",
       " * http://stackoverflow.com/a/24161582/3208463\n",
       " */\n",
       "function simpleKeys (original) {\n",
       "  return Object.keys(original).reduce(function (obj, key) {\n",
       "    if (typeof original[key] !== 'object')\n",
       "        obj[key] = original[key]\n",
       "    return obj;\n",
       "  }, {});\n",
       "}\n",
       "\n",
       "mpl.figure.prototype.mouse_event = function(event, name) {\n",
       "    var canvas_pos = mpl.findpos(event)\n",
       "\n",
       "    if (name === 'button_press')\n",
       "    {\n",
       "        this.canvas.focus();\n",
       "        this.canvas_div.focus();\n",
       "    }\n",
       "\n",
       "    var x = canvas_pos.x * mpl.ratio;\n",
       "    var y = canvas_pos.y * mpl.ratio;\n",
       "\n",
       "    this.send_message(name, {x: x, y: y, button: event.button,\n",
       "                             step: event.step,\n",
       "                             guiEvent: simpleKeys(event)});\n",
       "\n",
       "    /* This prevents the web browser from automatically changing to\n",
       "     * the text insertion cursor when the button is pressed.  We want\n",
       "     * to control all of the cursor setting manually through the\n",
       "     * 'cursor' event from matplotlib */\n",
       "    event.preventDefault();\n",
       "    return false;\n",
       "}\n",
       "\n",
       "mpl.figure.prototype._key_event_extra = function(event, name) {\n",
       "    // Handle any extra behaviour associated with a key event\n",
       "}\n",
       "\n",
       "mpl.figure.prototype.key_event = function(event, name) {\n",
       "\n",
       "    // Prevent repeat events\n",
       "    if (name == 'key_press')\n",
       "    {\n",
       "        if (event.which === this._key)\n",
       "            return;\n",
       "        else\n",
       "            this._key = event.which;\n",
       "    }\n",
       "    if (name == 'key_release')\n",
       "        this._key = null;\n",
       "\n",
       "    var value = '';\n",
       "    if (event.ctrlKey && event.which != 17)\n",
       "        value += \"ctrl+\";\n",
       "    if (event.altKey && event.which != 18)\n",
       "        value += \"alt+\";\n",
       "    if (event.shiftKey && event.which != 16)\n",
       "        value += \"shift+\";\n",
       "\n",
       "    value += 'k';\n",
       "    value += event.which.toString();\n",
       "\n",
       "    this._key_event_extra(event, name);\n",
       "\n",
       "    this.send_message(name, {key: value,\n",
       "                             guiEvent: simpleKeys(event)});\n",
       "    return false;\n",
       "}\n",
       "\n",
       "mpl.figure.prototype.toolbar_button_onclick = function(name) {\n",
       "    if (name == 'download') {\n",
       "        this.handle_save(this, null);\n",
       "    } else {\n",
       "        this.send_message(\"toolbar_button\", {name: name});\n",
       "    }\n",
       "};\n",
       "\n",
       "mpl.figure.prototype.toolbar_button_onmouseover = function(tooltip) {\n",
       "    this.message.textContent = tooltip;\n",
       "};\n",
       "mpl.toolbar_items = [[\"Home\", \"Reset original view\", \"fa fa-home icon-home\", \"home\"], [\"Back\", \"Back to previous view\", \"fa fa-arrow-left icon-arrow-left\", \"back\"], [\"Forward\", \"Forward to next view\", \"fa fa-arrow-right icon-arrow-right\", \"forward\"], [\"\", \"\", \"\", \"\"], [\"Pan\", \"Pan axes with left mouse, zoom with right\", \"fa fa-arrows icon-move\", \"pan\"], [\"Zoom\", \"Zoom to rectangle\", \"fa fa-square-o icon-check-empty\", \"zoom\"], [\"\", \"\", \"\", \"\"], [\"Download\", \"Download plot\", \"fa fa-floppy-o icon-save\", \"download\"]];\n",
       "\n",
       "mpl.extensions = [\"eps\", \"jpeg\", \"pdf\", \"png\", \"ps\", \"raw\", \"svg\", \"tif\"];\n",
       "\n",
       "mpl.default_extension = \"png\";var comm_websocket_adapter = function(comm) {\n",
       "    // Create a \"websocket\"-like object which calls the given IPython comm\n",
       "    // object with the appropriate methods. Currently this is a non binary\n",
       "    // socket, so there is still some room for performance tuning.\n",
       "    var ws = {};\n",
       "\n",
       "    ws.close = function() {\n",
       "        comm.close()\n",
       "    };\n",
       "    ws.send = function(m) {\n",
       "        //console.log('sending', m);\n",
       "        comm.send(m);\n",
       "    };\n",
       "    // Register the callback with on_msg.\n",
       "    comm.on_msg(function(msg) {\n",
       "        //console.log('receiving', msg['content']['data'], msg);\n",
       "        // Pass the mpl event to the overridden (by mpl) onmessage function.\n",
       "        ws.onmessage(msg['content']['data'])\n",
       "    });\n",
       "    return ws;\n",
       "}\n",
       "\n",
       "mpl.mpl_figure_comm = function(comm, msg) {\n",
       "    // This is the function which gets called when the mpl process\n",
       "    // starts-up an IPython Comm through the \"matplotlib\" channel.\n",
       "\n",
       "    var id = msg.content.data.id;\n",
       "    // Get hold of the div created by the display call when the Comm\n",
       "    // socket was opened in Python.\n",
       "    var element = $(\"#\" + id);\n",
       "    var ws_proxy = comm_websocket_adapter(comm)\n",
       "\n",
       "    function ondownload(figure, format) {\n",
       "        window.open(figure.imageObj.src);\n",
       "    }\n",
       "\n",
       "    var fig = new mpl.figure(id, ws_proxy,\n",
       "                           ondownload,\n",
       "                           element.get(0));\n",
       "\n",
       "    // Call onopen now - mpl needs it, as it is assuming we've passed it a real\n",
       "    // web socket which is closed, not our websocket->open comm proxy.\n",
       "    ws_proxy.onopen();\n",
       "\n",
       "    fig.parent_element = element.get(0);\n",
       "    fig.cell_info = mpl.find_output_cell(\"<div id='\" + id + \"'></div>\");\n",
       "    if (!fig.cell_info) {\n",
       "        console.error(\"Failed to find cell for figure\", id, fig);\n",
       "        return;\n",
       "    }\n",
       "\n",
       "    var output_index = fig.cell_info[2]\n",
       "    var cell = fig.cell_info[0];\n",
       "\n",
       "};\n",
       "\n",
       "mpl.figure.prototype.handle_close = function(fig, msg) {\n",
       "    var width = fig.canvas.width/mpl.ratio\n",
       "    fig.root.unbind('remove')\n",
       "\n",
       "    // Update the output cell to use the data from the current canvas.\n",
       "    fig.push_to_output();\n",
       "    var dataURL = fig.canvas.toDataURL();\n",
       "    // Re-enable the keyboard manager in IPython - without this line, in FF,\n",
       "    // the notebook keyboard shortcuts fail.\n",
       "    IPython.keyboard_manager.enable()\n",
       "    $(fig.parent_element).html('<img src=\"' + dataURL + '\" width=\"' + width + '\">');\n",
       "    fig.close_ws(fig, msg);\n",
       "}\n",
       "\n",
       "mpl.figure.prototype.close_ws = function(fig, msg){\n",
       "    fig.send_message('closing', msg);\n",
       "    // fig.ws.close()\n",
       "}\n",
       "\n",
       "mpl.figure.prototype.push_to_output = function(remove_interactive) {\n",
       "    // Turn the data on the canvas into data in the output cell.\n",
       "    var width = this.canvas.width/mpl.ratio\n",
       "    var dataURL = this.canvas.toDataURL();\n",
       "    this.cell_info[1]['text/html'] = '<img src=\"' + dataURL + '\" width=\"' + width + '\">';\n",
       "}\n",
       "\n",
       "mpl.figure.prototype.updated_canvas_event = function() {\n",
       "    // Tell IPython that the notebook contents must change.\n",
       "    IPython.notebook.set_dirty(true);\n",
       "    this.send_message(\"ack\", {});\n",
       "    var fig = this;\n",
       "    // Wait a second, then push the new image to the DOM so\n",
       "    // that it is saved nicely (might be nice to debounce this).\n",
       "    setTimeout(function () { fig.push_to_output() }, 1000);\n",
       "}\n",
       "\n",
       "mpl.figure.prototype._init_toolbar = function() {\n",
       "    var fig = this;\n",
       "\n",
       "    var nav_element = $('<div/>');\n",
       "    nav_element.attr('style', 'width: 100%');\n",
       "    this.root.append(nav_element);\n",
       "\n",
       "    // Define a callback function for later on.\n",
       "    function toolbar_event(event) {\n",
       "        return fig.toolbar_button_onclick(event['data']);\n",
       "    }\n",
       "    function toolbar_mouse_event(event) {\n",
       "        return fig.toolbar_button_onmouseover(event['data']);\n",
       "    }\n",
       "\n",
       "    for(var toolbar_ind in mpl.toolbar_items){\n",
       "        var name = mpl.toolbar_items[toolbar_ind][0];\n",
       "        var tooltip = mpl.toolbar_items[toolbar_ind][1];\n",
       "        var image = mpl.toolbar_items[toolbar_ind][2];\n",
       "        var method_name = mpl.toolbar_items[toolbar_ind][3];\n",
       "\n",
       "        if (!name) { continue; };\n",
       "\n",
       "        var button = $('<button class=\"btn btn-default\" href=\"#\" title=\"' + name + '\"><i class=\"fa ' + image + ' fa-lg\"></i></button>');\n",
       "        button.click(method_name, toolbar_event);\n",
       "        button.mouseover(tooltip, toolbar_mouse_event);\n",
       "        nav_element.append(button);\n",
       "    }\n",
       "\n",
       "    // Add the status bar.\n",
       "    var status_bar = $('<span class=\"mpl-message\" style=\"text-align:right; float: right;\"/>');\n",
       "    nav_element.append(status_bar);\n",
       "    this.message = status_bar[0];\n",
       "\n",
       "    // Add the close button to the window.\n",
       "    var buttongrp = $('<div class=\"btn-group inline pull-right\"></div>');\n",
       "    var button = $('<button class=\"btn btn-mini btn-primary\" href=\"#\" title=\"Stop Interaction\"><i class=\"fa fa-power-off icon-remove icon-large\"></i></button>');\n",
       "    button.click(function (evt) { fig.handle_close(fig, {}); } );\n",
       "    button.mouseover('Stop Interaction', toolbar_mouse_event);\n",
       "    buttongrp.append(button);\n",
       "    var titlebar = this.root.find($('.ui-dialog-titlebar'));\n",
       "    titlebar.prepend(buttongrp);\n",
       "}\n",
       "\n",
       "mpl.figure.prototype._root_extra_style = function(el){\n",
       "    var fig = this\n",
       "    el.on(\"remove\", function(){\n",
       "\tfig.close_ws(fig, {});\n",
       "    });\n",
       "}\n",
       "\n",
       "mpl.figure.prototype._canvas_extra_style = function(el){\n",
       "    // this is important to make the div 'focusable\n",
       "    el.attr('tabindex', 0)\n",
       "    // reach out to IPython and tell the keyboard manager to turn it's self\n",
       "    // off when our div gets focus\n",
       "\n",
       "    // location in version 3\n",
       "    if (IPython.notebook.keyboard_manager) {\n",
       "        IPython.notebook.keyboard_manager.register_events(el);\n",
       "    }\n",
       "    else {\n",
       "        // location in version 2\n",
       "        IPython.keyboard_manager.register_events(el);\n",
       "    }\n",
       "\n",
       "}\n",
       "\n",
       "mpl.figure.prototype._key_event_extra = function(event, name) {\n",
       "    var manager = IPython.notebook.keyboard_manager;\n",
       "    if (!manager)\n",
       "        manager = IPython.keyboard_manager;\n",
       "\n",
       "    // Check for shift+enter\n",
       "    if (event.shiftKey && event.which == 13) {\n",
       "        this.canvas_div.blur();\n",
       "        // select the cell after this one\n",
       "        var index = IPython.notebook.find_cell_index(this.cell_info[0]);\n",
       "        IPython.notebook.select(index + 1);\n",
       "    }\n",
       "}\n",
       "\n",
       "mpl.figure.prototype.handle_save = function(fig, msg) {\n",
       "    fig.ondownload(fig, null);\n",
       "}\n",
       "\n",
       "\n",
       "mpl.find_output_cell = function(html_output) {\n",
       "    // Return the cell and output element which can be found *uniquely* in the notebook.\n",
       "    // Note - this is a bit hacky, but it is done because the \"notebook_saving.Notebook\"\n",
       "    // IPython event is triggered only after the cells have been serialised, which for\n",
       "    // our purposes (turning an active figure into a static one), is too late.\n",
       "    var cells = IPython.notebook.get_cells();\n",
       "    var ncells = cells.length;\n",
       "    for (var i=0; i<ncells; i++) {\n",
       "        var cell = cells[i];\n",
       "        if (cell.cell_type === 'code'){\n",
       "            for (var j=0; j<cell.output_area.outputs.length; j++) {\n",
       "                var data = cell.output_area.outputs[j];\n",
       "                if (data.data) {\n",
       "                    // IPython >= 3 moved mimebundle to data attribute of output\n",
       "                    data = data.data;\n",
       "                }\n",
       "                if (data['text/html'] == html_output) {\n",
       "                    return [cell, data, j];\n",
       "                }\n",
       "            }\n",
       "        }\n",
       "    }\n",
       "}\n",
       "\n",
       "// Register the function which deals with the matplotlib target/channel.\n",
       "// The kernel may be null if the page has been refreshed.\n",
       "if (IPython.notebook.kernel != null) {\n",
       "    IPython.notebook.kernel.comm_manager.register_target('matplotlib', mpl.mpl_figure_comm);\n",
       "}\n"
      ],
      "text/plain": [
       "<IPython.core.display.Javascript object>"
      ]
     },
     "metadata": {
      "tags": []
     },
     "output_type": "display_data"
    },
    {
     "data": {
      "text/html": [
       "<div id='bdbf041e-c9ba-497b-93dc-b06c4cefb84f'></div>"
      ],
      "text/plain": [
       "<IPython.core.display.HTML object>"
      ]
     },
     "metadata": {
      "tags": []
     },
     "output_type": "display_data"
    },
    {
     "ename": "NameError",
     "evalue": "ignored",
     "output_type": "error",
     "traceback": [
      "\u001b[0;31m---------------------------------------------------------------------------\u001b[0m",
      "\u001b[0;31mNameError\u001b[0m                                 Traceback (most recent call last)",
      "\u001b[0;32m<ipython-input-440-c077803aa230>\u001b[0m in \u001b[0;36m<module>\u001b[0;34m()\u001b[0m\n\u001b[1;32m      2\u001b[0m \u001b[0mfig\u001b[0m\u001b[0;34m,\u001b[0m \u001b[0maxs\u001b[0m \u001b[0;34m=\u001b[0m \u001b[0mplt\u001b[0m\u001b[0;34m.\u001b[0m\u001b[0msubplots\u001b[0m\u001b[0;34m(\u001b[0m\u001b[0;36m2\u001b[0m\u001b[0;34m,\u001b[0m \u001b[0;36m2\u001b[0m\u001b[0;34m,\u001b[0m \u001b[0mfigsize\u001b[0m\u001b[0;34m=\u001b[0m\u001b[0;34m(\u001b[0m\u001b[0;36m9\u001b[0m\u001b[0;34m,\u001b[0m\u001b[0;36m7\u001b[0m\u001b[0;34m)\u001b[0m\u001b[0;34m)\u001b[0m\u001b[0;34m\u001b[0m\u001b[0;34m\u001b[0m\u001b[0m\n\u001b[1;32m      3\u001b[0m \u001b[0;34m\u001b[0m\u001b[0m\n\u001b[0;32m----> 4\u001b[0;31m \u001b[0maxs\u001b[0m\u001b[0;34m[\u001b[0m\u001b[0;36m0\u001b[0m\u001b[0;34m,\u001b[0m\u001b[0;36m0\u001b[0m\u001b[0;34m]\u001b[0m\u001b[0;34m.\u001b[0m\u001b[0mscatter\u001b[0m\u001b[0;34m(\u001b[0m\u001b[0mdf_train\u001b[0m\u001b[0;34m[\u001b[0m\u001b[0;34m'Day of Month'\u001b[0m\u001b[0;34m]\u001b[0m\u001b[0;34m,\u001b[0m \u001b[0mdf_train\u001b[0m\u001b[0;34m[\u001b[0m\u001b[0;34m'Pickup to Arrival (s)'\u001b[0m\u001b[0;34m]\u001b[0m\u001b[0;34m,\u001b[0m \u001b[0mcolor\u001b[0m \u001b[0;34m=\u001b[0m \u001b[0;34m'black'\u001b[0m\u001b[0;34m)\u001b[0m\u001b[0;34m\u001b[0m\u001b[0;34m\u001b[0m\u001b[0m\n\u001b[0m\u001b[1;32m      5\u001b[0m \u001b[0maxs\u001b[0m\u001b[0;34m[\u001b[0m\u001b[0;36m0\u001b[0m\u001b[0;34m,\u001b[0m\u001b[0;36m0\u001b[0m\u001b[0;34m]\u001b[0m\u001b[0;34m.\u001b[0m\u001b[0mtitle\u001b[0m\u001b[0;34m.\u001b[0m\u001b[0mset_text\u001b[0m\u001b[0;34m(\u001b[0m\u001b[0;34m'Day of Month vs. Pickup to Arrival (s)'\u001b[0m\u001b[0;34m)\u001b[0m\u001b[0;34m\u001b[0m\u001b[0;34m\u001b[0m\u001b[0m\n\u001b[1;32m      6\u001b[0m \u001b[0;34m\u001b[0m\u001b[0m\n",
      "\u001b[0;31mNameError\u001b[0m: name 'df_train' is not defined"
     ]
    }
   ],
   "source": [
    "# Below are the plot with X-Y metrics scaled. \n",
    "fig, axs = plt.subplots(2, 2, figsize=(9,7))\n",
    "\n",
    "axs[0,0].scatter(df_train['Day of Month'], df_train['Pickup to Arrival (s)'], color = 'black')\n",
    "axs[0,0].title.set_text('Day of Month vs. Pickup to Arrival (s)')\n",
    "\n",
    "axs[0,1].scatter(df_train['Distance (km)'], df_train['Pickup to Arrival (s)'], color = 'black')\n",
    "axs[0,1].title.set_text('Distance (km) vs. Pickup to Arrival (s)')\n",
    "\n",
    "axs[1,0].scatter(df_train['Temp'],df_train['Pickup to Arrival (s)'], color = 'black')\n",
    "axs[1,0].title.set_text('Temperature vs. Pickup to Arrival (s)')\n",
    "\n",
    "axs[1,1].scatter(df_train['Precipitation (mm)'], df_train['Pickup to Arrival (s)'], color = 'black')\n",
    "axs[1,1].title.set_text('Precipitation (mm) vs. Pickup to Arrival (s)')\n",
    "\n",
    "fig.tight_layout(pad=3.0)\n",
    "\n",
    "plt.show()\n",
    "\n",
    "# The Day of Month, Distance (km), Temp and precipitation represents the predictor, whereas, the Pickup \n",
    "# ... to Arrival is the response. "
   ]
  },
  {
   "cell_type": "code",
   "execution_count": null,
   "metadata": {
    "id": "WtsF977xVDpn",
    "outputId": "43b0138a-0a0d-4cd8-d43f-fb3ee7b68258",
    "scrolled": true
   },
   "outputs": [
    {
     "data": {
      "application/javascript": [
       "/* Put everything inside the global mpl namespace */\n",
       "window.mpl = {};\n",
       "\n",
       "\n",
       "mpl.get_websocket_type = function() {\n",
       "    if (typeof(WebSocket) !== 'undefined') {\n",
       "        return WebSocket;\n",
       "    } else if (typeof(MozWebSocket) !== 'undefined') {\n",
       "        return MozWebSocket;\n",
       "    } else {\n",
       "        alert('Your browser does not have WebSocket support. ' +\n",
       "              'Please try Chrome, Safari or Firefox ≥ 6. ' +\n",
       "              'Firefox 4 and 5 are also supported but you ' +\n",
       "              'have to enable WebSockets in about:config.');\n",
       "    };\n",
       "}\n",
       "\n",
       "mpl.figure = function(figure_id, websocket, ondownload, parent_element) {\n",
       "    this.id = figure_id;\n",
       "\n",
       "    this.ws = websocket;\n",
       "\n",
       "    this.supports_binary = (this.ws.binaryType != undefined);\n",
       "\n",
       "    if (!this.supports_binary) {\n",
       "        var warnings = document.getElementById(\"mpl-warnings\");\n",
       "        if (warnings) {\n",
       "            warnings.style.display = 'block';\n",
       "            warnings.textContent = (\n",
       "                \"This browser does not support binary websocket messages. \" +\n",
       "                    \"Performance may be slow.\");\n",
       "        }\n",
       "    }\n",
       "\n",
       "    this.imageObj = new Image();\n",
       "\n",
       "    this.context = undefined;\n",
       "    this.message = undefined;\n",
       "    this.canvas = undefined;\n",
       "    this.rubberband_canvas = undefined;\n",
       "    this.rubberband_context = undefined;\n",
       "    this.format_dropdown = undefined;\n",
       "\n",
       "    this.image_mode = 'full';\n",
       "\n",
       "    this.root = $('<div/>');\n",
       "    this._root_extra_style(this.root)\n",
       "    this.root.attr('style', 'display: inline-block');\n",
       "\n",
       "    $(parent_element).append(this.root);\n",
       "\n",
       "    this._init_header(this);\n",
       "    this._init_canvas(this);\n",
       "    this._init_toolbar(this);\n",
       "\n",
       "    var fig = this;\n",
       "\n",
       "    this.waiting = false;\n",
       "\n",
       "    this.ws.onopen =  function () {\n",
       "            fig.send_message(\"supports_binary\", {value: fig.supports_binary});\n",
       "            fig.send_message(\"send_image_mode\", {});\n",
       "            if (mpl.ratio != 1) {\n",
       "                fig.send_message(\"set_dpi_ratio\", {'dpi_ratio': mpl.ratio});\n",
       "            }\n",
       "            fig.send_message(\"refresh\", {});\n",
       "        }\n",
       "\n",
       "    this.imageObj.onload = function() {\n",
       "            if (fig.image_mode == 'full') {\n",
       "                // Full images could contain transparency (where diff images\n",
       "                // almost always do), so we need to clear the canvas so that\n",
       "                // there is no ghosting.\n",
       "                fig.context.clearRect(0, 0, fig.canvas.width, fig.canvas.height);\n",
       "            }\n",
       "            fig.context.drawImage(fig.imageObj, 0, 0);\n",
       "        };\n",
       "\n",
       "    this.imageObj.onunload = function() {\n",
       "        fig.ws.close();\n",
       "    }\n",
       "\n",
       "    this.ws.onmessage = this._make_on_message_function(this);\n",
       "\n",
       "    this.ondownload = ondownload;\n",
       "}\n",
       "\n",
       "mpl.figure.prototype._init_header = function() {\n",
       "    var titlebar = $(\n",
       "        '<div class=\"ui-dialog-titlebar ui-widget-header ui-corner-all ' +\n",
       "        'ui-helper-clearfix\"/>');\n",
       "    var titletext = $(\n",
       "        '<div class=\"ui-dialog-title\" style=\"width: 100%; ' +\n",
       "        'text-align: center; padding: 3px;\"/>');\n",
       "    titlebar.append(titletext)\n",
       "    this.root.append(titlebar);\n",
       "    this.header = titletext[0];\n",
       "}\n",
       "\n",
       "\n",
       "\n",
       "mpl.figure.prototype._canvas_extra_style = function(canvas_div) {\n",
       "\n",
       "}\n",
       "\n",
       "\n",
       "mpl.figure.prototype._root_extra_style = function(canvas_div) {\n",
       "\n",
       "}\n",
       "\n",
       "mpl.figure.prototype._init_canvas = function() {\n",
       "    var fig = this;\n",
       "\n",
       "    var canvas_div = $('<div/>');\n",
       "\n",
       "    canvas_div.attr('style', 'position: relative; clear: both; outline: 0');\n",
       "\n",
       "    function canvas_keyboard_event(event) {\n",
       "        return fig.key_event(event, event['data']);\n",
       "    }\n",
       "\n",
       "    canvas_div.keydown('key_press', canvas_keyboard_event);\n",
       "    canvas_div.keyup('key_release', canvas_keyboard_event);\n",
       "    this.canvas_div = canvas_div\n",
       "    this._canvas_extra_style(canvas_div)\n",
       "    this.root.append(canvas_div);\n",
       "\n",
       "    var canvas = $('<canvas/>');\n",
       "    canvas.addClass('mpl-canvas');\n",
       "    canvas.attr('style', \"left: 0; top: 0; z-index: 0; outline: 0\")\n",
       "\n",
       "    this.canvas = canvas[0];\n",
       "    this.context = canvas[0].getContext(\"2d\");\n",
       "\n",
       "    var backingStore = this.context.backingStorePixelRatio ||\n",
       "\tthis.context.webkitBackingStorePixelRatio ||\n",
       "\tthis.context.mozBackingStorePixelRatio ||\n",
       "\tthis.context.msBackingStorePixelRatio ||\n",
       "\tthis.context.oBackingStorePixelRatio ||\n",
       "\tthis.context.backingStorePixelRatio || 1;\n",
       "\n",
       "    mpl.ratio = (window.devicePixelRatio || 1) / backingStore;\n",
       "\n",
       "    var rubberband = $('<canvas/>');\n",
       "    rubberband.attr('style', \"position: absolute; left: 0; top: 0; z-index: 1;\")\n",
       "\n",
       "    var pass_mouse_events = true;\n",
       "\n",
       "    canvas_div.resizable({\n",
       "        start: function(event, ui) {\n",
       "            pass_mouse_events = false;\n",
       "        },\n",
       "        resize: function(event, ui) {\n",
       "            fig.request_resize(ui.size.width, ui.size.height);\n",
       "        },\n",
       "        stop: function(event, ui) {\n",
       "            pass_mouse_events = true;\n",
       "            fig.request_resize(ui.size.width, ui.size.height);\n",
       "        },\n",
       "    });\n",
       "\n",
       "    function mouse_event_fn(event) {\n",
       "        if (pass_mouse_events)\n",
       "            return fig.mouse_event(event, event['data']);\n",
       "    }\n",
       "\n",
       "    rubberband.mousedown('button_press', mouse_event_fn);\n",
       "    rubberband.mouseup('button_release', mouse_event_fn);\n",
       "    // Throttle sequential mouse events to 1 every 20ms.\n",
       "    rubberband.mousemove('motion_notify', mouse_event_fn);\n",
       "\n",
       "    rubberband.mouseenter('figure_enter', mouse_event_fn);\n",
       "    rubberband.mouseleave('figure_leave', mouse_event_fn);\n",
       "\n",
       "    canvas_div.on(\"wheel\", function (event) {\n",
       "        event = event.originalEvent;\n",
       "        event['data'] = 'scroll'\n",
       "        if (event.deltaY < 0) {\n",
       "            event.step = 1;\n",
       "        } else {\n",
       "            event.step = -1;\n",
       "        }\n",
       "        mouse_event_fn(event);\n",
       "    });\n",
       "\n",
       "    canvas_div.append(canvas);\n",
       "    canvas_div.append(rubberband);\n",
       "\n",
       "    this.rubberband = rubberband;\n",
       "    this.rubberband_canvas = rubberband[0];\n",
       "    this.rubberband_context = rubberband[0].getContext(\"2d\");\n",
       "    this.rubberband_context.strokeStyle = \"#000000\";\n",
       "\n",
       "    this._resize_canvas = function(width, height) {\n",
       "        // Keep the size of the canvas, canvas container, and rubber band\n",
       "        // canvas in synch.\n",
       "        canvas_div.css('width', width)\n",
       "        canvas_div.css('height', height)\n",
       "\n",
       "        canvas.attr('width', width * mpl.ratio);\n",
       "        canvas.attr('height', height * mpl.ratio);\n",
       "        canvas.attr('style', 'width: ' + width + 'px; height: ' + height + 'px;');\n",
       "\n",
       "        rubberband.attr('width', width);\n",
       "        rubberband.attr('height', height);\n",
       "    }\n",
       "\n",
       "    // Set the figure to an initial 600x600px, this will subsequently be updated\n",
       "    // upon first draw.\n",
       "    this._resize_canvas(600, 600);\n",
       "\n",
       "    // Disable right mouse context menu.\n",
       "    $(this.rubberband_canvas).bind(\"contextmenu\",function(e){\n",
       "        return false;\n",
       "    });\n",
       "\n",
       "    function set_focus () {\n",
       "        canvas.focus();\n",
       "        canvas_div.focus();\n",
       "    }\n",
       "\n",
       "    window.setTimeout(set_focus, 100);\n",
       "}\n",
       "\n",
       "mpl.figure.prototype._init_toolbar = function() {\n",
       "    var fig = this;\n",
       "\n",
       "    var nav_element = $('<div/>');\n",
       "    nav_element.attr('style', 'width: 100%');\n",
       "    this.root.append(nav_element);\n",
       "\n",
       "    // Define a callback function for later on.\n",
       "    function toolbar_event(event) {\n",
       "        return fig.toolbar_button_onclick(event['data']);\n",
       "    }\n",
       "    function toolbar_mouse_event(event) {\n",
       "        return fig.toolbar_button_onmouseover(event['data']);\n",
       "    }\n",
       "\n",
       "    for(var toolbar_ind in mpl.toolbar_items) {\n",
       "        var name = mpl.toolbar_items[toolbar_ind][0];\n",
       "        var tooltip = mpl.toolbar_items[toolbar_ind][1];\n",
       "        var image = mpl.toolbar_items[toolbar_ind][2];\n",
       "        var method_name = mpl.toolbar_items[toolbar_ind][3];\n",
       "\n",
       "        if (!name) {\n",
       "            // put a spacer in here.\n",
       "            continue;\n",
       "        }\n",
       "        var button = $('<button/>');\n",
       "        button.addClass('ui-button ui-widget ui-state-default ui-corner-all ' +\n",
       "                        'ui-button-icon-only');\n",
       "        button.attr('role', 'button');\n",
       "        button.attr('aria-disabled', 'false');\n",
       "        button.click(method_name, toolbar_event);\n",
       "        button.mouseover(tooltip, toolbar_mouse_event);\n",
       "\n",
       "        var icon_img = $('<span/>');\n",
       "        icon_img.addClass('ui-button-icon-primary ui-icon');\n",
       "        icon_img.addClass(image);\n",
       "        icon_img.addClass('ui-corner-all');\n",
       "\n",
       "        var tooltip_span = $('<span/>');\n",
       "        tooltip_span.addClass('ui-button-text');\n",
       "        tooltip_span.html(tooltip);\n",
       "\n",
       "        button.append(icon_img);\n",
       "        button.append(tooltip_span);\n",
       "\n",
       "        nav_element.append(button);\n",
       "    }\n",
       "\n",
       "    var fmt_picker_span = $('<span/>');\n",
       "\n",
       "    var fmt_picker = $('<select/>');\n",
       "    fmt_picker.addClass('mpl-toolbar-option ui-widget ui-widget-content');\n",
       "    fmt_picker_span.append(fmt_picker);\n",
       "    nav_element.append(fmt_picker_span);\n",
       "    this.format_dropdown = fmt_picker[0];\n",
       "\n",
       "    for (var ind in mpl.extensions) {\n",
       "        var fmt = mpl.extensions[ind];\n",
       "        var option = $(\n",
       "            '<option/>', {selected: fmt === mpl.default_extension}).html(fmt);\n",
       "        fmt_picker.append(option);\n",
       "    }\n",
       "\n",
       "    // Add hover states to the ui-buttons\n",
       "    $( \".ui-button\" ).hover(\n",
       "        function() { $(this).addClass(\"ui-state-hover\");},\n",
       "        function() { $(this).removeClass(\"ui-state-hover\");}\n",
       "    );\n",
       "\n",
       "    var status_bar = $('<span class=\"mpl-message\"/>');\n",
       "    nav_element.append(status_bar);\n",
       "    this.message = status_bar[0];\n",
       "}\n",
       "\n",
       "mpl.figure.prototype.request_resize = function(x_pixels, y_pixels) {\n",
       "    // Request matplotlib to resize the figure. Matplotlib will then trigger a resize in the client,\n",
       "    // which will in turn request a refresh of the image.\n",
       "    this.send_message('resize', {'width': x_pixels, 'height': y_pixels});\n",
       "}\n",
       "\n",
       "mpl.figure.prototype.send_message = function(type, properties) {\n",
       "    properties['type'] = type;\n",
       "    properties['figure_id'] = this.id;\n",
       "    this.ws.send(JSON.stringify(properties));\n",
       "}\n",
       "\n",
       "mpl.figure.prototype.send_draw_message = function() {\n",
       "    if (!this.waiting) {\n",
       "        this.waiting = true;\n",
       "        this.ws.send(JSON.stringify({type: \"draw\", figure_id: this.id}));\n",
       "    }\n",
       "}\n",
       "\n",
       "\n",
       "mpl.figure.prototype.handle_save = function(fig, msg) {\n",
       "    var format_dropdown = fig.format_dropdown;\n",
       "    var format = format_dropdown.options[format_dropdown.selectedIndex].value;\n",
       "    fig.ondownload(fig, format);\n",
       "}\n",
       "\n",
       "\n",
       "mpl.figure.prototype.handle_resize = function(fig, msg) {\n",
       "    var size = msg['size'];\n",
       "    if (size[0] != fig.canvas.width || size[1] != fig.canvas.height) {\n",
       "        fig._resize_canvas(size[0], size[1]);\n",
       "        fig.send_message(\"refresh\", {});\n",
       "    };\n",
       "}\n",
       "\n",
       "mpl.figure.prototype.handle_rubberband = function(fig, msg) {\n",
       "    var x0 = msg['x0'] / mpl.ratio;\n",
       "    var y0 = (fig.canvas.height - msg['y0']) / mpl.ratio;\n",
       "    var x1 = msg['x1'] / mpl.ratio;\n",
       "    var y1 = (fig.canvas.height - msg['y1']) / mpl.ratio;\n",
       "    x0 = Math.floor(x0) + 0.5;\n",
       "    y0 = Math.floor(y0) + 0.5;\n",
       "    x1 = Math.floor(x1) + 0.5;\n",
       "    y1 = Math.floor(y1) + 0.5;\n",
       "    var min_x = Math.min(x0, x1);\n",
       "    var min_y = Math.min(y0, y1);\n",
       "    var width = Math.abs(x1 - x0);\n",
       "    var height = Math.abs(y1 - y0);\n",
       "\n",
       "    fig.rubberband_context.clearRect(\n",
       "        0, 0, fig.canvas.width / mpl.ratio, fig.canvas.height / mpl.ratio);\n",
       "\n",
       "    fig.rubberband_context.strokeRect(min_x, min_y, width, height);\n",
       "}\n",
       "\n",
       "mpl.figure.prototype.handle_figure_label = function(fig, msg) {\n",
       "    // Updates the figure title.\n",
       "    fig.header.textContent = msg['label'];\n",
       "}\n",
       "\n",
       "mpl.figure.prototype.handle_cursor = function(fig, msg) {\n",
       "    var cursor = msg['cursor'];\n",
       "    switch(cursor)\n",
       "    {\n",
       "    case 0:\n",
       "        cursor = 'pointer';\n",
       "        break;\n",
       "    case 1:\n",
       "        cursor = 'default';\n",
       "        break;\n",
       "    case 2:\n",
       "        cursor = 'crosshair';\n",
       "        break;\n",
       "    case 3:\n",
       "        cursor = 'move';\n",
       "        break;\n",
       "    }\n",
       "    fig.rubberband_canvas.style.cursor = cursor;\n",
       "}\n",
       "\n",
       "mpl.figure.prototype.handle_message = function(fig, msg) {\n",
       "    fig.message.textContent = msg['message'];\n",
       "}\n",
       "\n",
       "mpl.figure.prototype.handle_draw = function(fig, msg) {\n",
       "    // Request the server to send over a new figure.\n",
       "    fig.send_draw_message();\n",
       "}\n",
       "\n",
       "mpl.figure.prototype.handle_image_mode = function(fig, msg) {\n",
       "    fig.image_mode = msg['mode'];\n",
       "}\n",
       "\n",
       "mpl.figure.prototype.updated_canvas_event = function() {\n",
       "    // Called whenever the canvas gets updated.\n",
       "    this.send_message(\"ack\", {});\n",
       "}\n",
       "\n",
       "// A function to construct a web socket function for onmessage handling.\n",
       "// Called in the figure constructor.\n",
       "mpl.figure.prototype._make_on_message_function = function(fig) {\n",
       "    return function socket_on_message(evt) {\n",
       "        if (evt.data instanceof Blob) {\n",
       "            /* FIXME: We get \"Resource interpreted as Image but\n",
       "             * transferred with MIME type text/plain:\" errors on\n",
       "             * Chrome.  But how to set the MIME type?  It doesn't seem\n",
       "             * to be part of the websocket stream */\n",
       "            evt.data.type = \"image/png\";\n",
       "\n",
       "            /* Free the memory for the previous frames */\n",
       "            if (fig.imageObj.src) {\n",
       "                (window.URL || window.webkitURL).revokeObjectURL(\n",
       "                    fig.imageObj.src);\n",
       "            }\n",
       "\n",
       "            fig.imageObj.src = (window.URL || window.webkitURL).createObjectURL(\n",
       "                evt.data);\n",
       "            fig.updated_canvas_event();\n",
       "            fig.waiting = false;\n",
       "            return;\n",
       "        }\n",
       "        else if (typeof evt.data === 'string' && evt.data.slice(0, 21) == \"data:image/png;base64\") {\n",
       "            fig.imageObj.src = evt.data;\n",
       "            fig.updated_canvas_event();\n",
       "            fig.waiting = false;\n",
       "            return;\n",
       "        }\n",
       "\n",
       "        var msg = JSON.parse(evt.data);\n",
       "        var msg_type = msg['type'];\n",
       "\n",
       "        // Call the  \"handle_{type}\" callback, which takes\n",
       "        // the figure and JSON message as its only arguments.\n",
       "        try {\n",
       "            var callback = fig[\"handle_\" + msg_type];\n",
       "        } catch (e) {\n",
       "            console.log(\"No handler for the '\" + msg_type + \"' message type: \", msg);\n",
       "            return;\n",
       "        }\n",
       "\n",
       "        if (callback) {\n",
       "            try {\n",
       "                // console.log(\"Handling '\" + msg_type + \"' message: \", msg);\n",
       "                callback(fig, msg);\n",
       "            } catch (e) {\n",
       "                console.log(\"Exception inside the 'handler_\" + msg_type + \"' callback:\", e, e.stack, msg);\n",
       "            }\n",
       "        }\n",
       "    };\n",
       "}\n",
       "\n",
       "// from http://stackoverflow.com/questions/1114465/getting-mouse-location-in-canvas\n",
       "mpl.findpos = function(e) {\n",
       "    //this section is from http://www.quirksmode.org/js/events_properties.html\n",
       "    var targ;\n",
       "    if (!e)\n",
       "        e = window.event;\n",
       "    if (e.target)\n",
       "        targ = e.target;\n",
       "    else if (e.srcElement)\n",
       "        targ = e.srcElement;\n",
       "    if (targ.nodeType == 3) // defeat Safari bug\n",
       "        targ = targ.parentNode;\n",
       "\n",
       "    // jQuery normalizes the pageX and pageY\n",
       "    // pageX,Y are the mouse positions relative to the document\n",
       "    // offset() returns the position of the element relative to the document\n",
       "    var x = e.pageX - $(targ).offset().left;\n",
       "    var y = e.pageY - $(targ).offset().top;\n",
       "\n",
       "    return {\"x\": x, \"y\": y};\n",
       "};\n",
       "\n",
       "/*\n",
       " * return a copy of an object with only non-object keys\n",
       " * we need this to avoid circular references\n",
       " * http://stackoverflow.com/a/24161582/3208463\n",
       " */\n",
       "function simpleKeys (original) {\n",
       "  return Object.keys(original).reduce(function (obj, key) {\n",
       "    if (typeof original[key] !== 'object')\n",
       "        obj[key] = original[key]\n",
       "    return obj;\n",
       "  }, {});\n",
       "}\n",
       "\n",
       "mpl.figure.prototype.mouse_event = function(event, name) {\n",
       "    var canvas_pos = mpl.findpos(event)\n",
       "\n",
       "    if (name === 'button_press')\n",
       "    {\n",
       "        this.canvas.focus();\n",
       "        this.canvas_div.focus();\n",
       "    }\n",
       "\n",
       "    var x = canvas_pos.x * mpl.ratio;\n",
       "    var y = canvas_pos.y * mpl.ratio;\n",
       "\n",
       "    this.send_message(name, {x: x, y: y, button: event.button,\n",
       "                             step: event.step,\n",
       "                             guiEvent: simpleKeys(event)});\n",
       "\n",
       "    /* This prevents the web browser from automatically changing to\n",
       "     * the text insertion cursor when the button is pressed.  We want\n",
       "     * to control all of the cursor setting manually through the\n",
       "     * 'cursor' event from matplotlib */\n",
       "    event.preventDefault();\n",
       "    return false;\n",
       "}\n",
       "\n",
       "mpl.figure.prototype._key_event_extra = function(event, name) {\n",
       "    // Handle any extra behaviour associated with a key event\n",
       "}\n",
       "\n",
       "mpl.figure.prototype.key_event = function(event, name) {\n",
       "\n",
       "    // Prevent repeat events\n",
       "    if (name == 'key_press')\n",
       "    {\n",
       "        if (event.which === this._key)\n",
       "            return;\n",
       "        else\n",
       "            this._key = event.which;\n",
       "    }\n",
       "    if (name == 'key_release')\n",
       "        this._key = null;\n",
       "\n",
       "    var value = '';\n",
       "    if (event.ctrlKey && event.which != 17)\n",
       "        value += \"ctrl+\";\n",
       "    if (event.altKey && event.which != 18)\n",
       "        value += \"alt+\";\n",
       "    if (event.shiftKey && event.which != 16)\n",
       "        value += \"shift+\";\n",
       "\n",
       "    value += 'k';\n",
       "    value += event.which.toString();\n",
       "\n",
       "    this._key_event_extra(event, name);\n",
       "\n",
       "    this.send_message(name, {key: value,\n",
       "                             guiEvent: simpleKeys(event)});\n",
       "    return false;\n",
       "}\n",
       "\n",
       "mpl.figure.prototype.toolbar_button_onclick = function(name) {\n",
       "    if (name == 'download') {\n",
       "        this.handle_save(this, null);\n",
       "    } else {\n",
       "        this.send_message(\"toolbar_button\", {name: name});\n",
       "    }\n",
       "};\n",
       "\n",
       "mpl.figure.prototype.toolbar_button_onmouseover = function(tooltip) {\n",
       "    this.message.textContent = tooltip;\n",
       "};\n",
       "mpl.toolbar_items = [[\"Home\", \"Reset original view\", \"fa fa-home icon-home\", \"home\"], [\"Back\", \"Back to previous view\", \"fa fa-arrow-left icon-arrow-left\", \"back\"], [\"Forward\", \"Forward to next view\", \"fa fa-arrow-right icon-arrow-right\", \"forward\"], [\"\", \"\", \"\", \"\"], [\"Pan\", \"Pan axes with left mouse, zoom with right\", \"fa fa-arrows icon-move\", \"pan\"], [\"Zoom\", \"Zoom to rectangle\", \"fa fa-square-o icon-check-empty\", \"zoom\"], [\"\", \"\", \"\", \"\"], [\"Download\", \"Download plot\", \"fa fa-floppy-o icon-save\", \"download\"]];\n",
       "\n",
       "mpl.extensions = [\"eps\", \"jpeg\", \"pdf\", \"png\", \"ps\", \"raw\", \"svg\", \"tif\"];\n",
       "\n",
       "mpl.default_extension = \"png\";var comm_websocket_adapter = function(comm) {\n",
       "    // Create a \"websocket\"-like object which calls the given IPython comm\n",
       "    // object with the appropriate methods. Currently this is a non binary\n",
       "    // socket, so there is still some room for performance tuning.\n",
       "    var ws = {};\n",
       "\n",
       "    ws.close = function() {\n",
       "        comm.close()\n",
       "    };\n",
       "    ws.send = function(m) {\n",
       "        //console.log('sending', m);\n",
       "        comm.send(m);\n",
       "    };\n",
       "    // Register the callback with on_msg.\n",
       "    comm.on_msg(function(msg) {\n",
       "        //console.log('receiving', msg['content']['data'], msg);\n",
       "        // Pass the mpl event to the overridden (by mpl) onmessage function.\n",
       "        ws.onmessage(msg['content']['data'])\n",
       "    });\n",
       "    return ws;\n",
       "}\n",
       "\n",
       "mpl.mpl_figure_comm = function(comm, msg) {\n",
       "    // This is the function which gets called when the mpl process\n",
       "    // starts-up an IPython Comm through the \"matplotlib\" channel.\n",
       "\n",
       "    var id = msg.content.data.id;\n",
       "    // Get hold of the div created by the display call when the Comm\n",
       "    // socket was opened in Python.\n",
       "    var element = $(\"#\" + id);\n",
       "    var ws_proxy = comm_websocket_adapter(comm)\n",
       "\n",
       "    function ondownload(figure, format) {\n",
       "        window.open(figure.imageObj.src);\n",
       "    }\n",
       "\n",
       "    var fig = new mpl.figure(id, ws_proxy,\n",
       "                           ondownload,\n",
       "                           element.get(0));\n",
       "\n",
       "    // Call onopen now - mpl needs it, as it is assuming we've passed it a real\n",
       "    // web socket which is closed, not our websocket->open comm proxy.\n",
       "    ws_proxy.onopen();\n",
       "\n",
       "    fig.parent_element = element.get(0);\n",
       "    fig.cell_info = mpl.find_output_cell(\"<div id='\" + id + \"'></div>\");\n",
       "    if (!fig.cell_info) {\n",
       "        console.error(\"Failed to find cell for figure\", id, fig);\n",
       "        return;\n",
       "    }\n",
       "\n",
       "    var output_index = fig.cell_info[2]\n",
       "    var cell = fig.cell_info[0];\n",
       "\n",
       "};\n",
       "\n",
       "mpl.figure.prototype.handle_close = function(fig, msg) {\n",
       "    var width = fig.canvas.width/mpl.ratio\n",
       "    fig.root.unbind('remove')\n",
       "\n",
       "    // Update the output cell to use the data from the current canvas.\n",
       "    fig.push_to_output();\n",
       "    var dataURL = fig.canvas.toDataURL();\n",
       "    // Re-enable the keyboard manager in IPython - without this line, in FF,\n",
       "    // the notebook keyboard shortcuts fail.\n",
       "    IPython.keyboard_manager.enable()\n",
       "    $(fig.parent_element).html('<img src=\"' + dataURL + '\" width=\"' + width + '\">');\n",
       "    fig.close_ws(fig, msg);\n",
       "}\n",
       "\n",
       "mpl.figure.prototype.close_ws = function(fig, msg){\n",
       "    fig.send_message('closing', msg);\n",
       "    // fig.ws.close()\n",
       "}\n",
       "\n",
       "mpl.figure.prototype.push_to_output = function(remove_interactive) {\n",
       "    // Turn the data on the canvas into data in the output cell.\n",
       "    var width = this.canvas.width/mpl.ratio\n",
       "    var dataURL = this.canvas.toDataURL();\n",
       "    this.cell_info[1]['text/html'] = '<img src=\"' + dataURL + '\" width=\"' + width + '\">';\n",
       "}\n",
       "\n",
       "mpl.figure.prototype.updated_canvas_event = function() {\n",
       "    // Tell IPython that the notebook contents must change.\n",
       "    IPython.notebook.set_dirty(true);\n",
       "    this.send_message(\"ack\", {});\n",
       "    var fig = this;\n",
       "    // Wait a second, then push the new image to the DOM so\n",
       "    // that it is saved nicely (might be nice to debounce this).\n",
       "    setTimeout(function () { fig.push_to_output() }, 1000);\n",
       "}\n",
       "\n",
       "mpl.figure.prototype._init_toolbar = function() {\n",
       "    var fig = this;\n",
       "\n",
       "    var nav_element = $('<div/>');\n",
       "    nav_element.attr('style', 'width: 100%');\n",
       "    this.root.append(nav_element);\n",
       "\n",
       "    // Define a callback function for later on.\n",
       "    function toolbar_event(event) {\n",
       "        return fig.toolbar_button_onclick(event['data']);\n",
       "    }\n",
       "    function toolbar_mouse_event(event) {\n",
       "        return fig.toolbar_button_onmouseover(event['data']);\n",
       "    }\n",
       "\n",
       "    for(var toolbar_ind in mpl.toolbar_items){\n",
       "        var name = mpl.toolbar_items[toolbar_ind][0];\n",
       "        var tooltip = mpl.toolbar_items[toolbar_ind][1];\n",
       "        var image = mpl.toolbar_items[toolbar_ind][2];\n",
       "        var method_name = mpl.toolbar_items[toolbar_ind][3];\n",
       "\n",
       "        if (!name) { continue; };\n",
       "\n",
       "        var button = $('<button class=\"btn btn-default\" href=\"#\" title=\"' + name + '\"><i class=\"fa ' + image + ' fa-lg\"></i></button>');\n",
       "        button.click(method_name, toolbar_event);\n",
       "        button.mouseover(tooltip, toolbar_mouse_event);\n",
       "        nav_element.append(button);\n",
       "    }\n",
       "\n",
       "    // Add the status bar.\n",
       "    var status_bar = $('<span class=\"mpl-message\" style=\"text-align:right; float: right;\"/>');\n",
       "    nav_element.append(status_bar);\n",
       "    this.message = status_bar[0];\n",
       "\n",
       "    // Add the close button to the window.\n",
       "    var buttongrp = $('<div class=\"btn-group inline pull-right\"></div>');\n",
       "    var button = $('<button class=\"btn btn-mini btn-primary\" href=\"#\" title=\"Stop Interaction\"><i class=\"fa fa-power-off icon-remove icon-large\"></i></button>');\n",
       "    button.click(function (evt) { fig.handle_close(fig, {}); } );\n",
       "    button.mouseover('Stop Interaction', toolbar_mouse_event);\n",
       "    buttongrp.append(button);\n",
       "    var titlebar = this.root.find($('.ui-dialog-titlebar'));\n",
       "    titlebar.prepend(buttongrp);\n",
       "}\n",
       "\n",
       "mpl.figure.prototype._root_extra_style = function(el){\n",
       "    var fig = this\n",
       "    el.on(\"remove\", function(){\n",
       "\tfig.close_ws(fig, {});\n",
       "    });\n",
       "}\n",
       "\n",
       "mpl.figure.prototype._canvas_extra_style = function(el){\n",
       "    // this is important to make the div 'focusable\n",
       "    el.attr('tabindex', 0)\n",
       "    // reach out to IPython and tell the keyboard manager to turn it's self\n",
       "    // off when our div gets focus\n",
       "\n",
       "    // location in version 3\n",
       "    if (IPython.notebook.keyboard_manager) {\n",
       "        IPython.notebook.keyboard_manager.register_events(el);\n",
       "    }\n",
       "    else {\n",
       "        // location in version 2\n",
       "        IPython.keyboard_manager.register_events(el);\n",
       "    }\n",
       "\n",
       "}\n",
       "\n",
       "mpl.figure.prototype._key_event_extra = function(event, name) {\n",
       "    var manager = IPython.notebook.keyboard_manager;\n",
       "    if (!manager)\n",
       "        manager = IPython.keyboard_manager;\n",
       "\n",
       "    // Check for shift+enter\n",
       "    if (event.shiftKey && event.which == 13) {\n",
       "        this.canvas_div.blur();\n",
       "        // select the cell after this one\n",
       "        var index = IPython.notebook.find_cell_index(this.cell_info[0]);\n",
       "        IPython.notebook.select(index + 1);\n",
       "    }\n",
       "}\n",
       "\n",
       "mpl.figure.prototype.handle_save = function(fig, msg) {\n",
       "    fig.ondownload(fig, null);\n",
       "}\n",
       "\n",
       "\n",
       "mpl.find_output_cell = function(html_output) {\n",
       "    // Return the cell and output element which can be found *uniquely* in the notebook.\n",
       "    // Note - this is a bit hacky, but it is done because the \"notebook_saving.Notebook\"\n",
       "    // IPython event is triggered only after the cells have been serialised, which for\n",
       "    // our purposes (turning an active figure into a static one), is too late.\n",
       "    var cells = IPython.notebook.get_cells();\n",
       "    var ncells = cells.length;\n",
       "    for (var i=0; i<ncells; i++) {\n",
       "        var cell = cells[i];\n",
       "        if (cell.cell_type === 'code'){\n",
       "            for (var j=0; j<cell.output_area.outputs.length; j++) {\n",
       "                var data = cell.output_area.outputs[j];\n",
       "                if (data.data) {\n",
       "                    // IPython >= 3 moved mimebundle to data attribute of output\n",
       "                    data = data.data;\n",
       "                }\n",
       "                if (data['text/html'] == html_output) {\n",
       "                    return [cell, data, j];\n",
       "                }\n",
       "            }\n",
       "        }\n",
       "    }\n",
       "}\n",
       "\n",
       "// Register the function which deals with the matplotlib target/channel.\n",
       "// The kernel may be null if the page has been refreshed.\n",
       "if (IPython.notebook.kernel != null) {\n",
       "    IPython.notebook.kernel.comm_manager.register_target('matplotlib', mpl.mpl_figure_comm);\n",
       "}\n"
      ],
      "text/plain": [
       "<IPython.core.display.Javascript object>"
      ]
     },
     "metadata": {
      "tags": []
     },
     "output_type": "display_data"
    },
    {
     "data": {
      "text/html": [
       "<img src=\"data:image/png;base64,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\" width=\"900\">"
      ],
      "text/plain": [
       "<IPython.core.display.HTML object>"
      ]
     },
     "metadata": {
      "tags": []
     },
     "output_type": "display_data"
    }
   ],
   "source": [
    "# These are the plots with with only the independent variables are scaled. \n",
    "fig, axs = plt.subplots(2, 2, figsize=(9,7))\n",
    "\n",
    "axs[0,0].scatter(df_train['Day of Month'], train['Time from Pickup to Arrival'])\n",
    "axs[0,0].title.set_text('Day of Month vs. Pickup to Arrival (s)')\n",
    "\n",
    "axs[0,1].scatter(df_train['Distance (km)'], train['Time from Pickup to Arrival'])\n",
    "axs[0,1].title.set_text('Distance (km) vs. Pickup to Arrival (s)')\n",
    "\n",
    "axs[1,0].scatter(df_train['Temp'], train['Time from Pickup to Arrival'])\n",
    "axs[1,0].title.set_text('Temperature vs. Pickup to Arrival (s)')\n",
    "\n",
    "axs[1,1].scatter(df_train['Precipitation (mm)'], train['Time from Pickup to Arrival'])\n",
    "axs[1,1].title.set_text('Precipitation (mm) vs. Pickup to Arrival (s)')\n",
    "\n",
    "fig.tight_layout(pad=3.0)\n",
    "\n",
    "plt.show()\n",
    "\n",
    "# The Day of Month, Distance (km), Temp and precipitation represents the predictor, whereas, the Pickup \n",
    "# ... to Arrival is the response (not scaled)."
   ]
  },
  {
   "cell_type": "code",
   "execution_count": null,
   "metadata": {
    "id": "5nGdoNG2VDpu"
   },
   "outputs": [],
   "source": [
    "# split predictors and response\n",
    "\n",
    "# Scaled predictors\n",
    "x_month  = df_train['Day of Month']\n",
    "x_distance = df_train['Distance (km)']\n",
    "x_temp = df_train['Temp']\n",
    "x_prec = df_train['Precipitation (mm)']\n",
    "\n",
    "# The predicted response:\n",
    "y_pa = train['Time from Pickup to Arrival']\n",
    "# The unpredicted response:\n",
    "y_pa_scale = df_train['Pickup to Arrival (s)']"
   ]
  },
  {
   "cell_type": "code",
   "execution_count": null,
   "metadata": {
    "id": "HYBAtzSMVDpz"
   },
   "outputs": [],
   "source": []
  },
  {
   "cell_type": "code",
   "execution_count": null,
   "metadata": {},
   "outputs": [],
   "source": []
  },
  {
   "cell_type": "code",
   "execution_count": null,
   "metadata": {
    "id": "shI99Ml09Eqc"
   },
   "outputs": [],
   "source": [
    "# Creating X and y metrics\n",
    "X = train_df.drop(['Time from Pickup to Arrival','Order No'], axis = 1)\n",
    "y = np.array(train_df['Time from Pickup to Arrival']).reshape(-1,1)\n",
    "X_test = test_df.drop(['Order No'], axis =1)"
   ]
  },
  {
   "cell_type": "markdown",
   "metadata": {
    "id": "_sP16zwXVDqm"
   },
   "source": [
    "## Spliting Data into the training and the validation set ##"
   ]
  },
  {
   "cell_type": "code",
   "execution_count": 188,
   "metadata": {
    "id": "XTT5rZLjVDqm"
   },
   "outputs": [],
   "source": [
    "# Splitting the data into train set and validation set\n",
    "X_train, X_val, y_train, y_val = train_test_split(X,y,test_size = 0.30,\n",
    "                                                  random_state = 25)"
   ]
  },
  {
   "cell_type": "markdown",
   "metadata": {
    "id": "Y_fC2DUaBIrE"
   },
   "source": [
    "## Scaling the data and creating scaled train and scaled test data"
   ]
  },
  {
   "cell_type": "code",
   "execution_count": 189,
   "metadata": {
    "id": "Ya86AYlzBHf2"
   },
   "outputs": [],
   "source": [
    "# creating instance for scaled X and  scaled y\n",
    "sc_X = StandardScaler()\n",
    "sc_y = StandardScaler()\n",
    "X_scaled = sc_X.fit_transform(X)\n",
    "y_scaled = sc_y.fit_transform(y)"
   ]
  },
  {
   "cell_type": "code",
   "execution_count": 190,
   "metadata": {
    "id": "nz8nBkNE6Q-V"
   },
   "outputs": [],
   "source": [
    "# splitting X and y of the scaled data\n",
    "X_train_sc, X_val_sc, y_train_sc, y_val_sc = train_test_split(X_scaled,y_scaled,test_size = 0.3)"
   ]
  },
  {
   "cell_type": "code",
   "execution_count": 190,
   "metadata": {
    "id": "FUa5-X8H61F9"
   },
   "outputs": [],
   "source": []
  },
  {
   "cell_type": "markdown",
   "metadata": {
    "id": "-GskDqj461zr"
   },
   "source": [
    "# Building Models"
   ]
  },
  {
   "cell_type": "markdown",
   "metadata": {
    "id": "VRUpHyovDMuA"
   },
   "source": [
    "## Linear Model"
   ]
  },
  {
   "cell_type": "code",
   "execution_count": 191,
   "metadata": {
    "colab": {
     "base_uri": "https://localhost:8080/",
     "height": 34
    },
    "id": "Lp0EabLX6RDP",
    "outputId": "bccc747b-4ecc-4009-b396-70b4779b3f90"
   },
   "outputs": [
    {
     "data": {
      "text/plain": [
       "LinearRegression(copy_X=True, fit_intercept=True, n_jobs=None, normalize=False)"
      ]
     },
     "execution_count": 191,
     "metadata": {
      "tags": []
     },
     "output_type": "execute_result"
    }
   ],
   "source": [
    "# instantiating and Training a multiple Linear Training model\n",
    "lin_reg = LinearRegression()\n",
    "lin_reg.fit(X_train,y_train)"
   ]
  },
  {
   "cell_type": "code",
   "execution_count": 192,
   "metadata": {
    "colab": {
     "base_uri": "https://localhost:8080/",
     "height": 134
    },
    "id": "vxsz-G_56RJV",
    "outputId": "3f906121-c147-4303-a454-6043da0a9bce"
   },
   "outputs": [
    {
     "data": {
      "text/plain": [
       "array([[2042.76865557],\n",
       "       [1415.87781663],\n",
       "       [2050.18185505],\n",
       "       ...,\n",
       "       [1093.6552803 ],\n",
       "       [1023.72502374],\n",
       "       [1561.67252544]])"
      ]
     },
     "execution_count": 192,
     "metadata": {
      "tags": []
     },
     "output_type": "execute_result"
    }
   ],
   "source": [
    "# Making predicitions for the validation dataset\n",
    "val_pred = lin_reg.predict(X_val)\n",
    "val_pred"
   ]
  },
  {
   "cell_type": "code",
   "execution_count": 193,
   "metadata": {
    "id": "BdsAo8Ou6ROo"
   },
   "outputs": [],
   "source": [
    "# function that calculates the root mean squared error\n",
    "def rmse(y_test,y_prediction):\n",
    "    result = np.sqrt(mean_squared_error(y_test,y_prediction))\n",
    "    return result"
   ]
  },
  {
   "cell_type": "code",
   "execution_count": 194,
   "metadata": {
    "colab": {
     "base_uri": "https://localhost:8080/",
     "height": 34
    },
    "id": "8AcCoLfP6RTI",
    "outputId": "f1199cab-8a38-4c3b-d156-3c94ce784d60"
   },
   "outputs": [
    {
     "data": {
      "text/plain": [
       "793.3028821523338"
      ]
     },
     "execution_count": 194,
     "metadata": {
      "tags": []
     },
     "output_type": "execute_result"
    }
   ],
   "source": [
    "# calculate accuracy of validation predictions using root mean squared error\n",
    "rmse(y_val, val_pred)"
   ]
  },
  {
   "cell_type": "code",
   "execution_count": 195,
   "metadata": {
    "colab": {
     "base_uri": "https://localhost:8080/",
     "height": 283
    },
    "id": "-tpobPwk_DEj",
    "outputId": "35d252e7-5269-43d3-f7a9-43477ca70a97"
   },
   "outputs": [
    {
     "data": {
      "image/png": "[encoded data removed]",
      "text/plain": [
       "<Figure size 432x288 with 1 Axes>"
      ]
     },
     "metadata": {
      "needs_background": "light",
      "tags": []
     },
     "output_type": "display_data"
    }
   ],
   "source": [
    "plt.scatter(y_val,val_pred) \n",
    "plt.plot(y_val,y_val,\"r\") # perfect model line\n",
    "plt.ylabel(\"Predicted $y$\")\n",
    "plt.xlabel(\"Actual $y$\")\n",
    "plt.show()"
   ]
  },
  {
   "cell_type": "code",
   "execution_count": 196,
   "metadata": {
    "id": "6Dcx05Pr6RW2"
   },
   "outputs": [],
   "source": [
    "# Making actual y predictions\n",
    "y_pred = lin_reg.predict(X_test)"
   ]
  },
  {
   "cell_type": "code",
   "execution_count": 197,
   "metadata": {
    "id": "-RYbKdbX6Rcc"
   },
   "outputs": [],
   "source": [
    "submission = test[['Order No']].copy()\n",
    "submission['Time from Pickup to Arrival'] = y_pred"
   ]
  },
  {
   "cell_type": "code",
   "execution_count": 198,
   "metadata": {
    "colab": {
     "base_uri": "https://localhost:8080/",
     "height": 402
    },
    "id": "-eD6Sj4u6Rg7",
    "outputId": "34e5e986-e696-4970-8266-0c08bebe7d73"
   },
   "outputs": [
    {
     "data": {
      "text/html": [
       "<div>\n",
       "<style scoped>\n",
       "    .dataframe tbody tr th:only-of-type {\n",
       "        vertical-align: middle;\n",
       "    }\n",
       "\n",
       "    .dataframe tbody tr th {\n",
       "        vertical-align: top;\n",
       "    }\n",
       "\n",
       "    .dataframe thead th {\n",
       "        text-align: right;\n",
       "    }\n",
       "</style>\n",
       "<table border=\"1\" class=\"dataframe\">\n",
       "  <thead>\n",
       "    <tr style=\"text-align: right;\">\n",
       "      <th></th>\n",
       "      <th>Order No</th>\n",
       "      <th>Time from Pickup to Arrival</th>\n",
       "    </tr>\n",
       "  </thead>\n",
       "  <tbody>\n",
       "    <tr>\n",
       "      <th>0</th>\n",
       "      <td>Order_No_19248</td>\n",
       "      <td>1307.746708</td>\n",
       "    </tr>\n",
       "    <tr>\n",
       "      <th>1</th>\n",
       "      <td>Order_No_12736</td>\n",
       "      <td>1109.207739</td>\n",
       "    </tr>\n",
       "    <tr>\n",
       "      <th>2</th>\n",
       "      <td>Order_No_768</td>\n",
       "      <td>1055.041384</td>\n",
       "    </tr>\n",
       "    <tr>\n",
       "      <th>3</th>\n",
       "      <td>Order_No_15332</td>\n",
       "      <td>1103.354981</td>\n",
       "    </tr>\n",
       "    <tr>\n",
       "      <th>4</th>\n",
       "      <td>Order_No_21373</td>\n",
       "      <td>1195.624103</td>\n",
       "    </tr>\n",
       "    <tr>\n",
       "      <th>...</th>\n",
       "      <td>...</td>\n",
       "      <td>...</td>\n",
       "    </tr>\n",
       "    <tr>\n",
       "      <th>7063</th>\n",
       "      <td>Order_No_3612</td>\n",
       "      <td>1130.460822</td>\n",
       "    </tr>\n",
       "    <tr>\n",
       "      <th>7064</th>\n",
       "      <td>Order_No_7657</td>\n",
       "      <td>2936.028198</td>\n",
       "    </tr>\n",
       "    <tr>\n",
       "      <th>7065</th>\n",
       "      <td>Order_No_1969</td>\n",
       "      <td>1654.064536</td>\n",
       "    </tr>\n",
       "    <tr>\n",
       "      <th>7066</th>\n",
       "      <td>Order_No_10591</td>\n",
       "      <td>2611.834259</td>\n",
       "    </tr>\n",
       "    <tr>\n",
       "      <th>7067</th>\n",
       "      <td>Order_No_1603</td>\n",
       "      <td>1461.884792</td>\n",
       "    </tr>\n",
       "  </tbody>\n",
       "</table>\n",
       "<p>7068 rows × 2 columns</p>\n",
       "</div>"
      ],
      "text/plain": [
       "            Order No  Time from Pickup to Arrival\n",
       "0     Order_No_19248                  1307.746708\n",
       "1     Order_No_12736                  1109.207739\n",
       "2       Order_No_768                  1055.041384\n",
       "3     Order_No_15332                  1103.354981\n",
       "4     Order_No_21373                  1195.624103\n",
       "...              ...                          ...\n",
       "7063   Order_No_3612                  1130.460822\n",
       "7064   Order_No_7657                  2936.028198\n",
       "7065   Order_No_1969                  1654.064536\n",
       "7066  Order_No_10591                  2611.834259\n",
       "7067   Order_No_1603                  1461.884792\n",
       "\n",
       "[7068 rows x 2 columns]"
      ]
     },
     "execution_count": 198,
     "metadata": {
      "tags": []
     },
     "output_type": "execute_result"
    }
   ],
   "source": [
    "submission"
   ]
  },
  {
   "cell_type": "markdown",
   "metadata": {
    "id": "DtyikQbQVDqq"
   },
   "source": [
    "## Comparing models\n"
   ]
  },
  {
   "cell_type": "code",
   "execution_count": 199,
   "metadata": {
    "id": "cWmnvmQAVDqr"
   },
   "outputs": [],
   "source": [
    "def best_perfomance(model_result,best_result):\n",
    "    ''' This functions checks if whether the last model we build perfoms better compared our\n",
    "    best perfoming models by comparing their RMSE score'''\n",
    "    if model_result < best_result:\n",
    "        print('This is now the best perfoming model, with RMSE of {}'.format(model_result))\n",
    "    \n",
    "    elif model_result == best_result:\n",
    "        print('This model performance just as good as the previous best performing model with RMSE of {}'.format(model_result))\n",
    "        \n",
    "    else:\n",
    "        print('This model performs poorly compared the previous best performing model')\n",
    "        print('Best perfomaning model score: {}'.format(round(best_result,4)))\n",
    "        print('Model result : {}'.format(round(model_result,4)))\n",
    "        "
   ]
  },
  {
   "cell_type": "code",
   "execution_count": 200,
   "metadata": {
    "id": "rFJ6CJqf-XpN"
   },
   "outputs": [],
   "source": [
    "best_result = 793.3028821523337\n",
    "model_result = rmse(y_val,val_pred)"
   ]
  },
  {
   "cell_type": "code",
   "execution_count": 201,
   "metadata": {
    "colab": {
     "base_uri": "https://localhost:8080/",
     "height": 67
    },
    "id": "ScVZLnrO_J41",
    "outputId": "b9f64d0f-2f7f-4cf9-f9c5-3e7de669eef2"
   },
   "outputs": [
    {
     "name": "stdout",
     "output_type": "stream",
     "text": [
      "This model performs poorly compared the previous best performing model\n",
      "Best perfomaning model score: 793.3029\n",
      "Model result : 793.3029\n"
     ]
    }
   ],
   "source": [
    "best_perfomance(model_result, best_result)"
   ]
  },
  {
   "cell_type": "markdown",
   "metadata": {
    "id": "MwldlJxa_Wa2"
   },
   "source": [
    "## Catboost Regressor\n",
    "\n",
    "instal Catboost Regressor"
   ]
  },
  {
   "cell_type": "code",
   "execution_count": 202,
   "metadata": {
    "id": "DTAP1wKS_LMA"
   },
   "outputs": [],
   "source": [
    "# creating an instance of the catboostregressor\n",
    "cbr_model = CatBoostRegressor(iterations=2,\n",
    "                          learning_rate=1,\n",
    "                          depth=2)"
   ]
  },
  {
   "cell_type": "code",
   "execution_count": 203,
   "metadata": {
    "colab": {
     "base_uri": "https://localhost:8080/",
     "height": 67
    },
    "id": "3CUjDrC5_LR7",
    "outputId": "8648cfc0-468f-4664-d231-27fea49b4653"
   },
   "outputs": [
    {
     "name": "stdout",
     "output_type": "stream",
     "text": [
      "0:\tlearn: 839.4022581\ttotal: 6.22ms\tremaining: 6.22ms\n",
      "1:\tlearn: 825.4788909\ttotal: 8.88ms\tremaining: 0us\n"
     ]
    },
    {
     "data": {
      "text/plain": [
       "<catboost.core.CatBoostRegressor at 0x7ff54a19e0b8>"
      ]
     },
     "execution_count": 203,
     "metadata": {
      "tags": []
     },
     "output_type": "execute_result"
    }
   ],
   "source": [
    "# training the catboost regressor model\n",
    "cbr_model.fit(X_train, y_train)"
   ]
  },
  {
   "cell_type": "code",
   "execution_count": 204,
   "metadata": {
    "colab": {
     "base_uri": "https://localhost:8080/",
     "height": 50
    },
    "id": "FMYi52DA_LUM",
    "outputId": "ae35356a-d4f5-477e-9945-3931dcbfebb9"
   },
   "outputs": [
    {
     "data": {
      "text/plain": [
       "array([2238.25652059, 1395.6549036 , 2238.25652059, ..., 1395.6549036 ,\n",
       "        736.31988701, 1395.6549036 ])"
      ]
     },
     "execution_count": 204,
     "metadata": {
      "tags": []
     },
     "output_type": "execute_result"
    }
   ],
   "source": [
    "# predictions on the validation set\n",
    "val_pred = cbr_model.predict(X_val)\n",
    "val_pred"
   ]
  },
  {
   "cell_type": "code",
   "execution_count": 205,
   "metadata": {
    "id": "I5MdWbFO_LWN"
   },
   "outputs": [],
   "source": [
    "model_result = rmse(y_val, val_pred)"
   ]
  },
  {
   "cell_type": "code",
   "execution_count": 206,
   "metadata": {
    "colab": {
     "base_uri": "https://localhost:8080/",
     "height": 67
    },
    "id": "5RRMDfA4_LYq",
    "outputId": "30938bc2-7334-4ed9-c902-c459ea9ebaec"
   },
   "outputs": [
    {
     "name": "stdout",
     "output_type": "stream",
     "text": [
      "This model performs poorly compared the previous best performing model\n",
      "Best perfomaning model score: 793.3029\n",
      "Model result : 812.3998\n"
     ]
    }
   ],
   "source": [
    "# Checking the model performance\n",
    "best_perfomance(model_result, best_result)"
   ]
  },
  {
   "cell_type": "markdown",
   "metadata": {
    "id": "H5HUsrWJ_-QZ"
   },
   "source": [
    "## Random Forest Regressor"
   ]
  },
  {
   "cell_type": "code",
   "execution_count": 207,
   "metadata": {
    "id": "8NbDC5zq_Lc5"
   },
   "outputs": [],
   "source": [
    "# creating a random forest regressor instancce\n",
    "regr = RandomForestRegressor(max_depth=2, random_state=0)"
   ]
  },
  {
   "cell_type": "code",
   "execution_count": 208,
   "metadata": {
    "colab": {
     "base_uri": "https://localhost:8080/",
     "height": 188
    },
    "id": "-L-hpCcG_Lg5",
    "outputId": "408cc7c0-923a-4f67-dffa-01784620f040"
   },
   "outputs": [
    {
     "name": "stderr",
     "output_type": "stream",
     "text": [
      "/usr/local/lib/python3.6/dist-packages/ipykernel_launcher.py:2: DataConversionWarning: A column-vector y was passed when a 1d array was expected. Please change the shape of y to (n_samples,), for example using ravel().\n",
      "  \n"
     ]
    },
    {
     "data": {
      "text/plain": [
       "RandomForestRegressor(bootstrap=True, ccp_alpha=0.0, criterion='mse',\n",
       "                      max_depth=2, max_features='auto', max_leaf_nodes=None,\n",
       "                      max_samples=None, min_impurity_decrease=0.0,\n",
       "                      min_impurity_split=None, min_samples_leaf=1,\n",
       "                      min_samples_split=2, min_weight_fraction_leaf=0.0,\n",
       "                      n_estimators=100, n_jobs=None, oob_score=False,\n",
       "                      random_state=0, verbose=0, warm_start=False)"
      ]
     },
     "execution_count": 208,
     "metadata": {
      "tags": []
     },
     "output_type": "execute_result"
    }
   ],
   "source": [
    "# train the model\n",
    "regr.fit(X_train, y_train)"
   ]
  },
  {
   "cell_type": "code",
   "execution_count": 209,
   "metadata": {
    "colab": {
     "base_uri": "https://localhost:8080/",
     "height": 50
    },
    "id": "HEzkGrdl_LjG",
    "outputId": "4f2f64f0-ab96-4ee9-d10c-89c197b4a48a"
   },
   "outputs": [
    {
     "data": {
      "text/plain": [
       "array([2044.40419148, 1442.01754556, 2069.90089065, ..., 1280.03573814,\n",
       "        800.63652348, 1447.48387118])"
      ]
     },
     "execution_count": 209,
     "metadata": {
      "tags": []
     },
     "output_type": "execute_result"
    }
   ],
   "source": [
    "# making prdictions for the valdiation set\n",
    "regr.predict(X_val)"
   ]
  },
  {
   "cell_type": "code",
   "execution_count": 210,
   "metadata": {
    "id": "5Cyr-NxK_Lk7"
   },
   "outputs": [],
   "source": [
    "model_result = rmse(y_val,regr.predict(X_val))"
   ]
  },
  {
   "cell_type": "code",
   "execution_count": 211,
   "metadata": {
    "colab": {
     "base_uri": "https://localhost:8080/",
     "height": 67
    },
    "id": "1UXy6gJOAR6N",
    "outputId": "a0a4c047-d1c6-41c5-fe45-58a1d670c62a"
   },
   "outputs": [
    {
     "name": "stdout",
     "output_type": "stream",
     "text": [
      "This model performs poorly compared the previous best performing model\n",
      "Best perfomaning model score: 793.3029\n",
      "Model result : 805.0174\n"
     ]
    }
   ],
   "source": [
    "best_perfomance(model_result, best_result)"
   ]
  },
  {
   "cell_type": "markdown",
   "metadata": {
    "id": "RqdQKgvCAeIt"
   },
   "source": [
    "## Decision Tree Regressor"
   ]
  },
  {
   "cell_type": "code",
   "execution_count": 212,
   "metadata": {
    "id": "qEvkjNXlAR_w"
   },
   "outputs": [],
   "source": [
    "# creating an instance of the DecisionTreeRegressor\n",
    "tree_model = DecisionTreeRegressor(random_state = 0)"
   ]
  },
  {
   "cell_type": "code",
   "execution_count": 213,
   "metadata": {
    "colab": {
     "base_uri": "https://localhost:8080/",
     "height": 118
    },
    "id": "ngYOE4mLASDG",
    "outputId": "4976da20-770c-49fd-ceab-7c8f55d6200e"
   },
   "outputs": [
    {
     "data": {
      "text/plain": [
       "DecisionTreeRegressor(ccp_alpha=0.0, criterion='mse', max_depth=None,\n",
       "                      max_features=None, max_leaf_nodes=None,\n",
       "                      min_impurity_decrease=0.0, min_impurity_split=None,\n",
       "                      min_samples_leaf=1, min_samples_split=2,\n",
       "                      min_weight_fraction_leaf=0.0, presort='deprecated',\n",
       "                      random_state=0, splitter='best')"
      ]
     },
     "execution_count": 213,
     "metadata": {
      "tags": []
     },
     "output_type": "execute_result"
    }
   ],
   "source": [
    "# training the model\n",
    "tree_model.fit(X_train, y_train)"
   ]
  },
  {
   "cell_type": "code",
   "execution_count": 214,
   "metadata": {
    "colab": {
     "base_uri": "https://localhost:8080/",
     "height": 34
    },
    "id": "5w3edAzTARqy",
    "outputId": "71046f9e-297b-4857-fcbd-d04781ed2fea"
   },
   "outputs": [
    {
     "data": {
      "text/plain": [
       "array([1188., 2157., 2270., ..., 1126.,  773., 1236.])"
      ]
     },
     "execution_count": 214,
     "metadata": {
      "tags": []
     },
     "output_type": "execute_result"
    }
   ],
   "source": [
    "# prediction of the validation set\n",
    "tree_model.predict(X_val)"
   ]
  },
  {
   "cell_type": "code",
   "execution_count": 215,
   "metadata": {
    "id": "Rhv7-oUkArm7"
   },
   "outputs": [],
   "source": [
    "model_result = rmse(y_val, tree_model.predict(X_val))"
   ]
  },
  {
   "cell_type": "code",
   "execution_count": 216,
   "metadata": {
    "colab": {
     "base_uri": "https://localhost:8080/",
     "height": 67
    },
    "id": "MmsiTnDGAtjF",
    "outputId": "02f7929f-bbd5-4532-d87e-7d8cf65c8f69"
   },
   "outputs": [
    {
     "name": "stdout",
     "output_type": "stream",
     "text": [
      "This model performs poorly compared the previous best performing model\n",
      "Best perfomaning model score: 793.3029\n",
      "Model result : 1107.6072\n"
     ]
    }
   ],
   "source": [
    "best_perfomance(model_result, best_result)"
   ]
  },
  {
   "cell_type": "markdown",
   "metadata": {
    "id": "Z3CMOm5bA3Cf"
   },
   "source": [
    "## Support Vector Regression"
   ]
  },
  {
   "cell_type": "code",
   "execution_count": 219,
   "metadata": {
    "id": "TqYzAO_FntBO"
   },
   "outputs": [],
   "source": [
    "# The support vector regression model requires scaled data\n",
    "# creating instance for scaled X and  scaled y\n",
    "sc_X = StandardScaler()\n",
    "sc_y = StandardScaler()\n",
    "X_scaled = sc_X.fit_transform(X)\n",
    "y_scaled = sc_y.fit_transform(y)\n"
   ]
  },
  {
   "cell_type": "code",
   "execution_count": 220,
   "metadata": {
    "id": "G25oT5TGnvsp"
   },
   "outputs": [],
   "source": [
    "# splitting the scaled data in to training set and validation set\n",
    "X_train_sc, X_val_sc, y_train_sc, y_val_sc = train_test_split(X_scaled,y_scaled,test_size = 0.3)"
   ]
  },
  {
   "cell_type": "code",
   "execution_count": 221,
   "metadata": {
    "colab": {
     "base_uri": "https://localhost:8080/",
     "height": 104
    },
    "id": "dTO2yDItAsvQ",
    "outputId": "4859ea58-c18f-494e-92df-78f1a4bfe077"
   },
   "outputs": [
    {
     "name": "stderr",
     "output_type": "stream",
     "text": [
      "/usr/local/lib/python3.6/dist-packages/sklearn/utils/validation.py:760: DataConversionWarning: A column-vector y was passed when a 1d array was expected. Please change the shape of y to (n_samples, ), for example using ravel().\n",
      "  y = column_or_1d(y, warn=True)\n"
     ]
    },
    {
     "data": {
      "text/plain": [
       "SVR(C=1.0, cache_size=200, coef0=0.0, degree=3, epsilon=0.1, gamma='scale',\n",
       "    kernel='rbf', max_iter=-1, shrinking=True, tol=0.001, verbose=False)"
      ]
     },
     "execution_count": 221,
     "metadata": {
      "tags": []
     },
     "output_type": "execute_result"
    }
   ],
   "source": [
    "# Training the SVR model\n",
    "regressor_svr = SVR(kernel = 'rbf')\n",
    "regressor_svr.fit(X_train_sc, y_train_sc)"
   ]
  },
  {
   "cell_type": "code",
   "execution_count": 222,
   "metadata": {
    "id": "JTvY4NV2As2m"
   },
   "outputs": [],
   "source": [
    "# making preditions on the validation test\n",
    "val_pred = sc_y.inverse_transform(regressor_svr.predict(sc_X.transform(X_val_sc)))"
   ]
  },
  {
   "cell_type": "code",
   "execution_count": 223,
   "metadata": {
    "id": "4OUmAekkAs0a"
   },
   "outputs": [],
   "source": [
    "model_result= rmse(y_val_sc, val_pred)"
   ]
  },
  {
   "cell_type": "code",
   "execution_count": 224,
   "metadata": {
    "colab": {
     "base_uri": "https://localhost:8080/",
     "height": 67
    },
    "id": "h8pvRHbRAsrT",
    "outputId": "0afa5998-7477-46af-d401-39a674047dcb"
   },
   "outputs": [
    {
     "name": "stdout",
     "output_type": "stream",
     "text": [
      "This model performs poorly compared the previous best performing model\n",
      "Best perfomaning model score: 793.3029\n",
      "Model result : 2370.4036\n"
     ]
    }
   ],
   "source": [
    "best_perfomance(model_result, best_result)"
   ]
  },
  {
   "cell_type": "code",
   "execution_count": 224,
   "metadata": {
    "id": "0p_QdiN1C4R9"
   },
   "outputs": [],
   "source": []
  },
  {
   "cell_type": "markdown",
   "metadata": {
    "id": "xvGxYiR6C6WU"
   },
   "source": [
    "## Ensemble Xgboost Regression"
   ]
  },
  {
   "cell_type": "code",
   "execution_count": 227,
   "metadata": {
    "id": "FovsfY1qoEAO"
   },
   "outputs": [],
   "source": [
    "model_x=XGBRegressor()"
   ]
  },
  {
   "cell_type": "code",
   "execution_count": 228,
   "metadata": {
    "colab": {
     "base_uri": "https://localhost:8080/",
     "height": 151
    },
    "id": "m0FyYxK_C4ZC",
    "outputId": "2d05f69f-4e34-4f3e-ff68-0bb546757efd"
   },
   "outputs": [
    {
     "name": "stdout",
     "output_type": "stream",
     "text": [
      "[00:55:07] WARNING: /workspace/src/objective/regression_obj.cu:152: reg:linear is now deprecated in favor of reg:squarederror.\n"
     ]
    },
    {
     "data": {
      "text/plain": [
       "XGBRegressor(base_score=0.5, booster='gbtree', colsample_bylevel=1,\n",
       "             colsample_bynode=1, colsample_bytree=1, gamma=0,\n",
       "             importance_type='gain', learning_rate=0.1, max_delta_step=0,\n",
       "             max_depth=3, min_child_weight=1, missing=None, n_estimators=100,\n",
       "             n_jobs=1, nthread=None, objective='reg:linear', random_state=0,\n",
       "             reg_alpha=0, reg_lambda=1, scale_pos_weight=1, seed=None,\n",
       "             silent=None, subsample=1, verbosity=1)"
      ]
     },
     "execution_count": 228,
     "metadata": {
      "tags": []
     },
     "output_type": "execute_result"
    }
   ],
   "source": [
    "# Training a Xgboost model\n",
    "model_x.fit(X_train, y_train)"
   ]
  },
  {
   "cell_type": "code",
   "execution_count": 229,
   "metadata": {
    "colab": {
     "base_uri": "https://localhost:8080/",
     "height": 50
    },
    "id": "wJhPBOhxC4Wz",
    "outputId": "a7989c5a-7545-48b0-a987-b8eb5485614a"
   },
   "outputs": [
    {
     "data": {
      "text/plain": [
       "array([1979.1566, 1620.1714, 2207.526 , ..., 1211.1982, 1065.2958,\n",
       "       1702.2092], dtype=float32)"
      ]
     },
     "execution_count": 229,
     "metadata": {
      "tags": []
     },
     "output_type": "execute_result"
    }
   ],
   "source": [
    "# Making predictions of the validation data\n",
    "model_x.predict(X_val)"
   ]
  },
  {
   "cell_type": "code",
   "execution_count": 230,
   "metadata": {
    "id": "BdQ3nJ28C4Og"
   },
   "outputs": [],
   "source": [
    "model_result = rmse(y_val, model_x.predict(X_val))"
   ]
  },
  {
   "cell_type": "code",
   "execution_count": 231,
   "metadata": {
    "colab": {
     "base_uri": "https://localhost:8080/",
     "height": 34
    },
    "id": "4j_VCKWRC4MV",
    "outputId": "3bcb4e40-eeb9-4a0e-eeb5-dc191c9e57b6"
   },
   "outputs": [
    {
     "name": "stdout",
     "output_type": "stream",
     "text": [
      "This is now the best perfoming model, with RMSE of 769.2752110279656\n"
     ]
    }
   ],
   "source": [
    "# Cheking the performance\n",
    "best_perfomance(model_result, best_result)"
   ]
  },
  {
   "cell_type": "markdown",
   "metadata": {
    "id": "b9wzVOEJ53aq"
   },
   "source": [
    "The XGBoost Regression model is now the best performing model"
   ]
  },
  {
   "cell_type": "code",
   "execution_count": 232,
   "metadata": {
    "id": "kcsTdziXC4Jk"
   },
   "outputs": [],
   "source": [
    "best_result = 769.2752110279656"
   ]
  },
  {
   "cell_type": "markdown",
   "metadata": {
    "id": "cNXrc5fhFMY4"
   },
   "source": [
    "## Gradient BoostingRegressor"
   ]
  },
  {
   "cell_type": "code",
   "execution_count": 233,
   "metadata": {
    "id": "-XOy3yBBE_ri"
   },
   "outputs": [],
   "source": [
    "# creating an instance for the gradient boosting regressor\n",
    "Gbr_model= GradientBoostingRegressor()"
   ]
  },
  {
   "cell_type": "code",
   "execution_count": 234,
   "metadata": {
    "colab": {
     "base_uri": "https://localhost:8080/",
     "height": 222
    },
    "id": "AjSsTI4UFcko",
    "outputId": "ecb187e9-00d5-4b8c-a418-7e02f91a1ac4"
   },
   "outputs": [
    {
     "name": "stderr",
     "output_type": "stream",
     "text": [
      "/usr/local/lib/python3.6/dist-packages/sklearn/ensemble/_gb.py:1454: DataConversionWarning: A column-vector y was passed when a 1d array was expected. Please change the shape of y to (n_samples, ), for example using ravel().\n",
      "  y = column_or_1d(y, warn=True)\n"
     ]
    },
    {
     "data": {
      "text/plain": [
       "GradientBoostingRegressor(alpha=0.9, ccp_alpha=0.0, criterion='friedman_mse',\n",
       "                          init=None, learning_rate=0.1, loss='ls', max_depth=3,\n",
       "                          max_features=None, max_leaf_nodes=None,\n",
       "                          min_impurity_decrease=0.0, min_impurity_split=None,\n",
       "                          min_samples_leaf=1, min_samples_split=2,\n",
       "                          min_weight_fraction_leaf=0.0, n_estimators=100,\n",
       "                          n_iter_no_change=None, presort='deprecated',\n",
       "                          random_state=None, subsample=1.0, tol=0.0001,\n",
       "                          validation_fraction=0.1, verbose=0, warm_start=False)"
      ]
     },
     "execution_count": 234,
     "metadata": {
      "tags": []
     },
     "output_type": "execute_result"
    }
   ],
   "source": [
    "# training the Gbr_model\n",
    "Gbr_model.fit(X_train, y_train)"
   ]
  },
  {
   "cell_type": "code",
   "execution_count": 235,
   "metadata": {
    "id": "dH-3_NX3E_w1"
   },
   "outputs": [],
   "source": [
    "model_result = rmse(y_val, val_pred)"
   ]
  },
  {
   "cell_type": "code",
   "execution_count": 236,
   "metadata": {
    "colab": {
     "base_uri": "https://localhost:8080/",
     "height": 67
    },
    "id": "U4jfWWXYEtfH",
    "outputId": "c992b9b5-8d3f-49c5-ce0c-ab98b862ea00"
   },
   "outputs": [
    {
     "name": "stdout",
     "output_type": "stream",
     "text": [
      "This model performs poorly compared the previous best performing model\n",
      "Best perfomaning model score: 769.2752\n",
      "Model result : 1280.3037\n"
     ]
    }
   ],
   "source": [
    "best_perfomance(model_result, best_result)"
   ]
  },
  {
   "cell_type": "code",
   "execution_count": 236,
   "metadata": {
    "id": "XGiSYxIKFtYB"
   },
   "outputs": [],
   "source": []
  },
  {
   "cell_type": "code",
   "execution_count": 237,
   "metadata": {
    "id": "glqDE8X7Fyb7"
   },
   "outputs": [],
   "source": [
    "# make actualy target variable predictions on the test data\n",
    "X_test\n",
    "y_gbr_pred = Gbr_model.predict(X_test)"
   ]
  },
  {
   "cell_type": "code",
   "execution_count": 238,
   "metadata": {
    "id": "jcCJa1GmF0_w"
   },
   "outputs": [],
   "source": [
    "submission_gbr = test[['Order No']].copy()\n",
    "submission_gbr['Time from Pickup to Arrival'] = y_gbr_pred"
   ]
  },
  {
   "cell_type": "code",
   "execution_count": 239,
   "metadata": {
    "colab": {
     "base_uri": "https://localhost:8080/",
     "height": 402
    },
    "id": "-yLs_hfqF3p_",
    "outputId": "ce7856bb-44a2-4092-f15f-adcc8144acd5"
   },
   "outputs": [
    {
     "data": {
      "text/html": [
       "<div>\n",
       "<style scoped>\n",
       "    .dataframe tbody tr th:only-of-type {\n",
       "        vertical-align: middle;\n",
       "    }\n",
       "\n",
       "    .dataframe tbody tr th {\n",
       "        vertical-align: top;\n",
       "    }\n",
       "\n",
       "    .dataframe thead th {\n",
       "        text-align: right;\n",
       "    }\n",
       "</style>\n",
       "<table border=\"1\" class=\"dataframe\">\n",
       "  <thead>\n",
       "    <tr style=\"text-align: right;\">\n",
       "      <th></th>\n",
       "      <th>Order No</th>\n",
       "      <th>Time from Pickup to Arrival</th>\n",
       "    </tr>\n",
       "  </thead>\n",
       "  <tbody>\n",
       "    <tr>\n",
       "      <th>0</th>\n",
       "      <td>Order_No_19248</td>\n",
       "      <td>1454.271759</td>\n",
       "    </tr>\n",
       "    <tr>\n",
       "      <th>1</th>\n",
       "      <td>Order_No_12736</td>\n",
       "      <td>1284.804529</td>\n",
       "    </tr>\n",
       "    <tr>\n",
       "      <th>2</th>\n",
       "      <td>Order_No_768</td>\n",
       "      <td>1221.508333</td>\n",
       "    </tr>\n",
       "    <tr>\n",
       "      <th>3</th>\n",
       "      <td>Order_No_15332</td>\n",
       "      <td>1323.956210</td>\n",
       "    </tr>\n",
       "    <tr>\n",
       "      <th>4</th>\n",
       "      <td>Order_No_21373</td>\n",
       "      <td>1265.913506</td>\n",
       "    </tr>\n",
       "    <tr>\n",
       "      <th>...</th>\n",
       "      <td>...</td>\n",
       "      <td>...</td>\n",
       "    </tr>\n",
       "    <tr>\n",
       "      <th>7063</th>\n",
       "      <td>Order_No_3612</td>\n",
       "      <td>1421.351402</td>\n",
       "    </tr>\n",
       "    <tr>\n",
       "      <th>7064</th>\n",
       "      <td>Order_No_7657</td>\n",
       "      <td>2750.003005</td>\n",
       "    </tr>\n",
       "    <tr>\n",
       "      <th>7065</th>\n",
       "      <td>Order_No_1969</td>\n",
       "      <td>1794.642730</td>\n",
       "    </tr>\n",
       "    <tr>\n",
       "      <th>7066</th>\n",
       "      <td>Order_No_10591</td>\n",
       "      <td>2675.930017</td>\n",
       "    </tr>\n",
       "    <tr>\n",
       "      <th>7067</th>\n",
       "      <td>Order_No_1603</td>\n",
       "      <td>1730.976567</td>\n",
       "    </tr>\n",
       "  </tbody>\n",
       "</table>\n",
       "<p>7068 rows × 2 columns</p>\n",
       "</div>"
      ],
      "text/plain": [
       "            Order No  Time from Pickup to Arrival\n",
       "0     Order_No_19248                  1454.271759\n",
       "1     Order_No_12736                  1284.804529\n",
       "2       Order_No_768                  1221.508333\n",
       "3     Order_No_15332                  1323.956210\n",
       "4     Order_No_21373                  1265.913506\n",
       "...              ...                          ...\n",
       "7063   Order_No_3612                  1421.351402\n",
       "7064   Order_No_7657                  2750.003005\n",
       "7065   Order_No_1969                  1794.642730\n",
       "7066  Order_No_10591                  2675.930017\n",
       "7067   Order_No_1603                  1730.976567\n",
       "\n",
       "[7068 rows x 2 columns]"
      ]
     },
     "execution_count": 239,
     "metadata": {
      "tags": []
     },
     "output_type": "execute_result"
    }
   ],
   "source": [
    "submission_gbr"
   ]
  },
  {
   "cell_type": "code",
   "execution_count": 240,
   "metadata": {
    "id": "-uNmYUjzF7SS"
   },
   "outputs": [],
   "source": [
    " # submission_gbr.to_csv('submission_gbr_ver3.csv', index = False)"
   ]
  },
  {
   "cell_type": "code",
   "execution_count": 240,
   "metadata": {
    "id": "ngjgdDEoGBLS"
   },
   "outputs": [],
   "source": []
  },
  {
   "cell_type": "code",
   "execution_count": 240,
   "metadata": {
    "id": "34iSV7C6LWM1"
   },
   "outputs": [],
   "source": []
  },
  {
   "cell_type": "markdown",
   "metadata": {
    "id": "hZH8ZmcMLXOB"
   },
   "source": [
    "# Tuning the Gradient Boosting Regressor model"
   ]
  },
  {
   "cell_type": "code",
   "execution_count": 241,
   "metadata": {
    "id": "GnlydOiALrt7"
   },
   "outputs": [],
   "source": [
    "train_clean = train.copy()\n",
    "test_clean = test.copy()"
   ]
  },
  {
   "cell_type": "code",
   "execution_count": 242,
   "metadata": {
    "colab": {
     "base_uri": "https://localhost:8080/",
     "height": 34
    },
    "id": "J9cTZmwWEmMt",
    "outputId": "99342a7b-2e18-443e-9d9b-8796e585248c"
   },
   "outputs": [
    {
     "data": {
      "text/plain": [
       "(21201, 29)"
      ]
     },
     "execution_count": 242,
     "metadata": {
      "tags": []
     },
     "output_type": "execute_result"
    }
   ],
   "source": [
    "train_clean.shape"
   ]
  },
  {
   "cell_type": "code",
   "execution_count": 243,
   "metadata": {
    "id": "Aq5db71tNyLX"
   },
   "outputs": [],
   "source": [
    "#Merge riders dataset to train and test datasets\n",
    "train_clean = pd.merge(train_clean, riders, on=\"Rider Id\", how=\"left\") \n",
    "test_clean = pd.merge(test_clean, riders, on=\"Rider Id\", how=\"left\")"
   ]
  },
  {
   "cell_type": "code",
   "execution_count": 244,
   "metadata": {
    "colab": {
     "base_uri": "https://localhost:8080/",
     "height": 34
    },
    "id": "NM8Pd5lnEw1D",
    "outputId": "ed56ea6f-1cb2-450f-cbd3-c3c95fb9e0d1"
   },
   "outputs": [
    {
     "data": {
      "text/plain": [
       "(21201, 33)"
      ]
     },
     "execution_count": 244,
     "metadata": {
      "tags": []
     },
     "output_type": "execute_result"
    }
   ],
   "source": [
    "train_clean.shape"
   ]
  },
  {
   "cell_type": "code",
   "execution_count": 245,
   "metadata": {
    "id": "th5em9etOqGy"
   },
   "outputs": [],
   "source": [
    "# Replace missing values of temperature by average of the column\n",
    "train_clean[\"Temperature\"] = train_clean[\"Temperature\"].fillna(train_clean[\"Temperature\"].mean())\n",
    "test_clean[\"Temperature\"] = test_clean[\"Temperature\"].fillna(test_clean[\"Temperature\"].mean())"
   ]
  },
  {
   "cell_type": "code",
   "execution_count": 246,
   "metadata": {
    "colab": {
     "base_uri": "https://localhost:8080/",
     "height": 34
    },
    "id": "4nTZ6TXqE1mq",
    "outputId": "3791ef03-7942-4ad0-95b3-57c1432ff9f0"
   },
   "outputs": [
    {
     "data": {
      "text/plain": [
       "(21201, 33)"
      ]
     },
     "execution_count": 246,
     "metadata": {
      "tags": []
     },
     "output_type": "execute_result"
    }
   ],
   "source": [
    "train_clean.shape"
   ]
  },
  {
   "cell_type": "code",
   "execution_count": 247,
   "metadata": {
    "id": "3rk6tlmVOqTK"
   },
   "outputs": [],
   "source": [
    "#Drop insignificant columns in both train and test datasets\n",
    "list_drop = [\"Order No\", \"User Id\", \"Vehicle Type\",\n",
    "              \"Precipitation in millimeters\", \"Rider Id\",\n",
    "              \"Vehicle Type\"]\n",
    "#Train\n",
    "train_clean = train_clean.drop(list_drop, axis=1)\n",
    "\n",
    "#Test\n",
    "test_clean = test_clean.drop(list_drop, axis=1)"
   ]
  },
  {
   "cell_type": "code",
   "execution_count": 248,
   "metadata": {
    "colab": {
     "base_uri": "https://localhost:8080/",
     "height": 34
    },
    "id": "W_ofKym3E4Hw",
    "outputId": "ea43864f-39a8-4dc5-8ac4-2740f9d16c74"
   },
   "outputs": [
    {
     "data": {
      "text/plain": [
       "(21201, 28)"
      ]
     },
     "execution_count": 248,
     "metadata": {
      "tags": []
     },
     "output_type": "execute_result"
    }
   ],
   "source": [
    "train_clean.shape"
   ]
  },
  {
   "cell_type": "code",
   "execution_count": 249,
   "metadata": {
    "colab": {
     "base_uri": "https://localhost:8080/",
     "height": 400
    },
    "id": "vNNP9Y8MNrGr",
    "outputId": "36bec317-414f-41aa-890d-dcd1e13c5853"
   },
   "outputs": [
    {
     "data": {
      "text/html": [
       "<div>\n",
       "<style scoped>\n",
       "    .dataframe tbody tr th:only-of-type {\n",
       "        vertical-align: middle;\n",
       "    }\n",
       "\n",
       "    .dataframe tbody tr th {\n",
       "        vertical-align: top;\n",
       "    }\n",
       "\n",
       "    .dataframe thead th {\n",
       "        text-align: right;\n",
       "    }\n",
       "</style>\n",
       "<table border=\"1\" class=\"dataframe\">\n",
       "  <thead>\n",
       "    <tr style=\"text-align: right;\">\n",
       "      <th></th>\n",
       "      <th>Platform Type</th>\n",
       "      <th>Personal or Business</th>\n",
       "      <th>Placement - Day of Month</th>\n",
       "      <th>Placement - Weekday (Mo = 1)</th>\n",
       "      <th>Placement - Time</th>\n",
       "      <th>Confirmation - Day of Month</th>\n",
       "      <th>Confirmation - Weekday (Mo = 1)</th>\n",
       "      <th>Confirmation - Time</th>\n",
       "      <th>Arrival at Pickup - Day of Month</th>\n",
       "      <th>Arrival at Pickup - Weekday (Mo = 1)</th>\n",
       "      <th>Arrival at Pickup - Time</th>\n",
       "      <th>Pickup - Day of Month</th>\n",
       "      <th>Pickup - Weekday (Mo = 1)</th>\n",
       "      <th>Pickup - Time</th>\n",
       "      <th>Distance (KM)</th>\n",
       "      <th>Temperature</th>\n",
       "      <th>Pickup Lat</th>\n",
       "      <th>Pickup Long</th>\n",
       "      <th>Destination Lat</th>\n",
       "      <th>Destination Long</th>\n",
       "      <th>No_Of_Orders</th>\n",
       "      <th>Age</th>\n",
       "      <th>Average_Rating</th>\n",
       "      <th>No_of_Ratings</th>\n",
       "    </tr>\n",
       "  </thead>\n",
       "  <tbody>\n",
       "    <tr>\n",
       "      <th>0</th>\n",
       "      <td>3</td>\n",
       "      <td>Business</td>\n",
       "      <td>27</td>\n",
       "      <td>3</td>\n",
       "      <td>4:44:10 PM</td>\n",
       "      <td>27</td>\n",
       "      <td>3</td>\n",
       "      <td>4:44:29 PM</td>\n",
       "      <td>27</td>\n",
       "      <td>3</td>\n",
       "      <td>4:53:04 PM</td>\n",
       "      <td>27</td>\n",
       "      <td>3</td>\n",
       "      <td>5:06:47 PM</td>\n",
       "      <td>8</td>\n",
       "      <td>23.24612</td>\n",
       "      <td>-1.333275</td>\n",
       "      <td>36.870815</td>\n",
       "      <td>-1.305249</td>\n",
       "      <td>36.822390</td>\n",
       "      <td>439</td>\n",
       "      <td>1511</td>\n",
       "      <td>13.3</td>\n",
       "      <td>171</td>\n",
       "    </tr>\n",
       "    <tr>\n",
       "      <th>1</th>\n",
       "      <td>3</td>\n",
       "      <td>Business</td>\n",
       "      <td>17</td>\n",
       "      <td>5</td>\n",
       "      <td>12:57:35 PM</td>\n",
       "      <td>17</td>\n",
       "      <td>5</td>\n",
       "      <td>12:59:17 PM</td>\n",
       "      <td>17</td>\n",
       "      <td>5</td>\n",
       "      <td>1:20:27 PM</td>\n",
       "      <td>17</td>\n",
       "      <td>5</td>\n",
       "      <td>1:25:37 PM</td>\n",
       "      <td>5</td>\n",
       "      <td>23.24612</td>\n",
       "      <td>-1.272639</td>\n",
       "      <td>36.794723</td>\n",
       "      <td>-1.277007</td>\n",
       "      <td>36.823907</td>\n",
       "      <td>488</td>\n",
       "      <td>273</td>\n",
       "      <td>14.4</td>\n",
       "      <td>45</td>\n",
       "    </tr>\n",
       "    <tr>\n",
       "      <th>2</th>\n",
       "      <td>3</td>\n",
       "      <td>Business</td>\n",
       "      <td>27</td>\n",
       "      <td>4</td>\n",
       "      <td>11:08:14 AM</td>\n",
       "      <td>27</td>\n",
       "      <td>4</td>\n",
       "      <td>11:25:05 AM</td>\n",
       "      <td>27</td>\n",
       "      <td>4</td>\n",
       "      <td>11:33:20 AM</td>\n",
       "      <td>27</td>\n",
       "      <td>4</td>\n",
       "      <td>11:57:54 AM</td>\n",
       "      <td>5</td>\n",
       "      <td>22.80000</td>\n",
       "      <td>-1.290894</td>\n",
       "      <td>36.822971</td>\n",
       "      <td>-1.276574</td>\n",
       "      <td>36.851365</td>\n",
       "      <td>833</td>\n",
       "      <td>460</td>\n",
       "      <td>13.1</td>\n",
       "      <td>67</td>\n",
       "    </tr>\n",
       "    <tr>\n",
       "      <th>3</th>\n",
       "      <td>3</td>\n",
       "      <td>Business</td>\n",
       "      <td>17</td>\n",
       "      <td>1</td>\n",
       "      <td>1:51:35 PM</td>\n",
       "      <td>17</td>\n",
       "      <td>1</td>\n",
       "      <td>1:53:27 PM</td>\n",
       "      <td>17</td>\n",
       "      <td>1</td>\n",
       "      <td>2:02:41 PM</td>\n",
       "      <td>17</td>\n",
       "      <td>1</td>\n",
       "      <td>2:16:52 PM</td>\n",
       "      <td>5</td>\n",
       "      <td>24.50000</td>\n",
       "      <td>-1.290503</td>\n",
       "      <td>36.809646</td>\n",
       "      <td>-1.303382</td>\n",
       "      <td>36.790658</td>\n",
       "      <td>487</td>\n",
       "      <td>560</td>\n",
       "      <td>13.7</td>\n",
       "      <td>44</td>\n",
       "    </tr>\n",
       "    <tr>\n",
       "      <th>4</th>\n",
       "      <td>3</td>\n",
       "      <td>Business</td>\n",
       "      <td>11</td>\n",
       "      <td>2</td>\n",
       "      <td>11:30:28 AM</td>\n",
       "      <td>11</td>\n",
       "      <td>2</td>\n",
       "      <td>11:34:45 AM</td>\n",
       "      <td>11</td>\n",
       "      <td>2</td>\n",
       "      <td>11:47:19 AM</td>\n",
       "      <td>11</td>\n",
       "      <td>2</td>\n",
       "      <td>11:56:04 AM</td>\n",
       "      <td>6</td>\n",
       "      <td>24.40000</td>\n",
       "      <td>-1.281081</td>\n",
       "      <td>36.814423</td>\n",
       "      <td>-1.266467</td>\n",
       "      <td>36.792161</td>\n",
       "      <td>4761</td>\n",
       "      <td>1120</td>\n",
       "      <td>14.1</td>\n",
       "      <td>1010</td>\n",
       "    </tr>\n",
       "  </tbody>\n",
       "</table>\n",
       "</div>"
      ],
      "text/plain": [
       "   Platform Type Personal or Business  ...  Average_Rating  No_of_Ratings\n",
       "0              3             Business  ...            13.3            171\n",
       "1              3             Business  ...            14.4             45\n",
       "2              3             Business  ...            13.1             67\n",
       "3              3             Business  ...            13.7             44\n",
       "4              3             Business  ...            14.1           1010\n",
       "\n",
       "[5 rows x 24 columns]"
      ]
     },
     "execution_count": 249,
     "metadata": {
      "tags": []
     },
     "output_type": "execute_result"
    }
   ],
   "source": [
    "test_clean.head()"
   ]
  },
  {
   "cell_type": "code",
   "execution_count": 250,
   "metadata": {
    "colab": {
     "base_uri": "https://localhost:8080/",
     "height": 400
    },
    "id": "U977M6_POqQa",
    "outputId": "8d827a8e-773f-4d87-934c-24ca917e2a50"
   },
   "outputs": [
    {
     "data": {
      "text/html": [
       "<div>\n",
       "<style scoped>\n",
       "    .dataframe tbody tr th:only-of-type {\n",
       "        vertical-align: middle;\n",
       "    }\n",
       "\n",
       "    .dataframe tbody tr th {\n",
       "        vertical-align: top;\n",
       "    }\n",
       "\n",
       "    .dataframe thead th {\n",
       "        text-align: right;\n",
       "    }\n",
       "</style>\n",
       "<table border=\"1\" class=\"dataframe\">\n",
       "  <thead>\n",
       "    <tr style=\"text-align: right;\">\n",
       "      <th></th>\n",
       "      <th>Platform Type</th>\n",
       "      <th>Personal or Business</th>\n",
       "      <th>Placement - Day of Month</th>\n",
       "      <th>Placement - Weekday (Mo = 1)</th>\n",
       "      <th>Placement - Time</th>\n",
       "      <th>Confirmation - Day of Month</th>\n",
       "      <th>Confirmation - Weekday (Mo = 1)</th>\n",
       "      <th>Confirmation - Time</th>\n",
       "      <th>Arrival at Pickup - Day of Month</th>\n",
       "      <th>Arrival at Pickup - Weekday (Mo = 1)</th>\n",
       "      <th>Arrival at Pickup - Time</th>\n",
       "      <th>Pickup - Day of Month</th>\n",
       "      <th>Pickup - Weekday (Mo = 1)</th>\n",
       "      <th>Pickup - Time</th>\n",
       "      <th>Arrival at Destination - Day of Month</th>\n",
       "      <th>Arrival at Destination - Weekday (Mo = 1)</th>\n",
       "      <th>Arrival at Destination - Time</th>\n",
       "      <th>Distance (KM)</th>\n",
       "      <th>Temperature</th>\n",
       "      <th>Pickup Lat</th>\n",
       "      <th>Pickup Long</th>\n",
       "      <th>Destination Lat</th>\n",
       "      <th>Destination Long</th>\n",
       "      <th>Time from Pickup to Arrival</th>\n",
       "      <th>No_Of_Orders</th>\n",
       "      <th>Age</th>\n",
       "      <th>Average_Rating</th>\n",
       "      <th>No_of_Ratings</th>\n",
       "    </tr>\n",
       "  </thead>\n",
       "  <tbody>\n",
       "    <tr>\n",
       "      <th>0</th>\n",
       "      <td>3</td>\n",
       "      <td>Business</td>\n",
       "      <td>9</td>\n",
       "      <td>5</td>\n",
       "      <td>9:35:46 AM</td>\n",
       "      <td>9</td>\n",
       "      <td>5</td>\n",
       "      <td>9:40:10 AM</td>\n",
       "      <td>9</td>\n",
       "      <td>5</td>\n",
       "      <td>10:04:47 AM</td>\n",
       "      <td>9</td>\n",
       "      <td>5</td>\n",
       "      <td>10:27:30 AM</td>\n",
       "      <td>9</td>\n",
       "      <td>5</td>\n",
       "      <td>10:39:55 AM</td>\n",
       "      <td>4</td>\n",
       "      <td>20.400000</td>\n",
       "      <td>-1.317755</td>\n",
       "      <td>36.830370</td>\n",
       "      <td>-1.300406</td>\n",
       "      <td>36.829741</td>\n",
       "      <td>745</td>\n",
       "      <td>1637</td>\n",
       "      <td>1309</td>\n",
       "      <td>13.8</td>\n",
       "      <td>549</td>\n",
       "    </tr>\n",
       "    <tr>\n",
       "      <th>1</th>\n",
       "      <td>3</td>\n",
       "      <td>Personal</td>\n",
       "      <td>12</td>\n",
       "      <td>5</td>\n",
       "      <td>11:16:16 AM</td>\n",
       "      <td>12</td>\n",
       "      <td>5</td>\n",
       "      <td>11:23:21 AM</td>\n",
       "      <td>12</td>\n",
       "      <td>5</td>\n",
       "      <td>11:40:22 AM</td>\n",
       "      <td>12</td>\n",
       "      <td>5</td>\n",
       "      <td>11:44:09 AM</td>\n",
       "      <td>12</td>\n",
       "      <td>5</td>\n",
       "      <td>12:17:22 PM</td>\n",
       "      <td>16</td>\n",
       "      <td>26.400000</td>\n",
       "      <td>-1.351453</td>\n",
       "      <td>36.899315</td>\n",
       "      <td>-1.295004</td>\n",
       "      <td>36.814358</td>\n",
       "      <td>1993</td>\n",
       "      <td>396</td>\n",
       "      <td>339</td>\n",
       "      <td>13.6</td>\n",
       "      <td>69</td>\n",
       "    </tr>\n",
       "    <tr>\n",
       "      <th>2</th>\n",
       "      <td>3</td>\n",
       "      <td>Business</td>\n",
       "      <td>30</td>\n",
       "      <td>2</td>\n",
       "      <td>12:39:25 PM</td>\n",
       "      <td>30</td>\n",
       "      <td>2</td>\n",
       "      <td>12:42:44 PM</td>\n",
       "      <td>30</td>\n",
       "      <td>2</td>\n",
       "      <td>12:49:34 PM</td>\n",
       "      <td>30</td>\n",
       "      <td>2</td>\n",
       "      <td>12:53:03 PM</td>\n",
       "      <td>30</td>\n",
       "      <td>2</td>\n",
       "      <td>1:00:38 PM</td>\n",
       "      <td>3</td>\n",
       "      <td>23.258889</td>\n",
       "      <td>-1.308284</td>\n",
       "      <td>36.843419</td>\n",
       "      <td>-1.300921</td>\n",
       "      <td>36.828195</td>\n",
       "      <td>455</td>\n",
       "      <td>1023</td>\n",
       "      <td>242</td>\n",
       "      <td>12.5</td>\n",
       "      <td>114</td>\n",
       "    </tr>\n",
       "    <tr>\n",
       "      <th>3</th>\n",
       "      <td>3</td>\n",
       "      <td>Business</td>\n",
       "      <td>15</td>\n",
       "      <td>5</td>\n",
       "      <td>9:25:34 AM</td>\n",
       "      <td>15</td>\n",
       "      <td>5</td>\n",
       "      <td>9:26:05 AM</td>\n",
       "      <td>15</td>\n",
       "      <td>5</td>\n",
       "      <td>9:37:56 AM</td>\n",
       "      <td>15</td>\n",
       "      <td>5</td>\n",
       "      <td>9:43:06 AM</td>\n",
       "      <td>15</td>\n",
       "      <td>5</td>\n",
       "      <td>10:05:27 AM</td>\n",
       "      <td>9</td>\n",
       "      <td>19.200000</td>\n",
       "      <td>-1.281301</td>\n",
       "      <td>36.832396</td>\n",
       "      <td>-1.257147</td>\n",
       "      <td>36.795063</td>\n",
       "      <td>1341</td>\n",
       "      <td>886</td>\n",
       "      <td>283</td>\n",
       "      <td>14.5</td>\n",
       "      <td>113</td>\n",
       "    </tr>\n",
       "    <tr>\n",
       "      <th>4</th>\n",
       "      <td>1</td>\n",
       "      <td>Personal</td>\n",
       "      <td>13</td>\n",
       "      <td>1</td>\n",
       "      <td>9:55:18 AM</td>\n",
       "      <td>13</td>\n",
       "      <td>1</td>\n",
       "      <td>9:56:18 AM</td>\n",
       "      <td>13</td>\n",
       "      <td>1</td>\n",
       "      <td>10:03:53 AM</td>\n",
       "      <td>13</td>\n",
       "      <td>1</td>\n",
       "      <td>10:05:23 AM</td>\n",
       "      <td>13</td>\n",
       "      <td>1</td>\n",
       "      <td>10:25:37 AM</td>\n",
       "      <td>9</td>\n",
       "      <td>15.400000</td>\n",
       "      <td>-1.266597</td>\n",
       "      <td>36.792118</td>\n",
       "      <td>-1.295041</td>\n",
       "      <td>36.809817</td>\n",
       "      <td>1214</td>\n",
       "      <td>2311</td>\n",
       "      <td>872</td>\n",
       "      <td>14.1</td>\n",
       "      <td>533</td>\n",
       "    </tr>\n",
       "  </tbody>\n",
       "</table>\n",
       "</div>"
      ],
      "text/plain": [
       "   Platform Type Personal or Business  ...  Average_Rating  No_of_Ratings\n",
       "0              3             Business  ...            13.8            549\n",
       "1              3             Personal  ...            13.6             69\n",
       "2              3             Business  ...            12.5            114\n",
       "3              3             Business  ...            14.5            113\n",
       "4              1             Personal  ...            14.1            533\n",
       "\n",
       "[5 rows x 28 columns]"
      ]
     },
     "execution_count": 250,
     "metadata": {
      "tags": []
     },
     "output_type": "execute_result"
    }
   ],
   "source": [
    "train_clean.head()"
   ]
  },
  {
   "cell_type": "code",
   "execution_count": 251,
   "metadata": {
    "id": "twm5eNhUOqOP"
   },
   "outputs": [],
   "source": [
    "# Convert time from object to datetime datatype\n",
    "\n",
    "#Train\n",
    "train_clean[\"Placement - Time\"] = pd.to_datetime(train_clean[\"Placement - Time\"])\n",
    "train_clean[\"Confirmation - Time\"] = pd.to_datetime(train_clean[\"Confirmation - Time\"])\n",
    "train_clean[\"Pickup - Time\"] = pd.to_datetime(train_clean[\"Pickup - Time\"])\n",
    "train_clean[\"Arrival at Destination - Time\"] = pd.to_datetime(train_clean[\"Arrival at Destination - Time\"])\n",
    "train_clean[\"Arrival at Pickup - Time\"] = pd.to_datetime(train_clean[\"Arrival at Pickup - Time\"])\n",
    "\n",
    "#Test\n",
    "test_clean[\"Placement - Time\"] = pd.to_datetime(test_clean[\"Placement - Time\"])\n",
    "test_clean[\"Confirmation - Time\"] = pd.to_datetime(test_clean[\"Confirmation - Time\"])\n",
    "test_clean[\"Pickup - Time\"] = pd.to_datetime(test_clean[\"Pickup - Time\"])\n",
    "#test_clean[\"Arrival at Destination - Time\"] = pd.to_datetime(test_clean[\"Arrival at Destination - Time\"]) -> not in test data\n",
    "test_clean[\"Arrival at Pickup - Time\"] = pd.to_datetime(test_clean[\"Arrival at Pickup - Time\"])"
   ]
  },
  {
   "cell_type": "code",
   "execution_count": 252,
   "metadata": {
    "colab": {
     "base_uri": "https://localhost:8080/",
     "height": 34
    },
    "id": "BWANu9IoE_u2",
    "outputId": "abadf7b3-feb6-4a6b-a1f7-fff4306ae287"
   },
   "outputs": [
    {
     "data": {
      "text/plain": [
       "(21201, 28)"
      ]
     },
     "execution_count": 252,
     "metadata": {
      "tags": []
     },
     "output_type": "execute_result"
    }
   ],
   "source": [
    "train_clean.shape"
   ]
  },
  {
   "cell_type": "code",
   "execution_count": 253,
   "metadata": {
    "colab": {
     "base_uri": "https://localhost:8080/",
     "height": 504
    },
    "id": "7iBNr2dSRKBE",
    "outputId": "a3b1d525-9157-4cd5-d5be-3d7942c490c1"
   },
   "outputs": [
    {
     "data": {
      "text/plain": [
       "Platform Type                                0\n",
       "Personal or Business                         0\n",
       "Placement - Day of Month                     0\n",
       "Placement - Weekday (Mo = 1)                 0\n",
       "Placement - Time                             0\n",
       "Confirmation - Day of Month                  0\n",
       "Confirmation - Weekday (Mo = 1)              0\n",
       "Confirmation - Time                          0\n",
       "Arrival at Pickup - Day of Month             0\n",
       "Arrival at Pickup - Weekday (Mo = 1)         0\n",
       "Arrival at Pickup - Time                     0\n",
       "Pickup - Day of Month                        0\n",
       "Pickup - Weekday (Mo = 1)                    0\n",
       "Pickup - Time                                0\n",
       "Arrival at Destination - Day of Month        0\n",
       "Arrival at Destination - Weekday (Mo = 1)    0\n",
       "Arrival at Destination - Time                0\n",
       "Distance (KM)                                0\n",
       "Temperature                                  0\n",
       "Pickup Lat                                   0\n",
       "Pickup Long                                  0\n",
       "Destination Lat                              0\n",
       "Destination Long                             0\n",
       "Time from Pickup to Arrival                  0\n",
       "No_Of_Orders                                 0\n",
       "Age                                          0\n",
       "Average_Rating                               0\n",
       "No_of_Ratings                                0\n",
       "dtype: int64"
      ]
     },
     "execution_count": 253,
     "metadata": {
      "tags": []
     },
     "output_type": "execute_result"
    }
   ],
   "source": [
    "train_clean.isnull().sum()"
   ]
  },
  {
   "cell_type": "code",
   "execution_count": 254,
   "metadata": {
    "colab": {
     "base_uri": "https://localhost:8080/",
     "height": 34
    },
    "id": "_8KiGC8JEA4V",
    "outputId": "a6a065ab-8037-45c9-a5bc-8a6554fee9c1"
   },
   "outputs": [
    {
     "data": {
      "text/plain": [
       "(21201, 28)"
      ]
     },
     "execution_count": 254,
     "metadata": {
      "tags": []
     },
     "output_type": "execute_result"
    }
   ],
   "source": [
    "train_clean.shape"
   ]
  },
  {
   "cell_type": "code",
   "execution_count": 255,
   "metadata": {
    "colab": {
     "base_uri": "https://localhost:8080/",
     "height": 504
    },
    "id": "ZBRD01OJUcsO",
    "outputId": "722ac60d-c4d6-43f5-c356-f18ec6f5cd6a"
   },
   "outputs": [
    {
     "data": {
      "text/plain": [
       "Platform Type                                0\n",
       "Personal or Business                         0\n",
       "Placement - Day of Month                     0\n",
       "Placement - Weekday (Mo = 1)                 0\n",
       "Placement - Time                             0\n",
       "Confirmation - Day of Month                  0\n",
       "Confirmation - Weekday (Mo = 1)              0\n",
       "Confirmation - Time                          0\n",
       "Arrival at Pickup - Day of Month             0\n",
       "Arrival at Pickup - Weekday (Mo = 1)         0\n",
       "Arrival at Pickup - Time                     0\n",
       "Pickup - Day of Month                        0\n",
       "Pickup - Weekday (Mo = 1)                    0\n",
       "Pickup - Time                                0\n",
       "Arrival at Destination - Day of Month        0\n",
       "Arrival at Destination - Weekday (Mo = 1)    0\n",
       "Arrival at Destination - Time                0\n",
       "Distance (KM)                                0\n",
       "Temperature                                  0\n",
       "Pickup Lat                                   0\n",
       "Pickup Long                                  0\n",
       "Destination Lat                              0\n",
       "Destination Long                             0\n",
       "Time from Pickup to Arrival                  0\n",
       "No_Of_Orders                                 0\n",
       "Age                                          0\n",
       "Average_Rating                               0\n",
       "No_of_Ratings                                0\n",
       "dtype: int64"
      ]
     },
     "execution_count": 255,
     "metadata": {
      "tags": []
     },
     "output_type": "execute_result"
    }
   ],
   "source": [
    "train_clean.isnull().sum()"
   ]
  },
  {
   "cell_type": "code",
   "execution_count": 256,
   "metadata": {
    "id": "vU5aRRkLOqBe"
   },
   "outputs": [],
   "source": [
    "# Convert time from datetime to int64 datatype\n",
    "\n",
    "#Train\n",
    "train_clean[\"Placement - Time\"] = train_clean[\"Placement - Time\"].astype('int64')\n",
    "train_clean[\"Confirmation - Time\"] = train_clean[\"Confirmation - Time\"].astype('int64')\n",
    "train_clean[\"Pickup - Time\"] = train_clean[\"Pickup - Time\"].astype('int64')\n",
    "train_clean[\"Arrival at Destination - Time\"] = train_clean[\"Arrival at Destination - Time\"].astype('int64')\n",
    "train_clean[\"Arrival at Pickup - Time\"] = train_clean[\"Arrival at Pickup - Time\"].astype('int64')\n",
    "\n",
    "#Test\n",
    "test_clean[\"Placement - Time\"] = test_clean[\"Placement - Time\"].astype('int64')\n",
    "test_clean[\"Confirmation - Time\"] = test_clean[\"Confirmation - Time\"].astype('int64')\n",
    "test_clean[\"Pickup - Time\"] = test_clean[\"Pickup - Time\"].astype('int64')\n",
    "#test_clean[\"Arrival at Destination - Time\"] = test_clean[\"Arrival at Destination - Time\"].astype('int64')\n",
    "test_clean[\"Arrival at Pickup - Time\"] = test_clean[\"Arrival at Pickup - Time\"].astype('int64')"
   ]
  },
  {
   "cell_type": "code",
   "execution_count": 257,
   "metadata": {
    "colab": {
     "base_uri": "https://localhost:8080/",
     "height": 34
    },
    "id": "iE-XL-ZyFbbZ",
    "outputId": "abc15618-271f-495a-870e-ee4f69ef228c"
   },
   "outputs": [
    {
     "data": {
      "text/plain": [
       "(21201, 28)"
      ]
     },
     "execution_count": 257,
     "metadata": {
      "tags": []
     },
     "output_type": "execute_result"
    }
   ],
   "source": [
    "train_clean.shape"
   ]
  },
  {
   "cell_type": "code",
   "execution_count": 258,
   "metadata": {
    "colab": {
     "base_uri": "https://localhost:8080/",
     "height": 316
    },
    "id": "Z0ad12psOp-u",
    "outputId": "b3d2ce32-4d0e-4a76-c232-81a3d293145e"
   },
   "outputs": [
    {
     "data": {
      "text/html": [
       "<div>\n",
       "<style scoped>\n",
       "    .dataframe tbody tr th:only-of-type {\n",
       "        vertical-align: middle;\n",
       "    }\n",
       "\n",
       "    .dataframe tbody tr th {\n",
       "        vertical-align: top;\n",
       "    }\n",
       "\n",
       "    .dataframe thead th {\n",
       "        text-align: right;\n",
       "    }\n",
       "</style>\n",
       "<table border=\"1\" class=\"dataframe\">\n",
       "  <thead>\n",
       "    <tr style=\"text-align: right;\">\n",
       "      <th></th>\n",
       "      <th>Platform Type</th>\n",
       "      <th>Personal or Business</th>\n",
       "      <th>Placement - Day of Month</th>\n",
       "      <th>Placement - Weekday (Mo = 1)</th>\n",
       "      <th>Placement - Time</th>\n",
       "      <th>Confirmation - Day of Month</th>\n",
       "      <th>Confirmation - Weekday (Mo = 1)</th>\n",
       "      <th>Confirmation - Time</th>\n",
       "      <th>Arrival at Pickup - Day of Month</th>\n",
       "      <th>Arrival at Pickup - Weekday (Mo = 1)</th>\n",
       "      <th>Arrival at Pickup - Time</th>\n",
       "      <th>Pickup - Day of Month</th>\n",
       "      <th>Pickup - Weekday (Mo = 1)</th>\n",
       "      <th>Pickup - Time</th>\n",
       "      <th>Distance (KM)</th>\n",
       "      <th>Temperature</th>\n",
       "      <th>Pickup Lat</th>\n",
       "      <th>Pickup Long</th>\n",
       "      <th>Destination Lat</th>\n",
       "      <th>Destination Long</th>\n",
       "      <th>No_Of_Orders</th>\n",
       "      <th>Age</th>\n",
       "      <th>Average_Rating</th>\n",
       "      <th>No_of_Ratings</th>\n",
       "    </tr>\n",
       "  </thead>\n",
       "  <tbody>\n",
       "    <tr>\n",
       "      <th>0</th>\n",
       "      <td>3</td>\n",
       "      <td>Business</td>\n",
       "      <td>27</td>\n",
       "      <td>3</td>\n",
       "      <td>1602866650000000000</td>\n",
       "      <td>27</td>\n",
       "      <td>3</td>\n",
       "      <td>1602866669000000000</td>\n",
       "      <td>27</td>\n",
       "      <td>3</td>\n",
       "      <td>1602867184000000000</td>\n",
       "      <td>27</td>\n",
       "      <td>3</td>\n",
       "      <td>1602868007000000000</td>\n",
       "      <td>8</td>\n",
       "      <td>23.24612</td>\n",
       "      <td>-1.333275</td>\n",
       "      <td>36.870815</td>\n",
       "      <td>-1.305249</td>\n",
       "      <td>36.822390</td>\n",
       "      <td>439</td>\n",
       "      <td>1511</td>\n",
       "      <td>13.3</td>\n",
       "      <td>171</td>\n",
       "    </tr>\n",
       "    <tr>\n",
       "      <th>1</th>\n",
       "      <td>3</td>\n",
       "      <td>Business</td>\n",
       "      <td>17</td>\n",
       "      <td>5</td>\n",
       "      <td>1602853055000000000</td>\n",
       "      <td>17</td>\n",
       "      <td>5</td>\n",
       "      <td>1602853157000000000</td>\n",
       "      <td>17</td>\n",
       "      <td>5</td>\n",
       "      <td>1602854427000000000</td>\n",
       "      <td>17</td>\n",
       "      <td>5</td>\n",
       "      <td>1602854737000000000</td>\n",
       "      <td>5</td>\n",
       "      <td>23.24612</td>\n",
       "      <td>-1.272639</td>\n",
       "      <td>36.794723</td>\n",
       "      <td>-1.277007</td>\n",
       "      <td>36.823907</td>\n",
       "      <td>488</td>\n",
       "      <td>273</td>\n",
       "      <td>14.4</td>\n",
       "      <td>45</td>\n",
       "    </tr>\n",
       "    <tr>\n",
       "      <th>2</th>\n",
       "      <td>3</td>\n",
       "      <td>Business</td>\n",
       "      <td>27</td>\n",
       "      <td>4</td>\n",
       "      <td>1602846494000000000</td>\n",
       "      <td>27</td>\n",
       "      <td>4</td>\n",
       "      <td>1602847505000000000</td>\n",
       "      <td>27</td>\n",
       "      <td>4</td>\n",
       "      <td>1602848000000000000</td>\n",
       "      <td>27</td>\n",
       "      <td>4</td>\n",
       "      <td>1602849474000000000</td>\n",
       "      <td>5</td>\n",
       "      <td>22.80000</td>\n",
       "      <td>-1.290894</td>\n",
       "      <td>36.822971</td>\n",
       "      <td>-1.276574</td>\n",
       "      <td>36.851365</td>\n",
       "      <td>833</td>\n",
       "      <td>460</td>\n",
       "      <td>13.1</td>\n",
       "      <td>67</td>\n",
       "    </tr>\n",
       "    <tr>\n",
       "      <th>3</th>\n",
       "      <td>3</td>\n",
       "      <td>Business</td>\n",
       "      <td>17</td>\n",
       "      <td>1</td>\n",
       "      <td>1602856295000000000</td>\n",
       "      <td>17</td>\n",
       "      <td>1</td>\n",
       "      <td>1602856407000000000</td>\n",
       "      <td>17</td>\n",
       "      <td>1</td>\n",
       "      <td>1602856961000000000</td>\n",
       "      <td>17</td>\n",
       "      <td>1</td>\n",
       "      <td>1602857812000000000</td>\n",
       "      <td>5</td>\n",
       "      <td>24.50000</td>\n",
       "      <td>-1.290503</td>\n",
       "      <td>36.809646</td>\n",
       "      <td>-1.303382</td>\n",
       "      <td>36.790658</td>\n",
       "      <td>487</td>\n",
       "      <td>560</td>\n",
       "      <td>13.7</td>\n",
       "      <td>44</td>\n",
       "    </tr>\n",
       "    <tr>\n",
       "      <th>4</th>\n",
       "      <td>3</td>\n",
       "      <td>Business</td>\n",
       "      <td>11</td>\n",
       "      <td>2</td>\n",
       "      <td>1602847828000000000</td>\n",
       "      <td>11</td>\n",
       "      <td>2</td>\n",
       "      <td>1602848085000000000</td>\n",
       "      <td>11</td>\n",
       "      <td>2</td>\n",
       "      <td>1602848839000000000</td>\n",
       "      <td>11</td>\n",
       "      <td>2</td>\n",
       "      <td>1602849364000000000</td>\n",
       "      <td>6</td>\n",
       "      <td>24.40000</td>\n",
       "      <td>-1.281081</td>\n",
       "      <td>36.814423</td>\n",
       "      <td>-1.266467</td>\n",
       "      <td>36.792161</td>\n",
       "      <td>4761</td>\n",
       "      <td>1120</td>\n",
       "      <td>14.1</td>\n",
       "      <td>1010</td>\n",
       "    </tr>\n",
       "  </tbody>\n",
       "</table>\n",
       "</div>"
      ],
      "text/plain": [
       "   Platform Type Personal or Business  ...  Average_Rating  No_of_Ratings\n",
       "0              3             Business  ...            13.3            171\n",
       "1              3             Business  ...            14.4             45\n",
       "2              3             Business  ...            13.1             67\n",
       "3              3             Business  ...            13.7             44\n",
       "4              3             Business  ...            14.1           1010\n",
       "\n",
       "[5 rows x 24 columns]"
      ]
     },
     "execution_count": 258,
     "metadata": {
      "tags": []
     },
     "output_type": "execute_result"
    }
   ],
   "source": [
    "test_clean.head()"
   ]
  },
  {
   "cell_type": "code",
   "execution_count": 259,
   "metadata": {
    "colab": {
     "base_uri": "https://localhost:8080/",
     "height": 316
    },
    "id": "sSPeE291Op8b",
    "outputId": "aa9f1cd4-9819-48be-870e-716cb99a8355"
   },
   "outputs": [
    {
     "data": {
      "text/html": [
       "<div>\n",
       "<style scoped>\n",
       "    .dataframe tbody tr th:only-of-type {\n",
       "        vertical-align: middle;\n",
       "    }\n",
       "\n",
       "    .dataframe tbody tr th {\n",
       "        vertical-align: top;\n",
       "    }\n",
       "\n",
       "    .dataframe thead th {\n",
       "        text-align: right;\n",
       "    }\n",
       "</style>\n",
       "<table border=\"1\" class=\"dataframe\">\n",
       "  <thead>\n",
       "    <tr style=\"text-align: right;\">\n",
       "      <th></th>\n",
       "      <th>Platform Type</th>\n",
       "      <th>Personal or Business</th>\n",
       "      <th>Placement - Day of Month</th>\n",
       "      <th>Placement - Weekday (Mo = 1)</th>\n",
       "      <th>Placement - Time</th>\n",
       "      <th>Confirmation - Day of Month</th>\n",
       "      <th>Confirmation - Weekday (Mo = 1)</th>\n",
       "      <th>Confirmation - Time</th>\n",
       "      <th>Arrival at Pickup - Day of Month</th>\n",
       "      <th>Arrival at Pickup - Weekday (Mo = 1)</th>\n",
       "      <th>Arrival at Pickup - Time</th>\n",
       "      <th>Pickup - Day of Month</th>\n",
       "      <th>Pickup - Weekday (Mo = 1)</th>\n",
       "      <th>Pickup - Time</th>\n",
       "      <th>Distance (KM)</th>\n",
       "      <th>Temperature</th>\n",
       "      <th>Pickup Lat</th>\n",
       "      <th>Pickup Long</th>\n",
       "      <th>Destination Lat</th>\n",
       "      <th>Destination Long</th>\n",
       "      <th>No_Of_Orders</th>\n",
       "      <th>Age</th>\n",
       "      <th>Average_Rating</th>\n",
       "      <th>No_of_Ratings</th>\n",
       "    </tr>\n",
       "  </thead>\n",
       "  <tbody>\n",
       "    <tr>\n",
       "      <th>0</th>\n",
       "      <td>3</td>\n",
       "      <td>Business</td>\n",
       "      <td>27</td>\n",
       "      <td>3</td>\n",
       "      <td>1602866650000000000</td>\n",
       "      <td>27</td>\n",
       "      <td>3</td>\n",
       "      <td>1602866669000000000</td>\n",
       "      <td>27</td>\n",
       "      <td>3</td>\n",
       "      <td>1602867184000000000</td>\n",
       "      <td>27</td>\n",
       "      <td>3</td>\n",
       "      <td>1602868007000000000</td>\n",
       "      <td>8</td>\n",
       "      <td>23.24612</td>\n",
       "      <td>-1.333275</td>\n",
       "      <td>36.870815</td>\n",
       "      <td>-1.305249</td>\n",
       "      <td>36.822390</td>\n",
       "      <td>439</td>\n",
       "      <td>1511</td>\n",
       "      <td>13.3</td>\n",
       "      <td>171</td>\n",
       "    </tr>\n",
       "    <tr>\n",
       "      <th>1</th>\n",
       "      <td>3</td>\n",
       "      <td>Business</td>\n",
       "      <td>17</td>\n",
       "      <td>5</td>\n",
       "      <td>1602853055000000000</td>\n",
       "      <td>17</td>\n",
       "      <td>5</td>\n",
       "      <td>1602853157000000000</td>\n",
       "      <td>17</td>\n",
       "      <td>5</td>\n",
       "      <td>1602854427000000000</td>\n",
       "      <td>17</td>\n",
       "      <td>5</td>\n",
       "      <td>1602854737000000000</td>\n",
       "      <td>5</td>\n",
       "      <td>23.24612</td>\n",
       "      <td>-1.272639</td>\n",
       "      <td>36.794723</td>\n",
       "      <td>-1.277007</td>\n",
       "      <td>36.823907</td>\n",
       "      <td>488</td>\n",
       "      <td>273</td>\n",
       "      <td>14.4</td>\n",
       "      <td>45</td>\n",
       "    </tr>\n",
       "    <tr>\n",
       "      <th>2</th>\n",
       "      <td>3</td>\n",
       "      <td>Business</td>\n",
       "      <td>27</td>\n",
       "      <td>4</td>\n",
       "      <td>1602846494000000000</td>\n",
       "      <td>27</td>\n",
       "      <td>4</td>\n",
       "      <td>1602847505000000000</td>\n",
       "      <td>27</td>\n",
       "      <td>4</td>\n",
       "      <td>1602848000000000000</td>\n",
       "      <td>27</td>\n",
       "      <td>4</td>\n",
       "      <td>1602849474000000000</td>\n",
       "      <td>5</td>\n",
       "      <td>22.80000</td>\n",
       "      <td>-1.290894</td>\n",
       "      <td>36.822971</td>\n",
       "      <td>-1.276574</td>\n",
       "      <td>36.851365</td>\n",
       "      <td>833</td>\n",
       "      <td>460</td>\n",
       "      <td>13.1</td>\n",
       "      <td>67</td>\n",
       "    </tr>\n",
       "    <tr>\n",
       "      <th>3</th>\n",
       "      <td>3</td>\n",
       "      <td>Business</td>\n",
       "      <td>17</td>\n",
       "      <td>1</td>\n",
       "      <td>1602856295000000000</td>\n",
       "      <td>17</td>\n",
       "      <td>1</td>\n",
       "      <td>1602856407000000000</td>\n",
       "      <td>17</td>\n",
       "      <td>1</td>\n",
       "      <td>1602856961000000000</td>\n",
       "      <td>17</td>\n",
       "      <td>1</td>\n",
       "      <td>1602857812000000000</td>\n",
       "      <td>5</td>\n",
       "      <td>24.50000</td>\n",
       "      <td>-1.290503</td>\n",
       "      <td>36.809646</td>\n",
       "      <td>-1.303382</td>\n",
       "      <td>36.790658</td>\n",
       "      <td>487</td>\n",
       "      <td>560</td>\n",
       "      <td>13.7</td>\n",
       "      <td>44</td>\n",
       "    </tr>\n",
       "    <tr>\n",
       "      <th>4</th>\n",
       "      <td>3</td>\n",
       "      <td>Business</td>\n",
       "      <td>11</td>\n",
       "      <td>2</td>\n",
       "      <td>1602847828000000000</td>\n",
       "      <td>11</td>\n",
       "      <td>2</td>\n",
       "      <td>1602848085000000000</td>\n",
       "      <td>11</td>\n",
       "      <td>2</td>\n",
       "      <td>1602848839000000000</td>\n",
       "      <td>11</td>\n",
       "      <td>2</td>\n",
       "      <td>1602849364000000000</td>\n",
       "      <td>6</td>\n",
       "      <td>24.40000</td>\n",
       "      <td>-1.281081</td>\n",
       "      <td>36.814423</td>\n",
       "      <td>-1.266467</td>\n",
       "      <td>36.792161</td>\n",
       "      <td>4761</td>\n",
       "      <td>1120</td>\n",
       "      <td>14.1</td>\n",
       "      <td>1010</td>\n",
       "    </tr>\n",
       "  </tbody>\n",
       "</table>\n",
       "</div>"
      ],
      "text/plain": [
       "   Platform Type Personal or Business  ...  Average_Rating  No_of_Ratings\n",
       "0              3             Business  ...            13.3            171\n",
       "1              3             Business  ...            14.4             45\n",
       "2              3             Business  ...            13.1             67\n",
       "3              3             Business  ...            13.7             44\n",
       "4              3             Business  ...            14.1           1010\n",
       "\n",
       "[5 rows x 24 columns]"
      ]
     },
     "execution_count": 259,
     "metadata": {
      "tags": []
     },
     "output_type": "execute_result"
    }
   ],
   "source": [
    "test_clean.head()"
   ]
  },
  {
   "cell_type": "code",
   "execution_count": 260,
   "metadata": {
    "id": "AskLP8YrGpNk"
   },
   "outputs": [],
   "source": [
    "#\n",
    "\n",
    "dummy_train = train_clean.copy()\n",
    "dummy_test = test_clean.copy()\n",
    "\n",
    "train_clean = pd.get_dummies(dummy_train, columns=[\"Personal or Business\"], drop_first= True)\n",
    "test_clean = pd.get_dummies(dummy_test, columns=[\"Personal or Business\"], drop_first= True)"
   ]
  },
  {
   "cell_type": "code",
   "execution_count": 261,
   "metadata": {
    "colab": {
     "base_uri": "https://localhost:8080/",
     "height": 316
    },
    "id": "vIl9ooE-GxSk",
    "outputId": "0a07cbff-95e1-4622-a670-e43e82ec6226"
   },
   "outputs": [
    {
     "data": {
      "text/html": [
       "<div>\n",
       "<style scoped>\n",
       "    .dataframe tbody tr th:only-of-type {\n",
       "        vertical-align: middle;\n",
       "    }\n",
       "\n",
       "    .dataframe tbody tr th {\n",
       "        vertical-align: top;\n",
       "    }\n",
       "\n",
       "    .dataframe thead th {\n",
       "        text-align: right;\n",
       "    }\n",
       "</style>\n",
       "<table border=\"1\" class=\"dataframe\">\n",
       "  <thead>\n",
       "    <tr style=\"text-align: right;\">\n",
       "      <th></th>\n",
       "      <th>Platform Type</th>\n",
       "      <th>Placement - Day of Month</th>\n",
       "      <th>Placement - Weekday (Mo = 1)</th>\n",
       "      <th>Placement - Time</th>\n",
       "      <th>Confirmation - Day of Month</th>\n",
       "      <th>Confirmation - Weekday (Mo = 1)</th>\n",
       "      <th>Confirmation - Time</th>\n",
       "      <th>Arrival at Pickup - Day of Month</th>\n",
       "      <th>Arrival at Pickup - Weekday (Mo = 1)</th>\n",
       "      <th>Arrival at Pickup - Time</th>\n",
       "      <th>Pickup - Day of Month</th>\n",
       "      <th>Pickup - Weekday (Mo = 1)</th>\n",
       "      <th>Pickup - Time</th>\n",
       "      <th>Arrival at Destination - Day of Month</th>\n",
       "      <th>Arrival at Destination - Weekday (Mo = 1)</th>\n",
       "      <th>Arrival at Destination - Time</th>\n",
       "      <th>Distance (KM)</th>\n",
       "      <th>Temperature</th>\n",
       "      <th>Pickup Lat</th>\n",
       "      <th>Pickup Long</th>\n",
       "      <th>Destination Lat</th>\n",
       "      <th>Destination Long</th>\n",
       "      <th>Time from Pickup to Arrival</th>\n",
       "      <th>No_Of_Orders</th>\n",
       "      <th>Age</th>\n",
       "      <th>Average_Rating</th>\n",
       "      <th>No_of_Ratings</th>\n",
       "      <th>Personal or Business_Personal</th>\n",
       "    </tr>\n",
       "  </thead>\n",
       "  <tbody>\n",
       "    <tr>\n",
       "      <th>0</th>\n",
       "      <td>3</td>\n",
       "      <td>9</td>\n",
       "      <td>5</td>\n",
       "      <td>1602840946000000000</td>\n",
       "      <td>9</td>\n",
       "      <td>5</td>\n",
       "      <td>1602841210000000000</td>\n",
       "      <td>9</td>\n",
       "      <td>5</td>\n",
       "      <td>1602842687000000000</td>\n",
       "      <td>9</td>\n",
       "      <td>5</td>\n",
       "      <td>1602844050000000000</td>\n",
       "      <td>9</td>\n",
       "      <td>5</td>\n",
       "      <td>1602844795000000000</td>\n",
       "      <td>4</td>\n",
       "      <td>20.400000</td>\n",
       "      <td>-1.317755</td>\n",
       "      <td>36.830370</td>\n",
       "      <td>-1.300406</td>\n",
       "      <td>36.829741</td>\n",
       "      <td>745</td>\n",
       "      <td>1637</td>\n",
       "      <td>1309</td>\n",
       "      <td>13.8</td>\n",
       "      <td>549</td>\n",
       "      <td>0</td>\n",
       "    </tr>\n",
       "    <tr>\n",
       "      <th>1</th>\n",
       "      <td>3</td>\n",
       "      <td>12</td>\n",
       "      <td>5</td>\n",
       "      <td>1602846976000000000</td>\n",
       "      <td>12</td>\n",
       "      <td>5</td>\n",
       "      <td>1602847401000000000</td>\n",
       "      <td>12</td>\n",
       "      <td>5</td>\n",
       "      <td>1602848422000000000</td>\n",
       "      <td>12</td>\n",
       "      <td>5</td>\n",
       "      <td>1602848649000000000</td>\n",
       "      <td>12</td>\n",
       "      <td>5</td>\n",
       "      <td>1602850642000000000</td>\n",
       "      <td>16</td>\n",
       "      <td>26.400000</td>\n",
       "      <td>-1.351453</td>\n",
       "      <td>36.899315</td>\n",
       "      <td>-1.295004</td>\n",
       "      <td>36.814358</td>\n",
       "      <td>1993</td>\n",
       "      <td>396</td>\n",
       "      <td>339</td>\n",
       "      <td>13.6</td>\n",
       "      <td>69</td>\n",
       "      <td>1</td>\n",
       "    </tr>\n",
       "    <tr>\n",
       "      <th>2</th>\n",
       "      <td>3</td>\n",
       "      <td>30</td>\n",
       "      <td>2</td>\n",
       "      <td>1602851965000000000</td>\n",
       "      <td>30</td>\n",
       "      <td>2</td>\n",
       "      <td>1602852164000000000</td>\n",
       "      <td>30</td>\n",
       "      <td>2</td>\n",
       "      <td>1602852574000000000</td>\n",
       "      <td>30</td>\n",
       "      <td>2</td>\n",
       "      <td>1602852783000000000</td>\n",
       "      <td>30</td>\n",
       "      <td>2</td>\n",
       "      <td>1602853238000000000</td>\n",
       "      <td>3</td>\n",
       "      <td>23.258889</td>\n",
       "      <td>-1.308284</td>\n",
       "      <td>36.843419</td>\n",
       "      <td>-1.300921</td>\n",
       "      <td>36.828195</td>\n",
       "      <td>455</td>\n",
       "      <td>1023</td>\n",
       "      <td>242</td>\n",
       "      <td>12.5</td>\n",
       "      <td>114</td>\n",
       "      <td>0</td>\n",
       "    </tr>\n",
       "    <tr>\n",
       "      <th>3</th>\n",
       "      <td>3</td>\n",
       "      <td>15</td>\n",
       "      <td>5</td>\n",
       "      <td>1602840334000000000</td>\n",
       "      <td>15</td>\n",
       "      <td>5</td>\n",
       "      <td>1602840365000000000</td>\n",
       "      <td>15</td>\n",
       "      <td>5</td>\n",
       "      <td>1602841076000000000</td>\n",
       "      <td>15</td>\n",
       "      <td>5</td>\n",
       "      <td>1602841386000000000</td>\n",
       "      <td>15</td>\n",
       "      <td>5</td>\n",
       "      <td>1602842727000000000</td>\n",
       "      <td>9</td>\n",
       "      <td>19.200000</td>\n",
       "      <td>-1.281301</td>\n",
       "      <td>36.832396</td>\n",
       "      <td>-1.257147</td>\n",
       "      <td>36.795063</td>\n",
       "      <td>1341</td>\n",
       "      <td>886</td>\n",
       "      <td>283</td>\n",
       "      <td>14.5</td>\n",
       "      <td>113</td>\n",
       "      <td>0</td>\n",
       "    </tr>\n",
       "    <tr>\n",
       "      <th>4</th>\n",
       "      <td>1</td>\n",
       "      <td>13</td>\n",
       "      <td>1</td>\n",
       "      <td>1602842118000000000</td>\n",
       "      <td>13</td>\n",
       "      <td>1</td>\n",
       "      <td>1602842178000000000</td>\n",
       "      <td>13</td>\n",
       "      <td>1</td>\n",
       "      <td>1602842633000000000</td>\n",
       "      <td>13</td>\n",
       "      <td>1</td>\n",
       "      <td>1602842723000000000</td>\n",
       "      <td>13</td>\n",
       "      <td>1</td>\n",
       "      <td>1602843937000000000</td>\n",
       "      <td>9</td>\n",
       "      <td>15.400000</td>\n",
       "      <td>-1.266597</td>\n",
       "      <td>36.792118</td>\n",
       "      <td>-1.295041</td>\n",
       "      <td>36.809817</td>\n",
       "      <td>1214</td>\n",
       "      <td>2311</td>\n",
       "      <td>872</td>\n",
       "      <td>14.1</td>\n",
       "      <td>533</td>\n",
       "      <td>1</td>\n",
       "    </tr>\n",
       "  </tbody>\n",
       "</table>\n",
       "</div>"
      ],
      "text/plain": [
       "   Platform Type  ...  Personal or Business_Personal\n",
       "0              3  ...                              0\n",
       "1              3  ...                              1\n",
       "2              3  ...                              0\n",
       "3              3  ...                              0\n",
       "4              1  ...                              1\n",
       "\n",
       "[5 rows x 28 columns]"
      ]
     },
     "execution_count": 261,
     "metadata": {
      "tags": []
     },
     "output_type": "execute_result"
    }
   ],
   "source": [
    "train_clean.head()"
   ]
  },
  {
   "cell_type": "code",
   "execution_count": 262,
   "metadata": {
    "colab": {
     "base_uri": "https://localhost:8080/",
     "height": 316
    },
    "id": "u5-OAPvmHLQH",
    "outputId": "a8dba5d8-64e7-4f5f-d8f7-20074c8f2c50"
   },
   "outputs": [
    {
     "data": {
      "text/html": [
       "<div>\n",
       "<style scoped>\n",
       "    .dataframe tbody tr th:only-of-type {\n",
       "        vertical-align: middle;\n",
       "    }\n",
       "\n",
       "    .dataframe tbody tr th {\n",
       "        vertical-align: top;\n",
       "    }\n",
       "\n",
       "    .dataframe thead th {\n",
       "        text-align: right;\n",
       "    }\n",
       "</style>\n",
       "<table border=\"1\" class=\"dataframe\">\n",
       "  <thead>\n",
       "    <tr style=\"text-align: right;\">\n",
       "      <th></th>\n",
       "      <th>Platform Type</th>\n",
       "      <th>Placement - Day of Month</th>\n",
       "      <th>Placement - Weekday (Mo = 1)</th>\n",
       "      <th>Placement - Time</th>\n",
       "      <th>Confirmation - Day of Month</th>\n",
       "      <th>Confirmation - Weekday (Mo = 1)</th>\n",
       "      <th>Confirmation - Time</th>\n",
       "      <th>Arrival at Pickup - Day of Month</th>\n",
       "      <th>Arrival at Pickup - Weekday (Mo = 1)</th>\n",
       "      <th>Arrival at Pickup - Time</th>\n",
       "      <th>Pickup - Day of Month</th>\n",
       "      <th>Pickup - Weekday (Mo = 1)</th>\n",
       "      <th>Pickup - Time</th>\n",
       "      <th>Distance (KM)</th>\n",
       "      <th>Temperature</th>\n",
       "      <th>Pickup Lat</th>\n",
       "      <th>Pickup Long</th>\n",
       "      <th>Destination Lat</th>\n",
       "      <th>Destination Long</th>\n",
       "      <th>No_Of_Orders</th>\n",
       "      <th>Age</th>\n",
       "      <th>Average_Rating</th>\n",
       "      <th>No_of_Ratings</th>\n",
       "      <th>Personal or Business_Personal</th>\n",
       "    </tr>\n",
       "  </thead>\n",
       "  <tbody>\n",
       "    <tr>\n",
       "      <th>0</th>\n",
       "      <td>3</td>\n",
       "      <td>27</td>\n",
       "      <td>3</td>\n",
       "      <td>1602866650000000000</td>\n",
       "      <td>27</td>\n",
       "      <td>3</td>\n",
       "      <td>1602866669000000000</td>\n",
       "      <td>27</td>\n",
       "      <td>3</td>\n",
       "      <td>1602867184000000000</td>\n",
       "      <td>27</td>\n",
       "      <td>3</td>\n",
       "      <td>1602868007000000000</td>\n",
       "      <td>8</td>\n",
       "      <td>23.24612</td>\n",
       "      <td>-1.333275</td>\n",
       "      <td>36.870815</td>\n",
       "      <td>-1.305249</td>\n",
       "      <td>36.822390</td>\n",
       "      <td>439</td>\n",
       "      <td>1511</td>\n",
       "      <td>13.3</td>\n",
       "      <td>171</td>\n",
       "      <td>0</td>\n",
       "    </tr>\n",
       "    <tr>\n",
       "      <th>1</th>\n",
       "      <td>3</td>\n",
       "      <td>17</td>\n",
       "      <td>5</td>\n",
       "      <td>1602853055000000000</td>\n",
       "      <td>17</td>\n",
       "      <td>5</td>\n",
       "      <td>1602853157000000000</td>\n",
       "      <td>17</td>\n",
       "      <td>5</td>\n",
       "      <td>1602854427000000000</td>\n",
       "      <td>17</td>\n",
       "      <td>5</td>\n",
       "      <td>1602854737000000000</td>\n",
       "      <td>5</td>\n",
       "      <td>23.24612</td>\n",
       "      <td>-1.272639</td>\n",
       "      <td>36.794723</td>\n",
       "      <td>-1.277007</td>\n",
       "      <td>36.823907</td>\n",
       "      <td>488</td>\n",
       "      <td>273</td>\n",
       "      <td>14.4</td>\n",
       "      <td>45</td>\n",
       "      <td>0</td>\n",
       "    </tr>\n",
       "    <tr>\n",
       "      <th>2</th>\n",
       "      <td>3</td>\n",
       "      <td>27</td>\n",
       "      <td>4</td>\n",
       "      <td>1602846494000000000</td>\n",
       "      <td>27</td>\n",
       "      <td>4</td>\n",
       "      <td>1602847505000000000</td>\n",
       "      <td>27</td>\n",
       "      <td>4</td>\n",
       "      <td>1602848000000000000</td>\n",
       "      <td>27</td>\n",
       "      <td>4</td>\n",
       "      <td>1602849474000000000</td>\n",
       "      <td>5</td>\n",
       "      <td>22.80000</td>\n",
       "      <td>-1.290894</td>\n",
       "      <td>36.822971</td>\n",
       "      <td>-1.276574</td>\n",
       "      <td>36.851365</td>\n",
       "      <td>833</td>\n",
       "      <td>460</td>\n",
       "      <td>13.1</td>\n",
       "      <td>67</td>\n",
       "      <td>0</td>\n",
       "    </tr>\n",
       "    <tr>\n",
       "      <th>3</th>\n",
       "      <td>3</td>\n",
       "      <td>17</td>\n",
       "      <td>1</td>\n",
       "      <td>1602856295000000000</td>\n",
       "      <td>17</td>\n",
       "      <td>1</td>\n",
       "      <td>1602856407000000000</td>\n",
       "      <td>17</td>\n",
       "      <td>1</td>\n",
       "      <td>1602856961000000000</td>\n",
       "      <td>17</td>\n",
       "      <td>1</td>\n",
       "      <td>1602857812000000000</td>\n",
       "      <td>5</td>\n",
       "      <td>24.50000</td>\n",
       "      <td>-1.290503</td>\n",
       "      <td>36.809646</td>\n",
       "      <td>-1.303382</td>\n",
       "      <td>36.790658</td>\n",
       "      <td>487</td>\n",
       "      <td>560</td>\n",
       "      <td>13.7</td>\n",
       "      <td>44</td>\n",
       "      <td>0</td>\n",
       "    </tr>\n",
       "    <tr>\n",
       "      <th>4</th>\n",
       "      <td>3</td>\n",
       "      <td>11</td>\n",
       "      <td>2</td>\n",
       "      <td>1602847828000000000</td>\n",
       "      <td>11</td>\n",
       "      <td>2</td>\n",
       "      <td>1602848085000000000</td>\n",
       "      <td>11</td>\n",
       "      <td>2</td>\n",
       "      <td>1602848839000000000</td>\n",
       "      <td>11</td>\n",
       "      <td>2</td>\n",
       "      <td>1602849364000000000</td>\n",
       "      <td>6</td>\n",
       "      <td>24.40000</td>\n",
       "      <td>-1.281081</td>\n",
       "      <td>36.814423</td>\n",
       "      <td>-1.266467</td>\n",
       "      <td>36.792161</td>\n",
       "      <td>4761</td>\n",
       "      <td>1120</td>\n",
       "      <td>14.1</td>\n",
       "      <td>1010</td>\n",
       "      <td>0</td>\n",
       "    </tr>\n",
       "  </tbody>\n",
       "</table>\n",
       "</div>"
      ],
      "text/plain": [
       "   Platform Type  ...  Personal or Business_Personal\n",
       "0              3  ...                              0\n",
       "1              3  ...                              0\n",
       "2              3  ...                              0\n",
       "3              3  ...                              0\n",
       "4              3  ...                              0\n",
       "\n",
       "[5 rows x 24 columns]"
      ]
     },
     "execution_count": 262,
     "metadata": {
      "tags": []
     },
     "output_type": "execute_result"
    }
   ],
   "source": [
    "test_clean.head()"
   ]
  },
  {
   "cell_type": "code",
   "execution_count": 263,
   "metadata": {
    "colab": {
     "base_uri": "https://localhost:8080/",
     "height": 84
    },
    "id": "7srH5A93QjaS",
    "outputId": "f6afe7dc-49b9-45eb-cc22-e90035fe2ceb"
   },
   "outputs": [
    {
     "name": "stdout",
     "output_type": "stream",
     "text": [
      "Arrival at Destination - Day of Month\n",
      "Arrival at Destination - Weekday (Mo = 1)\n",
      "Arrival at Destination - Time\n",
      "Time from Pickup to Arrival\n"
     ]
    }
   ],
   "source": [
    "# Check for columns not included in the test data set and drop them\n",
    "for col in train_clean.columns:\n",
    "    if col not in test_clean.columns:\n",
    "        print(col)"
   ]
  },
  {
   "cell_type": "code",
   "execution_count": 264,
   "metadata": {
    "id": "T08MUSzZQsYK"
   },
   "outputs": [],
   "source": [
    "# Drop additional columns in train data that are not in the test data, \n",
    "# except the target variable\n",
    "\n",
    "train_clean = train_clean.drop([\"Arrival at Destination - Day of Month\",\n",
    "                                \"Arrival at Destination - Weekday (Mo = 1)\",\n",
    "                                \"Arrival at Destination - Time\"], axis = 1)"
   ]
  },
  {
   "cell_type": "code",
   "execution_count": 265,
   "metadata": {
    "colab": {
     "base_uri": "https://localhost:8080/",
     "height": 34
    },
    "id": "GYMbVyx1RrsW",
    "outputId": "6964375b-07b9-4b8d-cfb7-44064b94abfa"
   },
   "outputs": [
    {
     "name": "stdout",
     "output_type": "stream",
     "text": [
      "Time from Pickup to Arrival\n"
     ]
    }
   ],
   "source": [
    "# Check for columns not included in the test data set and drop them\n",
    "for col in train_clean.columns:\n",
    "    if col not in test_clean.columns:\n",
    "        print(col)"
   ]
  },
  {
   "cell_type": "code",
   "execution_count": 266,
   "metadata": {
    "colab": {
     "base_uri": "https://localhost:8080/",
     "height": 554
    },
    "id": "iU2Gz62QIwJI",
    "outputId": "9ce73385-56b3-4722-d863-b0151d079bdf"
   },
   "outputs": [
    {
     "name": "stdout",
     "output_type": "stream",
     "text": [
      "<class 'pandas.core.frame.DataFrame'>\n",
      "Int64Index: 21201 entries, 0 to 21200\n",
      "Data columns (total 25 columns):\n",
      " #   Column                                Non-Null Count  Dtype  \n",
      "---  ------                                --------------  -----  \n",
      " 0   Platform Type                         21201 non-null  int64  \n",
      " 1   Placement - Day of Month              21201 non-null  int64  \n",
      " 2   Placement - Weekday (Mo = 1)          21201 non-null  int64  \n",
      " 3   Placement - Time                      21201 non-null  int64  \n",
      " 4   Confirmation - Day of Month           21201 non-null  int64  \n",
      " 5   Confirmation - Weekday (Mo = 1)       21201 non-null  int64  \n",
      " 6   Confirmation - Time                   21201 non-null  int64  \n",
      " 7   Arrival at Pickup - Day of Month      21201 non-null  int64  \n",
      " 8   Arrival at Pickup - Weekday (Mo = 1)  21201 non-null  int64  \n",
      " 9   Arrival at Pickup - Time              21201 non-null  int64  \n",
      " 10  Pickup - Day of Month                 21201 non-null  int64  \n",
      " 11  Pickup - Weekday (Mo = 1)             21201 non-null  int64  \n",
      " 12  Pickup - Time                         21201 non-null  int64  \n",
      " 13  Distance (KM)                         21201 non-null  int64  \n",
      " 14  Temperature                           21201 non-null  float64\n",
      " 15  Pickup Lat                            21201 non-null  float64\n",
      " 16  Pickup Long                           21201 non-null  float64\n",
      " 17  Destination Lat                       21201 non-null  float64\n",
      " 18  Destination Long                      21201 non-null  float64\n",
      " 19  Time from Pickup to Arrival           21201 non-null  int64  \n",
      " 20  No_Of_Orders                          21201 non-null  int64  \n",
      " 21  Age                                   21201 non-null  int64  \n",
      " 22  Average_Rating                        21201 non-null  float64\n",
      " 23  No_of_Ratings                         21201 non-null  int64  \n",
      " 24  Personal or Business_Personal         21201 non-null  uint8  \n",
      "dtypes: float64(6), int64(18), uint8(1)\n",
      "memory usage: 4.1 MB\n"
     ]
    }
   ],
   "source": [
    "train_clean.info()"
   ]
  },
  {
   "cell_type": "markdown",
   "metadata": {
    "id": "sM6kYr5Yes29"
   },
   "source": [
    "## Building Tuned Models"
   ]
  },
  {
   "cell_type": "code",
   "execution_count": 267,
   "metadata": {
    "id": "B4XTvnJxVGLL"
   },
   "outputs": [],
   "source": [
    "#Separate x and y metrics\n",
    "\n",
    "x_tuned = train_clean.drop(\"Time from Pickup to Arrival\", axis = 1)\n",
    "y_tuned = train_clean[\"Time from Pickup to Arrival\"] \n",
    "\n",
    "test_x = test_clean.copy()"
   ]
  },
  {
   "cell_type": "code",
   "execution_count": 268,
   "metadata": {
    "colab": {
     "base_uri": "https://localhost:8080/",
     "height": 34
    },
    "id": "HuWXL_rnRy_Q",
    "outputId": "14965436-6485-4017-c413-b573a726a536"
   },
   "outputs": [
    {
     "data": {
      "text/plain": [
       "(21201, 24)"
      ]
     },
     "execution_count": 268,
     "metadata": {
      "tags": []
     },
     "output_type": "execute_result"
    }
   ],
   "source": [
    "x_tuned.shape"
   ]
  },
  {
   "cell_type": "code",
   "execution_count": 269,
   "metadata": {
    "colab": {
     "base_uri": "https://localhost:8080/",
     "height": 34
    },
    "id": "Y3DkjKSDR4oz",
    "outputId": "6882e753-3c0e-4fa2-ba98-c50fa2d90b6f"
   },
   "outputs": [
    {
     "data": {
      "text/plain": [
       "(7068, 24)"
      ]
     },
     "execution_count": 269,
     "metadata": {
      "tags": []
     },
     "output_type": "execute_result"
    }
   ],
   "source": [
    "test_x.shape"
   ]
  },
  {
   "cell_type": "code",
   "execution_count": 270,
   "metadata": {
    "id": "U_gWbT6ehDgw"
   },
   "outputs": [],
   "source": [
    "# Split the dataset into train and test data\n",
    "from sklearn.model_selection import train_test_split\n",
    "\n",
    "X_train, X_val, y_train, y_val = train_test_split(x_tuned,y_tuned,test_size = 0.2, random_state = 25)"
   ]
  },
  {
   "cell_type": "markdown",
   "metadata": {
    "id": "-lsjZf3kgqf0"
   },
   "source": [
    "## Linear Regression Model"
   ]
  },
  {
   "cell_type": "code",
   "execution_count": 271,
   "metadata": {
    "colab": {
     "base_uri": "https://localhost:8080/",
     "height": 34
    },
    "id": "D50UGjALVFPF",
    "outputId": "0b857244-6bc5-4990-b2bc-1eb5348c8490"
   },
   "outputs": [
    {
     "data": {
      "text/plain": [
       "760.2512729473941"
      ]
     },
     "execution_count": 271,
     "metadata": {
      "tags": []
     },
     "output_type": "execute_result"
    }
   ],
   "source": [
    "from sklearn.linear_model import LinearRegression\n",
    "from sklearn.metrics import mean_squared_error\n",
    "\n",
    "# define the model \n",
    "model = LinearRegression()\n",
    "\n",
    "# fit the model \n",
    "model.fit(X_train, y_train)\n",
    "\n",
    "# get predictions on the test set \n",
    "val_pred = model.predict(X_val)\n",
    "\n",
    "# calculate accuracy of validation predictions using root mean squared error\n",
    "rmse(y_val, val_pred)"
   ]
  },
  {
   "cell_type": "code",
   "execution_count": 273,
   "metadata": {
    "colab": {
     "base_uri": "https://localhost:8080/",
     "height": 34
    },
    "id": "jvnQYIA8NJeM",
    "outputId": "252cb6cc-c8c7-49af-c33d-7459ea1a97a0"
   },
   "outputs": [
    {
     "name": "stdout",
     "output_type": "stream",
     "text": [
      "This is now the best perfoming model, with RMSE of 760.2512729473941\n"
     ]
    }
   ],
   "source": [
    "best_result = 769.2752110279656\n",
    "model_result = rmse(y_val,val_pred)\n",
    "best_perfomance(model_result, best_result)"
   ]
  },
  {
   "cell_type": "markdown",
   "metadata": {
    "id": "ynflEggN6cK8"
   },
   "source": [
    "With the newly selected features, Linear regression model is the best performing model"
   ]
  },
  {
   "cell_type": "code",
   "execution_count": 196,
   "metadata": {
    "id": "5fZCB_BLRCLT"
   },
   "outputs": [],
   "source": []
  },
  {
   "cell_type": "markdown",
   "metadata": {
    "id": "cys9mRe3koU_"
   },
   "source": [
    "## Gradient Boosting Regressor"
   ]
  },
  {
   "cell_type": "code",
   "execution_count": 284,
   "metadata": {
    "id": "PNGqDeAxLrrm"
   },
   "outputs": [],
   "source": [
    "from sklearn.ensemble import GradientBoostingRegressor\n",
    "Gbr_model= GradientBoostingRegressor()\n",
    "\n",
    "Gbr_model.fit(X_train, y_train)\n",
    "val_pred_Gbr = Gbr_model.predict(X_val)"
   ]
  },
  {
   "cell_type": "code",
   "execution_count": 285,
   "metadata": {
    "id": "-xl_LDLmLroe"
   },
   "outputs": [],
   "source": [
    "model_result = rmse(y_val, val_pred_Gbr)"
   ]
  },
  {
   "cell_type": "code",
   "execution_count": 286,
   "metadata": {
    "colab": {
     "base_uri": "https://localhost:8080/",
     "height": 34
    },
    "id": "OwD8EaBCLrln",
    "outputId": "d9974b83-bbb9-4034-8f62-ccb1a19c809d"
   },
   "outputs": [
    {
     "name": "stdout",
     "output_type": "stream",
     "text": [
      "This is now the best perfoming model, with RMSE of 745.5430943593261\n"
     ]
    }
   ],
   "source": [
    "best_perfomance(model_result,best_result)"
   ]
  },
  {
   "cell_type": "markdown",
   "metadata": {
    "id": "fpAzpdL0_IiH"
   },
   "source": [
    "The gradient boosting regressor model is now the best performing model"
   ]
  },
  {
   "cell_type": "code",
   "execution_count": 287,
   "metadata": {
    "id": "pYMW2QqJSjOu"
   },
   "outputs": [],
   "source": [
    "# The best model result has changed\n",
    "best_result = 745.5430943593261"
   ]
  },
  {
   "cell_type": "markdown",
   "metadata": {
    "id": "vIVd8oifVFt3"
   },
   "source": [
    "### XGBoost Regressor"
   ]
  },
  {
   "cell_type": "code",
   "execution_count": 288,
   "metadata": {
    "colab": {
     "base_uri": "https://localhost:8080/",
     "height": 34
    },
    "id": "TcYqrOTbLrc0",
    "outputId": "c65f34d1-b765-4ff3-c868-8c813270d6d0"
   },
   "outputs": [
    {
     "name": "stdout",
     "output_type": "stream",
     "text": [
      "[01:19:29] WARNING: /workspace/src/objective/regression_obj.cu:152: reg:linear is now deprecated in favor of reg:squarederror.\n"
     ]
    }
   ],
   "source": [
    "import xgboost as xgb\n",
    "model_x=xgb.XGBRegressor()\n",
    "\n",
    "#Train the model\n",
    "model_x.fit(X_train, y_train)\n",
    "\n",
    "# Making predictions of the validation data\n",
    "val_pred_XGR = model_x.predict(X_val)\n",
    "\n",
    "#Actual y_predicts\n",
    "#y_pred_xg = model_x.predict(test_x)"
   ]
  },
  {
   "cell_type": "code",
   "execution_count": 289,
   "metadata": {
    "id": "8i7tqRNJTIXp"
   },
   "outputs": [],
   "source": [
    "model_result = rmse(y_val, val_pred_XGR)"
   ]
  },
  {
   "cell_type": "code",
   "execution_count": 290,
   "metadata": {
    "colab": {
     "base_uri": "https://localhost:8080/",
     "height": 34
    },
    "id": "FyjLGYQ5TiYK",
    "outputId": "aee2b869-4772-4459-9ede-ecf9e85ab1b4"
   },
   "outputs": [
    {
     "name": "stdout",
     "output_type": "stream",
     "text": [
      "This is now the best perfoming model, with RMSE of 745.2864230836778\n"
     ]
    }
   ],
   "source": [
    "best_perfomance(model_result,best_result)"
   ]
  },
  {
   "cell_type": "markdown",
   "metadata": {
    "id": "MrKBCw_7_ixJ"
   },
   "source": [
    "The XGBoost Regression model is now the best performing model"
   ]
  },
  {
   "cell_type": "code",
   "execution_count": null,
   "metadata": {
    "id": "afD4pUnKCTLl"
   },
   "outputs": [],
   "source": []
  },
  {
   "cell_type": "markdown",
   "metadata": {
    "id": "2NxFZLsh0M-Z"
   },
   "source": [
    "## Lasso Regression"
   ]
  },
  {
   "cell_type": "code",
   "execution_count": 110,
   "metadata": {
    "id": "X17UbXn30Fp9"
   },
   "outputs": [],
   "source": [
    "from sklearn.linear_model import Lasso"
   ]
  },
  {
   "cell_type": "code",
   "execution_count": 113,
   "metadata": {
    "id": "EuEq5ctS0YLg"
   },
   "outputs": [],
   "source": [
    "# creating an instance of lasso regression\n",
    "lasso_model = Lasso(alpha=1.0)"
   ]
  },
  {
   "cell_type": "code",
   "execution_count": 114,
   "metadata": {
    "colab": {
     "base_uri": "https://localhost:8080/",
     "height": 67
    },
    "id": "5ak64-qPzVbT",
    "outputId": "3725867a-5f3e-4e0d-cbaa-b924b506e9d1"
   },
   "outputs": [
    {
     "data": {
      "text/plain": [
       "Lasso(alpha=1.0, copy_X=True, fit_intercept=True, max_iter=1000,\n",
       "      normalize=False, positive=False, precompute=False, random_state=None,\n",
       "      selection='cyclic', tol=0.0001, warm_start=False)"
      ]
     },
     "execution_count": 114,
     "metadata": {
      "tags": []
     },
     "output_type": "execute_result"
    }
   ],
   "source": [
    "# Training the model\n",
    "lasso_model.fit(X_train, y_train)"
   ]
  },
  {
   "cell_type": "code",
   "execution_count": 116,
   "metadata": {
    "id": "wl2ThiES0sDY"
   },
   "outputs": [],
   "source": [
    "# Predictions for the validation set\n",
    "val_pred = lasso_model.predict(X_val)"
   ]
  },
  {
   "cell_type": "code",
   "execution_count": 117,
   "metadata": {
    "id": "wDH2PE_t01Qj"
   },
   "outputs": [],
   "source": [
    "model_result = rmse(y_val, val_pred)"
   ]
  },
  {
   "cell_type": "code",
   "execution_count": 118,
   "metadata": {
    "colab": {
     "base_uri": "https://localhost:8080/",
     "height": 67
    },
    "id": "bSpMqDDt1GL3",
    "outputId": "529b937c-0609-4784-e1a4-1b3df2957094"
   },
   "outputs": [
    {
     "name": "stdout",
     "output_type": "stream",
     "text": [
      "This model performs poorly compared the previous best performing model\n",
      "Best perfomaning model score: 793.3029\n",
      "Model result : 794.3255\n"
     ]
    }
   ],
   "source": [
    "best_perfomance(model_result, best_result)"
   ]
  },
  {
   "cell_type": "markdown",
   "metadata": {
    "id": "VEH3L7PU4Poe"
   },
   "source": [
    "## Tunning the Lasso Regression model"
   ]
  },
  {
   "cell_type": "code",
   "execution_count": 125,
   "metadata": {
    "id": "cEd_mYsr1GIw"
   },
   "outputs": [],
   "source": []
  },
  {
   "cell_type": "code",
   "execution_count": 121,
   "metadata": {
    "id": "NIxRDk-U1GFx"
   },
   "outputs": [],
   "source": [
    "# Creating an instance for the laso regression\n",
    "lasso_model_2 = Lasso()"
   ]
  },
  {
   "cell_type": "code",
   "execution_count": 122,
   "metadata": {
    "id": "l0--_Q5w17_s"
   },
   "outputs": [],
   "source": [
    "cv = RepeatedKFold(n_splits=10, n_repeats=3, random_state=1)"
   ]
  },
  {
   "cell_type": "code",
   "execution_count": 126,
   "metadata": {
    "id": "4nQVXNKT18Ds"
   },
   "outputs": [],
   "source": [
    "# Defining hte grid for the grid search\n",
    "grid = dict()\n",
    "grid['alpha'] = arange(0, 1, 0.01)"
   ]
  },
  {
   "cell_type": "code",
   "execution_count": 296,
   "metadata": {
    "id": "a1-hwu-m18Qh"
   },
   "outputs": [],
   "source": [
    "search = GridSearchCV(lasso_model_2, grid, scoring='neg_mean_absolute_error', cv=cv, n_jobs=-1)"
   ]
  },
  {
   "cell_type": "code",
   "execution_count": 131,
   "metadata": {
    "id": "N-9vcdL22z8F"
   },
   "outputs": [],
   "source": [
    "# Training the model\n",
    "result = search.fit(X_train, y_train)"
   ]
  },
  {
   "cell_type": "code",
   "execution_count": 133,
   "metadata": {
    "id": "6h6a2-no3Jz4"
   },
   "outputs": [],
   "source": [
    "# Making predictions for the validation set\n",
    "val_pred = result.predict(X_val)"
   ]
  },
  {
   "cell_type": "code",
   "execution_count": 136,
   "metadata": {
    "id": "4r7YZ6eA3cjX"
   },
   "outputs": [],
   "source": [
    "model_result = rmse(y_val, val_pred)"
   ]
  },
  {
   "cell_type": "code",
   "execution_count": 137,
   "metadata": {
    "colab": {
     "base_uri": "https://localhost:8080/",
     "height": 67
    },
    "id": "iWAwtsgF3ujx",
    "outputId": "0c06383c-2a6a-40f7-9ab9-bc969f2b78e6"
   },
   "outputs": [
    {
     "name": "stdout",
     "output_type": "stream",
     "text": [
      "This model performs poorly compared the previous best performing model\n",
      "Best perfomaning model score: 793.3029\n",
      "Model result : 793.938\n"
     ]
    }
   ],
   "source": [
    "best_perfomance(model_result, best_result)"
   ]
  },
  {
   "cell_type": "markdown",
   "metadata": {
    "id": "mGb46MOA39n_"
   },
   "source": [
    "The lasso regreesion model improved slightly after grid search"
   ]
  },
  {
   "cell_type": "code",
   "execution_count": null,
   "metadata": {
    "id": "3YanK-GJ3r5d"
   },
   "outputs": [],
   "source": []
  },
  {
   "cell_type": "code",
   "execution_count": null,
   "metadata": {
    "id": "E5VKi4jm3cWy"
   },
   "outputs": [],
   "source": []
  },
  {
   "cell_type": "markdown",
   "metadata": {
    "id": "sN5-DCdwGCdT"
   },
   "source": [
    "# Saving the Champion model"
   ]
  },
  {
   "cell_type": "code",
   "execution_count": null,
   "metadata": {
    "id": "U_JXvHYGGKOT"
   },
   "outputs": [],
   "source": [
    "import pickle\n",
    "\n",
    "model_save_path = \"XGBoostModel.pkl\"\n",
    "with open(model_save_path,'wb') as file:\n",
    "    pickle.dump(model_x,file)"
   ]
  },
  {
   "cell_type": "code",
   "execution_count": null,
   "metadata": {
    "colab": {
     "base_uri": "https://localhost:8080/",
     "height": 34
    },
    "id": "qixTqr88GQDx",
    "outputId": "19abf12a-af29-4b86-ba14-9a2d9f80c409"
   },
   "outputs": [
    {
     "name": "stdout",
     "output_type": "stream",
     "text": [
      "[13:36:55] WARNING: /workspace/src/objective/regression_obj.cu:152: reg:linear is now deprecated in favor of reg:squarederror.\n"
     ]
    }
   ],
   "source": [
    "# restoring  the model\n",
    "model_load_path = \"XGBoostModel.pkl\"\n",
    "with open(model_load_path,'rb') as file:\n",
    "    unpickled_model = pickle.load(file)"
   ]
  },
  {
   "cell_type": "code",
   "execution_count": null,
   "metadata": {
    "id": "q7FPWkSgGUHp"
   },
   "outputs": [],
   "source": [
    "# get predictions from the unpickled model\n",
    "y_pred = unpickled_model.predict(X_val)"
   ]
  },
  {
   "cell_type": "code",
   "execution_count": null,
   "metadata": {
    "colab": {
     "base_uri": "https://localhost:8080/",
     "height": 34
    },
    "id": "7jRf38MNGXe6",
    "outputId": "6b49bbc9-b278-45df-99d1-48a2a05fb778"
   },
   "outputs": [
    {
     "data": {
      "text/plain": [
       "743.9272036080863"
      ]
     },
     "execution_count": 166,
     "metadata": {
      "tags": []
     },
     "output_type": "execute_result"
    }
   ],
   "source": [
    "rmse(y_val, y_pred)"
   ]
  },
  {
   "cell_type": "code",
   "execution_count": null,
   "metadata": {
    "id": "ICOKMO4-VDfi"
   },
   "outputs": [],
   "source": [
    "#Submission\n",
    "\n",
    "test_pred = unpickled_model.predict(test_x)"
   ]
  },
  {
   "cell_type": "code",
   "execution_count": null,
   "metadata": {
    "colab": {
     "base_uri": "https://localhost:8080/",
     "height": 408
    },
    "id": "cGyHjWi7Vm-8",
    "outputId": "a335e8be-b0d8-41f3-ed38-535df4a6e59f"
   },
   "outputs": [
    {
     "data": {
      "text/html": [
       "<div>\n",
       "<style scoped>\n",
       "    .dataframe tbody tr th:only-of-type {\n",
       "        vertical-align: middle;\n",
       "    }\n",
       "\n",
       "    .dataframe tbody tr th {\n",
       "        vertical-align: top;\n",
       "    }\n",
       "\n",
       "    .dataframe thead th {\n",
       "        text-align: right;\n",
       "    }\n",
       "</style>\n",
       "<table border=\"1\" class=\"dataframe\">\n",
       "  <thead>\n",
       "    <tr style=\"text-align: right;\">\n",
       "      <th></th>\n",
       "      <th>Order No</th>\n",
       "      <th>Time from Pickup to Arrival</th>\n",
       "    </tr>\n",
       "  </thead>\n",
       "  <tbody>\n",
       "    <tr>\n",
       "      <th>0</th>\n",
       "      <td>Order_No_19248</td>\n",
       "      <td>1422.672119</td>\n",
       "    </tr>\n",
       "    <tr>\n",
       "      <th>1</th>\n",
       "      <td>Order_No_12736</td>\n",
       "      <td>1334.304688</td>\n",
       "    </tr>\n",
       "    <tr>\n",
       "      <th>2</th>\n",
       "      <td>Order_No_768</td>\n",
       "      <td>1378.305542</td>\n",
       "    </tr>\n",
       "    <tr>\n",
       "      <th>3</th>\n",
       "      <td>Order_No_15332</td>\n",
       "      <td>1276.792725</td>\n",
       "    </tr>\n",
       "    <tr>\n",
       "      <th>4</th>\n",
       "      <td>Order_No_21373</td>\n",
       "      <td>1220.417114</td>\n",
       "    </tr>\n",
       "    <tr>\n",
       "      <th>...</th>\n",
       "      <td>...</td>\n",
       "      <td>...</td>\n",
       "    </tr>\n",
       "    <tr>\n",
       "      <th>7063</th>\n",
       "      <td>Order_No_3612</td>\n",
       "      <td>1443.366821</td>\n",
       "    </tr>\n",
       "    <tr>\n",
       "      <th>7064</th>\n",
       "      <td>Order_No_7657</td>\n",
       "      <td>2844.471436</td>\n",
       "    </tr>\n",
       "    <tr>\n",
       "      <th>7065</th>\n",
       "      <td>Order_No_1969</td>\n",
       "      <td>1724.319580</td>\n",
       "    </tr>\n",
       "    <tr>\n",
       "      <th>7066</th>\n",
       "      <td>Order_No_10591</td>\n",
       "      <td>2594.828857</td>\n",
       "    </tr>\n",
       "    <tr>\n",
       "      <th>7067</th>\n",
       "      <td>Order_No_1603</td>\n",
       "      <td>1641.832520</td>\n",
       "    </tr>\n",
       "  </tbody>\n",
       "</table>\n",
       "<p>7068 rows × 2 columns</p>\n",
       "</div>"
      ],
      "text/plain": [
       "            Order No  Time from Pickup to Arrival\n",
       "0     Order_No_19248                  1422.672119\n",
       "1     Order_No_12736                  1334.304688\n",
       "2       Order_No_768                  1378.305542\n",
       "3     Order_No_15332                  1276.792725\n",
       "4     Order_No_21373                  1220.417114\n",
       "...              ...                          ...\n",
       "7063   Order_No_3612                  1443.366821\n",
       "7064   Order_No_7657                  2844.471436\n",
       "7065   Order_No_1969                  1724.319580\n",
       "7066  Order_No_10591                  2594.828857\n",
       "7067   Order_No_1603                  1641.832520\n",
       "\n",
       "[7068 rows x 2 columns]"
      ]
     },
     "execution_count": 168,
     "metadata": {
      "tags": []
     },
     "output_type": "execute_result"
    }
   ],
   "source": [
    "XGsubmission = test[['Order No']].copy()\n",
    "XGsubmission['Time from Pickup to Arrival'] = test_pred\n",
    "\n",
    "XGsubmission"
   ]
  },
  {
   "cell_type": "code",
   "execution_count": null,
   "metadata": {
    "id": "LTFkVZmRV4LB"
   },
   "outputs": [],
   "source": [
    "XGsubmission.to_csv('XGmodel_FINAL_submission.csv', index = False)"
   ]
  },
  {
   "cell_type": "code",
   "execution_count": null,
   "metadata": {
    "colab": {
     "base_uri": "https://localhost:8080/",
     "height": 17
    },
    "id": "VsZu3XYQWCKU",
    "outputId": "0e3e66d2-08b0-4da5-8d57-469c251e5fb2"
   },
   "outputs": [
    {
     "data": {
      "application/javascript": [
       "\n",
       "    async function download(id, filename, size) {\n",
       "      if (!google.colab.kernel.accessAllowed) {\n",
       "        return;\n",
       "      }\n",
       "      const div = document.createElement('div');\n",
       "      const label = document.createElement('label');\n",
       "      label.textContent = `Downloading \"${filename}\": `;\n",
       "      div.appendChild(label);\n",
       "      const progress = document.createElement('progress');\n",
       "      progress.max = size;\n",
       "      div.appendChild(progress);\n",
       "      document.body.appendChild(div);\n",
       "\n",
       "      const buffers = [];\n",
       "      let downloaded = 0;\n",
       "\n",
       "      const channel = await google.colab.kernel.comms.open(id);\n",
       "      // Send a message to notify the kernel that we're ready.\n",
       "      channel.send({})\n",
       "\n",
       "      for await (const message of channel.messages) {\n",
       "        // Send a message to notify the kernel that we're ready.\n",
       "        channel.send({})\n",
       "        if (message.buffers) {\n",
       "          for (const buffer of message.buffers) {\n",
       "            buffers.push(buffer);\n",
       "            downloaded += buffer.byteLength;\n",
       "            progress.value = downloaded;\n",
       "          }\n",
       "        }\n",
       "      }\n",
       "      const blob = new Blob(buffers, {type: 'application/binary'});\n",
       "      const a = document.createElement('a');\n",
       "      a.href = window.URL.createObjectURL(blob);\n",
       "      a.download = filename;\n",
       "      div.appendChild(a);\n",
       "      a.click();\n",
       "      div.remove();\n",
       "    }\n",
       "  "
      ],
      "text/plain": [
       "<IPython.core.display.Javascript object>"
      ]
     },
     "metadata": {
      "tags": []
     },
     "output_type": "display_data"
    },
    {
     "data": {
      "application/javascript": [
       "download(\"download_5e1245ce-5dc3-4336-a3ae-4b7a95756728\", \"XGBoostModel.pkl\", 70569)"
      ],
      "text/plain": [
       "<IPython.core.display.Javascript object>"
      ]
     },
     "metadata": {
      "tags": []
     },
     "output_type": "display_data"
    }
   ],
   "source": [
    "from google.colab import files\n",
    "files.download(\"XGBoostModel.pkl\")"
   ]
  },
  {
   "cell_type": "code",
   "execution_count": null,
   "metadata": {
    "id": "QuJnvVmZXPvm"
   },
   "outputs": [],
   "source": [
    "from google.colab import files\n",
    "files.download(\"XGmodel_FINAL_submission.csv\")"
   ]
  },
  {
   "cell_type": "code",
   "execution_count": null,
   "metadata": {
    "id": "M5UWBohJla6D"
   },
   "outputs": [],
   "source": []
  }
 ],
 "metadata": {
  "colab": {
   "collapsed_sections": [
    "b7o-q2VoVDo3",
    "sN5-DCdwGCdT"
   ],
   "name": "Regression_model.ipynb",
   "provenance": []
  },
  "kernelspec": {
   "display_name": "Python 3",
   "language": "python",
   "name": "python3"
  },
  "language_info": {
   "codemirror_mode": {
    "name": "ipython",
    "version": 3
   },
   "file_extension": ".py",
   "mimetype": "text/x-python",
   "name": "python",
   "nbconvert_exporter": "python",
   "pygments_lexer": "ipython3",
   "version": "3.7.1"
  }
 },
 "nbformat": 4,
 "nbformat_minor": 1
}

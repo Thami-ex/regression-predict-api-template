{
 "metadata": {
  "language_info": {
   "codemirror_mode": {
    "name": "ipython",
    "version": 3
   },
   "file_extension": ".py",
   "mimetype": "text/x-python",
   "name": "python",
   "nbconvert_exporter": "python",
   "pygments_lexer": "ipython3",
   "version": "3.7.6-final"
  },
  "orig_nbformat": 2,
  "kernelspec": {
   "name": "Python 3.7.6 64-bit ('base': conda)",
   "display_name": "Python 3.7.6 64-bit ('base': conda)",
   "metadata": {
    "interpreter": {
     "hash": "6487249bdb3412a12cb5e11c2b12d7da2302387c98ea70285e3ac6758f707b6e"
    }
   }
  }
 },
 "nbformat": 4,
 "nbformat_minor": 2,
 "cells": [
  {
   "source": [
    "## Importing the libraries ##\n",
    "- We going to use the numpy libraries to use numpy arrays \n",
    "- We going to use pandas to load, merge  and modify our dataset\n",
    "- matplotlib and seaborn libraries are going to be used to plot the model "
   ],
   "cell_type": "markdown",
   "metadata": {}
  },
  {
   "cell_type": "code",
   "execution_count": 1,
   "metadata": {},
   "outputs": [],
   "source": [
    "%matplotlib notebook\n",
    "import numpy as np\n",
    "import pandas as pd\n",
    "import matplotlib.pyplot as plt\n",
    "import seaborn as sns\n",
    "from mpl_toolkits.mplot3d import Axes3D\n",
    "from scipy.stats import pearsonr\n",
    "\n"
   ]
  },
  {
   "source": [
    "## Loading the dataset ##\n",
    "\n",
    "- **Pandas** is used to load the datafiles into our workspace\n",
    "- four datafiles were loaded named Riders, Test,Train as well as VariableDefinitions\n"
   ],
   "cell_type": "markdown",
   "metadata": {}
  },
  {
   "cell_type": "code",
   "execution_count": 2,
   "metadata": {
    "tags": []
   },
   "outputs": [
    {
     "output_type": "stream",
     "name": "stdout",
     "text": "&lt;class &#39;pandas.core.frame.DataFrame&#39;&gt;\nRangeIndex: 21201 entries, 0 to 21200\nData columns (total 29 columns):\n #   Column                                     Non-Null Count  Dtype  \n---  ------                                     --------------  -----  \n 0   Order No                                   21201 non-null  object \n 1   User Id                                    21201 non-null  object \n 2   Vehicle Type                               21201 non-null  object \n 3   Platform Type                              21201 non-null  int64  \n 4   Personal or Business                       21201 non-null  object \n 5   Placement - Day of Month                   21201 non-null  int64  \n 6   Placement - Weekday (Mo = 1)               21201 non-null  int64  \n 7   Placement - Time                           21201 non-null  object \n 8   Confirmation - Day of Month                21201 non-null  int64  \n 9   Confirmation - Weekday (Mo = 1)            21201 non-null  int64  \n 10  Confirmation - Time                        21201 non-null  object \n 11  Arrival at Pickup - Day of Month           21201 non-null  int64  \n 12  Arrival at Pickup - Weekday (Mo = 1)       21201 non-null  int64  \n 13  Arrival at Pickup - Time                   21201 non-null  object \n 14  Pickup - Day of Month                      21201 non-null  int64  \n 15  Pickup - Weekday (Mo = 1)                  21201 non-null  int64  \n 16  Pickup - Time                              21201 non-null  object \n 17  Arrival at Destination - Day of Month      21201 non-null  int64  \n 18  Arrival at Destination - Weekday (Mo = 1)  21201 non-null  int64  \n 19  Arrival at Destination - Time              21201 non-null  object \n 20  Distance (KM)                              21201 non-null  int64  \n 21  Temperature                                21201 non-null  float64\n 22  Precipitation in millimeters               21201 non-null  float64\n 23  Pickup Lat                                 21201 non-null  float64\n 24  Pickup Long                                21201 non-null  float64\n 25  Destination Lat                            21201 non-null  float64\n 26  Destination Long                           21201 non-null  float64\n 27  Rider Id                                   21201 non-null  object \n 28  Time from Pickup to Arrival                21201 non-null  int64  \ndtypes: float64(6), int64(13), object(10)\nmemory usage: 4.7+ MB\n"
    }
   ],
   "source": [
    "riders = pd.read_csv(\"./regression data/Riders.csv\")\n",
    "test = pd.read_csv(\"./regression data/Test.csv\")\n",
    "train = pd.read_csv(\"./regression data/Train.csv\")\n",
    "variableDefinitions= pd.read_csv(\"./regression data/VariableDefinitions.csv\")\n",
    "\n",
    "# flling in missing data\n",
    "\n",
    "train['Temperature'] = train['Temperature'].fillna( train['Temperature'].mean())\n",
    "train = train.fillna(0)\n",
    "\n",
    "test['Temperature'] = test['Temperature'].fillna(test['Temperature'].mean())\n",
    "test = test.fillna(0)\n",
    "\n",
    "\n",
    "\n",
    "train.info()\n"
   ]
  },
  {
   "source": [
    "## Data Preprocessing ##\n",
    " - Some columns needs to dropped\n",
    " - train test and riders needs to be merged \n",
    " - nulls values needs to be dealt with"
   ],
   "cell_type": "markdown",
   "metadata": {}
  },
  {
   "cell_type": "code",
   "execution_count": 3,
   "metadata": {},
   "outputs": [
    {
     "output_type": "execute_result",
     "data": {
      "text/plain": "         Order No       User Id Vehicle Type  Platform Type  \\\n0   Order_No_4211   User_Id_633         Bike              3   \n1  Order_No_25375  User_Id_2285         Bike              3   \n2   Order_No_1899   User_Id_265         Bike              3   \n3   Order_No_9336  User_Id_1402         Bike              3   \n4  Order_No_27883  User_Id_1737         Bike              1   \n\n  Personal or Business  Placement - Day of Month  \\\n0             Business                         9   \n1             Personal                        12   \n2             Business                        30   \n3             Business                        15   \n4             Personal                        13   \n\n   Placement - Weekday (Mo = 1) Placement - Time  Confirmation - Day of Month  \\\n0                             5       9:35:46 AM                            9   \n1                             5      11:16:16 AM                           12   \n2                             2      12:39:25 PM                           30   \n3                             5       9:25:34 AM                           15   \n4                             1       9:55:18 AM                           13   \n\n   Confirmation - Weekday (Mo = 1)  ... Pickup - Time  Distance (KM)  \\\n0                                5  ...   10:27:30 AM              4   \n1                                5  ...   11:44:09 AM             16   \n2                                2  ...   12:53:03 PM              3   \n3                                5  ...    9:43:06 AM              9   \n4                                1  ...   10:05:23 AM              9   \n\n   Temperature Precipitation in millimeters  Pickup Lat  Pickup Long  \\\n0    20.400000                          0.0   -1.317755    36.830370   \n1    26.400000                          0.0   -1.351453    36.899315   \n2    23.258889                          0.0   -1.308284    36.843419   \n3    19.200000                          0.0   -1.281301    36.832396   \n4    15.400000                          0.0   -1.266597    36.792118   \n\n  Destination Lat  Destination Long      Rider Id  Time from Pickup to Arrival  \n0       -1.300406         36.829741  Rider_Id_432                          745  \n1       -1.295004         36.814358  Rider_Id_856                         1993  \n2       -1.300921         36.828195  Rider_Id_155                          455  \n3       -1.257147         36.795063  Rider_Id_855                         1341  \n4       -1.295041         36.809817  Rider_Id_770                         1214  \n\n[5 rows x 26 columns]",
      "text/html": "<div>\n<style scoped>\n    .dataframe tbody tr th:only-of-type {\n        vertical-align: middle;\n    }\n\n    .dataframe tbody tr th {\n        vertical-align: top;\n    }\n\n    .dataframe thead th {\n        text-align: right;\n    }\n</style>\n<table border=\"1\" class=\"dataframe\">\n  <thead>\n    <tr style=\"text-align: right;\">\n      <th></th>\n      <th>Order No</th>\n      <th>User Id</th>\n      <th>Vehicle Type</th>\n      <th>Platform Type</th>\n      <th>Personal or Business</th>\n      <th>Placement - Day of Month</th>\n      <th>Placement - Weekday (Mo = 1)</th>\n      <th>Placement - Time</th>\n      <th>Confirmation - Day of Month</th>\n      <th>Confirmation - Weekday (Mo = 1)</th>\n      <th>...</th>\n      <th>Pickup - Time</th>\n      <th>Distance (KM)</th>\n      <th>Temperature</th>\n      <th>Precipitation in millimeters</th>\n      <th>Pickup Lat</th>\n      <th>Pickup Long</th>\n      <th>Destination Lat</th>\n      <th>Destination Long</th>\n      <th>Rider Id</th>\n      <th>Time from Pickup to Arrival</th>\n    </tr>\n  </thead>\n  <tbody>\n    <tr>\n      <th>0</th>\n      <td>Order_No_4211</td>\n      <td>User_Id_633</td>\n      <td>Bike</td>\n      <td>3</td>\n      <td>Business</td>\n      <td>9</td>\n      <td>5</td>\n      <td>9:35:46 AM</td>\n      <td>9</td>\n      <td>5</td>\n      <td>...</td>\n      <td>10:27:30 AM</td>\n      <td>4</td>\n      <td>20.400000</td>\n      <td>0.0</td>\n      <td>-1.317755</td>\n      <td>36.830370</td>\n      <td>-1.300406</td>\n      <td>36.829741</td>\n      <td>Rider_Id_432</td>\n      <td>745</td>\n    </tr>\n    <tr>\n      <th>1</th>\n      <td>Order_No_25375</td>\n      <td>User_Id_2285</td>\n      <td>Bike</td>\n      <td>3</td>\n      <td>Personal</td>\n      <td>12</td>\n      <td>5</td>\n      <td>11:16:16 AM</td>\n      <td>12</td>\n      <td>5</td>\n      <td>...</td>\n      <td>11:44:09 AM</td>\n      <td>16</td>\n      <td>26.400000</td>\n      <td>0.0</td>\n      <td>-1.351453</td>\n      <td>36.899315</td>\n      <td>-1.295004</td>\n      <td>36.814358</td>\n      <td>Rider_Id_856</td>\n      <td>1993</td>\n    </tr>\n    <tr>\n      <th>2</th>\n      <td>Order_No_1899</td>\n      <td>User_Id_265</td>\n      <td>Bike</td>\n      <td>3</td>\n      <td>Business</td>\n      <td>30</td>\n      <td>2</td>\n      <td>12:39:25 PM</td>\n      <td>30</td>\n      <td>2</td>\n      <td>...</td>\n      <td>12:53:03 PM</td>\n      <td>3</td>\n      <td>23.258889</td>\n      <td>0.0</td>\n      <td>-1.308284</td>\n      <td>36.843419</td>\n      <td>-1.300921</td>\n      <td>36.828195</td>\n      <td>Rider_Id_155</td>\n      <td>455</td>\n    </tr>\n    <tr>\n      <th>3</th>\n      <td>Order_No_9336</td>\n      <td>User_Id_1402</td>\n      <td>Bike</td>\n      <td>3</td>\n      <td>Business</td>\n      <td>15</td>\n      <td>5</td>\n      <td>9:25:34 AM</td>\n      <td>15</td>\n      <td>5</td>\n      <td>...</td>\n      <td>9:43:06 AM</td>\n      <td>9</td>\n      <td>19.200000</td>\n      <td>0.0</td>\n      <td>-1.281301</td>\n      <td>36.832396</td>\n      <td>-1.257147</td>\n      <td>36.795063</td>\n      <td>Rider_Id_855</td>\n      <td>1341</td>\n    </tr>\n    <tr>\n      <th>4</th>\n      <td>Order_No_27883</td>\n      <td>User_Id_1737</td>\n      <td>Bike</td>\n      <td>1</td>\n      <td>Personal</td>\n      <td>13</td>\n      <td>1</td>\n      <td>9:55:18 AM</td>\n      <td>13</td>\n      <td>1</td>\n      <td>...</td>\n      <td>10:05:23 AM</td>\n      <td>9</td>\n      <td>15.400000</td>\n      <td>0.0</td>\n      <td>-1.266597</td>\n      <td>36.792118</td>\n      <td>-1.295041</td>\n      <td>36.809817</td>\n      <td>Rider_Id_770</td>\n      <td>1214</td>\n    </tr>\n  </tbody>\n</table>\n<p>5 rows × 26 columns</p>\n</div>"
     },
     "metadata": {},
     "execution_count": 3
    }
   ],
   "source": [
    "# Cleaning the data\n",
    "\n",
    "\n",
    "# Allignment of Dataset\n",
    "\n",
    "train = train[['Order No', 'User Id', 'Vehicle Type', 'Platform Type',\n",
    "       'Personal or Business', 'Placement - Day of Month',\n",
    "       'Placement - Weekday (Mo = 1)', 'Placement - Time',\n",
    "       'Confirmation - Day of Month', 'Confirmation - Weekday (Mo = 1)',\n",
    "       'Confirmation - Time', 'Arrival at Pickup - Day of Month',\n",
    "       'Arrival at Pickup - Weekday (Mo = 1)', 'Arrival at Pickup - Time',\n",
    "       'Pickup - Day of Month', 'Pickup - Weekday (Mo = 1)', 'Pickup - Time',\n",
    "       'Distance (KM)', 'Temperature', 'Precipitation in millimeters',\n",
    "       'Pickup Lat', 'Pickup Long', 'Destination Lat', 'Destination Long',\n",
    "       'Rider Id','Time from Pickup to Arrival']]\n",
    "       \n",
    "\n",
    "\n",
    "# check which data type we are dealing with\n",
    "train.dtypes \n",
    "test.dtypes\n",
    "\n",
    "\n",
    "\n",
    "train.head()\n",
    "    \n",
    "\n",
    "\n",
    "\n",
    "\n",
    "\n"
   ]
  },
  {
   "source": [
    "## Variable Selection by correlation and significance ##\n",
    "\n",
    "- We have more predictor variables to choose from, so we need a way of guiding us to choose the best ones to be our predictors. One way is to look at the correlations between the Time from Pickup to Arrival and each variables in our DataFrame and select those with the strongest correlations (both positive and negative).\n",
    "\n",
    "- We also need to consider how significant those features are.\n",
    "\n",
    "- The code below will create a new DataFrame and store the correlation coefficents and p-values in that DataFrame"
   ],
   "cell_type": "markdown",
   "metadata": {}
  },
  {
   "cell_type": "code",
   "execution_count": 5,
   "metadata": {},
   "outputs": [
    {
     "output_type": "execute_result",
     "data": {
      "text/plain": "Time from Pickup to Arrival             1.000000\nDistance (KM)                           0.580608\nDestination Long                        0.070425\nPickup Long                             0.060285\nConfirmation - Weekday (Mo = 1)         0.009744\nArrival at Pickup - Weekday (Mo = 1)    0.009744\nPickup - Weekday (Mo = 1)               0.009744\nPlacement - Weekday (Mo = 1)            0.009693\nTemperature                             0.005772\nPrecipitation in millimeters            0.005495\nPlatform Type                          -0.003827\nPickup - Day of Month                  -0.014701\nArrival at Pickup - Day of Month       -0.014701\nConfirmation - Day of Month            -0.014701\nPlacement - Day of Month               -0.014710\nPickup Lat                             -0.053823\nDestination Lat                        -0.061872\nName: Time from Pickup to Arrival, dtype: float64"
     },
     "metadata": {},
     "execution_count": 5
    }
   ],
   "source": [
    "# Calculate correlations between predictor variables and the response variable\n",
    "corrs = train.corr()['Time from Pickup to Arrival'].sort_values(ascending=False)\n",
    "corrs"
   ]
  },
  {
   "cell_type": "code",
   "execution_count": 6,
   "metadata": {},
   "outputs": [
    {
     "output_type": "execute_result",
     "data": {
      "text/plain": "                                  Correlation_Coefficient   P_Value\nDistance (KM)                                    0.580608  0.000000\nDestination Long                                 0.070425  0.000000\nPickup Long                                      0.060285  0.000000\nPickup Lat                                      -0.053823  0.000000\nDestination Lat                                 -0.061872  0.000000\nPlacement - Day of Month                        -0.014710  0.032205\nPickup - Day of Month                           -0.014701  0.032312\nArrival at Pickup - Day of Month                -0.014701  0.032312\nConfirmation - Day of Month                     -0.014701  0.032312",
      "text/html": "<div>\n<style scoped>\n    .dataframe tbody tr th:only-of-type {\n        vertical-align: middle;\n    }\n\n    .dataframe tbody tr th {\n        vertical-align: top;\n    }\n\n    .dataframe thead th {\n        text-align: right;\n    }\n</style>\n<table border=\"1\" class=\"dataframe\">\n  <thead>\n    <tr style=\"text-align: right;\">\n      <th></th>\n      <th>Correlation_Coefficient</th>\n      <th>P_Value</th>\n    </tr>\n  </thead>\n  <tbody>\n    <tr>\n      <th>Distance (KM)</th>\n      <td>0.580608</td>\n      <td>0.000000</td>\n    </tr>\n    <tr>\n      <th>Destination Long</th>\n      <td>0.070425</td>\n      <td>0.000000</td>\n    </tr>\n    <tr>\n      <th>Pickup Long</th>\n      <td>0.060285</td>\n      <td>0.000000</td>\n    </tr>\n    <tr>\n      <th>Pickup Lat</th>\n      <td>-0.053823</td>\n      <td>0.000000</td>\n    </tr>\n    <tr>\n      <th>Destination Lat</th>\n      <td>-0.061872</td>\n      <td>0.000000</td>\n    </tr>\n    <tr>\n      <th>Placement - Day of Month</th>\n      <td>-0.014710</td>\n      <td>0.032205</td>\n    </tr>\n    <tr>\n      <th>Pickup - Day of Month</th>\n      <td>-0.014701</td>\n      <td>0.032312</td>\n    </tr>\n    <tr>\n      <th>Arrival at Pickup - Day of Month</th>\n      <td>-0.014701</td>\n      <td>0.032312</td>\n    </tr>\n    <tr>\n      <th>Confirmation - Day of Month</th>\n      <td>-0.014701</td>\n      <td>0.032312</td>\n    </tr>\n  </tbody>\n</table>\n</div>"
     },
     "metadata": {},
     "execution_count": 6
    }
   ],
   "source": [
    "\n",
    "# Build a dictionary of correlation coefficients and p-values\n",
    "dict_cp = {}\n",
    "\n",
    "column_titles = [col for col in corrs.index if col!= 'Time from Pickup to Arrival']\n",
    "for col in column_titles:\n",
    "    p_val = round(pearsonr(train[col], train['Time from Pickup to Arrival'])[1],6)\n",
    "    dict_cp[col] = {'Correlation_Coefficient':corrs[col],\n",
    "                    'P_Value':p_val}\n",
    "\n",
    "df_cp = pd.DataFrame(dict_cp).T\n",
    "df_cp_sorted = df_cp.sort_values('P_Value')\n",
    "df_cp_sorted[df_cp_sorted['P_Value']<0.1]"
   ]
  },
  {
   "cell_type": "code",
   "execution_count": 7,
   "metadata": {},
   "outputs": [
    {
     "output_type": "execute_result",
     "data": {
      "text/plain": "         Order No  Platform Type Personal or Business  \\\n0   Order_No_4211              3             Business   \n1  Order_No_25375              3             Personal   \n2   Order_No_1899              3             Business   \n3   Order_No_9336              3             Business   \n4  Order_No_27883              1             Personal   \n\n   Placement - Day of Month Placement - Time Arrival at Pickup - Time  \\\n0                         9       9:35:46 AM              10:04:47 AM   \n1                        12      11:16:16 AM              11:40:22 AM   \n2                        30      12:39:25 PM              12:49:34 PM   \n3                        15       9:25:34 AM               9:37:56 AM   \n4                        13       9:55:18 AM              10:03:53 AM   \n\n  Pickup - Time  Distance (KM)  Temperature  Precipitation in millimeters  \\\n0   10:27:30 AM              4    20.400000                           0.0   \n1   11:44:09 AM             16    26.400000                           0.0   \n2   12:53:03 PM              3    23.258889                           0.0   \n3    9:43:06 AM              9    19.200000                           0.0   \n4   10:05:23 AM              9    15.400000                           0.0   \n\n   Pickup Lat  Pickup Long  Destination Lat  Destination Long  \\\n0   -1.317755    36.830370        -1.300406         36.829741   \n1   -1.351453    36.899315        -1.295004         36.814358   \n2   -1.308284    36.843419        -1.300921         36.828195   \n3   -1.281301    36.832396        -1.257147         36.795063   \n4   -1.266597    36.792118        -1.295041         36.809817   \n\n   Time from Pickup to Arrival  \n0                          745  \n1                         1993  \n2                          455  \n3                         1341  \n4                         1214  ",
      "text/html": "<div>\n<style scoped>\n    .dataframe tbody tr th:only-of-type {\n        vertical-align: middle;\n    }\n\n    .dataframe tbody tr th {\n        vertical-align: top;\n    }\n\n    .dataframe thead th {\n        text-align: right;\n    }\n</style>\n<table border=\"1\" class=\"dataframe\">\n  <thead>\n    <tr style=\"text-align: right;\">\n      <th></th>\n      <th>Order No</th>\n      <th>Platform Type</th>\n      <th>Personal or Business</th>\n      <th>Placement - Day of Month</th>\n      <th>Placement - Time</th>\n      <th>Arrival at Pickup - Time</th>\n      <th>Pickup - Time</th>\n      <th>Distance (KM)</th>\n      <th>Temperature</th>\n      <th>Precipitation in millimeters</th>\n      <th>Pickup Lat</th>\n      <th>Pickup Long</th>\n      <th>Destination Lat</th>\n      <th>Destination Long</th>\n      <th>Time from Pickup to Arrival</th>\n    </tr>\n  </thead>\n  <tbody>\n    <tr>\n      <th>0</th>\n      <td>Order_No_4211</td>\n      <td>3</td>\n      <td>Business</td>\n      <td>9</td>\n      <td>9:35:46 AM</td>\n      <td>10:04:47 AM</td>\n      <td>10:27:30 AM</td>\n      <td>4</td>\n      <td>20.400000</td>\n      <td>0.0</td>\n      <td>-1.317755</td>\n      <td>36.830370</td>\n      <td>-1.300406</td>\n      <td>36.829741</td>\n      <td>745</td>\n    </tr>\n    <tr>\n      <th>1</th>\n      <td>Order_No_25375</td>\n      <td>3</td>\n      <td>Personal</td>\n      <td>12</td>\n      <td>11:16:16 AM</td>\n      <td>11:40:22 AM</td>\n      <td>11:44:09 AM</td>\n      <td>16</td>\n      <td>26.400000</td>\n      <td>0.0</td>\n      <td>-1.351453</td>\n      <td>36.899315</td>\n      <td>-1.295004</td>\n      <td>36.814358</td>\n      <td>1993</td>\n    </tr>\n    <tr>\n      <th>2</th>\n      <td>Order_No_1899</td>\n      <td>3</td>\n      <td>Business</td>\n      <td>30</td>\n      <td>12:39:25 PM</td>\n      <td>12:49:34 PM</td>\n      <td>12:53:03 PM</td>\n      <td>3</td>\n      <td>23.258889</td>\n      <td>0.0</td>\n      <td>-1.308284</td>\n      <td>36.843419</td>\n      <td>-1.300921</td>\n      <td>36.828195</td>\n      <td>455</td>\n    </tr>\n    <tr>\n      <th>3</th>\n      <td>Order_No_9336</td>\n      <td>3</td>\n      <td>Business</td>\n      <td>15</td>\n      <td>9:25:34 AM</td>\n      <td>9:37:56 AM</td>\n      <td>9:43:06 AM</td>\n      <td>9</td>\n      <td>19.200000</td>\n      <td>0.0</td>\n      <td>-1.281301</td>\n      <td>36.832396</td>\n      <td>-1.257147</td>\n      <td>36.795063</td>\n      <td>1341</td>\n    </tr>\n    <tr>\n      <th>4</th>\n      <td>Order_No_27883</td>\n      <td>1</td>\n      <td>Personal</td>\n      <td>13</td>\n      <td>9:55:18 AM</td>\n      <td>10:03:53 AM</td>\n      <td>10:05:23 AM</td>\n      <td>9</td>\n      <td>15.400000</td>\n      <td>0.0</td>\n      <td>-1.266597</td>\n      <td>36.792118</td>\n      <td>-1.295041</td>\n      <td>36.809817</td>\n      <td>1214</td>\n    </tr>\n  </tbody>\n</table>\n</div>"
     },
     "metadata": {},
     "execution_count": 7
    }
   ],
   "source": [
    "\n",
    "#dropping highly correlated predictors and the ones that were not selected above\n",
    "train = train.drop(['Placement - Weekday (Mo = 1)', 'Placement - Weekday (Mo = 1)','Confirmation - Day of Month','Confirmation - Weekday (Mo = 1)','Arrival at Pickup - Day of Month','Arrival at Pickup - Weekday (Mo = 1)','Pickup - Day of Month','Pickup - Weekday (Mo = 1)'], axis = 1)\n",
    "\n",
    "test = test.drop(['Placement - Weekday (Mo = 1)', 'Placement - Weekday (Mo = 1)','Confirmation - Day of Month','Confirmation - Weekday (Mo = 1)','Arrival at Pickup - Day of Month','Arrival at Pickup - Weekday (Mo = 1)','Pickup - Day of Month','Pickup - Weekday (Mo = 1)'], axis = 1)\n",
    "\n",
    "\n",
    "#dropping the irrelevant columns \n",
    "train = train.drop(['User Id','Vehicle Type','Rider Id', 'Confirmation - Time', ], axis = 1)\n",
    "\n",
    "test = test.drop(['User Id','Vehicle Type','Rider Id', 'Confirmation - Time'], axis = 1)\n",
    "\n",
    "\n",
    "train.head()\n",
    "\n"
   ]
  },
  {
   "source": [
    "\n",
    "## Encoding the categorical data ##\n",
    " - Bussiness column needs to be encoded into dummy variables  so i can be of type int \n"
   ],
   "cell_type": "markdown",
   "metadata": {}
  },
  {
   "cell_type": "code",
   "execution_count": 8,
   "metadata": {},
   "outputs": [
    {
     "output_type": "execute_result",
     "data": {
      "text/plain": "   Platform Type  Placement - Day of Month  Distance (KM)  Temperature  \\\n0              3                         9              4    20.400000   \n1              3                        12             16    26.400000   \n2              3                        30              3    23.258889   \n3              3                        15              9    19.200000   \n4              1                        13              9    15.400000   \n\n   Precipitation in millimeters  Pickup Lat  Pickup Long  Destination Lat  \\\n0                           0.0   -1.317755    36.830370        -1.300406   \n1                           0.0   -1.351453    36.899315        -1.295004   \n2                           0.0   -1.308284    36.843419        -1.300921   \n3                           0.0   -1.281301    36.832396        -1.257147   \n4                           0.0   -1.266597    36.792118        -1.295041   \n\n   Destination Long  Time from Pickup to Arrival  ...  \\\n0         36.829741                          745  ...   \n1         36.814358                         1993  ...   \n2         36.828195                          455  ...   \n3         36.795063                         1341  ...   \n4         36.809817                         1214  ...   \n\n   Pickup - Time_9:59:38 AM  Pickup - Time_9:59:39 AM  \\\n0                         0                         0   \n1                         0                         0   \n2                         0                         0   \n3                         0                         0   \n4                         0                         0   \n\n   Pickup - Time_9:59:42 AM  Pickup - Time_9:59:46 AM  \\\n0                         0                         0   \n1                         0                         0   \n2                         0                         0   \n3                         0                         0   \n4                         0                         0   \n\n   Pickup - Time_9:59:48 AM  Pickup - Time_9:59:51 AM  \\\n0                         0                         0   \n1                         0                         0   \n2                         0                         0   \n3                         0                         0   \n4                         0                         0   \n\n   Pickup - Time_9:59:52 AM  Pickup - Time_9:59:53 AM  \\\n0                         0                         0   \n1                         0                         0   \n2                         0                         0   \n3                         0                         0   \n4                         0                         0   \n\n   Pickup - Time_9:59:57 AM  Pickup - Time_9:59:59 AM  \n0                         0                         0  \n1                         0                         0  \n2                         0                         0  \n3                         0                         0  \n4                         0                         0  \n\n[5 rows x 68356 columns]",
      "text/html": "<div>\n<style scoped>\n    .dataframe tbody tr th:only-of-type {\n        vertical-align: middle;\n    }\n\n    .dataframe tbody tr th {\n        vertical-align: top;\n    }\n\n    .dataframe thead th {\n        text-align: right;\n    }\n</style>\n<table border=\"1\" class=\"dataframe\">\n  <thead>\n    <tr style=\"text-align: right;\">\n      <th></th>\n      <th>Platform Type</th>\n      <th>Placement - Day of Month</th>\n      <th>Distance (KM)</th>\n      <th>Temperature</th>\n      <th>Precipitation in millimeters</th>\n      <th>Pickup Lat</th>\n      <th>Pickup Long</th>\n      <th>Destination Lat</th>\n      <th>Destination Long</th>\n      <th>Time from Pickup to Arrival</th>\n      <th>...</th>\n      <th>Pickup - Time_9:59:38 AM</th>\n      <th>Pickup - Time_9:59:39 AM</th>\n      <th>Pickup - Time_9:59:42 AM</th>\n      <th>Pickup - Time_9:59:46 AM</th>\n      <th>Pickup - Time_9:59:48 AM</th>\n      <th>Pickup - Time_9:59:51 AM</th>\n      <th>Pickup - Time_9:59:52 AM</th>\n      <th>Pickup - Time_9:59:53 AM</th>\n      <th>Pickup - Time_9:59:57 AM</th>\n      <th>Pickup - Time_9:59:59 AM</th>\n    </tr>\n  </thead>\n  <tbody>\n    <tr>\n      <th>0</th>\n      <td>3</td>\n      <td>9</td>\n      <td>4</td>\n      <td>20.400000</td>\n      <td>0.0</td>\n      <td>-1.317755</td>\n      <td>36.830370</td>\n      <td>-1.300406</td>\n      <td>36.829741</td>\n      <td>745</td>\n      <td>...</td>\n      <td>0</td>\n      <td>0</td>\n      <td>0</td>\n      <td>0</td>\n      <td>0</td>\n      <td>0</td>\n      <td>0</td>\n      <td>0</td>\n      <td>0</td>\n      <td>0</td>\n    </tr>\n    <tr>\n      <th>1</th>\n      <td>3</td>\n      <td>12</td>\n      <td>16</td>\n      <td>26.400000</td>\n      <td>0.0</td>\n      <td>-1.351453</td>\n      <td>36.899315</td>\n      <td>-1.295004</td>\n      <td>36.814358</td>\n      <td>1993</td>\n      <td>...</td>\n      <td>0</td>\n      <td>0</td>\n      <td>0</td>\n      <td>0</td>\n      <td>0</td>\n      <td>0</td>\n      <td>0</td>\n      <td>0</td>\n      <td>0</td>\n      <td>0</td>\n    </tr>\n    <tr>\n      <th>2</th>\n      <td>3</td>\n      <td>30</td>\n      <td>3</td>\n      <td>23.258889</td>\n      <td>0.0</td>\n      <td>-1.308284</td>\n      <td>36.843419</td>\n      <td>-1.300921</td>\n      <td>36.828195</td>\n      <td>455</td>\n      <td>...</td>\n      <td>0</td>\n      <td>0</td>\n      <td>0</td>\n      <td>0</td>\n      <td>0</td>\n      <td>0</td>\n      <td>0</td>\n      <td>0</td>\n      <td>0</td>\n      <td>0</td>\n    </tr>\n    <tr>\n      <th>3</th>\n      <td>3</td>\n      <td>15</td>\n      <td>9</td>\n      <td>19.200000</td>\n      <td>0.0</td>\n      <td>-1.281301</td>\n      <td>36.832396</td>\n      <td>-1.257147</td>\n      <td>36.795063</td>\n      <td>1341</td>\n      <td>...</td>\n      <td>0</td>\n      <td>0</td>\n      <td>0</td>\n      <td>0</td>\n      <td>0</td>\n      <td>0</td>\n      <td>0</td>\n      <td>0</td>\n      <td>0</td>\n      <td>0</td>\n    </tr>\n    <tr>\n      <th>4</th>\n      <td>1</td>\n      <td>13</td>\n      <td>9</td>\n      <td>15.400000</td>\n      <td>0.0</td>\n      <td>-1.266597</td>\n      <td>36.792118</td>\n      <td>-1.295041</td>\n      <td>36.809817</td>\n      <td>1214</td>\n      <td>...</td>\n      <td>0</td>\n      <td>0</td>\n      <td>0</td>\n      <td>0</td>\n      <td>0</td>\n      <td>0</td>\n      <td>0</td>\n      <td>0</td>\n      <td>0</td>\n      <td>0</td>\n    </tr>\n  </tbody>\n</table>\n<p>5 rows × 68356 columns</p>\n</div>"
     },
     "metadata": {},
     "execution_count": 8
    }
   ],
   "source": [
    "\n",
    "test = pd.get_dummies(test)\n",
    "train = pd.get_dummies(train)\n",
    "\n",
    "train.head()"
   ]
  },
  {
   "source": [
    "## Feature Scaling ##"
   ],
   "cell_type": "markdown",
   "metadata": {}
  },
  {
   "cell_type": "code",
   "execution_count": null,
   "metadata": {},
   "outputs": [],
   "source": []
  },
  {
   "source": [
    "## Creating y and x metrics ##"
   ],
   "cell_type": "markdown",
   "metadata": {}
  },
  {
   "cell_type": "code",
   "execution_count": null,
   "metadata": {},
   "outputs": [],
   "source": []
  },
  {
   "source": [
    "## Spliting Data into the training and the test set ##"
   ],
   "cell_type": "markdown",
   "metadata": {}
  },
  {
   "cell_type": "code",
   "execution_count": null,
   "metadata": {},
   "outputs": [],
   "source": []
  },
  {
   "source": [
    "## Fitting the multivariate Regression model ##"
   ],
   "cell_type": "markdown",
   "metadata": {}
  },
  {
   "cell_type": "code",
   "execution_count": null,
   "metadata": {},
   "outputs": [],
   "source": []
  },
  {
   "source": [
    "## Assesing model accuracy ##"
   ],
   "cell_type": "markdown",
   "metadata": {}
  },
  {
   "cell_type": "code",
   "execution_count": null,
   "metadata": {},
   "outputs": [],
   "source": []
  },
  {
   "cell_type": "code",
   "execution_count": null,
   "metadata": {},
   "outputs": [],
   "source": []
  }
 ]
}
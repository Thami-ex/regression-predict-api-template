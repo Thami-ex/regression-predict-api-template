{
 "metadata": {
  "language_info": {
   "codemirror_mode": {
    "name": "ipython",
    "version": 3
   },
   "file_extension": ".py",
   "mimetype": "text/x-python",
   "name": "python",
   "nbconvert_exporter": "python",
   "pygments_lexer": "ipython3",
   "version": "3.7.6-final"
  },
  "orig_nbformat": 2,
  "kernelspec": {
   "name": "Python 3.7.6 64-bit ('base': conda)",
   "display_name": "Python 3.7.6 64-bit ('base': conda)",
   "metadata": {
    "interpreter": {
     "hash": "6487249bdb3412a12cb5e11c2b12d7da2302387c98ea70285e3ac6758f707b6e"
    }
   }
  }
 },
 "nbformat": 4,
 "nbformat_minor": 2,
 "cells": [
  {
   "source": [
    "## Importing the libraries ##\n",
    "- We going to use the numpy libraries to use numpy arrays \n",
    "- We going to use pandas to load, merge  and modify our dataset\n",
    "- matplotlib and seaborn libraries are going to be used to plot the model "
   ],
   "cell_type": "markdown",
   "metadata": {}
  },
  {
   "cell_type": "code",
   "execution_count": 7,
   "metadata": {},
   "outputs": [],
   "source": [
    "%matplotlib notebook\n",
    "import numpy as np\n",
    "import pandas as pd\n",
    "import matplotlib.pyplot as plt\n",
    "import seaborn as sns\n",
    "from mpl_toolkits.mplot3d import Axes3D\n",
    "\n"
   ]
  },
  {
   "source": [
    "## Loading the dataset ##\n",
    "\n",
    "- **Pandas** is used to load the datafiles into our workspace\n",
    "- four datafiles were loaded named Riders, Test,Train as well as VariableDefinitions\n"
   ],
   "cell_type": "markdown",
   "metadata": {}
  },
  {
   "cell_type": "code",
   "execution_count": 2,
   "metadata": {},
   "outputs": [
    {
     "output_type": "execute_result",
     "data": {
      "text/plain": "         Order No       User Id Vehicle Type  Platform Type  \\\n0   Order_No_4211   User_Id_633         Bike              3   \n1  Order_No_25375  User_Id_2285         Bike              3   \n\n  Personal or Business  Placement - Day of Month  \\\n0             Business                         9   \n1             Personal                        12   \n\n   Placement - Weekday (Mo = 1) Placement - Time  Confirmation - Day of Month  \\\n0                             5       9:35:46 AM                            9   \n1                             5      11:16:16 AM                           12   \n\n   Confirmation - Weekday (Mo = 1)  ... Arrival at Destination - Time  \\\n0                                5  ...                   10:39:55 AM   \n1                                5  ...                   12:17:22 PM   \n\n   Distance (KM)  Temperature Precipitation in millimeters  Pickup Lat  \\\n0              4         20.4                          NaN   -1.317755   \n1             16         26.4                          NaN   -1.351453   \n\n   Pickup Long Destination Lat  Destination Long      Rider Id  \\\n0    36.830370       -1.300406         36.829741  Rider_Id_432   \n1    36.899315       -1.295004         36.814358  Rider_Id_856   \n\n  Time from Pickup to Arrival  \n0                         745  \n1                        1993  \n\n[2 rows x 29 columns]",
      "text/html": "<div>\n<style scoped>\n    .dataframe tbody tr th:only-of-type {\n        vertical-align: middle;\n    }\n\n    .dataframe tbody tr th {\n        vertical-align: top;\n    }\n\n    .dataframe thead th {\n        text-align: right;\n    }\n</style>\n<table border=\"1\" class=\"dataframe\">\n  <thead>\n    <tr style=\"text-align: right;\">\n      <th></th>\n      <th>Order No</th>\n      <th>User Id</th>\n      <th>Vehicle Type</th>\n      <th>Platform Type</th>\n      <th>Personal or Business</th>\n      <th>Placement - Day of Month</th>\n      <th>Placement - Weekday (Mo = 1)</th>\n      <th>Placement - Time</th>\n      <th>Confirmation - Day of Month</th>\n      <th>Confirmation - Weekday (Mo = 1)</th>\n      <th>...</th>\n      <th>Arrival at Destination - Time</th>\n      <th>Distance (KM)</th>\n      <th>Temperature</th>\n      <th>Precipitation in millimeters</th>\n      <th>Pickup Lat</th>\n      <th>Pickup Long</th>\n      <th>Destination Lat</th>\n      <th>Destination Long</th>\n      <th>Rider Id</th>\n      <th>Time from Pickup to Arrival</th>\n    </tr>\n  </thead>\n  <tbody>\n    <tr>\n      <th>0</th>\n      <td>Order_No_4211</td>\n      <td>User_Id_633</td>\n      <td>Bike</td>\n      <td>3</td>\n      <td>Business</td>\n      <td>9</td>\n      <td>5</td>\n      <td>9:35:46 AM</td>\n      <td>9</td>\n      <td>5</td>\n      <td>...</td>\n      <td>10:39:55 AM</td>\n      <td>4</td>\n      <td>20.4</td>\n      <td>NaN</td>\n      <td>-1.317755</td>\n      <td>36.830370</td>\n      <td>-1.300406</td>\n      <td>36.829741</td>\n      <td>Rider_Id_432</td>\n      <td>745</td>\n    </tr>\n    <tr>\n      <th>1</th>\n      <td>Order_No_25375</td>\n      <td>User_Id_2285</td>\n      <td>Bike</td>\n      <td>3</td>\n      <td>Personal</td>\n      <td>12</td>\n      <td>5</td>\n      <td>11:16:16 AM</td>\n      <td>12</td>\n      <td>5</td>\n      <td>...</td>\n      <td>12:17:22 PM</td>\n      <td>16</td>\n      <td>26.4</td>\n      <td>NaN</td>\n      <td>-1.351453</td>\n      <td>36.899315</td>\n      <td>-1.295004</td>\n      <td>36.814358</td>\n      <td>Rider_Id_856</td>\n      <td>1993</td>\n    </tr>\n  </tbody>\n</table>\n<p>2 rows × 29 columns</p>\n</div>"
     },
     "metadata": {},
     "execution_count": 2
    }
   ],
   "source": [
    "riders = pd.read_csv(\"./regression data/Riders.csv\")\n",
    "test = pd.read_csv(\"./regression data/Test.csv\")\n",
    "train = pd.read_csv(\"./regression data/Train.csv\")\n",
    "variableDefinitions= pd.read_csv(\"./regression data/VariableDefinitions.csv\")\n",
    "\n",
    "\n",
    "\n",
    "train.head(2)"
   ]
  },
  {
   "source": [
    "## Data Preprocessing ##\n",
    " - Some columns needs to dropped\n",
    " - train test and riders needs to be merged \n",
    " - nulls values needs to be dealt with"
   ],
   "cell_type": "markdown",
   "metadata": {}
  },
  {
   "cell_type": "code",
   "execution_count": 3,
   "metadata": {},
   "outputs": [
    {
     "output_type": "execute_result",
     "data": {
      "text/plain": "         Order No       User Id Vehicle Type  Platform Type  \\\n0   Order_No_4211   User_Id_633         Bike              3   \n1  Order_No_25375  User_Id_2285         Bike              3   \n2   Order_No_1899   User_Id_265         Bike              3   \n3   Order_No_9336  User_Id_1402         Bike              3   \n4  Order_No_27883  User_Id_1737         Bike              1   \n\n  Personal or Business  Placement - Day of Month  \\\n0             Business                         9   \n1             Personal                        12   \n2             Business                        30   \n3             Business                        15   \n4             Personal                        13   \n\n   Placement - Weekday (Mo = 1) Placement - Time  Confirmation - Day of Month  \\\n0                             5       9:35:46 AM                            9   \n1                             5      11:16:16 AM                           12   \n2                             2      12:39:25 PM                           30   \n3                             5       9:25:34 AM                           15   \n4                             1       9:55:18 AM                           13   \n\n   Confirmation - Weekday (Mo = 1)  ... Pickup - Weekday (Mo = 1)  \\\n0                                5  ...                         5   \n1                                5  ...                         5   \n2                                2  ...                         2   \n3                                5  ...                         5   \n4                                1  ...                         1   \n\n   Pickup - Time  Distance (KM) Temperature  Precipitation in millimeters  \\\n0    10:27:30 AM              4        20.4                           NaN   \n1    11:44:09 AM             16        26.4                           NaN   \n2    12:53:03 PM              3         NaN                           NaN   \n3     9:43:06 AM              9        19.2                           NaN   \n4    10:05:23 AM              9        15.4                           NaN   \n\n   Pickup Lat Pickup Long  Destination Lat  Destination Long      Rider Id  \n0   -1.317755   36.830370        -1.300406         36.829741  Rider_Id_432  \n1   -1.351453   36.899315        -1.295004         36.814358  Rider_Id_856  \n2   -1.308284   36.843419        -1.300921         36.828195  Rider_Id_155  \n3   -1.281301   36.832396        -1.257147         36.795063  Rider_Id_855  \n4   -1.266597   36.792118        -1.295041         36.809817  Rider_Id_770  \n\n[5 rows x 25 columns]",
      "text/html": "<div>\n<style scoped>\n    .dataframe tbody tr th:only-of-type {\n        vertical-align: middle;\n    }\n\n    .dataframe tbody tr th {\n        vertical-align: top;\n    }\n\n    .dataframe thead th {\n        text-align: right;\n    }\n</style>\n<table border=\"1\" class=\"dataframe\">\n  <thead>\n    <tr style=\"text-align: right;\">\n      <th></th>\n      <th>Order No</th>\n      <th>User Id</th>\n      <th>Vehicle Type</th>\n      <th>Platform Type</th>\n      <th>Personal or Business</th>\n      <th>Placement - Day of Month</th>\n      <th>Placement - Weekday (Mo = 1)</th>\n      <th>Placement - Time</th>\n      <th>Confirmation - Day of Month</th>\n      <th>Confirmation - Weekday (Mo = 1)</th>\n      <th>...</th>\n      <th>Pickup - Weekday (Mo = 1)</th>\n      <th>Pickup - Time</th>\n      <th>Distance (KM)</th>\n      <th>Temperature</th>\n      <th>Precipitation in millimeters</th>\n      <th>Pickup Lat</th>\n      <th>Pickup Long</th>\n      <th>Destination Lat</th>\n      <th>Destination Long</th>\n      <th>Rider Id</th>\n    </tr>\n  </thead>\n  <tbody>\n    <tr>\n      <th>0</th>\n      <td>Order_No_4211</td>\n      <td>User_Id_633</td>\n      <td>Bike</td>\n      <td>3</td>\n      <td>Business</td>\n      <td>9</td>\n      <td>5</td>\n      <td>9:35:46 AM</td>\n      <td>9</td>\n      <td>5</td>\n      <td>...</td>\n      <td>5</td>\n      <td>10:27:30 AM</td>\n      <td>4</td>\n      <td>20.4</td>\n      <td>NaN</td>\n      <td>-1.317755</td>\n      <td>36.830370</td>\n      <td>-1.300406</td>\n      <td>36.829741</td>\n      <td>Rider_Id_432</td>\n    </tr>\n    <tr>\n      <th>1</th>\n      <td>Order_No_25375</td>\n      <td>User_Id_2285</td>\n      <td>Bike</td>\n      <td>3</td>\n      <td>Personal</td>\n      <td>12</td>\n      <td>5</td>\n      <td>11:16:16 AM</td>\n      <td>12</td>\n      <td>5</td>\n      <td>...</td>\n      <td>5</td>\n      <td>11:44:09 AM</td>\n      <td>16</td>\n      <td>26.4</td>\n      <td>NaN</td>\n      <td>-1.351453</td>\n      <td>36.899315</td>\n      <td>-1.295004</td>\n      <td>36.814358</td>\n      <td>Rider_Id_856</td>\n    </tr>\n    <tr>\n      <th>2</th>\n      <td>Order_No_1899</td>\n      <td>User_Id_265</td>\n      <td>Bike</td>\n      <td>3</td>\n      <td>Business</td>\n      <td>30</td>\n      <td>2</td>\n      <td>12:39:25 PM</td>\n      <td>30</td>\n      <td>2</td>\n      <td>...</td>\n      <td>2</td>\n      <td>12:53:03 PM</td>\n      <td>3</td>\n      <td>NaN</td>\n      <td>NaN</td>\n      <td>-1.308284</td>\n      <td>36.843419</td>\n      <td>-1.300921</td>\n      <td>36.828195</td>\n      <td>Rider_Id_155</td>\n    </tr>\n    <tr>\n      <th>3</th>\n      <td>Order_No_9336</td>\n      <td>User_Id_1402</td>\n      <td>Bike</td>\n      <td>3</td>\n      <td>Business</td>\n      <td>15</td>\n      <td>5</td>\n      <td>9:25:34 AM</td>\n      <td>15</td>\n      <td>5</td>\n      <td>...</td>\n      <td>5</td>\n      <td>9:43:06 AM</td>\n      <td>9</td>\n      <td>19.2</td>\n      <td>NaN</td>\n      <td>-1.281301</td>\n      <td>36.832396</td>\n      <td>-1.257147</td>\n      <td>36.795063</td>\n      <td>Rider_Id_855</td>\n    </tr>\n    <tr>\n      <th>4</th>\n      <td>Order_No_27883</td>\n      <td>User_Id_1737</td>\n      <td>Bike</td>\n      <td>1</td>\n      <td>Personal</td>\n      <td>13</td>\n      <td>1</td>\n      <td>9:55:18 AM</td>\n      <td>13</td>\n      <td>1</td>\n      <td>...</td>\n      <td>1</td>\n      <td>10:05:23 AM</td>\n      <td>9</td>\n      <td>15.4</td>\n      <td>NaN</td>\n      <td>-1.266597</td>\n      <td>36.792118</td>\n      <td>-1.295041</td>\n      <td>36.809817</td>\n      <td>Rider_Id_770</td>\n    </tr>\n  </tbody>\n</table>\n<p>5 rows × 25 columns</p>\n</div>"
     },
     "metadata": {},
     "execution_count": 3
    }
   ],
   "source": [
    "# Cleaning the data\n",
    "\n",
    "# Allignment of Dataset\n",
    "\n",
    "train = train[['Order No', 'User Id', 'Vehicle Type', 'Platform Type',\n",
    "       'Personal or Business', 'Placement - Day of Month',\n",
    "       'Placement - Weekday (Mo = 1)', 'Placement - Time',\n",
    "       'Confirmation - Day of Month', 'Confirmation - Weekday (Mo = 1)',\n",
    "       'Confirmation - Time', 'Arrival at Pickup - Day of Month',\n",
    "       'Arrival at Pickup - Weekday (Mo = 1)', 'Arrival at Pickup - Time',\n",
    "       'Pickup - Day of Month', 'Pickup - Weekday (Mo = 1)', 'Pickup - Time',\n",
    "       'Distance (KM)', 'Temperature', 'Precipitation in millimeters',\n",
    "       'Pickup Lat', 'Pickup Long', 'Destination Lat', 'Destination Long',\n",
    "       'Rider Id']]\n",
    "       \n",
    "\n",
    "\n",
    "# check which data type we are dealing with\n",
    "train.dtypes \n",
    "test.dtypes\n",
    "\n",
    "\n",
    "\n",
    "train.head()\n",
    "    \n",
    "\n",
    "\n",
    "\n",
    "\n",
    "\n"
   ]
  },
  {
   "source": [
    "## Check for Corellated predictors ( x variables) ##"
   ],
   "cell_type": "markdown",
   "metadata": {}
  },
  {
   "cell_type": "code",
   "execution_count": 4,
   "metadata": {},
   "outputs": [
    {
     "output_type": "execute_result",
     "data": {
      "text/plain": "   Platform Type Personal or Business  Placement - Day of Month  \\\n0              3             Business                        27   \n1              3             Business                        17   \n2              3             Business                        27   \n3              3             Business                        17   \n4              3             Business                        11   \n\n   Distance (KM)  Temperature  Precipitation in millimeters  Pickup Lat  \\\n0              8          NaN                           NaN   -1.333275   \n1              5          NaN                           NaN   -1.272639   \n2              5         22.8                           NaN   -1.290894   \n3              5         24.5                           NaN   -1.290503   \n4              6         24.4                           NaN   -1.281081   \n\n   Pickup Long  Destination Lat  Destination Long  \n0    36.870815        -1.305249         36.822390  \n1    36.794723        -1.277007         36.823907  \n2    36.822971        -1.276574         36.851365  \n3    36.809646        -1.303382         36.790658  \n4    36.814423        -1.266467         36.792161  ",
      "text/html": "<div>\n<style scoped>\n    .dataframe tbody tr th:only-of-type {\n        vertical-align: middle;\n    }\n\n    .dataframe tbody tr th {\n        vertical-align: top;\n    }\n\n    .dataframe thead th {\n        text-align: right;\n    }\n</style>\n<table border=\"1\" class=\"dataframe\">\n  <thead>\n    <tr style=\"text-align: right;\">\n      <th></th>\n      <th>Platform Type</th>\n      <th>Personal or Business</th>\n      <th>Placement - Day of Month</th>\n      <th>Distance (KM)</th>\n      <th>Temperature</th>\n      <th>Precipitation in millimeters</th>\n      <th>Pickup Lat</th>\n      <th>Pickup Long</th>\n      <th>Destination Lat</th>\n      <th>Destination Long</th>\n    </tr>\n  </thead>\n  <tbody>\n    <tr>\n      <th>0</th>\n      <td>3</td>\n      <td>Business</td>\n      <td>27</td>\n      <td>8</td>\n      <td>NaN</td>\n      <td>NaN</td>\n      <td>-1.333275</td>\n      <td>36.870815</td>\n      <td>-1.305249</td>\n      <td>36.822390</td>\n    </tr>\n    <tr>\n      <th>1</th>\n      <td>3</td>\n      <td>Business</td>\n      <td>17</td>\n      <td>5</td>\n      <td>NaN</td>\n      <td>NaN</td>\n      <td>-1.272639</td>\n      <td>36.794723</td>\n      <td>-1.277007</td>\n      <td>36.823907</td>\n    </tr>\n    <tr>\n      <th>2</th>\n      <td>3</td>\n      <td>Business</td>\n      <td>27</td>\n      <td>5</td>\n      <td>22.8</td>\n      <td>NaN</td>\n      <td>-1.290894</td>\n      <td>36.822971</td>\n      <td>-1.276574</td>\n      <td>36.851365</td>\n    </tr>\n    <tr>\n      <th>3</th>\n      <td>3</td>\n      <td>Business</td>\n      <td>17</td>\n      <td>5</td>\n      <td>24.5</td>\n      <td>NaN</td>\n      <td>-1.290503</td>\n      <td>36.809646</td>\n      <td>-1.303382</td>\n      <td>36.790658</td>\n    </tr>\n    <tr>\n      <th>4</th>\n      <td>3</td>\n      <td>Business</td>\n      <td>11</td>\n      <td>6</td>\n      <td>24.4</td>\n      <td>NaN</td>\n      <td>-1.281081</td>\n      <td>36.814423</td>\n      <td>-1.266467</td>\n      <td>36.792161</td>\n    </tr>\n  </tbody>\n</table>\n</div>"
     },
     "metadata": {},
     "execution_count": 4
    }
   ],
   "source": [
    "train.corr()\n",
    "test.corr()\n",
    "# dropping highly correlated predictors\n",
    "train = train.drop(['Placement - Weekday (Mo = 1)', 'Placement - Weekday (Mo = 1)','Confirmation - Day of Month','Confirmation - Weekday (Mo = 1)','Arrival at Pickup - Day of Month','Arrival at Pickup - Weekday (Mo = 1)','Pickup - Day of Month','Pickup - Weekday (Mo = 1)'], axis = 1)\n",
    "\n",
    "test = test.drop(['Placement - Weekday (Mo = 1)', 'Placement - Weekday (Mo = 1)','Confirmation - Day of Month','Confirmation - Weekday (Mo = 1)','Arrival at Pickup - Day of Month','Arrival at Pickup - Weekday (Mo = 1)','Pickup - Day of Month','Pickup - Weekday (Mo = 1)'], axis = 1)\n",
    "\n",
    "#dropping the irrelevant columns \n",
    "train = train.drop(['Order No', 'User Id','Vehicle Type','Rider Id','Placement - Time', 'Confirmation - Time', 'Arrival at Pickup - Time', 'Pickup - Time'], axis = 1)\n",
    "\n",
    "test = test.drop(['Order No', 'User Id','Vehicle Type','Rider Id','Placement - Time', 'Confirmation - Time', 'Arrival at Pickup - Time', 'Pickup - Time'], axis = 1)\n",
    "\n",
    "\n",
    "test.head()\n",
    "\n"
   ]
  },
  {
   "source": [
    "\n",
    "## Encoding the categorical data ##\n",
    " - Bussiness column needs to be encoded into dummy variables  so i can be of type int \n"
   ],
   "cell_type": "markdown",
   "metadata": {}
  },
  {
   "cell_type": "code",
   "execution_count": 6,
   "metadata": {},
   "outputs": [
    {
     "output_type": "execute_result",
     "data": {
      "text/plain": "   Platform Type  Placement - Day of Month  Distance (KM)  Temperature  \\\n0              3                        27              8     23.24612   \n1              3                        17              5     23.24612   \n2              3                        27              5     22.80000   \n3              3                        17              5     24.50000   \n4              3                        11              6     24.40000   \n\n   Precipitation in millimeters  Pickup Lat  Pickup Long  Destination Lat  \\\n0                      6.651759   -1.333275    36.870815        -1.305249   \n1                      6.651759   -1.272639    36.794723        -1.277007   \n2                      6.651759   -1.290894    36.822971        -1.276574   \n3                      6.651759   -1.290503    36.809646        -1.303382   \n4                      6.651759   -1.281081    36.814423        -1.266467   \n\n   Destination Long  Personal or Business_Business  \\\n0         36.822390                              1   \n1         36.823907                              1   \n2         36.851365                              1   \n3         36.790658                              1   \n4         36.792161                              1   \n\n   Personal or Business_Personal  \n0                              0  \n1                              0  \n2                              0  \n3                              0  \n4                              0  ",
      "text/html": "<div>\n<style scoped>\n    .dataframe tbody tr th:only-of-type {\n        vertical-align: middle;\n    }\n\n    .dataframe tbody tr th {\n        vertical-align: top;\n    }\n\n    .dataframe thead th {\n        text-align: right;\n    }\n</style>\n<table border=\"1\" class=\"dataframe\">\n  <thead>\n    <tr style=\"text-align: right;\">\n      <th></th>\n      <th>Platform Type</th>\n      <th>Placement - Day of Month</th>\n      <th>Distance (KM)</th>\n      <th>Temperature</th>\n      <th>Precipitation in millimeters</th>\n      <th>Pickup Lat</th>\n      <th>Pickup Long</th>\n      <th>Destination Lat</th>\n      <th>Destination Long</th>\n      <th>Personal or Business_Business</th>\n      <th>Personal or Business_Personal</th>\n    </tr>\n  </thead>\n  <tbody>\n    <tr>\n      <th>0</th>\n      <td>3</td>\n      <td>27</td>\n      <td>8</td>\n      <td>23.24612</td>\n      <td>6.651759</td>\n      <td>-1.333275</td>\n      <td>36.870815</td>\n      <td>-1.305249</td>\n      <td>36.822390</td>\n      <td>1</td>\n      <td>0</td>\n    </tr>\n    <tr>\n      <th>1</th>\n      <td>3</td>\n      <td>17</td>\n      <td>5</td>\n      <td>23.24612</td>\n      <td>6.651759</td>\n      <td>-1.272639</td>\n      <td>36.794723</td>\n      <td>-1.277007</td>\n      <td>36.823907</td>\n      <td>1</td>\n      <td>0</td>\n    </tr>\n    <tr>\n      <th>2</th>\n      <td>3</td>\n      <td>27</td>\n      <td>5</td>\n      <td>22.80000</td>\n      <td>6.651759</td>\n      <td>-1.290894</td>\n      <td>36.822971</td>\n      <td>-1.276574</td>\n      <td>36.851365</td>\n      <td>1</td>\n      <td>0</td>\n    </tr>\n    <tr>\n      <th>3</th>\n      <td>3</td>\n      <td>17</td>\n      <td>5</td>\n      <td>24.50000</td>\n      <td>6.651759</td>\n      <td>-1.290503</td>\n      <td>36.809646</td>\n      <td>-1.303382</td>\n      <td>36.790658</td>\n      <td>1</td>\n      <td>0</td>\n    </tr>\n    <tr>\n      <th>4</th>\n      <td>3</td>\n      <td>11</td>\n      <td>6</td>\n      <td>24.40000</td>\n      <td>6.651759</td>\n      <td>-1.281081</td>\n      <td>36.814423</td>\n      <td>-1.266467</td>\n      <td>36.792161</td>\n      <td>1</td>\n      <td>0</td>\n    </tr>\n  </tbody>\n</table>\n</div>"
     },
     "metadata": {},
     "execution_count": 6
    }
   ],
   "source": [
    "test = pd.get_dummies(test)\n",
    "train = pd.get_dummies(train)\n",
    "\n",
    "# filling the missing data\n",
    "\n",
    "train = train.fillna(train.mean())\n",
    "test =  test.fillna(test.mean())\n",
    "\n",
    "test.head()"
   ]
  },
  {
   "source": [
    "## Feature Scaling ##"
   ],
   "cell_type": "markdown",
   "metadata": {}
  },
  {
   "cell_type": "code",
   "execution_count": null,
   "metadata": {},
   "outputs": [],
   "source": []
  },
  {
   "source": [
    "## Creating y and x metrics ##"
   ],
   "cell_type": "markdown",
   "metadata": {}
  },
  {
   "cell_type": "code",
   "execution_count": null,
   "metadata": {},
   "outputs": [],
   "source": []
  },
  {
   "source": [
    "## Spliting Data into the training and the test set ##"
   ],
   "cell_type": "markdown",
   "metadata": {}
  },
  {
   "cell_type": "code",
   "execution_count": null,
   "metadata": {},
   "outputs": [],
   "source": []
  },
  {
   "source": [
    "## Fitting the multivariate Regression model ##"
   ],
   "cell_type": "markdown",
   "metadata": {}
  },
  {
   "cell_type": "code",
   "execution_count": null,
   "metadata": {},
   "outputs": [],
   "source": []
  },
  {
   "source": [
    "## Assesing model accuracy ##"
   ],
   "cell_type": "markdown",
   "metadata": {}
  },
  {
   "cell_type": "code",
   "execution_count": null,
   "metadata": {},
   "outputs": [],
   "source": []
  },
  {
   "cell_type": "code",
   "execution_count": null,
   "metadata": {},
   "outputs": [],
   "source": []
  }
 ]
}